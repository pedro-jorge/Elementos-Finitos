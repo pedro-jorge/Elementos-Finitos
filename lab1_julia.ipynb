{
  "cells": [
    {
      "cell_type": "markdown",
      "metadata": {
        "id": "fPYQf8ipaYuU"
      },
      "source": [
        "Pedro Jorge Oliveira Câmara - DRE: 120182069\n",
        "\n",
        "As partes teóricas estão no outro pdf!"
      ]
    },
    {
      "cell_type": "markdown",
      "metadata": {
        "id": "WOUMpTcAaYuW"
      },
      "source": [
        "### Imports e definições"
      ]
    },
    {
      "cell_type": "code",
      "source": [
        "import Pkg;\n",
        "Pkg.add(\"Plots\")\n",
        "Pkg.add(\"GaussQuadrature\")\n",
        "Pkg.add(\"SparseArrays\")\n",
        "Pkg.add(\"DataFrames\")"
      ],
      "metadata": {
        "id": "-gP4y-Uhazls",
        "outputId": "1cc117d1-ca95-4f60-d122-5696d23afcf3",
        "colab": {
          "base_uri": "https://localhost:8080/"
        }
      },
      "execution_count": null,
      "outputs": [
        {
          "output_type": "stream",
          "name": "stderr",
          "text": [
            "\u001b[32m\u001b[1m   Resolving\u001b[22m\u001b[39m package versions...\n",
            "\u001b[32m\u001b[1m  No Changes\u001b[22m\u001b[39m to `~/.julia/environments/v1.8/Project.toml`\n",
            "\u001b[32m\u001b[1m  No Changes\u001b[22m\u001b[39m to `~/.julia/environments/v1.8/Manifest.toml`\n",
            "\u001b[32m\u001b[1m   Resolving\u001b[22m\u001b[39m package versions...\n",
            "\u001b[32m\u001b[1m  No Changes\u001b[22m\u001b[39m to `~/.julia/environments/v1.8/Project.toml`\n",
            "\u001b[32m\u001b[1m  No Changes\u001b[22m\u001b[39m to `~/.julia/environments/v1.8/Manifest.toml`\n",
            "\u001b[32m\u001b[1m   Resolving\u001b[22m\u001b[39m package versions...\n",
            "\u001b[32m\u001b[1m  No Changes\u001b[22m\u001b[39m to `~/.julia/environments/v1.8/Project.toml`\n",
            "\u001b[32m\u001b[1m  No Changes\u001b[22m\u001b[39m to `~/.julia/environments/v1.8/Manifest.toml`\n",
            "\u001b[32m\u001b[1m   Resolving\u001b[22m\u001b[39m package versions...\n",
            "\u001b[32m\u001b[1m  No Changes\u001b[22m\u001b[39m to `~/.julia/environments/v1.8/Project.toml`\n",
            "\u001b[32m\u001b[1m  No Changes\u001b[22m\u001b[39m to `~/.julia/environments/v1.8/Manifest.toml`\n"
          ]
        }
      ]
    },
    {
      "cell_type": "code",
      "execution_count": null,
      "metadata": {
        "id": "mGHdxDTWaYuW",
        "outputId": "a02f9e9a-5326-4f10-f916-023a9574cd63",
        "colab": {
          "base_uri": "https://localhost:8080/"
        }
      },
      "outputs": [
        {
          "output_type": "execute_result",
          "data": {
            "text/plain": [
              "f (generic function with 1 method)"
            ]
          },
          "metadata": {},
          "execution_count": 26
        }
      ],
      "source": [
        "using LinearAlgebra\n",
        "using Plots\n",
        "using GaussQuadrature\n",
        "using SparseArrays\n",
        "using DataFrames\n",
        "\n",
        "# definições das constantes utilizadas\n",
        "α = 1\n",
        "β = 1\n",
        "γ = 1\n",
        "\n",
        "u_0 = 0\n",
        "u_1 = 0\n",
        "\n",
        "x_min = 0\n",
        "x_max = 1\n",
        "\n",
        "\n",
        "# definição das funções u, f\n",
        "function u(x)\n",
        "    return sin(π*x)\n",
        "end\n",
        "\n",
        "\n",
        "function f(x)\n",
        "    return (α*π^2 + β)*sin(π*x) + γ*π*cos(π*x)\n",
        "end"
      ]
    },
    {
      "cell_type": "markdown",
      "metadata": {
        "id": "nq04-oldaYuX"
      },
      "source": [
        "### Galerkin e Matriz-Vetor"
      ]
    },
    {
      "cell_type": "markdown",
      "metadata": {
        "id": "woLTjxg-aYuX"
      },
      "source": [
        "#### Definições de $\\varphi$ e $\\frac{d \\varphi}{d \\xi}$"
      ]
    },
    {
      "cell_type": "code",
      "execution_count": null,
      "metadata": {
        "id": "TkkbhWy4aYuX",
        "outputId": "35928689-4e8a-417f-f4b9-1d898a001676",
        "colab": {
          "base_uri": "https://localhost:8080/"
        }
      },
      "outputs": [
        {
          "output_type": "execute_result",
          "data": {
            "text/plain": [
              "dφ (generic function with 1 method)"
            ]
          },
          "metadata": {},
          "execution_count": 27
        }
      ],
      "source": [
        "function φ(ξ, a)\n",
        "    if a == 1\n",
        "        return (1-ξ) / 2\n",
        "    elseif a == 2\n",
        "        return (1+ξ) / 2\n",
        "    end\n",
        "\n",
        "    return nothing\n",
        "end\n",
        "\n",
        "\n",
        "function dφ(ξ, a)\n",
        "    if a == 1\n",
        "        return -1/2\n",
        "    elseif a == 2\n",
        "        return 1/2\n",
        "    end\n",
        "\n",
        "    return nothing\n",
        "end\n"
      ]
    },
    {
      "cell_type": "markdown",
      "metadata": {
        "id": "4BpJmE-xaYuY"
      },
      "source": [
        "#### Montagem da matriz e do vetor locais"
      ]
    },
    {
      "cell_type": "markdown",
      "metadata": {
        "id": "kUrtUZvKaYuY"
      },
      "source": [
        "Cálculo da matriz local $K^e$ via quadratura gaussiana"
      ]
    },
    {
      "cell_type": "code",
      "execution_count": null,
      "metadata": {
        "id": "HwLy-3uvaYuY",
        "outputId": "1f2966a5-d5cd-44d4-ff6e-a4fd3312045d",
        "colab": {
          "base_uri": "https://localhost:8080/"
        }
      },
      "outputs": [
        {
          "output_type": "execute_result",
          "data": {
            "text/plain": [
              "get_K_e (generic function with 1 method)"
            ]
          },
          "metadata": {},
          "execution_count": 28
        }
      ],
      "source": [
        "function get_K_e(h)\n",
        "    # A e B são as constantes da equação da K local via quadratura gaussiana\n",
        "    # respectivamente as constantes do primeiro e segundo termo da equação\n",
        "    A = 2*α/h\n",
        "    B = β*h/2\n",
        "\n",
        "    # dois pontos para a quadratura\n",
        "    n_points = 2\n",
        "    P, W = legendre(n_points)\n",
        "\n",
        "    K_e = zeros(2, 2)\n",
        "\n",
        "    for a = 1:2\n",
        "        for b = 1:2\n",
        "            for j = 1:n_points\n",
        "                # operação diretamente da equação da K local\n",
        "                K_e[a, b] += W[j] * (A*dφ(P[j], b)*dφ(P[j], a) + B*φ(P[j], b)*φ(P[j], a) + γ*dφ(P[j], b)*φ(P[j], a))\n",
        "            end\n",
        "        end\n",
        "    end\n",
        "\n",
        "    return K_e\n",
        "end\n",
        "\n"
      ]
    },
    {
      "cell_type": "markdown",
      "metadata": {
        "id": "Tbqr1JaCaYuZ"
      },
      "source": [
        "Cálculo do vetor local $F^e$ via quadratura gaussiana"
      ]
    },
    {
      "cell_type": "code",
      "execution_count": null,
      "metadata": {
        "id": "M92ew-xTaYuZ",
        "outputId": "67bad5b2-d0aa-4873-c23c-07968e23e5f0",
        "colab": {
          "base_uri": "https://localhost:8080/"
        }
      },
      "outputs": [
        {
          "output_type": "execute_result",
          "data": {
            "text/plain": [
              "get_F_e (generic function with 1 method)"
            ]
          },
          "metadata": {},
          "execution_count": 29
        }
      ],
      "source": [
        "# faz o mapeamento da troca de variável de ξ para x\n",
        "function x_from_ξ(ξ, h, x1e)\n",
        "    return (ξ+1) * h/2 + x1e\n",
        "end\n",
        "\n",
        "function get_F_e(h, x1e, P, W)\n",
        "    F_e = zeros(2)\n",
        "\n",
        "    for a = 1:2\n",
        "        for j in 1:length(P)\n",
        "            x = x_from_ξ(P[j], h, x1e)\n",
        "            # operação diretamente da equação do F local\n",
        "            F_e[a] += (h/2) * W[j] * f(x) * φ(P[j], a)\n",
        "        end\n",
        "    end\n",
        "\n",
        "    return F_e\n",
        "end"
      ]
    },
    {
      "cell_type": "markdown",
      "metadata": {
        "id": "CZyTgSTjaYuZ"
      },
      "source": [
        "#### Montagem da matriz e do vetor globais"
      ]
    },
    {
      "cell_type": "markdown",
      "metadata": {
        "id": "wjOfhdxWaYuZ"
      },
      "source": [
        "Funções que calculam a matriz $LG$ e o vetor $EQ$"
      ]
    },
    {
      "cell_type": "code",
      "execution_count": null,
      "metadata": {
        "id": "CcE0aGrNaYuZ",
        "outputId": "d027d537-cd53-4eba-e2fa-ebd0f1b780c2",
        "colab": {
          "base_uri": "https://localhost:8080/"
        }
      },
      "outputs": [
        {
          "output_type": "execute_result",
          "data": {
            "text/plain": [
              "get_EQ (generic function with 1 method)"
            ]
          },
          "metadata": {},
          "execution_count": 30
        }
      ],
      "source": [
        "# monta a matriz LG pela sua definição\n",
        "# [1 2 ... n_elements]\n",
        "# [2 3 ... n_elements+1]\n",
        "function get_LG(n_elements)\n",
        "    return transpose(hcat(1:n_elements, 2:n_elements+1))\n",
        "end\n",
        "\n",
        "\n",
        "# monta o vetor EQ pela sua definição\n",
        "# [m+1 1 2 ... m+1] com m = n_elements-1\n",
        "function get_EQ(n_elements)\n",
        "    m = n_elements-1\n",
        "    EQ = vcat(m+1, 1:m, m+1)\n",
        "\n",
        "    return m, EQ\n",
        "end"
      ]
    },
    {
      "cell_type": "markdown",
      "metadata": {
        "id": "HSRloar6aYua"
      },
      "source": [
        "Cálculo da matriz $K$ global"
      ]
    },
    {
      "cell_type": "code",
      "execution_count": null,
      "metadata": {
        "id": "R-xHHp5zaYua",
        "outputId": "ad361722-6ee7-4bfc-80f9-4c62d3ebdf6f",
        "colab": {
          "base_uri": "https://localhost:8080/"
        }
      },
      "outputs": [
        {
          "output_type": "execute_result",
          "data": {
            "text/plain": [
              "get_K (generic function with 1 method)"
            ]
          },
          "metadata": {},
          "execution_count": 31
        }
      ],
      "source": [
        "function get_K(n_elements, m, EQoLG)\n",
        "    h = 1/n_elements\n",
        "\n",
        "    K = spzeros(m+1, m+1)\n",
        "    K_e = get_K_e(h)\n",
        "\n",
        "    for e = 1:n_elements\n",
        "        for a = 1:2\n",
        "            i = EQoLG[a, e]\n",
        "            for b = 1:2\n",
        "                j = EQoLG[b, e]\n",
        "                K[i, j] += K_e[a, b]\n",
        "            end\n",
        "        end\n",
        "    end\n",
        "\n",
        "    return K[1:m, 1:m]\n",
        "end\n"
      ]
    },
    {
      "cell_type": "markdown",
      "metadata": {
        "id": "xZ4elUfqaYua"
      },
      "source": [
        "Cálculo do vetor $F$ global"
      ]
    },
    {
      "cell_type": "code",
      "execution_count": null,
      "metadata": {
        "id": "Gk7tv7XQaYua",
        "outputId": "3d04d973-57eb-4980-8e02-724d86d4347e",
        "colab": {
          "base_uri": "https://localhost:8080/"
        }
      },
      "outputs": [
        {
          "output_type": "execute_result",
          "data": {
            "text/plain": [
              "get_F (generic function with 1 method)"
            ]
          },
          "metadata": {},
          "execution_count": 32
        }
      ],
      "source": [
        "function get_F(n_elements, m, EQoLG)\n",
        "    h = 1/n_elements\n",
        "    F = zeros(m+1)\n",
        "\n",
        "    n_points = 5\n",
        "    P, W = legendre(n_points)\n",
        "\n",
        "    for e = 1:n_elements\n",
        "        F_e = get_F_e(h, (e-1)*h, P, W)\n",
        "        for a = 1:2\n",
        "            i = EQoLG[a, e]\n",
        "            F[i] += F_e[a]\n",
        "        end\n",
        "    end\n",
        "\n",
        "    return F[1:m]\n",
        "end\n"
      ]
    },
    {
      "cell_type": "markdown",
      "metadata": {
        "id": "OCjs_AxyaYua"
      },
      "source": [
        "#### Erro $L2$"
      ]
    },
    {
      "cell_type": "code",
      "execution_count": null,
      "metadata": {
        "id": "_QCFhwIfaYua",
        "outputId": "27f5c5f8-9087-40b1-e06f-cc39df32317a",
        "colab": {
          "base_uri": "https://localhost:8080/"
        }
      },
      "outputs": [
        {
          "output_type": "execute_result",
          "data": {
            "text/plain": [
              "error_L2_norm (generic function with 1 method)"
            ]
          },
          "metadata": {},
          "execution_count": 33
        }
      ],
      "source": [
        "function error_L2_norm(c, n_elements, EQoLG)\n",
        "    h = 1/n_elements\n",
        "    error = 0\n",
        "\n",
        "    n_points = 5\n",
        "    P, W = legendre(n_points)\n",
        "\n",
        "    # aplica φ aos pontos de quadratura\n",
        "    φ1P = φ.(P, 1)\n",
        "    φ2P = φ.(P, 2)\n",
        "\n",
        "    # calcula a equação do erro\n",
        "    for e = 1:n_elements\n",
        "        for j = 1:n_points\n",
        "            x = x_from_ξ(P[j], h, (e-1)*h)\n",
        "            error += W[j] * (u(x) - c[EQoLG[1,e]]*φ1P[j] - c[EQoLG[2, e]]*φ2P[j])^2\n",
        "        end\n",
        "    end\n",
        "\n",
        "    return sqrt(h/2 * error)\n",
        "end"
      ]
    },
    {
      "cell_type": "markdown",
      "metadata": {
        "id": "388mTzYtaYua"
      },
      "source": [
        "#### Resultados numéricos - Comparação"
      ]
    },
    {
      "cell_type": "markdown",
      "metadata": {
        "id": "bkaRo_QYaYua"
      },
      "source": [
        "Utilizando $4$ elementos e $h = 1/4$"
      ]
    },
    {
      "cell_type": "code",
      "execution_count": null,
      "metadata": {
        "id": "wPLeR9tnaYua",
        "outputId": "23ab9890-a640-4c4a-ee92-a07cd6592eb6",
        "colab": {
          "base_uri": "https://localhost:8080/"
        }
      },
      "outputs": [
        {
          "output_type": "execute_result",
          "data": {
            "text/plain": [
              "3-element Vector{Float64}:\n",
              " 0.7137289051760546\n",
              " 1.0053005170657479\n",
              " 0.7076694368382578"
            ]
          },
          "metadata": {},
          "execution_count": 34
        }
      ],
      "source": [
        "n_elements = 4\n",
        "h = 1/n_elements\n",
        "\n",
        "LG = get_LG(n_elements)\n",
        "m, EQ = get_EQ(n_elements)\n",
        "EQoLG = EQ[LG]\n",
        "\n",
        "K = get_K(n_elements, m, EQoLG)\n",
        "F = get_F(n_elements, m, EQoLG)\n",
        "\n",
        "c = K \\ F"
      ]
    },
    {
      "cell_type": "code",
      "execution_count": null,
      "metadata": {
        "id": "w4yUsCmWaYub",
        "outputId": "0e6a98d8-88e3-49bb-984f-384a763c11b6",
        "colab": {
          "base_uri": "https://localhost:8080/",
          "height": 421
        }
      },
      "outputs": [
        {
          "output_type": "execute_result",
          "data": {
            "image/svg+xml": "<?xml version=\"1.0\" encoding=\"utf-8\"?>\n<svg xmlns=\"http://www.w3.org/2000/svg\" xmlns:xlink=\"http://www.w3.org/1999/xlink\" width=\"600\" height=\"400\" viewBox=\"0 0 2400 1600\">\n<defs>\n  <clipPath id=\"clip340\">\n    <rect x=\"0\" y=\"0\" width=\"2400\" height=\"1600\"/>\n  </clipPath>\n</defs>\n<path clip-path=\"url(#clip340)\" d=\"M0 1600 L2400 1600 L2400 0 L0 0  Z\" fill=\"#ffffff\" fill-rule=\"evenodd\" fill-opacity=\"1\"/>\n<defs>\n  <clipPath id=\"clip341\">\n    <rect x=\"480\" y=\"0\" width=\"1681\" height=\"1600\"/>\n  </clipPath>\n</defs>\n<path clip-path=\"url(#clip340)\" d=\"M186.274 1486.45 L2352.76 1486.45 L2352.76 123.472 L186.274 123.472  Z\" fill=\"#ffffff\" fill-rule=\"evenodd\" fill-opacity=\"1\"/>\n<defs>\n  <clipPath id=\"clip342\">\n    <rect x=\"186\" y=\"123\" width=\"2167\" height=\"1364\"/>\n  </clipPath>\n</defs>\n<polyline clip-path=\"url(#clip342)\" style=\"stroke:#000000; stroke-linecap:round; stroke-linejoin:round; stroke-width:2; stroke-opacity:0.1; fill:none\" points=\"247.59,1486.45 247.59,123.472 \"/>\n<polyline clip-path=\"url(#clip342)\" style=\"stroke:#000000; stroke-linecap:round; stroke-linejoin:round; stroke-width:2; stroke-opacity:0.1; fill:none\" points=\"758.552,1486.45 758.552,123.472 \"/>\n<polyline clip-path=\"url(#clip342)\" style=\"stroke:#000000; stroke-linecap:round; stroke-linejoin:round; stroke-width:2; stroke-opacity:0.1; fill:none\" points=\"1269.51,1486.45 1269.51,123.472 \"/>\n<polyline clip-path=\"url(#clip342)\" style=\"stroke:#000000; stroke-linecap:round; stroke-linejoin:round; stroke-width:2; stroke-opacity:0.1; fill:none\" points=\"1780.48,1486.45 1780.48,123.472 \"/>\n<polyline clip-path=\"url(#clip342)\" style=\"stroke:#000000; stroke-linecap:round; stroke-linejoin:round; stroke-width:2; stroke-opacity:0.1; fill:none\" points=\"2291.44,1486.45 2291.44,123.472 \"/>\n<polyline clip-path=\"url(#clip342)\" style=\"stroke:#000000; stroke-linecap:round; stroke-linejoin:round; stroke-width:2; stroke-opacity:0.1; fill:none\" points=\"186.274,1447.87 2352.76,1447.87 \"/>\n<polyline clip-path=\"url(#clip342)\" style=\"stroke:#000000; stroke-linecap:round; stroke-linejoin:round; stroke-width:2; stroke-opacity:0.1; fill:none\" points=\"186.274,1128.11 2352.76,1128.11 \"/>\n<polyline clip-path=\"url(#clip342)\" style=\"stroke:#000000; stroke-linecap:round; stroke-linejoin:round; stroke-width:2; stroke-opacity:0.1; fill:none\" points=\"186.274,808.35 2352.76,808.35 \"/>\n<polyline clip-path=\"url(#clip342)\" style=\"stroke:#000000; stroke-linecap:round; stroke-linejoin:round; stroke-width:2; stroke-opacity:0.1; fill:none\" points=\"186.274,488.588 2352.76,488.588 \"/>\n<polyline clip-path=\"url(#clip342)\" style=\"stroke:#000000; stroke-linecap:round; stroke-linejoin:round; stroke-width:2; stroke-opacity:0.1; fill:none\" points=\"186.274,168.827 2352.76,168.827 \"/>\n<polyline clip-path=\"url(#clip340)\" style=\"stroke:#000000; stroke-linecap:round; stroke-linejoin:round; stroke-width:4; stroke-opacity:1; fill:none\" points=\"186.274,1486.45 2352.76,1486.45 \"/>\n<polyline clip-path=\"url(#clip340)\" style=\"stroke:#000000; stroke-linecap:round; stroke-linejoin:round; stroke-width:4; stroke-opacity:1; fill:none\" points=\"247.59,1486.45 247.59,1467.55 \"/>\n<polyline clip-path=\"url(#clip340)\" style=\"stroke:#000000; stroke-linecap:round; stroke-linejoin:round; stroke-width:4; stroke-opacity:1; fill:none\" points=\"758.552,1486.45 758.552,1467.55 \"/>\n<polyline clip-path=\"url(#clip340)\" style=\"stroke:#000000; stroke-linecap:round; stroke-linejoin:round; stroke-width:4; stroke-opacity:1; fill:none\" points=\"1269.51,1486.45 1269.51,1467.55 \"/>\n<polyline clip-path=\"url(#clip340)\" style=\"stroke:#000000; stroke-linecap:round; stroke-linejoin:round; stroke-width:4; stroke-opacity:1; fill:none\" points=\"1780.48,1486.45 1780.48,1467.55 \"/>\n<polyline clip-path=\"url(#clip340)\" style=\"stroke:#000000; stroke-linecap:round; stroke-linejoin:round; stroke-width:4; stroke-opacity:1; fill:none\" points=\"2291.44,1486.45 2291.44,1467.55 \"/>\n<path clip-path=\"url(#clip340)\" d=\"M209.893 1517.37 Q206.282 1517.37 204.453 1520.93 Q202.648 1524.47 202.648 1531.6 Q202.648 1538.71 204.453 1542.27 Q206.282 1545.82 209.893 1545.82 Q213.527 1545.82 215.333 1542.27 Q217.161 1538.71 217.161 1531.6 Q217.161 1524.47 215.333 1520.93 Q213.527 1517.37 209.893 1517.37 M209.893 1513.66 Q215.703 1513.66 218.759 1518.27 Q221.837 1522.85 221.837 1531.6 Q221.837 1540.33 218.759 1544.94 Q215.703 1549.52 209.893 1549.52 Q204.083 1549.52 201.004 1544.94 Q197.949 1540.33 197.949 1531.6 Q197.949 1522.85 201.004 1518.27 Q204.083 1513.66 209.893 1513.66 Z\" fill=\"#000000\" fill-rule=\"nonzero\" fill-opacity=\"1\" /><path clip-path=\"url(#clip340)\" d=\"M230.055 1542.97 L234.939 1542.97 L234.939 1548.85 L230.055 1548.85 L230.055 1542.97 Z\" fill=\"#000000\" fill-rule=\"nonzero\" fill-opacity=\"1\" /><path clip-path=\"url(#clip340)\" d=\"M255.124 1517.37 Q251.513 1517.37 249.684 1520.93 Q247.879 1524.47 247.879 1531.6 Q247.879 1538.71 249.684 1542.27 Q251.513 1545.82 255.124 1545.82 Q258.758 1545.82 260.564 1542.27 Q262.393 1538.71 262.393 1531.6 Q262.393 1524.47 260.564 1520.93 Q258.758 1517.37 255.124 1517.37 M255.124 1513.66 Q260.934 1513.66 263.99 1518.27 Q267.069 1522.85 267.069 1531.6 Q267.069 1540.33 263.99 1544.94 Q260.934 1549.52 255.124 1549.52 Q249.314 1549.52 246.235 1544.94 Q243.18 1540.33 243.18 1531.6 Q243.18 1522.85 246.235 1518.27 Q249.314 1513.66 255.124 1513.66 Z\" fill=\"#000000\" fill-rule=\"nonzero\" fill-opacity=\"1\" /><path clip-path=\"url(#clip340)\" d=\"M285.286 1517.37 Q281.675 1517.37 279.846 1520.93 Q278.041 1524.47 278.041 1531.6 Q278.041 1538.71 279.846 1542.27 Q281.675 1545.82 285.286 1545.82 Q288.92 1545.82 290.726 1542.27 Q292.555 1538.71 292.555 1531.6 Q292.555 1524.47 290.726 1520.93 Q288.92 1517.37 285.286 1517.37 M285.286 1513.66 Q291.096 1513.66 294.152 1518.27 Q297.23 1522.85 297.23 1531.6 Q297.23 1540.33 294.152 1544.94 Q291.096 1549.52 285.286 1549.52 Q279.476 1549.52 276.397 1544.94 Q273.342 1540.33 273.342 1531.6 Q273.342 1522.85 276.397 1518.27 Q279.476 1513.66 285.286 1513.66 Z\" fill=\"#000000\" fill-rule=\"nonzero\" fill-opacity=\"1\" /><path clip-path=\"url(#clip340)\" d=\"M721.353 1517.37 Q717.742 1517.37 715.914 1520.93 Q714.108 1524.47 714.108 1531.6 Q714.108 1538.71 715.914 1542.27 Q717.742 1545.82 721.353 1545.82 Q724.988 1545.82 726.793 1542.27 Q728.622 1538.71 728.622 1531.6 Q728.622 1524.47 726.793 1520.93 Q724.988 1517.37 721.353 1517.37 M721.353 1513.66 Q727.164 1513.66 730.219 1518.27 Q733.298 1522.85 733.298 1531.6 Q733.298 1540.33 730.219 1544.94 Q727.164 1549.52 721.353 1549.52 Q715.543 1549.52 712.465 1544.94 Q709.409 1540.33 709.409 1531.6 Q709.409 1522.85 712.465 1518.27 Q715.543 1513.66 721.353 1513.66 Z\" fill=\"#000000\" fill-rule=\"nonzero\" fill-opacity=\"1\" /><path clip-path=\"url(#clip340)\" d=\"M741.515 1542.97 L746.4 1542.97 L746.4 1548.85 L741.515 1548.85 L741.515 1542.97 Z\" fill=\"#000000\" fill-rule=\"nonzero\" fill-opacity=\"1\" /><path clip-path=\"url(#clip340)\" d=\"M760.612 1544.91 L776.932 1544.91 L776.932 1548.85 L754.987 1548.85 L754.987 1544.91 Q757.649 1542.16 762.233 1537.53 Q766.839 1532.88 768.02 1531.53 Q770.265 1529.01 771.145 1527.27 Q772.048 1525.51 772.048 1523.82 Q772.048 1521.07 770.103 1519.33 Q768.182 1517.6 765.08 1517.6 Q762.881 1517.6 760.427 1518.36 Q757.997 1519.13 755.219 1520.68 L755.219 1515.95 Q758.043 1514.82 760.497 1514.24 Q762.95 1513.66 764.987 1513.66 Q770.358 1513.66 773.552 1516.35 Q776.747 1519.03 776.747 1523.52 Q776.747 1525.65 775.936 1527.57 Q775.149 1529.47 773.043 1532.07 Q772.464 1532.74 769.362 1535.95 Q766.261 1539.15 760.612 1544.91 Z\" fill=\"#000000\" fill-rule=\"nonzero\" fill-opacity=\"1\" /><path clip-path=\"url(#clip340)\" d=\"M786.793 1514.29 L805.149 1514.29 L805.149 1518.22 L791.075 1518.22 L791.075 1526.7 Q792.094 1526.35 793.112 1526.19 Q794.131 1526 795.149 1526 Q800.936 1526 804.316 1529.17 Q807.695 1532.34 807.695 1537.76 Q807.695 1543.34 804.223 1546.44 Q800.751 1549.52 794.432 1549.52 Q792.256 1549.52 789.987 1549.15 Q787.742 1548.78 785.335 1548.04 L785.335 1543.34 Q787.418 1544.47 789.64 1545.03 Q791.862 1545.58 794.339 1545.58 Q798.344 1545.58 800.682 1543.48 Q803.02 1541.37 803.02 1537.76 Q803.02 1534.15 800.682 1532.04 Q798.344 1529.94 794.339 1529.94 Q792.464 1529.94 790.589 1530.35 Q788.737 1530.77 786.793 1531.65 L786.793 1514.29 Z\" fill=\"#000000\" fill-rule=\"nonzero\" fill-opacity=\"1\" /><path clip-path=\"url(#clip340)\" d=\"M1231.82 1517.37 Q1228.21 1517.37 1226.38 1520.93 Q1224.57 1524.47 1224.57 1531.6 Q1224.57 1538.71 1226.38 1542.27 Q1228.21 1545.82 1231.82 1545.82 Q1235.45 1545.82 1237.26 1542.27 Q1239.09 1538.71 1239.09 1531.6 Q1239.09 1524.47 1237.26 1520.93 Q1235.45 1517.37 1231.82 1517.37 M1231.82 1513.66 Q1237.63 1513.66 1240.68 1518.27 Q1243.76 1522.85 1243.76 1531.6 Q1243.76 1540.33 1240.68 1544.94 Q1237.63 1549.52 1231.82 1549.52 Q1226.01 1549.52 1222.93 1544.94 Q1219.87 1540.33 1219.87 1531.6 Q1219.87 1522.85 1222.93 1518.27 Q1226.01 1513.66 1231.82 1513.66 Z\" fill=\"#000000\" fill-rule=\"nonzero\" fill-opacity=\"1\" /><path clip-path=\"url(#clip340)\" d=\"M1251.98 1542.97 L1256.86 1542.97 L1256.86 1548.85 L1251.98 1548.85 L1251.98 1542.97 Z\" fill=\"#000000\" fill-rule=\"nonzero\" fill-opacity=\"1\" /><path clip-path=\"url(#clip340)\" d=\"M1267.1 1514.29 L1285.45 1514.29 L1285.45 1518.22 L1271.38 1518.22 L1271.38 1526.7 Q1272.4 1526.35 1273.42 1526.19 Q1274.43 1526 1275.45 1526 Q1281.24 1526 1284.62 1529.17 Q1288 1532.34 1288 1537.76 Q1288 1543.34 1284.53 1546.44 Q1281.05 1549.52 1274.73 1549.52 Q1272.56 1549.52 1270.29 1549.15 Q1268.05 1548.78 1265.64 1548.04 L1265.64 1543.34 Q1267.72 1544.47 1269.94 1545.03 Q1272.17 1545.58 1274.64 1545.58 Q1278.65 1545.58 1280.98 1543.48 Q1283.32 1541.37 1283.32 1537.76 Q1283.32 1534.15 1280.98 1532.04 Q1278.65 1529.94 1274.64 1529.94 Q1272.77 1529.94 1270.89 1530.35 Q1269.04 1530.77 1267.1 1531.65 L1267.1 1514.29 Z\" fill=\"#000000\" fill-rule=\"nonzero\" fill-opacity=\"1\" /><path clip-path=\"url(#clip340)\" d=\"M1307.21 1517.37 Q1303.6 1517.37 1301.77 1520.93 Q1299.97 1524.47 1299.97 1531.6 Q1299.97 1538.71 1301.77 1542.27 Q1303.6 1545.82 1307.21 1545.82 Q1310.85 1545.82 1312.65 1542.27 Q1314.48 1538.71 1314.48 1531.6 Q1314.48 1524.47 1312.65 1520.93 Q1310.85 1517.37 1307.21 1517.37 M1307.21 1513.66 Q1313.02 1513.66 1316.08 1518.27 Q1319.16 1522.85 1319.16 1531.6 Q1319.16 1540.33 1316.08 1544.94 Q1313.02 1549.52 1307.21 1549.52 Q1301.4 1549.52 1298.32 1544.94 Q1295.27 1540.33 1295.27 1531.6 Q1295.27 1522.85 1298.32 1518.27 Q1301.4 1513.66 1307.21 1513.66 Z\" fill=\"#000000\" fill-rule=\"nonzero\" fill-opacity=\"1\" /><path clip-path=\"url(#clip340)\" d=\"M1743.28 1517.37 Q1739.67 1517.37 1737.84 1520.93 Q1736.03 1524.47 1736.03 1531.6 Q1736.03 1538.71 1737.84 1542.27 Q1739.67 1545.82 1743.28 1545.82 Q1746.91 1545.82 1748.72 1542.27 Q1750.55 1538.71 1750.55 1531.6 Q1750.55 1524.47 1748.72 1520.93 Q1746.91 1517.37 1743.28 1517.37 M1743.28 1513.66 Q1749.09 1513.66 1752.14 1518.27 Q1755.22 1522.85 1755.22 1531.6 Q1755.22 1540.33 1752.14 1544.94 Q1749.09 1549.52 1743.28 1549.52 Q1737.47 1549.52 1734.39 1544.94 Q1731.33 1540.33 1731.33 1531.6 Q1731.33 1522.85 1734.39 1518.27 Q1737.47 1513.66 1743.28 1513.66 Z\" fill=\"#000000\" fill-rule=\"nonzero\" fill-opacity=\"1\" /><path clip-path=\"url(#clip340)\" d=\"M1763.44 1542.97 L1768.32 1542.97 L1768.32 1548.85 L1763.44 1548.85 L1763.44 1542.97 Z\" fill=\"#000000\" fill-rule=\"nonzero\" fill-opacity=\"1\" /><path clip-path=\"url(#clip340)\" d=\"M1777.33 1514.29 L1799.55 1514.29 L1799.55 1516.28 L1787.01 1548.85 L1782.12 1548.85 L1793.93 1518.22 L1777.33 1518.22 L1777.33 1514.29 Z\" fill=\"#000000\" fill-rule=\"nonzero\" fill-opacity=\"1\" /><path clip-path=\"url(#clip340)\" d=\"M1808.72 1514.29 L1827.07 1514.29 L1827.07 1518.22 L1813 1518.22 L1813 1526.7 Q1814.02 1526.35 1815.04 1526.19 Q1816.06 1526 1817.07 1526 Q1822.86 1526 1826.24 1529.17 Q1829.62 1532.34 1829.62 1537.76 Q1829.62 1543.34 1826.15 1546.44 Q1822.68 1549.52 1816.36 1549.52 Q1814.18 1549.52 1811.91 1549.15 Q1809.67 1548.78 1807.26 1548.04 L1807.26 1543.34 Q1809.34 1544.47 1811.57 1545.03 Q1813.79 1545.58 1816.26 1545.58 Q1820.27 1545.58 1822.61 1543.48 Q1824.95 1541.37 1824.95 1537.76 Q1824.95 1534.15 1822.61 1532.04 Q1820.27 1529.94 1816.26 1529.94 Q1814.39 1529.94 1812.51 1530.35 Q1810.66 1530.77 1808.72 1531.65 L1808.72 1514.29 Z\" fill=\"#000000\" fill-rule=\"nonzero\" fill-opacity=\"1\" /><path clip-path=\"url(#clip340)\" d=\"M2243.51 1544.91 L2251.15 1544.91 L2251.15 1518.55 L2242.84 1520.21 L2242.84 1515.95 L2251.1 1514.29 L2255.78 1514.29 L2255.78 1544.91 L2263.42 1544.91 L2263.42 1548.85 L2243.51 1548.85 L2243.51 1544.91 Z\" fill=\"#000000\" fill-rule=\"nonzero\" fill-opacity=\"1\" /><path clip-path=\"url(#clip340)\" d=\"M2272.86 1542.97 L2277.75 1542.97 L2277.75 1548.85 L2272.86 1548.85 L2272.86 1542.97 Z\" fill=\"#000000\" fill-rule=\"nonzero\" fill-opacity=\"1\" /><path clip-path=\"url(#clip340)\" d=\"M2297.93 1517.37 Q2294.32 1517.37 2292.49 1520.93 Q2290.69 1524.47 2290.69 1531.6 Q2290.69 1538.71 2292.49 1542.27 Q2294.32 1545.82 2297.93 1545.82 Q2301.57 1545.82 2303.37 1542.27 Q2305.2 1538.71 2305.2 1531.6 Q2305.2 1524.47 2303.37 1520.93 Q2301.57 1517.37 2297.93 1517.37 M2297.93 1513.66 Q2303.74 1513.66 2306.8 1518.27 Q2309.88 1522.85 2309.88 1531.6 Q2309.88 1540.33 2306.8 1544.94 Q2303.74 1549.52 2297.93 1549.52 Q2292.12 1549.52 2289.04 1544.94 Q2285.99 1540.33 2285.99 1531.6 Q2285.99 1522.85 2289.04 1518.27 Q2292.12 1513.66 2297.93 1513.66 Z\" fill=\"#000000\" fill-rule=\"nonzero\" fill-opacity=\"1\" /><path clip-path=\"url(#clip340)\" d=\"M2328.1 1517.37 Q2324.48 1517.37 2322.66 1520.93 Q2320.85 1524.47 2320.85 1531.6 Q2320.85 1538.71 2322.66 1542.27 Q2324.48 1545.82 2328.1 1545.82 Q2331.73 1545.82 2333.54 1542.27 Q2335.36 1538.71 2335.36 1531.6 Q2335.36 1524.47 2333.54 1520.93 Q2331.73 1517.37 2328.1 1517.37 M2328.1 1513.66 Q2333.91 1513.66 2336.96 1518.27 Q2340.04 1522.85 2340.04 1531.6 Q2340.04 1540.33 2336.96 1544.94 Q2333.91 1549.52 2328.1 1549.52 Q2322.29 1549.52 2319.21 1544.94 Q2316.15 1540.33 2316.15 1531.6 Q2316.15 1522.85 2319.21 1518.27 Q2322.29 1513.66 2328.1 1513.66 Z\" fill=\"#000000\" fill-rule=\"nonzero\" fill-opacity=\"1\" /><polyline clip-path=\"url(#clip340)\" style=\"stroke:#000000; stroke-linecap:round; stroke-linejoin:round; stroke-width:4; stroke-opacity:1; fill:none\" points=\"186.274,1486.45 186.274,123.472 \"/>\n<polyline clip-path=\"url(#clip340)\" style=\"stroke:#000000; stroke-linecap:round; stroke-linejoin:round; stroke-width:4; stroke-opacity:1; fill:none\" points=\"186.274,1447.87 205.172,1447.87 \"/>\n<polyline clip-path=\"url(#clip340)\" style=\"stroke:#000000; stroke-linecap:round; stroke-linejoin:round; stroke-width:4; stroke-opacity:1; fill:none\" points=\"186.274,1128.11 205.172,1128.11 \"/>\n<polyline clip-path=\"url(#clip340)\" style=\"stroke:#000000; stroke-linecap:round; stroke-linejoin:round; stroke-width:4; stroke-opacity:1; fill:none\" points=\"186.274,808.35 205.172,808.35 \"/>\n<polyline clip-path=\"url(#clip340)\" style=\"stroke:#000000; stroke-linecap:round; stroke-linejoin:round; stroke-width:4; stroke-opacity:1; fill:none\" points=\"186.274,488.588 205.172,488.588 \"/>\n<polyline clip-path=\"url(#clip340)\" style=\"stroke:#000000; stroke-linecap:round; stroke-linejoin:round; stroke-width:4; stroke-opacity:1; fill:none\" points=\"186.274,168.827 205.172,168.827 \"/>\n<path clip-path=\"url(#clip340)\" d=\"M62.9365 1433.67 Q59.3254 1433.67 57.4967 1437.24 Q55.6912 1440.78 55.6912 1447.91 Q55.6912 1455.01 57.4967 1458.58 Q59.3254 1462.12 62.9365 1462.12 Q66.5707 1462.12 68.3763 1458.58 Q70.205 1455.01 70.205 1447.91 Q70.205 1440.78 68.3763 1437.24 Q66.5707 1433.67 62.9365 1433.67 M62.9365 1429.97 Q68.7467 1429.97 71.8022 1434.57 Q74.8809 1439.16 74.8809 1447.91 Q74.8809 1456.63 71.8022 1461.24 Q68.7467 1465.82 62.9365 1465.82 Q57.1264 1465.82 54.0477 1461.24 Q50.9921 1456.63 50.9921 1447.91 Q50.9921 1439.16 54.0477 1434.57 Q57.1264 1429.97 62.9365 1429.97 Z\" fill=\"#000000\" fill-rule=\"nonzero\" fill-opacity=\"1\" /><path clip-path=\"url(#clip340)\" d=\"M83.0984 1459.27 L87.9827 1459.27 L87.9827 1465.15 L83.0984 1465.15 L83.0984 1459.27 Z\" fill=\"#000000\" fill-rule=\"nonzero\" fill-opacity=\"1\" /><path clip-path=\"url(#clip340)\" d=\"M108.168 1433.67 Q104.557 1433.67 102.728 1437.24 Q100.922 1440.78 100.922 1447.91 Q100.922 1455.01 102.728 1458.58 Q104.557 1462.12 108.168 1462.12 Q111.802 1462.12 113.608 1458.58 Q115.436 1455.01 115.436 1447.91 Q115.436 1440.78 113.608 1437.24 Q111.802 1433.67 108.168 1433.67 M108.168 1429.97 Q113.978 1429.97 117.033 1434.57 Q120.112 1439.16 120.112 1447.91 Q120.112 1456.63 117.033 1461.24 Q113.978 1465.82 108.168 1465.82 Q102.358 1465.82 99.2789 1461.24 Q96.2234 1456.63 96.2234 1447.91 Q96.2234 1439.16 99.2789 1434.57 Q102.358 1429.97 108.168 1429.97 Z\" fill=\"#000000\" fill-rule=\"nonzero\" fill-opacity=\"1\" /><path clip-path=\"url(#clip340)\" d=\"M138.33 1433.67 Q134.719 1433.67 132.89 1437.24 Q131.084 1440.78 131.084 1447.91 Q131.084 1455.01 132.89 1458.58 Q134.719 1462.12 138.33 1462.12 Q141.964 1462.12 143.769 1458.58 Q145.598 1455.01 145.598 1447.91 Q145.598 1440.78 143.769 1437.24 Q141.964 1433.67 138.33 1433.67 M138.33 1429.97 Q144.14 1429.97 147.195 1434.57 Q150.274 1439.16 150.274 1447.91 Q150.274 1456.63 147.195 1461.24 Q144.14 1465.82 138.33 1465.82 Q132.519 1465.82 129.441 1461.24 Q126.385 1456.63 126.385 1447.91 Q126.385 1439.16 129.441 1434.57 Q132.519 1429.97 138.33 1429.97 Z\" fill=\"#000000\" fill-rule=\"nonzero\" fill-opacity=\"1\" /><path clip-path=\"url(#clip340)\" d=\"M63.9319 1113.91 Q60.3208 1113.91 58.4921 1117.47 Q56.6865 1121.02 56.6865 1128.15 Q56.6865 1135.25 58.4921 1138.82 Q60.3208 1142.36 63.9319 1142.36 Q67.5661 1142.36 69.3717 1138.82 Q71.2004 1135.25 71.2004 1128.15 Q71.2004 1121.02 69.3717 1117.47 Q67.5661 1113.91 63.9319 1113.91 M63.9319 1110.21 Q69.742 1110.21 72.7976 1114.81 Q75.8763 1119.4 75.8763 1128.15 Q75.8763 1136.87 72.7976 1141.48 Q69.742 1146.06 63.9319 1146.06 Q58.1217 1146.06 55.043 1141.48 Q51.9875 1136.87 51.9875 1128.15 Q51.9875 1119.4 55.043 1114.81 Q58.1217 1110.21 63.9319 1110.21 Z\" fill=\"#000000\" fill-rule=\"nonzero\" fill-opacity=\"1\" /><path clip-path=\"url(#clip340)\" d=\"M84.0938 1139.51 L88.978 1139.51 L88.978 1145.39 L84.0938 1145.39 L84.0938 1139.51 Z\" fill=\"#000000\" fill-rule=\"nonzero\" fill-opacity=\"1\" /><path clip-path=\"url(#clip340)\" d=\"M103.191 1141.46 L119.51 1141.46 L119.51 1145.39 L97.566 1145.39 L97.566 1141.46 Q100.228 1138.7 104.811 1134.07 Q109.418 1129.42 110.598 1128.08 Q112.844 1125.55 113.723 1123.82 Q114.626 1122.06 114.626 1120.37 Q114.626 1117.61 112.682 1115.88 Q110.76 1114.14 107.658 1114.14 Q105.459 1114.14 103.006 1114.91 Q100.575 1115.67 97.7974 1117.22 L97.7974 1112.5 Q100.621 1111.36 103.075 1110.79 Q105.529 1110.21 107.566 1110.21 Q112.936 1110.21 116.131 1112.89 Q119.325 1115.58 119.325 1120.07 Q119.325 1122.2 118.515 1124.12 Q117.728 1126.02 115.621 1128.61 Q115.043 1129.28 111.941 1132.5 Q108.839 1135.69 103.191 1141.46 Z\" fill=\"#000000\" fill-rule=\"nonzero\" fill-opacity=\"1\" /><path clip-path=\"url(#clip340)\" d=\"M129.371 1110.83 L147.728 1110.83 L147.728 1114.77 L133.654 1114.77 L133.654 1123.24 Q134.672 1122.89 135.691 1122.73 Q136.709 1122.54 137.728 1122.54 Q143.515 1122.54 146.894 1125.72 Q150.274 1128.89 150.274 1134.3 Q150.274 1139.88 146.802 1142.98 Q143.33 1146.06 137.01 1146.06 Q134.834 1146.06 132.566 1145.69 Q130.32 1145.32 127.913 1144.58 L127.913 1139.88 Q129.996 1141.02 132.219 1141.57 Q134.441 1142.13 136.918 1142.13 Q140.922 1142.13 143.26 1140.02 Q145.598 1137.91 145.598 1134.3 Q145.598 1130.69 143.26 1128.59 Q140.922 1126.48 136.918 1126.48 Q135.043 1126.48 133.168 1126.9 Q131.316 1127.31 129.371 1128.19 L129.371 1110.83 Z\" fill=\"#000000\" fill-rule=\"nonzero\" fill-opacity=\"1\" /><path clip-path=\"url(#clip340)\" d=\"M62.9365 794.148 Q59.3254 794.148 57.4967 797.713 Q55.6912 801.255 55.6912 808.385 Q55.6912 815.491 57.4967 819.056 Q59.3254 822.597 62.9365 822.597 Q66.5707 822.597 68.3763 819.056 Q70.205 815.491 70.205 808.385 Q70.205 801.255 68.3763 797.713 Q66.5707 794.148 62.9365 794.148 M62.9365 790.445 Q68.7467 790.445 71.8022 795.051 Q74.8809 799.635 74.8809 808.385 Q74.8809 817.111 71.8022 821.718 Q68.7467 826.301 62.9365 826.301 Q57.1264 826.301 54.0477 821.718 Q50.9921 817.111 50.9921 808.385 Q50.9921 799.635 54.0477 795.051 Q57.1264 790.445 62.9365 790.445 Z\" fill=\"#000000\" fill-rule=\"nonzero\" fill-opacity=\"1\" /><path clip-path=\"url(#clip340)\" d=\"M83.0984 819.75 L87.9827 819.75 L87.9827 825.63 L83.0984 825.63 L83.0984 819.75 Z\" fill=\"#000000\" fill-rule=\"nonzero\" fill-opacity=\"1\" /><path clip-path=\"url(#clip340)\" d=\"M98.2141 791.07 L116.57 791.07 L116.57 795.005 L102.496 795.005 L102.496 803.477 Q103.515 803.13 104.534 802.968 Q105.552 802.783 106.571 802.783 Q112.358 802.783 115.737 805.954 Q119.117 809.125 119.117 814.542 Q119.117 820.121 115.645 823.222 Q112.172 826.301 105.853 826.301 Q103.677 826.301 101.409 825.931 Q99.1632 825.56 96.7558 824.82 L96.7558 820.121 Q98.8391 821.255 101.061 821.81 Q103.284 822.366 105.76 822.366 Q109.765 822.366 112.103 820.259 Q114.441 818.153 114.441 814.542 Q114.441 810.931 112.103 808.824 Q109.765 806.718 105.76 806.718 Q103.885 806.718 102.01 807.135 Q100.159 807.551 98.2141 808.431 L98.2141 791.07 Z\" fill=\"#000000\" fill-rule=\"nonzero\" fill-opacity=\"1\" /><path clip-path=\"url(#clip340)\" d=\"M138.33 794.148 Q134.719 794.148 132.89 797.713 Q131.084 801.255 131.084 808.385 Q131.084 815.491 132.89 819.056 Q134.719 822.597 138.33 822.597 Q141.964 822.597 143.769 819.056 Q145.598 815.491 145.598 808.385 Q145.598 801.255 143.769 797.713 Q141.964 794.148 138.33 794.148 M138.33 790.445 Q144.14 790.445 147.195 795.051 Q150.274 799.635 150.274 808.385 Q150.274 817.111 147.195 821.718 Q144.14 826.301 138.33 826.301 Q132.519 826.301 129.441 821.718 Q126.385 817.111 126.385 808.385 Q126.385 799.635 129.441 795.051 Q132.519 790.445 138.33 790.445 Z\" fill=\"#000000\" fill-rule=\"nonzero\" fill-opacity=\"1\" /><path clip-path=\"url(#clip340)\" d=\"M63.9319 474.387 Q60.3208 474.387 58.4921 477.952 Q56.6865 481.493 56.6865 488.623 Q56.6865 495.729 58.4921 499.294 Q60.3208 502.836 63.9319 502.836 Q67.5661 502.836 69.3717 499.294 Q71.2004 495.729 71.2004 488.623 Q71.2004 481.493 69.3717 477.952 Q67.5661 474.387 63.9319 474.387 M63.9319 470.683 Q69.742 470.683 72.7976 475.29 Q75.8763 479.873 75.8763 488.623 Q75.8763 497.35 72.7976 501.956 Q69.742 506.539 63.9319 506.539 Q58.1217 506.539 55.043 501.956 Q51.9875 497.35 51.9875 488.623 Q51.9875 479.873 55.043 475.29 Q58.1217 470.683 63.9319 470.683 Z\" fill=\"#000000\" fill-rule=\"nonzero\" fill-opacity=\"1\" /><path clip-path=\"url(#clip340)\" d=\"M84.0938 499.989 L88.978 499.989 L88.978 505.868 L84.0938 505.868 L84.0938 499.989 Z\" fill=\"#000000\" fill-rule=\"nonzero\" fill-opacity=\"1\" /><path clip-path=\"url(#clip340)\" d=\"M97.9826 471.308 L120.205 471.308 L120.205 473.299 L107.658 505.868 L102.774 505.868 L114.58 475.243 L97.9826 475.243 L97.9826 471.308 Z\" fill=\"#000000\" fill-rule=\"nonzero\" fill-opacity=\"1\" /><path clip-path=\"url(#clip340)\" d=\"M129.371 471.308 L147.728 471.308 L147.728 475.243 L133.654 475.243 L133.654 483.716 Q134.672 483.368 135.691 483.206 Q136.709 483.021 137.728 483.021 Q143.515 483.021 146.894 486.192 Q150.274 489.364 150.274 494.78 Q150.274 500.359 146.802 503.461 Q143.33 506.539 137.01 506.539 Q134.834 506.539 132.566 506.169 Q130.32 505.799 127.913 505.058 L127.913 500.359 Q129.996 501.493 132.219 502.049 Q134.441 502.604 136.918 502.604 Q140.922 502.604 143.26 500.498 Q145.598 498.391 145.598 494.78 Q145.598 491.169 143.26 489.063 Q140.922 486.956 136.918 486.956 Q135.043 486.956 133.168 487.373 Q131.316 487.79 129.371 488.669 L129.371 471.308 Z\" fill=\"#000000\" fill-rule=\"nonzero\" fill-opacity=\"1\" /><path clip-path=\"url(#clip340)\" d=\"M53.7467 182.171 L61.3856 182.171 L61.3856 155.806 L53.0754 157.472 L53.0754 153.213 L61.3393 151.547 L66.0152 151.547 L66.0152 182.171 L73.654 182.171 L73.654 186.107 L53.7467 186.107 L53.7467 182.171 Z\" fill=\"#000000\" fill-rule=\"nonzero\" fill-opacity=\"1\" /><path clip-path=\"url(#clip340)\" d=\"M83.0984 180.227 L87.9827 180.227 L87.9827 186.107 L83.0984 186.107 L83.0984 180.227 Z\" fill=\"#000000\" fill-rule=\"nonzero\" fill-opacity=\"1\" /><path clip-path=\"url(#clip340)\" d=\"M108.168 154.625 Q104.557 154.625 102.728 158.19 Q100.922 161.732 100.922 168.861 Q100.922 175.968 102.728 179.532 Q104.557 183.074 108.168 183.074 Q111.802 183.074 113.608 179.532 Q115.436 175.968 115.436 168.861 Q115.436 161.732 113.608 158.19 Q111.802 154.625 108.168 154.625 M108.168 150.922 Q113.978 150.922 117.033 155.528 Q120.112 160.111 120.112 168.861 Q120.112 177.588 117.033 182.195 Q113.978 186.778 108.168 186.778 Q102.358 186.778 99.2789 182.195 Q96.2234 177.588 96.2234 168.861 Q96.2234 160.111 99.2789 155.528 Q102.358 150.922 108.168 150.922 Z\" fill=\"#000000\" fill-rule=\"nonzero\" fill-opacity=\"1\" /><path clip-path=\"url(#clip340)\" d=\"M138.33 154.625 Q134.719 154.625 132.89 158.19 Q131.084 161.732 131.084 168.861 Q131.084 175.968 132.89 179.532 Q134.719 183.074 138.33 183.074 Q141.964 183.074 143.769 179.532 Q145.598 175.968 145.598 168.861 Q145.598 161.732 143.769 158.19 Q141.964 154.625 138.33 154.625 M138.33 150.922 Q144.14 150.922 147.195 155.528 Q150.274 160.111 150.274 168.861 Q150.274 177.588 147.195 182.195 Q144.14 186.778 138.33 186.778 Q132.519 186.778 129.441 182.195 Q126.385 177.588 126.385 168.861 Q126.385 160.111 129.441 155.528 Q132.519 150.922 138.33 150.922 Z\" fill=\"#000000\" fill-rule=\"nonzero\" fill-opacity=\"1\" /><path clip-path=\"url(#clip340)\" d=\"M340.116 16.7545 L340.116 25.383 Q335.984 21.5346 331.285 19.6307 Q326.626 17.7268 321.36 17.7268 Q310.99 17.7268 305.481 24.0867 Q299.972 30.4061 299.972 42.3968 Q299.972 54.3469 305.481 60.7069 Q310.99 67.0263 321.36 67.0263 Q326.626 67.0263 331.285 65.1223 Q335.984 63.2184 340.116 59.3701 L340.116 67.9175 Q335.822 70.8341 331.001 72.2924 Q326.221 73.7508 320.874 73.7508 Q307.142 73.7508 299.242 65.3654 Q291.343 56.9395 291.343 42.3968 Q291.343 27.8135 299.242 19.4281 Q307.142 11.0023 320.874 11.0023 Q326.302 11.0023 331.082 12.4606 Q335.903 13.8784 340.116 16.7545 Z\" fill=\"#000000\" fill-rule=\"nonzero\" fill-opacity=\"1\" /><path clip-path=\"url(#clip340)\" d=\"M370.012 32.4315 Q364.016 32.4315 360.533 37.1306 Q357.049 41.7891 357.049 49.9314 Q357.049 58.0738 360.492 62.7728 Q363.976 67.4314 370.012 67.4314 Q375.967 67.4314 379.45 62.7323 Q382.934 58.0333 382.934 49.9314 Q382.934 41.8701 379.45 37.1711 Q375.967 32.4315 370.012 32.4315 M370.012 26.1121 Q379.734 26.1121 385.284 32.4315 Q390.833 38.7509 390.833 49.9314 Q390.833 61.0714 385.284 67.4314 Q379.734 73.7508 370.012 73.7508 Q360.249 73.7508 354.699 67.4314 Q349.19 61.0714 349.19 49.9314 Q349.19 38.7509 354.699 32.4315 Q360.249 26.1121 370.012 26.1121 Z\" fill=\"#000000\" fill-rule=\"nonzero\" fill-opacity=\"1\" /><path clip-path=\"url(#clip340)\" d=\"M438.512 35.9153 Q441.308 30.8922 445.196 28.5022 Q449.085 26.1121 454.351 26.1121 Q461.441 26.1121 465.289 31.0947 Q469.137 36.0368 469.137 45.1919 L469.137 72.576 L461.643 72.576 L461.643 45.4349 Q461.643 38.913 459.334 35.7533 Q457.025 32.5936 452.286 32.5936 Q446.493 32.5936 443.13 36.4419 Q439.768 40.2903 439.768 46.9338 L439.768 72.576 L432.274 72.576 L432.274 45.4349 Q432.274 38.8725 429.965 35.7533 Q427.656 32.5936 422.835 32.5936 Q417.124 32.5936 413.761 36.4824 Q410.399 40.3308 410.399 46.9338 L410.399 72.576 L402.905 72.576 L402.905 27.2059 L410.399 27.2059 L410.399 34.2544 Q412.951 30.082 416.516 28.0971 Q420.081 26.1121 424.982 26.1121 Q429.925 26.1121 433.368 28.6237 Q436.852 31.1352 438.512 35.9153 Z\" fill=\"#000000\" fill-rule=\"nonzero\" fill-opacity=\"1\" /><path clip-path=\"url(#clip340)\" d=\"M491.215 65.7705 L491.215 89.8329 L483.721 89.8329 L483.721 27.2059 L491.215 27.2059 L491.215 34.0924 Q493.564 30.0415 497.129 28.0971 Q500.734 26.1121 505.717 26.1121 Q513.981 26.1121 519.125 32.6746 Q524.311 39.2371 524.311 49.9314 Q524.311 60.6258 519.125 67.1883 Q513.981 73.7508 505.717 73.7508 Q500.734 73.7508 497.129 71.8063 Q493.564 69.8214 491.215 65.7705 M516.573 49.9314 Q516.573 41.7081 513.171 37.0496 Q509.808 32.3505 503.894 32.3505 Q497.98 32.3505 494.577 37.0496 Q491.215 41.7081 491.215 49.9314 Q491.215 58.1548 494.577 62.8538 Q497.98 67.5124 503.894 67.5124 Q509.808 67.5124 513.171 62.8538 Q516.573 58.1548 516.573 49.9314 Z\" fill=\"#000000\" fill-rule=\"nonzero\" fill-opacity=\"1\" /><path clip-path=\"url(#clip340)\" d=\"M557.285 49.7694 Q548.251 49.7694 544.768 51.8354 Q541.284 53.9013 541.284 58.8839 Q541.284 62.8538 543.876 65.2034 Q546.51 67.5124 551.006 67.5124 Q557.204 67.5124 560.931 63.1374 Q564.698 58.7219 564.698 51.4303 L564.698 49.7694 L557.285 49.7694 M572.152 46.6907 L572.152 72.576 L564.698 72.576 L564.698 65.6895 Q562.146 69.8214 558.338 71.8063 Q554.53 73.7508 549.021 73.7508 Q542.054 73.7508 537.922 69.8619 Q533.83 65.9325 533.83 59.3701 Q533.83 51.7138 538.934 47.825 Q544.079 43.9361 554.247 43.9361 L564.698 43.9361 L564.698 43.2069 Q564.698 38.0623 561.295 35.2672 Q557.933 32.4315 551.816 32.4315 Q547.927 32.4315 544.241 33.3632 Q540.555 34.295 537.152 36.1584 L537.152 29.2718 Q541.243 27.692 545.092 26.9223 Q548.94 26.1121 552.586 26.1121 Q562.43 26.1121 567.291 31.2163 Q572.152 36.3204 572.152 46.6907 Z\" fill=\"#000000\" fill-rule=\"nonzero\" fill-opacity=\"1\" /><path clip-path=\"url(#clip340)\" d=\"M613.795 34.1734 Q612.539 33.4443 611.04 33.1202 Q609.582 32.7556 607.8 32.7556 Q601.48 32.7556 598.078 36.8875 Q594.715 40.9789 594.715 48.6757 L594.715 72.576 L587.221 72.576 L587.221 27.2059 L594.715 27.2059 L594.715 34.2544 Q597.065 30.1225 600.832 28.1376 Q604.6 26.1121 609.987 26.1121 Q610.757 26.1121 611.689 26.2337 Q612.62 26.3147 613.755 26.5172 L613.795 34.1734 Z\" fill=\"#000000\" fill-rule=\"nonzero\" fill-opacity=\"1\" /><path clip-path=\"url(#clip340)\" d=\"M642.232 49.7694 Q633.199 49.7694 629.715 51.8354 Q626.231 53.9013 626.231 58.8839 Q626.231 62.8538 628.824 65.2034 Q631.457 67.5124 635.954 67.5124 Q642.151 67.5124 645.878 63.1374 Q649.646 58.7219 649.646 51.4303 L649.646 49.7694 L642.232 49.7694 M657.099 46.6907 L657.099 72.576 L649.646 72.576 L649.646 65.6895 Q647.094 69.8214 643.286 71.8063 Q639.478 73.7508 633.969 73.7508 Q627.001 73.7508 622.869 69.8619 Q618.778 65.9325 618.778 59.3701 Q618.778 51.7138 623.882 47.825 Q629.026 43.9361 639.194 43.9361 L649.646 43.9361 L649.646 43.2069 Q649.646 38.0623 646.243 35.2672 Q642.881 32.4315 636.764 32.4315 Q632.875 32.4315 629.189 33.3632 Q625.502 34.295 622.099 36.1584 L622.099 29.2718 Q626.191 27.692 630.039 26.9223 Q633.888 26.1121 637.533 26.1121 Q647.377 26.1121 652.238 31.2163 Q657.099 36.3204 657.099 46.6907 Z\" fill=\"#000000\" fill-rule=\"nonzero\" fill-opacity=\"1\" /><path clip-path=\"url(#clip340)\" d=\"M705.102 28.9478 L705.102 35.9153 Q701.943 34.1734 698.743 33.3227 Q695.583 32.4315 692.342 32.4315 Q685.091 32.4315 681.081 37.0496 Q677.07 41.6271 677.07 49.9314 Q677.07 58.2358 681.081 62.8538 Q685.091 67.4314 692.342 67.4314 Q695.583 67.4314 698.743 66.5807 Q701.943 65.6895 705.102 63.9476 L705.102 70.8341 Q701.983 72.2924 698.621 73.0216 Q695.299 73.7508 691.532 73.7508 Q681.283 73.7508 675.247 67.3098 Q669.211 60.8689 669.211 49.9314 Q669.211 38.832 675.288 32.472 Q681.405 26.1121 692.018 26.1121 Q695.461 26.1121 698.743 26.8413 Q702.024 27.5299 705.102 28.9478 M694.57 72.576 Q696.798 75.0876 697.892 77.194 Q698.986 79.341 698.986 81.2854 Q698.986 84.8907 696.555 86.7137 Q694.125 88.5771 689.344 88.5771 Q687.481 88.5771 685.699 88.334 Q683.957 88.091 682.215 87.6049 L682.215 82.2982 Q683.592 82.9868 685.091 83.2704 Q686.59 83.5945 688.494 83.5945 Q690.884 83.5945 692.099 82.6222 Q693.314 81.65 693.314 79.7866 Q693.314 78.5713 692.423 76.7889 Q691.572 75.0471 689.75 72.576 L694.57 72.576 Z\" fill=\"#000000\" fill-rule=\"nonzero\" fill-opacity=\"1\" /><path clip-path=\"url(#clip340)\" d=\"M738.684 49.7694 Q729.651 49.7694 726.167 51.8354 Q722.683 53.9013 722.683 58.8839 Q722.683 62.8538 725.276 65.2034 Q727.909 67.5124 732.406 67.5124 Q738.603 67.5124 742.33 63.1374 Q746.098 58.7219 746.098 51.4303 L746.098 49.7694 L738.684 49.7694 M753.551 46.6907 L753.551 72.576 L746.098 72.576 L746.098 65.6895 Q743.546 69.8214 739.738 71.8063 Q735.93 73.7508 730.421 73.7508 Q723.453 73.7508 719.321 69.8619 Q715.23 65.9325 715.23 59.3701 Q715.23 51.7138 720.334 47.825 Q725.479 43.9361 735.646 43.9361 L746.098 43.9361 L746.098 43.2069 Q746.098 38.0623 742.695 35.2672 Q739.333 32.4315 733.216 32.4315 Q729.327 32.4315 725.641 33.3632 Q721.954 34.295 718.551 36.1584 L718.551 29.2718 Q722.643 27.692 726.491 26.9223 Q730.34 26.1121 733.985 26.1121 Q743.829 26.1121 748.69 31.2163 Q753.551 36.3204 753.551 46.6907 M734.147 17.0786 L731.838 14.8506 Q730.947 14.0404 730.259 13.6759 Q729.61 13.2708 729.084 13.2708 Q727.544 13.2708 726.815 14.7696 Q726.086 16.2279 726.005 19.5497 L720.942 19.5497 Q721.023 14.0809 723.088 11.1238 Q725.154 8.12611 728.841 8.12611 Q730.38 8.12611 731.676 8.69324 Q732.973 9.26037 734.472 10.5972 L736.781 12.8252 Q737.672 13.6353 738.32 14.0404 Q739.009 14.405 739.535 14.405 Q741.074 14.405 741.804 12.9467 Q742.533 11.4479 742.614 8.12611 L747.677 8.12611 Q747.596 13.5948 745.53 16.5925 Q743.465 19.5497 739.778 19.5497 Q738.239 19.5497 736.943 18.9825 Q735.646 18.4154 734.147 17.0786 Z\" fill=\"#000000\" fill-rule=\"nonzero\" fill-opacity=\"1\" /><path clip-path=\"url(#clip340)\" d=\"M786.485 32.4315 Q780.49 32.4315 777.006 37.1306 Q773.522 41.7891 773.522 49.9314 Q773.522 58.0738 776.966 62.7728 Q780.449 67.4314 786.485 67.4314 Q792.44 67.4314 795.924 62.7323 Q799.408 58.0333 799.408 49.9314 Q799.408 41.8701 795.924 37.1711 Q792.44 32.4315 786.485 32.4315 M786.485 26.1121 Q796.207 26.1121 801.757 32.4315 Q807.307 38.7509 807.307 49.9314 Q807.307 61.0714 801.757 67.4314 Q796.207 73.7508 786.485 73.7508 Q776.722 73.7508 771.173 67.4314 Q765.663 61.0714 765.663 49.9314 Q765.663 38.7509 771.173 32.4315 Q776.722 26.1121 786.485 26.1121 Z\" fill=\"#000000\" fill-rule=\"nonzero\" fill-opacity=\"1\" /><path clip-path=\"url(#clip340)\" d=\"M884.841 48.0275 L884.841 51.6733 L850.57 51.6733 Q851.057 59.3701 855.188 63.421 Q859.361 67.4314 866.774 67.4314 Q871.068 67.4314 875.078 66.3781 Q879.129 65.3249 883.099 63.2184 L883.099 70.267 Q879.089 71.9684 874.876 72.8596 Q870.663 73.7508 866.328 73.7508 Q855.472 73.7508 849.112 67.4314 Q842.793 61.1119 842.793 50.3365 Q842.793 39.1965 848.788 32.6746 Q854.824 26.1121 865.032 26.1121 Q874.187 26.1121 879.494 32.0264 Q884.841 37.9003 884.841 48.0275 M877.387 45.84 Q877.306 39.7232 873.944 36.0774 Q870.622 32.4315 865.113 32.4315 Q858.875 32.4315 855.107 35.9558 Q851.381 39.4801 850.813 45.8805 L877.387 45.84 Z\" fill=\"#000000\" fill-rule=\"nonzero\" fill-opacity=\"1\" /><path clip-path=\"url(#clip340)\" d=\"M934.789 45.1919 L934.789 72.576 L927.335 72.576 L927.335 45.4349 Q927.335 38.994 924.824 35.7938 Q922.312 32.5936 917.289 32.5936 Q911.253 32.5936 907.769 36.4419 Q904.285 40.2903 904.285 46.9338 L904.285 72.576 L896.791 72.576 L896.791 27.2059 L904.285 27.2059 L904.285 34.2544 Q906.959 30.163 910.564 28.1376 Q914.21 26.1121 918.95 26.1121 Q926.768 26.1121 930.778 30.9732 Q934.789 35.7938 934.789 45.1919 Z\" fill=\"#000000\" fill-rule=\"nonzero\" fill-opacity=\"1\" /><path clip-path=\"url(#clip340)\" d=\"M957.028 14.324 L957.028 27.2059 L972.381 27.2059 L972.381 32.9987 L957.028 32.9987 L957.028 57.6282 Q957.028 63.1779 958.527 64.7578 Q960.066 66.3376 964.725 66.3376 L972.381 66.3376 L972.381 72.576 L964.725 72.576 Q956.096 72.576 952.815 69.3758 Q949.534 66.1351 949.534 57.6282 L949.534 32.9987 L944.065 32.9987 L944.065 27.2059 L949.534 27.2059 L949.534 14.324 L957.028 14.324 Z\" fill=\"#000000\" fill-rule=\"nonzero\" fill-opacity=\"1\" /><path clip-path=\"url(#clip340)\" d=\"M1008.47 34.1734 Q1007.22 33.4443 1005.72 33.1202 Q1004.26 32.7556 1002.48 32.7556 Q996.16 32.7556 992.757 36.8875 Q989.395 40.9789 989.395 48.6757 L989.395 72.576 L981.901 72.576 L981.901 27.2059 L989.395 27.2059 L989.395 34.2544 Q991.744 30.1225 995.512 28.1376 Q999.279 26.1121 1004.67 26.1121 Q1005.44 26.1121 1006.37 26.2337 Q1007.3 26.3147 1008.43 26.5172 L1008.47 34.1734 Z\" fill=\"#000000\" fill-rule=\"nonzero\" fill-opacity=\"1\" /><path clip-path=\"url(#clip340)\" d=\"M1053.28 48.0275 L1053.28 51.6733 L1019.01 51.6733 Q1019.49 59.3701 1023.63 63.421 Q1027.8 67.4314 1035.21 67.4314 Q1039.5 67.4314 1043.52 66.3781 Q1047.57 65.3249 1051.54 63.2184 L1051.54 70.267 Q1047.53 71.9684 1043.31 72.8596 Q1039.1 73.7508 1034.77 73.7508 Q1023.91 73.7508 1017.55 67.4314 Q1011.23 61.1119 1011.23 50.3365 Q1011.23 39.1965 1017.22 32.6746 Q1023.26 26.1121 1033.47 26.1121 Q1042.62 26.1121 1047.93 32.0264 Q1053.28 37.9003 1053.28 48.0275 M1045.82 45.84 Q1045.74 39.7232 1042.38 36.0774 Q1039.06 32.4315 1033.55 32.4315 Q1027.31 32.4315 1023.54 35.9558 Q1019.82 39.4801 1019.25 45.8805 L1045.82 45.84 Z\" fill=\"#000000\" fill-rule=\"nonzero\" fill-opacity=\"1\" /><path clip-path=\"url(#clip340)\" d=\"M1120.81 28.5427 L1120.81 35.5912 Q1117.65 33.9709 1114.24 33.1607 Q1110.84 32.3505 1107.2 32.3505 Q1101.65 32.3505 1098.85 34.0519 Q1096.1 35.7533 1096.1 39.156 Q1096.1 41.7486 1098.08 43.2475 Q1100.07 44.7058 1106.06 46.0426 L1108.61 46.6097 Q1116.55 48.3111 1119.87 51.4303 Q1123.24 54.509 1123.24 60.0587 Q1123.24 66.3781 1118.21 70.0644 Q1113.23 73.7508 1104.48 73.7508 Q1100.84 73.7508 1096.87 73.0216 Q1092.94 72.3329 1088.56 70.9151 L1088.56 63.2184 Q1092.69 65.3654 1096.7 66.4591 Q1100.71 67.5124 1104.64 67.5124 Q1109.91 67.5124 1112.74 65.73 Q1115.58 63.9071 1115.58 60.6258 Q1115.58 57.5877 1113.51 55.9673 Q1111.49 54.3469 1104.56 52.8481 L1101.97 52.2405 Q1095.04 50.7821 1091.96 47.7845 Q1088.89 44.7463 1088.89 39.4801 Q1088.89 33.0797 1093.42 29.5959 Q1097.96 26.1121 1106.3 26.1121 Q1110.44 26.1121 1114.08 26.7198 Q1117.73 27.3274 1120.81 28.5427 Z\" fill=\"#000000\" fill-rule=\"nonzero\" fill-opacity=\"1\" /><path clip-path=\"url(#clip340)\" d=\"M1152.69 32.4315 Q1146.69 32.4315 1143.21 37.1306 Q1139.72 41.7891 1139.72 49.9314 Q1139.72 58.0738 1143.17 62.7728 Q1146.65 67.4314 1152.69 67.4314 Q1158.64 67.4314 1162.13 62.7323 Q1165.61 58.0333 1165.61 49.9314 Q1165.61 41.8701 1162.13 37.1711 Q1158.64 32.4315 1152.69 32.4315 M1152.69 26.1121 Q1162.41 26.1121 1167.96 32.4315 Q1173.51 38.7509 1173.51 49.9314 Q1173.51 61.0714 1167.96 67.4314 Q1162.41 73.7508 1152.69 73.7508 Q1142.92 73.7508 1137.37 67.4314 Q1131.87 61.0714 1131.87 49.9314 Q1131.87 38.7509 1137.37 32.4315 Q1142.92 26.1121 1152.69 26.1121 Z\" fill=\"#000000\" fill-rule=\"nonzero\" fill-opacity=\"1\" /><path clip-path=\"url(#clip340)\" d=\"M1185.86 9.54393 L1193.32 9.54393 L1193.32 72.576 L1185.86 72.576 L1185.86 9.54393 Z\" fill=\"#000000\" fill-rule=\"nonzero\" fill-opacity=\"1\" /><path clip-path=\"url(#clip340)\" d=\"M1208.14 54.671 L1208.14 27.2059 L1215.6 27.2059 L1215.6 54.3874 Q1215.6 60.8284 1218.11 64.0691 Q1220.62 67.2693 1225.64 67.2693 Q1231.68 67.2693 1235.16 63.421 Q1238.69 59.5726 1238.69 52.9291 L1238.69 27.2059 L1246.14 27.2059 L1246.14 72.576 L1238.69 72.576 L1238.69 65.6084 Q1235.97 69.7404 1232.37 71.7658 Q1228.8 73.7508 1224.06 73.7508 Q1216.25 73.7508 1212.19 68.8897 Q1208.14 64.0286 1208.14 54.671 M1226.9 26.1121 L1226.9 26.1121 Z\" fill=\"#000000\" fill-rule=\"nonzero\" fill-opacity=\"1\" /><path clip-path=\"url(#clip340)\" d=\"M1294.14 28.9478 L1294.14 35.9153 Q1290.98 34.1734 1287.78 33.3227 Q1284.62 32.4315 1281.38 32.4315 Q1274.13 32.4315 1270.12 37.0496 Q1266.11 41.6271 1266.11 49.9314 Q1266.11 58.2358 1270.12 62.8538 Q1274.13 67.4314 1281.38 67.4314 Q1284.62 67.4314 1287.78 66.5807 Q1290.98 65.6895 1294.14 63.9476 L1294.14 70.8341 Q1291.03 72.2924 1287.66 73.0216 Q1284.34 73.7508 1280.57 73.7508 Q1270.33 73.7508 1264.29 67.3098 Q1258.25 60.8689 1258.25 49.9314 Q1258.25 38.832 1264.33 32.472 Q1270.45 26.1121 1281.06 26.1121 Q1284.5 26.1121 1287.78 26.8413 Q1291.07 27.5299 1294.14 28.9478 M1283.61 72.576 Q1285.84 75.0876 1286.93 77.194 Q1288.03 79.341 1288.03 81.2854 Q1288.03 84.8907 1285.6 86.7137 Q1283.17 88.5771 1278.39 88.5771 Q1276.52 88.5771 1274.74 88.334 Q1273 88.091 1271.26 87.6049 L1271.26 82.2982 Q1272.63 82.9868 1274.13 83.2704 Q1275.63 83.5945 1277.54 83.5945 Q1279.93 83.5945 1281.14 82.6222 Q1282.36 81.65 1282.36 79.7866 Q1282.36 78.5713 1281.47 76.7889 Q1280.61 75.0471 1278.79 72.576 L1283.61 72.576 Z\" fill=\"#000000\" fill-rule=\"nonzero\" fill-opacity=\"1\" /><path clip-path=\"url(#clip340)\" d=\"M1327.73 49.7694 Q1318.69 49.7694 1315.21 51.8354 Q1311.73 53.9013 1311.73 58.8839 Q1311.73 62.8538 1314.32 65.2034 Q1316.95 67.5124 1321.45 67.5124 Q1327.65 67.5124 1331.37 63.1374 Q1335.14 58.7219 1335.14 51.4303 L1335.14 49.7694 L1327.73 49.7694 M1342.59 46.6907 L1342.59 72.576 L1335.14 72.576 L1335.14 65.6895 Q1332.59 69.8214 1328.78 71.8063 Q1324.97 73.7508 1319.46 73.7508 Q1312.5 73.7508 1308.36 69.8619 Q1304.27 65.9325 1304.27 59.3701 Q1304.27 51.7138 1309.38 47.825 Q1314.52 43.9361 1324.69 43.9361 L1335.14 43.9361 L1335.14 43.2069 Q1335.14 38.0623 1331.74 35.2672 Q1328.37 32.4315 1322.26 32.4315 Q1318.37 32.4315 1314.68 33.3632 Q1311 34.295 1307.59 36.1584 L1307.59 29.2718 Q1311.68 27.692 1315.53 26.9223 Q1319.38 26.1121 1323.03 26.1121 Q1332.87 26.1121 1337.73 31.2163 Q1342.59 36.3204 1342.59 46.6907 M1323.19 17.0786 L1320.88 14.8506 Q1319.99 14.0404 1319.3 13.6759 Q1318.65 13.2708 1318.13 13.2708 Q1316.59 13.2708 1315.86 14.7696 Q1315.13 16.2279 1315.05 19.5497 L1309.98 19.5497 Q1310.06 14.0809 1312.13 11.1238 Q1314.2 8.12611 1317.88 8.12611 Q1319.42 8.12611 1320.72 8.69324 Q1322.01 9.26037 1323.51 10.5972 L1325.82 12.8252 Q1326.71 13.6353 1327.36 14.0404 Q1328.05 14.405 1328.58 14.405 Q1330.12 14.405 1330.85 12.9467 Q1331.57 11.4479 1331.66 8.12611 L1336.72 8.12611 Q1336.64 13.5948 1334.57 16.5925 Q1332.51 19.5497 1328.82 19.5497 Q1327.28 19.5497 1325.98 18.9825 Q1324.69 18.4154 1323.19 17.0786 Z\" fill=\"#000000\" fill-rule=\"nonzero\" fill-opacity=\"1\" /><path clip-path=\"url(#clip340)\" d=\"M1375.53 32.4315 Q1369.53 32.4315 1366.05 37.1306 Q1362.56 41.7891 1362.56 49.9314 Q1362.56 58.0738 1366.01 62.7728 Q1369.49 67.4314 1375.53 67.4314 Q1381.48 67.4314 1384.97 62.7323 Q1388.45 58.0333 1388.45 49.9314 Q1388.45 41.8701 1384.97 37.1711 Q1381.48 32.4315 1375.53 32.4315 M1375.53 26.1121 Q1385.25 26.1121 1390.8 32.4315 Q1396.35 38.7509 1396.35 49.9314 Q1396.35 61.0714 1390.8 67.4314 Q1385.25 73.7508 1375.53 73.7508 Q1365.76 73.7508 1360.21 67.4314 Q1354.71 61.0714 1354.71 49.9314 Q1354.71 38.7509 1360.21 32.4315 Q1365.76 26.1121 1375.53 26.1121 Z\" fill=\"#000000\" fill-rule=\"nonzero\" fill-opacity=\"1\" /><path clip-path=\"url(#clip340)\" d=\"M1473.88 48.0275 L1473.88 51.6733 L1439.61 51.6733 Q1440.1 59.3701 1444.23 63.421 Q1448.4 67.4314 1455.82 67.4314 Q1460.11 67.4314 1464.12 66.3781 Q1468.17 65.3249 1472.14 63.2184 L1472.14 70.267 Q1468.13 71.9684 1463.92 72.8596 Q1459.7 73.7508 1455.37 73.7508 Q1444.51 73.7508 1438.15 67.4314 Q1431.83 61.1119 1431.83 50.3365 Q1431.83 39.1965 1437.83 32.6746 Q1443.87 26.1121 1454.07 26.1121 Q1463.23 26.1121 1468.54 32.0264 Q1473.88 37.9003 1473.88 48.0275 M1466.43 45.84 Q1466.35 39.7232 1462.99 36.0774 Q1459.66 32.4315 1454.16 32.4315 Q1447.92 32.4315 1444.15 35.9558 Q1440.42 39.4801 1439.86 45.8805 L1466.43 45.84 Z\" fill=\"#000000\" fill-rule=\"nonzero\" fill-opacity=\"1\" /><path clip-path=\"url(#clip340)\" d=\"M1522.37 27.2059 L1505.97 49.2833 L1523.22 72.576 L1514.43 72.576 L1501.23 54.752 L1488.02 72.576 L1479.23 72.576 L1496.85 48.8377 L1480.73 27.2059 L1489.52 27.2059 L1501.55 43.369 L1513.58 27.2059 L1522.37 27.2059 Z\" fill=\"#000000\" fill-rule=\"nonzero\" fill-opacity=\"1\" /><path clip-path=\"url(#clip340)\" d=\"M1554.37 49.7694 Q1545.34 49.7694 1541.86 51.8354 Q1538.37 53.9013 1538.37 58.8839 Q1538.37 62.8538 1540.97 65.2034 Q1543.6 67.5124 1548.1 67.5124 Q1554.29 67.5124 1558.02 63.1374 Q1561.79 58.7219 1561.79 51.4303 L1561.79 49.7694 L1554.37 49.7694 M1569.24 46.6907 L1569.24 72.576 L1561.79 72.576 L1561.79 65.6895 Q1559.24 69.8214 1555.43 71.8063 Q1551.62 73.7508 1546.11 73.7508 Q1539.14 73.7508 1535.01 69.8619 Q1530.92 65.9325 1530.92 59.3701 Q1530.92 51.7138 1536.02 47.825 Q1541.17 43.9361 1551.34 43.9361 L1561.79 43.9361 L1561.79 43.2069 Q1561.79 38.0623 1558.38 35.2672 Q1555.02 32.4315 1548.91 32.4315 Q1545.02 32.4315 1541.33 33.3632 Q1537.64 34.295 1534.24 36.1584 L1534.24 29.2718 Q1538.33 27.692 1542.18 26.9223 Q1546.03 26.1121 1549.68 26.1121 Q1559.52 26.1121 1564.38 31.2163 Q1569.24 36.3204 1569.24 46.6907 Z\" fill=\"#000000\" fill-rule=\"nonzero\" fill-opacity=\"1\" /><path clip-path=\"url(#clip340)\" d=\"M1591.97 14.324 L1591.97 27.2059 L1607.32 27.2059 L1607.32 32.9987 L1591.97 32.9987 L1591.97 57.6282 Q1591.97 63.1779 1593.47 64.7578 Q1595.01 66.3376 1599.66 66.3376 L1607.32 66.3376 L1607.32 72.576 L1599.66 72.576 Q1591.04 72.576 1587.75 69.3758 Q1584.47 66.1351 1584.47 57.6282 L1584.47 32.9987 L1579 32.9987 L1579 27.2059 L1584.47 27.2059 L1584.47 14.324 L1591.97 14.324 Z\" fill=\"#000000\" fill-rule=\"nonzero\" fill-opacity=\"1\" /><path clip-path=\"url(#clip340)\" d=\"M1637.74 49.7694 Q1628.71 49.7694 1625.22 51.8354 Q1621.74 53.9013 1621.74 58.8839 Q1621.74 62.8538 1624.33 65.2034 Q1626.97 67.5124 1631.46 67.5124 Q1637.66 67.5124 1641.39 63.1374 Q1645.16 58.7219 1645.16 51.4303 L1645.16 49.7694 L1637.74 49.7694 M1652.61 46.6907 L1652.61 72.576 L1645.16 72.576 L1645.16 65.6895 Q1642.6 69.8214 1638.8 71.8063 Q1634.99 73.7508 1629.48 73.7508 Q1622.51 73.7508 1618.38 69.8619 Q1614.29 65.9325 1614.29 59.3701 Q1614.29 51.7138 1619.39 47.825 Q1624.54 43.9361 1634.7 43.9361 L1645.16 43.9361 L1645.16 43.2069 Q1645.16 38.0623 1641.75 35.2672 Q1638.39 32.4315 1632.27 32.4315 Q1628.38 32.4315 1624.7 33.3632 Q1621.01 34.295 1617.61 36.1584 L1617.61 29.2718 Q1621.7 27.692 1625.55 26.9223 Q1629.4 26.1121 1633.04 26.1121 Q1642.89 26.1121 1647.75 31.2163 Q1652.61 36.3204 1652.61 46.6907 Z\" fill=\"#000000\" fill-rule=\"nonzero\" fill-opacity=\"1\" /><path clip-path=\"url(#clip340)\" d=\"M1733.14 48.0275 L1733.14 51.6733 L1698.87 51.6733 Q1699.36 59.3701 1703.49 63.421 Q1707.66 67.4314 1715.07 67.4314 Q1719.37 67.4314 1723.38 66.3781 Q1727.43 65.3249 1731.4 63.2184 L1731.4 70.267 Q1727.39 71.9684 1723.18 72.8596 Q1718.96 73.7508 1714.63 73.7508 Q1703.77 73.7508 1697.41 67.4314 Q1691.09 61.1119 1691.09 50.3365 Q1691.09 39.1965 1697.09 32.6746 Q1703.12 26.1121 1713.33 26.1121 Q1722.49 26.1121 1727.79 32.0264 Q1733.14 37.9003 1733.14 48.0275 M1725.69 45.84 Q1725.61 39.7232 1722.24 36.0774 Q1718.92 32.4315 1713.41 32.4315 Q1707.17 32.4315 1703.41 35.9558 Q1699.68 39.4801 1699.11 45.8805 L1725.69 45.84 Z\" fill=\"#000000\" fill-rule=\"nonzero\" fill-opacity=\"1\" /><path clip-path=\"url(#clip340)\" d=\"M1792.37 49.7694 Q1783.33 49.7694 1779.85 51.8354 Q1776.36 53.9013 1776.36 58.8839 Q1776.36 62.8538 1778.96 65.2034 Q1781.59 67.5124 1786.09 67.5124 Q1792.28 67.5124 1796.01 63.1374 Q1799.78 58.7219 1799.78 51.4303 L1799.78 49.7694 L1792.37 49.7694 M1807.23 46.6907 L1807.23 72.576 L1799.78 72.576 L1799.78 65.6895 Q1797.23 69.8214 1793.42 71.8063 Q1789.61 73.7508 1784.1 73.7508 Q1777.13 73.7508 1773 69.8619 Q1768.91 65.9325 1768.91 59.3701 Q1768.91 51.7138 1774.01 47.825 Q1779.16 43.9361 1789.33 43.9361 L1799.78 43.9361 L1799.78 43.2069 Q1799.78 38.0623 1796.38 35.2672 Q1793.01 32.4315 1786.9 32.4315 Q1783.01 32.4315 1779.32 33.3632 Q1775.63 34.295 1772.23 36.1584 L1772.23 29.2718 Q1776.32 27.692 1780.17 26.9223 Q1784.02 26.1121 1787.67 26.1121 Q1797.51 26.1121 1802.37 31.2163 Q1807.23 36.3204 1807.23 46.6907 Z\" fill=\"#000000\" fill-rule=\"nonzero\" fill-opacity=\"1\" /><path clip-path=\"url(#clip340)\" d=\"M1829.8 65.7705 L1829.8 89.8329 L1822.3 89.8329 L1822.3 27.2059 L1829.8 27.2059 L1829.8 34.0924 Q1832.15 30.0415 1835.71 28.0971 Q1839.32 26.1121 1844.3 26.1121 Q1852.56 26.1121 1857.71 32.6746 Q1862.89 39.2371 1862.89 49.9314 Q1862.89 60.6258 1857.71 67.1883 Q1852.56 73.7508 1844.3 73.7508 Q1839.32 73.7508 1835.71 71.8063 Q1832.15 69.8214 1829.8 65.7705 M1855.15 49.9314 Q1855.15 41.7081 1851.75 37.0496 Q1848.39 32.3505 1842.47 32.3505 Q1836.56 32.3505 1833.16 37.0496 Q1829.8 41.7081 1829.8 49.9314 Q1829.8 58.1548 1833.16 62.8538 Q1836.56 67.5124 1842.47 67.5124 Q1848.39 67.5124 1851.75 62.8538 Q1855.15 58.1548 1855.15 49.9314 Z\" fill=\"#000000\" fill-rule=\"nonzero\" fill-opacity=\"1\" /><path clip-path=\"url(#clip340)\" d=\"M1901.54 34.1734 Q1900.28 33.4443 1898.78 33.1202 Q1897.32 32.7556 1895.54 32.7556 Q1889.22 32.7556 1885.82 36.8875 Q1882.46 40.9789 1882.46 48.6757 L1882.46 72.576 L1874.96 72.576 L1874.96 27.2059 L1882.46 27.2059 L1882.46 34.2544 Q1884.81 30.1225 1888.57 28.1376 Q1892.34 26.1121 1897.73 26.1121 Q1898.5 26.1121 1899.43 26.2337 Q1900.36 26.3147 1901.5 26.5172 L1901.54 34.1734 Z\" fill=\"#000000\" fill-rule=\"nonzero\" fill-opacity=\"1\" /><path clip-path=\"url(#clip340)\" d=\"M1925.11 32.4315 Q1919.12 32.4315 1915.63 37.1306 Q1912.15 41.7891 1912.15 49.9314 Q1912.15 58.0738 1915.59 62.7728 Q1919.08 67.4314 1925.11 67.4314 Q1931.07 67.4314 1934.55 62.7323 Q1938.04 58.0333 1938.04 49.9314 Q1938.04 41.8701 1934.55 37.1711 Q1931.07 32.4315 1925.11 32.4315 M1925.11 26.1121 Q1934.84 26.1121 1940.39 32.4315 Q1945.93 38.7509 1945.93 49.9314 Q1945.93 61.0714 1940.39 67.4314 Q1934.84 73.7508 1925.11 73.7508 Q1915.35 73.7508 1909.8 67.4314 Q1904.29 61.0714 1904.29 49.9314 Q1904.29 38.7509 1909.8 32.4315 Q1915.35 26.1121 1925.11 26.1121 Z\" fill=\"#000000\" fill-rule=\"nonzero\" fill-opacity=\"1\" /><path clip-path=\"url(#clip340)\" d=\"M1993.45 27.2059 L1977.05 49.2833 L1994.3 72.576 L1985.51 72.576 L1972.31 54.752 L1959.1 72.576 L1950.31 72.576 L1967.93 48.8377 L1951.81 27.2059 L1960.6 27.2059 L1972.63 43.369 L1984.66 27.2059 L1993.45 27.2059 Z\" fill=\"#000000\" fill-rule=\"nonzero\" fill-opacity=\"1\" /><path clip-path=\"url(#clip340)\" d=\"M2004.84 27.2059 L2012.29 27.2059 L2012.29 72.576 L2004.84 72.576 L2004.84 27.2059 M2004.84 9.54393 L2012.29 9.54393 L2012.29 18.9825 L2004.84 18.9825 L2004.84 9.54393 Z\" fill=\"#000000\" fill-rule=\"nonzero\" fill-opacity=\"1\" /><path clip-path=\"url(#clip340)\" d=\"M2063.21 35.9153 Q2066 30.8922 2069.89 28.5022 Q2073.78 26.1121 2079.05 26.1121 Q2086.14 26.1121 2089.99 31.0947 Q2093.83 36.0368 2093.83 45.1919 L2093.83 72.576 L2086.34 72.576 L2086.34 45.4349 Q2086.34 38.913 2084.03 35.7533 Q2081.72 32.5936 2076.98 32.5936 Q2071.19 32.5936 2067.83 36.4419 Q2064.46 40.2903 2064.46 46.9338 L2064.46 72.576 L2056.97 72.576 L2056.97 45.4349 Q2056.97 38.8725 2054.66 35.7533 Q2052.35 32.5936 2047.53 32.5936 Q2041.82 32.5936 2038.46 36.4824 Q2035.1 40.3308 2035.1 46.9338 L2035.1 72.576 L2027.6 72.576 L2027.6 27.2059 L2035.1 27.2059 L2035.1 34.2544 Q2037.65 30.082 2041.21 28.0971 Q2044.78 26.1121 2049.68 26.1121 Q2054.62 26.1121 2058.06 28.6237 Q2061.55 31.1352 2063.21 35.9153 Z\" fill=\"#000000\" fill-rule=\"nonzero\" fill-opacity=\"1\" /><path clip-path=\"url(#clip340)\" d=\"M2129.32 49.7694 Q2120.29 49.7694 2116.8 51.8354 Q2113.32 53.9013 2113.32 58.8839 Q2113.32 62.8538 2115.91 65.2034 Q2118.54 67.5124 2123.04 67.5124 Q2129.24 67.5124 2132.97 63.1374 Q2136.73 58.7219 2136.73 51.4303 L2136.73 49.7694 L2129.32 49.7694 M2144.19 46.6907 L2144.19 72.576 L2136.73 72.576 L2136.73 65.6895 Q2134.18 69.8214 2130.37 71.8063 Q2126.56 73.7508 2121.06 73.7508 Q2114.09 73.7508 2109.96 69.8619 Q2105.86 65.9325 2105.86 59.3701 Q2105.86 51.7138 2110.97 47.825 Q2116.11 43.9361 2126.28 43.9361 L2136.73 43.9361 L2136.73 43.2069 Q2136.73 38.0623 2133.33 35.2672 Q2129.97 32.4315 2123.85 32.4315 Q2119.96 32.4315 2116.28 33.3632 Q2112.59 34.295 2109.19 36.1584 L2109.19 29.2718 Q2113.28 27.692 2117.13 26.9223 Q2120.97 26.1121 2124.62 26.1121 Q2134.46 26.1121 2139.33 31.2163 Q2144.19 36.3204 2144.19 46.6907 Z\" fill=\"#000000\" fill-rule=\"nonzero\" fill-opacity=\"1\" /><path clip-path=\"url(#clip340)\" d=\"M2189.39 34.0924 L2189.39 9.54393 L2196.85 9.54393 L2196.85 72.576 L2189.39 72.576 L2189.39 65.7705 Q2187.04 69.8214 2183.44 71.8063 Q2179.87 73.7508 2174.85 73.7508 Q2166.63 73.7508 2161.44 67.1883 Q2156.3 60.6258 2156.3 49.9314 Q2156.3 39.2371 2161.44 32.6746 Q2166.63 26.1121 2174.85 26.1121 Q2179.87 26.1121 2183.44 28.0971 Q2187.04 30.0415 2189.39 34.0924 M2164 49.9314 Q2164 58.1548 2167.36 62.8538 Q2170.76 67.5124 2176.67 67.5124 Q2182.59 67.5124 2185.99 62.8538 Q2189.39 58.1548 2189.39 49.9314 Q2189.39 41.7081 2185.99 37.0496 Q2182.59 32.3505 2176.67 32.3505 Q2170.76 32.3505 2167.36 37.0496 Q2164 41.7081 2164 49.9314 Z\" fill=\"#000000\" fill-rule=\"nonzero\" fill-opacity=\"1\" /><path clip-path=\"url(#clip340)\" d=\"M2232.82 49.7694 Q2223.79 49.7694 2220.3 51.8354 Q2216.82 53.9013 2216.82 58.8839 Q2216.82 62.8538 2219.41 65.2034 Q2222.04 67.5124 2226.54 67.5124 Q2232.74 67.5124 2236.47 63.1374 Q2240.23 58.7219 2240.23 51.4303 L2240.23 49.7694 L2232.82 49.7694 M2247.69 46.6907 L2247.69 72.576 L2240.23 72.576 L2240.23 65.6895 Q2237.68 69.8214 2233.87 71.8063 Q2230.07 73.7508 2224.56 73.7508 Q2217.59 73.7508 2213.46 69.8619 Q2209.37 65.9325 2209.37 59.3701 Q2209.37 51.7138 2214.47 47.825 Q2219.61 43.9361 2229.78 43.9361 L2240.23 43.9361 L2240.23 43.2069 Q2240.23 38.0623 2236.83 35.2672 Q2233.47 32.4315 2227.35 32.4315 Q2223.46 32.4315 2219.78 33.3632 Q2216.09 34.295 2212.69 36.1584 L2212.69 29.2718 Q2216.78 27.692 2220.63 26.9223 Q2224.48 26.1121 2228.12 26.1121 Q2237.96 26.1121 2242.83 31.2163 Q2247.69 36.3204 2247.69 46.6907 Z\" fill=\"#000000\" fill-rule=\"nonzero\" fill-opacity=\"1\" /><polyline clip-path=\"url(#clip342)\" style=\"stroke:#009af9; stroke-linecap:round; stroke-linejoin:round; stroke-width:12; stroke-opacity:1; fill:none\" points=\"247.59,1447.87 268.028,1407.7 288.467,1367.56 308.905,1327.5 329.344,1287.57 349.782,1247.79 370.221,1208.2 390.659,1168.86 411.098,1129.79 431.536,1091.03 451.975,1052.63 472.413,1014.61 492.852,977.025 513.29,939.902 533.729,903.282 554.167,867.198 574.606,831.688 595.044,796.785 615.483,762.526 635.921,728.942 656.36,696.068 676.798,663.936 697.237,632.578 717.675,602.024 738.114,572.305 758.552,543.451 778.991,515.488 799.429,488.446 819.868,462.351 840.306,437.228 860.745,413.103 881.183,389.999 901.622,367.938 922.06,346.944 942.499,327.036 962.937,308.234 983.376,290.557 1003.81,274.022 1024.25,258.646 1044.69,244.443 1065.13,231.428 1085.57,219.613 1106.01,209.01 1126.45,199.63 1146.88,191.482 1167.32,184.574 1187.76,178.912 1208.2,174.503 1228.64,171.35 1249.08,169.458 1269.51,168.827 1289.95,169.458 1310.39,171.35 1330.83,174.503 1351.27,178.912 1371.71,184.574 1392.15,191.482 1412.58,199.63 1433.02,209.01 1453.46,219.613 1473.9,231.428 1494.34,244.443 1514.78,258.646 1535.22,274.022 1555.65,290.557 1576.09,308.234 1596.53,327.036 1616.97,346.944 1637.41,367.938 1657.85,389.999 1678.29,413.103 1698.72,437.228 1719.16,462.351 1739.6,488.446 1760.04,515.488 1780.48,543.451 1800.92,572.305 1821.35,602.024 1841.79,632.578 1862.23,663.936 1882.67,696.068 1903.11,728.942 1923.55,762.526 1943.99,796.785 1964.42,831.688 1984.86,867.198 2005.3,903.282 2025.74,939.902 2046.18,977.025 2066.62,1014.61 2087.06,1052.63 2107.49,1091.03 2127.93,1129.79 2148.37,1168.86 2168.81,1208.2 2189.25,1247.79 2209.69,1287.57 2230.12,1327.5 2250.56,1367.56 2271,1407.7 2291.44,1447.87 \"/>\n<polyline clip-path=\"url(#clip342)\" style=\"stroke:#e26f46; stroke-linecap:round; stroke-linejoin:round; stroke-width:12; stroke-opacity:1; fill:none\" points=\"247.59,1447.87 758.552,534.981 1269.51,162.047 1780.48,542.731 2291.44,1447.87 \"/>\n<circle clip-path=\"url(#clip342)\" cx=\"247.59\" cy=\"1447.87\" r=\"14.4\" fill=\"#e26f46\" fill-rule=\"evenodd\" fill-opacity=\"1\" stroke=\"#000000\" stroke-opacity=\"1\" stroke-width=\"3.2\"/>\n<circle clip-path=\"url(#clip342)\" cx=\"758.552\" cy=\"534.981\" r=\"14.4\" fill=\"#e26f46\" fill-rule=\"evenodd\" fill-opacity=\"1\" stroke=\"#000000\" stroke-opacity=\"1\" stroke-width=\"3.2\"/>\n<circle clip-path=\"url(#clip342)\" cx=\"1269.51\" cy=\"162.047\" r=\"14.4\" fill=\"#e26f46\" fill-rule=\"evenodd\" fill-opacity=\"1\" stroke=\"#000000\" stroke-opacity=\"1\" stroke-width=\"3.2\"/>\n<circle clip-path=\"url(#clip342)\" cx=\"1780.48\" cy=\"542.731\" r=\"14.4\" fill=\"#e26f46\" fill-rule=\"evenodd\" fill-opacity=\"1\" stroke=\"#000000\" stroke-opacity=\"1\" stroke-width=\"3.2\"/>\n<circle clip-path=\"url(#clip342)\" cx=\"2291.44\" cy=\"1447.87\" r=\"14.4\" fill=\"#e26f46\" fill-rule=\"evenodd\" fill-opacity=\"1\" stroke=\"#000000\" stroke-opacity=\"1\" stroke-width=\"3.2\"/>\n<path clip-path=\"url(#clip340)\" d=\"M1589.08 324.425 L2280.54 324.425 L2280.54 168.905 L1589.08 168.905  Z\" fill=\"#ffffff\" fill-rule=\"evenodd\" fill-opacity=\"1\"/>\n<polyline clip-path=\"url(#clip340)\" style=\"stroke:#000000; stroke-linecap:round; stroke-linejoin:round; stroke-width:4; stroke-opacity:1; fill:none\" points=\"1589.08,324.425 2280.54,324.425 2280.54,168.905 1589.08,168.905 1589.08,324.425 \"/>\n<polyline clip-path=\"url(#clip340)\" style=\"stroke:#009af9; stroke-linecap:round; stroke-linejoin:round; stroke-width:12; stroke-opacity:1; fill:none\" points=\"1613.15,220.745 1757.58,220.745 \"/>\n<path clip-path=\"url(#clip340)\" d=\"M1803.9 204.599 L1803.9 209.159 Q1801.24 207.886 1798.88 207.261 Q1796.52 206.636 1794.32 206.636 Q1790.5 206.636 1788.41 208.117 Q1786.35 209.599 1786.35 212.33 Q1786.35 214.622 1787.72 215.803 Q1789.11 216.96 1792.95 217.678 L1795.78 218.256 Q1801.01 219.252 1803.48 221.775 Q1805.98 224.275 1805.98 228.488 Q1805.98 233.511 1802.6 236.103 Q1799.25 238.696 1792.74 238.696 Q1790.29 238.696 1787.51 238.14 Q1784.76 237.585 1781.79 236.497 L1781.79 231.682 Q1784.64 233.279 1787.37 234.089 Q1790.1 234.9 1792.74 234.9 Q1796.75 234.9 1798.92 233.326 Q1801.1 231.752 1801.1 228.835 Q1801.1 226.289 1799.53 224.853 Q1797.97 223.418 1794.41 222.701 L1791.56 222.145 Q1786.33 221.103 1783.99 218.881 Q1781.66 216.659 1781.66 212.701 Q1781.66 208.117 1784.87 205.479 Q1788.11 202.84 1793.79 202.84 Q1796.22 202.84 1798.74 203.279 Q1801.26 203.719 1803.9 204.599 Z\" fill=\"#000000\" fill-rule=\"nonzero\" fill-opacity=\"1\" /><path clip-path=\"url(#clip340)\" d=\"M1823.14 215.085 Q1819.71 215.085 1817.72 217.77 Q1815.73 220.432 1815.73 225.085 Q1815.73 229.738 1817.7 232.423 Q1819.69 235.085 1823.14 235.085 Q1826.54 235.085 1828.53 232.4 Q1830.52 229.715 1830.52 225.085 Q1830.52 220.478 1828.53 217.793 Q1826.54 215.085 1823.14 215.085 M1823.14 211.474 Q1828.69 211.474 1831.86 215.085 Q1835.03 218.696 1835.03 225.085 Q1835.03 231.451 1831.86 235.085 Q1828.69 238.696 1823.14 238.696 Q1817.56 238.696 1814.39 235.085 Q1811.24 231.451 1811.24 225.085 Q1811.24 218.696 1814.39 215.085 Q1817.56 211.474 1823.14 211.474 Z\" fill=\"#000000\" fill-rule=\"nonzero\" fill-opacity=\"1\" /><path clip-path=\"url(#clip340)\" d=\"M1842.1 202.006 L1846.35 202.006 L1846.35 238.025 L1842.1 238.025 L1842.1 202.006 Z\" fill=\"#000000\" fill-rule=\"nonzero\" fill-opacity=\"1\" /><path clip-path=\"url(#clip340)\" d=\"M1854.83 227.793 L1854.83 212.099 L1859.09 212.099 L1859.09 227.631 Q1859.09 231.312 1860.52 233.164 Q1861.96 234.992 1864.83 234.992 Q1868.28 234.992 1870.27 232.793 Q1872.28 230.594 1872.28 226.798 L1872.28 212.099 L1876.54 212.099 L1876.54 238.025 L1872.28 238.025 L1872.28 234.043 Q1870.73 236.404 1868.67 237.562 Q1866.63 238.696 1863.92 238.696 Q1859.46 238.696 1857.14 235.918 Q1854.83 233.14 1854.83 227.793 M1865.54 211.474 L1865.54 211.474 Z\" fill=\"#000000\" fill-rule=\"nonzero\" fill-opacity=\"1\" /><path clip-path=\"url(#clip340)\" d=\"M1903.97 213.094 L1903.97 217.076 Q1902.16 216.08 1900.34 215.594 Q1898.53 215.085 1896.68 215.085 Q1892.53 215.085 1890.24 217.724 Q1887.95 220.34 1887.95 225.085 Q1887.95 229.83 1890.24 232.469 Q1892.53 235.085 1896.68 235.085 Q1898.53 235.085 1900.34 234.599 Q1902.16 234.089 1903.97 233.094 L1903.97 237.029 Q1902.19 237.863 1900.27 238.279 Q1898.37 238.696 1896.22 238.696 Q1890.36 238.696 1886.91 235.015 Q1883.46 231.335 1883.46 225.085 Q1883.46 218.742 1886.93 215.108 Q1890.43 211.474 1896.49 211.474 Q1898.46 211.474 1900.34 211.891 Q1902.21 212.284 1903.97 213.094 M1897.95 238.025 Q1899.22 239.46 1899.85 240.664 Q1900.47 241.89 1900.47 243.001 Q1900.47 245.062 1899.09 246.103 Q1897.7 247.168 1894.97 247.168 Q1893.9 247.168 1892.88 247.029 Q1891.89 246.89 1890.89 246.613 L1890.89 243.58 Q1891.68 243.974 1892.53 244.136 Q1893.39 244.321 1894.48 244.321 Q1895.84 244.321 1896.54 243.765 Q1897.23 243.21 1897.23 242.145 Q1897.23 241.451 1896.72 240.432 Q1896.24 239.437 1895.2 238.025 L1897.95 238.025 Z\" fill=\"#000000\" fill-rule=\"nonzero\" fill-opacity=\"1\" /><path clip-path=\"url(#clip340)\" d=\"M1923.16 224.992 Q1918 224.992 1916.01 226.173 Q1914.02 227.353 1914.02 230.201 Q1914.02 232.469 1915.5 233.812 Q1917 235.131 1919.57 235.131 Q1923.11 235.131 1925.24 232.631 Q1927.4 230.108 1927.4 225.941 L1927.4 224.992 L1923.16 224.992 M1931.65 223.233 L1931.65 238.025 L1927.4 238.025 L1927.4 234.089 Q1925.94 236.451 1923.76 237.585 Q1921.59 238.696 1918.44 238.696 Q1914.46 238.696 1912.09 236.474 Q1909.76 234.228 1909.76 230.478 Q1909.76 226.103 1912.67 223.881 Q1915.61 221.659 1921.42 221.659 L1927.4 221.659 L1927.4 221.242 Q1927.4 218.303 1925.45 216.705 Q1923.53 215.085 1920.03 215.085 Q1917.81 215.085 1915.71 215.617 Q1913.6 216.15 1911.65 217.215 L1911.65 213.279 Q1913.99 212.377 1916.19 211.937 Q1918.39 211.474 1920.47 211.474 Q1926.1 211.474 1928.88 214.391 Q1931.65 217.307 1931.65 223.233 M1920.57 206.312 L1919.25 205.039 Q1918.74 204.576 1918.34 204.367 Q1917.97 204.136 1917.67 204.136 Q1916.79 204.136 1916.38 204.992 Q1915.96 205.826 1915.91 207.724 L1913.02 207.724 Q1913.07 204.599 1914.25 202.909 Q1915.43 201.196 1917.53 201.196 Q1918.41 201.196 1919.15 201.52 Q1919.9 201.844 1920.75 202.608 L1922.07 203.881 Q1922.58 204.344 1922.95 204.576 Q1923.34 204.784 1923.65 204.784 Q1924.53 204.784 1924.94 203.951 Q1925.36 203.094 1925.4 201.196 L1928.3 201.196 Q1928.25 204.321 1927.07 206.034 Q1925.89 207.724 1923.78 207.724 Q1922.9 207.724 1922.16 207.4 Q1921.42 207.076 1920.57 206.312 Z\" fill=\"#000000\" fill-rule=\"nonzero\" fill-opacity=\"1\" /><path clip-path=\"url(#clip340)\" d=\"M1950.47 215.085 Q1947.05 215.085 1945.06 217.77 Q1943.07 220.432 1943.07 225.085 Q1943.07 229.738 1945.03 232.423 Q1947.03 235.085 1950.47 235.085 Q1953.88 235.085 1955.87 232.4 Q1957.86 229.715 1957.86 225.085 Q1957.86 220.478 1955.87 217.793 Q1953.88 215.085 1950.47 215.085 M1950.47 211.474 Q1956.03 211.474 1959.2 215.085 Q1962.37 218.696 1962.37 225.085 Q1962.37 231.451 1959.2 235.085 Q1956.03 238.696 1950.47 238.696 Q1944.9 238.696 1941.72 235.085 Q1938.58 231.451 1938.58 225.085 Q1938.58 218.696 1941.72 215.085 Q1944.9 211.474 1950.47 211.474 Z\" fill=\"#000000\" fill-rule=\"nonzero\" fill-opacity=\"1\" /><path clip-path=\"url(#clip340)\" d=\"M2006.68 223.997 L2006.68 226.08 L1987.09 226.08 Q1987.37 230.478 1989.73 232.793 Q1992.12 235.085 1996.35 235.085 Q1998.81 235.085 2001.1 234.483 Q2003.41 233.881 2005.68 232.677 L2005.68 236.705 Q2003.39 237.677 2000.98 238.187 Q1998.58 238.696 1996.1 238.696 Q1989.9 238.696 1986.26 235.085 Q1982.65 231.474 1982.65 225.316 Q1982.65 218.951 1986.08 215.224 Q1989.52 211.474 1995.36 211.474 Q2000.59 211.474 2003.62 214.853 Q2006.68 218.21 2006.68 223.997 M2002.42 222.747 Q2002.37 219.252 2000.45 217.168 Q1998.55 215.085 1995.4 215.085 Q1991.84 215.085 1989.69 217.099 Q1987.56 219.113 1987.23 222.77 L2002.42 222.747 Z\" fill=\"#000000\" fill-rule=\"nonzero\" fill-opacity=\"1\" /><path clip-path=\"url(#clip340)\" d=\"M2034.39 212.099 L2025.01 224.715 L2034.87 238.025 L2029.85 238.025 L2022.3 227.84 L2014.76 238.025 L2009.73 238.025 L2019.8 224.46 L2010.59 212.099 L2015.61 212.099 L2022.49 221.335 L2029.36 212.099 L2034.39 212.099 Z\" fill=\"#000000\" fill-rule=\"nonzero\" fill-opacity=\"1\" /><path clip-path=\"url(#clip340)\" d=\"M2052.67 224.992 Q2047.51 224.992 2045.52 226.173 Q2043.53 227.353 2043.53 230.201 Q2043.53 232.469 2045.01 233.812 Q2046.52 235.131 2049.08 235.131 Q2052.63 235.131 2054.76 232.631 Q2056.91 230.108 2056.91 225.941 L2056.91 224.992 L2052.67 224.992 M2061.17 223.233 L2061.17 238.025 L2056.91 238.025 L2056.91 234.089 Q2055.45 236.451 2053.27 237.585 Q2051.1 238.696 2047.95 238.696 Q2043.97 238.696 2041.61 236.474 Q2039.27 234.228 2039.27 230.478 Q2039.27 226.103 2042.19 223.881 Q2045.13 221.659 2050.94 221.659 L2056.91 221.659 L2056.91 221.242 Q2056.91 218.303 2054.96 216.705 Q2053.04 215.085 2049.55 215.085 Q2047.33 215.085 2045.22 215.617 Q2043.11 216.15 2041.17 217.215 L2041.17 213.279 Q2043.51 212.377 2045.71 211.937 Q2047.9 211.474 2049.99 211.474 Q2055.61 211.474 2058.39 214.391 Q2061.17 217.307 2061.17 223.233 Z\" fill=\"#000000\" fill-rule=\"nonzero\" fill-opacity=\"1\" /><path clip-path=\"url(#clip340)\" d=\"M2074.15 204.738 L2074.15 212.099 L2082.93 212.099 L2082.93 215.409 L2074.15 215.409 L2074.15 229.483 Q2074.15 232.654 2075.01 233.557 Q2075.89 234.46 2078.55 234.46 L2082.93 234.46 L2082.93 238.025 L2078.55 238.025 Q2073.62 238.025 2071.75 236.196 Q2069.87 234.344 2069.87 229.483 L2069.87 215.409 L2066.75 215.409 L2066.75 212.099 L2069.87 212.099 L2069.87 204.738 L2074.15 204.738 Z\" fill=\"#000000\" fill-rule=\"nonzero\" fill-opacity=\"1\" /><path clip-path=\"url(#clip340)\" d=\"M2100.31 224.992 Q2095.15 224.992 2093.16 226.173 Q2091.17 227.353 2091.17 230.201 Q2091.17 232.469 2092.65 233.812 Q2094.15 235.131 2096.72 235.131 Q2100.26 235.131 2102.39 232.631 Q2104.55 230.108 2104.55 225.941 L2104.55 224.992 L2100.31 224.992 M2108.81 223.233 L2108.81 238.025 L2104.55 238.025 L2104.55 234.089 Q2103.09 236.451 2100.91 237.585 Q2098.74 238.696 2095.59 238.696 Q2091.61 238.696 2089.25 236.474 Q2086.91 234.228 2086.91 230.478 Q2086.91 226.103 2089.83 223.881 Q2092.76 221.659 2098.58 221.659 L2104.55 221.659 L2104.55 221.242 Q2104.55 218.303 2102.6 216.705 Q2100.68 215.085 2097.19 215.085 Q2094.96 215.085 2092.86 215.617 Q2090.75 216.15 2088.81 217.215 L2088.81 213.279 Q2091.14 212.377 2093.34 211.937 Q2095.54 211.474 2097.63 211.474 Q2103.25 211.474 2106.03 214.391 Q2108.81 217.307 2108.81 223.233 Z\" fill=\"#000000\" fill-rule=\"nonzero\" fill-opacity=\"1\" /><polyline clip-path=\"url(#clip340)\" style=\"stroke:#e26f46; stroke-linecap:round; stroke-linejoin:round; stroke-width:12; stroke-opacity:1; fill:none\" points=\"1613.15,272.585 1757.58,272.585 \"/>\n<circle clip-path=\"url(#clip340)\" cx=\"1685.37\" cy=\"272.585\" r=\"20.06\" fill=\"#e26f46\" fill-rule=\"evenodd\" fill-opacity=\"1\" stroke=\"#000000\" stroke-opacity=\"1\" stroke-width=\"4.55111\"/>\n<path clip-path=\"url(#clip340)\" d=\"M1803.9 256.439 L1803.9 260.999 Q1801.24 259.726 1798.88 259.101 Q1796.52 258.476 1794.32 258.476 Q1790.5 258.476 1788.41 259.957 Q1786.35 261.439 1786.35 264.17 Q1786.35 266.462 1787.72 267.643 Q1789.11 268.8 1792.95 269.518 L1795.78 270.096 Q1801.01 271.092 1803.48 273.615 Q1805.98 276.115 1805.98 280.328 Q1805.98 285.351 1802.6 287.943 Q1799.25 290.536 1792.74 290.536 Q1790.29 290.536 1787.51 289.98 Q1784.76 289.425 1781.79 288.337 L1781.79 283.522 Q1784.64 285.119 1787.37 285.929 Q1790.1 286.74 1792.74 286.74 Q1796.75 286.74 1798.92 285.166 Q1801.1 283.592 1801.1 280.675 Q1801.1 278.129 1799.53 276.693 Q1797.97 275.258 1794.41 274.541 L1791.56 273.985 Q1786.33 272.943 1783.99 270.721 Q1781.66 268.499 1781.66 264.541 Q1781.66 259.957 1784.87 257.319 Q1788.11 254.68 1793.79 254.68 Q1796.22 254.68 1798.74 255.119 Q1801.26 255.559 1803.9 256.439 Z\" fill=\"#000000\" fill-rule=\"nonzero\" fill-opacity=\"1\" /><path clip-path=\"url(#clip340)\" d=\"M1823.14 266.925 Q1819.71 266.925 1817.72 269.61 Q1815.73 272.272 1815.73 276.925 Q1815.73 281.578 1817.7 284.263 Q1819.69 286.925 1823.14 286.925 Q1826.54 286.925 1828.53 284.24 Q1830.52 281.555 1830.52 276.925 Q1830.52 272.318 1828.53 269.633 Q1826.54 266.925 1823.14 266.925 M1823.14 263.314 Q1828.69 263.314 1831.86 266.925 Q1835.03 270.536 1835.03 276.925 Q1835.03 283.291 1831.86 286.925 Q1828.69 290.536 1823.14 290.536 Q1817.56 290.536 1814.39 286.925 Q1811.24 283.291 1811.24 276.925 Q1811.24 270.536 1814.39 266.925 Q1817.56 263.314 1823.14 263.314 Z\" fill=\"#000000\" fill-rule=\"nonzero\" fill-opacity=\"1\" /><path clip-path=\"url(#clip340)\" d=\"M1842.1 253.846 L1846.35 253.846 L1846.35 289.865 L1842.1 289.865 L1842.1 253.846 Z\" fill=\"#000000\" fill-rule=\"nonzero\" fill-opacity=\"1\" /><path clip-path=\"url(#clip340)\" d=\"M1854.83 279.633 L1854.83 263.939 L1859.09 263.939 L1859.09 279.471 Q1859.09 283.152 1860.52 285.004 Q1861.96 286.832 1864.83 286.832 Q1868.28 286.832 1870.27 284.633 Q1872.28 282.434 1872.28 278.638 L1872.28 263.939 L1876.54 263.939 L1876.54 289.865 L1872.28 289.865 L1872.28 285.883 Q1870.73 288.244 1868.67 289.402 Q1866.63 290.536 1863.92 290.536 Q1859.46 290.536 1857.14 287.758 Q1854.83 284.98 1854.83 279.633 M1865.54 263.314 L1865.54 263.314 Z\" fill=\"#000000\" fill-rule=\"nonzero\" fill-opacity=\"1\" /><path clip-path=\"url(#clip340)\" d=\"M1903.97 264.934 L1903.97 268.916 Q1902.16 267.92 1900.34 267.434 Q1898.53 266.925 1896.68 266.925 Q1892.53 266.925 1890.24 269.564 Q1887.95 272.18 1887.95 276.925 Q1887.95 281.67 1890.24 284.309 Q1892.53 286.925 1896.68 286.925 Q1898.53 286.925 1900.34 286.439 Q1902.16 285.929 1903.97 284.934 L1903.97 288.869 Q1902.19 289.703 1900.27 290.119 Q1898.37 290.536 1896.22 290.536 Q1890.36 290.536 1886.91 286.855 Q1883.46 283.175 1883.46 276.925 Q1883.46 270.582 1886.93 266.948 Q1890.43 263.314 1896.49 263.314 Q1898.46 263.314 1900.34 263.731 Q1902.21 264.124 1903.97 264.934 M1897.95 289.865 Q1899.22 291.3 1899.85 292.504 Q1900.47 293.73 1900.47 294.841 Q1900.47 296.902 1899.09 297.943 Q1897.7 299.008 1894.97 299.008 Q1893.9 299.008 1892.88 298.869 Q1891.89 298.73 1890.89 298.453 L1890.89 295.42 Q1891.68 295.814 1892.53 295.976 Q1893.39 296.161 1894.48 296.161 Q1895.84 296.161 1896.54 295.605 Q1897.23 295.05 1897.23 293.985 Q1897.23 293.291 1896.72 292.272 Q1896.24 291.277 1895.2 289.865 L1897.95 289.865 Z\" fill=\"#000000\" fill-rule=\"nonzero\" fill-opacity=\"1\" /><path clip-path=\"url(#clip340)\" d=\"M1923.16 276.832 Q1918 276.832 1916.01 278.013 Q1914.02 279.193 1914.02 282.041 Q1914.02 284.309 1915.5 285.652 Q1917 286.971 1919.57 286.971 Q1923.11 286.971 1925.24 284.471 Q1927.4 281.948 1927.4 277.781 L1927.4 276.832 L1923.16 276.832 M1931.65 275.073 L1931.65 289.865 L1927.4 289.865 L1927.4 285.929 Q1925.94 288.291 1923.76 289.425 Q1921.59 290.536 1918.44 290.536 Q1914.46 290.536 1912.09 288.314 Q1909.76 286.068 1909.76 282.318 Q1909.76 277.943 1912.67 275.721 Q1915.61 273.499 1921.42 273.499 L1927.4 273.499 L1927.4 273.082 Q1927.4 270.143 1925.45 268.545 Q1923.53 266.925 1920.03 266.925 Q1917.81 266.925 1915.71 267.457 Q1913.6 267.99 1911.65 269.055 L1911.65 265.119 Q1913.99 264.217 1916.19 263.777 Q1918.39 263.314 1920.47 263.314 Q1926.1 263.314 1928.88 266.231 Q1931.65 269.147 1931.65 275.073 M1920.57 258.152 L1919.25 256.879 Q1918.74 256.416 1918.34 256.207 Q1917.97 255.976 1917.67 255.976 Q1916.79 255.976 1916.38 256.832 Q1915.96 257.666 1915.91 259.564 L1913.02 259.564 Q1913.07 256.439 1914.25 254.749 Q1915.43 253.036 1917.53 253.036 Q1918.41 253.036 1919.15 253.36 Q1919.9 253.684 1920.75 254.448 L1922.07 255.721 Q1922.58 256.184 1922.95 256.416 Q1923.34 256.624 1923.65 256.624 Q1924.53 256.624 1924.94 255.791 Q1925.36 254.934 1925.4 253.036 L1928.3 253.036 Q1928.25 256.161 1927.07 257.874 Q1925.89 259.564 1923.78 259.564 Q1922.9 259.564 1922.16 259.24 Q1921.42 258.916 1920.57 258.152 Z\" fill=\"#000000\" fill-rule=\"nonzero\" fill-opacity=\"1\" /><path clip-path=\"url(#clip340)\" d=\"M1950.47 266.925 Q1947.05 266.925 1945.06 269.61 Q1943.07 272.272 1943.07 276.925 Q1943.07 281.578 1945.03 284.263 Q1947.03 286.925 1950.47 286.925 Q1953.88 286.925 1955.87 284.24 Q1957.86 281.555 1957.86 276.925 Q1957.86 272.318 1955.87 269.633 Q1953.88 266.925 1950.47 266.925 M1950.47 263.314 Q1956.03 263.314 1959.2 266.925 Q1962.37 270.536 1962.37 276.925 Q1962.37 283.291 1959.2 286.925 Q1956.03 290.536 1950.47 290.536 Q1944.9 290.536 1941.72 286.925 Q1938.58 283.291 1938.58 276.925 Q1938.58 270.536 1941.72 266.925 Q1944.9 263.314 1950.47 263.314 Z\" fill=\"#000000\" fill-rule=\"nonzero\" fill-opacity=\"1\" /><path clip-path=\"url(#clip340)\" d=\"M1996.28 276.832 Q1991.12 276.832 1989.13 278.013 Q1987.14 279.193 1987.14 282.041 Q1987.14 284.309 1988.62 285.652 Q1990.13 286.971 1992.7 286.971 Q1996.24 286.971 1998.37 284.471 Q2000.52 281.948 2000.52 277.781 L2000.52 276.832 L1996.28 276.832 M2004.78 275.073 L2004.78 289.865 L2000.52 289.865 L2000.52 285.929 Q1999.06 288.291 1996.89 289.425 Q1994.71 290.536 1991.56 290.536 Q1987.58 290.536 1985.22 288.314 Q1982.88 286.068 1982.88 282.318 Q1982.88 277.943 1985.8 275.721 Q1988.74 273.499 1994.55 273.499 L2000.52 273.499 L2000.52 273.082 Q2000.52 270.143 1998.58 268.545 Q1996.65 266.925 1993.16 266.925 Q1990.94 266.925 1988.83 267.457 Q1986.72 267.99 1984.78 269.055 L1984.78 265.119 Q1987.12 264.217 1989.32 263.777 Q1991.52 263.314 1993.6 263.314 Q1999.22 263.314 2002 266.231 Q2004.78 269.147 2004.78 275.073 Z\" fill=\"#000000\" fill-rule=\"nonzero\" fill-opacity=\"1\" /><path clip-path=\"url(#clip340)\" d=\"M2017.67 285.976 L2017.67 299.726 L2013.39 299.726 L2013.39 263.939 L2017.67 263.939 L2017.67 267.874 Q2019.02 265.559 2021.05 264.448 Q2023.11 263.314 2025.96 263.314 Q2030.68 263.314 2033.62 267.064 Q2036.58 270.814 2036.58 276.925 Q2036.58 283.036 2033.62 286.786 Q2030.68 290.536 2025.96 290.536 Q2023.11 290.536 2021.05 289.425 Q2019.02 288.291 2017.67 285.976 M2032.16 276.925 Q2032.16 272.226 2030.22 269.564 Q2028.3 266.879 2024.92 266.879 Q2021.54 266.879 2019.59 269.564 Q2017.67 272.226 2017.67 276.925 Q2017.67 281.624 2019.59 284.309 Q2021.54 286.971 2024.92 286.971 Q2028.3 286.971 2030.22 284.309 Q2032.16 281.624 2032.16 276.925 Z\" fill=\"#000000\" fill-rule=\"nonzero\" fill-opacity=\"1\" /><path clip-path=\"url(#clip340)\" d=\"M2058.67 267.92 Q2057.95 267.504 2057.09 267.318 Q2056.26 267.11 2055.24 267.11 Q2051.63 267.11 2049.69 269.471 Q2047.77 271.809 2047.77 276.207 L2047.77 289.865 L2043.48 289.865 L2043.48 263.939 L2047.77 263.939 L2047.77 267.967 Q2049.11 265.606 2051.26 264.471 Q2053.41 263.314 2056.49 263.314 Q2056.93 263.314 2057.46 263.383 Q2058 263.43 2058.64 263.545 L2058.67 267.92 Z\" fill=\"#000000\" fill-rule=\"nonzero\" fill-opacity=\"1\" /><path clip-path=\"url(#clip340)\" d=\"M2072.14 266.925 Q2068.71 266.925 2066.72 269.61 Q2064.73 272.272 2064.73 276.925 Q2064.73 281.578 2066.7 284.263 Q2068.69 286.925 2072.14 286.925 Q2075.54 286.925 2077.53 284.24 Q2079.52 281.555 2079.52 276.925 Q2079.52 272.318 2077.53 269.633 Q2075.54 266.925 2072.14 266.925 M2072.14 263.314 Q2077.7 263.314 2080.87 266.925 Q2084.04 270.536 2084.04 276.925 Q2084.04 283.291 2080.87 286.925 Q2077.7 290.536 2072.14 290.536 Q2066.56 290.536 2063.39 286.925 Q2060.24 283.291 2060.24 276.925 Q2060.24 270.536 2063.39 266.925 Q2066.56 263.314 2072.14 263.314 Z\" fill=\"#000000\" fill-rule=\"nonzero\" fill-opacity=\"1\" /><path clip-path=\"url(#clip340)\" d=\"M2111.19 263.939 L2101.82 276.555 L2111.68 289.865 L2106.65 289.865 L2099.11 279.68 L2091.56 289.865 L2086.54 289.865 L2096.61 276.3 L2087.39 263.939 L2092.42 263.939 L2099.29 273.175 L2106.17 263.939 L2111.19 263.939 Z\" fill=\"#000000\" fill-rule=\"nonzero\" fill-opacity=\"1\" /><path clip-path=\"url(#clip340)\" d=\"M2117.7 263.939 L2121.95 263.939 L2121.95 289.865 L2117.7 289.865 L2117.7 263.939 M2117.7 253.846 L2121.95 253.846 L2121.95 259.24 L2117.7 259.24 L2117.7 253.846 Z\" fill=\"#000000\" fill-rule=\"nonzero\" fill-opacity=\"1\" /><path clip-path=\"url(#clip340)\" d=\"M2151.05 268.916 Q2152.65 266.045 2154.87 264.68 Q2157.09 263.314 2160.1 263.314 Q2164.15 263.314 2166.35 266.161 Q2168.55 268.985 2168.55 274.217 L2168.55 289.865 L2164.27 289.865 L2164.27 274.355 Q2164.27 270.629 2162.95 268.823 Q2161.63 267.018 2158.92 267.018 Q2155.61 267.018 2153.69 269.217 Q2151.77 271.416 2151.77 275.212 L2151.77 289.865 L2147.49 289.865 L2147.49 274.355 Q2147.49 270.605 2146.17 268.823 Q2144.85 267.018 2142.09 267.018 Q2138.83 267.018 2136.91 269.24 Q2134.99 271.439 2134.99 275.212 L2134.99 289.865 L2130.7 289.865 L2130.7 263.939 L2134.99 263.939 L2134.99 267.967 Q2136.45 265.582 2138.48 264.448 Q2140.52 263.314 2143.32 263.314 Q2146.14 263.314 2148.11 264.749 Q2150.1 266.184 2151.05 268.916 Z\" fill=\"#000000\" fill-rule=\"nonzero\" fill-opacity=\"1\" /><path clip-path=\"url(#clip340)\" d=\"M2188.83 276.832 Q2183.67 276.832 2181.68 278.013 Q2179.69 279.193 2179.69 282.041 Q2179.69 284.309 2181.17 285.652 Q2182.67 286.971 2185.24 286.971 Q2188.78 286.971 2190.91 284.471 Q2193.07 281.948 2193.07 277.781 L2193.07 276.832 L2188.83 276.832 M2197.32 275.073 L2197.32 289.865 L2193.07 289.865 L2193.07 285.929 Q2191.61 288.291 2189.43 289.425 Q2187.26 290.536 2184.11 290.536 Q2180.13 290.536 2177.76 288.314 Q2175.43 286.068 2175.43 282.318 Q2175.43 277.943 2178.34 275.721 Q2181.28 273.499 2187.09 273.499 L2193.07 273.499 L2193.07 273.082 Q2193.07 270.143 2191.12 268.545 Q2189.2 266.925 2185.7 266.925 Q2183.48 266.925 2181.38 267.457 Q2179.27 267.99 2177.32 269.055 L2177.32 265.119 Q2179.66 264.217 2181.86 263.777 Q2184.06 263.314 2186.14 263.314 Q2191.77 263.314 2194.55 266.231 Q2197.32 269.147 2197.32 275.073 Z\" fill=\"#000000\" fill-rule=\"nonzero\" fill-opacity=\"1\" /><path clip-path=\"url(#clip340)\" d=\"M2223.16 267.874 L2223.16 253.846 L2227.42 253.846 L2227.42 289.865 L2223.16 289.865 L2223.16 285.976 Q2221.82 288.291 2219.76 289.425 Q2217.72 290.536 2214.85 290.536 Q2210.15 290.536 2207.19 286.786 Q2204.25 283.036 2204.25 276.925 Q2204.25 270.814 2207.19 267.064 Q2210.15 263.314 2214.85 263.314 Q2217.72 263.314 2219.76 264.448 Q2221.82 265.559 2223.16 267.874 M2208.64 276.925 Q2208.64 281.624 2210.57 284.309 Q2212.51 286.971 2215.89 286.971 Q2219.27 286.971 2221.21 284.309 Q2223.16 281.624 2223.16 276.925 Q2223.16 272.226 2221.21 269.564 Q2219.27 266.879 2215.89 266.879 Q2212.51 266.879 2210.57 269.564 Q2208.64 272.226 2208.64 276.925 Z\" fill=\"#000000\" fill-rule=\"nonzero\" fill-opacity=\"1\" /><path clip-path=\"url(#clip340)\" d=\"M2247.97 276.832 Q2242.81 276.832 2240.82 278.013 Q2238.83 279.193 2238.83 282.041 Q2238.83 284.309 2240.31 285.652 Q2241.82 286.971 2244.38 286.971 Q2247.93 286.971 2250.06 284.471 Q2252.21 281.948 2252.21 277.781 L2252.21 276.832 L2247.97 276.832 M2256.47 275.073 L2256.47 289.865 L2252.21 289.865 L2252.21 285.929 Q2250.75 288.291 2248.57 289.425 Q2246.4 290.536 2243.25 290.536 Q2239.27 290.536 2236.91 288.314 Q2234.57 286.068 2234.57 282.318 Q2234.57 277.943 2237.49 275.721 Q2240.43 273.499 2246.24 273.499 L2252.21 273.499 L2252.21 273.082 Q2252.21 270.143 2250.26 268.545 Q2248.34 266.925 2244.85 266.925 Q2242.63 266.925 2240.52 267.457 Q2238.41 267.99 2236.47 269.055 L2236.47 265.119 Q2238.81 264.217 2241 263.777 Q2243.2 263.314 2245.29 263.314 Q2250.91 263.314 2253.69 266.231 Q2256.47 269.147 2256.47 275.073 Z\" fill=\"#000000\" fill-rule=\"nonzero\" fill-opacity=\"1\" /></svg>\n"
          },
          "metadata": {},
          "execution_count": 35
        }
      ],
      "source": [
        "x = x_min:0.01:x_max\n",
        "malha = x_min:h:x_max\n",
        "\n",
        "plt = plot(x, u.(x), label=\"Solução exata\", lw=3, title=\"Comparação entre solução exata e aproximada\")\n",
        "plot!(plt, malha, [0; c; 0], label=\"Solução aproximada\", lw=3, linestyle=:solid, markershape=:circle)"
      ]
    },
    {
      "cell_type": "code",
      "execution_count": null,
      "metadata": {
        "id": "5lcJGyAyaYub",
        "outputId": "ed8ab13d-59c3-450e-8a4e-5982206c7f96",
        "colab": {
          "base_uri": "https://localhost:8080/"
        }
      },
      "outputs": [
        {
          "output_type": "execute_result",
          "data": {
            "text/plain": [
              "3×3 SparseMatrixCSC{Float64, Int64} with 7 stored entries:\n",
              "  8.16667  -3.45833    ⋅ \n",
              " -4.45833   8.16667  -3.45833\n",
              "   ⋅       -4.45833   8.16667"
            ]
          },
          "metadata": {},
          "execution_count": 36
        }
      ],
      "source": [
        "K"
      ]
    },
    {
      "cell_type": "code",
      "execution_count": null,
      "metadata": {
        "id": "_nuPvAMnaYub",
        "outputId": "95578016-ba20-4423-935b-2c8cef14af1e",
        "colab": {
          "base_uri": "https://localhost:8080/"
        }
      },
      "outputs": [
        {
          "output_type": "execute_result",
          "data": {
            "text/plain": [
              "3-element Vector{Float64}:\n",
              " 2.352121770752068\n",
              " 2.5805560513947237\n",
              " 1.2973355955943129"
            ]
          },
          "metadata": {},
          "execution_count": 37
        }
      ],
      "source": [
        "F"
      ]
    },
    {
      "cell_type": "markdown",
      "metadata": {
        "id": "4PJo0-UAaYub"
      },
      "source": [
        "#### Resultados numéricos - Erro"
      ]
    },
    {
      "cell_type": "markdown",
      "metadata": {
        "id": "_JO1qokyaYub"
      },
      "source": [
        "Erro entre a solução aproximada e a solução exata"
      ]
    },
    {
      "cell_type": "code",
      "execution_count": null,
      "metadata": {
        "id": "u68WMDLbaYub",
        "outputId": "04f85d85-dba6-438e-c57c-9d613862cce8",
        "colab": {
          "base_uri": "https://localhost:8080/"
        }
      },
      "outputs": [
        {
          "output_type": "execute_result",
          "data": {
            "text/plain": [
              "0.036236897255589685"
            ]
          },
          "metadata": {},
          "execution_count": 38
        }
      ],
      "source": [
        "error_L2_norm([c; 0], n_elements, EQoLG)"
      ]
    },
    {
      "cell_type": "markdown",
      "metadata": {
        "id": "kde6aAnyaYub"
      },
      "source": [
        "Estudo da convergência do erro"
      ]
    },
    {
      "cell_type": "code",
      "execution_count": null,
      "metadata": {
        "id": "7TeyJeqpaYub",
        "outputId": "dc95c1b9-b260-4207-f39d-6159937ab9f1",
        "colab": {
          "base_uri": "https://localhost:8080/"
        }
      },
      "outputs": [
        {
          "output_type": "execute_result",
          "data": {
            "text/plain": [
              "error_convergence (generic function with 1 method)"
            ]
          },
          "metadata": {},
          "execution_count": 39
        }
      ],
      "source": [
        "function error_convergence()\n",
        "    # lista com 2^2, 2^3, ..., 2^17\n",
        "    vec_n_elements = [2^i for i = 2:17]\n",
        "    # lista para guardar os erros de cada número de elementos de 2^2, 2^3, ..., 2^17\n",
        "    vec_errors = zeros(length(vec_n_elements))\n",
        "\n",
        "    # executa o método e guarda o erro associado para cada número de elementos\n",
        "    for i = 1:length(vec_n_elements)\n",
        "        n_elements = vec_n_elements[i]\n",
        "\n",
        "        LG = get_LG(n_elements)\n",
        "        m, EQ = get_EQ(n_elements)\n",
        "        EQoLG = EQ[LG]\n",
        "\n",
        "        K = get_K(n_elements, m, EQoLG)\n",
        "        F = get_F(n_elements, m, EQoLG)\n",
        "\n",
        "        c = K \\ F\n",
        "\n",
        "        vec_errors[i] = error_L2_norm([c; 0], n_elements, EQoLG)\n",
        "    end\n",
        "\n",
        "    vec_h = 1 ./ vec_n_elements\n",
        "\n",
        "    display(DataFrame(h=vec_h, erro=vec_errors))\n",
        "\n",
        "    plt = plot(vec_h, vec_errors, lw=3, linestyle=:solid, markershape=:circle, label=\"Erro\", title=\"Estudo do erro no exemplo\", xscale=:log10, yscale=:log10)\n",
        "    plot!(plt, vec_h, vec_h.^2, lw=3, linestyle=:solid, label=\"h^2\")\n",
        "end\n"
      ]
    },
    {
      "cell_type": "code",
      "execution_count": null,
      "metadata": {
        "id": "a8utfwMoaYub",
        "outputId": "e08f36e8-e570-4144-8b1a-f8e2595396f3",
        "colab": {
          "base_uri": "https://localhost:8080/",
          "height": 831
        }
      },
      "outputs": [
        {
          "output_type": "display_data",
          "data": {
            "text/plain": [
              "\u001b[1m16×2 DataFrame\u001b[0m\n",
              "\u001b[1m Row \u001b[0m│\u001b[1m h           \u001b[0m\u001b[1m erro        \u001b[0m\n",
              "     │\u001b[90m Float64     \u001b[0m\u001b[90m Float64     \u001b[0m\n",
              "─────┼──────────────────────────\n",
              "   1 │ 0.25         0.0362369\n",
              "   2 │ 0.125        0.00908283\n",
              "   3 │ 0.0625       0.00227211\n",
              "   4 │ 0.03125      0.000568114\n",
              "   5 │ 0.015625     0.000142034\n",
              "   6 │ 0.0078125    3.55088e-5\n",
              "   7 │ 0.00390625   8.87722e-6\n",
              "   8 │ 0.00195312   2.21931e-6\n",
              "   9 │ 0.000976562  5.54838e-7\n",
              "  10 │ 0.000488281  1.38751e-7\n",
              "  11 │ 0.000244141  3.48539e-8\n",
              "  12 │ 0.00012207   8.73935e-9\n",
              "  13 │ 6.10352e-5   2.11914e-9\n",
              "  14 │ 3.05176e-5   5.68945e-10\n",
              "  15 │ 1.52588e-5   3.05405e-8\n",
              "  16 │ 7.62939e-6   1.22147e-7"
            ],
            "text/html": [
              "<div><div style = \"float: left;\"><span>16×2 DataFrame</span></div><div style = \"clear: both;\"></div></div><div class = \"data-frame\" style = \"overflow-x: scroll;\"><table class = \"data-frame\" style = \"margin-bottom: 6px;\"><thead><tr class = \"header\"><th class = \"rowNumber\" style = \"font-weight: bold; text-align: right;\">Row</th><th style = \"text-align: left;\">h</th><th style = \"text-align: left;\">erro</th></tr><tr class = \"subheader headerLastRow\"><th class = \"rowNumber\" style = \"font-weight: bold; text-align: right;\"></th><th title = \"Float64\" style = \"text-align: left;\">Float64</th><th title = \"Float64\" style = \"text-align: left;\">Float64</th></tr></thead><tbody><tr><td class = \"rowNumber\" style = \"font-weight: bold; text-align: right;\">1</td><td style = \"text-align: right;\">0.25</td><td style = \"text-align: right;\">0.0362369</td></tr><tr><td class = \"rowNumber\" style = \"font-weight: bold; text-align: right;\">2</td><td style = \"text-align: right;\">0.125</td><td style = \"text-align: right;\">0.00908283</td></tr><tr><td class = \"rowNumber\" style = \"font-weight: bold; text-align: right;\">3</td><td style = \"text-align: right;\">0.0625</td><td style = \"text-align: right;\">0.00227211</td></tr><tr><td class = \"rowNumber\" style = \"font-weight: bold; text-align: right;\">4</td><td style = \"text-align: right;\">0.03125</td><td style = \"text-align: right;\">0.000568114</td></tr><tr><td class = \"rowNumber\" style = \"font-weight: bold; text-align: right;\">5</td><td style = \"text-align: right;\">0.015625</td><td style = \"text-align: right;\">0.000142034</td></tr><tr><td class = \"rowNumber\" style = \"font-weight: bold; text-align: right;\">6</td><td style = \"text-align: right;\">0.0078125</td><td style = \"text-align: right;\">3.55088e-5</td></tr><tr><td class = \"rowNumber\" style = \"font-weight: bold; text-align: right;\">7</td><td style = \"text-align: right;\">0.00390625</td><td style = \"text-align: right;\">8.87722e-6</td></tr><tr><td class = \"rowNumber\" style = \"font-weight: bold; text-align: right;\">8</td><td style = \"text-align: right;\">0.00195312</td><td style = \"text-align: right;\">2.21931e-6</td></tr><tr><td class = \"rowNumber\" style = \"font-weight: bold; text-align: right;\">9</td><td style = \"text-align: right;\">0.000976562</td><td style = \"text-align: right;\">5.54838e-7</td></tr><tr><td class = \"rowNumber\" style = \"font-weight: bold; text-align: right;\">10</td><td style = \"text-align: right;\">0.000488281</td><td style = \"text-align: right;\">1.38751e-7</td></tr><tr><td class = \"rowNumber\" style = \"font-weight: bold; text-align: right;\">11</td><td style = \"text-align: right;\">0.000244141</td><td style = \"text-align: right;\">3.48539e-8</td></tr><tr><td class = \"rowNumber\" style = \"font-weight: bold; text-align: right;\">12</td><td style = \"text-align: right;\">0.00012207</td><td style = \"text-align: right;\">8.73935e-9</td></tr><tr><td class = \"rowNumber\" style = \"font-weight: bold; text-align: right;\">13</td><td style = \"text-align: right;\">6.10352e-5</td><td style = \"text-align: right;\">2.11914e-9</td></tr><tr><td class = \"rowNumber\" style = \"font-weight: bold; text-align: right;\">14</td><td style = \"text-align: right;\">3.05176e-5</td><td style = \"text-align: right;\">5.68945e-10</td></tr><tr><td class = \"rowNumber\" style = \"font-weight: bold; text-align: right;\">15</td><td style = \"text-align: right;\">1.52588e-5</td><td style = \"text-align: right;\">3.05405e-8</td></tr><tr><td class = \"rowNumber\" style = \"font-weight: bold; text-align: right;\">16</td><td style = \"text-align: right;\">7.62939e-6</td><td style = \"text-align: right;\">1.22147e-7</td></tr></tbody></table></div>"
            ],
            "text/latex": "\\begin{tabular}{r|cc}\n\t& h & erro\\\\\n\t\\hline\n\t& Float64 & Float64\\\\\n\t\\hline\n\t1 & 0.25 & 0.0362369 \\\\\n\t2 & 0.125 & 0.00908283 \\\\\n\t3 & 0.0625 & 0.00227211 \\\\\n\t4 & 0.03125 & 0.000568114 \\\\\n\t5 & 0.015625 & 0.000142034 \\\\\n\t6 & 0.0078125 & 3.55088e-5 \\\\\n\t7 & 0.00390625 & 8.87722e-6 \\\\\n\t8 & 0.00195312 & 2.21931e-6 \\\\\n\t9 & 0.000976562 & 5.54838e-7 \\\\\n\t10 & 0.000488281 & 1.38751e-7 \\\\\n\t11 & 0.000244141 & 3.48539e-8 \\\\\n\t12 & 0.00012207 & 8.73935e-9 \\\\\n\t13 & 6.10352e-5 & 2.11914e-9 \\\\\n\t14 & 3.05176e-5 & 5.68945e-10 \\\\\n\t15 & 1.52588e-5 & 3.05405e-8 \\\\\n\t16 & 7.62939e-6 & 1.22147e-7 \\\\\n\\end{tabular}\n"
          },
          "metadata": {}
        },
        {
          "output_type": "execute_result",
          "data": {
            "image/svg+xml": "<?xml version=\"1.0\" encoding=\"utf-8\"?>\n<svg xmlns=\"http://www.w3.org/2000/svg\" xmlns:xlink=\"http://www.w3.org/1999/xlink\" width=\"600\" height=\"400\" viewBox=\"0 0 2400 1600\">\n<defs>\n  <clipPath id=\"clip380\">\n    <rect x=\"0\" y=\"0\" width=\"2400\" height=\"1600\"/>\n  </clipPath>\n</defs>\n<path clip-path=\"url(#clip380)\" d=\"M0 1600 L2400 1600 L2400 0 L0 0  Z\" fill=\"#ffffff\" fill-rule=\"evenodd\" fill-opacity=\"1\"/>\n<defs>\n  <clipPath id=\"clip381\">\n    <rect x=\"480\" y=\"0\" width=\"1681\" height=\"1600\"/>\n  </clipPath>\n</defs>\n<path clip-path=\"url(#clip380)\" d=\"M213.607 1474.16 L2352.76 1474.16 L2352.76 123.472 L213.607 123.472  Z\" fill=\"#ffffff\" fill-rule=\"evenodd\" fill-opacity=\"1\"/>\n<defs>\n  <clipPath id=\"clip382\">\n    <rect x=\"213\" y=\"123\" width=\"2140\" height=\"1352\"/>\n  </clipPath>\n</defs>\n<polyline clip-path=\"url(#clip382)\" style=\"stroke:#000000; stroke-linecap:round; stroke-linejoin:round; stroke-width:2; stroke-opacity:0.1; fill:none\" points=\"773.592,1474.16 773.592,123.472 \"/>\n<polyline clip-path=\"url(#clip382)\" style=\"stroke:#000000; stroke-linecap:round; stroke-linejoin:round; stroke-width:2; stroke-opacity:0.1; fill:none\" points=\"1667.44,1474.16 1667.44,123.472 \"/>\n<polyline clip-path=\"url(#clip382)\" style=\"stroke:#000000; stroke-linecap:round; stroke-linejoin:round; stroke-width:2; stroke-opacity:0.1; fill:none\" points=\"213.607,1402.78 2352.76,1402.78 \"/>\n<polyline clip-path=\"url(#clip382)\" style=\"stroke:#000000; stroke-linecap:round; stroke-linejoin:round; stroke-width:2; stroke-opacity:0.1; fill:none\" points=\"213.607,697.289 2352.76,697.289 \"/>\n<polyline clip-path=\"url(#clip380)\" style=\"stroke:#000000; stroke-linecap:round; stroke-linejoin:round; stroke-width:4; stroke-opacity:1; fill:none\" points=\"213.607,1474.16 2352.76,1474.16 \"/>\n<polyline clip-path=\"url(#clip380)\" style=\"stroke:#000000; stroke-linecap:round; stroke-linejoin:round; stroke-width:4; stroke-opacity:1; fill:none\" points=\"773.592,1474.16 773.592,1455.27 \"/>\n<polyline clip-path=\"url(#clip380)\" style=\"stroke:#000000; stroke-linecap:round; stroke-linejoin:round; stroke-width:4; stroke-opacity:1; fill:none\" points=\"1667.44,1474.16 1667.44,1455.27 \"/>\n<path clip-path=\"url(#clip380)\" d=\"M723.011 1548.29 L730.65 1548.29 L730.65 1521.92 L722.34 1523.59 L722.34 1519.33 L730.604 1517.66 L735.28 1517.66 L735.28 1548.29 L742.919 1548.29 L742.919 1552.22 L723.011 1552.22 L723.011 1548.29 Z\" fill=\"#000000\" fill-rule=\"nonzero\" fill-opacity=\"1\" /><path clip-path=\"url(#clip380)\" d=\"M762.363 1520.74 Q758.752 1520.74 756.923 1524.31 Q755.118 1527.85 755.118 1534.98 Q755.118 1542.09 756.923 1545.65 Q758.752 1549.19 762.363 1549.19 Q765.997 1549.19 767.803 1545.65 Q769.631 1542.09 769.631 1534.98 Q769.631 1527.85 767.803 1524.31 Q765.997 1520.74 762.363 1520.74 M762.363 1517.04 Q768.173 1517.04 771.229 1521.65 Q774.307 1526.23 774.307 1534.98 Q774.307 1543.71 771.229 1548.31 Q768.173 1552.9 762.363 1552.9 Q756.553 1552.9 753.474 1548.31 Q750.418 1543.71 750.418 1534.98 Q750.418 1526.23 753.474 1521.65 Q756.553 1517.04 762.363 1517.04 Z\" fill=\"#000000\" fill-rule=\"nonzero\" fill-opacity=\"1\" /><path clip-path=\"url(#clip380)\" d=\"M774.307 1511.14 L798.419 1511.14 L798.419 1514.34 L774.307 1514.34 L774.307 1511.14 Z\" fill=\"#000000\" fill-rule=\"nonzero\" fill-opacity=\"1\" /><path clip-path=\"url(#clip380)\" d=\"M817.057 1500.04 L807.465 1515.03 L817.057 1515.03 L817.057 1500.04 M816.06 1496.73 L820.838 1496.73 L820.838 1515.03 L824.844 1515.03 L824.844 1518.19 L820.838 1518.19 L820.838 1524.81 L817.057 1524.81 L817.057 1518.19 L804.381 1518.19 L804.381 1514.53 L816.06 1496.73 Z\" fill=\"#000000\" fill-rule=\"nonzero\" fill-opacity=\"1\" /><path clip-path=\"url(#clip380)\" d=\"M1617.71 1548.29 L1625.35 1548.29 L1625.35 1521.92 L1617.03 1523.59 L1617.03 1519.33 L1625.3 1517.66 L1629.97 1517.66 L1629.97 1548.29 L1637.61 1548.29 L1637.61 1552.22 L1617.71 1552.22 L1617.71 1548.29 Z\" fill=\"#000000\" fill-rule=\"nonzero\" fill-opacity=\"1\" /><path clip-path=\"url(#clip380)\" d=\"M1657.06 1520.74 Q1653.45 1520.74 1651.62 1524.31 Q1649.81 1527.85 1649.81 1534.98 Q1649.81 1542.09 1651.62 1545.65 Q1653.45 1549.19 1657.06 1549.19 Q1660.69 1549.19 1662.5 1545.65 Q1664.33 1542.09 1664.33 1534.98 Q1664.33 1527.85 1662.5 1524.31 Q1660.69 1520.74 1657.06 1520.74 M1657.06 1517.04 Q1662.87 1517.04 1665.92 1521.65 Q1669 1526.23 1669 1534.98 Q1669 1543.71 1665.92 1548.31 Q1662.87 1552.9 1657.06 1552.9 Q1651.25 1552.9 1648.17 1548.31 Q1645.11 1543.71 1645.11 1534.98 Q1645.11 1526.23 1648.17 1521.65 Q1651.25 1517.04 1657.06 1517.04 Z\" fill=\"#000000\" fill-rule=\"nonzero\" fill-opacity=\"1\" /><path clip-path=\"url(#clip380)\" d=\"M1669 1511.14 L1693.11 1511.14 L1693.11 1514.34 L1669 1514.34 L1669 1511.14 Z\" fill=\"#000000\" fill-rule=\"nonzero\" fill-opacity=\"1\" /><path clip-path=\"url(#clip380)\" d=\"M1704.59 1521.62 L1717.85 1521.62 L1717.85 1524.81 L1700.02 1524.81 L1700.02 1521.62 Q1702.18 1519.38 1705.9 1515.62 Q1709.65 1511.84 1710.61 1510.75 Q1712.43 1508.7 1713.14 1507.29 Q1713.88 1505.86 1713.88 1504.48 Q1713.88 1502.24 1712.3 1500.83 Q1710.74 1499.42 1708.22 1499.42 Q1706.43 1499.42 1704.44 1500.04 Q1702.46 1500.67 1700.2 1501.93 L1700.2 1498.09 Q1702.5 1497.17 1704.49 1496.7 Q1706.49 1496.23 1708.14 1496.23 Q1712.5 1496.23 1715.1 1498.41 Q1717.7 1500.59 1717.7 1504.24 Q1717.7 1505.97 1717.04 1507.53 Q1716.4 1509.07 1714.69 1511.18 Q1714.22 1511.72 1711.7 1514.34 Q1709.18 1516.93 1704.59 1521.62 Z\" fill=\"#000000\" fill-rule=\"nonzero\" fill-opacity=\"1\" /><polyline clip-path=\"url(#clip380)\" style=\"stroke:#000000; stroke-linecap:round; stroke-linejoin:round; stroke-width:4; stroke-opacity:1; fill:none\" points=\"213.607,1474.16 213.607,123.472 \"/>\n<polyline clip-path=\"url(#clip380)\" style=\"stroke:#000000; stroke-linecap:round; stroke-linejoin:round; stroke-width:4; stroke-opacity:1; fill:none\" points=\"213.607,1402.78 232.505,1402.78 \"/>\n<polyline clip-path=\"url(#clip380)\" style=\"stroke:#000000; stroke-linecap:round; stroke-linejoin:round; stroke-width:4; stroke-opacity:1; fill:none\" points=\"213.607,697.289 232.505,697.289 \"/>\n<path clip-path=\"url(#clip380)\" d=\"M51.6634 1422.57 L59.3023 1422.57 L59.3023 1396.2 L50.9921 1397.87 L50.9921 1393.61 L59.256 1391.94 L63.9319 1391.94 L63.9319 1422.57 L71.5707 1422.57 L71.5707 1426.5 L51.6634 1426.5 L51.6634 1422.57 Z\" fill=\"#000000\" fill-rule=\"nonzero\" fill-opacity=\"1\" /><path clip-path=\"url(#clip380)\" d=\"M91.0151 1395.02 Q87.404 1395.02 85.5753 1398.59 Q83.7697 1402.13 83.7697 1409.26 Q83.7697 1416.37 85.5753 1419.93 Q87.404 1423.47 91.0151 1423.47 Q94.6493 1423.47 96.4548 1419.93 Q98.2835 1416.37 98.2835 1409.26 Q98.2835 1402.13 96.4548 1398.59 Q94.6493 1395.02 91.0151 1395.02 M91.0151 1391.32 Q96.8252 1391.32 99.8808 1395.93 Q102.959 1400.51 102.959 1409.26 Q102.959 1417.99 99.8808 1422.59 Q96.8252 1427.18 91.0151 1427.18 Q85.2049 1427.18 82.1262 1422.59 Q79.0707 1417.99 79.0707 1409.26 Q79.0707 1400.51 82.1262 1395.93 Q85.2049 1391.32 91.0151 1391.32 Z\" fill=\"#000000\" fill-rule=\"nonzero\" fill-opacity=\"1\" /><path clip-path=\"url(#clip380)\" d=\"M102.959 1385.42 L127.071 1385.42 L127.071 1388.62 L102.959 1388.62 L102.959 1385.42 Z\" fill=\"#000000\" fill-rule=\"nonzero\" fill-opacity=\"1\" /><path clip-path=\"url(#clip380)\" d=\"M135.929 1395.9 L142.136 1395.9 L142.136 1374.47 L135.384 1375.83 L135.384 1372.37 L142.098 1371.01 L145.898 1371.01 L145.898 1395.9 L152.104 1395.9 L152.104 1399.09 L135.929 1399.09 L135.929 1395.9 Z\" fill=\"#000000\" fill-rule=\"nonzero\" fill-opacity=\"1\" /><path clip-path=\"url(#clip380)\" d=\"M167.903 1373.52 Q164.969 1373.52 163.483 1376.41 Q162.016 1379.29 162.016 1385.08 Q162.016 1390.86 163.483 1393.75 Q164.969 1396.63 167.903 1396.63 Q170.855 1396.63 172.322 1393.75 Q173.808 1390.86 173.808 1385.08 Q173.808 1379.29 172.322 1376.41 Q170.855 1373.52 167.903 1373.52 M167.903 1370.51 Q172.623 1370.51 175.106 1374.25 Q177.607 1377.97 177.607 1385.08 Q177.607 1392.17 175.106 1395.92 Q172.623 1399.64 167.903 1399.64 Q163.182 1399.64 160.68 1395.92 Q158.198 1392.17 158.198 1385.08 Q158.198 1377.97 160.68 1374.25 Q163.182 1370.51 167.903 1370.51 Z\" fill=\"#000000\" fill-rule=\"nonzero\" fill-opacity=\"1\" /><path clip-path=\"url(#clip380)\" d=\"M76.9787 717.081 L84.6175 717.081 L84.6175 690.716 L76.3074 692.382 L76.3074 688.123 L84.5712 686.456 L89.2471 686.456 L89.2471 717.081 L96.886 717.081 L96.886 721.016 L76.9787 721.016 L76.9787 717.081 Z\" fill=\"#000000\" fill-rule=\"nonzero\" fill-opacity=\"1\" /><path clip-path=\"url(#clip380)\" d=\"M116.33 689.535 Q112.719 689.535 110.891 693.1 Q109.085 696.642 109.085 703.771 Q109.085 710.878 110.891 714.442 Q112.719 717.984 116.33 717.984 Q119.965 717.984 121.77 714.442 Q123.599 710.878 123.599 703.771 Q123.599 696.642 121.77 693.1 Q119.965 689.535 116.33 689.535 M116.33 685.831 Q122.14 685.831 125.196 690.438 Q128.275 695.021 128.275 703.771 Q128.275 712.498 125.196 717.104 Q122.14 721.688 116.33 721.688 Q110.52 721.688 107.441 717.104 Q104.386 712.498 104.386 703.771 Q104.386 695.021 107.441 690.438 Q110.52 685.831 116.33 685.831 Z\" fill=\"#000000\" fill-rule=\"nonzero\" fill-opacity=\"1\" /><path clip-path=\"url(#clip380)\" d=\"M128.275 679.933 L152.386 679.933 L152.386 683.13 L128.275 683.13 L128.275 679.933 Z\" fill=\"#000000\" fill-rule=\"nonzero\" fill-opacity=\"1\" /><path clip-path=\"url(#clip380)\" d=\"M160.624 665.526 L175.539 665.526 L175.539 668.723 L164.103 668.723 L164.103 675.607 Q164.931 675.325 165.759 675.193 Q166.586 675.043 167.414 675.043 Q172.116 675.043 174.862 677.619 Q177.607 680.196 177.607 684.597 Q177.607 689.13 174.786 691.65 Q171.965 694.151 166.831 694.151 Q165.063 694.151 163.22 693.851 Q161.395 693.55 159.439 692.948 L159.439 689.13 Q161.132 690.051 162.937 690.503 Q164.743 690.954 166.755 690.954 Q170.009 690.954 171.909 689.243 Q173.808 687.531 173.808 684.597 Q173.808 681.663 171.909 679.952 Q170.009 678.24 166.755 678.24 Q165.232 678.24 163.709 678.579 Q162.204 678.917 160.624 679.632 L160.624 665.526 Z\" fill=\"#000000\" fill-rule=\"nonzero\" fill-opacity=\"1\" /><path clip-path=\"url(#clip380)\" d=\"M730.719 12.096 L768.96 12.096 L768.96 18.9825 L738.902 18.9825 L738.902 36.8875 L767.704 36.8875 L767.704 43.7741 L738.902 43.7741 L738.902 65.6895 L769.689 65.6895 L769.689 72.576 L730.719 72.576 L730.719 12.096 Z\" fill=\"#000000\" fill-rule=\"nonzero\" fill-opacity=\"1\" /><path clip-path=\"url(#clip380)\" d=\"M811.737 28.5427 L811.737 35.5912 Q808.578 33.9709 805.175 33.1607 Q801.772 32.3505 798.126 32.3505 Q792.577 32.3505 789.782 34.0519 Q787.027 35.7533 787.027 39.156 Q787.027 41.7486 789.012 43.2475 Q790.997 44.7058 796.992 46.0426 L799.544 46.6097 Q807.484 48.3111 810.806 51.4303 Q814.168 54.509 814.168 60.0587 Q814.168 66.3781 809.145 70.0644 Q804.162 73.7508 795.412 73.7508 Q791.767 73.7508 787.797 73.0216 Q783.867 72.3329 779.492 70.9151 L779.492 63.2184 Q783.624 65.3654 787.635 66.4591 Q791.645 67.5124 795.574 67.5124 Q800.841 67.5124 803.676 65.73 Q806.512 63.9071 806.512 60.6258 Q806.512 57.5877 804.446 55.9673 Q802.42 54.3469 795.493 52.8481 L792.901 52.2405 Q785.974 50.7821 782.895 47.7845 Q779.816 44.7463 779.816 39.4801 Q779.816 33.0797 784.353 29.5959 Q788.89 26.1121 797.235 26.1121 Q801.367 26.1121 805.013 26.7198 Q808.659 27.3274 811.737 28.5427 Z\" fill=\"#000000\" fill-rule=\"nonzero\" fill-opacity=\"1\" /><path clip-path=\"url(#clip380)\" d=\"M833.41 14.324 L833.41 27.2059 L848.763 27.2059 L848.763 32.9987 L833.41 32.9987 L833.41 57.6282 Q833.41 63.1779 834.909 64.7578 Q836.448 66.3376 841.107 66.3376 L848.763 66.3376 L848.763 72.576 L841.107 72.576 Q832.478 72.576 829.197 69.3758 Q825.916 66.1351 825.916 57.6282 L825.916 32.9987 L820.447 32.9987 L820.447 27.2059 L825.916 27.2059 L825.916 14.324 L833.41 14.324 Z\" fill=\"#000000\" fill-rule=\"nonzero\" fill-opacity=\"1\" /><path clip-path=\"url(#clip380)\" d=\"M857.796 54.671 L857.796 27.2059 L865.25 27.2059 L865.25 54.3874 Q865.25 60.8284 867.761 64.0691 Q870.273 67.2693 875.296 67.2693 Q881.332 67.2693 884.816 63.421 Q888.34 59.5726 888.34 52.9291 L888.34 27.2059 L895.794 27.2059 L895.794 72.576 L888.34 72.576 L888.34 65.6084 Q885.626 69.7404 882.021 71.7658 Q878.456 73.7508 873.716 73.7508 Q865.898 73.7508 861.847 68.8897 Q857.796 64.0286 857.796 54.671 M876.552 26.1121 L876.552 26.1121 Z\" fill=\"#000000\" fill-rule=\"nonzero\" fill-opacity=\"1\" /><path clip-path=\"url(#clip380)\" d=\"M941.002 34.0924 L941.002 9.54393 L948.455 9.54393 L948.455 72.576 L941.002 72.576 L941.002 65.7705 Q938.652 69.8214 935.047 71.8063 Q931.482 73.7508 926.459 73.7508 Q918.236 73.7508 913.051 67.1883 Q907.906 60.6258 907.906 49.9314 Q907.906 39.2371 913.051 32.6746 Q918.236 26.1121 926.459 26.1121 Q931.482 26.1121 935.047 28.0971 Q938.652 30.0415 941.002 34.0924 M915.603 49.9314 Q915.603 58.1548 918.965 62.8538 Q922.368 67.5124 928.282 67.5124 Q934.196 67.5124 937.599 62.8538 Q941.002 58.1548 941.002 49.9314 Q941.002 41.7081 937.599 37.0496 Q934.196 32.3505 928.282 32.3505 Q922.368 32.3505 918.965 37.0496 Q915.603 41.7081 915.603 49.9314 Z\" fill=\"#000000\" fill-rule=\"nonzero\" fill-opacity=\"1\" /><path clip-path=\"url(#clip380)\" d=\"M981.389 32.4315 Q975.394 32.4315 971.91 37.1306 Q968.426 41.7891 968.426 49.9314 Q968.426 58.0738 971.87 62.7728 Q975.353 67.4314 981.389 67.4314 Q987.344 67.4314 990.828 62.7323 Q994.312 58.0333 994.312 49.9314 Q994.312 41.8701 990.828 37.1711 Q987.344 32.4315 981.389 32.4315 M981.389 26.1121 Q991.111 26.1121 996.661 32.4315 Q1002.21 38.7509 1002.21 49.9314 Q1002.21 61.0714 996.661 67.4314 Q991.111 73.7508 981.389 73.7508 Q971.627 73.7508 966.077 67.4314 Q960.568 61.0714 960.568 49.9314 Q960.568 38.7509 966.077 32.4315 Q971.627 26.1121 981.389 26.1121 Z\" fill=\"#000000\" fill-rule=\"nonzero\" fill-opacity=\"1\" /><path clip-path=\"url(#clip380)\" d=\"M1070.79 34.0924 L1070.79 9.54393 L1078.25 9.54393 L1078.25 72.576 L1070.79 72.576 L1070.79 65.7705 Q1068.44 69.8214 1064.84 71.8063 Q1061.27 73.7508 1056.25 73.7508 Q1048.03 73.7508 1042.84 67.1883 Q1037.7 60.6258 1037.7 49.9314 Q1037.7 39.2371 1042.84 32.6746 Q1048.03 26.1121 1056.25 26.1121 Q1061.27 26.1121 1064.84 28.0971 Q1068.44 30.0415 1070.79 34.0924 M1045.39 49.9314 Q1045.39 58.1548 1048.76 62.8538 Q1052.16 67.5124 1058.07 67.5124 Q1063.99 67.5124 1067.39 62.8538 Q1070.79 58.1548 1070.79 49.9314 Q1070.79 41.7081 1067.39 37.0496 Q1063.99 32.3505 1058.07 32.3505 Q1052.16 32.3505 1048.76 37.0496 Q1045.39 41.7081 1045.39 49.9314 Z\" fill=\"#000000\" fill-rule=\"nonzero\" fill-opacity=\"1\" /><path clip-path=\"url(#clip380)\" d=\"M1111.18 32.4315 Q1105.18 32.4315 1101.7 37.1306 Q1098.22 41.7891 1098.22 49.9314 Q1098.22 58.0738 1101.66 62.7728 Q1105.14 67.4314 1111.18 67.4314 Q1117.14 67.4314 1120.62 62.7323 Q1124.1 58.0333 1124.1 49.9314 Q1124.1 41.8701 1120.62 37.1711 Q1117.14 32.4315 1111.18 32.4315 M1111.18 26.1121 Q1120.9 26.1121 1126.45 32.4315 Q1132 38.7509 1132 49.9314 Q1132 61.0714 1126.45 67.4314 Q1120.9 73.7508 1111.18 73.7508 Q1101.42 73.7508 1095.87 67.4314 Q1090.36 61.0714 1090.36 49.9314 Q1090.36 38.7509 1095.87 32.4315 Q1101.42 26.1121 1111.18 26.1121 Z\" fill=\"#000000\" fill-rule=\"nonzero\" fill-opacity=\"1\" /><path clip-path=\"url(#clip380)\" d=\"M1209.54 48.0275 L1209.54 51.6733 L1175.27 51.6733 Q1175.75 59.3701 1179.88 63.421 Q1184.06 67.4314 1191.47 67.4314 Q1195.76 67.4314 1199.77 66.3781 Q1203.82 65.3249 1207.79 63.2184 L1207.79 70.267 Q1203.78 71.9684 1199.57 72.8596 Q1195.36 73.7508 1191.02 73.7508 Q1180.17 73.7508 1173.81 67.4314 Q1167.49 61.1119 1167.49 50.3365 Q1167.49 39.1965 1173.48 32.6746 Q1179.52 26.1121 1189.73 26.1121 Q1198.88 26.1121 1204.19 32.0264 Q1209.54 37.9003 1209.54 48.0275 M1202.08 45.84 Q1202 39.7232 1198.64 36.0774 Q1195.32 32.4315 1189.81 32.4315 Q1183.57 32.4315 1179.8 35.9558 Q1176.08 39.4801 1175.51 45.8805 L1202.08 45.84 Z\" fill=\"#000000\" fill-rule=\"nonzero\" fill-opacity=\"1\" /><path clip-path=\"url(#clip380)\" d=\"M1248.06 34.1734 Q1246.8 33.4443 1245.31 33.1202 Q1243.85 32.7556 1242.07 32.7556 Q1235.75 32.7556 1232.34 36.8875 Q1228.98 40.9789 1228.98 48.6757 L1228.98 72.576 L1221.49 72.576 L1221.49 27.2059 L1228.98 27.2059 L1228.98 34.2544 Q1231.33 30.1225 1235.1 28.1376 Q1238.86 26.1121 1244.25 26.1121 Q1245.02 26.1121 1245.95 26.2337 Q1246.89 26.3147 1248.02 26.5172 L1248.06 34.1734 Z\" fill=\"#000000\" fill-rule=\"nonzero\" fill-opacity=\"1\" /><path clip-path=\"url(#clip380)\" d=\"M1280.71 34.1734 Q1279.45 33.4443 1277.96 33.1202 Q1276.5 32.7556 1274.72 32.7556 Q1268.4 32.7556 1264.99 36.8875 Q1261.63 40.9789 1261.63 48.6757 L1261.63 72.576 L1254.14 72.576 L1254.14 27.2059 L1261.63 27.2059 L1261.63 34.2544 Q1263.98 30.1225 1267.75 28.1376 Q1271.52 26.1121 1276.9 26.1121 Q1277.67 26.1121 1278.6 26.2337 Q1279.54 26.3147 1280.67 26.5172 L1280.71 34.1734 Z\" fill=\"#000000\" fill-rule=\"nonzero\" fill-opacity=\"1\" /><path clip-path=\"url(#clip380)\" d=\"M1304.29 32.4315 Q1298.29 32.4315 1294.81 37.1306 Q1291.32 41.7891 1291.32 49.9314 Q1291.32 58.0738 1294.77 62.7728 Q1298.25 67.4314 1304.29 67.4314 Q1310.24 67.4314 1313.73 62.7323 Q1317.21 58.0333 1317.21 49.9314 Q1317.21 41.8701 1313.73 37.1711 Q1310.24 32.4315 1304.29 32.4315 M1304.29 26.1121 Q1314.01 26.1121 1319.56 32.4315 Q1325.11 38.7509 1325.11 49.9314 Q1325.11 61.0714 1319.56 67.4314 Q1314.01 73.7508 1304.29 73.7508 Q1294.52 73.7508 1288.97 67.4314 Q1283.47 61.0714 1283.47 49.9314 Q1283.47 38.7509 1288.97 32.4315 Q1294.52 26.1121 1304.29 26.1121 Z\" fill=\"#000000\" fill-rule=\"nonzero\" fill-opacity=\"1\" /><path clip-path=\"url(#clip380)\" d=\"M1401.55 45.1919 L1401.55 72.576 L1394.1 72.576 L1394.1 45.4349 Q1394.1 38.994 1391.58 35.7938 Q1389.07 32.5936 1384.05 32.5936 Q1378.01 32.5936 1374.53 36.4419 Q1371.05 40.2903 1371.05 46.9338 L1371.05 72.576 L1363.55 72.576 L1363.55 27.2059 L1371.05 27.2059 L1371.05 34.2544 Q1373.72 30.163 1377.32 28.1376 Q1380.97 26.1121 1385.71 26.1121 Q1393.53 26.1121 1397.54 30.9732 Q1401.55 35.7938 1401.55 45.1919 Z\" fill=\"#000000\" fill-rule=\"nonzero\" fill-opacity=\"1\" /><path clip-path=\"url(#clip380)\" d=\"M1434 32.4315 Q1428 32.4315 1424.52 37.1306 Q1421.03 41.7891 1421.03 49.9314 Q1421.03 58.0738 1424.48 62.7728 Q1427.96 67.4314 1434 67.4314 Q1439.95 67.4314 1443.44 62.7323 Q1446.92 58.0333 1446.92 49.9314 Q1446.92 41.8701 1443.44 37.1711 Q1439.95 32.4315 1434 32.4315 M1434 26.1121 Q1443.72 26.1121 1449.27 32.4315 Q1454.82 38.7509 1454.82 49.9314 Q1454.82 61.0714 1449.27 67.4314 Q1443.72 73.7508 1434 73.7508 Q1424.23 73.7508 1418.68 67.4314 Q1413.18 61.0714 1413.18 49.9314 Q1413.18 38.7509 1418.68 32.4315 Q1424.23 26.1121 1434 26.1121 Z\" fill=\"#000000\" fill-rule=\"nonzero\" fill-opacity=\"1\" /><path clip-path=\"url(#clip380)\" d=\"M1532.35 48.0275 L1532.35 51.6733 L1498.08 51.6733 Q1498.57 59.3701 1502.7 63.421 Q1506.87 67.4314 1514.29 67.4314 Q1518.58 67.4314 1522.59 66.3781 Q1526.64 65.3249 1530.61 63.2184 L1530.61 70.267 Q1526.6 71.9684 1522.39 72.8596 Q1518.17 73.7508 1513.84 73.7508 Q1502.98 73.7508 1496.62 67.4314 Q1490.3 61.1119 1490.3 50.3365 Q1490.3 39.1965 1496.3 32.6746 Q1502.34 26.1121 1512.54 26.1121 Q1521.7 26.1121 1527.01 32.0264 Q1532.35 37.9003 1532.35 48.0275 M1524.9 45.84 Q1524.82 39.7232 1521.46 36.0774 Q1518.13 32.4315 1512.62 32.4315 Q1506.39 32.4315 1502.62 35.9558 Q1498.89 39.4801 1498.33 45.8805 L1524.9 45.84 Z\" fill=\"#000000\" fill-rule=\"nonzero\" fill-opacity=\"1\" /><path clip-path=\"url(#clip380)\" d=\"M1580.84 27.2059 L1564.44 49.2833 L1581.69 72.576 L1572.9 72.576 L1559.7 54.752 L1546.49 72.576 L1537.7 72.576 L1555.32 48.8377 L1539.2 27.2059 L1547.99 27.2059 L1560.02 43.369 L1572.05 27.2059 L1580.84 27.2059 Z\" fill=\"#000000\" fill-rule=\"nonzero\" fill-opacity=\"1\" /><path clip-path=\"url(#clip380)\" d=\"M1628.48 48.0275 L1628.48 51.6733 L1594.21 51.6733 Q1594.7 59.3701 1598.83 63.421 Q1603 67.4314 1610.41 67.4314 Q1614.71 67.4314 1618.72 66.3781 Q1622.77 65.3249 1626.74 63.2184 L1626.74 70.267 Q1622.73 71.9684 1618.52 72.8596 Q1614.3 73.7508 1609.97 73.7508 Q1599.11 73.7508 1592.75 67.4314 Q1586.43 61.1119 1586.43 50.3365 Q1586.43 39.1965 1592.43 32.6746 Q1598.46 26.1121 1608.67 26.1121 Q1617.83 26.1121 1623.13 32.0264 Q1628.48 37.9003 1628.48 48.0275 M1621.03 45.84 Q1620.95 39.7232 1617.58 36.0774 Q1614.26 32.4315 1608.75 32.4315 Q1602.51 32.4315 1598.75 35.9558 Q1595.02 39.4801 1594.45 45.8805 L1621.03 45.84 Z\" fill=\"#000000\" fill-rule=\"nonzero\" fill-opacity=\"1\" /><path clip-path=\"url(#clip380)\" d=\"M1676.04 35.9153 Q1678.83 30.8922 1682.72 28.5022 Q1686.61 26.1121 1691.88 26.1121 Q1698.97 26.1121 1702.81 31.0947 Q1706.66 36.0368 1706.66 45.1919 L1706.66 72.576 L1699.17 72.576 L1699.17 45.4349 Q1699.17 38.913 1696.86 35.7533 Q1694.55 32.5936 1689.81 32.5936 Q1684.02 32.5936 1680.66 36.4419 Q1677.29 40.2903 1677.29 46.9338 L1677.29 72.576 L1669.8 72.576 L1669.8 45.4349 Q1669.8 38.8725 1667.49 35.7533 Q1665.18 32.5936 1660.36 32.5936 Q1654.65 32.5936 1651.29 36.4824 Q1647.93 40.3308 1647.93 46.9338 L1647.93 72.576 L1640.43 72.576 L1640.43 27.2059 L1647.93 27.2059 L1647.93 34.2544 Q1650.48 30.082 1654.04 28.0971 Q1657.61 26.1121 1662.51 26.1121 Q1667.45 26.1121 1670.89 28.6237 Q1674.38 31.1352 1676.04 35.9153 Z\" fill=\"#000000\" fill-rule=\"nonzero\" fill-opacity=\"1\" /><path clip-path=\"url(#clip380)\" d=\"M1728.74 65.7705 L1728.74 89.8329 L1721.25 89.8329 L1721.25 27.2059 L1728.74 27.2059 L1728.74 34.0924 Q1731.09 30.0415 1734.65 28.0971 Q1738.26 26.1121 1743.24 26.1121 Q1751.51 26.1121 1756.65 32.6746 Q1761.84 39.2371 1761.84 49.9314 Q1761.84 60.6258 1756.65 67.1883 Q1751.51 73.7508 1743.24 73.7508 Q1738.26 73.7508 1734.65 71.8063 Q1731.09 69.8214 1728.74 65.7705 M1754.1 49.9314 Q1754.1 41.7081 1750.7 37.0496 Q1747.33 32.3505 1741.42 32.3505 Q1735.51 32.3505 1732.1 37.0496 Q1728.74 41.7081 1728.74 49.9314 Q1728.74 58.1548 1732.1 62.8538 Q1735.51 67.5124 1741.42 67.5124 Q1747.33 67.5124 1750.7 62.8538 Q1754.1 58.1548 1754.1 49.9314 Z\" fill=\"#000000\" fill-rule=\"nonzero\" fill-opacity=\"1\" /><path clip-path=\"url(#clip380)\" d=\"M1774.19 9.54393 L1781.65 9.54393 L1781.65 72.576 L1774.19 72.576 L1774.19 9.54393 Z\" fill=\"#000000\" fill-rule=\"nonzero\" fill-opacity=\"1\" /><path clip-path=\"url(#clip380)\" d=\"M1814.82 32.4315 Q1808.83 32.4315 1805.34 37.1306 Q1801.86 41.7891 1801.86 49.9314 Q1801.86 58.0738 1805.3 62.7728 Q1808.79 67.4314 1814.82 67.4314 Q1820.78 67.4314 1824.26 62.7323 Q1827.74 58.0333 1827.74 49.9314 Q1827.74 41.8701 1824.26 37.1711 Q1820.78 32.4315 1814.82 32.4315 M1814.82 26.1121 Q1824.54 26.1121 1830.09 32.4315 Q1835.64 38.7509 1835.64 49.9314 Q1835.64 61.0714 1830.09 67.4314 Q1824.54 73.7508 1814.82 73.7508 Q1805.06 73.7508 1799.51 67.4314 Q1794 61.0714 1794 49.9314 Q1794 38.7509 1799.51 32.4315 Q1805.06 26.1121 1814.82 26.1121 Z\" fill=\"#000000\" fill-rule=\"nonzero\" fill-opacity=\"1\" /><polyline clip-path=\"url(#clip382)\" style=\"stroke:#009af9; stroke-linecap:round; stroke-linejoin:round; stroke-width:12; stroke-opacity:1; fill:none\" points=\"2292.21,195.101 2157.68,279.891 2023.14,364.802 1888.6,449.742 1754.06,534.689 1619.53,619.638 1484.99,704.587 1350.45,789.536 1215.91,874.484 1081.38,959.415 946.838,1044.07 812.3,1128.84 677.762,1215.66 543.225,1296.24 408.687,1052.17 274.149,967.225 \"/>\n<circle clip-path=\"url(#clip382)\" cx=\"2292.21\" cy=\"195.101\" r=\"14.4\" fill=\"#009af9\" fill-rule=\"evenodd\" fill-opacity=\"1\" stroke=\"#000000\" stroke-opacity=\"1\" stroke-width=\"3.2\"/>\n<circle clip-path=\"url(#clip382)\" cx=\"2157.68\" cy=\"279.891\" r=\"14.4\" fill=\"#009af9\" fill-rule=\"evenodd\" fill-opacity=\"1\" stroke=\"#000000\" stroke-opacity=\"1\" stroke-width=\"3.2\"/>\n<circle clip-path=\"url(#clip382)\" cx=\"2023.14\" cy=\"364.802\" r=\"14.4\" fill=\"#009af9\" fill-rule=\"evenodd\" fill-opacity=\"1\" stroke=\"#000000\" stroke-opacity=\"1\" stroke-width=\"3.2\"/>\n<circle clip-path=\"url(#clip382)\" cx=\"1888.6\" cy=\"449.742\" r=\"14.4\" fill=\"#009af9\" fill-rule=\"evenodd\" fill-opacity=\"1\" stroke=\"#000000\" stroke-opacity=\"1\" stroke-width=\"3.2\"/>\n<circle clip-path=\"url(#clip382)\" cx=\"1754.06\" cy=\"534.689\" r=\"14.4\" fill=\"#009af9\" fill-rule=\"evenodd\" fill-opacity=\"1\" stroke=\"#000000\" stroke-opacity=\"1\" stroke-width=\"3.2\"/>\n<circle clip-path=\"url(#clip382)\" cx=\"1619.53\" cy=\"619.638\" r=\"14.4\" fill=\"#009af9\" fill-rule=\"evenodd\" fill-opacity=\"1\" stroke=\"#000000\" stroke-opacity=\"1\" stroke-width=\"3.2\"/>\n<circle clip-path=\"url(#clip382)\" cx=\"1484.99\" cy=\"704.587\" r=\"14.4\" fill=\"#009af9\" fill-rule=\"evenodd\" fill-opacity=\"1\" stroke=\"#000000\" stroke-opacity=\"1\" stroke-width=\"3.2\"/>\n<circle clip-path=\"url(#clip382)\" cx=\"1350.45\" cy=\"789.536\" r=\"14.4\" fill=\"#009af9\" fill-rule=\"evenodd\" fill-opacity=\"1\" stroke=\"#000000\" stroke-opacity=\"1\" stroke-width=\"3.2\"/>\n<circle clip-path=\"url(#clip382)\" cx=\"1215.91\" cy=\"874.484\" r=\"14.4\" fill=\"#009af9\" fill-rule=\"evenodd\" fill-opacity=\"1\" stroke=\"#000000\" stroke-opacity=\"1\" stroke-width=\"3.2\"/>\n<circle clip-path=\"url(#clip382)\" cx=\"1081.38\" cy=\"959.415\" r=\"14.4\" fill=\"#009af9\" fill-rule=\"evenodd\" fill-opacity=\"1\" stroke=\"#000000\" stroke-opacity=\"1\" stroke-width=\"3.2\"/>\n<circle clip-path=\"url(#clip382)\" cx=\"946.838\" cy=\"1044.07\" r=\"14.4\" fill=\"#009af9\" fill-rule=\"evenodd\" fill-opacity=\"1\" stroke=\"#000000\" stroke-opacity=\"1\" stroke-width=\"3.2\"/>\n<circle clip-path=\"url(#clip382)\" cx=\"812.3\" cy=\"1128.84\" r=\"14.4\" fill=\"#009af9\" fill-rule=\"evenodd\" fill-opacity=\"1\" stroke=\"#000000\" stroke-opacity=\"1\" stroke-width=\"3.2\"/>\n<circle clip-path=\"url(#clip382)\" cx=\"677.762\" cy=\"1215.66\" r=\"14.4\" fill=\"#009af9\" fill-rule=\"evenodd\" fill-opacity=\"1\" stroke=\"#000000\" stroke-opacity=\"1\" stroke-width=\"3.2\"/>\n<circle clip-path=\"url(#clip382)\" cx=\"543.225\" cy=\"1296.24\" r=\"14.4\" fill=\"#009af9\" fill-rule=\"evenodd\" fill-opacity=\"1\" stroke=\"#000000\" stroke-opacity=\"1\" stroke-width=\"3.2\"/>\n<circle clip-path=\"url(#clip382)\" cx=\"408.687\" cy=\"1052.17\" r=\"14.4\" fill=\"#009af9\" fill-rule=\"evenodd\" fill-opacity=\"1\" stroke=\"#000000\" stroke-opacity=\"1\" stroke-width=\"3.2\"/>\n<circle clip-path=\"url(#clip382)\" cx=\"274.149\" cy=\"967.225\" r=\"14.4\" fill=\"#009af9\" fill-rule=\"evenodd\" fill-opacity=\"1\" stroke=\"#000000\" stroke-opacity=\"1\" stroke-width=\"3.2\"/>\n<polyline clip-path=\"url(#clip382)\" style=\"stroke:#e26f46; stroke-linecap:round; stroke-linejoin:round; stroke-width:12; stroke-opacity:1; fill:none\" points=\"2292.21,161.699 2157.68,246.648 2023.14,331.598 1888.6,416.547 1754.06,501.496 1619.53,586.445 1484.99,671.395 1350.45,756.344 1215.91,841.293 1081.38,926.242 946.838,1011.19 812.3,1096.14 677.762,1181.09 543.225,1266.04 408.687,1350.99 274.149,1435.94 \"/>\n<path clip-path=\"url(#clip380)\" d=\"M1976.66 324.015 L2281.45 324.015 L2281.45 168.495 L1976.66 168.495  Z\" fill=\"#ffffff\" fill-rule=\"evenodd\" fill-opacity=\"1\"/>\n<polyline clip-path=\"url(#clip380)\" style=\"stroke:#000000; stroke-linecap:round; stroke-linejoin:round; stroke-width:4; stroke-opacity:1; fill:none\" points=\"1976.66,324.015 2281.45,324.015 2281.45,168.495 1976.66,168.495 1976.66,324.015 \"/>\n<polyline clip-path=\"url(#clip380)\" style=\"stroke:#009af9; stroke-linecap:round; stroke-linejoin:round; stroke-width:12; stroke-opacity:1; fill:none\" points=\"2000.43,220.335 2143.04,220.335 \"/>\n<circle clip-path=\"url(#clip380)\" cx=\"2071.73\" cy=\"220.335\" r=\"19.8069\" fill=\"#009af9\" fill-rule=\"evenodd\" fill-opacity=\"1\" stroke=\"#000000\" stroke-opacity=\"1\" stroke-width=\"4.55111\"/>\n<path clip-path=\"url(#clip380)\" d=\"M2166.8 203.055 L2188.66 203.055 L2188.66 206.99 L2171.48 206.99 L2171.48 217.222 L2187.94 217.222 L2187.94 221.157 L2171.48 221.157 L2171.48 233.68 L2189.07 233.68 L2189.07 237.615 L2166.8 237.615 L2166.8 203.055 Z\" fill=\"#000000\" fill-rule=\"nonzero\" fill-opacity=\"1\" /><path clip-path=\"url(#clip380)\" d=\"M2211.59 215.671 Q2210.88 215.254 2210.02 215.069 Q2209.19 214.861 2208.17 214.861 Q2204.56 214.861 2202.61 217.222 Q2200.69 219.56 2200.69 223.958 L2200.69 237.615 L2196.41 237.615 L2196.41 211.689 L2200.69 211.689 L2200.69 215.717 Q2202.03 213.356 2204.19 212.222 Q2206.34 211.064 2209.42 211.064 Q2209.86 211.064 2210.39 211.134 Q2210.92 211.18 2211.57 211.296 L2211.59 215.671 Z\" fill=\"#000000\" fill-rule=\"nonzero\" fill-opacity=\"1\" /><path clip-path=\"url(#clip380)\" d=\"M2230.25 215.671 Q2229.53 215.254 2228.68 215.069 Q2227.84 214.861 2226.83 214.861 Q2223.22 214.861 2221.27 217.222 Q2219.35 219.56 2219.35 223.958 L2219.35 237.615 L2215.07 237.615 L2215.07 211.689 L2219.35 211.689 L2219.35 215.717 Q2220.69 213.356 2222.84 212.222 Q2225 211.064 2228.08 211.064 Q2228.52 211.064 2229.05 211.134 Q2229.58 211.18 2230.23 211.296 L2230.25 215.671 Z\" fill=\"#000000\" fill-rule=\"nonzero\" fill-opacity=\"1\" /><path clip-path=\"url(#clip380)\" d=\"M2243.72 214.676 Q2240.3 214.676 2238.31 217.361 Q2236.32 220.023 2236.32 224.675 Q2236.32 229.328 2238.28 232.013 Q2240.28 234.675 2243.72 234.675 Q2247.13 234.675 2249.12 231.99 Q2251.11 229.305 2251.11 224.675 Q2251.11 220.069 2249.12 217.384 Q2247.13 214.676 2243.72 214.676 M2243.72 211.064 Q2249.28 211.064 2252.45 214.676 Q2255.62 218.287 2255.62 224.675 Q2255.62 231.041 2252.45 234.675 Q2249.28 238.287 2243.72 238.287 Q2238.15 238.287 2234.97 234.675 Q2231.83 231.041 2231.83 224.675 Q2231.83 218.287 2234.97 214.676 Q2238.15 211.064 2243.72 211.064 Z\" fill=\"#000000\" fill-rule=\"nonzero\" fill-opacity=\"1\" /><polyline clip-path=\"url(#clip380)\" style=\"stroke:#e26f46; stroke-linecap:round; stroke-linejoin:round; stroke-width:12; stroke-opacity:1; fill:none\" points=\"2000.43,272.175 2143.04,272.175 \"/>\n<path clip-path=\"url(#clip380)\" d=\"M2188.52 273.807 L2188.52 289.455 L2184.26 289.455 L2184.26 273.946 Q2184.26 270.265 2182.82 268.437 Q2181.39 266.608 2178.52 266.608 Q2175.07 266.608 2173.08 268.807 Q2171.09 271.006 2171.09 274.803 L2171.09 289.455 L2166.8 289.455 L2166.8 253.437 L2171.09 253.437 L2171.09 267.557 Q2172.61 265.219 2174.67 264.062 Q2176.76 262.904 2179.47 262.904 Q2183.93 262.904 2186.22 265.682 Q2188.52 268.437 2188.52 273.807 Z\" fill=\"#000000\" fill-rule=\"nonzero\" fill-opacity=\"1\" /><path clip-path=\"url(#clip380)\" d=\"M2214.67 254.895 L2227.24 267.789 L2222.59 267.789 L2212.41 258.645 L2202.22 267.789 L2197.57 267.789 L2210.14 254.895 L2214.67 254.895 Z\" fill=\"#000000\" fill-rule=\"nonzero\" fill-opacity=\"1\" /><path clip-path=\"url(#clip380)\" d=\"M2241.36 285.52 L2257.68 285.52 L2257.68 289.455 L2235.74 289.455 L2235.74 285.52 Q2238.4 282.765 2242.98 278.136 Q2247.59 273.483 2248.77 272.14 Q2251.02 269.617 2251.9 267.881 Q2252.8 266.122 2252.8 264.432 Q2252.8 261.678 2250.85 259.941 Q2248.93 258.205 2245.83 258.205 Q2243.63 258.205 2241.18 258.969 Q2238.75 259.733 2235.97 261.284 L2235.97 256.562 Q2238.79 255.428 2241.25 254.849 Q2243.7 254.27 2245.74 254.27 Q2251.11 254.27 2254.3 256.955 Q2257.5 259.641 2257.5 264.131 Q2257.5 266.261 2256.69 268.182 Q2255.9 270.08 2253.79 272.673 Q2253.22 273.344 2250.11 276.562 Q2247.01 279.756 2241.36 285.52 Z\" fill=\"#000000\" fill-rule=\"nonzero\" fill-opacity=\"1\" /></svg>\n"
          },
          "metadata": {},
          "execution_count": 40
        }
      ],
      "source": [
        "error_convergence()"
      ]
    },
    {
      "cell_type": "markdown",
      "metadata": {
        "id": "NLIxke5faYuc"
      },
      "source": []
    },
    {
      "cell_type": "markdown",
      "source": [
        "# Equação do calor"
      ],
      "metadata": {
        "id": "gwTWdAAieX-l"
      }
    },
    {
      "cell_type": "code",
      "source": [
        "function get_C_0!(C_0, u_0, n_elements, m, EQoLG, method)\n",
        "  if method == 1\n",
        "    h = 1/n_elements\n",
        "    @. C_0 = u_0(h:h:1-h)\n",
        "  elseif method == 2\n",
        "    C_0 .= get_K(n_elements, m, EQoLG)\n",
        "  end\n",
        "end"
      ],
      "metadata": {
        "id": "F2nSoI9XeeVE",
        "outputId": "a0bcac5a-2449-4ff0-d140-b1863adb2ebb",
        "colab": {
          "base_uri": "https://localhost:8080/"
        }
      },
      "execution_count": null,
      "outputs": [
        {
          "output_type": "execute_result",
          "data": {
            "text/plain": [
              "get_C_0! (generic function with 1 method)"
            ]
          },
          "metadata": {},
          "execution_count": 45
        }
      ]
    },
    {
      "cell_type": "code",
      "source": [
        "function get_C_n!(C_n, C_n_, A, B, n_elements, m, EQoLG, τ, n, f)\n",
        "\n",
        "end"
      ],
      "metadata": {
        "id": "-ccEVActhUde"
      },
      "execution_count": null,
      "outputs": []
    },
    {
      "cell_type": "markdown",
      "source": [
        "τ"
      ],
      "metadata": {
        "id": "nDxmoHQnii-G"
      }
    },
    {
      "cell_type": "code",
      "source": [],
      "metadata": {
        "id": "yGN14nS3ig6J"
      },
      "execution_count": null,
      "outputs": []
    }
  ],
  "metadata": {
    "kernelspec": {
      "display_name": "julia 1.8.2",
      "name": "julia"
    },
    "colab": {
      "provenance": []
    }
  },
  "nbformat": 4,
  "nbformat_minor": 0
}