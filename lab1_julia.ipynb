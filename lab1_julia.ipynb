{
 "cells": [
  {
   "cell_type": "markdown",
   "metadata": {
    "id": "fPYQf8ipaYuU"
   },
   "source": [
    "Pedro Jorge Oliveira Câmara - DRE: 120182069\n",
    "\n",
    "As partes teóricas estão no outro pdf!"
   ]
  },
  {
   "cell_type": "markdown",
   "metadata": {},
   "source": [
    "## Imports"
   ]
  },
  {
   "cell_type": "code",
   "execution_count": 493,
   "metadata": {},
   "outputs": [],
   "source": [
    "using LinearAlgebra\n",
    "using Plots\n",
    "using GaussQuadrature\n",
    "using SparseArrays\n",
    "using DataFrames"
   ]
  },
  {
   "cell_type": "markdown",
   "metadata": {},
   "source": [
    "## Trabalho 1"
   ]
  },
  {
   "cell_type": "markdown",
   "metadata": {
    "id": "WOUMpTcAaYuW"
   },
   "source": [
    "### Definições"
   ]
  },
  {
   "cell_type": "code",
   "execution_count": 494,
   "metadata": {
    "colab": {
     "base_uri": "https://localhost:8080/"
    },
    "id": "mGHdxDTWaYuW",
    "outputId": "a02f9e9a-5326-4f10-f916-023a9574cd63"
   },
   "outputs": [
    {
     "data": {
      "text/plain": [
       "f (generic function with 2 methods)"
      ]
     },
     "metadata": {},
     "output_type": "display_data"
    }
   ],
   "source": [
    "# definições das constantes utilizadas\n",
    "α = 1\n",
    "β = 1\n",
    "γ = 1\n",
    "\n",
    "x_min = 0\n",
    "x_max = 1\n",
    "\n",
    "\n",
    "# definição das funções u, f\n",
    "function u(x)\n",
    "    return sin(π*x)\n",
    "end\n",
    "\n",
    "\n",
    "function f(x)\n",
    "    return (α*π^2 + β)*sin(π*x) + γ*π*cos(π*x)\n",
    "end"
   ]
  },
  {
   "cell_type": "markdown",
   "metadata": {
    "id": "nq04-oldaYuX"
   },
   "source": [
    "### Galerkin e Matriz-Vetor"
   ]
  },
  {
   "cell_type": "markdown",
   "metadata": {
    "id": "woLTjxg-aYuX"
   },
   "source": [
    "#### Definições de $\\varphi$ e $\\frac{d \\varphi}{d \\xi}$"
   ]
  },
  {
   "cell_type": "code",
   "execution_count": 495,
   "metadata": {
    "colab": {
     "base_uri": "https://localhost:8080/"
    },
    "id": "TkkbhWy4aYuX",
    "outputId": "35928689-4e8a-417f-f4b9-1d898a001676"
   },
   "outputs": [
    {
     "data": {
      "text/plain": [
       "dφ (generic function with 1 method)"
      ]
     },
     "metadata": {},
     "output_type": "display_data"
    }
   ],
   "source": [
    "function φ(ξ, a)\n",
    "    if a == 1\n",
    "        return (1-ξ) / 2\n",
    "    elseif a == 2\n",
    "        return (1+ξ) / 2\n",
    "    end\n",
    "\n",
    "    return nothing\n",
    "end\n",
    "\n",
    "\n",
    "function dφ(ξ, a)\n",
    "    if a == 1\n",
    "        return -1/2\n",
    "    elseif a == 2\n",
    "        return 1/2\n",
    "    end\n",
    "\n",
    "    return nothing\n",
    "end\n"
   ]
  },
  {
   "cell_type": "markdown",
   "metadata": {
    "id": "4BpJmE-xaYuY"
   },
   "source": [
    "#### Montagem da matriz e do vetor locais"
   ]
  },
  {
   "cell_type": "markdown",
   "metadata": {
    "id": "kUrtUZvKaYuY"
   },
   "source": [
    "Cálculo da matriz local $K^e$ via quadratura gaussiana"
   ]
  },
  {
   "cell_type": "code",
   "execution_count": 496,
   "metadata": {
    "colab": {
     "base_uri": "https://localhost:8080/"
    },
    "id": "HwLy-3uvaYuY",
    "outputId": "1f2966a5-d5cd-44d4-ff6e-a4fd3312045d"
   },
   "outputs": [
    {
     "data": {
      "text/plain": [
       "get_K_e (generic function with 1 method)"
      ]
     },
     "metadata": {},
     "output_type": "display_data"
    }
   ],
   "source": [
    "function get_K_e(α, β, h)\n",
    "    # A e B são as constantes da equação da K local via quadratura gaussiana\n",
    "    # respectivamente as constantes do primeiro e segundo termo da equação\n",
    "    A = 2*α/h\n",
    "    B = β*h/2\n",
    "\n",
    "    # dois pontos para a quadratura\n",
    "    n_points = 2\n",
    "    P, W = legendre(n_points)\n",
    "\n",
    "    K_e = zeros(2, 2)\n",
    "\n",
    "    for a = 1:2\n",
    "        for b = 1:2\n",
    "            for j = 1:n_points\n",
    "                # operação diretamente da equação da K local\n",
    "                K_e[a, b] += W[j] * (A*dφ(P[j], b)*dφ(P[j], a) + B*φ(P[j], b)*φ(P[j], a) + γ*dφ(P[j], b)*φ(P[j], a))\n",
    "            end\n",
    "        end\n",
    "    end\n",
    "\n",
    "    return K_e\n",
    "end\n",
    "\n"
   ]
  },
  {
   "cell_type": "markdown",
   "metadata": {
    "id": "Tbqr1JaCaYuZ"
   },
   "source": [
    "Cálculo do vetor local $F^e$ via quadratura gaussiana"
   ]
  },
  {
   "cell_type": "code",
   "execution_count": 497,
   "metadata": {
    "colab": {
     "base_uri": "https://localhost:8080/"
    },
    "id": "M92ew-xTaYuZ",
    "outputId": "67bad5b2-d0aa-4873-c23c-07968e23e5f0"
   },
   "outputs": [
    {
     "data": {
      "text/plain": [
       "get_F_e (generic function with 2 methods)"
      ]
     },
     "metadata": {},
     "output_type": "display_data"
    }
   ],
   "source": [
    "# faz o mapeamento da troca de variável de ξ para x\n",
    "function x_from_ξ(ξ, h, x1e)\n",
    "    return (ξ+1) * h/2 + x1e\n",
    "end\n",
    "\n",
    "function get_F_e(f_, h, x1e, P, W)\n",
    "    F_e = zeros(2)\n",
    "\n",
    "    for a = 1:2\n",
    "        for j in 1:length(P)\n",
    "            x = x_from_ξ(P[j], h, x1e)\n",
    "            # operação diretamente da equação do F local\n",
    "            F_e[a] +=  W[j] * f_(x) * φ(P[j], a) * h / 2\n",
    "        end\n",
    "    end\n",
    "\n",
    "    return F_e\n",
    "end"
   ]
  },
  {
   "cell_type": "markdown",
   "metadata": {
    "id": "CZyTgSTjaYuZ"
   },
   "source": [
    "#### Montagem da matriz e do vetor globais"
   ]
  },
  {
   "cell_type": "markdown",
   "metadata": {
    "id": "wjOfhdxWaYuZ"
   },
   "source": [
    "Funções que calculam a matriz $LG$ e o vetor $EQ$"
   ]
  },
  {
   "cell_type": "code",
   "execution_count": 498,
   "metadata": {
    "colab": {
     "base_uri": "https://localhost:8080/"
    },
    "id": "CcE0aGrNaYuZ",
    "outputId": "d027d537-cd53-4eba-e2fa-ebd0f1b780c2"
   },
   "outputs": [
    {
     "data": {
      "text/plain": [
       "get_EQ (generic function with 2 methods)"
      ]
     },
     "metadata": {},
     "output_type": "display_data"
    }
   ],
   "source": [
    "# monta a matriz LG pela sua definição\n",
    "# [1 2 ... n_elements]\n",
    "# [2 3 ... n_elements+1]\n",
    "function get_LG(n_elements)\n",
    "    return transpose(hcat(1:n_elements, 2:n_elements+1))\n",
    "end\n",
    "\n",
    "\n",
    "# monta o vetor EQ pela sua definição\n",
    "# [m+1 1 2 ... m+1] com m = n_elements-1\n",
    "function get_EQ(n_elements)\n",
    "    m = n_elements-1\n",
    "    EQ = vcat(m+1, 1:m, m+1)\n",
    "\n",
    "    return m, EQ\n",
    "end"
   ]
  },
  {
   "cell_type": "markdown",
   "metadata": {
    "id": "HSRloar6aYua"
   },
   "source": [
    "Cálculo da matriz $K$ global"
   ]
  },
  {
   "cell_type": "code",
   "execution_count": 499,
   "metadata": {
    "colab": {
     "base_uri": "https://localhost:8080/"
    },
    "id": "R-xHHp5zaYua",
    "outputId": "ad361722-6ee7-4bfc-80f9-4c62d3ebdf6f"
   },
   "outputs": [
    {
     "data": {
      "text/plain": [
       "get_K (generic function with 1 method)"
      ]
     },
     "metadata": {},
     "output_type": "display_data"
    }
   ],
   "source": [
    "function get_K(α, β, n_elements, m, EQoLG)\n",
    "    h = 1/n_elements\n",
    "\n",
    "    K = spzeros(m+1, m+1)\n",
    "    K_e = get_K_e(α, β, h)\n",
    "\n",
    "    for e = 1:n_elements\n",
    "        for a = 1:2\n",
    "            i = EQoLG[a, e]\n",
    "            for b = 1:2\n",
    "                j = EQoLG[b, e]\n",
    "                K[i, j] += K_e[a, b]\n",
    "            end\n",
    "        end\n",
    "    end\n",
    "\n",
    "    return K[1:m, 1:m]\n",
    "end\n"
   ]
  },
  {
   "cell_type": "markdown",
   "metadata": {
    "id": "xZ4elUfqaYua"
   },
   "source": [
    "Cálculo do vetor $F$ global"
   ]
  },
  {
   "cell_type": "code",
   "execution_count": 500,
   "metadata": {
    "colab": {
     "base_uri": "https://localhost:8080/"
    },
    "id": "Gk7tv7XQaYua",
    "outputId": "3d04d973-57eb-4980-8e02-724d86d4347e"
   },
   "outputs": [
    {
     "data": {
      "text/plain": [
       "get_F (generic function with 2 methods)"
      ]
     },
     "metadata": {},
     "output_type": "display_data"
    }
   ],
   "source": [
    "function get_F(f_, n_elements, m, EQoLG)\n",
    "    h = 1/n_elements\n",
    "    F = zeros(m+1)\n",
    "\n",
    "    n_points = 5\n",
    "    P, W = legendre(n_points)\n",
    "\n",
    "    for e = 1:n_elements\n",
    "        F_e = get_F_e(f_, h, (e-1)*h, P, W)\n",
    "        for a = 1:2\n",
    "            i = EQoLG[a, e]\n",
    "            F[i] += F_e[a]\n",
    "        end\n",
    "    end\n",
    "\n",
    "    return F[1:m]\n",
    "end\n"
   ]
  },
  {
   "cell_type": "markdown",
   "metadata": {
    "id": "OCjs_AxyaYua"
   },
   "source": [
    "#### Erro $L2$"
   ]
  },
  {
   "cell_type": "code",
   "execution_count": 501,
   "metadata": {
    "colab": {
     "base_uri": "https://localhost:8080/"
    },
    "id": "_QCFhwIfaYua",
    "outputId": "27f5c5f8-9087-40b1-e06f-cc39df32317a"
   },
   "outputs": [
    {
     "data": {
      "text/plain": [
       "error_L2_norm (generic function with 2 methods)"
      ]
     },
     "metadata": {},
     "output_type": "display_data"
    }
   ],
   "source": [
    "function error_L2_norm(u, c, n_elements, EQoLG)\n",
    "    h = 1/n_elements\n",
    "    error = 0\n",
    "\n",
    "    n_points = 5\n",
    "    P, W = legendre(n_points)\n",
    "\n",
    "    # aplica φ aos pontos de quadratura\n",
    "    φ1P = φ.(P, 1)\n",
    "    φ2P = φ.(P, 2)\n",
    "\n",
    "    # calcula a equação do erro\n",
    "    for e = 1:n_elements\n",
    "        for j = 1:n_points\n",
    "            x = x_from_ξ(P[j], h, (e-1)*h)\n",
    "            error += W[j] * (u(x) - c[EQoLG[1,e]]*φ1P[j] - c[EQoLG[2, e]]*φ2P[j])^2\n",
    "        end\n",
    "    end\n",
    "\n",
    "    return sqrt(h/2 * error)\n",
    "end"
   ]
  },
  {
   "cell_type": "markdown",
   "metadata": {
    "id": "388mTzYtaYua"
   },
   "source": [
    "#### Resultados numéricos - Comparação"
   ]
  },
  {
   "cell_type": "markdown",
   "metadata": {
    "id": "bkaRo_QYaYua"
   },
   "source": [
    "Utilizando $4$ elementos e $h = 1/4$"
   ]
  },
  {
   "cell_type": "code",
   "execution_count": 502,
   "metadata": {
    "colab": {
     "base_uri": "https://localhost:8080/"
    },
    "id": "wPLeR9tnaYua",
    "outputId": "23ab9890-a640-4c4a-ee92-a07cd6592eb6"
   },
   "outputs": [
    {
     "data": {
      "text/plain": [
       "3-element Vector{Float64}:\n",
       " 0.7137289051760546\n",
       " 1.0053005170657479\n",
       " 0.7076694368382578"
      ]
     },
     "metadata": {},
     "output_type": "display_data"
    }
   ],
   "source": [
    "n_elements = 4\n",
    "h = 1/n_elements\n",
    "\n",
    "LG = get_LG(n_elements)\n",
    "m, EQ = get_EQ(n_elements)\n",
    "EQoLG = EQ[LG]\n",
    "\n",
    "K = get_K(α, β, n_elements, m, EQoLG)\n",
    "F = get_F(f, n_elements, m, EQoLG)\n",
    "\n",
    "c = K \\ F"
   ]
  },
  {
   "cell_type": "code",
   "execution_count": 503,
   "metadata": {
    "colab": {
     "base_uri": "https://localhost:8080/",
     "height": 421
    },
    "id": "w4yUsCmWaYub",
    "outputId": "0e6a98d8-88e3-49bb-984f-384a763c11b6"
   },
   "outputs": [
    {
     "data": {
      "image/png": "[encoded data removed]",
      "image/svg+xml": [
       "<?xml version=\"1.0\" encoding=\"utf-8\"?>\n",
       "<svg xmlns=\"http://www.w3.org/2000/svg\" xmlns:xlink=\"http://www.w3.org/1999/xlink\" width=\"600\" height=\"400\" viewBox=\"0 0 2400 1600\">\n",
       "<defs>\n",
       "  <clipPath id=\"clip040\">\n",
       "    <rect x=\"0\" y=\"0\" width=\"2400\" height=\"1600\"/>\n",
       "  </clipPath>\n",
       "</defs>\n",
       "<path clip-path=\"url(#clip040)\" d=\"M0 1600 L2400 1600 L2400 0 L0 0  Z\" fill=\"#ffffff\" fill-rule=\"evenodd\" fill-opacity=\"1\"/>\n",
       "<defs>\n",
       "  <clipPath id=\"clip041\">\n",
       "    <rect x=\"480\" y=\"0\" width=\"1681\" height=\"1600\"/>\n",
       "  </clipPath>\n",
       "</defs>\n",
       "<path clip-path=\"url(#clip040)\" d=\"M186.274 1486.45 L2352.76 1486.45 L2352.76 123.472 L186.274 123.472  Z\" fill=\"#ffffff\" fill-rule=\"evenodd\" fill-opacity=\"1\"/>\n",
       "<defs>\n",
       "  <clipPath id=\"clip042\">\n",
       "    <rect x=\"186\" y=\"123\" width=\"2167\" height=\"1364\"/>\n",
       "  </clipPath>\n",
       "</defs>\n",
       "<polyline clip-path=\"url(#clip042)\" style=\"stroke:#000000; stroke-linecap:round; stroke-linejoin:round; stroke-width:2; stroke-opacity:0.1; fill:none\" points=\"247.59,1486.45 247.59,123.472 \"/>\n",
       "<polyline clip-path=\"url(#clip042)\" style=\"stroke:#000000; stroke-linecap:round; stroke-linejoin:round; stroke-width:2; stroke-opacity:0.1; fill:none\" points=\"758.552,1486.45 758.552,123.472 \"/>\n",
       "<polyline clip-path=\"url(#clip042)\" style=\"stroke:#000000; stroke-linecap:round; stroke-linejoin:round; stroke-width:2; stroke-opacity:0.1; fill:none\" points=\"1269.51,1486.45 1269.51,123.472 \"/>\n",
       "<polyline clip-path=\"url(#clip042)\" style=\"stroke:#000000; stroke-linecap:round; stroke-linejoin:round; stroke-width:2; stroke-opacity:0.1; fill:none\" points=\"1780.48,1486.45 1780.48,123.472 \"/>\n",
       "<polyline clip-path=\"url(#clip042)\" style=\"stroke:#000000; stroke-linecap:round; stroke-linejoin:round; stroke-width:2; stroke-opacity:0.1; fill:none\" points=\"2291.44,1486.45 2291.44,123.472 \"/>\n",
       "<polyline clip-path=\"url(#clip042)\" style=\"stroke:#000000; stroke-linecap:round; stroke-linejoin:round; stroke-width:2; stroke-opacity:0.1; fill:none\" points=\"186.274,1447.87 2352.76,1447.87 \"/>\n",
       "<polyline clip-path=\"url(#clip042)\" style=\"stroke:#000000; stroke-linecap:round; stroke-linejoin:round; stroke-width:2; stroke-opacity:0.1; fill:none\" points=\"186.274,1128.11 2352.76,1128.11 \"/>\n",
       "<polyline clip-path=\"url(#clip042)\" style=\"stroke:#000000; stroke-linecap:round; stroke-linejoin:round; stroke-width:2; stroke-opacity:0.1; fill:none\" points=\"186.274,808.35 2352.76,808.35 \"/>\n",
       "<polyline clip-path=\"url(#clip042)\" style=\"stroke:#000000; stroke-linecap:round; stroke-linejoin:round; stroke-width:2; stroke-opacity:0.1; fill:none\" points=\"186.274,488.588 2352.76,488.588 \"/>\n",
       "<polyline clip-path=\"url(#clip042)\" style=\"stroke:#000000; stroke-linecap:round; stroke-linejoin:round; stroke-width:2; stroke-opacity:0.1; fill:none\" points=\"186.274,168.827 2352.76,168.827 \"/>\n",
       "<polyline clip-path=\"url(#clip040)\" style=\"stroke:#000000; stroke-linecap:round; stroke-linejoin:round; stroke-width:4; stroke-opacity:1; fill:none\" points=\"186.274,1486.45 2352.76,1486.45 \"/>\n",
       "<polyline clip-path=\"url(#clip040)\" style=\"stroke:#000000; stroke-linecap:round; stroke-linejoin:round; stroke-width:4; stroke-opacity:1; fill:none\" points=\"247.59,1486.45 247.59,1467.55 \"/>\n",
       "<polyline clip-path=\"url(#clip040)\" style=\"stroke:#000000; stroke-linecap:round; stroke-linejoin:round; stroke-width:4; stroke-opacity:1; fill:none\" points=\"758.552,1486.45 758.552,1467.55 \"/>\n",
       "<polyline clip-path=\"url(#clip040)\" style=\"stroke:#000000; stroke-linecap:round; stroke-linejoin:round; stroke-width:4; stroke-opacity:1; fill:none\" points=\"1269.51,1486.45 1269.51,1467.55 \"/>\n",
       "<polyline clip-path=\"url(#clip040)\" style=\"stroke:#000000; stroke-linecap:round; stroke-linejoin:round; stroke-width:4; stroke-opacity:1; fill:none\" points=\"1780.48,1486.45 1780.48,1467.55 \"/>\n",
       "<polyline clip-path=\"url(#clip040)\" style=\"stroke:#000000; stroke-linecap:round; stroke-linejoin:round; stroke-width:4; stroke-opacity:1; fill:none\" points=\"2291.44,1486.45 2291.44,1467.55 \"/>\n",
       "<path clip-path=\"url(#clip040)\" d=\"M209.893 1517.37 Q206.282 1517.37 204.453 1520.93 Q202.648 1524.47 202.648 1531.6 Q202.648 1538.71 204.453 1542.27 Q206.282 1545.82 209.893 1545.82 Q213.527 1545.82 215.333 1542.27 Q217.161 1538.71 217.161 1531.6 Q217.161 1524.47 215.333 1520.93 Q213.527 1517.37 209.893 1517.37 M209.893 1513.66 Q215.703 1513.66 218.759 1518.27 Q221.837 1522.85 221.837 1531.6 Q221.837 1540.33 218.759 1544.94 Q215.703 1549.52 209.893 1549.52 Q204.083 1549.52 201.004 1544.94 Q197.949 1540.33 197.949 1531.6 Q197.949 1522.85 201.004 1518.27 Q204.083 1513.66 209.893 1513.66 Z\" fill=\"#000000\" fill-rule=\"nonzero\" fill-opacity=\"1\" /><path clip-path=\"url(#clip040)\" d=\"M230.055 1542.97 L234.939 1542.97 L234.939 1548.85 L230.055 1548.85 L230.055 1542.97 Z\" fill=\"#000000\" fill-rule=\"nonzero\" fill-opacity=\"1\" /><path clip-path=\"url(#clip040)\" d=\"M255.124 1517.37 Q251.513 1517.37 249.684 1520.93 Q247.879 1524.47 247.879 1531.6 Q247.879 1538.71 249.684 1542.27 Q251.513 1545.82 255.124 1545.82 Q258.758 1545.82 260.564 1542.27 Q262.393 1538.71 262.393 1531.6 Q262.393 1524.47 260.564 1520.93 Q258.758 1517.37 255.124 1517.37 M255.124 1513.66 Q260.934 1513.66 263.99 1518.27 Q267.069 1522.85 267.069 1531.6 Q267.069 1540.33 263.99 1544.94 Q260.934 1549.52 255.124 1549.52 Q249.314 1549.52 246.235 1544.94 Q243.18 1540.33 243.18 1531.6 Q243.18 1522.85 246.235 1518.27 Q249.314 1513.66 255.124 1513.66 Z\" fill=\"#000000\" fill-rule=\"nonzero\" fill-opacity=\"1\" /><path clip-path=\"url(#clip040)\" d=\"M285.286 1517.37 Q281.675 1517.37 279.846 1520.93 Q278.041 1524.47 278.041 1531.6 Q278.041 1538.71 279.846 1542.27 Q281.675 1545.82 285.286 1545.82 Q288.92 1545.82 290.726 1542.27 Q292.555 1538.71 292.555 1531.6 Q292.555 1524.47 290.726 1520.93 Q288.92 1517.37 285.286 1517.37 M285.286 1513.66 Q291.096 1513.66 294.152 1518.27 Q297.23 1522.85 297.23 1531.6 Q297.23 1540.33 294.152 1544.94 Q291.096 1549.52 285.286 1549.52 Q279.476 1549.52 276.397 1544.94 Q273.342 1540.33 273.342 1531.6 Q273.342 1522.85 276.397 1518.27 Q279.476 1513.66 285.286 1513.66 Z\" fill=\"#000000\" fill-rule=\"nonzero\" fill-opacity=\"1\" /><path clip-path=\"url(#clip040)\" d=\"M721.353 1517.37 Q717.742 1517.37 715.914 1520.93 Q714.108 1524.47 714.108 1531.6 Q714.108 1538.71 715.914 1542.27 Q717.742 1545.82 721.353 1545.82 Q724.988 1545.82 726.793 1542.27 Q728.622 1538.71 728.622 1531.6 Q728.622 1524.47 726.793 1520.93 Q724.988 1517.37 721.353 1517.37 M721.353 1513.66 Q727.164 1513.66 730.219 1518.27 Q733.298 1522.85 733.298 1531.6 Q733.298 1540.33 730.219 1544.94 Q727.164 1549.52 721.353 1549.52 Q715.543 1549.52 712.465 1544.94 Q709.409 1540.33 709.409 1531.6 Q709.409 1522.85 712.465 1518.27 Q715.543 1513.66 721.353 1513.66 Z\" fill=\"#000000\" fill-rule=\"nonzero\" fill-opacity=\"1\" /><path clip-path=\"url(#clip040)\" d=\"M741.515 1542.97 L746.4 1542.97 L746.4 1548.85 L741.515 1548.85 L741.515 1542.97 Z\" fill=\"#000000\" fill-rule=\"nonzero\" fill-opacity=\"1\" /><path clip-path=\"url(#clip040)\" d=\"M760.612 1544.91 L776.932 1544.91 L776.932 1548.85 L754.987 1548.85 L754.987 1544.91 Q757.649 1542.16 762.233 1537.53 Q766.839 1532.88 768.02 1531.53 Q770.265 1529.01 771.145 1527.27 Q772.048 1525.51 772.048 1523.82 Q772.048 1521.07 770.103 1519.33 Q768.182 1517.6 765.08 1517.6 Q762.881 1517.6 760.427 1518.36 Q757.997 1519.13 755.219 1520.68 L755.219 1515.95 Q758.043 1514.82 760.497 1514.24 Q762.95 1513.66 764.987 1513.66 Q770.358 1513.66 773.552 1516.35 Q776.747 1519.03 776.747 1523.52 Q776.747 1525.65 775.936 1527.57 Q775.149 1529.47 773.043 1532.07 Q772.464 1532.74 769.362 1535.95 Q766.261 1539.15 760.612 1544.91 Z\" fill=\"#000000\" fill-rule=\"nonzero\" fill-opacity=\"1\" /><path clip-path=\"url(#clip040)\" d=\"M786.793 1514.29 L805.149 1514.29 L805.149 1518.22 L791.075 1518.22 L791.075 1526.7 Q792.094 1526.35 793.112 1526.19 Q794.131 1526 795.149 1526 Q800.936 1526 804.316 1529.17 Q807.695 1532.34 807.695 1537.76 Q807.695 1543.34 804.223 1546.44 Q800.751 1549.52 794.432 1549.52 Q792.256 1549.52 789.987 1549.15 Q787.742 1548.78 785.335 1548.04 L785.335 1543.34 Q787.418 1544.47 789.64 1545.03 Q791.862 1545.58 794.339 1545.58 Q798.344 1545.58 800.682 1543.48 Q803.02 1541.37 803.02 1537.76 Q803.02 1534.15 800.682 1532.04 Q798.344 1529.94 794.339 1529.94 Q792.464 1529.94 790.589 1530.35 Q788.737 1530.77 786.793 1531.65 L786.793 1514.29 Z\" fill=\"#000000\" fill-rule=\"nonzero\" fill-opacity=\"1\" /><path clip-path=\"url(#clip040)\" d=\"M1231.82 1517.37 Q1228.21 1517.37 1226.38 1520.93 Q1224.57 1524.47 1224.57 1531.6 Q1224.57 1538.71 1226.38 1542.27 Q1228.21 1545.82 1231.82 1545.82 Q1235.45 1545.82 1237.26 1542.27 Q1239.09 1538.71 1239.09 1531.6 Q1239.09 1524.47 1237.26 1520.93 Q1235.45 1517.37 1231.82 1517.37 M1231.82 1513.66 Q1237.63 1513.66 1240.68 1518.27 Q1243.76 1522.85 1243.76 1531.6 Q1243.76 1540.33 1240.68 1544.94 Q1237.63 1549.52 1231.82 1549.52 Q1226.01 1549.52 1222.93 1544.94 Q1219.87 1540.33 1219.87 1531.6 Q1219.87 1522.85 1222.93 1518.27 Q1226.01 1513.66 1231.82 1513.66 Z\" fill=\"#000000\" fill-rule=\"nonzero\" fill-opacity=\"1\" /><path clip-path=\"url(#clip040)\" d=\"M1251.98 1542.97 L1256.86 1542.97 L1256.86 1548.85 L1251.98 1548.85 L1251.98 1542.97 Z\" fill=\"#000000\" fill-rule=\"nonzero\" fill-opacity=\"1\" /><path clip-path=\"url(#clip040)\" d=\"M1267.1 1514.29 L1285.45 1514.29 L1285.45 1518.22 L1271.38 1518.22 L1271.38 1526.7 Q1272.4 1526.35 1273.42 1526.19 Q1274.43 1526 1275.45 1526 Q1281.24 1526 1284.62 1529.17 Q1288 1532.34 1288 1537.76 Q1288 1543.34 1284.53 1546.44 Q1281.05 1549.52 1274.73 1549.52 Q1272.56 1549.52 1270.29 1549.15 Q1268.05 1548.78 1265.64 1548.04 L1265.64 1543.34 Q1267.72 1544.47 1269.94 1545.03 Q1272.17 1545.58 1274.64 1545.58 Q1278.65 1545.58 1280.98 1543.48 Q1283.32 1541.37 1283.32 1537.76 Q1283.32 1534.15 1280.98 1532.04 Q1278.65 1529.94 1274.64 1529.94 Q1272.77 1529.94 1270.89 1530.35 Q1269.04 1530.77 1267.1 1531.65 L1267.1 1514.29 Z\" fill=\"#000000\" fill-rule=\"nonzero\" fill-opacity=\"1\" /><path clip-path=\"url(#clip040)\" d=\"M1307.21 1517.37 Q1303.6 1517.37 1301.77 1520.93 Q1299.97 1524.47 1299.97 1531.6 Q1299.97 1538.71 1301.77 1542.27 Q1303.6 1545.82 1307.21 1545.82 Q1310.85 1545.82 1312.65 1542.27 Q1314.48 1538.71 1314.48 1531.6 Q1314.48 1524.47 1312.65 1520.93 Q1310.85 1517.37 1307.21 1517.37 M1307.21 1513.66 Q1313.02 1513.66 1316.08 1518.27 Q1319.16 1522.85 1319.16 1531.6 Q1319.16 1540.33 1316.08 1544.94 Q1313.02 1549.52 1307.21 1549.52 Q1301.4 1549.52 1298.32 1544.94 Q1295.27 1540.33 1295.27 1531.6 Q1295.27 1522.85 1298.32 1518.27 Q1301.4 1513.66 1307.21 1513.66 Z\" fill=\"#000000\" fill-rule=\"nonzero\" fill-opacity=\"1\" /><path clip-path=\"url(#clip040)\" d=\"M1743.28 1517.37 Q1739.67 1517.37 1737.84 1520.93 Q1736.03 1524.47 1736.03 1531.6 Q1736.03 1538.71 1737.84 1542.27 Q1739.67 1545.82 1743.28 1545.82 Q1746.91 1545.82 1748.72 1542.27 Q1750.55 1538.71 1750.55 1531.6 Q1750.55 1524.47 1748.72 1520.93 Q1746.91 1517.37 1743.28 1517.37 M1743.28 1513.66 Q1749.09 1513.66 1752.14 1518.27 Q1755.22 1522.85 1755.22 1531.6 Q1755.22 1540.33 1752.14 1544.94 Q1749.09 1549.52 1743.28 1549.52 Q1737.47 1549.52 1734.39 1544.94 Q1731.33 1540.33 1731.33 1531.6 Q1731.33 1522.85 1734.39 1518.27 Q1737.47 1513.66 1743.28 1513.66 Z\" fill=\"#000000\" fill-rule=\"nonzero\" fill-opacity=\"1\" /><path clip-path=\"url(#clip040)\" d=\"M1763.44 1542.97 L1768.32 1542.97 L1768.32 1548.85 L1763.44 1548.85 L1763.44 1542.97 Z\" fill=\"#000000\" fill-rule=\"nonzero\" fill-opacity=\"1\" /><path clip-path=\"url(#clip040)\" d=\"M1777.33 1514.29 L1799.55 1514.29 L1799.55 1516.28 L1787.01 1548.85 L1782.12 1548.85 L1793.93 1518.22 L1777.33 1518.22 L1777.33 1514.29 Z\" fill=\"#000000\" fill-rule=\"nonzero\" fill-opacity=\"1\" /><path clip-path=\"url(#clip040)\" d=\"M1808.72 1514.29 L1827.07 1514.29 L1827.07 1518.22 L1813 1518.22 L1813 1526.7 Q1814.02 1526.35 1815.04 1526.19 Q1816.06 1526 1817.07 1526 Q1822.86 1526 1826.24 1529.17 Q1829.62 1532.34 1829.62 1537.76 Q1829.62 1543.34 1826.15 1546.44 Q1822.68 1549.52 1816.36 1549.52 Q1814.18 1549.52 1811.91 1549.15 Q1809.67 1548.78 1807.26 1548.04 L1807.26 1543.34 Q1809.34 1544.47 1811.57 1545.03 Q1813.79 1545.58 1816.26 1545.58 Q1820.27 1545.58 1822.61 1543.48 Q1824.95 1541.37 1824.95 1537.76 Q1824.95 1534.15 1822.61 1532.04 Q1820.27 1529.94 1816.26 1529.94 Q1814.39 1529.94 1812.51 1530.35 Q1810.66 1530.77 1808.72 1531.65 L1808.72 1514.29 Z\" fill=\"#000000\" fill-rule=\"nonzero\" fill-opacity=\"1\" /><path clip-path=\"url(#clip040)\" d=\"M2243.51 1544.91 L2251.15 1544.91 L2251.15 1518.55 L2242.84 1520.21 L2242.84 1515.95 L2251.1 1514.29 L2255.78 1514.29 L2255.78 1544.91 L2263.42 1544.91 L2263.42 1548.85 L2243.51 1548.85 L2243.51 1544.91 Z\" fill=\"#000000\" fill-rule=\"nonzero\" fill-opacity=\"1\" /><path clip-path=\"url(#clip040)\" d=\"M2272.86 1542.97 L2277.75 1542.97 L2277.75 1548.85 L2272.86 1548.85 L2272.86 1542.97 Z\" fill=\"#000000\" fill-rule=\"nonzero\" fill-opacity=\"1\" /><path clip-path=\"url(#clip040)\" d=\"M2297.93 1517.37 Q2294.32 1517.37 2292.49 1520.93 Q2290.69 1524.47 2290.69 1531.6 Q2290.69 1538.71 2292.49 1542.27 Q2294.32 1545.82 2297.93 1545.82 Q2301.57 1545.82 2303.37 1542.27 Q2305.2 1538.71 2305.2 1531.6 Q2305.2 1524.47 2303.37 1520.93 Q2301.57 1517.37 2297.93 1517.37 M2297.93 1513.66 Q2303.74 1513.66 2306.8 1518.27 Q2309.88 1522.85 2309.88 1531.6 Q2309.88 1540.33 2306.8 1544.94 Q2303.74 1549.52 2297.93 1549.52 Q2292.12 1549.52 2289.04 1544.94 Q2285.99 1540.33 2285.99 1531.6 Q2285.99 1522.85 2289.04 1518.27 Q2292.12 1513.66 2297.93 1513.66 Z\" fill=\"#000000\" fill-rule=\"nonzero\" fill-opacity=\"1\" /><path clip-path=\"url(#clip040)\" d=\"M2328.1 1517.37 Q2324.48 1517.37 2322.66 1520.93 Q2320.85 1524.47 2320.85 1531.6 Q2320.85 1538.71 2322.66 1542.27 Q2324.48 1545.82 2328.1 1545.82 Q2331.73 1545.82 2333.54 1542.27 Q2335.36 1538.71 2335.36 1531.6 Q2335.36 1524.47 2333.54 1520.93 Q2331.73 1517.37 2328.1 1517.37 M2328.1 1513.66 Q2333.91 1513.66 2336.96 1518.27 Q2340.04 1522.85 2340.04 1531.6 Q2340.04 1540.33 2336.96 1544.94 Q2333.91 1549.52 2328.1 1549.52 Q2322.29 1549.52 2319.21 1544.94 Q2316.15 1540.33 2316.15 1531.6 Q2316.15 1522.85 2319.21 1518.27 Q2322.29 1513.66 2328.1 1513.66 Z\" fill=\"#000000\" fill-rule=\"nonzero\" fill-opacity=\"1\" /><polyline clip-path=\"url(#clip040)\" style=\"stroke:#000000; stroke-linecap:round; stroke-linejoin:round; stroke-width:4; stroke-opacity:1; fill:none\" points=\"186.274,1486.45 186.274,123.472 \"/>\n",
       "<polyline clip-path=\"url(#clip040)\" style=\"stroke:#000000; stroke-linecap:round; stroke-linejoin:round; stroke-width:4; stroke-opacity:1; fill:none\" points=\"186.274,1447.87 205.172,1447.87 \"/>\n",
       "<polyline clip-path=\"url(#clip040)\" style=\"stroke:#000000; stroke-linecap:round; stroke-linejoin:round; stroke-width:4; stroke-opacity:1; fill:none\" points=\"186.274,1128.11 205.172,1128.11 \"/>\n",
       "<polyline clip-path=\"url(#clip040)\" style=\"stroke:#000000; stroke-linecap:round; stroke-linejoin:round; stroke-width:4; stroke-opacity:1; fill:none\" points=\"186.274,808.35 205.172,808.35 \"/>\n",
       "<polyline clip-path=\"url(#clip040)\" style=\"stroke:#000000; stroke-linecap:round; stroke-linejoin:round; stroke-width:4; stroke-opacity:1; fill:none\" points=\"186.274,488.588 205.172,488.588 \"/>\n",
       "<polyline clip-path=\"url(#clip040)\" style=\"stroke:#000000; stroke-linecap:round; stroke-linejoin:round; stroke-width:4; stroke-opacity:1; fill:none\" points=\"186.274,168.827 205.172,168.827 \"/>\n",
       "<path clip-path=\"url(#clip040)\" d=\"M62.9365 1433.67 Q59.3254 1433.67 57.4967 1437.24 Q55.6912 1440.78 55.6912 1447.91 Q55.6912 1455.01 57.4967 1458.58 Q59.3254 1462.12 62.9365 1462.12 Q66.5707 1462.12 68.3763 1458.58 Q70.205 1455.01 70.205 1447.91 Q70.205 1440.78 68.3763 1437.24 Q66.5707 1433.67 62.9365 1433.67 M62.9365 1429.97 Q68.7467 1429.97 71.8022 1434.57 Q74.8809 1439.16 74.8809 1447.91 Q74.8809 1456.63 71.8022 1461.24 Q68.7467 1465.82 62.9365 1465.82 Q57.1264 1465.82 54.0477 1461.24 Q50.9921 1456.63 50.9921 1447.91 Q50.9921 1439.16 54.0477 1434.57 Q57.1264 1429.97 62.9365 1429.97 Z\" fill=\"#000000\" fill-rule=\"nonzero\" fill-opacity=\"1\" /><path clip-path=\"url(#clip040)\" d=\"M83.0984 1459.27 L87.9827 1459.27 L87.9827 1465.15 L83.0984 1465.15 L83.0984 1459.27 Z\" fill=\"#000000\" fill-rule=\"nonzero\" fill-opacity=\"1\" /><path clip-path=\"url(#clip040)\" d=\"M108.168 1433.67 Q104.557 1433.67 102.728 1437.24 Q100.922 1440.78 100.922 1447.91 Q100.922 1455.01 102.728 1458.58 Q104.557 1462.12 108.168 1462.12 Q111.802 1462.12 113.608 1458.58 Q115.436 1455.01 115.436 1447.91 Q115.436 1440.78 113.608 1437.24 Q111.802 1433.67 108.168 1433.67 M108.168 1429.97 Q113.978 1429.97 117.033 1434.57 Q120.112 1439.16 120.112 1447.91 Q120.112 1456.63 117.033 1461.24 Q113.978 1465.82 108.168 1465.82 Q102.358 1465.82 99.2789 1461.24 Q96.2234 1456.63 96.2234 1447.91 Q96.2234 1439.16 99.2789 1434.57 Q102.358 1429.97 108.168 1429.97 Z\" fill=\"#000000\" fill-rule=\"nonzero\" fill-opacity=\"1\" /><path clip-path=\"url(#clip040)\" d=\"M138.33 1433.67 Q134.719 1433.67 132.89 1437.24 Q131.084 1440.78 131.084 1447.91 Q131.084 1455.01 132.89 1458.58 Q134.719 1462.12 138.33 1462.12 Q141.964 1462.12 143.769 1458.58 Q145.598 1455.01 145.598 1447.91 Q145.598 1440.78 143.769 1437.24 Q141.964 1433.67 138.33 1433.67 M138.33 1429.97 Q144.14 1429.97 147.195 1434.57 Q150.274 1439.16 150.274 1447.91 Q150.274 1456.63 147.195 1461.24 Q144.14 1465.82 138.33 1465.82 Q132.519 1465.82 129.441 1461.24 Q126.385 1456.63 126.385 1447.91 Q126.385 1439.16 129.441 1434.57 Q132.519 1429.97 138.33 1429.97 Z\" fill=\"#000000\" fill-rule=\"nonzero\" fill-opacity=\"1\" /><path clip-path=\"url(#clip040)\" d=\"M63.9319 1113.91 Q60.3208 1113.91 58.4921 1117.47 Q56.6865 1121.02 56.6865 1128.15 Q56.6865 1135.25 58.4921 1138.82 Q60.3208 1142.36 63.9319 1142.36 Q67.5661 1142.36 69.3717 1138.82 Q71.2004 1135.25 71.2004 1128.15 Q71.2004 1121.02 69.3717 1117.47 Q67.5661 1113.91 63.9319 1113.91 M63.9319 1110.21 Q69.742 1110.21 72.7976 1114.81 Q75.8763 1119.4 75.8763 1128.15 Q75.8763 1136.87 72.7976 1141.48 Q69.742 1146.06 63.9319 1146.06 Q58.1217 1146.06 55.043 1141.48 Q51.9875 1136.87 51.9875 1128.15 Q51.9875 1119.4 55.043 1114.81 Q58.1217 1110.21 63.9319 1110.21 Z\" fill=\"#000000\" fill-rule=\"nonzero\" fill-opacity=\"1\" /><path clip-path=\"url(#clip040)\" d=\"M84.0938 1139.51 L88.978 1139.51 L88.978 1145.39 L84.0938 1145.39 L84.0938 1139.51 Z\" fill=\"#000000\" fill-rule=\"nonzero\" fill-opacity=\"1\" /><path clip-path=\"url(#clip040)\" d=\"M103.191 1141.46 L119.51 1141.46 L119.51 1145.39 L97.566 1145.39 L97.566 1141.46 Q100.228 1138.7 104.811 1134.07 Q109.418 1129.42 110.598 1128.08 Q112.844 1125.55 113.723 1123.82 Q114.626 1122.06 114.626 1120.37 Q114.626 1117.61 112.682 1115.88 Q110.76 1114.14 107.658 1114.14 Q105.459 1114.14 103.006 1114.91 Q100.575 1115.67 97.7974 1117.22 L97.7974 1112.5 Q100.621 1111.36 103.075 1110.79 Q105.529 1110.21 107.566 1110.21 Q112.936 1110.21 116.131 1112.89 Q119.325 1115.58 119.325 1120.07 Q119.325 1122.2 118.515 1124.12 Q117.728 1126.02 115.621 1128.61 Q115.043 1129.28 111.941 1132.5 Q108.839 1135.69 103.191 1141.46 Z\" fill=\"#000000\" fill-rule=\"nonzero\" fill-opacity=\"1\" /><path clip-path=\"url(#clip040)\" d=\"M129.371 1110.83 L147.728 1110.83 L147.728 1114.77 L133.654 1114.77 L133.654 1123.24 Q134.672 1122.89 135.691 1122.73 Q136.709 1122.54 137.728 1122.54 Q143.515 1122.54 146.894 1125.72 Q150.274 1128.89 150.274 1134.3 Q150.274 1139.88 146.802 1142.98 Q143.33 1146.06 137.01 1146.06 Q134.834 1146.06 132.566 1145.69 Q130.32 1145.32 127.913 1144.58 L127.913 1139.88 Q129.996 1141.02 132.219 1141.57 Q134.441 1142.13 136.918 1142.13 Q140.922 1142.13 143.26 1140.02 Q145.598 1137.91 145.598 1134.3 Q145.598 1130.69 143.26 1128.59 Q140.922 1126.48 136.918 1126.48 Q135.043 1126.48 133.168 1126.9 Q131.316 1127.31 129.371 1128.19 L129.371 1110.83 Z\" fill=\"#000000\" fill-rule=\"nonzero\" fill-opacity=\"1\" /><path clip-path=\"url(#clip040)\" d=\"M62.9365 794.148 Q59.3254 794.148 57.4967 797.713 Q55.6912 801.255 55.6912 808.385 Q55.6912 815.491 57.4967 819.056 Q59.3254 822.597 62.9365 822.597 Q66.5707 822.597 68.3763 819.056 Q70.205 815.491 70.205 808.385 Q70.205 801.255 68.3763 797.713 Q66.5707 794.148 62.9365 794.148 M62.9365 790.445 Q68.7467 790.445 71.8022 795.051 Q74.8809 799.635 74.8809 808.385 Q74.8809 817.111 71.8022 821.718 Q68.7467 826.301 62.9365 826.301 Q57.1264 826.301 54.0477 821.718 Q50.9921 817.111 50.9921 808.385 Q50.9921 799.635 54.0477 795.051 Q57.1264 790.445 62.9365 790.445 Z\" fill=\"#000000\" fill-rule=\"nonzero\" fill-opacity=\"1\" /><path clip-path=\"url(#clip040)\" d=\"M83.0984 819.75 L87.9827 819.75 L87.9827 825.63 L83.0984 825.63 L83.0984 819.75 Z\" fill=\"#000000\" fill-rule=\"nonzero\" fill-opacity=\"1\" /><path clip-path=\"url(#clip040)\" d=\"M98.2141 791.07 L116.57 791.07 L116.57 795.005 L102.496 795.005 L102.496 803.477 Q103.515 803.13 104.534 802.968 Q105.552 802.783 106.571 802.783 Q112.358 802.783 115.737 805.954 Q119.117 809.125 119.117 814.542 Q119.117 820.121 115.645 823.222 Q112.172 826.301 105.853 826.301 Q103.677 826.301 101.409 825.931 Q99.1632 825.56 96.7558 824.82 L96.7558 820.121 Q98.8391 821.255 101.061 821.81 Q103.284 822.366 105.76 822.366 Q109.765 822.366 112.103 820.259 Q114.441 818.153 114.441 814.542 Q114.441 810.931 112.103 808.824 Q109.765 806.718 105.76 806.718 Q103.885 806.718 102.01 807.135 Q100.159 807.551 98.2141 808.431 L98.2141 791.07 Z\" fill=\"#000000\" fill-rule=\"nonzero\" fill-opacity=\"1\" /><path clip-path=\"url(#clip040)\" d=\"M138.33 794.148 Q134.719 794.148 132.89 797.713 Q131.084 801.255 131.084 808.385 Q131.084 815.491 132.89 819.056 Q134.719 822.597 138.33 822.597 Q141.964 822.597 143.769 819.056 Q145.598 815.491 145.598 808.385 Q145.598 801.255 143.769 797.713 Q141.964 794.148 138.33 794.148 M138.33 790.445 Q144.14 790.445 147.195 795.051 Q150.274 799.635 150.274 808.385 Q150.274 817.111 147.195 821.718 Q144.14 826.301 138.33 826.301 Q132.519 826.301 129.441 821.718 Q126.385 817.111 126.385 808.385 Q126.385 799.635 129.441 795.051 Q132.519 790.445 138.33 790.445 Z\" fill=\"#000000\" fill-rule=\"nonzero\" fill-opacity=\"1\" /><path clip-path=\"url(#clip040)\" d=\"M63.9319 474.387 Q60.3208 474.387 58.4921 477.952 Q56.6865 481.493 56.6865 488.623 Q56.6865 495.729 58.4921 499.294 Q60.3208 502.836 63.9319 502.836 Q67.5661 502.836 69.3717 499.294 Q71.2004 495.729 71.2004 488.623 Q71.2004 481.493 69.3717 477.952 Q67.5661 474.387 63.9319 474.387 M63.9319 470.683 Q69.742 470.683 72.7976 475.29 Q75.8763 479.873 75.8763 488.623 Q75.8763 497.35 72.7976 501.956 Q69.742 506.539 63.9319 506.539 Q58.1217 506.539 55.043 501.956 Q51.9875 497.35 51.9875 488.623 Q51.9875 479.873 55.043 475.29 Q58.1217 470.683 63.9319 470.683 Z\" fill=\"#000000\" fill-rule=\"nonzero\" fill-opacity=\"1\" /><path clip-path=\"url(#clip040)\" d=\"M84.0938 499.989 L88.978 499.989 L88.978 505.868 L84.0938 505.868 L84.0938 499.989 Z\" fill=\"#000000\" fill-rule=\"nonzero\" fill-opacity=\"1\" /><path clip-path=\"url(#clip040)\" d=\"M97.9826 471.308 L120.205 471.308 L120.205 473.299 L107.658 505.868 L102.774 505.868 L114.58 475.243 L97.9826 475.243 L97.9826 471.308 Z\" fill=\"#000000\" fill-rule=\"nonzero\" fill-opacity=\"1\" /><path clip-path=\"url(#clip040)\" d=\"M129.371 471.308 L147.728 471.308 L147.728 475.243 L133.654 475.243 L133.654 483.716 Q134.672 483.368 135.691 483.206 Q136.709 483.021 137.728 483.021 Q143.515 483.021 146.894 486.192 Q150.274 489.364 150.274 494.78 Q150.274 500.359 146.802 503.461 Q143.33 506.539 137.01 506.539 Q134.834 506.539 132.566 506.169 Q130.32 505.799 127.913 505.058 L127.913 500.359 Q129.996 501.493 132.219 502.049 Q134.441 502.604 136.918 502.604 Q140.922 502.604 143.26 500.498 Q145.598 498.391 145.598 494.78 Q145.598 491.169 143.26 489.063 Q140.922 486.956 136.918 486.956 Q135.043 486.956 133.168 487.373 Q131.316 487.79 129.371 488.669 L129.371 471.308 Z\" fill=\"#000000\" fill-rule=\"nonzero\" fill-opacity=\"1\" /><path clip-path=\"url(#clip040)\" d=\"M53.7467 182.171 L61.3856 182.171 L61.3856 155.806 L53.0754 157.472 L53.0754 153.213 L61.3393 151.547 L66.0152 151.547 L66.0152 182.171 L73.654 182.171 L73.654 186.107 L53.7467 186.107 L53.7467 182.171 Z\" fill=\"#000000\" fill-rule=\"nonzero\" fill-opacity=\"1\" /><path clip-path=\"url(#clip040)\" d=\"M83.0984 180.227 L87.9827 180.227 L87.9827 186.107 L83.0984 186.107 L83.0984 180.227 Z\" fill=\"#000000\" fill-rule=\"nonzero\" fill-opacity=\"1\" /><path clip-path=\"url(#clip040)\" d=\"M108.168 154.625 Q104.557 154.625 102.728 158.19 Q100.922 161.732 100.922 168.861 Q100.922 175.968 102.728 179.532 Q104.557 183.074 108.168 183.074 Q111.802 183.074 113.608 179.532 Q115.436 175.968 115.436 168.861 Q115.436 161.732 113.608 158.19 Q111.802 154.625 108.168 154.625 M108.168 150.922 Q113.978 150.922 117.033 155.528 Q120.112 160.111 120.112 168.861 Q120.112 177.588 117.033 182.195 Q113.978 186.778 108.168 186.778 Q102.358 186.778 99.2789 182.195 Q96.2234 177.588 96.2234 168.861 Q96.2234 160.111 99.2789 155.528 Q102.358 150.922 108.168 150.922 Z\" fill=\"#000000\" fill-rule=\"nonzero\" fill-opacity=\"1\" /><path clip-path=\"url(#clip040)\" d=\"M138.33 154.625 Q134.719 154.625 132.89 158.19 Q131.084 161.732 131.084 168.861 Q131.084 175.968 132.89 179.532 Q134.719 183.074 138.33 183.074 Q141.964 183.074 143.769 179.532 Q145.598 175.968 145.598 168.861 Q145.598 161.732 143.769 158.19 Q141.964 154.625 138.33 154.625 M138.33 150.922 Q144.14 150.922 147.195 155.528 Q150.274 160.111 150.274 168.861 Q150.274 177.588 147.195 182.195 Q144.14 186.778 138.33 186.778 Q132.519 186.778 129.441 182.195 Q126.385 177.588 126.385 168.861 Q126.385 160.111 129.441 155.528 Q132.519 150.922 138.33 150.922 Z\" fill=\"#000000\" fill-rule=\"nonzero\" fill-opacity=\"1\" /><path clip-path=\"url(#clip040)\" d=\"M340.116 16.7545 L340.116 25.383 Q335.984 21.5346 331.285 19.6307 Q326.626 17.7268 321.36 17.7268 Q310.99 17.7268 305.481 24.0867 Q299.972 30.4061 299.972 42.3968 Q299.972 54.3469 305.481 60.7069 Q310.99 67.0263 321.36 67.0263 Q326.626 67.0263 331.285 65.1223 Q335.984 63.2184 340.116 59.3701 L340.116 67.9175 Q335.822 70.8341 331.001 72.2924 Q326.221 73.7508 320.874 73.7508 Q307.142 73.7508 299.242 65.3654 Q291.343 56.9395 291.343 42.3968 Q291.343 27.8135 299.242 19.4281 Q307.142 11.0023 320.874 11.0023 Q326.302 11.0023 331.082 12.4606 Q335.903 13.8784 340.116 16.7545 Z\" fill=\"#000000\" fill-rule=\"nonzero\" fill-opacity=\"1\" /><path clip-path=\"url(#clip040)\" d=\"M370.012 32.4315 Q364.016 32.4315 360.533 37.1306 Q357.049 41.7891 357.049 49.9314 Q357.049 58.0738 360.492 62.7728 Q363.976 67.4314 370.012 67.4314 Q375.967 67.4314 379.45 62.7323 Q382.934 58.0333 382.934 49.9314 Q382.934 41.8701 379.45 37.1711 Q375.967 32.4315 370.012 32.4315 M370.012 26.1121 Q379.734 26.1121 385.284 32.4315 Q390.833 38.7509 390.833 49.9314 Q390.833 61.0714 385.284 67.4314 Q379.734 73.7508 370.012 73.7508 Q360.249 73.7508 354.699 67.4314 Q349.19 61.0714 349.19 49.9314 Q349.19 38.7509 354.699 32.4315 Q360.249 26.1121 370.012 26.1121 Z\" fill=\"#000000\" fill-rule=\"nonzero\" fill-opacity=\"1\" /><path clip-path=\"url(#clip040)\" d=\"M438.512 35.9153 Q441.308 30.8922 445.196 28.5022 Q449.085 26.1121 454.351 26.1121 Q461.441 26.1121 465.289 31.0947 Q469.137 36.0368 469.137 45.1919 L469.137 72.576 L461.643 72.576 L461.643 45.4349 Q461.643 38.913 459.334 35.7533 Q457.025 32.5936 452.286 32.5936 Q446.493 32.5936 443.13 36.4419 Q439.768 40.2903 439.768 46.9338 L439.768 72.576 L432.274 72.576 L432.274 45.4349 Q432.274 38.8725 429.965 35.7533 Q427.656 32.5936 422.835 32.5936 Q417.124 32.5936 413.761 36.4824 Q410.399 40.3308 410.399 46.9338 L410.399 72.576 L402.905 72.576 L402.905 27.2059 L410.399 27.2059 L410.399 34.2544 Q412.951 30.082 416.516 28.0971 Q420.081 26.1121 424.982 26.1121 Q429.925 26.1121 433.368 28.6237 Q436.852 31.1352 438.512 35.9153 Z\" fill=\"#000000\" fill-rule=\"nonzero\" fill-opacity=\"1\" /><path clip-path=\"url(#clip040)\" d=\"M491.215 65.7705 L491.215 89.8329 L483.721 89.8329 L483.721 27.2059 L491.215 27.2059 L491.215 34.0924 Q493.564 30.0415 497.129 28.0971 Q500.734 26.1121 505.717 26.1121 Q513.981 26.1121 519.125 32.6746 Q524.311 39.2371 524.311 49.9314 Q524.311 60.6258 519.125 67.1883 Q513.981 73.7508 505.717 73.7508 Q500.734 73.7508 497.129 71.8063 Q493.564 69.8214 491.215 65.7705 M516.573 49.9314 Q516.573 41.7081 513.171 37.0496 Q509.808 32.3505 503.894 32.3505 Q497.98 32.3505 494.577 37.0496 Q491.215 41.7081 491.215 49.9314 Q491.215 58.1548 494.577 62.8538 Q497.98 67.5124 503.894 67.5124 Q509.808 67.5124 513.171 62.8538 Q516.573 58.1548 516.573 49.9314 Z\" fill=\"#000000\" fill-rule=\"nonzero\" fill-opacity=\"1\" /><path clip-path=\"url(#clip040)\" d=\"M557.285 49.7694 Q548.251 49.7694 544.768 51.8354 Q541.284 53.9013 541.284 58.8839 Q541.284 62.8538 543.876 65.2034 Q546.51 67.5124 551.006 67.5124 Q557.204 67.5124 560.931 63.1374 Q564.698 58.7219 564.698 51.4303 L564.698 49.7694 L557.285 49.7694 M572.152 46.6907 L572.152 72.576 L564.698 72.576 L564.698 65.6895 Q562.146 69.8214 558.338 71.8063 Q554.53 73.7508 549.021 73.7508 Q542.054 73.7508 537.922 69.8619 Q533.83 65.9325 533.83 59.3701 Q533.83 51.7138 538.934 47.825 Q544.079 43.9361 554.247 43.9361 L564.698 43.9361 L564.698 43.2069 Q564.698 38.0623 561.295 35.2672 Q557.933 32.4315 551.816 32.4315 Q547.927 32.4315 544.241 33.3632 Q540.555 34.295 537.152 36.1584 L537.152 29.2718 Q541.243 27.692 545.092 26.9223 Q548.94 26.1121 552.586 26.1121 Q562.43 26.1121 567.291 31.2163 Q572.152 36.3204 572.152 46.6907 Z\" fill=\"#000000\" fill-rule=\"nonzero\" fill-opacity=\"1\" /><path clip-path=\"url(#clip040)\" d=\"M613.795 34.1734 Q612.539 33.4443 611.04 33.1202 Q609.582 32.7556 607.8 32.7556 Q601.48 32.7556 598.078 36.8875 Q594.715 40.9789 594.715 48.6757 L594.715 72.576 L587.221 72.576 L587.221 27.2059 L594.715 27.2059 L594.715 34.2544 Q597.065 30.1225 600.832 28.1376 Q604.6 26.1121 609.987 26.1121 Q610.757 26.1121 611.689 26.2337 Q612.62 26.3147 613.755 26.5172 L613.795 34.1734 Z\" fill=\"#000000\" fill-rule=\"nonzero\" fill-opacity=\"1\" /><path clip-path=\"url(#clip040)\" d=\"M642.232 49.7694 Q633.199 49.7694 629.715 51.8354 Q626.231 53.9013 626.231 58.8839 Q626.231 62.8538 628.824 65.2034 Q631.457 67.5124 635.954 67.5124 Q642.151 67.5124 645.878 63.1374 Q649.646 58.7219 649.646 51.4303 L649.646 49.7694 L642.232 49.7694 M657.099 46.6907 L657.099 72.576 L649.646 72.576 L649.646 65.6895 Q647.094 69.8214 643.286 71.8063 Q639.478 73.7508 633.969 73.7508 Q627.001 73.7508 622.869 69.8619 Q618.778 65.9325 618.778 59.3701 Q618.778 51.7138 623.882 47.825 Q629.026 43.9361 639.194 43.9361 L649.646 43.9361 L649.646 43.2069 Q649.646 38.0623 646.243 35.2672 Q642.881 32.4315 636.764 32.4315 Q632.875 32.4315 629.189 33.3632 Q625.502 34.295 622.099 36.1584 L622.099 29.2718 Q626.191 27.692 630.039 26.9223 Q633.888 26.1121 637.533 26.1121 Q647.377 26.1121 652.238 31.2163 Q657.099 36.3204 657.099 46.6907 Z\" fill=\"#000000\" fill-rule=\"nonzero\" fill-opacity=\"1\" /><path clip-path=\"url(#clip040)\" d=\"M705.102 28.9478 L705.102 35.9153 Q701.943 34.1734 698.743 33.3227 Q695.583 32.4315 692.342 32.4315 Q685.091 32.4315 681.081 37.0496 Q677.07 41.6271 677.07 49.9314 Q677.07 58.2358 681.081 62.8538 Q685.091 67.4314 692.342 67.4314 Q695.583 67.4314 698.743 66.5807 Q701.943 65.6895 705.102 63.9476 L705.102 70.8341 Q701.983 72.2924 698.621 73.0216 Q695.299 73.7508 691.532 73.7508 Q681.283 73.7508 675.247 67.3098 Q669.211 60.8689 669.211 49.9314 Q669.211 38.832 675.288 32.472 Q681.405 26.1121 692.018 26.1121 Q695.461 26.1121 698.743 26.8413 Q702.024 27.5299 705.102 28.9478 M694.57 72.576 Q696.798 75.0876 697.892 77.194 Q698.986 79.341 698.986 81.2854 Q698.986 84.8907 696.555 86.7137 Q694.125 88.5771 689.344 88.5771 Q687.481 88.5771 685.699 88.334 Q683.957 88.091 682.215 87.6049 L682.215 82.2982 Q683.592 82.9868 685.091 83.2704 Q686.59 83.5945 688.494 83.5945 Q690.884 83.5945 692.099 82.6222 Q693.314 81.65 693.314 79.7866 Q693.314 78.5713 692.423 76.7889 Q691.572 75.0471 689.75 72.576 L694.57 72.576 Z\" fill=\"#000000\" fill-rule=\"nonzero\" fill-opacity=\"1\" /><path clip-path=\"url(#clip040)\" d=\"M738.684 49.7694 Q729.651 49.7694 726.167 51.8354 Q722.683 53.9013 722.683 58.8839 Q722.683 62.8538 725.276 65.2034 Q727.909 67.5124 732.406 67.5124 Q738.603 67.5124 742.33 63.1374 Q746.098 58.7219 746.098 51.4303 L746.098 49.7694 L738.684 49.7694 M753.551 46.6907 L753.551 72.576 L746.098 72.576 L746.098 65.6895 Q743.546 69.8214 739.738 71.8063 Q735.93 73.7508 730.421 73.7508 Q723.453 73.7508 719.321 69.8619 Q715.23 65.9325 715.23 59.3701 Q715.23 51.7138 720.334 47.825 Q725.479 43.9361 735.646 43.9361 L746.098 43.9361 L746.098 43.2069 Q746.098 38.0623 742.695 35.2672 Q739.333 32.4315 733.216 32.4315 Q729.327 32.4315 725.641 33.3632 Q721.954 34.295 718.551 36.1584 L718.551 29.2718 Q722.643 27.692 726.491 26.9223 Q730.34 26.1121 733.985 26.1121 Q743.829 26.1121 748.69 31.2163 Q753.551 36.3204 753.551 46.6907 M734.147 17.0786 L731.838 14.8506 Q730.947 14.0404 730.259 13.6759 Q729.61 13.2708 729.084 13.2708 Q727.544 13.2708 726.815 14.7696 Q726.086 16.2279 726.005 19.5497 L720.942 19.5497 Q721.023 14.0809 723.088 11.1238 Q725.154 8.12611 728.841 8.12611 Q730.38 8.12611 731.676 8.69324 Q732.973 9.26037 734.472 10.5972 L736.781 12.8252 Q737.672 13.6353 738.32 14.0404 Q739.009 14.405 739.535 14.405 Q741.074 14.405 741.804 12.9467 Q742.533 11.4479 742.614 8.12611 L747.677 8.12611 Q747.596 13.5948 745.53 16.5925 Q743.465 19.5497 739.778 19.5497 Q738.239 19.5497 736.943 18.9825 Q735.646 18.4154 734.147 17.0786 Z\" fill=\"#000000\" fill-rule=\"nonzero\" fill-opacity=\"1\" /><path clip-path=\"url(#clip040)\" d=\"M786.485 32.4315 Q780.49 32.4315 777.006 37.1306 Q773.522 41.7891 773.522 49.9314 Q773.522 58.0738 776.966 62.7728 Q780.449 67.4314 786.485 67.4314 Q792.44 67.4314 795.924 62.7323 Q799.408 58.0333 799.408 49.9314 Q799.408 41.8701 795.924 37.1711 Q792.44 32.4315 786.485 32.4315 M786.485 26.1121 Q796.207 26.1121 801.757 32.4315 Q807.307 38.7509 807.307 49.9314 Q807.307 61.0714 801.757 67.4314 Q796.207 73.7508 786.485 73.7508 Q776.722 73.7508 771.173 67.4314 Q765.663 61.0714 765.663 49.9314 Q765.663 38.7509 771.173 32.4315 Q776.722 26.1121 786.485 26.1121 Z\" fill=\"#000000\" fill-rule=\"nonzero\" fill-opacity=\"1\" /><path clip-path=\"url(#clip040)\" d=\"M884.841 48.0275 L884.841 51.6733 L850.57 51.6733 Q851.057 59.3701 855.188 63.421 Q859.361 67.4314 866.774 67.4314 Q871.068 67.4314 875.078 66.3781 Q879.129 65.3249 883.099 63.2184 L883.099 70.267 Q879.089 71.9684 874.876 72.8596 Q870.663 73.7508 866.328 73.7508 Q855.472 73.7508 849.112 67.4314 Q842.793 61.1119 842.793 50.3365 Q842.793 39.1965 848.788 32.6746 Q854.824 26.1121 865.032 26.1121 Q874.187 26.1121 879.494 32.0264 Q884.841 37.9003 884.841 48.0275 M877.387 45.84 Q877.306 39.7232 873.944 36.0774 Q870.622 32.4315 865.113 32.4315 Q858.875 32.4315 855.107 35.9558 Q851.381 39.4801 850.813 45.8805 L877.387 45.84 Z\" fill=\"#000000\" fill-rule=\"nonzero\" fill-opacity=\"1\" /><path clip-path=\"url(#clip040)\" d=\"M934.789 45.1919 L934.789 72.576 L927.335 72.576 L927.335 45.4349 Q927.335 38.994 924.824 35.7938 Q922.312 32.5936 917.289 32.5936 Q911.253 32.5936 907.769 36.4419 Q904.285 40.2903 904.285 46.9338 L904.285 72.576 L896.791 72.576 L896.791 27.2059 L904.285 27.2059 L904.285 34.2544 Q906.959 30.163 910.564 28.1376 Q914.21 26.1121 918.95 26.1121 Q926.768 26.1121 930.778 30.9732 Q934.789 35.7938 934.789 45.1919 Z\" fill=\"#000000\" fill-rule=\"nonzero\" fill-opacity=\"1\" /><path clip-path=\"url(#clip040)\" d=\"M957.028 14.324 L957.028 27.2059 L972.381 27.2059 L972.381 32.9987 L957.028 32.9987 L957.028 57.6282 Q957.028 63.1779 958.527 64.7578 Q960.066 66.3376 964.725 66.3376 L972.381 66.3376 L972.381 72.576 L964.725 72.576 Q956.096 72.576 952.815 69.3758 Q949.534 66.1351 949.534 57.6282 L949.534 32.9987 L944.065 32.9987 L944.065 27.2059 L949.534 27.2059 L949.534 14.324 L957.028 14.324 Z\" fill=\"#000000\" fill-rule=\"nonzero\" fill-opacity=\"1\" /><path clip-path=\"url(#clip040)\" d=\"M1008.47 34.1734 Q1007.22 33.4443 1005.72 33.1202 Q1004.26 32.7556 1002.48 32.7556 Q996.16 32.7556 992.757 36.8875 Q989.395 40.9789 989.395 48.6757 L989.395 72.576 L981.901 72.576 L981.901 27.2059 L989.395 27.2059 L989.395 34.2544 Q991.744 30.1225 995.512 28.1376 Q999.279 26.1121 1004.67 26.1121 Q1005.44 26.1121 1006.37 26.2337 Q1007.3 26.3147 1008.43 26.5172 L1008.47 34.1734 Z\" fill=\"#000000\" fill-rule=\"nonzero\" fill-opacity=\"1\" /><path clip-path=\"url(#clip040)\" d=\"M1053.28 48.0275 L1053.28 51.6733 L1019.01 51.6733 Q1019.49 59.3701 1023.63 63.421 Q1027.8 67.4314 1035.21 67.4314 Q1039.5 67.4314 1043.52 66.3781 Q1047.57 65.3249 1051.54 63.2184 L1051.54 70.267 Q1047.53 71.9684 1043.31 72.8596 Q1039.1 73.7508 1034.77 73.7508 Q1023.91 73.7508 1017.55 67.4314 Q1011.23 61.1119 1011.23 50.3365 Q1011.23 39.1965 1017.22 32.6746 Q1023.26 26.1121 1033.47 26.1121 Q1042.62 26.1121 1047.93 32.0264 Q1053.28 37.9003 1053.28 48.0275 M1045.82 45.84 Q1045.74 39.7232 1042.38 36.0774 Q1039.06 32.4315 1033.55 32.4315 Q1027.31 32.4315 1023.54 35.9558 Q1019.82 39.4801 1019.25 45.8805 L1045.82 45.84 Z\" fill=\"#000000\" fill-rule=\"nonzero\" fill-opacity=\"1\" /><path clip-path=\"url(#clip040)\" d=\"M1120.81 28.5427 L1120.81 35.5912 Q1117.65 33.9709 1114.24 33.1607 Q1110.84 32.3505 1107.2 32.3505 Q1101.65 32.3505 1098.85 34.0519 Q1096.1 35.7533 1096.1 39.156 Q1096.1 41.7486 1098.08 43.2475 Q1100.07 44.7058 1106.06 46.0426 L1108.61 46.6097 Q1116.55 48.3111 1119.87 51.4303 Q1123.24 54.509 1123.24 60.0587 Q1123.24 66.3781 1118.21 70.0644 Q1113.23 73.7508 1104.48 73.7508 Q1100.84 73.7508 1096.87 73.0216 Q1092.94 72.3329 1088.56 70.9151 L1088.56 63.2184 Q1092.69 65.3654 1096.7 66.4591 Q1100.71 67.5124 1104.64 67.5124 Q1109.91 67.5124 1112.74 65.73 Q1115.58 63.9071 1115.58 60.6258 Q1115.58 57.5877 1113.51 55.9673 Q1111.49 54.3469 1104.56 52.8481 L1101.97 52.2405 Q1095.04 50.7821 1091.96 47.7845 Q1088.89 44.7463 1088.89 39.4801 Q1088.89 33.0797 1093.42 29.5959 Q1097.96 26.1121 1106.3 26.1121 Q1110.44 26.1121 1114.08 26.7198 Q1117.73 27.3274 1120.81 28.5427 Z\" fill=\"#000000\" fill-rule=\"nonzero\" fill-opacity=\"1\" /><path clip-path=\"url(#clip040)\" d=\"M1152.69 32.4315 Q1146.69 32.4315 1143.21 37.1306 Q1139.72 41.7891 1139.72 49.9314 Q1139.72 58.0738 1143.17 62.7728 Q1146.65 67.4314 1152.69 67.4314 Q1158.64 67.4314 1162.13 62.7323 Q1165.61 58.0333 1165.61 49.9314 Q1165.61 41.8701 1162.13 37.1711 Q1158.64 32.4315 1152.69 32.4315 M1152.69 26.1121 Q1162.41 26.1121 1167.96 32.4315 Q1173.51 38.7509 1173.51 49.9314 Q1173.51 61.0714 1167.96 67.4314 Q1162.41 73.7508 1152.69 73.7508 Q1142.92 73.7508 1137.37 67.4314 Q1131.87 61.0714 1131.87 49.9314 Q1131.87 38.7509 1137.37 32.4315 Q1142.92 26.1121 1152.69 26.1121 Z\" fill=\"#000000\" fill-rule=\"nonzero\" fill-opacity=\"1\" /><path clip-path=\"url(#clip040)\" d=\"M1185.86 9.54393 L1193.32 9.54393 L1193.32 72.576 L1185.86 72.576 L1185.86 9.54393 Z\" fill=\"#000000\" fill-rule=\"nonzero\" fill-opacity=\"1\" /><path clip-path=\"url(#clip040)\" d=\"M1208.14 54.671 L1208.14 27.2059 L1215.6 27.2059 L1215.6 54.3874 Q1215.6 60.8284 1218.11 64.0691 Q1220.62 67.2693 1225.64 67.2693 Q1231.68 67.2693 1235.16 63.421 Q1238.69 59.5726 1238.69 52.9291 L1238.69 27.2059 L1246.14 27.2059 L1246.14 72.576 L1238.69 72.576 L1238.69 65.6084 Q1235.97 69.7404 1232.37 71.7658 Q1228.8 73.7508 1224.06 73.7508 Q1216.25 73.7508 1212.19 68.8897 Q1208.14 64.0286 1208.14 54.671 M1226.9 26.1121 L1226.9 26.1121 Z\" fill=\"#000000\" fill-rule=\"nonzero\" fill-opacity=\"1\" /><path clip-path=\"url(#clip040)\" d=\"M1294.14 28.9478 L1294.14 35.9153 Q1290.98 34.1734 1287.78 33.3227 Q1284.62 32.4315 1281.38 32.4315 Q1274.13 32.4315 1270.12 37.0496 Q1266.11 41.6271 1266.11 49.9314 Q1266.11 58.2358 1270.12 62.8538 Q1274.13 67.4314 1281.38 67.4314 Q1284.62 67.4314 1287.78 66.5807 Q1290.98 65.6895 1294.14 63.9476 L1294.14 70.8341 Q1291.03 72.2924 1287.66 73.0216 Q1284.34 73.7508 1280.57 73.7508 Q1270.33 73.7508 1264.29 67.3098 Q1258.25 60.8689 1258.25 49.9314 Q1258.25 38.832 1264.33 32.472 Q1270.45 26.1121 1281.06 26.1121 Q1284.5 26.1121 1287.78 26.8413 Q1291.07 27.5299 1294.14 28.9478 M1283.61 72.576 Q1285.84 75.0876 1286.93 77.194 Q1288.03 79.341 1288.03 81.2854 Q1288.03 84.8907 1285.6 86.7137 Q1283.17 88.5771 1278.39 88.5771 Q1276.52 88.5771 1274.74 88.334 Q1273 88.091 1271.26 87.6049 L1271.26 82.2982 Q1272.63 82.9868 1274.13 83.2704 Q1275.63 83.5945 1277.54 83.5945 Q1279.93 83.5945 1281.14 82.6222 Q1282.36 81.65 1282.36 79.7866 Q1282.36 78.5713 1281.47 76.7889 Q1280.61 75.0471 1278.79 72.576 L1283.61 72.576 Z\" fill=\"#000000\" fill-rule=\"nonzero\" fill-opacity=\"1\" /><path clip-path=\"url(#clip040)\" d=\"M1327.73 49.7694 Q1318.69 49.7694 1315.21 51.8354 Q1311.73 53.9013 1311.73 58.8839 Q1311.73 62.8538 1314.32 65.2034 Q1316.95 67.5124 1321.45 67.5124 Q1327.65 67.5124 1331.37 63.1374 Q1335.14 58.7219 1335.14 51.4303 L1335.14 49.7694 L1327.73 49.7694 M1342.59 46.6907 L1342.59 72.576 L1335.14 72.576 L1335.14 65.6895 Q1332.59 69.8214 1328.78 71.8063 Q1324.97 73.7508 1319.46 73.7508 Q1312.5 73.7508 1308.36 69.8619 Q1304.27 65.9325 1304.27 59.3701 Q1304.27 51.7138 1309.38 47.825 Q1314.52 43.9361 1324.69 43.9361 L1335.14 43.9361 L1335.14 43.2069 Q1335.14 38.0623 1331.74 35.2672 Q1328.37 32.4315 1322.26 32.4315 Q1318.37 32.4315 1314.68 33.3632 Q1311 34.295 1307.59 36.1584 L1307.59 29.2718 Q1311.68 27.692 1315.53 26.9223 Q1319.38 26.1121 1323.03 26.1121 Q1332.87 26.1121 1337.73 31.2163 Q1342.59 36.3204 1342.59 46.6907 M1323.19 17.0786 L1320.88 14.8506 Q1319.99 14.0404 1319.3 13.6759 Q1318.65 13.2708 1318.13 13.2708 Q1316.59 13.2708 1315.86 14.7696 Q1315.13 16.2279 1315.05 19.5497 L1309.98 19.5497 Q1310.06 14.0809 1312.13 11.1238 Q1314.2 8.12611 1317.88 8.12611 Q1319.42 8.12611 1320.72 8.69324 Q1322.01 9.26037 1323.51 10.5972 L1325.82 12.8252 Q1326.71 13.6353 1327.36 14.0404 Q1328.05 14.405 1328.58 14.405 Q1330.12 14.405 1330.85 12.9467 Q1331.57 11.4479 1331.66 8.12611 L1336.72 8.12611 Q1336.64 13.5948 1334.57 16.5925 Q1332.51 19.5497 1328.82 19.5497 Q1327.28 19.5497 1325.98 18.9825 Q1324.69 18.4154 1323.19 17.0786 Z\" fill=\"#000000\" fill-rule=\"nonzero\" fill-opacity=\"1\" /><path clip-path=\"url(#clip040)\" d=\"M1375.53 32.4315 Q1369.53 32.4315 1366.05 37.1306 Q1362.56 41.7891 1362.56 49.9314 Q1362.56 58.0738 1366.01 62.7728 Q1369.49 67.4314 1375.53 67.4314 Q1381.48 67.4314 1384.97 62.7323 Q1388.45 58.0333 1388.45 49.9314 Q1388.45 41.8701 1384.97 37.1711 Q1381.48 32.4315 1375.53 32.4315 M1375.53 26.1121 Q1385.25 26.1121 1390.8 32.4315 Q1396.35 38.7509 1396.35 49.9314 Q1396.35 61.0714 1390.8 67.4314 Q1385.25 73.7508 1375.53 73.7508 Q1365.76 73.7508 1360.21 67.4314 Q1354.71 61.0714 1354.71 49.9314 Q1354.71 38.7509 1360.21 32.4315 Q1365.76 26.1121 1375.53 26.1121 Z\" fill=\"#000000\" fill-rule=\"nonzero\" fill-opacity=\"1\" /><path clip-path=\"url(#clip040)\" d=\"M1473.88 48.0275 L1473.88 51.6733 L1439.61 51.6733 Q1440.1 59.3701 1444.23 63.421 Q1448.4 67.4314 1455.82 67.4314 Q1460.11 67.4314 1464.12 66.3781 Q1468.17 65.3249 1472.14 63.2184 L1472.14 70.267 Q1468.13 71.9684 1463.92 72.8596 Q1459.7 73.7508 1455.37 73.7508 Q1444.51 73.7508 1438.15 67.4314 Q1431.83 61.1119 1431.83 50.3365 Q1431.83 39.1965 1437.83 32.6746 Q1443.87 26.1121 1454.07 26.1121 Q1463.23 26.1121 1468.54 32.0264 Q1473.88 37.9003 1473.88 48.0275 M1466.43 45.84 Q1466.35 39.7232 1462.99 36.0774 Q1459.66 32.4315 1454.16 32.4315 Q1447.92 32.4315 1444.15 35.9558 Q1440.42 39.4801 1439.86 45.8805 L1466.43 45.84 Z\" fill=\"#000000\" fill-rule=\"nonzero\" fill-opacity=\"1\" /><path clip-path=\"url(#clip040)\" d=\"M1522.37 27.2059 L1505.97 49.2833 L1523.22 72.576 L1514.43 72.576 L1501.23 54.752 L1488.02 72.576 L1479.23 72.576 L1496.85 48.8377 L1480.73 27.2059 L1489.52 27.2059 L1501.55 43.369 L1513.58 27.2059 L1522.37 27.2059 Z\" fill=\"#000000\" fill-rule=\"nonzero\" fill-opacity=\"1\" /><path clip-path=\"url(#clip040)\" d=\"M1554.37 49.7694 Q1545.34 49.7694 1541.86 51.8354 Q1538.37 53.9013 1538.37 58.8839 Q1538.37 62.8538 1540.97 65.2034 Q1543.6 67.5124 1548.1 67.5124 Q1554.29 67.5124 1558.02 63.1374 Q1561.79 58.7219 1561.79 51.4303 L1561.79 49.7694 L1554.37 49.7694 M1569.24 46.6907 L1569.24 72.576 L1561.79 72.576 L1561.79 65.6895 Q1559.24 69.8214 1555.43 71.8063 Q1551.62 73.7508 1546.11 73.7508 Q1539.14 73.7508 1535.01 69.8619 Q1530.92 65.9325 1530.92 59.3701 Q1530.92 51.7138 1536.02 47.825 Q1541.17 43.9361 1551.34 43.9361 L1561.79 43.9361 L1561.79 43.2069 Q1561.79 38.0623 1558.38 35.2672 Q1555.02 32.4315 1548.91 32.4315 Q1545.02 32.4315 1541.33 33.3632 Q1537.64 34.295 1534.24 36.1584 L1534.24 29.2718 Q1538.33 27.692 1542.18 26.9223 Q1546.03 26.1121 1549.68 26.1121 Q1559.52 26.1121 1564.38 31.2163 Q1569.24 36.3204 1569.24 46.6907 Z\" fill=\"#000000\" fill-rule=\"nonzero\" fill-opacity=\"1\" /><path clip-path=\"url(#clip040)\" d=\"M1591.97 14.324 L1591.97 27.2059 L1607.32 27.2059 L1607.32 32.9987 L1591.97 32.9987 L1591.97 57.6282 Q1591.97 63.1779 1593.47 64.7578 Q1595.01 66.3376 1599.66 66.3376 L1607.32 66.3376 L1607.32 72.576 L1599.66 72.576 Q1591.04 72.576 1587.75 69.3758 Q1584.47 66.1351 1584.47 57.6282 L1584.47 32.9987 L1579 32.9987 L1579 27.2059 L1584.47 27.2059 L1584.47 14.324 L1591.97 14.324 Z\" fill=\"#000000\" fill-rule=\"nonzero\" fill-opacity=\"1\" /><path clip-path=\"url(#clip040)\" d=\"M1637.74 49.7694 Q1628.71 49.7694 1625.22 51.8354 Q1621.74 53.9013 1621.74 58.8839 Q1621.74 62.8538 1624.33 65.2034 Q1626.97 67.5124 1631.46 67.5124 Q1637.66 67.5124 1641.39 63.1374 Q1645.16 58.7219 1645.16 51.4303 L1645.16 49.7694 L1637.74 49.7694 M1652.61 46.6907 L1652.61 72.576 L1645.16 72.576 L1645.16 65.6895 Q1642.6 69.8214 1638.8 71.8063 Q1634.99 73.7508 1629.48 73.7508 Q1622.51 73.7508 1618.38 69.8619 Q1614.29 65.9325 1614.29 59.3701 Q1614.29 51.7138 1619.39 47.825 Q1624.54 43.9361 1634.7 43.9361 L1645.16 43.9361 L1645.16 43.2069 Q1645.16 38.0623 1641.75 35.2672 Q1638.39 32.4315 1632.27 32.4315 Q1628.38 32.4315 1624.7 33.3632 Q1621.01 34.295 1617.61 36.1584 L1617.61 29.2718 Q1621.7 27.692 1625.55 26.9223 Q1629.4 26.1121 1633.04 26.1121 Q1642.89 26.1121 1647.75 31.2163 Q1652.61 36.3204 1652.61 46.6907 Z\" fill=\"#000000\" fill-rule=\"nonzero\" fill-opacity=\"1\" /><path clip-path=\"url(#clip040)\" d=\"M1733.14 48.0275 L1733.14 51.6733 L1698.87 51.6733 Q1699.36 59.3701 1703.49 63.421 Q1707.66 67.4314 1715.07 67.4314 Q1719.37 67.4314 1723.38 66.3781 Q1727.43 65.3249 1731.4 63.2184 L1731.4 70.267 Q1727.39 71.9684 1723.18 72.8596 Q1718.96 73.7508 1714.63 73.7508 Q1703.77 73.7508 1697.41 67.4314 Q1691.09 61.1119 1691.09 50.3365 Q1691.09 39.1965 1697.09 32.6746 Q1703.12 26.1121 1713.33 26.1121 Q1722.49 26.1121 1727.79 32.0264 Q1733.14 37.9003 1733.14 48.0275 M1725.69 45.84 Q1725.61 39.7232 1722.24 36.0774 Q1718.92 32.4315 1713.41 32.4315 Q1707.17 32.4315 1703.41 35.9558 Q1699.68 39.4801 1699.11 45.8805 L1725.69 45.84 Z\" fill=\"#000000\" fill-rule=\"nonzero\" fill-opacity=\"1\" /><path clip-path=\"url(#clip040)\" d=\"M1792.37 49.7694 Q1783.33 49.7694 1779.85 51.8354 Q1776.36 53.9013 1776.36 58.8839 Q1776.36 62.8538 1778.96 65.2034 Q1781.59 67.5124 1786.09 67.5124 Q1792.28 67.5124 1796.01 63.1374 Q1799.78 58.7219 1799.78 51.4303 L1799.78 49.7694 L1792.37 49.7694 M1807.23 46.6907 L1807.23 72.576 L1799.78 72.576 L1799.78 65.6895 Q1797.23 69.8214 1793.42 71.8063 Q1789.61 73.7508 1784.1 73.7508 Q1777.13 73.7508 1773 69.8619 Q1768.91 65.9325 1768.91 59.3701 Q1768.91 51.7138 1774.01 47.825 Q1779.16 43.9361 1789.33 43.9361 L1799.78 43.9361 L1799.78 43.2069 Q1799.78 38.0623 1796.38 35.2672 Q1793.01 32.4315 1786.9 32.4315 Q1783.01 32.4315 1779.32 33.3632 Q1775.63 34.295 1772.23 36.1584 L1772.23 29.2718 Q1776.32 27.692 1780.17 26.9223 Q1784.02 26.1121 1787.67 26.1121 Q1797.51 26.1121 1802.37 31.2163 Q1807.23 36.3204 1807.23 46.6907 Z\" fill=\"#000000\" fill-rule=\"nonzero\" fill-opacity=\"1\" /><path clip-path=\"url(#clip040)\" d=\"M1829.8 65.7705 L1829.8 89.8329 L1822.3 89.8329 L1822.3 27.2059 L1829.8 27.2059 L1829.8 34.0924 Q1832.15 30.0415 1835.71 28.0971 Q1839.32 26.1121 1844.3 26.1121 Q1852.56 26.1121 1857.71 32.6746 Q1862.89 39.2371 1862.89 49.9314 Q1862.89 60.6258 1857.71 67.1883 Q1852.56 73.7508 1844.3 73.7508 Q1839.32 73.7508 1835.71 71.8063 Q1832.15 69.8214 1829.8 65.7705 M1855.15 49.9314 Q1855.15 41.7081 1851.75 37.0496 Q1848.39 32.3505 1842.47 32.3505 Q1836.56 32.3505 1833.16 37.0496 Q1829.8 41.7081 1829.8 49.9314 Q1829.8 58.1548 1833.16 62.8538 Q1836.56 67.5124 1842.47 67.5124 Q1848.39 67.5124 1851.75 62.8538 Q1855.15 58.1548 1855.15 49.9314 Z\" fill=\"#000000\" fill-rule=\"nonzero\" fill-opacity=\"1\" /><path clip-path=\"url(#clip040)\" d=\"M1901.54 34.1734 Q1900.28 33.4443 1898.78 33.1202 Q1897.32 32.7556 1895.54 32.7556 Q1889.22 32.7556 1885.82 36.8875 Q1882.46 40.9789 1882.46 48.6757 L1882.46 72.576 L1874.96 72.576 L1874.96 27.2059 L1882.46 27.2059 L1882.46 34.2544 Q1884.81 30.1225 1888.57 28.1376 Q1892.34 26.1121 1897.73 26.1121 Q1898.5 26.1121 1899.43 26.2337 Q1900.36 26.3147 1901.5 26.5172 L1901.54 34.1734 Z\" fill=\"#000000\" fill-rule=\"nonzero\" fill-opacity=\"1\" /><path clip-path=\"url(#clip040)\" d=\"M1925.11 32.4315 Q1919.12 32.4315 1915.63 37.1306 Q1912.15 41.7891 1912.15 49.9314 Q1912.15 58.0738 1915.59 62.7728 Q1919.08 67.4314 1925.11 67.4314 Q1931.07 67.4314 1934.55 62.7323 Q1938.04 58.0333 1938.04 49.9314 Q1938.04 41.8701 1934.55 37.1711 Q1931.07 32.4315 1925.11 32.4315 M1925.11 26.1121 Q1934.84 26.1121 1940.39 32.4315 Q1945.93 38.7509 1945.93 49.9314 Q1945.93 61.0714 1940.39 67.4314 Q1934.84 73.7508 1925.11 73.7508 Q1915.35 73.7508 1909.8 67.4314 Q1904.29 61.0714 1904.29 49.9314 Q1904.29 38.7509 1909.8 32.4315 Q1915.35 26.1121 1925.11 26.1121 Z\" fill=\"#000000\" fill-rule=\"nonzero\" fill-opacity=\"1\" /><path clip-path=\"url(#clip040)\" d=\"M1993.45 27.2059 L1977.05 49.2833 L1994.3 72.576 L1985.51 72.576 L1972.31 54.752 L1959.1 72.576 L1950.31 72.576 L1967.93 48.8377 L1951.81 27.2059 L1960.6 27.2059 L1972.63 43.369 L1984.66 27.2059 L1993.45 27.2059 Z\" fill=\"#000000\" fill-rule=\"nonzero\" fill-opacity=\"1\" /><path clip-path=\"url(#clip040)\" d=\"M2004.84 27.2059 L2012.29 27.2059 L2012.29 72.576 L2004.84 72.576 L2004.84 27.2059 M2004.84 9.54393 L2012.29 9.54393 L2012.29 18.9825 L2004.84 18.9825 L2004.84 9.54393 Z\" fill=\"#000000\" fill-rule=\"nonzero\" fill-opacity=\"1\" /><path clip-path=\"url(#clip040)\" d=\"M2063.21 35.9153 Q2066 30.8922 2069.89 28.5022 Q2073.78 26.1121 2079.05 26.1121 Q2086.14 26.1121 2089.99 31.0947 Q2093.83 36.0368 2093.83 45.1919 L2093.83 72.576 L2086.34 72.576 L2086.34 45.4349 Q2086.34 38.913 2084.03 35.7533 Q2081.72 32.5936 2076.98 32.5936 Q2071.19 32.5936 2067.83 36.4419 Q2064.46 40.2903 2064.46 46.9338 L2064.46 72.576 L2056.97 72.576 L2056.97 45.4349 Q2056.97 38.8725 2054.66 35.7533 Q2052.35 32.5936 2047.53 32.5936 Q2041.82 32.5936 2038.46 36.4824 Q2035.1 40.3308 2035.1 46.9338 L2035.1 72.576 L2027.6 72.576 L2027.6 27.2059 L2035.1 27.2059 L2035.1 34.2544 Q2037.65 30.082 2041.21 28.0971 Q2044.78 26.1121 2049.68 26.1121 Q2054.62 26.1121 2058.06 28.6237 Q2061.55 31.1352 2063.21 35.9153 Z\" fill=\"#000000\" fill-rule=\"nonzero\" fill-opacity=\"1\" /><path clip-path=\"url(#clip040)\" d=\"M2129.32 49.7694 Q2120.29 49.7694 2116.8 51.8354 Q2113.32 53.9013 2113.32 58.8839 Q2113.32 62.8538 2115.91 65.2034 Q2118.54 67.5124 2123.04 67.5124 Q2129.24 67.5124 2132.97 63.1374 Q2136.73 58.7219 2136.73 51.4303 L2136.73 49.7694 L2129.32 49.7694 M2144.19 46.6907 L2144.19 72.576 L2136.73 72.576 L2136.73 65.6895 Q2134.18 69.8214 2130.37 71.8063 Q2126.56 73.7508 2121.06 73.7508 Q2114.09 73.7508 2109.96 69.8619 Q2105.86 65.9325 2105.86 59.3701 Q2105.86 51.7138 2110.97 47.825 Q2116.11 43.9361 2126.28 43.9361 L2136.73 43.9361 L2136.73 43.2069 Q2136.73 38.0623 2133.33 35.2672 Q2129.97 32.4315 2123.85 32.4315 Q2119.96 32.4315 2116.28 33.3632 Q2112.59 34.295 2109.19 36.1584 L2109.19 29.2718 Q2113.28 27.692 2117.13 26.9223 Q2120.97 26.1121 2124.62 26.1121 Q2134.46 26.1121 2139.33 31.2163 Q2144.19 36.3204 2144.19 46.6907 Z\" fill=\"#000000\" fill-rule=\"nonzero\" fill-opacity=\"1\" /><path clip-path=\"url(#clip040)\" d=\"M2189.39 34.0924 L2189.39 9.54393 L2196.85 9.54393 L2196.85 72.576 L2189.39 72.576 L2189.39 65.7705 Q2187.04 69.8214 2183.44 71.8063 Q2179.87 73.7508 2174.85 73.7508 Q2166.63 73.7508 2161.44 67.1883 Q2156.3 60.6258 2156.3 49.9314 Q2156.3 39.2371 2161.44 32.6746 Q2166.63 26.1121 2174.85 26.1121 Q2179.87 26.1121 2183.44 28.0971 Q2187.04 30.0415 2189.39 34.0924 M2164 49.9314 Q2164 58.1548 2167.36 62.8538 Q2170.76 67.5124 2176.67 67.5124 Q2182.59 67.5124 2185.99 62.8538 Q2189.39 58.1548 2189.39 49.9314 Q2189.39 41.7081 2185.99 37.0496 Q2182.59 32.3505 2176.67 32.3505 Q2170.76 32.3505 2167.36 37.0496 Q2164 41.7081 2164 49.9314 Z\" fill=\"#000000\" fill-rule=\"nonzero\" fill-opacity=\"1\" /><path clip-path=\"url(#clip040)\" d=\"M2232.82 49.7694 Q2223.79 49.7694 2220.3 51.8354 Q2216.82 53.9013 2216.82 58.8839 Q2216.82 62.8538 2219.41 65.2034 Q2222.04 67.5124 2226.54 67.5124 Q2232.74 67.5124 2236.47 63.1374 Q2240.23 58.7219 2240.23 51.4303 L2240.23 49.7694 L2232.82 49.7694 M2247.69 46.6907 L2247.69 72.576 L2240.23 72.576 L2240.23 65.6895 Q2237.68 69.8214 2233.87 71.8063 Q2230.07 73.7508 2224.56 73.7508 Q2217.59 73.7508 2213.46 69.8619 Q2209.37 65.9325 2209.37 59.3701 Q2209.37 51.7138 2214.47 47.825 Q2219.61 43.9361 2229.78 43.9361 L2240.23 43.9361 L2240.23 43.2069 Q2240.23 38.0623 2236.83 35.2672 Q2233.47 32.4315 2227.35 32.4315 Q2223.46 32.4315 2219.78 33.3632 Q2216.09 34.295 2212.69 36.1584 L2212.69 29.2718 Q2216.78 27.692 2220.63 26.9223 Q2224.48 26.1121 2228.12 26.1121 Q2237.96 26.1121 2242.83 31.2163 Q2247.69 36.3204 2247.69 46.6907 Z\" fill=\"#000000\" fill-rule=\"nonzero\" fill-opacity=\"1\" /><polyline clip-path=\"url(#clip042)\" style=\"stroke:#009af9; stroke-linecap:round; stroke-linejoin:round; stroke-width:12; stroke-opacity:1; fill:none\" points=\"247.59,1447.87 268.028,1407.7 288.467,1367.56 308.905,1327.5 329.344,1287.57 349.782,1247.79 370.221,1208.2 390.659,1168.86 411.098,1129.79 431.536,1091.03 451.975,1052.63 472.413,1014.61 492.852,977.025 513.29,939.902 533.729,903.282 554.167,867.198 574.606,831.688 595.044,796.785 615.483,762.526 635.921,728.942 656.36,696.068 676.798,663.936 697.237,632.578 717.675,602.024 738.114,572.305 758.552,543.451 778.991,515.488 799.429,488.446 819.868,462.351 840.306,437.228 860.745,413.103 881.183,389.999 901.622,367.938 922.06,346.944 942.499,327.036 962.937,308.234 983.376,290.557 1003.81,274.022 1024.25,258.646 1044.69,244.443 1065.13,231.428 1085.57,219.613 1106.01,209.01 1126.45,199.63 1146.88,191.482 1167.32,184.574 1187.76,178.912 1208.2,174.503 1228.64,171.35 1249.08,169.458 1269.51,168.827 1289.95,169.458 1310.39,171.35 1330.83,174.503 1351.27,178.912 1371.71,184.574 1392.15,191.482 1412.58,199.63 1433.02,209.01 1453.46,219.613 1473.9,231.428 1494.34,244.443 1514.78,258.646 1535.22,274.022 1555.65,290.557 1576.09,308.234 1596.53,327.036 1616.97,346.944 1637.41,367.938 1657.85,389.999 1678.29,413.103 1698.72,437.228 1719.16,462.351 1739.6,488.446 1760.04,515.488 1780.48,543.451 1800.92,572.305 1821.35,602.024 1841.79,632.578 1862.23,663.936 1882.67,696.068 1903.11,728.942 1923.55,762.526 1943.99,796.785 1964.42,831.688 1984.86,867.198 2005.3,903.282 2025.74,939.902 2046.18,977.025 2066.62,1014.61 2087.06,1052.63 2107.49,1091.03 2127.93,1129.79 2148.37,1168.86 2168.81,1208.2 2189.25,1247.79 2209.69,1287.57 2230.12,1327.5 2250.56,1367.56 2271,1407.7 2291.44,1447.87 \"/>\n",
       "<polyline clip-path=\"url(#clip042)\" style=\"stroke:#e26f46; stroke-linecap:round; stroke-linejoin:round; stroke-width:12; stroke-opacity:1; fill:none\" points=\"247.59,1447.87 758.552,534.981 1269.51,162.047 1780.48,542.731 2291.44,1447.87 \"/>\n",
       "<circle clip-path=\"url(#clip042)\" cx=\"247.59\" cy=\"1447.87\" r=\"14.4\" fill=\"#e26f46\" fill-rule=\"evenodd\" fill-opacity=\"1\" stroke=\"#000000\" stroke-opacity=\"1\" stroke-width=\"3.2\"/>\n",
       "<circle clip-path=\"url(#clip042)\" cx=\"758.552\" cy=\"534.981\" r=\"14.4\" fill=\"#e26f46\" fill-rule=\"evenodd\" fill-opacity=\"1\" stroke=\"#000000\" stroke-opacity=\"1\" stroke-width=\"3.2\"/>\n",
       "<circle clip-path=\"url(#clip042)\" cx=\"1269.51\" cy=\"162.047\" r=\"14.4\" fill=\"#e26f46\" fill-rule=\"evenodd\" fill-opacity=\"1\" stroke=\"#000000\" stroke-opacity=\"1\" stroke-width=\"3.2\"/>\n",
       "<circle clip-path=\"url(#clip042)\" cx=\"1780.48\" cy=\"542.731\" r=\"14.4\" fill=\"#e26f46\" fill-rule=\"evenodd\" fill-opacity=\"1\" stroke=\"#000000\" stroke-opacity=\"1\" stroke-width=\"3.2\"/>\n",
       "<circle clip-path=\"url(#clip042)\" cx=\"2291.44\" cy=\"1447.87\" r=\"14.4\" fill=\"#e26f46\" fill-rule=\"evenodd\" fill-opacity=\"1\" stroke=\"#000000\" stroke-opacity=\"1\" stroke-width=\"3.2\"/>\n",
       "<path clip-path=\"url(#clip040)\" d=\"M1589.08 324.425 L2280.54 324.425 L2280.54 168.905 L1589.08 168.905  Z\" fill=\"#ffffff\" fill-rule=\"evenodd\" fill-opacity=\"1\"/>\n",
       "<polyline clip-path=\"url(#clip040)\" style=\"stroke:#000000; stroke-linecap:round; stroke-linejoin:round; stroke-width:4; stroke-opacity:1; fill:none\" points=\"1589.08,324.425 2280.54,324.425 2280.54,168.905 1589.08,168.905 1589.08,324.425 \"/>\n",
       "<polyline clip-path=\"url(#clip040)\" style=\"stroke:#009af9; stroke-linecap:round; stroke-linejoin:round; stroke-width:12; stroke-opacity:1; fill:none\" points=\"1613.15,220.745 1757.58,220.745 \"/>\n",
       "<path clip-path=\"url(#clip040)\" d=\"M1803.9 204.599 L1803.9 209.159 Q1801.24 207.886 1798.88 207.261 Q1796.52 206.636 1794.32 206.636 Q1790.5 206.636 1788.41 208.117 Q1786.35 209.599 1786.35 212.33 Q1786.35 214.622 1787.72 215.803 Q1789.11 216.96 1792.95 217.678 L1795.78 218.256 Q1801.01 219.252 1803.48 221.775 Q1805.98 224.275 1805.98 228.488 Q1805.98 233.511 1802.6 236.103 Q1799.25 238.696 1792.74 238.696 Q1790.29 238.696 1787.51 238.14 Q1784.76 237.585 1781.79 236.497 L1781.79 231.682 Q1784.64 233.279 1787.37 234.089 Q1790.1 234.9 1792.74 234.9 Q1796.75 234.9 1798.92 233.326 Q1801.1 231.752 1801.1 228.835 Q1801.1 226.289 1799.53 224.853 Q1797.97 223.418 1794.41 222.701 L1791.56 222.145 Q1786.33 221.103 1783.99 218.881 Q1781.66 216.659 1781.66 212.701 Q1781.66 208.117 1784.87 205.479 Q1788.11 202.84 1793.79 202.84 Q1796.22 202.84 1798.74 203.279 Q1801.26 203.719 1803.9 204.599 Z\" fill=\"#000000\" fill-rule=\"nonzero\" fill-opacity=\"1\" /><path clip-path=\"url(#clip040)\" d=\"M1823.14 215.085 Q1819.71 215.085 1817.72 217.77 Q1815.73 220.432 1815.73 225.085 Q1815.73 229.738 1817.7 232.423 Q1819.69 235.085 1823.14 235.085 Q1826.54 235.085 1828.53 232.4 Q1830.52 229.715 1830.52 225.085 Q1830.52 220.478 1828.53 217.793 Q1826.54 215.085 1823.14 215.085 M1823.14 211.474 Q1828.69 211.474 1831.86 215.085 Q1835.03 218.696 1835.03 225.085 Q1835.03 231.451 1831.86 235.085 Q1828.69 238.696 1823.14 238.696 Q1817.56 238.696 1814.39 235.085 Q1811.24 231.451 1811.24 225.085 Q1811.24 218.696 1814.39 215.085 Q1817.56 211.474 1823.14 211.474 Z\" fill=\"#000000\" fill-rule=\"nonzero\" fill-opacity=\"1\" /><path clip-path=\"url(#clip040)\" d=\"M1842.1 202.006 L1846.35 202.006 L1846.35 238.025 L1842.1 238.025 L1842.1 202.006 Z\" fill=\"#000000\" fill-rule=\"nonzero\" fill-opacity=\"1\" /><path clip-path=\"url(#clip040)\" d=\"M1854.83 227.793 L1854.83 212.099 L1859.09 212.099 L1859.09 227.631 Q1859.09 231.312 1860.52 233.164 Q1861.96 234.992 1864.83 234.992 Q1868.28 234.992 1870.27 232.793 Q1872.28 230.594 1872.28 226.798 L1872.28 212.099 L1876.54 212.099 L1876.54 238.025 L1872.28 238.025 L1872.28 234.043 Q1870.73 236.404 1868.67 237.562 Q1866.63 238.696 1863.92 238.696 Q1859.46 238.696 1857.14 235.918 Q1854.83 233.14 1854.83 227.793 M1865.54 211.474 L1865.54 211.474 Z\" fill=\"#000000\" fill-rule=\"nonzero\" fill-opacity=\"1\" /><path clip-path=\"url(#clip040)\" d=\"M1903.97 213.094 L1903.97 217.076 Q1902.16 216.08 1900.34 215.594 Q1898.53 215.085 1896.68 215.085 Q1892.53 215.085 1890.24 217.724 Q1887.95 220.34 1887.95 225.085 Q1887.95 229.83 1890.24 232.469 Q1892.53 235.085 1896.68 235.085 Q1898.53 235.085 1900.34 234.599 Q1902.16 234.089 1903.97 233.094 L1903.97 237.029 Q1902.19 237.863 1900.27 238.279 Q1898.37 238.696 1896.22 238.696 Q1890.36 238.696 1886.91 235.015 Q1883.46 231.335 1883.46 225.085 Q1883.46 218.742 1886.93 215.108 Q1890.43 211.474 1896.49 211.474 Q1898.46 211.474 1900.34 211.891 Q1902.21 212.284 1903.97 213.094 M1897.95 238.025 Q1899.22 239.46 1899.85 240.664 Q1900.47 241.89 1900.47 243.001 Q1900.47 245.062 1899.09 246.103 Q1897.7 247.168 1894.97 247.168 Q1893.9 247.168 1892.88 247.029 Q1891.89 246.89 1890.89 246.613 L1890.89 243.58 Q1891.68 243.974 1892.53 244.136 Q1893.39 244.321 1894.48 244.321 Q1895.84 244.321 1896.54 243.765 Q1897.23 243.21 1897.23 242.145 Q1897.23 241.451 1896.72 240.432 Q1896.24 239.437 1895.2 238.025 L1897.95 238.025 Z\" fill=\"#000000\" fill-rule=\"nonzero\" fill-opacity=\"1\" /><path clip-path=\"url(#clip040)\" d=\"M1923.16 224.992 Q1918 224.992 1916.01 226.173 Q1914.02 227.353 1914.02 230.201 Q1914.02 232.469 1915.5 233.812 Q1917 235.131 1919.57 235.131 Q1923.11 235.131 1925.24 232.631 Q1927.4 230.108 1927.4 225.941 L1927.4 224.992 L1923.16 224.992 M1931.65 223.233 L1931.65 238.025 L1927.4 238.025 L1927.4 234.089 Q1925.94 236.451 1923.76 237.585 Q1921.59 238.696 1918.44 238.696 Q1914.46 238.696 1912.09 236.474 Q1909.76 234.228 1909.76 230.478 Q1909.76 226.103 1912.67 223.881 Q1915.61 221.659 1921.42 221.659 L1927.4 221.659 L1927.4 221.242 Q1927.4 218.303 1925.45 216.705 Q1923.53 215.085 1920.03 215.085 Q1917.81 215.085 1915.71 215.617 Q1913.6 216.15 1911.65 217.215 L1911.65 213.279 Q1913.99 212.377 1916.19 211.937 Q1918.39 211.474 1920.47 211.474 Q1926.1 211.474 1928.88 214.391 Q1931.65 217.307 1931.65 223.233 M1920.57 206.312 L1919.25 205.039 Q1918.74 204.576 1918.34 204.367 Q1917.97 204.136 1917.67 204.136 Q1916.79 204.136 1916.38 204.992 Q1915.96 205.826 1915.91 207.724 L1913.02 207.724 Q1913.07 204.599 1914.25 202.909 Q1915.43 201.196 1917.53 201.196 Q1918.41 201.196 1919.15 201.52 Q1919.9 201.844 1920.75 202.608 L1922.07 203.881 Q1922.58 204.344 1922.95 204.576 Q1923.34 204.784 1923.65 204.784 Q1924.53 204.784 1924.94 203.951 Q1925.36 203.094 1925.4 201.196 L1928.3 201.196 Q1928.25 204.321 1927.07 206.034 Q1925.89 207.724 1923.78 207.724 Q1922.9 207.724 1922.16 207.4 Q1921.42 207.076 1920.57 206.312 Z\" fill=\"#000000\" fill-rule=\"nonzero\" fill-opacity=\"1\" /><path clip-path=\"url(#clip040)\" d=\"M1950.47 215.085 Q1947.05 215.085 1945.06 217.77 Q1943.07 220.432 1943.07 225.085 Q1943.07 229.738 1945.03 232.423 Q1947.03 235.085 1950.47 235.085 Q1953.88 235.085 1955.87 232.4 Q1957.86 229.715 1957.86 225.085 Q1957.86 220.478 1955.87 217.793 Q1953.88 215.085 1950.47 215.085 M1950.47 211.474 Q1956.03 211.474 1959.2 215.085 Q1962.37 218.696 1962.37 225.085 Q1962.37 231.451 1959.2 235.085 Q1956.03 238.696 1950.47 238.696 Q1944.9 238.696 1941.72 235.085 Q1938.58 231.451 1938.58 225.085 Q1938.58 218.696 1941.72 215.085 Q1944.9 211.474 1950.47 211.474 Z\" fill=\"#000000\" fill-rule=\"nonzero\" fill-opacity=\"1\" /><path clip-path=\"url(#clip040)\" d=\"M2006.68 223.997 L2006.68 226.08 L1987.09 226.08 Q1987.37 230.478 1989.73 232.793 Q1992.12 235.085 1996.35 235.085 Q1998.81 235.085 2001.1 234.483 Q2003.41 233.881 2005.68 232.677 L2005.68 236.705 Q2003.39 237.677 2000.98 238.187 Q1998.58 238.696 1996.1 238.696 Q1989.9 238.696 1986.26 235.085 Q1982.65 231.474 1982.65 225.316 Q1982.65 218.951 1986.08 215.224 Q1989.52 211.474 1995.36 211.474 Q2000.59 211.474 2003.62 214.853 Q2006.68 218.21 2006.68 223.997 M2002.42 222.747 Q2002.37 219.252 2000.45 217.168 Q1998.55 215.085 1995.4 215.085 Q1991.84 215.085 1989.69 217.099 Q1987.56 219.113 1987.23 222.77 L2002.42 222.747 Z\" fill=\"#000000\" fill-rule=\"nonzero\" fill-opacity=\"1\" /><path clip-path=\"url(#clip040)\" d=\"M2034.39 212.099 L2025.01 224.715 L2034.87 238.025 L2029.85 238.025 L2022.3 227.84 L2014.76 238.025 L2009.73 238.025 L2019.8 224.46 L2010.59 212.099 L2015.61 212.099 L2022.49 221.335 L2029.36 212.099 L2034.39 212.099 Z\" fill=\"#000000\" fill-rule=\"nonzero\" fill-opacity=\"1\" /><path clip-path=\"url(#clip040)\" d=\"M2052.67 224.992 Q2047.51 224.992 2045.52 226.173 Q2043.53 227.353 2043.53 230.201 Q2043.53 232.469 2045.01 233.812 Q2046.52 235.131 2049.08 235.131 Q2052.63 235.131 2054.76 232.631 Q2056.91 230.108 2056.91 225.941 L2056.91 224.992 L2052.67 224.992 M2061.17 223.233 L2061.17 238.025 L2056.91 238.025 L2056.91 234.089 Q2055.45 236.451 2053.27 237.585 Q2051.1 238.696 2047.95 238.696 Q2043.97 238.696 2041.61 236.474 Q2039.27 234.228 2039.27 230.478 Q2039.27 226.103 2042.19 223.881 Q2045.13 221.659 2050.94 221.659 L2056.91 221.659 L2056.91 221.242 Q2056.91 218.303 2054.96 216.705 Q2053.04 215.085 2049.55 215.085 Q2047.33 215.085 2045.22 215.617 Q2043.11 216.15 2041.17 217.215 L2041.17 213.279 Q2043.51 212.377 2045.71 211.937 Q2047.9 211.474 2049.99 211.474 Q2055.61 211.474 2058.39 214.391 Q2061.17 217.307 2061.17 223.233 Z\" fill=\"#000000\" fill-rule=\"nonzero\" fill-opacity=\"1\" /><path clip-path=\"url(#clip040)\" d=\"M2074.15 204.738 L2074.15 212.099 L2082.93 212.099 L2082.93 215.409 L2074.15 215.409 L2074.15 229.483 Q2074.15 232.654 2075.01 233.557 Q2075.89 234.46 2078.55 234.46 L2082.93 234.46 L2082.93 238.025 L2078.55 238.025 Q2073.62 238.025 2071.75 236.196 Q2069.87 234.344 2069.87 229.483 L2069.87 215.409 L2066.75 215.409 L2066.75 212.099 L2069.87 212.099 L2069.87 204.738 L2074.15 204.738 Z\" fill=\"#000000\" fill-rule=\"nonzero\" fill-opacity=\"1\" /><path clip-path=\"url(#clip040)\" d=\"M2100.31 224.992 Q2095.15 224.992 2093.16 226.173 Q2091.17 227.353 2091.17 230.201 Q2091.17 232.469 2092.65 233.812 Q2094.15 235.131 2096.72 235.131 Q2100.26 235.131 2102.39 232.631 Q2104.55 230.108 2104.55 225.941 L2104.55 224.992 L2100.31 224.992 M2108.81 223.233 L2108.81 238.025 L2104.55 238.025 L2104.55 234.089 Q2103.09 236.451 2100.91 237.585 Q2098.74 238.696 2095.59 238.696 Q2091.61 238.696 2089.25 236.474 Q2086.91 234.228 2086.91 230.478 Q2086.91 226.103 2089.83 223.881 Q2092.76 221.659 2098.58 221.659 L2104.55 221.659 L2104.55 221.242 Q2104.55 218.303 2102.6 216.705 Q2100.68 215.085 2097.19 215.085 Q2094.96 215.085 2092.86 215.617 Q2090.75 216.15 2088.81 217.215 L2088.81 213.279 Q2091.14 212.377 2093.34 211.937 Q2095.54 211.474 2097.63 211.474 Q2103.25 211.474 2106.03 214.391 Q2108.81 217.307 2108.81 223.233 Z\" fill=\"#000000\" fill-rule=\"nonzero\" fill-opacity=\"1\" /><polyline clip-path=\"url(#clip040)\" style=\"stroke:#e26f46; stroke-linecap:round; stroke-linejoin:round; stroke-width:12; stroke-opacity:1; fill:none\" points=\"1613.15,272.585 1757.58,272.585 \"/>\n",
       "<circle clip-path=\"url(#clip040)\" cx=\"1685.37\" cy=\"272.585\" r=\"20.06\" fill=\"#e26f46\" fill-rule=\"evenodd\" fill-opacity=\"1\" stroke=\"#000000\" stroke-opacity=\"1\" stroke-width=\"4.55111\"/>\n",
       "<path clip-path=\"url(#clip040)\" d=\"M1803.9 256.439 L1803.9 260.999 Q1801.24 259.726 1798.88 259.101 Q1796.52 258.476 1794.32 258.476 Q1790.5 258.476 1788.41 259.957 Q1786.35 261.439 1786.35 264.17 Q1786.35 266.462 1787.72 267.643 Q1789.11 268.8 1792.95 269.518 L1795.78 270.096 Q1801.01 271.092 1803.48 273.615 Q1805.98 276.115 1805.98 280.328 Q1805.98 285.351 1802.6 287.943 Q1799.25 290.536 1792.74 290.536 Q1790.29 290.536 1787.51 289.98 Q1784.76 289.425 1781.79 288.337 L1781.79 283.522 Q1784.64 285.119 1787.37 285.929 Q1790.1 286.74 1792.74 286.74 Q1796.75 286.74 1798.92 285.166 Q1801.1 283.592 1801.1 280.675 Q1801.1 278.129 1799.53 276.693 Q1797.97 275.258 1794.41 274.541 L1791.56 273.985 Q1786.33 272.943 1783.99 270.721 Q1781.66 268.499 1781.66 264.541 Q1781.66 259.957 1784.87 257.319 Q1788.11 254.68 1793.79 254.68 Q1796.22 254.68 1798.74 255.119 Q1801.26 255.559 1803.9 256.439 Z\" fill=\"#000000\" fill-rule=\"nonzero\" fill-opacity=\"1\" /><path clip-path=\"url(#clip040)\" d=\"M1823.14 266.925 Q1819.71 266.925 1817.72 269.61 Q1815.73 272.272 1815.73 276.925 Q1815.73 281.578 1817.7 284.263 Q1819.69 286.925 1823.14 286.925 Q1826.54 286.925 1828.53 284.24 Q1830.52 281.555 1830.52 276.925 Q1830.52 272.318 1828.53 269.633 Q1826.54 266.925 1823.14 266.925 M1823.14 263.314 Q1828.69 263.314 1831.86 266.925 Q1835.03 270.536 1835.03 276.925 Q1835.03 283.291 1831.86 286.925 Q1828.69 290.536 1823.14 290.536 Q1817.56 290.536 1814.39 286.925 Q1811.24 283.291 1811.24 276.925 Q1811.24 270.536 1814.39 266.925 Q1817.56 263.314 1823.14 263.314 Z\" fill=\"#000000\" fill-rule=\"nonzero\" fill-opacity=\"1\" /><path clip-path=\"url(#clip040)\" d=\"M1842.1 253.846 L1846.35 253.846 L1846.35 289.865 L1842.1 289.865 L1842.1 253.846 Z\" fill=\"#000000\" fill-rule=\"nonzero\" fill-opacity=\"1\" /><path clip-path=\"url(#clip040)\" d=\"M1854.83 279.633 L1854.83 263.939 L1859.09 263.939 L1859.09 279.471 Q1859.09 283.152 1860.52 285.004 Q1861.96 286.832 1864.83 286.832 Q1868.28 286.832 1870.27 284.633 Q1872.28 282.434 1872.28 278.638 L1872.28 263.939 L1876.54 263.939 L1876.54 289.865 L1872.28 289.865 L1872.28 285.883 Q1870.73 288.244 1868.67 289.402 Q1866.63 290.536 1863.92 290.536 Q1859.46 290.536 1857.14 287.758 Q1854.83 284.98 1854.83 279.633 M1865.54 263.314 L1865.54 263.314 Z\" fill=\"#000000\" fill-rule=\"nonzero\" fill-opacity=\"1\" /><path clip-path=\"url(#clip040)\" d=\"M1903.97 264.934 L1903.97 268.916 Q1902.16 267.92 1900.34 267.434 Q1898.53 266.925 1896.68 266.925 Q1892.53 266.925 1890.24 269.564 Q1887.95 272.18 1887.95 276.925 Q1887.95 281.67 1890.24 284.309 Q1892.53 286.925 1896.68 286.925 Q1898.53 286.925 1900.34 286.439 Q1902.16 285.929 1903.97 284.934 L1903.97 288.869 Q1902.19 289.703 1900.27 290.119 Q1898.37 290.536 1896.22 290.536 Q1890.36 290.536 1886.91 286.855 Q1883.46 283.175 1883.46 276.925 Q1883.46 270.582 1886.93 266.948 Q1890.43 263.314 1896.49 263.314 Q1898.46 263.314 1900.34 263.731 Q1902.21 264.124 1903.97 264.934 M1897.95 289.865 Q1899.22 291.3 1899.85 292.504 Q1900.47 293.73 1900.47 294.841 Q1900.47 296.902 1899.09 297.943 Q1897.7 299.008 1894.97 299.008 Q1893.9 299.008 1892.88 298.869 Q1891.89 298.73 1890.89 298.453 L1890.89 295.42 Q1891.68 295.814 1892.53 295.976 Q1893.39 296.161 1894.48 296.161 Q1895.84 296.161 1896.54 295.605 Q1897.23 295.05 1897.23 293.985 Q1897.23 293.291 1896.72 292.272 Q1896.24 291.277 1895.2 289.865 L1897.95 289.865 Z\" fill=\"#000000\" fill-rule=\"nonzero\" fill-opacity=\"1\" /><path clip-path=\"url(#clip040)\" d=\"M1923.16 276.832 Q1918 276.832 1916.01 278.013 Q1914.02 279.193 1914.02 282.041 Q1914.02 284.309 1915.5 285.652 Q1917 286.971 1919.57 286.971 Q1923.11 286.971 1925.24 284.471 Q1927.4 281.948 1927.4 277.781 L1927.4 276.832 L1923.16 276.832 M1931.65 275.073 L1931.65 289.865 L1927.4 289.865 L1927.4 285.929 Q1925.94 288.291 1923.76 289.425 Q1921.59 290.536 1918.44 290.536 Q1914.46 290.536 1912.09 288.314 Q1909.76 286.068 1909.76 282.318 Q1909.76 277.943 1912.67 275.721 Q1915.61 273.499 1921.42 273.499 L1927.4 273.499 L1927.4 273.082 Q1927.4 270.143 1925.45 268.545 Q1923.53 266.925 1920.03 266.925 Q1917.81 266.925 1915.71 267.457 Q1913.6 267.99 1911.65 269.055 L1911.65 265.119 Q1913.99 264.217 1916.19 263.777 Q1918.39 263.314 1920.47 263.314 Q1926.1 263.314 1928.88 266.231 Q1931.65 269.147 1931.65 275.073 M1920.57 258.152 L1919.25 256.879 Q1918.74 256.416 1918.34 256.207 Q1917.97 255.976 1917.67 255.976 Q1916.79 255.976 1916.38 256.832 Q1915.96 257.666 1915.91 259.564 L1913.02 259.564 Q1913.07 256.439 1914.25 254.749 Q1915.43 253.036 1917.53 253.036 Q1918.41 253.036 1919.15 253.36 Q1919.9 253.684 1920.75 254.448 L1922.07 255.721 Q1922.58 256.184 1922.95 256.416 Q1923.34 256.624 1923.65 256.624 Q1924.53 256.624 1924.94 255.791 Q1925.36 254.934 1925.4 253.036 L1928.3 253.036 Q1928.25 256.161 1927.07 257.874 Q1925.89 259.564 1923.78 259.564 Q1922.9 259.564 1922.16 259.24 Q1921.42 258.916 1920.57 258.152 Z\" fill=\"#000000\" fill-rule=\"nonzero\" fill-opacity=\"1\" /><path clip-path=\"url(#clip040)\" d=\"M1950.47 266.925 Q1947.05 266.925 1945.06 269.61 Q1943.07 272.272 1943.07 276.925 Q1943.07 281.578 1945.03 284.263 Q1947.03 286.925 1950.47 286.925 Q1953.88 286.925 1955.87 284.24 Q1957.86 281.555 1957.86 276.925 Q1957.86 272.318 1955.87 269.633 Q1953.88 266.925 1950.47 266.925 M1950.47 263.314 Q1956.03 263.314 1959.2 266.925 Q1962.37 270.536 1962.37 276.925 Q1962.37 283.291 1959.2 286.925 Q1956.03 290.536 1950.47 290.536 Q1944.9 290.536 1941.72 286.925 Q1938.58 283.291 1938.58 276.925 Q1938.58 270.536 1941.72 266.925 Q1944.9 263.314 1950.47 263.314 Z\" fill=\"#000000\" fill-rule=\"nonzero\" fill-opacity=\"1\" /><path clip-path=\"url(#clip040)\" d=\"M1996.28 276.832 Q1991.12 276.832 1989.13 278.013 Q1987.14 279.193 1987.14 282.041 Q1987.14 284.309 1988.62 285.652 Q1990.13 286.971 1992.7 286.971 Q1996.24 286.971 1998.37 284.471 Q2000.52 281.948 2000.52 277.781 L2000.52 276.832 L1996.28 276.832 M2004.78 275.073 L2004.78 289.865 L2000.52 289.865 L2000.52 285.929 Q1999.06 288.291 1996.89 289.425 Q1994.71 290.536 1991.56 290.536 Q1987.58 290.536 1985.22 288.314 Q1982.88 286.068 1982.88 282.318 Q1982.88 277.943 1985.8 275.721 Q1988.74 273.499 1994.55 273.499 L2000.52 273.499 L2000.52 273.082 Q2000.52 270.143 1998.58 268.545 Q1996.65 266.925 1993.16 266.925 Q1990.94 266.925 1988.83 267.457 Q1986.72 267.99 1984.78 269.055 L1984.78 265.119 Q1987.12 264.217 1989.32 263.777 Q1991.52 263.314 1993.6 263.314 Q1999.22 263.314 2002 266.231 Q2004.78 269.147 2004.78 275.073 Z\" fill=\"#000000\" fill-rule=\"nonzero\" fill-opacity=\"1\" /><path clip-path=\"url(#clip040)\" d=\"M2017.67 285.976 L2017.67 299.726 L2013.39 299.726 L2013.39 263.939 L2017.67 263.939 L2017.67 267.874 Q2019.02 265.559 2021.05 264.448 Q2023.11 263.314 2025.96 263.314 Q2030.68 263.314 2033.62 267.064 Q2036.58 270.814 2036.58 276.925 Q2036.58 283.036 2033.62 286.786 Q2030.68 290.536 2025.96 290.536 Q2023.11 290.536 2021.05 289.425 Q2019.02 288.291 2017.67 285.976 M2032.16 276.925 Q2032.16 272.226 2030.22 269.564 Q2028.3 266.879 2024.92 266.879 Q2021.54 266.879 2019.59 269.564 Q2017.67 272.226 2017.67 276.925 Q2017.67 281.624 2019.59 284.309 Q2021.54 286.971 2024.92 286.971 Q2028.3 286.971 2030.22 284.309 Q2032.16 281.624 2032.16 276.925 Z\" fill=\"#000000\" fill-rule=\"nonzero\" fill-opacity=\"1\" /><path clip-path=\"url(#clip040)\" d=\"M2058.67 267.92 Q2057.95 267.504 2057.09 267.318 Q2056.26 267.11 2055.24 267.11 Q2051.63 267.11 2049.69 269.471 Q2047.77 271.809 2047.77 276.207 L2047.77 289.865 L2043.48 289.865 L2043.48 263.939 L2047.77 263.939 L2047.77 267.967 Q2049.11 265.606 2051.26 264.471 Q2053.41 263.314 2056.49 263.314 Q2056.93 263.314 2057.46 263.383 Q2058 263.43 2058.64 263.545 L2058.67 267.92 Z\" fill=\"#000000\" fill-rule=\"nonzero\" fill-opacity=\"1\" /><path clip-path=\"url(#clip040)\" d=\"M2072.14 266.925 Q2068.71 266.925 2066.72 269.61 Q2064.73 272.272 2064.73 276.925 Q2064.73 281.578 2066.7 284.263 Q2068.69 286.925 2072.14 286.925 Q2075.54 286.925 2077.53 284.24 Q2079.52 281.555 2079.52 276.925 Q2079.52 272.318 2077.53 269.633 Q2075.54 266.925 2072.14 266.925 M2072.14 263.314 Q2077.7 263.314 2080.87 266.925 Q2084.04 270.536 2084.04 276.925 Q2084.04 283.291 2080.87 286.925 Q2077.7 290.536 2072.14 290.536 Q2066.56 290.536 2063.39 286.925 Q2060.24 283.291 2060.24 276.925 Q2060.24 270.536 2063.39 266.925 Q2066.56 263.314 2072.14 263.314 Z\" fill=\"#000000\" fill-rule=\"nonzero\" fill-opacity=\"1\" /><path clip-path=\"url(#clip040)\" d=\"M2111.19 263.939 L2101.82 276.555 L2111.68 289.865 L2106.65 289.865 L2099.11 279.68 L2091.56 289.865 L2086.54 289.865 L2096.61 276.3 L2087.39 263.939 L2092.42 263.939 L2099.29 273.175 L2106.17 263.939 L2111.19 263.939 Z\" fill=\"#000000\" fill-rule=\"nonzero\" fill-opacity=\"1\" /><path clip-path=\"url(#clip040)\" d=\"M2117.7 263.939 L2121.95 263.939 L2121.95 289.865 L2117.7 289.865 L2117.7 263.939 M2117.7 253.846 L2121.95 253.846 L2121.95 259.24 L2117.7 259.24 L2117.7 253.846 Z\" fill=\"#000000\" fill-rule=\"nonzero\" fill-opacity=\"1\" /><path clip-path=\"url(#clip040)\" d=\"M2151.05 268.916 Q2152.65 266.045 2154.87 264.68 Q2157.09 263.314 2160.1 263.314 Q2164.15 263.314 2166.35 266.161 Q2168.55 268.985 2168.55 274.217 L2168.55 289.865 L2164.27 289.865 L2164.27 274.355 Q2164.27 270.629 2162.95 268.823 Q2161.63 267.018 2158.92 267.018 Q2155.61 267.018 2153.69 269.217 Q2151.77 271.416 2151.77 275.212 L2151.77 289.865 L2147.49 289.865 L2147.49 274.355 Q2147.49 270.605 2146.17 268.823 Q2144.85 267.018 2142.09 267.018 Q2138.83 267.018 2136.91 269.24 Q2134.99 271.439 2134.99 275.212 L2134.99 289.865 L2130.7 289.865 L2130.7 263.939 L2134.99 263.939 L2134.99 267.967 Q2136.45 265.582 2138.48 264.448 Q2140.52 263.314 2143.32 263.314 Q2146.14 263.314 2148.11 264.749 Q2150.1 266.184 2151.05 268.916 Z\" fill=\"#000000\" fill-rule=\"nonzero\" fill-opacity=\"1\" /><path clip-path=\"url(#clip040)\" d=\"M2188.83 276.832 Q2183.67 276.832 2181.68 278.013 Q2179.69 279.193 2179.69 282.041 Q2179.69 284.309 2181.17 285.652 Q2182.67 286.971 2185.24 286.971 Q2188.78 286.971 2190.91 284.471 Q2193.07 281.948 2193.07 277.781 L2193.07 276.832 L2188.83 276.832 M2197.32 275.073 L2197.32 289.865 L2193.07 289.865 L2193.07 285.929 Q2191.61 288.291 2189.43 289.425 Q2187.26 290.536 2184.11 290.536 Q2180.13 290.536 2177.76 288.314 Q2175.43 286.068 2175.43 282.318 Q2175.43 277.943 2178.34 275.721 Q2181.28 273.499 2187.09 273.499 L2193.07 273.499 L2193.07 273.082 Q2193.07 270.143 2191.12 268.545 Q2189.2 266.925 2185.7 266.925 Q2183.48 266.925 2181.38 267.457 Q2179.27 267.99 2177.32 269.055 L2177.32 265.119 Q2179.66 264.217 2181.86 263.777 Q2184.06 263.314 2186.14 263.314 Q2191.77 263.314 2194.55 266.231 Q2197.32 269.147 2197.32 275.073 Z\" fill=\"#000000\" fill-rule=\"nonzero\" fill-opacity=\"1\" /><path clip-path=\"url(#clip040)\" d=\"M2223.16 267.874 L2223.16 253.846 L2227.42 253.846 L2227.42 289.865 L2223.16 289.865 L2223.16 285.976 Q2221.82 288.291 2219.76 289.425 Q2217.72 290.536 2214.85 290.536 Q2210.15 290.536 2207.19 286.786 Q2204.25 283.036 2204.25 276.925 Q2204.25 270.814 2207.19 267.064 Q2210.15 263.314 2214.85 263.314 Q2217.72 263.314 2219.76 264.448 Q2221.82 265.559 2223.16 267.874 M2208.64 276.925 Q2208.64 281.624 2210.57 284.309 Q2212.51 286.971 2215.89 286.971 Q2219.27 286.971 2221.21 284.309 Q2223.16 281.624 2223.16 276.925 Q2223.16 272.226 2221.21 269.564 Q2219.27 266.879 2215.89 266.879 Q2212.51 266.879 2210.57 269.564 Q2208.64 272.226 2208.64 276.925 Z\" fill=\"#000000\" fill-rule=\"nonzero\" fill-opacity=\"1\" /><path clip-path=\"url(#clip040)\" d=\"M2247.97 276.832 Q2242.81 276.832 2240.82 278.013 Q2238.83 279.193 2238.83 282.041 Q2238.83 284.309 2240.31 285.652 Q2241.82 286.971 2244.38 286.971 Q2247.93 286.971 2250.06 284.471 Q2252.21 281.948 2252.21 277.781 L2252.21 276.832 L2247.97 276.832 M2256.47 275.073 L2256.47 289.865 L2252.21 289.865 L2252.21 285.929 Q2250.75 288.291 2248.57 289.425 Q2246.4 290.536 2243.25 290.536 Q2239.27 290.536 2236.91 288.314 Q2234.57 286.068 2234.57 282.318 Q2234.57 277.943 2237.49 275.721 Q2240.43 273.499 2246.24 273.499 L2252.21 273.499 L2252.21 273.082 Q2252.21 270.143 2250.26 268.545 Q2248.34 266.925 2244.85 266.925 Q2242.63 266.925 2240.52 267.457 Q2238.41 267.99 2236.47 269.055 L2236.47 265.119 Q2238.81 264.217 2241 263.777 Q2243.2 263.314 2245.29 263.314 Q2250.91 263.314 2253.69 266.231 Q2256.47 269.147 2256.47 275.073 Z\" fill=\"#000000\" fill-rule=\"nonzero\" fill-opacity=\"1\" /></svg>\n"
      ],
      "text/html": [
       "<?xml version=\"1.0\" encoding=\"utf-8\"?>\n",
       "<svg xmlns=\"http://www.w3.org/2000/svg\" xmlns:xlink=\"http://www.w3.org/1999/xlink\" width=\"600\" height=\"400\" viewBox=\"0 0 2400 1600\">\n",
       "<defs>\n",
       "  <clipPath id=\"clip090\">\n",
       "    <rect x=\"0\" y=\"0\" width=\"2400\" height=\"1600\"/>\n",
       "  </clipPath>\n",
       "</defs>\n",
       "<path clip-path=\"url(#clip090)\" d=\"M0 1600 L2400 1600 L2400 0 L0 0  Z\" fill=\"#ffffff\" fill-rule=\"evenodd\" fill-opacity=\"1\"/>\n",
       "<defs>\n",
       "  <clipPath id=\"clip091\">\n",
       "    <rect x=\"480\" y=\"0\" width=\"1681\" height=\"1600\"/>\n",
       "  </clipPath>\n",
       "</defs>\n",
       "<path clip-path=\"url(#clip090)\" d=\"M186.274 1486.45 L2352.76 1486.45 L2352.76 123.472 L186.274 123.472  Z\" fill=\"#ffffff\" fill-rule=\"evenodd\" fill-opacity=\"1\"/>\n",
       "<defs>\n",
       "  <clipPath id=\"clip092\">\n",
       "    <rect x=\"186\" y=\"123\" width=\"2167\" height=\"1364\"/>\n",
       "  </clipPath>\n",
       "</defs>\n",
       "<polyline clip-path=\"url(#clip092)\" style=\"stroke:#000000; stroke-linecap:round; stroke-linejoin:round; stroke-width:2; stroke-opacity:0.1; fill:none\" points=\"247.59,1486.45 247.59,123.472 \"/>\n",
       "<polyline clip-path=\"url(#clip092)\" style=\"stroke:#000000; stroke-linecap:round; stroke-linejoin:round; stroke-width:2; stroke-opacity:0.1; fill:none\" points=\"758.552,1486.45 758.552,123.472 \"/>\n",
       "<polyline clip-path=\"url(#clip092)\" style=\"stroke:#000000; stroke-linecap:round; stroke-linejoin:round; stroke-width:2; stroke-opacity:0.1; fill:none\" points=\"1269.51,1486.45 1269.51,123.472 \"/>\n",
       "<polyline clip-path=\"url(#clip092)\" style=\"stroke:#000000; stroke-linecap:round; stroke-linejoin:round; stroke-width:2; stroke-opacity:0.1; fill:none\" points=\"1780.48,1486.45 1780.48,123.472 \"/>\n",
       "<polyline clip-path=\"url(#clip092)\" style=\"stroke:#000000; stroke-linecap:round; stroke-linejoin:round; stroke-width:2; stroke-opacity:0.1; fill:none\" points=\"2291.44,1486.45 2291.44,123.472 \"/>\n",
       "<polyline clip-path=\"url(#clip092)\" style=\"stroke:#000000; stroke-linecap:round; stroke-linejoin:round; stroke-width:2; stroke-opacity:0.1; fill:none\" points=\"186.274,1447.87 2352.76,1447.87 \"/>\n",
       "<polyline clip-path=\"url(#clip092)\" style=\"stroke:#000000; stroke-linecap:round; stroke-linejoin:round; stroke-width:2; stroke-opacity:0.1; fill:none\" points=\"186.274,1128.11 2352.76,1128.11 \"/>\n",
       "<polyline clip-path=\"url(#clip092)\" style=\"stroke:#000000; stroke-linecap:round; stroke-linejoin:round; stroke-width:2; stroke-opacity:0.1; fill:none\" points=\"186.274,808.35 2352.76,808.35 \"/>\n",
       "<polyline clip-path=\"url(#clip092)\" style=\"stroke:#000000; stroke-linecap:round; stroke-linejoin:round; stroke-width:2; stroke-opacity:0.1; fill:none\" points=\"186.274,488.588 2352.76,488.588 \"/>\n",
       "<polyline clip-path=\"url(#clip092)\" style=\"stroke:#000000; stroke-linecap:round; stroke-linejoin:round; stroke-width:2; stroke-opacity:0.1; fill:none\" points=\"186.274,168.827 2352.76,168.827 \"/>\n",
       "<polyline clip-path=\"url(#clip090)\" style=\"stroke:#000000; stroke-linecap:round; stroke-linejoin:round; stroke-width:4; stroke-opacity:1; fill:none\" points=\"186.274,1486.45 2352.76,1486.45 \"/>\n",
       "<polyline clip-path=\"url(#clip090)\" style=\"stroke:#000000; stroke-linecap:round; stroke-linejoin:round; stroke-width:4; stroke-opacity:1; fill:none\" points=\"247.59,1486.45 247.59,1467.55 \"/>\n",
       "<polyline clip-path=\"url(#clip090)\" style=\"stroke:#000000; stroke-linecap:round; stroke-linejoin:round; stroke-width:4; stroke-opacity:1; fill:none\" points=\"758.552,1486.45 758.552,1467.55 \"/>\n",
       "<polyline clip-path=\"url(#clip090)\" style=\"stroke:#000000; stroke-linecap:round; stroke-linejoin:round; stroke-width:4; stroke-opacity:1; fill:none\" points=\"1269.51,1486.45 1269.51,1467.55 \"/>\n",
       "<polyline clip-path=\"url(#clip090)\" style=\"stroke:#000000; stroke-linecap:round; stroke-linejoin:round; stroke-width:4; stroke-opacity:1; fill:none\" points=\"1780.48,1486.45 1780.48,1467.55 \"/>\n",
       "<polyline clip-path=\"url(#clip090)\" style=\"stroke:#000000; stroke-linecap:round; stroke-linejoin:round; stroke-width:4; stroke-opacity:1; fill:none\" points=\"2291.44,1486.45 2291.44,1467.55 \"/>\n",
       "<path clip-path=\"url(#clip090)\" d=\"M209.893 1517.37 Q206.282 1517.37 204.453 1520.93 Q202.648 1524.47 202.648 1531.6 Q202.648 1538.71 204.453 1542.27 Q206.282 1545.82 209.893 1545.82 Q213.527 1545.82 215.333 1542.27 Q217.161 1538.71 217.161 1531.6 Q217.161 1524.47 215.333 1520.93 Q213.527 1517.37 209.893 1517.37 M209.893 1513.66 Q215.703 1513.66 218.759 1518.27 Q221.837 1522.85 221.837 1531.6 Q221.837 1540.33 218.759 1544.94 Q215.703 1549.52 209.893 1549.52 Q204.083 1549.52 201.004 1544.94 Q197.949 1540.33 197.949 1531.6 Q197.949 1522.85 201.004 1518.27 Q204.083 1513.66 209.893 1513.66 Z\" fill=\"#000000\" fill-rule=\"nonzero\" fill-opacity=\"1\" /><path clip-path=\"url(#clip090)\" d=\"M230.055 1542.97 L234.939 1542.97 L234.939 1548.85 L230.055 1548.85 L230.055 1542.97 Z\" fill=\"#000000\" fill-rule=\"nonzero\" fill-opacity=\"1\" /><path clip-path=\"url(#clip090)\" d=\"M255.124 1517.37 Q251.513 1517.37 249.684 1520.93 Q247.879 1524.47 247.879 1531.6 Q247.879 1538.71 249.684 1542.27 Q251.513 1545.82 255.124 1545.82 Q258.758 1545.82 260.564 1542.27 Q262.393 1538.71 262.393 1531.6 Q262.393 1524.47 260.564 1520.93 Q258.758 1517.37 255.124 1517.37 M255.124 1513.66 Q260.934 1513.66 263.99 1518.27 Q267.069 1522.85 267.069 1531.6 Q267.069 1540.33 263.99 1544.94 Q260.934 1549.52 255.124 1549.52 Q249.314 1549.52 246.235 1544.94 Q243.18 1540.33 243.18 1531.6 Q243.18 1522.85 246.235 1518.27 Q249.314 1513.66 255.124 1513.66 Z\" fill=\"#000000\" fill-rule=\"nonzero\" fill-opacity=\"1\" /><path clip-path=\"url(#clip090)\" d=\"M285.286 1517.37 Q281.675 1517.37 279.846 1520.93 Q278.041 1524.47 278.041 1531.6 Q278.041 1538.71 279.846 1542.27 Q281.675 1545.82 285.286 1545.82 Q288.92 1545.82 290.726 1542.27 Q292.555 1538.71 292.555 1531.6 Q292.555 1524.47 290.726 1520.93 Q288.92 1517.37 285.286 1517.37 M285.286 1513.66 Q291.096 1513.66 294.152 1518.27 Q297.23 1522.85 297.23 1531.6 Q297.23 1540.33 294.152 1544.94 Q291.096 1549.52 285.286 1549.52 Q279.476 1549.52 276.397 1544.94 Q273.342 1540.33 273.342 1531.6 Q273.342 1522.85 276.397 1518.27 Q279.476 1513.66 285.286 1513.66 Z\" fill=\"#000000\" fill-rule=\"nonzero\" fill-opacity=\"1\" /><path clip-path=\"url(#clip090)\" d=\"M721.353 1517.37 Q717.742 1517.37 715.914 1520.93 Q714.108 1524.47 714.108 1531.6 Q714.108 1538.71 715.914 1542.27 Q717.742 1545.82 721.353 1545.82 Q724.988 1545.82 726.793 1542.27 Q728.622 1538.71 728.622 1531.6 Q728.622 1524.47 726.793 1520.93 Q724.988 1517.37 721.353 1517.37 M721.353 1513.66 Q727.164 1513.66 730.219 1518.27 Q733.298 1522.85 733.298 1531.6 Q733.298 1540.33 730.219 1544.94 Q727.164 1549.52 721.353 1549.52 Q715.543 1549.52 712.465 1544.94 Q709.409 1540.33 709.409 1531.6 Q709.409 1522.85 712.465 1518.27 Q715.543 1513.66 721.353 1513.66 Z\" fill=\"#000000\" fill-rule=\"nonzero\" fill-opacity=\"1\" /><path clip-path=\"url(#clip090)\" d=\"M741.515 1542.97 L746.4 1542.97 L746.4 1548.85 L741.515 1548.85 L741.515 1542.97 Z\" fill=\"#000000\" fill-rule=\"nonzero\" fill-opacity=\"1\" /><path clip-path=\"url(#clip090)\" d=\"M760.612 1544.91 L776.932 1544.91 L776.932 1548.85 L754.987 1548.85 L754.987 1544.91 Q757.649 1542.16 762.233 1537.53 Q766.839 1532.88 768.02 1531.53 Q770.265 1529.01 771.145 1527.27 Q772.048 1525.51 772.048 1523.82 Q772.048 1521.07 770.103 1519.33 Q768.182 1517.6 765.08 1517.6 Q762.881 1517.6 760.427 1518.36 Q757.997 1519.13 755.219 1520.68 L755.219 1515.95 Q758.043 1514.82 760.497 1514.24 Q762.95 1513.66 764.987 1513.66 Q770.358 1513.66 773.552 1516.35 Q776.747 1519.03 776.747 1523.52 Q776.747 1525.65 775.936 1527.57 Q775.149 1529.47 773.043 1532.07 Q772.464 1532.74 769.362 1535.95 Q766.261 1539.15 760.612 1544.91 Z\" fill=\"#000000\" fill-rule=\"nonzero\" fill-opacity=\"1\" /><path clip-path=\"url(#clip090)\" d=\"M786.793 1514.29 L805.149 1514.29 L805.149 1518.22 L791.075 1518.22 L791.075 1526.7 Q792.094 1526.35 793.112 1526.19 Q794.131 1526 795.149 1526 Q800.936 1526 804.316 1529.17 Q807.695 1532.34 807.695 1537.76 Q807.695 1543.34 804.223 1546.44 Q800.751 1549.52 794.432 1549.52 Q792.256 1549.52 789.987 1549.15 Q787.742 1548.78 785.335 1548.04 L785.335 1543.34 Q787.418 1544.47 789.64 1545.03 Q791.862 1545.58 794.339 1545.58 Q798.344 1545.58 800.682 1543.48 Q803.02 1541.37 803.02 1537.76 Q803.02 1534.15 800.682 1532.04 Q798.344 1529.94 794.339 1529.94 Q792.464 1529.94 790.589 1530.35 Q788.737 1530.77 786.793 1531.65 L786.793 1514.29 Z\" fill=\"#000000\" fill-rule=\"nonzero\" fill-opacity=\"1\" /><path clip-path=\"url(#clip090)\" d=\"M1231.82 1517.37 Q1228.21 1517.37 1226.38 1520.93 Q1224.57 1524.47 1224.57 1531.6 Q1224.57 1538.71 1226.38 1542.27 Q1228.21 1545.82 1231.82 1545.82 Q1235.45 1545.82 1237.26 1542.27 Q1239.09 1538.71 1239.09 1531.6 Q1239.09 1524.47 1237.26 1520.93 Q1235.45 1517.37 1231.82 1517.37 M1231.82 1513.66 Q1237.63 1513.66 1240.68 1518.27 Q1243.76 1522.85 1243.76 1531.6 Q1243.76 1540.33 1240.68 1544.94 Q1237.63 1549.52 1231.82 1549.52 Q1226.01 1549.52 1222.93 1544.94 Q1219.87 1540.33 1219.87 1531.6 Q1219.87 1522.85 1222.93 1518.27 Q1226.01 1513.66 1231.82 1513.66 Z\" fill=\"#000000\" fill-rule=\"nonzero\" fill-opacity=\"1\" /><path clip-path=\"url(#clip090)\" d=\"M1251.98 1542.97 L1256.86 1542.97 L1256.86 1548.85 L1251.98 1548.85 L1251.98 1542.97 Z\" fill=\"#000000\" fill-rule=\"nonzero\" fill-opacity=\"1\" /><path clip-path=\"url(#clip090)\" d=\"M1267.1 1514.29 L1285.45 1514.29 L1285.45 1518.22 L1271.38 1518.22 L1271.38 1526.7 Q1272.4 1526.35 1273.42 1526.19 Q1274.43 1526 1275.45 1526 Q1281.24 1526 1284.62 1529.17 Q1288 1532.34 1288 1537.76 Q1288 1543.34 1284.53 1546.44 Q1281.05 1549.52 1274.73 1549.52 Q1272.56 1549.52 1270.29 1549.15 Q1268.05 1548.78 1265.64 1548.04 L1265.64 1543.34 Q1267.72 1544.47 1269.94 1545.03 Q1272.17 1545.58 1274.64 1545.58 Q1278.65 1545.58 1280.98 1543.48 Q1283.32 1541.37 1283.32 1537.76 Q1283.32 1534.15 1280.98 1532.04 Q1278.65 1529.94 1274.64 1529.94 Q1272.77 1529.94 1270.89 1530.35 Q1269.04 1530.77 1267.1 1531.65 L1267.1 1514.29 Z\" fill=\"#000000\" fill-rule=\"nonzero\" fill-opacity=\"1\" /><path clip-path=\"url(#clip090)\" d=\"M1307.21 1517.37 Q1303.6 1517.37 1301.77 1520.93 Q1299.97 1524.47 1299.97 1531.6 Q1299.97 1538.71 1301.77 1542.27 Q1303.6 1545.82 1307.21 1545.82 Q1310.85 1545.82 1312.65 1542.27 Q1314.48 1538.71 1314.48 1531.6 Q1314.48 1524.47 1312.65 1520.93 Q1310.85 1517.37 1307.21 1517.37 M1307.21 1513.66 Q1313.02 1513.66 1316.08 1518.27 Q1319.16 1522.85 1319.16 1531.6 Q1319.16 1540.33 1316.08 1544.94 Q1313.02 1549.52 1307.21 1549.52 Q1301.4 1549.52 1298.32 1544.94 Q1295.27 1540.33 1295.27 1531.6 Q1295.27 1522.85 1298.32 1518.27 Q1301.4 1513.66 1307.21 1513.66 Z\" fill=\"#000000\" fill-rule=\"nonzero\" fill-opacity=\"1\" /><path clip-path=\"url(#clip090)\" d=\"M1743.28 1517.37 Q1739.67 1517.37 1737.84 1520.93 Q1736.03 1524.47 1736.03 1531.6 Q1736.03 1538.71 1737.84 1542.27 Q1739.67 1545.82 1743.28 1545.82 Q1746.91 1545.82 1748.72 1542.27 Q1750.55 1538.71 1750.55 1531.6 Q1750.55 1524.47 1748.72 1520.93 Q1746.91 1517.37 1743.28 1517.37 M1743.28 1513.66 Q1749.09 1513.66 1752.14 1518.27 Q1755.22 1522.85 1755.22 1531.6 Q1755.22 1540.33 1752.14 1544.94 Q1749.09 1549.52 1743.28 1549.52 Q1737.47 1549.52 1734.39 1544.94 Q1731.33 1540.33 1731.33 1531.6 Q1731.33 1522.85 1734.39 1518.27 Q1737.47 1513.66 1743.28 1513.66 Z\" fill=\"#000000\" fill-rule=\"nonzero\" fill-opacity=\"1\" /><path clip-path=\"url(#clip090)\" d=\"M1763.44 1542.97 L1768.32 1542.97 L1768.32 1548.85 L1763.44 1548.85 L1763.44 1542.97 Z\" fill=\"#000000\" fill-rule=\"nonzero\" fill-opacity=\"1\" /><path clip-path=\"url(#clip090)\" d=\"M1777.33 1514.29 L1799.55 1514.29 L1799.55 1516.28 L1787.01 1548.85 L1782.12 1548.85 L1793.93 1518.22 L1777.33 1518.22 L1777.33 1514.29 Z\" fill=\"#000000\" fill-rule=\"nonzero\" fill-opacity=\"1\" /><path clip-path=\"url(#clip090)\" d=\"M1808.72 1514.29 L1827.07 1514.29 L1827.07 1518.22 L1813 1518.22 L1813 1526.7 Q1814.02 1526.35 1815.04 1526.19 Q1816.06 1526 1817.07 1526 Q1822.86 1526 1826.24 1529.17 Q1829.62 1532.34 1829.62 1537.76 Q1829.62 1543.34 1826.15 1546.44 Q1822.68 1549.52 1816.36 1549.52 Q1814.18 1549.52 1811.91 1549.15 Q1809.67 1548.78 1807.26 1548.04 L1807.26 1543.34 Q1809.34 1544.47 1811.57 1545.03 Q1813.79 1545.58 1816.26 1545.58 Q1820.27 1545.58 1822.61 1543.48 Q1824.95 1541.37 1824.95 1537.76 Q1824.95 1534.15 1822.61 1532.04 Q1820.27 1529.94 1816.26 1529.94 Q1814.39 1529.94 1812.51 1530.35 Q1810.66 1530.77 1808.72 1531.65 L1808.72 1514.29 Z\" fill=\"#000000\" fill-rule=\"nonzero\" fill-opacity=\"1\" /><path clip-path=\"url(#clip090)\" d=\"M2243.51 1544.91 L2251.15 1544.91 L2251.15 1518.55 L2242.84 1520.21 L2242.84 1515.95 L2251.1 1514.29 L2255.78 1514.29 L2255.78 1544.91 L2263.42 1544.91 L2263.42 1548.85 L2243.51 1548.85 L2243.51 1544.91 Z\" fill=\"#000000\" fill-rule=\"nonzero\" fill-opacity=\"1\" /><path clip-path=\"url(#clip090)\" d=\"M2272.86 1542.97 L2277.75 1542.97 L2277.75 1548.85 L2272.86 1548.85 L2272.86 1542.97 Z\" fill=\"#000000\" fill-rule=\"nonzero\" fill-opacity=\"1\" /><path clip-path=\"url(#clip090)\" d=\"M2297.93 1517.37 Q2294.32 1517.37 2292.49 1520.93 Q2290.69 1524.47 2290.69 1531.6 Q2290.69 1538.71 2292.49 1542.27 Q2294.32 1545.82 2297.93 1545.82 Q2301.57 1545.82 2303.37 1542.27 Q2305.2 1538.71 2305.2 1531.6 Q2305.2 1524.47 2303.37 1520.93 Q2301.57 1517.37 2297.93 1517.37 M2297.93 1513.66 Q2303.74 1513.66 2306.8 1518.27 Q2309.88 1522.85 2309.88 1531.6 Q2309.88 1540.33 2306.8 1544.94 Q2303.74 1549.52 2297.93 1549.52 Q2292.12 1549.52 2289.04 1544.94 Q2285.99 1540.33 2285.99 1531.6 Q2285.99 1522.85 2289.04 1518.27 Q2292.12 1513.66 2297.93 1513.66 Z\" fill=\"#000000\" fill-rule=\"nonzero\" fill-opacity=\"1\" /><path clip-path=\"url(#clip090)\" d=\"M2328.1 1517.37 Q2324.48 1517.37 2322.66 1520.93 Q2320.85 1524.47 2320.85 1531.6 Q2320.85 1538.71 2322.66 1542.27 Q2324.48 1545.82 2328.1 1545.82 Q2331.73 1545.82 2333.54 1542.27 Q2335.36 1538.71 2335.36 1531.6 Q2335.36 1524.47 2333.54 1520.93 Q2331.73 1517.37 2328.1 1517.37 M2328.1 1513.66 Q2333.91 1513.66 2336.96 1518.27 Q2340.04 1522.85 2340.04 1531.6 Q2340.04 1540.33 2336.96 1544.94 Q2333.91 1549.52 2328.1 1549.52 Q2322.29 1549.52 2319.21 1544.94 Q2316.15 1540.33 2316.15 1531.6 Q2316.15 1522.85 2319.21 1518.27 Q2322.29 1513.66 2328.1 1513.66 Z\" fill=\"#000000\" fill-rule=\"nonzero\" fill-opacity=\"1\" /><polyline clip-path=\"url(#clip090)\" style=\"stroke:#000000; stroke-linecap:round; stroke-linejoin:round; stroke-width:4; stroke-opacity:1; fill:none\" points=\"186.274,1486.45 186.274,123.472 \"/>\n",
       "<polyline clip-path=\"url(#clip090)\" style=\"stroke:#000000; stroke-linecap:round; stroke-linejoin:round; stroke-width:4; stroke-opacity:1; fill:none\" points=\"186.274,1447.87 205.172,1447.87 \"/>\n",
       "<polyline clip-path=\"url(#clip090)\" style=\"stroke:#000000; stroke-linecap:round; stroke-linejoin:round; stroke-width:4; stroke-opacity:1; fill:none\" points=\"186.274,1128.11 205.172,1128.11 \"/>\n",
       "<polyline clip-path=\"url(#clip090)\" style=\"stroke:#000000; stroke-linecap:round; stroke-linejoin:round; stroke-width:4; stroke-opacity:1; fill:none\" points=\"186.274,808.35 205.172,808.35 \"/>\n",
       "<polyline clip-path=\"url(#clip090)\" style=\"stroke:#000000; stroke-linecap:round; stroke-linejoin:round; stroke-width:4; stroke-opacity:1; fill:none\" points=\"186.274,488.588 205.172,488.588 \"/>\n",
       "<polyline clip-path=\"url(#clip090)\" style=\"stroke:#000000; stroke-linecap:round; stroke-linejoin:round; stroke-width:4; stroke-opacity:1; fill:none\" points=\"186.274,168.827 205.172,168.827 \"/>\n",
       "<path clip-path=\"url(#clip090)\" d=\"M62.9365 1433.67 Q59.3254 1433.67 57.4967 1437.24 Q55.6912 1440.78 55.6912 1447.91 Q55.6912 1455.01 57.4967 1458.58 Q59.3254 1462.12 62.9365 1462.12 Q66.5707 1462.12 68.3763 1458.58 Q70.205 1455.01 70.205 1447.91 Q70.205 1440.78 68.3763 1437.24 Q66.5707 1433.67 62.9365 1433.67 M62.9365 1429.97 Q68.7467 1429.97 71.8022 1434.57 Q74.8809 1439.16 74.8809 1447.91 Q74.8809 1456.63 71.8022 1461.24 Q68.7467 1465.82 62.9365 1465.82 Q57.1264 1465.82 54.0477 1461.24 Q50.9921 1456.63 50.9921 1447.91 Q50.9921 1439.16 54.0477 1434.57 Q57.1264 1429.97 62.9365 1429.97 Z\" fill=\"#000000\" fill-rule=\"nonzero\" fill-opacity=\"1\" /><path clip-path=\"url(#clip090)\" d=\"M83.0984 1459.27 L87.9827 1459.27 L87.9827 1465.15 L83.0984 1465.15 L83.0984 1459.27 Z\" fill=\"#000000\" fill-rule=\"nonzero\" fill-opacity=\"1\" /><path clip-path=\"url(#clip090)\" d=\"M108.168 1433.67 Q104.557 1433.67 102.728 1437.24 Q100.922 1440.78 100.922 1447.91 Q100.922 1455.01 102.728 1458.58 Q104.557 1462.12 108.168 1462.12 Q111.802 1462.12 113.608 1458.58 Q115.436 1455.01 115.436 1447.91 Q115.436 1440.78 113.608 1437.24 Q111.802 1433.67 108.168 1433.67 M108.168 1429.97 Q113.978 1429.97 117.033 1434.57 Q120.112 1439.16 120.112 1447.91 Q120.112 1456.63 117.033 1461.24 Q113.978 1465.82 108.168 1465.82 Q102.358 1465.82 99.2789 1461.24 Q96.2234 1456.63 96.2234 1447.91 Q96.2234 1439.16 99.2789 1434.57 Q102.358 1429.97 108.168 1429.97 Z\" fill=\"#000000\" fill-rule=\"nonzero\" fill-opacity=\"1\" /><path clip-path=\"url(#clip090)\" d=\"M138.33 1433.67 Q134.719 1433.67 132.89 1437.24 Q131.084 1440.78 131.084 1447.91 Q131.084 1455.01 132.89 1458.58 Q134.719 1462.12 138.33 1462.12 Q141.964 1462.12 143.769 1458.58 Q145.598 1455.01 145.598 1447.91 Q145.598 1440.78 143.769 1437.24 Q141.964 1433.67 138.33 1433.67 M138.33 1429.97 Q144.14 1429.97 147.195 1434.57 Q150.274 1439.16 150.274 1447.91 Q150.274 1456.63 147.195 1461.24 Q144.14 1465.82 138.33 1465.82 Q132.519 1465.82 129.441 1461.24 Q126.385 1456.63 126.385 1447.91 Q126.385 1439.16 129.441 1434.57 Q132.519 1429.97 138.33 1429.97 Z\" fill=\"#000000\" fill-rule=\"nonzero\" fill-opacity=\"1\" /><path clip-path=\"url(#clip090)\" d=\"M63.9319 1113.91 Q60.3208 1113.91 58.4921 1117.47 Q56.6865 1121.02 56.6865 1128.15 Q56.6865 1135.25 58.4921 1138.82 Q60.3208 1142.36 63.9319 1142.36 Q67.5661 1142.36 69.3717 1138.82 Q71.2004 1135.25 71.2004 1128.15 Q71.2004 1121.02 69.3717 1117.47 Q67.5661 1113.91 63.9319 1113.91 M63.9319 1110.21 Q69.742 1110.21 72.7976 1114.81 Q75.8763 1119.4 75.8763 1128.15 Q75.8763 1136.87 72.7976 1141.48 Q69.742 1146.06 63.9319 1146.06 Q58.1217 1146.06 55.043 1141.48 Q51.9875 1136.87 51.9875 1128.15 Q51.9875 1119.4 55.043 1114.81 Q58.1217 1110.21 63.9319 1110.21 Z\" fill=\"#000000\" fill-rule=\"nonzero\" fill-opacity=\"1\" /><path clip-path=\"url(#clip090)\" d=\"M84.0938 1139.51 L88.978 1139.51 L88.978 1145.39 L84.0938 1145.39 L84.0938 1139.51 Z\" fill=\"#000000\" fill-rule=\"nonzero\" fill-opacity=\"1\" /><path clip-path=\"url(#clip090)\" d=\"M103.191 1141.46 L119.51 1141.46 L119.51 1145.39 L97.566 1145.39 L97.566 1141.46 Q100.228 1138.7 104.811 1134.07 Q109.418 1129.42 110.598 1128.08 Q112.844 1125.55 113.723 1123.82 Q114.626 1122.06 114.626 1120.37 Q114.626 1117.61 112.682 1115.88 Q110.76 1114.14 107.658 1114.14 Q105.459 1114.14 103.006 1114.91 Q100.575 1115.67 97.7974 1117.22 L97.7974 1112.5 Q100.621 1111.36 103.075 1110.79 Q105.529 1110.21 107.566 1110.21 Q112.936 1110.21 116.131 1112.89 Q119.325 1115.58 119.325 1120.07 Q119.325 1122.2 118.515 1124.12 Q117.728 1126.02 115.621 1128.61 Q115.043 1129.28 111.941 1132.5 Q108.839 1135.69 103.191 1141.46 Z\" fill=\"#000000\" fill-rule=\"nonzero\" fill-opacity=\"1\" /><path clip-path=\"url(#clip090)\" d=\"M129.371 1110.83 L147.728 1110.83 L147.728 1114.77 L133.654 1114.77 L133.654 1123.24 Q134.672 1122.89 135.691 1122.73 Q136.709 1122.54 137.728 1122.54 Q143.515 1122.54 146.894 1125.72 Q150.274 1128.89 150.274 1134.3 Q150.274 1139.88 146.802 1142.98 Q143.33 1146.06 137.01 1146.06 Q134.834 1146.06 132.566 1145.69 Q130.32 1145.32 127.913 1144.58 L127.913 1139.88 Q129.996 1141.02 132.219 1141.57 Q134.441 1142.13 136.918 1142.13 Q140.922 1142.13 143.26 1140.02 Q145.598 1137.91 145.598 1134.3 Q145.598 1130.69 143.26 1128.59 Q140.922 1126.48 136.918 1126.48 Q135.043 1126.48 133.168 1126.9 Q131.316 1127.31 129.371 1128.19 L129.371 1110.83 Z\" fill=\"#000000\" fill-rule=\"nonzero\" fill-opacity=\"1\" /><path clip-path=\"url(#clip090)\" d=\"M62.9365 794.148 Q59.3254 794.148 57.4967 797.713 Q55.6912 801.255 55.6912 808.385 Q55.6912 815.491 57.4967 819.056 Q59.3254 822.597 62.9365 822.597 Q66.5707 822.597 68.3763 819.056 Q70.205 815.491 70.205 808.385 Q70.205 801.255 68.3763 797.713 Q66.5707 794.148 62.9365 794.148 M62.9365 790.445 Q68.7467 790.445 71.8022 795.051 Q74.8809 799.635 74.8809 808.385 Q74.8809 817.111 71.8022 821.718 Q68.7467 826.301 62.9365 826.301 Q57.1264 826.301 54.0477 821.718 Q50.9921 817.111 50.9921 808.385 Q50.9921 799.635 54.0477 795.051 Q57.1264 790.445 62.9365 790.445 Z\" fill=\"#000000\" fill-rule=\"nonzero\" fill-opacity=\"1\" /><path clip-path=\"url(#clip090)\" d=\"M83.0984 819.75 L87.9827 819.75 L87.9827 825.63 L83.0984 825.63 L83.0984 819.75 Z\" fill=\"#000000\" fill-rule=\"nonzero\" fill-opacity=\"1\" /><path clip-path=\"url(#clip090)\" d=\"M98.2141 791.07 L116.57 791.07 L116.57 795.005 L102.496 795.005 L102.496 803.477 Q103.515 803.13 104.534 802.968 Q105.552 802.783 106.571 802.783 Q112.358 802.783 115.737 805.954 Q119.117 809.125 119.117 814.542 Q119.117 820.121 115.645 823.222 Q112.172 826.301 105.853 826.301 Q103.677 826.301 101.409 825.931 Q99.1632 825.56 96.7558 824.82 L96.7558 820.121 Q98.8391 821.255 101.061 821.81 Q103.284 822.366 105.76 822.366 Q109.765 822.366 112.103 820.259 Q114.441 818.153 114.441 814.542 Q114.441 810.931 112.103 808.824 Q109.765 806.718 105.76 806.718 Q103.885 806.718 102.01 807.135 Q100.159 807.551 98.2141 808.431 L98.2141 791.07 Z\" fill=\"#000000\" fill-rule=\"nonzero\" fill-opacity=\"1\" /><path clip-path=\"url(#clip090)\" d=\"M138.33 794.148 Q134.719 794.148 132.89 797.713 Q131.084 801.255 131.084 808.385 Q131.084 815.491 132.89 819.056 Q134.719 822.597 138.33 822.597 Q141.964 822.597 143.769 819.056 Q145.598 815.491 145.598 808.385 Q145.598 801.255 143.769 797.713 Q141.964 794.148 138.33 794.148 M138.33 790.445 Q144.14 790.445 147.195 795.051 Q150.274 799.635 150.274 808.385 Q150.274 817.111 147.195 821.718 Q144.14 826.301 138.33 826.301 Q132.519 826.301 129.441 821.718 Q126.385 817.111 126.385 808.385 Q126.385 799.635 129.441 795.051 Q132.519 790.445 138.33 790.445 Z\" fill=\"#000000\" fill-rule=\"nonzero\" fill-opacity=\"1\" /><path clip-path=\"url(#clip090)\" d=\"M63.9319 474.387 Q60.3208 474.387 58.4921 477.952 Q56.6865 481.493 56.6865 488.623 Q56.6865 495.729 58.4921 499.294 Q60.3208 502.836 63.9319 502.836 Q67.5661 502.836 69.3717 499.294 Q71.2004 495.729 71.2004 488.623 Q71.2004 481.493 69.3717 477.952 Q67.5661 474.387 63.9319 474.387 M63.9319 470.683 Q69.742 470.683 72.7976 475.29 Q75.8763 479.873 75.8763 488.623 Q75.8763 497.35 72.7976 501.956 Q69.742 506.539 63.9319 506.539 Q58.1217 506.539 55.043 501.956 Q51.9875 497.35 51.9875 488.623 Q51.9875 479.873 55.043 475.29 Q58.1217 470.683 63.9319 470.683 Z\" fill=\"#000000\" fill-rule=\"nonzero\" fill-opacity=\"1\" /><path clip-path=\"url(#clip090)\" d=\"M84.0938 499.989 L88.978 499.989 L88.978 505.868 L84.0938 505.868 L84.0938 499.989 Z\" fill=\"#000000\" fill-rule=\"nonzero\" fill-opacity=\"1\" /><path clip-path=\"url(#clip090)\" d=\"M97.9826 471.308 L120.205 471.308 L120.205 473.299 L107.658 505.868 L102.774 505.868 L114.58 475.243 L97.9826 475.243 L97.9826 471.308 Z\" fill=\"#000000\" fill-rule=\"nonzero\" fill-opacity=\"1\" /><path clip-path=\"url(#clip090)\" d=\"M129.371 471.308 L147.728 471.308 L147.728 475.243 L133.654 475.243 L133.654 483.716 Q134.672 483.368 135.691 483.206 Q136.709 483.021 137.728 483.021 Q143.515 483.021 146.894 486.192 Q150.274 489.364 150.274 494.78 Q150.274 500.359 146.802 503.461 Q143.33 506.539 137.01 506.539 Q134.834 506.539 132.566 506.169 Q130.32 505.799 127.913 505.058 L127.913 500.359 Q129.996 501.493 132.219 502.049 Q134.441 502.604 136.918 502.604 Q140.922 502.604 143.26 500.498 Q145.598 498.391 145.598 494.78 Q145.598 491.169 143.26 489.063 Q140.922 486.956 136.918 486.956 Q135.043 486.956 133.168 487.373 Q131.316 487.79 129.371 488.669 L129.371 471.308 Z\" fill=\"#000000\" fill-rule=\"nonzero\" fill-opacity=\"1\" /><path clip-path=\"url(#clip090)\" d=\"M53.7467 182.171 L61.3856 182.171 L61.3856 155.806 L53.0754 157.472 L53.0754 153.213 L61.3393 151.547 L66.0152 151.547 L66.0152 182.171 L73.654 182.171 L73.654 186.107 L53.7467 186.107 L53.7467 182.171 Z\" fill=\"#000000\" fill-rule=\"nonzero\" fill-opacity=\"1\" /><path clip-path=\"url(#clip090)\" d=\"M83.0984 180.227 L87.9827 180.227 L87.9827 186.107 L83.0984 186.107 L83.0984 180.227 Z\" fill=\"#000000\" fill-rule=\"nonzero\" fill-opacity=\"1\" /><path clip-path=\"url(#clip090)\" d=\"M108.168 154.625 Q104.557 154.625 102.728 158.19 Q100.922 161.732 100.922 168.861 Q100.922 175.968 102.728 179.532 Q104.557 183.074 108.168 183.074 Q111.802 183.074 113.608 179.532 Q115.436 175.968 115.436 168.861 Q115.436 161.732 113.608 158.19 Q111.802 154.625 108.168 154.625 M108.168 150.922 Q113.978 150.922 117.033 155.528 Q120.112 160.111 120.112 168.861 Q120.112 177.588 117.033 182.195 Q113.978 186.778 108.168 186.778 Q102.358 186.778 99.2789 182.195 Q96.2234 177.588 96.2234 168.861 Q96.2234 160.111 99.2789 155.528 Q102.358 150.922 108.168 150.922 Z\" fill=\"#000000\" fill-rule=\"nonzero\" fill-opacity=\"1\" /><path clip-path=\"url(#clip090)\" d=\"M138.33 154.625 Q134.719 154.625 132.89 158.19 Q131.084 161.732 131.084 168.861 Q131.084 175.968 132.89 179.532 Q134.719 183.074 138.33 183.074 Q141.964 183.074 143.769 179.532 Q145.598 175.968 145.598 168.861 Q145.598 161.732 143.769 158.19 Q141.964 154.625 138.33 154.625 M138.33 150.922 Q144.14 150.922 147.195 155.528 Q150.274 160.111 150.274 168.861 Q150.274 177.588 147.195 182.195 Q144.14 186.778 138.33 186.778 Q132.519 186.778 129.441 182.195 Q126.385 177.588 126.385 168.861 Q126.385 160.111 129.441 155.528 Q132.519 150.922 138.33 150.922 Z\" fill=\"#000000\" fill-rule=\"nonzero\" fill-opacity=\"1\" /><path clip-path=\"url(#clip090)\" d=\"M340.116 16.7545 L340.116 25.383 Q335.984 21.5346 331.285 19.6307 Q326.626 17.7268 321.36 17.7268 Q310.99 17.7268 305.481 24.0867 Q299.972 30.4061 299.972 42.3968 Q299.972 54.3469 305.481 60.7069 Q310.99 67.0263 321.36 67.0263 Q326.626 67.0263 331.285 65.1223 Q335.984 63.2184 340.116 59.3701 L340.116 67.9175 Q335.822 70.8341 331.001 72.2924 Q326.221 73.7508 320.874 73.7508 Q307.142 73.7508 299.242 65.3654 Q291.343 56.9395 291.343 42.3968 Q291.343 27.8135 299.242 19.4281 Q307.142 11.0023 320.874 11.0023 Q326.302 11.0023 331.082 12.4606 Q335.903 13.8784 340.116 16.7545 Z\" fill=\"#000000\" fill-rule=\"nonzero\" fill-opacity=\"1\" /><path clip-path=\"url(#clip090)\" d=\"M370.012 32.4315 Q364.016 32.4315 360.533 37.1306 Q357.049 41.7891 357.049 49.9314 Q357.049 58.0738 360.492 62.7728 Q363.976 67.4314 370.012 67.4314 Q375.967 67.4314 379.45 62.7323 Q382.934 58.0333 382.934 49.9314 Q382.934 41.8701 379.45 37.1711 Q375.967 32.4315 370.012 32.4315 M370.012 26.1121 Q379.734 26.1121 385.284 32.4315 Q390.833 38.7509 390.833 49.9314 Q390.833 61.0714 385.284 67.4314 Q379.734 73.7508 370.012 73.7508 Q360.249 73.7508 354.699 67.4314 Q349.19 61.0714 349.19 49.9314 Q349.19 38.7509 354.699 32.4315 Q360.249 26.1121 370.012 26.1121 Z\" fill=\"#000000\" fill-rule=\"nonzero\" fill-opacity=\"1\" /><path clip-path=\"url(#clip090)\" d=\"M438.512 35.9153 Q441.308 30.8922 445.196 28.5022 Q449.085 26.1121 454.351 26.1121 Q461.441 26.1121 465.289 31.0947 Q469.137 36.0368 469.137 45.1919 L469.137 72.576 L461.643 72.576 L461.643 45.4349 Q461.643 38.913 459.334 35.7533 Q457.025 32.5936 452.286 32.5936 Q446.493 32.5936 443.13 36.4419 Q439.768 40.2903 439.768 46.9338 L439.768 72.576 L432.274 72.576 L432.274 45.4349 Q432.274 38.8725 429.965 35.7533 Q427.656 32.5936 422.835 32.5936 Q417.124 32.5936 413.761 36.4824 Q410.399 40.3308 410.399 46.9338 L410.399 72.576 L402.905 72.576 L402.905 27.2059 L410.399 27.2059 L410.399 34.2544 Q412.951 30.082 416.516 28.0971 Q420.081 26.1121 424.982 26.1121 Q429.925 26.1121 433.368 28.6237 Q436.852 31.1352 438.512 35.9153 Z\" fill=\"#000000\" fill-rule=\"nonzero\" fill-opacity=\"1\" /><path clip-path=\"url(#clip090)\" d=\"M491.215 65.7705 L491.215 89.8329 L483.721 89.8329 L483.721 27.2059 L491.215 27.2059 L491.215 34.0924 Q493.564 30.0415 497.129 28.0971 Q500.734 26.1121 505.717 26.1121 Q513.981 26.1121 519.125 32.6746 Q524.311 39.2371 524.311 49.9314 Q524.311 60.6258 519.125 67.1883 Q513.981 73.7508 505.717 73.7508 Q500.734 73.7508 497.129 71.8063 Q493.564 69.8214 491.215 65.7705 M516.573 49.9314 Q516.573 41.7081 513.171 37.0496 Q509.808 32.3505 503.894 32.3505 Q497.98 32.3505 494.577 37.0496 Q491.215 41.7081 491.215 49.9314 Q491.215 58.1548 494.577 62.8538 Q497.98 67.5124 503.894 67.5124 Q509.808 67.5124 513.171 62.8538 Q516.573 58.1548 516.573 49.9314 Z\" fill=\"#000000\" fill-rule=\"nonzero\" fill-opacity=\"1\" /><path clip-path=\"url(#clip090)\" d=\"M557.285 49.7694 Q548.251 49.7694 544.768 51.8354 Q541.284 53.9013 541.284 58.8839 Q541.284 62.8538 543.876 65.2034 Q546.51 67.5124 551.006 67.5124 Q557.204 67.5124 560.931 63.1374 Q564.698 58.7219 564.698 51.4303 L564.698 49.7694 L557.285 49.7694 M572.152 46.6907 L572.152 72.576 L564.698 72.576 L564.698 65.6895 Q562.146 69.8214 558.338 71.8063 Q554.53 73.7508 549.021 73.7508 Q542.054 73.7508 537.922 69.8619 Q533.83 65.9325 533.83 59.3701 Q533.83 51.7138 538.934 47.825 Q544.079 43.9361 554.247 43.9361 L564.698 43.9361 L564.698 43.2069 Q564.698 38.0623 561.295 35.2672 Q557.933 32.4315 551.816 32.4315 Q547.927 32.4315 544.241 33.3632 Q540.555 34.295 537.152 36.1584 L537.152 29.2718 Q541.243 27.692 545.092 26.9223 Q548.94 26.1121 552.586 26.1121 Q562.43 26.1121 567.291 31.2163 Q572.152 36.3204 572.152 46.6907 Z\" fill=\"#000000\" fill-rule=\"nonzero\" fill-opacity=\"1\" /><path clip-path=\"url(#clip090)\" d=\"M613.795 34.1734 Q612.539 33.4443 611.04 33.1202 Q609.582 32.7556 607.8 32.7556 Q601.48 32.7556 598.078 36.8875 Q594.715 40.9789 594.715 48.6757 L594.715 72.576 L587.221 72.576 L587.221 27.2059 L594.715 27.2059 L594.715 34.2544 Q597.065 30.1225 600.832 28.1376 Q604.6 26.1121 609.987 26.1121 Q610.757 26.1121 611.689 26.2337 Q612.62 26.3147 613.755 26.5172 L613.795 34.1734 Z\" fill=\"#000000\" fill-rule=\"nonzero\" fill-opacity=\"1\" /><path clip-path=\"url(#clip090)\" d=\"M642.232 49.7694 Q633.199 49.7694 629.715 51.8354 Q626.231 53.9013 626.231 58.8839 Q626.231 62.8538 628.824 65.2034 Q631.457 67.5124 635.954 67.5124 Q642.151 67.5124 645.878 63.1374 Q649.646 58.7219 649.646 51.4303 L649.646 49.7694 L642.232 49.7694 M657.099 46.6907 L657.099 72.576 L649.646 72.576 L649.646 65.6895 Q647.094 69.8214 643.286 71.8063 Q639.478 73.7508 633.969 73.7508 Q627.001 73.7508 622.869 69.8619 Q618.778 65.9325 618.778 59.3701 Q618.778 51.7138 623.882 47.825 Q629.026 43.9361 639.194 43.9361 L649.646 43.9361 L649.646 43.2069 Q649.646 38.0623 646.243 35.2672 Q642.881 32.4315 636.764 32.4315 Q632.875 32.4315 629.189 33.3632 Q625.502 34.295 622.099 36.1584 L622.099 29.2718 Q626.191 27.692 630.039 26.9223 Q633.888 26.1121 637.533 26.1121 Q647.377 26.1121 652.238 31.2163 Q657.099 36.3204 657.099 46.6907 Z\" fill=\"#000000\" fill-rule=\"nonzero\" fill-opacity=\"1\" /><path clip-path=\"url(#clip090)\" d=\"M705.102 28.9478 L705.102 35.9153 Q701.943 34.1734 698.743 33.3227 Q695.583 32.4315 692.342 32.4315 Q685.091 32.4315 681.081 37.0496 Q677.07 41.6271 677.07 49.9314 Q677.07 58.2358 681.081 62.8538 Q685.091 67.4314 692.342 67.4314 Q695.583 67.4314 698.743 66.5807 Q701.943 65.6895 705.102 63.9476 L705.102 70.8341 Q701.983 72.2924 698.621 73.0216 Q695.299 73.7508 691.532 73.7508 Q681.283 73.7508 675.247 67.3098 Q669.211 60.8689 669.211 49.9314 Q669.211 38.832 675.288 32.472 Q681.405 26.1121 692.018 26.1121 Q695.461 26.1121 698.743 26.8413 Q702.024 27.5299 705.102 28.9478 M694.57 72.576 Q696.798 75.0876 697.892 77.194 Q698.986 79.341 698.986 81.2854 Q698.986 84.8907 696.555 86.7137 Q694.125 88.5771 689.344 88.5771 Q687.481 88.5771 685.699 88.334 Q683.957 88.091 682.215 87.6049 L682.215 82.2982 Q683.592 82.9868 685.091 83.2704 Q686.59 83.5945 688.494 83.5945 Q690.884 83.5945 692.099 82.6222 Q693.314 81.65 693.314 79.7866 Q693.314 78.5713 692.423 76.7889 Q691.572 75.0471 689.75 72.576 L694.57 72.576 Z\" fill=\"#000000\" fill-rule=\"nonzero\" fill-opacity=\"1\" /><path clip-path=\"url(#clip090)\" d=\"M738.684 49.7694 Q729.651 49.7694 726.167 51.8354 Q722.683 53.9013 722.683 58.8839 Q722.683 62.8538 725.276 65.2034 Q727.909 67.5124 732.406 67.5124 Q738.603 67.5124 742.33 63.1374 Q746.098 58.7219 746.098 51.4303 L746.098 49.7694 L738.684 49.7694 M753.551 46.6907 L753.551 72.576 L746.098 72.576 L746.098 65.6895 Q743.546 69.8214 739.738 71.8063 Q735.93 73.7508 730.421 73.7508 Q723.453 73.7508 719.321 69.8619 Q715.23 65.9325 715.23 59.3701 Q715.23 51.7138 720.334 47.825 Q725.479 43.9361 735.646 43.9361 L746.098 43.9361 L746.098 43.2069 Q746.098 38.0623 742.695 35.2672 Q739.333 32.4315 733.216 32.4315 Q729.327 32.4315 725.641 33.3632 Q721.954 34.295 718.551 36.1584 L718.551 29.2718 Q722.643 27.692 726.491 26.9223 Q730.34 26.1121 733.985 26.1121 Q743.829 26.1121 748.69 31.2163 Q753.551 36.3204 753.551 46.6907 M734.147 17.0786 L731.838 14.8506 Q730.947 14.0404 730.259 13.6759 Q729.61 13.2708 729.084 13.2708 Q727.544 13.2708 726.815 14.7696 Q726.086 16.2279 726.005 19.5497 L720.942 19.5497 Q721.023 14.0809 723.088 11.1238 Q725.154 8.12611 728.841 8.12611 Q730.38 8.12611 731.676 8.69324 Q732.973 9.26037 734.472 10.5972 L736.781 12.8252 Q737.672 13.6353 738.32 14.0404 Q739.009 14.405 739.535 14.405 Q741.074 14.405 741.804 12.9467 Q742.533 11.4479 742.614 8.12611 L747.677 8.12611 Q747.596 13.5948 745.53 16.5925 Q743.465 19.5497 739.778 19.5497 Q738.239 19.5497 736.943 18.9825 Q735.646 18.4154 734.147 17.0786 Z\" fill=\"#000000\" fill-rule=\"nonzero\" fill-opacity=\"1\" /><path clip-path=\"url(#clip090)\" d=\"M786.485 32.4315 Q780.49 32.4315 777.006 37.1306 Q773.522 41.7891 773.522 49.9314 Q773.522 58.0738 776.966 62.7728 Q780.449 67.4314 786.485 67.4314 Q792.44 67.4314 795.924 62.7323 Q799.408 58.0333 799.408 49.9314 Q799.408 41.8701 795.924 37.1711 Q792.44 32.4315 786.485 32.4315 M786.485 26.1121 Q796.207 26.1121 801.757 32.4315 Q807.307 38.7509 807.307 49.9314 Q807.307 61.0714 801.757 67.4314 Q796.207 73.7508 786.485 73.7508 Q776.722 73.7508 771.173 67.4314 Q765.663 61.0714 765.663 49.9314 Q765.663 38.7509 771.173 32.4315 Q776.722 26.1121 786.485 26.1121 Z\" fill=\"#000000\" fill-rule=\"nonzero\" fill-opacity=\"1\" /><path clip-path=\"url(#clip090)\" d=\"M884.841 48.0275 L884.841 51.6733 L850.57 51.6733 Q851.057 59.3701 855.188 63.421 Q859.361 67.4314 866.774 67.4314 Q871.068 67.4314 875.078 66.3781 Q879.129 65.3249 883.099 63.2184 L883.099 70.267 Q879.089 71.9684 874.876 72.8596 Q870.663 73.7508 866.328 73.7508 Q855.472 73.7508 849.112 67.4314 Q842.793 61.1119 842.793 50.3365 Q842.793 39.1965 848.788 32.6746 Q854.824 26.1121 865.032 26.1121 Q874.187 26.1121 879.494 32.0264 Q884.841 37.9003 884.841 48.0275 M877.387 45.84 Q877.306 39.7232 873.944 36.0774 Q870.622 32.4315 865.113 32.4315 Q858.875 32.4315 855.107 35.9558 Q851.381 39.4801 850.813 45.8805 L877.387 45.84 Z\" fill=\"#000000\" fill-rule=\"nonzero\" fill-opacity=\"1\" /><path clip-path=\"url(#clip090)\" d=\"M934.789 45.1919 L934.789 72.576 L927.335 72.576 L927.335 45.4349 Q927.335 38.994 924.824 35.7938 Q922.312 32.5936 917.289 32.5936 Q911.253 32.5936 907.769 36.4419 Q904.285 40.2903 904.285 46.9338 L904.285 72.576 L896.791 72.576 L896.791 27.2059 L904.285 27.2059 L904.285 34.2544 Q906.959 30.163 910.564 28.1376 Q914.21 26.1121 918.95 26.1121 Q926.768 26.1121 930.778 30.9732 Q934.789 35.7938 934.789 45.1919 Z\" fill=\"#000000\" fill-rule=\"nonzero\" fill-opacity=\"1\" /><path clip-path=\"url(#clip090)\" d=\"M957.028 14.324 L957.028 27.2059 L972.381 27.2059 L972.381 32.9987 L957.028 32.9987 L957.028 57.6282 Q957.028 63.1779 958.527 64.7578 Q960.066 66.3376 964.725 66.3376 L972.381 66.3376 L972.381 72.576 L964.725 72.576 Q956.096 72.576 952.815 69.3758 Q949.534 66.1351 949.534 57.6282 L949.534 32.9987 L944.065 32.9987 L944.065 27.2059 L949.534 27.2059 L949.534 14.324 L957.028 14.324 Z\" fill=\"#000000\" fill-rule=\"nonzero\" fill-opacity=\"1\" /><path clip-path=\"url(#clip090)\" d=\"M1008.47 34.1734 Q1007.22 33.4443 1005.72 33.1202 Q1004.26 32.7556 1002.48 32.7556 Q996.16 32.7556 992.757 36.8875 Q989.395 40.9789 989.395 48.6757 L989.395 72.576 L981.901 72.576 L981.901 27.2059 L989.395 27.2059 L989.395 34.2544 Q991.744 30.1225 995.512 28.1376 Q999.279 26.1121 1004.67 26.1121 Q1005.44 26.1121 1006.37 26.2337 Q1007.3 26.3147 1008.43 26.5172 L1008.47 34.1734 Z\" fill=\"#000000\" fill-rule=\"nonzero\" fill-opacity=\"1\" /><path clip-path=\"url(#clip090)\" d=\"M1053.28 48.0275 L1053.28 51.6733 L1019.01 51.6733 Q1019.49 59.3701 1023.63 63.421 Q1027.8 67.4314 1035.21 67.4314 Q1039.5 67.4314 1043.52 66.3781 Q1047.57 65.3249 1051.54 63.2184 L1051.54 70.267 Q1047.53 71.9684 1043.31 72.8596 Q1039.1 73.7508 1034.77 73.7508 Q1023.91 73.7508 1017.55 67.4314 Q1011.23 61.1119 1011.23 50.3365 Q1011.23 39.1965 1017.22 32.6746 Q1023.26 26.1121 1033.47 26.1121 Q1042.62 26.1121 1047.93 32.0264 Q1053.28 37.9003 1053.28 48.0275 M1045.82 45.84 Q1045.74 39.7232 1042.38 36.0774 Q1039.06 32.4315 1033.55 32.4315 Q1027.31 32.4315 1023.54 35.9558 Q1019.82 39.4801 1019.25 45.8805 L1045.82 45.84 Z\" fill=\"#000000\" fill-rule=\"nonzero\" fill-opacity=\"1\" /><path clip-path=\"url(#clip090)\" d=\"M1120.81 28.5427 L1120.81 35.5912 Q1117.65 33.9709 1114.24 33.1607 Q1110.84 32.3505 1107.2 32.3505 Q1101.65 32.3505 1098.85 34.0519 Q1096.1 35.7533 1096.1 39.156 Q1096.1 41.7486 1098.08 43.2475 Q1100.07 44.7058 1106.06 46.0426 L1108.61 46.6097 Q1116.55 48.3111 1119.87 51.4303 Q1123.24 54.509 1123.24 60.0587 Q1123.24 66.3781 1118.21 70.0644 Q1113.23 73.7508 1104.48 73.7508 Q1100.84 73.7508 1096.87 73.0216 Q1092.94 72.3329 1088.56 70.9151 L1088.56 63.2184 Q1092.69 65.3654 1096.7 66.4591 Q1100.71 67.5124 1104.64 67.5124 Q1109.91 67.5124 1112.74 65.73 Q1115.58 63.9071 1115.58 60.6258 Q1115.58 57.5877 1113.51 55.9673 Q1111.49 54.3469 1104.56 52.8481 L1101.97 52.2405 Q1095.04 50.7821 1091.96 47.7845 Q1088.89 44.7463 1088.89 39.4801 Q1088.89 33.0797 1093.42 29.5959 Q1097.96 26.1121 1106.3 26.1121 Q1110.44 26.1121 1114.08 26.7198 Q1117.73 27.3274 1120.81 28.5427 Z\" fill=\"#000000\" fill-rule=\"nonzero\" fill-opacity=\"1\" /><path clip-path=\"url(#clip090)\" d=\"M1152.69 32.4315 Q1146.69 32.4315 1143.21 37.1306 Q1139.72 41.7891 1139.72 49.9314 Q1139.72 58.0738 1143.17 62.7728 Q1146.65 67.4314 1152.69 67.4314 Q1158.64 67.4314 1162.13 62.7323 Q1165.61 58.0333 1165.61 49.9314 Q1165.61 41.8701 1162.13 37.1711 Q1158.64 32.4315 1152.69 32.4315 M1152.69 26.1121 Q1162.41 26.1121 1167.96 32.4315 Q1173.51 38.7509 1173.51 49.9314 Q1173.51 61.0714 1167.96 67.4314 Q1162.41 73.7508 1152.69 73.7508 Q1142.92 73.7508 1137.37 67.4314 Q1131.87 61.0714 1131.87 49.9314 Q1131.87 38.7509 1137.37 32.4315 Q1142.92 26.1121 1152.69 26.1121 Z\" fill=\"#000000\" fill-rule=\"nonzero\" fill-opacity=\"1\" /><path clip-path=\"url(#clip090)\" d=\"M1185.86 9.54393 L1193.32 9.54393 L1193.32 72.576 L1185.86 72.576 L1185.86 9.54393 Z\" fill=\"#000000\" fill-rule=\"nonzero\" fill-opacity=\"1\" /><path clip-path=\"url(#clip090)\" d=\"M1208.14 54.671 L1208.14 27.2059 L1215.6 27.2059 L1215.6 54.3874 Q1215.6 60.8284 1218.11 64.0691 Q1220.62 67.2693 1225.64 67.2693 Q1231.68 67.2693 1235.16 63.421 Q1238.69 59.5726 1238.69 52.9291 L1238.69 27.2059 L1246.14 27.2059 L1246.14 72.576 L1238.69 72.576 L1238.69 65.6084 Q1235.97 69.7404 1232.37 71.7658 Q1228.8 73.7508 1224.06 73.7508 Q1216.25 73.7508 1212.19 68.8897 Q1208.14 64.0286 1208.14 54.671 M1226.9 26.1121 L1226.9 26.1121 Z\" fill=\"#000000\" fill-rule=\"nonzero\" fill-opacity=\"1\" /><path clip-path=\"url(#clip090)\" d=\"M1294.14 28.9478 L1294.14 35.9153 Q1290.98 34.1734 1287.78 33.3227 Q1284.62 32.4315 1281.38 32.4315 Q1274.13 32.4315 1270.12 37.0496 Q1266.11 41.6271 1266.11 49.9314 Q1266.11 58.2358 1270.12 62.8538 Q1274.13 67.4314 1281.38 67.4314 Q1284.62 67.4314 1287.78 66.5807 Q1290.98 65.6895 1294.14 63.9476 L1294.14 70.8341 Q1291.03 72.2924 1287.66 73.0216 Q1284.34 73.7508 1280.57 73.7508 Q1270.33 73.7508 1264.29 67.3098 Q1258.25 60.8689 1258.25 49.9314 Q1258.25 38.832 1264.33 32.472 Q1270.45 26.1121 1281.06 26.1121 Q1284.5 26.1121 1287.78 26.8413 Q1291.07 27.5299 1294.14 28.9478 M1283.61 72.576 Q1285.84 75.0876 1286.93 77.194 Q1288.03 79.341 1288.03 81.2854 Q1288.03 84.8907 1285.6 86.7137 Q1283.17 88.5771 1278.39 88.5771 Q1276.52 88.5771 1274.74 88.334 Q1273 88.091 1271.26 87.6049 L1271.26 82.2982 Q1272.63 82.9868 1274.13 83.2704 Q1275.63 83.5945 1277.54 83.5945 Q1279.93 83.5945 1281.14 82.6222 Q1282.36 81.65 1282.36 79.7866 Q1282.36 78.5713 1281.47 76.7889 Q1280.61 75.0471 1278.79 72.576 L1283.61 72.576 Z\" fill=\"#000000\" fill-rule=\"nonzero\" fill-opacity=\"1\" /><path clip-path=\"url(#clip090)\" d=\"M1327.73 49.7694 Q1318.69 49.7694 1315.21 51.8354 Q1311.73 53.9013 1311.73 58.8839 Q1311.73 62.8538 1314.32 65.2034 Q1316.95 67.5124 1321.45 67.5124 Q1327.65 67.5124 1331.37 63.1374 Q1335.14 58.7219 1335.14 51.4303 L1335.14 49.7694 L1327.73 49.7694 M1342.59 46.6907 L1342.59 72.576 L1335.14 72.576 L1335.14 65.6895 Q1332.59 69.8214 1328.78 71.8063 Q1324.97 73.7508 1319.46 73.7508 Q1312.5 73.7508 1308.36 69.8619 Q1304.27 65.9325 1304.27 59.3701 Q1304.27 51.7138 1309.38 47.825 Q1314.52 43.9361 1324.69 43.9361 L1335.14 43.9361 L1335.14 43.2069 Q1335.14 38.0623 1331.74 35.2672 Q1328.37 32.4315 1322.26 32.4315 Q1318.37 32.4315 1314.68 33.3632 Q1311 34.295 1307.59 36.1584 L1307.59 29.2718 Q1311.68 27.692 1315.53 26.9223 Q1319.38 26.1121 1323.03 26.1121 Q1332.87 26.1121 1337.73 31.2163 Q1342.59 36.3204 1342.59 46.6907 M1323.19 17.0786 L1320.88 14.8506 Q1319.99 14.0404 1319.3 13.6759 Q1318.65 13.2708 1318.13 13.2708 Q1316.59 13.2708 1315.86 14.7696 Q1315.13 16.2279 1315.05 19.5497 L1309.98 19.5497 Q1310.06 14.0809 1312.13 11.1238 Q1314.2 8.12611 1317.88 8.12611 Q1319.42 8.12611 1320.72 8.69324 Q1322.01 9.26037 1323.51 10.5972 L1325.82 12.8252 Q1326.71 13.6353 1327.36 14.0404 Q1328.05 14.405 1328.58 14.405 Q1330.12 14.405 1330.85 12.9467 Q1331.57 11.4479 1331.66 8.12611 L1336.72 8.12611 Q1336.64 13.5948 1334.57 16.5925 Q1332.51 19.5497 1328.82 19.5497 Q1327.28 19.5497 1325.98 18.9825 Q1324.69 18.4154 1323.19 17.0786 Z\" fill=\"#000000\" fill-rule=\"nonzero\" fill-opacity=\"1\" /><path clip-path=\"url(#clip090)\" d=\"M1375.53 32.4315 Q1369.53 32.4315 1366.05 37.1306 Q1362.56 41.7891 1362.56 49.9314 Q1362.56 58.0738 1366.01 62.7728 Q1369.49 67.4314 1375.53 67.4314 Q1381.48 67.4314 1384.97 62.7323 Q1388.45 58.0333 1388.45 49.9314 Q1388.45 41.8701 1384.97 37.1711 Q1381.48 32.4315 1375.53 32.4315 M1375.53 26.1121 Q1385.25 26.1121 1390.8 32.4315 Q1396.35 38.7509 1396.35 49.9314 Q1396.35 61.0714 1390.8 67.4314 Q1385.25 73.7508 1375.53 73.7508 Q1365.76 73.7508 1360.21 67.4314 Q1354.71 61.0714 1354.71 49.9314 Q1354.71 38.7509 1360.21 32.4315 Q1365.76 26.1121 1375.53 26.1121 Z\" fill=\"#000000\" fill-rule=\"nonzero\" fill-opacity=\"1\" /><path clip-path=\"url(#clip090)\" d=\"M1473.88 48.0275 L1473.88 51.6733 L1439.61 51.6733 Q1440.1 59.3701 1444.23 63.421 Q1448.4 67.4314 1455.82 67.4314 Q1460.11 67.4314 1464.12 66.3781 Q1468.17 65.3249 1472.14 63.2184 L1472.14 70.267 Q1468.13 71.9684 1463.92 72.8596 Q1459.7 73.7508 1455.37 73.7508 Q1444.51 73.7508 1438.15 67.4314 Q1431.83 61.1119 1431.83 50.3365 Q1431.83 39.1965 1437.83 32.6746 Q1443.87 26.1121 1454.07 26.1121 Q1463.23 26.1121 1468.54 32.0264 Q1473.88 37.9003 1473.88 48.0275 M1466.43 45.84 Q1466.35 39.7232 1462.99 36.0774 Q1459.66 32.4315 1454.16 32.4315 Q1447.92 32.4315 1444.15 35.9558 Q1440.42 39.4801 1439.86 45.8805 L1466.43 45.84 Z\" fill=\"#000000\" fill-rule=\"nonzero\" fill-opacity=\"1\" /><path clip-path=\"url(#clip090)\" d=\"M1522.37 27.2059 L1505.97 49.2833 L1523.22 72.576 L1514.43 72.576 L1501.23 54.752 L1488.02 72.576 L1479.23 72.576 L1496.85 48.8377 L1480.73 27.2059 L1489.52 27.2059 L1501.55 43.369 L1513.58 27.2059 L1522.37 27.2059 Z\" fill=\"#000000\" fill-rule=\"nonzero\" fill-opacity=\"1\" /><path clip-path=\"url(#clip090)\" d=\"M1554.37 49.7694 Q1545.34 49.7694 1541.86 51.8354 Q1538.37 53.9013 1538.37 58.8839 Q1538.37 62.8538 1540.97 65.2034 Q1543.6 67.5124 1548.1 67.5124 Q1554.29 67.5124 1558.02 63.1374 Q1561.79 58.7219 1561.79 51.4303 L1561.79 49.7694 L1554.37 49.7694 M1569.24 46.6907 L1569.24 72.576 L1561.79 72.576 L1561.79 65.6895 Q1559.24 69.8214 1555.43 71.8063 Q1551.62 73.7508 1546.11 73.7508 Q1539.14 73.7508 1535.01 69.8619 Q1530.92 65.9325 1530.92 59.3701 Q1530.92 51.7138 1536.02 47.825 Q1541.17 43.9361 1551.34 43.9361 L1561.79 43.9361 L1561.79 43.2069 Q1561.79 38.0623 1558.38 35.2672 Q1555.02 32.4315 1548.91 32.4315 Q1545.02 32.4315 1541.33 33.3632 Q1537.64 34.295 1534.24 36.1584 L1534.24 29.2718 Q1538.33 27.692 1542.18 26.9223 Q1546.03 26.1121 1549.68 26.1121 Q1559.52 26.1121 1564.38 31.2163 Q1569.24 36.3204 1569.24 46.6907 Z\" fill=\"#000000\" fill-rule=\"nonzero\" fill-opacity=\"1\" /><path clip-path=\"url(#clip090)\" d=\"M1591.97 14.324 L1591.97 27.2059 L1607.32 27.2059 L1607.32 32.9987 L1591.97 32.9987 L1591.97 57.6282 Q1591.97 63.1779 1593.47 64.7578 Q1595.01 66.3376 1599.66 66.3376 L1607.32 66.3376 L1607.32 72.576 L1599.66 72.576 Q1591.04 72.576 1587.75 69.3758 Q1584.47 66.1351 1584.47 57.6282 L1584.47 32.9987 L1579 32.9987 L1579 27.2059 L1584.47 27.2059 L1584.47 14.324 L1591.97 14.324 Z\" fill=\"#000000\" fill-rule=\"nonzero\" fill-opacity=\"1\" /><path clip-path=\"url(#clip090)\" d=\"M1637.74 49.7694 Q1628.71 49.7694 1625.22 51.8354 Q1621.74 53.9013 1621.74 58.8839 Q1621.74 62.8538 1624.33 65.2034 Q1626.97 67.5124 1631.46 67.5124 Q1637.66 67.5124 1641.39 63.1374 Q1645.16 58.7219 1645.16 51.4303 L1645.16 49.7694 L1637.74 49.7694 M1652.61 46.6907 L1652.61 72.576 L1645.16 72.576 L1645.16 65.6895 Q1642.6 69.8214 1638.8 71.8063 Q1634.99 73.7508 1629.48 73.7508 Q1622.51 73.7508 1618.38 69.8619 Q1614.29 65.9325 1614.29 59.3701 Q1614.29 51.7138 1619.39 47.825 Q1624.54 43.9361 1634.7 43.9361 L1645.16 43.9361 L1645.16 43.2069 Q1645.16 38.0623 1641.75 35.2672 Q1638.39 32.4315 1632.27 32.4315 Q1628.38 32.4315 1624.7 33.3632 Q1621.01 34.295 1617.61 36.1584 L1617.61 29.2718 Q1621.7 27.692 1625.55 26.9223 Q1629.4 26.1121 1633.04 26.1121 Q1642.89 26.1121 1647.75 31.2163 Q1652.61 36.3204 1652.61 46.6907 Z\" fill=\"#000000\" fill-rule=\"nonzero\" fill-opacity=\"1\" /><path clip-path=\"url(#clip090)\" d=\"M1733.14 48.0275 L1733.14 51.6733 L1698.87 51.6733 Q1699.36 59.3701 1703.49 63.421 Q1707.66 67.4314 1715.07 67.4314 Q1719.37 67.4314 1723.38 66.3781 Q1727.43 65.3249 1731.4 63.2184 L1731.4 70.267 Q1727.39 71.9684 1723.18 72.8596 Q1718.96 73.7508 1714.63 73.7508 Q1703.77 73.7508 1697.41 67.4314 Q1691.09 61.1119 1691.09 50.3365 Q1691.09 39.1965 1697.09 32.6746 Q1703.12 26.1121 1713.33 26.1121 Q1722.49 26.1121 1727.79 32.0264 Q1733.14 37.9003 1733.14 48.0275 M1725.69 45.84 Q1725.61 39.7232 1722.24 36.0774 Q1718.92 32.4315 1713.41 32.4315 Q1707.17 32.4315 1703.41 35.9558 Q1699.68 39.4801 1699.11 45.8805 L1725.69 45.84 Z\" fill=\"#000000\" fill-rule=\"nonzero\" fill-opacity=\"1\" /><path clip-path=\"url(#clip090)\" d=\"M1792.37 49.7694 Q1783.33 49.7694 1779.85 51.8354 Q1776.36 53.9013 1776.36 58.8839 Q1776.36 62.8538 1778.96 65.2034 Q1781.59 67.5124 1786.09 67.5124 Q1792.28 67.5124 1796.01 63.1374 Q1799.78 58.7219 1799.78 51.4303 L1799.78 49.7694 L1792.37 49.7694 M1807.23 46.6907 L1807.23 72.576 L1799.78 72.576 L1799.78 65.6895 Q1797.23 69.8214 1793.42 71.8063 Q1789.61 73.7508 1784.1 73.7508 Q1777.13 73.7508 1773 69.8619 Q1768.91 65.9325 1768.91 59.3701 Q1768.91 51.7138 1774.01 47.825 Q1779.16 43.9361 1789.33 43.9361 L1799.78 43.9361 L1799.78 43.2069 Q1799.78 38.0623 1796.38 35.2672 Q1793.01 32.4315 1786.9 32.4315 Q1783.01 32.4315 1779.32 33.3632 Q1775.63 34.295 1772.23 36.1584 L1772.23 29.2718 Q1776.32 27.692 1780.17 26.9223 Q1784.02 26.1121 1787.67 26.1121 Q1797.51 26.1121 1802.37 31.2163 Q1807.23 36.3204 1807.23 46.6907 Z\" fill=\"#000000\" fill-rule=\"nonzero\" fill-opacity=\"1\" /><path clip-path=\"url(#clip090)\" d=\"M1829.8 65.7705 L1829.8 89.8329 L1822.3 89.8329 L1822.3 27.2059 L1829.8 27.2059 L1829.8 34.0924 Q1832.15 30.0415 1835.71 28.0971 Q1839.32 26.1121 1844.3 26.1121 Q1852.56 26.1121 1857.71 32.6746 Q1862.89 39.2371 1862.89 49.9314 Q1862.89 60.6258 1857.71 67.1883 Q1852.56 73.7508 1844.3 73.7508 Q1839.32 73.7508 1835.71 71.8063 Q1832.15 69.8214 1829.8 65.7705 M1855.15 49.9314 Q1855.15 41.7081 1851.75 37.0496 Q1848.39 32.3505 1842.47 32.3505 Q1836.56 32.3505 1833.16 37.0496 Q1829.8 41.7081 1829.8 49.9314 Q1829.8 58.1548 1833.16 62.8538 Q1836.56 67.5124 1842.47 67.5124 Q1848.39 67.5124 1851.75 62.8538 Q1855.15 58.1548 1855.15 49.9314 Z\" fill=\"#000000\" fill-rule=\"nonzero\" fill-opacity=\"1\" /><path clip-path=\"url(#clip090)\" d=\"M1901.54 34.1734 Q1900.28 33.4443 1898.78 33.1202 Q1897.32 32.7556 1895.54 32.7556 Q1889.22 32.7556 1885.82 36.8875 Q1882.46 40.9789 1882.46 48.6757 L1882.46 72.576 L1874.96 72.576 L1874.96 27.2059 L1882.46 27.2059 L1882.46 34.2544 Q1884.81 30.1225 1888.57 28.1376 Q1892.34 26.1121 1897.73 26.1121 Q1898.5 26.1121 1899.43 26.2337 Q1900.36 26.3147 1901.5 26.5172 L1901.54 34.1734 Z\" fill=\"#000000\" fill-rule=\"nonzero\" fill-opacity=\"1\" /><path clip-path=\"url(#clip090)\" d=\"M1925.11 32.4315 Q1919.12 32.4315 1915.63 37.1306 Q1912.15 41.7891 1912.15 49.9314 Q1912.15 58.0738 1915.59 62.7728 Q1919.08 67.4314 1925.11 67.4314 Q1931.07 67.4314 1934.55 62.7323 Q1938.04 58.0333 1938.04 49.9314 Q1938.04 41.8701 1934.55 37.1711 Q1931.07 32.4315 1925.11 32.4315 M1925.11 26.1121 Q1934.84 26.1121 1940.39 32.4315 Q1945.93 38.7509 1945.93 49.9314 Q1945.93 61.0714 1940.39 67.4314 Q1934.84 73.7508 1925.11 73.7508 Q1915.35 73.7508 1909.8 67.4314 Q1904.29 61.0714 1904.29 49.9314 Q1904.29 38.7509 1909.8 32.4315 Q1915.35 26.1121 1925.11 26.1121 Z\" fill=\"#000000\" fill-rule=\"nonzero\" fill-opacity=\"1\" /><path clip-path=\"url(#clip090)\" d=\"M1993.45 27.2059 L1977.05 49.2833 L1994.3 72.576 L1985.51 72.576 L1972.31 54.752 L1959.1 72.576 L1950.31 72.576 L1967.93 48.8377 L1951.81 27.2059 L1960.6 27.2059 L1972.63 43.369 L1984.66 27.2059 L1993.45 27.2059 Z\" fill=\"#000000\" fill-rule=\"nonzero\" fill-opacity=\"1\" /><path clip-path=\"url(#clip090)\" d=\"M2004.84 27.2059 L2012.29 27.2059 L2012.29 72.576 L2004.84 72.576 L2004.84 27.2059 M2004.84 9.54393 L2012.29 9.54393 L2012.29 18.9825 L2004.84 18.9825 L2004.84 9.54393 Z\" fill=\"#000000\" fill-rule=\"nonzero\" fill-opacity=\"1\" /><path clip-path=\"url(#clip090)\" d=\"M2063.21 35.9153 Q2066 30.8922 2069.89 28.5022 Q2073.78 26.1121 2079.05 26.1121 Q2086.14 26.1121 2089.99 31.0947 Q2093.83 36.0368 2093.83 45.1919 L2093.83 72.576 L2086.34 72.576 L2086.34 45.4349 Q2086.34 38.913 2084.03 35.7533 Q2081.72 32.5936 2076.98 32.5936 Q2071.19 32.5936 2067.83 36.4419 Q2064.46 40.2903 2064.46 46.9338 L2064.46 72.576 L2056.97 72.576 L2056.97 45.4349 Q2056.97 38.8725 2054.66 35.7533 Q2052.35 32.5936 2047.53 32.5936 Q2041.82 32.5936 2038.46 36.4824 Q2035.1 40.3308 2035.1 46.9338 L2035.1 72.576 L2027.6 72.576 L2027.6 27.2059 L2035.1 27.2059 L2035.1 34.2544 Q2037.65 30.082 2041.21 28.0971 Q2044.78 26.1121 2049.68 26.1121 Q2054.62 26.1121 2058.06 28.6237 Q2061.55 31.1352 2063.21 35.9153 Z\" fill=\"#000000\" fill-rule=\"nonzero\" fill-opacity=\"1\" /><path clip-path=\"url(#clip090)\" d=\"M2129.32 49.7694 Q2120.29 49.7694 2116.8 51.8354 Q2113.32 53.9013 2113.32 58.8839 Q2113.32 62.8538 2115.91 65.2034 Q2118.54 67.5124 2123.04 67.5124 Q2129.24 67.5124 2132.97 63.1374 Q2136.73 58.7219 2136.73 51.4303 L2136.73 49.7694 L2129.32 49.7694 M2144.19 46.6907 L2144.19 72.576 L2136.73 72.576 L2136.73 65.6895 Q2134.18 69.8214 2130.37 71.8063 Q2126.56 73.7508 2121.06 73.7508 Q2114.09 73.7508 2109.96 69.8619 Q2105.86 65.9325 2105.86 59.3701 Q2105.86 51.7138 2110.97 47.825 Q2116.11 43.9361 2126.28 43.9361 L2136.73 43.9361 L2136.73 43.2069 Q2136.73 38.0623 2133.33 35.2672 Q2129.97 32.4315 2123.85 32.4315 Q2119.96 32.4315 2116.28 33.3632 Q2112.59 34.295 2109.19 36.1584 L2109.19 29.2718 Q2113.28 27.692 2117.13 26.9223 Q2120.97 26.1121 2124.62 26.1121 Q2134.46 26.1121 2139.33 31.2163 Q2144.19 36.3204 2144.19 46.6907 Z\" fill=\"#000000\" fill-rule=\"nonzero\" fill-opacity=\"1\" /><path clip-path=\"url(#clip090)\" d=\"M2189.39 34.0924 L2189.39 9.54393 L2196.85 9.54393 L2196.85 72.576 L2189.39 72.576 L2189.39 65.7705 Q2187.04 69.8214 2183.44 71.8063 Q2179.87 73.7508 2174.85 73.7508 Q2166.63 73.7508 2161.44 67.1883 Q2156.3 60.6258 2156.3 49.9314 Q2156.3 39.2371 2161.44 32.6746 Q2166.63 26.1121 2174.85 26.1121 Q2179.87 26.1121 2183.44 28.0971 Q2187.04 30.0415 2189.39 34.0924 M2164 49.9314 Q2164 58.1548 2167.36 62.8538 Q2170.76 67.5124 2176.67 67.5124 Q2182.59 67.5124 2185.99 62.8538 Q2189.39 58.1548 2189.39 49.9314 Q2189.39 41.7081 2185.99 37.0496 Q2182.59 32.3505 2176.67 32.3505 Q2170.76 32.3505 2167.36 37.0496 Q2164 41.7081 2164 49.9314 Z\" fill=\"#000000\" fill-rule=\"nonzero\" fill-opacity=\"1\" /><path clip-path=\"url(#clip090)\" d=\"M2232.82 49.7694 Q2223.79 49.7694 2220.3 51.8354 Q2216.82 53.9013 2216.82 58.8839 Q2216.82 62.8538 2219.41 65.2034 Q2222.04 67.5124 2226.54 67.5124 Q2232.74 67.5124 2236.47 63.1374 Q2240.23 58.7219 2240.23 51.4303 L2240.23 49.7694 L2232.82 49.7694 M2247.69 46.6907 L2247.69 72.576 L2240.23 72.576 L2240.23 65.6895 Q2237.68 69.8214 2233.87 71.8063 Q2230.07 73.7508 2224.56 73.7508 Q2217.59 73.7508 2213.46 69.8619 Q2209.37 65.9325 2209.37 59.3701 Q2209.37 51.7138 2214.47 47.825 Q2219.61 43.9361 2229.78 43.9361 L2240.23 43.9361 L2240.23 43.2069 Q2240.23 38.0623 2236.83 35.2672 Q2233.47 32.4315 2227.35 32.4315 Q2223.46 32.4315 2219.78 33.3632 Q2216.09 34.295 2212.69 36.1584 L2212.69 29.2718 Q2216.78 27.692 2220.63 26.9223 Q2224.48 26.1121 2228.12 26.1121 Q2237.96 26.1121 2242.83 31.2163 Q2247.69 36.3204 2247.69 46.6907 Z\" fill=\"#000000\" fill-rule=\"nonzero\" fill-opacity=\"1\" /><polyline clip-path=\"url(#clip092)\" style=\"stroke:#009af9; stroke-linecap:round; stroke-linejoin:round; stroke-width:12; stroke-opacity:1; fill:none\" points=\"247.59,1447.87 268.028,1407.7 288.467,1367.56 308.905,1327.5 329.344,1287.57 349.782,1247.79 370.221,1208.2 390.659,1168.86 411.098,1129.79 431.536,1091.03 451.975,1052.63 472.413,1014.61 492.852,977.025 513.29,939.902 533.729,903.282 554.167,867.198 574.606,831.688 595.044,796.785 615.483,762.526 635.921,728.942 656.36,696.068 676.798,663.936 697.237,632.578 717.675,602.024 738.114,572.305 758.552,543.451 778.991,515.488 799.429,488.446 819.868,462.351 840.306,437.228 860.745,413.103 881.183,389.999 901.622,367.938 922.06,346.944 942.499,327.036 962.937,308.234 983.376,290.557 1003.81,274.022 1024.25,258.646 1044.69,244.443 1065.13,231.428 1085.57,219.613 1106.01,209.01 1126.45,199.63 1146.88,191.482 1167.32,184.574 1187.76,178.912 1208.2,174.503 1228.64,171.35 1249.08,169.458 1269.51,168.827 1289.95,169.458 1310.39,171.35 1330.83,174.503 1351.27,178.912 1371.71,184.574 1392.15,191.482 1412.58,199.63 1433.02,209.01 1453.46,219.613 1473.9,231.428 1494.34,244.443 1514.78,258.646 1535.22,274.022 1555.65,290.557 1576.09,308.234 1596.53,327.036 1616.97,346.944 1637.41,367.938 1657.85,389.999 1678.29,413.103 1698.72,437.228 1719.16,462.351 1739.6,488.446 1760.04,515.488 1780.48,543.451 1800.92,572.305 1821.35,602.024 1841.79,632.578 1862.23,663.936 1882.67,696.068 1903.11,728.942 1923.55,762.526 1943.99,796.785 1964.42,831.688 1984.86,867.198 2005.3,903.282 2025.74,939.902 2046.18,977.025 2066.62,1014.61 2087.06,1052.63 2107.49,1091.03 2127.93,1129.79 2148.37,1168.86 2168.81,1208.2 2189.25,1247.79 2209.69,1287.57 2230.12,1327.5 2250.56,1367.56 2271,1407.7 2291.44,1447.87 \"/>\n",
       "<polyline clip-path=\"url(#clip092)\" style=\"stroke:#e26f46; stroke-linecap:round; stroke-linejoin:round; stroke-width:12; stroke-opacity:1; fill:none\" points=\"247.59,1447.87 758.552,534.981 1269.51,162.047 1780.48,542.731 2291.44,1447.87 \"/>\n",
       "<circle clip-path=\"url(#clip092)\" cx=\"247.59\" cy=\"1447.87\" r=\"14.4\" fill=\"#e26f46\" fill-rule=\"evenodd\" fill-opacity=\"1\" stroke=\"#000000\" stroke-opacity=\"1\" stroke-width=\"3.2\"/>\n",
       "<circle clip-path=\"url(#clip092)\" cx=\"758.552\" cy=\"534.981\" r=\"14.4\" fill=\"#e26f46\" fill-rule=\"evenodd\" fill-opacity=\"1\" stroke=\"#000000\" stroke-opacity=\"1\" stroke-width=\"3.2\"/>\n",
       "<circle clip-path=\"url(#clip092)\" cx=\"1269.51\" cy=\"162.047\" r=\"14.4\" fill=\"#e26f46\" fill-rule=\"evenodd\" fill-opacity=\"1\" stroke=\"#000000\" stroke-opacity=\"1\" stroke-width=\"3.2\"/>\n",
       "<circle clip-path=\"url(#clip092)\" cx=\"1780.48\" cy=\"542.731\" r=\"14.4\" fill=\"#e26f46\" fill-rule=\"evenodd\" fill-opacity=\"1\" stroke=\"#000000\" stroke-opacity=\"1\" stroke-width=\"3.2\"/>\n",
       "<circle clip-path=\"url(#clip092)\" cx=\"2291.44\" cy=\"1447.87\" r=\"14.4\" fill=\"#e26f46\" fill-rule=\"evenodd\" fill-opacity=\"1\" stroke=\"#000000\" stroke-opacity=\"1\" stroke-width=\"3.2\"/>\n",
       "<path clip-path=\"url(#clip090)\" d=\"M1589.08 324.425 L2280.54 324.425 L2280.54 168.905 L1589.08 168.905  Z\" fill=\"#ffffff\" fill-rule=\"evenodd\" fill-opacity=\"1\"/>\n",
       "<polyline clip-path=\"url(#clip090)\" style=\"stroke:#000000; stroke-linecap:round; stroke-linejoin:round; stroke-width:4; stroke-opacity:1; fill:none\" points=\"1589.08,324.425 2280.54,324.425 2280.54,168.905 1589.08,168.905 1589.08,324.425 \"/>\n",
       "<polyline clip-path=\"url(#clip090)\" style=\"stroke:#009af9; stroke-linecap:round; stroke-linejoin:round; stroke-width:12; stroke-opacity:1; fill:none\" points=\"1613.15,220.745 1757.58,220.745 \"/>\n",
       "<path clip-path=\"url(#clip090)\" d=\"M1803.9 204.599 L1803.9 209.159 Q1801.24 207.886 1798.88 207.261 Q1796.52 206.636 1794.32 206.636 Q1790.5 206.636 1788.41 208.117 Q1786.35 209.599 1786.35 212.33 Q1786.35 214.622 1787.72 215.803 Q1789.11 216.96 1792.95 217.678 L1795.78 218.256 Q1801.01 219.252 1803.48 221.775 Q1805.98 224.275 1805.98 228.488 Q1805.98 233.511 1802.6 236.103 Q1799.25 238.696 1792.74 238.696 Q1790.29 238.696 1787.51 238.14 Q1784.76 237.585 1781.79 236.497 L1781.79 231.682 Q1784.64 233.279 1787.37 234.089 Q1790.1 234.9 1792.74 234.9 Q1796.75 234.9 1798.92 233.326 Q1801.1 231.752 1801.1 228.835 Q1801.1 226.289 1799.53 224.853 Q1797.97 223.418 1794.41 222.701 L1791.56 222.145 Q1786.33 221.103 1783.99 218.881 Q1781.66 216.659 1781.66 212.701 Q1781.66 208.117 1784.87 205.479 Q1788.11 202.84 1793.79 202.84 Q1796.22 202.84 1798.74 203.279 Q1801.26 203.719 1803.9 204.599 Z\" fill=\"#000000\" fill-rule=\"nonzero\" fill-opacity=\"1\" /><path clip-path=\"url(#clip090)\" d=\"M1823.14 215.085 Q1819.71 215.085 1817.72 217.77 Q1815.73 220.432 1815.73 225.085 Q1815.73 229.738 1817.7 232.423 Q1819.69 235.085 1823.14 235.085 Q1826.54 235.085 1828.53 232.4 Q1830.52 229.715 1830.52 225.085 Q1830.52 220.478 1828.53 217.793 Q1826.54 215.085 1823.14 215.085 M1823.14 211.474 Q1828.69 211.474 1831.86 215.085 Q1835.03 218.696 1835.03 225.085 Q1835.03 231.451 1831.86 235.085 Q1828.69 238.696 1823.14 238.696 Q1817.56 238.696 1814.39 235.085 Q1811.24 231.451 1811.24 225.085 Q1811.24 218.696 1814.39 215.085 Q1817.56 211.474 1823.14 211.474 Z\" fill=\"#000000\" fill-rule=\"nonzero\" fill-opacity=\"1\" /><path clip-path=\"url(#clip090)\" d=\"M1842.1 202.006 L1846.35 202.006 L1846.35 238.025 L1842.1 238.025 L1842.1 202.006 Z\" fill=\"#000000\" fill-rule=\"nonzero\" fill-opacity=\"1\" /><path clip-path=\"url(#clip090)\" d=\"M1854.83 227.793 L1854.83 212.099 L1859.09 212.099 L1859.09 227.631 Q1859.09 231.312 1860.52 233.164 Q1861.96 234.992 1864.83 234.992 Q1868.28 234.992 1870.27 232.793 Q1872.28 230.594 1872.28 226.798 L1872.28 212.099 L1876.54 212.099 L1876.54 238.025 L1872.28 238.025 L1872.28 234.043 Q1870.73 236.404 1868.67 237.562 Q1866.63 238.696 1863.92 238.696 Q1859.46 238.696 1857.14 235.918 Q1854.83 233.14 1854.83 227.793 M1865.54 211.474 L1865.54 211.474 Z\" fill=\"#000000\" fill-rule=\"nonzero\" fill-opacity=\"1\" /><path clip-path=\"url(#clip090)\" d=\"M1903.97 213.094 L1903.97 217.076 Q1902.16 216.08 1900.34 215.594 Q1898.53 215.085 1896.68 215.085 Q1892.53 215.085 1890.24 217.724 Q1887.95 220.34 1887.95 225.085 Q1887.95 229.83 1890.24 232.469 Q1892.53 235.085 1896.68 235.085 Q1898.53 235.085 1900.34 234.599 Q1902.16 234.089 1903.97 233.094 L1903.97 237.029 Q1902.19 237.863 1900.27 238.279 Q1898.37 238.696 1896.22 238.696 Q1890.36 238.696 1886.91 235.015 Q1883.46 231.335 1883.46 225.085 Q1883.46 218.742 1886.93 215.108 Q1890.43 211.474 1896.49 211.474 Q1898.46 211.474 1900.34 211.891 Q1902.21 212.284 1903.97 213.094 M1897.95 238.025 Q1899.22 239.46 1899.85 240.664 Q1900.47 241.89 1900.47 243.001 Q1900.47 245.062 1899.09 246.103 Q1897.7 247.168 1894.97 247.168 Q1893.9 247.168 1892.88 247.029 Q1891.89 246.89 1890.89 246.613 L1890.89 243.58 Q1891.68 243.974 1892.53 244.136 Q1893.39 244.321 1894.48 244.321 Q1895.84 244.321 1896.54 243.765 Q1897.23 243.21 1897.23 242.145 Q1897.23 241.451 1896.72 240.432 Q1896.24 239.437 1895.2 238.025 L1897.95 238.025 Z\" fill=\"#000000\" fill-rule=\"nonzero\" fill-opacity=\"1\" /><path clip-path=\"url(#clip090)\" d=\"M1923.16 224.992 Q1918 224.992 1916.01 226.173 Q1914.02 227.353 1914.02 230.201 Q1914.02 232.469 1915.5 233.812 Q1917 235.131 1919.57 235.131 Q1923.11 235.131 1925.24 232.631 Q1927.4 230.108 1927.4 225.941 L1927.4 224.992 L1923.16 224.992 M1931.65 223.233 L1931.65 238.025 L1927.4 238.025 L1927.4 234.089 Q1925.94 236.451 1923.76 237.585 Q1921.59 238.696 1918.44 238.696 Q1914.46 238.696 1912.09 236.474 Q1909.76 234.228 1909.76 230.478 Q1909.76 226.103 1912.67 223.881 Q1915.61 221.659 1921.42 221.659 L1927.4 221.659 L1927.4 221.242 Q1927.4 218.303 1925.45 216.705 Q1923.53 215.085 1920.03 215.085 Q1917.81 215.085 1915.71 215.617 Q1913.6 216.15 1911.65 217.215 L1911.65 213.279 Q1913.99 212.377 1916.19 211.937 Q1918.39 211.474 1920.47 211.474 Q1926.1 211.474 1928.88 214.391 Q1931.65 217.307 1931.65 223.233 M1920.57 206.312 L1919.25 205.039 Q1918.74 204.576 1918.34 204.367 Q1917.97 204.136 1917.67 204.136 Q1916.79 204.136 1916.38 204.992 Q1915.96 205.826 1915.91 207.724 L1913.02 207.724 Q1913.07 204.599 1914.25 202.909 Q1915.43 201.196 1917.53 201.196 Q1918.41 201.196 1919.15 201.52 Q1919.9 201.844 1920.75 202.608 L1922.07 203.881 Q1922.58 204.344 1922.95 204.576 Q1923.34 204.784 1923.65 204.784 Q1924.53 204.784 1924.94 203.951 Q1925.36 203.094 1925.4 201.196 L1928.3 201.196 Q1928.25 204.321 1927.07 206.034 Q1925.89 207.724 1923.78 207.724 Q1922.9 207.724 1922.16 207.4 Q1921.42 207.076 1920.57 206.312 Z\" fill=\"#000000\" fill-rule=\"nonzero\" fill-opacity=\"1\" /><path clip-path=\"url(#clip090)\" d=\"M1950.47 215.085 Q1947.05 215.085 1945.06 217.77 Q1943.07 220.432 1943.07 225.085 Q1943.07 229.738 1945.03 232.423 Q1947.03 235.085 1950.47 235.085 Q1953.88 235.085 1955.87 232.4 Q1957.86 229.715 1957.86 225.085 Q1957.86 220.478 1955.87 217.793 Q1953.88 215.085 1950.47 215.085 M1950.47 211.474 Q1956.03 211.474 1959.2 215.085 Q1962.37 218.696 1962.37 225.085 Q1962.37 231.451 1959.2 235.085 Q1956.03 238.696 1950.47 238.696 Q1944.9 238.696 1941.72 235.085 Q1938.58 231.451 1938.58 225.085 Q1938.58 218.696 1941.72 215.085 Q1944.9 211.474 1950.47 211.474 Z\" fill=\"#000000\" fill-rule=\"nonzero\" fill-opacity=\"1\" /><path clip-path=\"url(#clip090)\" d=\"M2006.68 223.997 L2006.68 226.08 L1987.09 226.08 Q1987.37 230.478 1989.73 232.793 Q1992.12 235.085 1996.35 235.085 Q1998.81 235.085 2001.1 234.483 Q2003.41 233.881 2005.68 232.677 L2005.68 236.705 Q2003.39 237.677 2000.98 238.187 Q1998.58 238.696 1996.1 238.696 Q1989.9 238.696 1986.26 235.085 Q1982.65 231.474 1982.65 225.316 Q1982.65 218.951 1986.08 215.224 Q1989.52 211.474 1995.36 211.474 Q2000.59 211.474 2003.62 214.853 Q2006.68 218.21 2006.68 223.997 M2002.42 222.747 Q2002.37 219.252 2000.45 217.168 Q1998.55 215.085 1995.4 215.085 Q1991.84 215.085 1989.69 217.099 Q1987.56 219.113 1987.23 222.77 L2002.42 222.747 Z\" fill=\"#000000\" fill-rule=\"nonzero\" fill-opacity=\"1\" /><path clip-path=\"url(#clip090)\" d=\"M2034.39 212.099 L2025.01 224.715 L2034.87 238.025 L2029.85 238.025 L2022.3 227.84 L2014.76 238.025 L2009.73 238.025 L2019.8 224.46 L2010.59 212.099 L2015.61 212.099 L2022.49 221.335 L2029.36 212.099 L2034.39 212.099 Z\" fill=\"#000000\" fill-rule=\"nonzero\" fill-opacity=\"1\" /><path clip-path=\"url(#clip090)\" d=\"M2052.67 224.992 Q2047.51 224.992 2045.52 226.173 Q2043.53 227.353 2043.53 230.201 Q2043.53 232.469 2045.01 233.812 Q2046.52 235.131 2049.08 235.131 Q2052.63 235.131 2054.76 232.631 Q2056.91 230.108 2056.91 225.941 L2056.91 224.992 L2052.67 224.992 M2061.17 223.233 L2061.17 238.025 L2056.91 238.025 L2056.91 234.089 Q2055.45 236.451 2053.27 237.585 Q2051.1 238.696 2047.95 238.696 Q2043.97 238.696 2041.61 236.474 Q2039.27 234.228 2039.27 230.478 Q2039.27 226.103 2042.19 223.881 Q2045.13 221.659 2050.94 221.659 L2056.91 221.659 L2056.91 221.242 Q2056.91 218.303 2054.96 216.705 Q2053.04 215.085 2049.55 215.085 Q2047.33 215.085 2045.22 215.617 Q2043.11 216.15 2041.17 217.215 L2041.17 213.279 Q2043.51 212.377 2045.71 211.937 Q2047.9 211.474 2049.99 211.474 Q2055.61 211.474 2058.39 214.391 Q2061.17 217.307 2061.17 223.233 Z\" fill=\"#000000\" fill-rule=\"nonzero\" fill-opacity=\"1\" /><path clip-path=\"url(#clip090)\" d=\"M2074.15 204.738 L2074.15 212.099 L2082.93 212.099 L2082.93 215.409 L2074.15 215.409 L2074.15 229.483 Q2074.15 232.654 2075.01 233.557 Q2075.89 234.46 2078.55 234.46 L2082.93 234.46 L2082.93 238.025 L2078.55 238.025 Q2073.62 238.025 2071.75 236.196 Q2069.87 234.344 2069.87 229.483 L2069.87 215.409 L2066.75 215.409 L2066.75 212.099 L2069.87 212.099 L2069.87 204.738 L2074.15 204.738 Z\" fill=\"#000000\" fill-rule=\"nonzero\" fill-opacity=\"1\" /><path clip-path=\"url(#clip090)\" d=\"M2100.31 224.992 Q2095.15 224.992 2093.16 226.173 Q2091.17 227.353 2091.17 230.201 Q2091.17 232.469 2092.65 233.812 Q2094.15 235.131 2096.72 235.131 Q2100.26 235.131 2102.39 232.631 Q2104.55 230.108 2104.55 225.941 L2104.55 224.992 L2100.31 224.992 M2108.81 223.233 L2108.81 238.025 L2104.55 238.025 L2104.55 234.089 Q2103.09 236.451 2100.91 237.585 Q2098.74 238.696 2095.59 238.696 Q2091.61 238.696 2089.25 236.474 Q2086.91 234.228 2086.91 230.478 Q2086.91 226.103 2089.83 223.881 Q2092.76 221.659 2098.58 221.659 L2104.55 221.659 L2104.55 221.242 Q2104.55 218.303 2102.6 216.705 Q2100.68 215.085 2097.19 215.085 Q2094.96 215.085 2092.86 215.617 Q2090.75 216.15 2088.81 217.215 L2088.81 213.279 Q2091.14 212.377 2093.34 211.937 Q2095.54 211.474 2097.63 211.474 Q2103.25 211.474 2106.03 214.391 Q2108.81 217.307 2108.81 223.233 Z\" fill=\"#000000\" fill-rule=\"nonzero\" fill-opacity=\"1\" /><polyline clip-path=\"url(#clip090)\" style=\"stroke:#e26f46; stroke-linecap:round; stroke-linejoin:round; stroke-width:12; stroke-opacity:1; fill:none\" points=\"1613.15,272.585 1757.58,272.585 \"/>\n",
       "<circle clip-path=\"url(#clip090)\" cx=\"1685.37\" cy=\"272.585\" r=\"20.06\" fill=\"#e26f46\" fill-rule=\"evenodd\" fill-opacity=\"1\" stroke=\"#000000\" stroke-opacity=\"1\" stroke-width=\"4.55111\"/>\n",
       "<path clip-path=\"url(#clip090)\" d=\"M1803.9 256.439 L1803.9 260.999 Q1801.24 259.726 1798.88 259.101 Q1796.52 258.476 1794.32 258.476 Q1790.5 258.476 1788.41 259.957 Q1786.35 261.439 1786.35 264.17 Q1786.35 266.462 1787.72 267.643 Q1789.11 268.8 1792.95 269.518 L1795.78 270.096 Q1801.01 271.092 1803.48 273.615 Q1805.98 276.115 1805.98 280.328 Q1805.98 285.351 1802.6 287.943 Q1799.25 290.536 1792.74 290.536 Q1790.29 290.536 1787.51 289.98 Q1784.76 289.425 1781.79 288.337 L1781.79 283.522 Q1784.64 285.119 1787.37 285.929 Q1790.1 286.74 1792.74 286.74 Q1796.75 286.74 1798.92 285.166 Q1801.1 283.592 1801.1 280.675 Q1801.1 278.129 1799.53 276.693 Q1797.97 275.258 1794.41 274.541 L1791.56 273.985 Q1786.33 272.943 1783.99 270.721 Q1781.66 268.499 1781.66 264.541 Q1781.66 259.957 1784.87 257.319 Q1788.11 254.68 1793.79 254.68 Q1796.22 254.68 1798.74 255.119 Q1801.26 255.559 1803.9 256.439 Z\" fill=\"#000000\" fill-rule=\"nonzero\" fill-opacity=\"1\" /><path clip-path=\"url(#clip090)\" d=\"M1823.14 266.925 Q1819.71 266.925 1817.72 269.61 Q1815.73 272.272 1815.73 276.925 Q1815.73 281.578 1817.7 284.263 Q1819.69 286.925 1823.14 286.925 Q1826.54 286.925 1828.53 284.24 Q1830.52 281.555 1830.52 276.925 Q1830.52 272.318 1828.53 269.633 Q1826.54 266.925 1823.14 266.925 M1823.14 263.314 Q1828.69 263.314 1831.86 266.925 Q1835.03 270.536 1835.03 276.925 Q1835.03 283.291 1831.86 286.925 Q1828.69 290.536 1823.14 290.536 Q1817.56 290.536 1814.39 286.925 Q1811.24 283.291 1811.24 276.925 Q1811.24 270.536 1814.39 266.925 Q1817.56 263.314 1823.14 263.314 Z\" fill=\"#000000\" fill-rule=\"nonzero\" fill-opacity=\"1\" /><path clip-path=\"url(#clip090)\" d=\"M1842.1 253.846 L1846.35 253.846 L1846.35 289.865 L1842.1 289.865 L1842.1 253.846 Z\" fill=\"#000000\" fill-rule=\"nonzero\" fill-opacity=\"1\" /><path clip-path=\"url(#clip090)\" d=\"M1854.83 279.633 L1854.83 263.939 L1859.09 263.939 L1859.09 279.471 Q1859.09 283.152 1860.52 285.004 Q1861.96 286.832 1864.83 286.832 Q1868.28 286.832 1870.27 284.633 Q1872.28 282.434 1872.28 278.638 L1872.28 263.939 L1876.54 263.939 L1876.54 289.865 L1872.28 289.865 L1872.28 285.883 Q1870.73 288.244 1868.67 289.402 Q1866.63 290.536 1863.92 290.536 Q1859.46 290.536 1857.14 287.758 Q1854.83 284.98 1854.83 279.633 M1865.54 263.314 L1865.54 263.314 Z\" fill=\"#000000\" fill-rule=\"nonzero\" fill-opacity=\"1\" /><path clip-path=\"url(#clip090)\" d=\"M1903.97 264.934 L1903.97 268.916 Q1902.16 267.92 1900.34 267.434 Q1898.53 266.925 1896.68 266.925 Q1892.53 266.925 1890.24 269.564 Q1887.95 272.18 1887.95 276.925 Q1887.95 281.67 1890.24 284.309 Q1892.53 286.925 1896.68 286.925 Q1898.53 286.925 1900.34 286.439 Q1902.16 285.929 1903.97 284.934 L1903.97 288.869 Q1902.19 289.703 1900.27 290.119 Q1898.37 290.536 1896.22 290.536 Q1890.36 290.536 1886.91 286.855 Q1883.46 283.175 1883.46 276.925 Q1883.46 270.582 1886.93 266.948 Q1890.43 263.314 1896.49 263.314 Q1898.46 263.314 1900.34 263.731 Q1902.21 264.124 1903.97 264.934 M1897.95 289.865 Q1899.22 291.3 1899.85 292.504 Q1900.47 293.73 1900.47 294.841 Q1900.47 296.902 1899.09 297.943 Q1897.7 299.008 1894.97 299.008 Q1893.9 299.008 1892.88 298.869 Q1891.89 298.73 1890.89 298.453 L1890.89 295.42 Q1891.68 295.814 1892.53 295.976 Q1893.39 296.161 1894.48 296.161 Q1895.84 296.161 1896.54 295.605 Q1897.23 295.05 1897.23 293.985 Q1897.23 293.291 1896.72 292.272 Q1896.24 291.277 1895.2 289.865 L1897.95 289.865 Z\" fill=\"#000000\" fill-rule=\"nonzero\" fill-opacity=\"1\" /><path clip-path=\"url(#clip090)\" d=\"M1923.16 276.832 Q1918 276.832 1916.01 278.013 Q1914.02 279.193 1914.02 282.041 Q1914.02 284.309 1915.5 285.652 Q1917 286.971 1919.57 286.971 Q1923.11 286.971 1925.24 284.471 Q1927.4 281.948 1927.4 277.781 L1927.4 276.832 L1923.16 276.832 M1931.65 275.073 L1931.65 289.865 L1927.4 289.865 L1927.4 285.929 Q1925.94 288.291 1923.76 289.425 Q1921.59 290.536 1918.44 290.536 Q1914.46 290.536 1912.09 288.314 Q1909.76 286.068 1909.76 282.318 Q1909.76 277.943 1912.67 275.721 Q1915.61 273.499 1921.42 273.499 L1927.4 273.499 L1927.4 273.082 Q1927.4 270.143 1925.45 268.545 Q1923.53 266.925 1920.03 266.925 Q1917.81 266.925 1915.71 267.457 Q1913.6 267.99 1911.65 269.055 L1911.65 265.119 Q1913.99 264.217 1916.19 263.777 Q1918.39 263.314 1920.47 263.314 Q1926.1 263.314 1928.88 266.231 Q1931.65 269.147 1931.65 275.073 M1920.57 258.152 L1919.25 256.879 Q1918.74 256.416 1918.34 256.207 Q1917.97 255.976 1917.67 255.976 Q1916.79 255.976 1916.38 256.832 Q1915.96 257.666 1915.91 259.564 L1913.02 259.564 Q1913.07 256.439 1914.25 254.749 Q1915.43 253.036 1917.53 253.036 Q1918.41 253.036 1919.15 253.36 Q1919.9 253.684 1920.75 254.448 L1922.07 255.721 Q1922.58 256.184 1922.95 256.416 Q1923.34 256.624 1923.65 256.624 Q1924.53 256.624 1924.94 255.791 Q1925.36 254.934 1925.4 253.036 L1928.3 253.036 Q1928.25 256.161 1927.07 257.874 Q1925.89 259.564 1923.78 259.564 Q1922.9 259.564 1922.16 259.24 Q1921.42 258.916 1920.57 258.152 Z\" fill=\"#000000\" fill-rule=\"nonzero\" fill-opacity=\"1\" /><path clip-path=\"url(#clip090)\" d=\"M1950.47 266.925 Q1947.05 266.925 1945.06 269.61 Q1943.07 272.272 1943.07 276.925 Q1943.07 281.578 1945.03 284.263 Q1947.03 286.925 1950.47 286.925 Q1953.88 286.925 1955.87 284.24 Q1957.86 281.555 1957.86 276.925 Q1957.86 272.318 1955.87 269.633 Q1953.88 266.925 1950.47 266.925 M1950.47 263.314 Q1956.03 263.314 1959.2 266.925 Q1962.37 270.536 1962.37 276.925 Q1962.37 283.291 1959.2 286.925 Q1956.03 290.536 1950.47 290.536 Q1944.9 290.536 1941.72 286.925 Q1938.58 283.291 1938.58 276.925 Q1938.58 270.536 1941.72 266.925 Q1944.9 263.314 1950.47 263.314 Z\" fill=\"#000000\" fill-rule=\"nonzero\" fill-opacity=\"1\" /><path clip-path=\"url(#clip090)\" d=\"M1996.28 276.832 Q1991.12 276.832 1989.13 278.013 Q1987.14 279.193 1987.14 282.041 Q1987.14 284.309 1988.62 285.652 Q1990.13 286.971 1992.7 286.971 Q1996.24 286.971 1998.37 284.471 Q2000.52 281.948 2000.52 277.781 L2000.52 276.832 L1996.28 276.832 M2004.78 275.073 L2004.78 289.865 L2000.52 289.865 L2000.52 285.929 Q1999.06 288.291 1996.89 289.425 Q1994.71 290.536 1991.56 290.536 Q1987.58 290.536 1985.22 288.314 Q1982.88 286.068 1982.88 282.318 Q1982.88 277.943 1985.8 275.721 Q1988.74 273.499 1994.55 273.499 L2000.52 273.499 L2000.52 273.082 Q2000.52 270.143 1998.58 268.545 Q1996.65 266.925 1993.16 266.925 Q1990.94 266.925 1988.83 267.457 Q1986.72 267.99 1984.78 269.055 L1984.78 265.119 Q1987.12 264.217 1989.32 263.777 Q1991.52 263.314 1993.6 263.314 Q1999.22 263.314 2002 266.231 Q2004.78 269.147 2004.78 275.073 Z\" fill=\"#000000\" fill-rule=\"nonzero\" fill-opacity=\"1\" /><path clip-path=\"url(#clip090)\" d=\"M2017.67 285.976 L2017.67 299.726 L2013.39 299.726 L2013.39 263.939 L2017.67 263.939 L2017.67 267.874 Q2019.02 265.559 2021.05 264.448 Q2023.11 263.314 2025.96 263.314 Q2030.68 263.314 2033.62 267.064 Q2036.58 270.814 2036.58 276.925 Q2036.58 283.036 2033.62 286.786 Q2030.68 290.536 2025.96 290.536 Q2023.11 290.536 2021.05 289.425 Q2019.02 288.291 2017.67 285.976 M2032.16 276.925 Q2032.16 272.226 2030.22 269.564 Q2028.3 266.879 2024.92 266.879 Q2021.54 266.879 2019.59 269.564 Q2017.67 272.226 2017.67 276.925 Q2017.67 281.624 2019.59 284.309 Q2021.54 286.971 2024.92 286.971 Q2028.3 286.971 2030.22 284.309 Q2032.16 281.624 2032.16 276.925 Z\" fill=\"#000000\" fill-rule=\"nonzero\" fill-opacity=\"1\" /><path clip-path=\"url(#clip090)\" d=\"M2058.67 267.92 Q2057.95 267.504 2057.09 267.318 Q2056.26 267.11 2055.24 267.11 Q2051.63 267.11 2049.69 269.471 Q2047.77 271.809 2047.77 276.207 L2047.77 289.865 L2043.48 289.865 L2043.48 263.939 L2047.77 263.939 L2047.77 267.967 Q2049.11 265.606 2051.26 264.471 Q2053.41 263.314 2056.49 263.314 Q2056.93 263.314 2057.46 263.383 Q2058 263.43 2058.64 263.545 L2058.67 267.92 Z\" fill=\"#000000\" fill-rule=\"nonzero\" fill-opacity=\"1\" /><path clip-path=\"url(#clip090)\" d=\"M2072.14 266.925 Q2068.71 266.925 2066.72 269.61 Q2064.73 272.272 2064.73 276.925 Q2064.73 281.578 2066.7 284.263 Q2068.69 286.925 2072.14 286.925 Q2075.54 286.925 2077.53 284.24 Q2079.52 281.555 2079.52 276.925 Q2079.52 272.318 2077.53 269.633 Q2075.54 266.925 2072.14 266.925 M2072.14 263.314 Q2077.7 263.314 2080.87 266.925 Q2084.04 270.536 2084.04 276.925 Q2084.04 283.291 2080.87 286.925 Q2077.7 290.536 2072.14 290.536 Q2066.56 290.536 2063.39 286.925 Q2060.24 283.291 2060.24 276.925 Q2060.24 270.536 2063.39 266.925 Q2066.56 263.314 2072.14 263.314 Z\" fill=\"#000000\" fill-rule=\"nonzero\" fill-opacity=\"1\" /><path clip-path=\"url(#clip090)\" d=\"M2111.19 263.939 L2101.82 276.555 L2111.68 289.865 L2106.65 289.865 L2099.11 279.68 L2091.56 289.865 L2086.54 289.865 L2096.61 276.3 L2087.39 263.939 L2092.42 263.939 L2099.29 273.175 L2106.17 263.939 L2111.19 263.939 Z\" fill=\"#000000\" fill-rule=\"nonzero\" fill-opacity=\"1\" /><path clip-path=\"url(#clip090)\" d=\"M2117.7 263.939 L2121.95 263.939 L2121.95 289.865 L2117.7 289.865 L2117.7 263.939 M2117.7 253.846 L2121.95 253.846 L2121.95 259.24 L2117.7 259.24 L2117.7 253.846 Z\" fill=\"#000000\" fill-rule=\"nonzero\" fill-opacity=\"1\" /><path clip-path=\"url(#clip090)\" d=\"M2151.05 268.916 Q2152.65 266.045 2154.87 264.68 Q2157.09 263.314 2160.1 263.314 Q2164.15 263.314 2166.35 266.161 Q2168.55 268.985 2168.55 274.217 L2168.55 289.865 L2164.27 289.865 L2164.27 274.355 Q2164.27 270.629 2162.95 268.823 Q2161.63 267.018 2158.92 267.018 Q2155.61 267.018 2153.69 269.217 Q2151.77 271.416 2151.77 275.212 L2151.77 289.865 L2147.49 289.865 L2147.49 274.355 Q2147.49 270.605 2146.17 268.823 Q2144.85 267.018 2142.09 267.018 Q2138.83 267.018 2136.91 269.24 Q2134.99 271.439 2134.99 275.212 L2134.99 289.865 L2130.7 289.865 L2130.7 263.939 L2134.99 263.939 L2134.99 267.967 Q2136.45 265.582 2138.48 264.448 Q2140.52 263.314 2143.32 263.314 Q2146.14 263.314 2148.11 264.749 Q2150.1 266.184 2151.05 268.916 Z\" fill=\"#000000\" fill-rule=\"nonzero\" fill-opacity=\"1\" /><path clip-path=\"url(#clip090)\" d=\"M2188.83 276.832 Q2183.67 276.832 2181.68 278.013 Q2179.69 279.193 2179.69 282.041 Q2179.69 284.309 2181.17 285.652 Q2182.67 286.971 2185.24 286.971 Q2188.78 286.971 2190.91 284.471 Q2193.07 281.948 2193.07 277.781 L2193.07 276.832 L2188.83 276.832 M2197.32 275.073 L2197.32 289.865 L2193.07 289.865 L2193.07 285.929 Q2191.61 288.291 2189.43 289.425 Q2187.26 290.536 2184.11 290.536 Q2180.13 290.536 2177.76 288.314 Q2175.43 286.068 2175.43 282.318 Q2175.43 277.943 2178.34 275.721 Q2181.28 273.499 2187.09 273.499 L2193.07 273.499 L2193.07 273.082 Q2193.07 270.143 2191.12 268.545 Q2189.2 266.925 2185.7 266.925 Q2183.48 266.925 2181.38 267.457 Q2179.27 267.99 2177.32 269.055 L2177.32 265.119 Q2179.66 264.217 2181.86 263.777 Q2184.06 263.314 2186.14 263.314 Q2191.77 263.314 2194.55 266.231 Q2197.32 269.147 2197.32 275.073 Z\" fill=\"#000000\" fill-rule=\"nonzero\" fill-opacity=\"1\" /><path clip-path=\"url(#clip090)\" d=\"M2223.16 267.874 L2223.16 253.846 L2227.42 253.846 L2227.42 289.865 L2223.16 289.865 L2223.16 285.976 Q2221.82 288.291 2219.76 289.425 Q2217.72 290.536 2214.85 290.536 Q2210.15 290.536 2207.19 286.786 Q2204.25 283.036 2204.25 276.925 Q2204.25 270.814 2207.19 267.064 Q2210.15 263.314 2214.85 263.314 Q2217.72 263.314 2219.76 264.448 Q2221.82 265.559 2223.16 267.874 M2208.64 276.925 Q2208.64 281.624 2210.57 284.309 Q2212.51 286.971 2215.89 286.971 Q2219.27 286.971 2221.21 284.309 Q2223.16 281.624 2223.16 276.925 Q2223.16 272.226 2221.21 269.564 Q2219.27 266.879 2215.89 266.879 Q2212.51 266.879 2210.57 269.564 Q2208.64 272.226 2208.64 276.925 Z\" fill=\"#000000\" fill-rule=\"nonzero\" fill-opacity=\"1\" /><path clip-path=\"url(#clip090)\" d=\"M2247.97 276.832 Q2242.81 276.832 2240.82 278.013 Q2238.83 279.193 2238.83 282.041 Q2238.83 284.309 2240.31 285.652 Q2241.82 286.971 2244.38 286.971 Q2247.93 286.971 2250.06 284.471 Q2252.21 281.948 2252.21 277.781 L2252.21 276.832 L2247.97 276.832 M2256.47 275.073 L2256.47 289.865 L2252.21 289.865 L2252.21 285.929 Q2250.75 288.291 2248.57 289.425 Q2246.4 290.536 2243.25 290.536 Q2239.27 290.536 2236.91 288.314 Q2234.57 286.068 2234.57 282.318 Q2234.57 277.943 2237.49 275.721 Q2240.43 273.499 2246.24 273.499 L2252.21 273.499 L2252.21 273.082 Q2252.21 270.143 2250.26 268.545 Q2248.34 266.925 2244.85 266.925 Q2242.63 266.925 2240.52 267.457 Q2238.41 267.99 2236.47 269.055 L2236.47 265.119 Q2238.81 264.217 2241 263.777 Q2243.2 263.314 2245.29 263.314 Q2250.91 263.314 2253.69 266.231 Q2256.47 269.147 2256.47 275.073 Z\" fill=\"#000000\" fill-rule=\"nonzero\" fill-opacity=\"1\" /></svg>\n"
      ]
     },
     "metadata": {},
     "output_type": "display_data"
    }
   ],
   "source": [
    "x = x_min:0.01:x_max\n",
    "malha = x_min:h:x_max\n",
    "\n",
    "plt = plot(x, u.(x), label=\"Solução exata\", lw=3, title=\"Comparação entre solução exata e aproximada\")\n",
    "plot!(plt, malha, [0; c; 0], label=\"Solução aproximada\", lw=3, linestyle=:solid, markershape=:circle)"
   ]
  },
  {
   "cell_type": "code",
   "execution_count": 504,
   "metadata": {
    "colab": {
     "base_uri": "https://localhost:8080/"
    },
    "id": "5lcJGyAyaYub",
    "outputId": "ed8ab13d-59c3-450e-8a4e-5982206c7f96"
   },
   "outputs": [
    {
     "data": {
      "text/plain": [
       "3×3 SparseMatrixCSC{Float64, Int64} with 7 stored entries:\n",
       "  8.16667  -3.45833    ⋅ \n",
       " -4.45833   8.16667  -3.45833\n",
       "   ⋅       -4.45833   8.16667"
      ]
     },
     "metadata": {},
     "output_type": "display_data"
    }
   ],
   "source": [
    "K"
   ]
  },
  {
   "cell_type": "code",
   "execution_count": 505,
   "metadata": {
    "colab": {
     "base_uri": "https://localhost:8080/"
    },
    "id": "_nuPvAMnaYub",
    "outputId": "95578016-ba20-4423-935b-2c8cef14af1e"
   },
   "outputs": [
    {
     "data": {
      "text/plain": [
       "3-element Vector{Float64}:\n",
       " 2.352121770752068\n",
       " 2.5805560513947237\n",
       " 1.2973355955943129"
      ]
     },
     "metadata": {},
     "output_type": "display_data"
    }
   ],
   "source": [
    "F"
   ]
  },
  {
   "cell_type": "markdown",
   "metadata": {
    "id": "4PJo0-UAaYub"
   },
   "source": [
    "#### Resultados numéricos - Erro"
   ]
  },
  {
   "cell_type": "markdown",
   "metadata": {
    "id": "_JO1qokyaYub"
   },
   "source": [
    "Erro entre a solução aproximada e a solução exata"
   ]
  },
  {
   "cell_type": "code",
   "execution_count": 506,
   "metadata": {
    "colab": {
     "base_uri": "https://localhost:8080/"
    },
    "id": "u68WMDLbaYub",
    "outputId": "04f85d85-dba6-438e-c57c-9d613862cce8"
   },
   "outputs": [
    {
     "data": {
      "text/plain": [
       "0.036236897255589685"
      ]
     },
     "metadata": {},
     "output_type": "display_data"
    }
   ],
   "source": [
    "error_L2_norm(u, [c; 0], n_elements, EQoLG)"
   ]
  },
  {
   "cell_type": "markdown",
   "metadata": {
    "id": "kde6aAnyaYub"
   },
   "source": [
    "Estudo da convergência do erro"
   ]
  },
  {
   "cell_type": "code",
   "execution_count": 507,
   "metadata": {
    "colab": {
     "base_uri": "https://localhost:8080/"
    },
    "id": "7TeyJeqpaYub",
    "outputId": "dc95c1b9-b260-4207-f39d-6159937ab9f1"
   },
   "outputs": [
    {
     "data": {
      "text/plain": [
       "error_convergence (generic function with 2 methods)"
      ]
     },
     "metadata": {},
     "output_type": "display_data"
    }
   ],
   "source": [
    "function error_convergence()\n",
    "    # lista com 2^2, 2^3, ..., 2^17\n",
    "    vec_n_elements = [2^i for i = 2:17]\n",
    "    # lista para guardar os erros de cada número de elementos de 2^2, 2^3, ..., 2^17\n",
    "    vec_errors = zeros(length(vec_n_elements))\n",
    "\n",
    "    # executa o método e guarda o erro associado para cada número de elementos\n",
    "    for i = 1:length(vec_n_elements)\n",
    "        n_elements = vec_n_elements[i]\n",
    "\n",
    "        LG = get_LG(n_elements)\n",
    "        m, EQ = get_EQ(n_elements)\n",
    "        EQoLG = EQ[LG]\n",
    "\n",
    "        K = get_K(n_elements, m, EQoLG)\n",
    "        F = get_F(n_elements, m, EQoLG)\n",
    "\n",
    "        c = K \\ F\n",
    "\n",
    "        vec_errors[i] = error_L2_norm([c; 0], n_elements, EQoLG)\n",
    "    end\n",
    "\n",
    "    vec_h = 1 ./ vec_n_elements\n",
    "\n",
    "    display(DataFrame(h=vec_h, erro=vec_errors))\n",
    "\n",
    "    plt = plot(vec_h, vec_errors, lw=3, linestyle=:solid, markershape=:circle, label=\"Erro\", title=\"Estudo do erro no exemplo\", xscale=:log10, yscale=:log10)\n",
    "    plot!(plt, vec_h, vec_h.^2, lw=3, linestyle=:solid, label=\"h^2\")\n",
    "end"
   ]
  },
  {
   "cell_type": "code",
   "execution_count": 508,
   "metadata": {
    "colab": {
     "base_uri": "https://localhost:8080/",
     "height": 831
    },
    "id": "a8utfwMoaYub",
    "outputId": "e08f36e8-e570-4144-8b1a-f8e2595396f3"
   },
   "outputs": [],
   "source": [
    "# error_convergence()"
   ]
  },
  {
   "cell_type": "markdown",
   "metadata": {
    "id": "NLIxke5faYuc"
   },
   "source": []
  },
  {
   "cell_type": "markdown",
   "metadata": {
    "id": "gwTWdAAieX-l"
   },
   "source": [
    "## Equação do calor"
   ]
  },
  {
   "cell_type": "code",
   "execution_count": 509,
   "metadata": {
    "colab": {
     "base_uri": "https://localhost:8080/"
    },
    "id": "F2nSoI9XeeVE",
    "outputId": "a0bcac5a-2449-4ff0-d140-b1863adb2ebb"
   },
   "outputs": [
    {
     "data": {
      "text/plain": [
       "get_C_0! (generic function with 1 method)"
      ]
     },
     "metadata": {},
     "output_type": "display_data"
    }
   ],
   "source": [
    "function get_C_0!(C_0, u_0, n_elements, m, EQoLG, method)\n",
    "  if method == 1\n",
    "    h = 1/n_elements\n",
    "    @. C_0 = u_0(h:h:1-h)\n",
    "  elseif method == 2\n",
    "    C_0 .= get_K(0.0, 1.0, n_elements, m, EQoLG) \\ get_F(u_0, n_elements, m, EQoLG)\n",
    "  end\n",
    "end"
   ]
  },
  {
   "cell_type": "code",
   "execution_count": 510,
   "metadata": {
    "id": "-ccEVActhUde"
   },
   "outputs": [
    {
     "data": {
      "text/plain": [
       "get_C_n! (generic function with 2 methods)"
      ]
     },
     "metadata": {},
     "output_type": "display_data"
    }
   ],
   "source": [
    "function get_C_n!(C_n, C_n_, A, B, n_elements, m, EQoLG, τ, n, f)\n",
    "    t_medio = n*τ - τ/2\n",
    "    F = get_F(x -> f(x, t_medio), n_elements, m, EQoLG)\n",
    "\n",
    "    C_n .= A \\ (B*C_n_ + τ*F)\n",
    "end"
   ]
  },
  {
   "cell_type": "markdown",
   "metadata": {
    "id": "nDxmoHQnii-G"
   },
   "source": [
    "τ"
   ]
  },
  {
   "cell_type": "code",
   "execution_count": 511,
   "metadata": {},
   "outputs": [
    {
     "data": {
      "text/plain": [
       "f (generic function with 2 methods)"
      ]
     },
     "metadata": {},
     "output_type": "display_data"
    }
   ],
   "source": [
    "# definições das constantes utilizadas\n",
    "α = 1\n",
    "β = 1\n",
    "γ = 1\n",
    "T = 1 \n",
    "\n",
    "x_min = 0\n",
    "x_max = 1\n",
    "\n",
    "# definição das funções u, f\n",
    "function u(x, t)\n",
    "    return sin(π*x) * (exp(-t) / π^2)\n",
    "end\n",
    "\n",
    "function u_0(x)\n",
    "    return sin(π*x) / π^2 \n",
    "end\n",
    "\n",
    "\n",
    "function f(x, t)\n",
    "    return sin(π*x) * ((-1 + α*π^2 + β) * exp(-t) / π^2)\n",
    "end"
   ]
  },
  {
   "cell_type": "code",
   "execution_count": 512,
   "metadata": {
    "id": "yGN14nS3ig6J"
   },
   "outputs": [
    {
     "data": {
      "text/plain": [
       "1"
      ]
     },
     "metadata": {},
     "output_type": "display_data"
    }
   ],
   "source": [
    "n_elements = 4\n",
    "h = 1/n_elements\n",
    "\n",
    "τ = h \n",
    "t = 0:τ:T\n",
    "N = length(t) - 1\n",
    "\n",
    "LG = get_LG(n_elements)\n",
    "m, EQ = get_EQ(n_elements)\n",
    "EQoLG = EQ[LG]\n",
    "\n",
    "M = get_K(0.0, 1.0, n_elements, m, EQoLG)\n",
    "K = get_K(α, β, n_elements, m, EQoLG)\n",
    "\n",
    "A = M + (τ/2)*K \n",
    "B = M - (τ/2)*K \n",
    "\n",
    "C_n_ = zeros(m)\n",
    "C_n = zeros(m)\n",
    "method = 1"
   ]
  },
  {
   "cell_type": "code",
   "execution_count": 513,
   "metadata": {},
   "outputs": [
    {
     "data": {
      "text/plain": [
       "\"Erros na norma L²:\""
      ]
     },
     "metadata": {},
     "output_type": "display_data"
    },
    {
     "data": {
      "text/plain": [
       "5-element Vector{Float64}:\n",
       " 0.003980336614548407\n",
       " 0.0034617491740433952\n",
       " 0.002833379122091966\n",
       " 0.0021751737675306908\n",
       " 0.001581797936894704"
      ]
     },
     "metadata": {},
     "output_type": "display_data"
    },
    {
     "data": {
      "text/plain": [
       "\"Erro máximo na norma L²:\""
      ]
     },
     "metadata": {},
     "output_type": "display_data"
    },
    {
     "data": {
      "text/plain": [
       "0.003980336614548407"
      ]
     },
     "metadata": {},
     "output_type": "display_data"
    },
    {
     "name": "stderr",
     "output_type": "stream",
     "text": [
      "┌ Info: Saved animation to /home/pedro/Desktop/Elementos-Finitos/solucao_exata_vs_aproximada.gif\n",
      "└ @ Plots /home/pedro/.julia/packages/Plots/kLeqV/src/animation.jl:156\n"
     ]
    },
    {
     "data": {
      "text/html": [
       "<img src=\"data:image/gif;base64,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\" />"
      ],
      "text/plain": [
       "Plots.AnimatedGif(\"/home/pedro/Desktop/Elementos-Finitos/solucao_exata_vs_aproximada.gif\")"
      ]
     },
     "metadata": {},
     "output_type": "display_data"
    }
   ],
   "source": [
    "x = x_min:0.01:x_max\n",
    "malha = x_min:h:x_max\n",
    "\n",
    "y_list = [u(x, t) for x in x, t in t]\n",
    "errors = zeros(N+1)\n",
    "\n",
    "anim = @animate for n = 0:N\n",
    "    # Calcula C⁰\n",
    "    if n == 0\n",
    "        get_C_0!(C_n_, u_0, n_elements, m, EQoLG, method)\n",
    "        \n",
    "    else\n",
    "        # Calcula Cⁿ para n>0\n",
    "        get_C_n!(C_n, C_n_, A, B, n_elements, m, EQoLG, τ, n, f)\n",
    "        C_n_ .= C_n\n",
    "    end\n",
    "\n",
    "    # Calcula o erro na norma L²\n",
    "    errors[n+1] = error_L2_norm(x -> u(x, t[n+1]), [C_n_; 0], n_elements, EQoLG)\n",
    "\n",
    "    # Cria a figura com layout único\n",
    "    plt = plot(size=(800, 400),\n",
    "        title=\"Soluções Exata e Aproximada em t_$(n)=$(t[n+1])\",\n",
    "        xlabel=\"x\",\n",
    "        legend=:topright,\n",
    "        ylim=(minimum(y_list), maximum(y_list)))\n",
    "\n",
    "    # Gráfico da solução exata u(x, t[n+1])\n",
    "    plot!(plt, x, u.(x, t[n+1]),\n",
    "        lw=3, color=:blue, label=\"u(x,t_$(n))\")\n",
    "\n",
    "    # Gráfico da solução aproximada Uⁿ(x)\n",
    "    plot!(plt, malha, [0; C_n_; 0],\n",
    "        lw=3, color=:red, linestyle=:dash, markershape=:circle, label=\"U^$(n)(x)\")\n",
    "end\n",
    "\n",
    "# Exibe o erro na norma L²\n",
    "display(\"Erros na norma L²:\")\n",
    "display(errors)\n",
    "\n",
    "# Exibe o erro máximo na norma L²\n",
    "display(\"Erro máximo na norma L²:\")\n",
    "display(maximum(errors))\n",
    "\n",
    "gif(anim, \"solucao_exata_vs_aproximada.gif\", fps=1)\n"
   ]
  },
  {
   "cell_type": "code",
   "execution_count": 514,
   "metadata": {},
   "outputs": [
    {
     "data": {
      "text/plain": [
       "display_errors (generic function with 1 method)"
      ]
     },
     "metadata": {},
     "output_type": "display_data"
    }
   ],
   "source": [
    "function error_convergence(method)\n",
    "    # lista com 2^2, 2^3, ..., 2^17\n",
    "    vec_n_elements = [2^i for i = 2:11]\n",
    "    # lista para guardar os erros de cada número de elementos de 2^2, 2^3, ..., 2^17\n",
    "    vec_errors = zeros(length(vec_n_elements))\n",
    "\n",
    "    vec_h = 1 ./ vec_n_elements \n",
    "    vec_τ = vec_h\n",
    "\n",
    "    # executa o método e guarda o erro associado para cada número de elementos\n",
    "    for i = 1:length(vec_n_elements)\n",
    "        n_elements = vec_n_elements[i]\n",
    "        h = vec_h[i] \n",
    "        τ = vec_τ[i]\n",
    "        t = 0:τ:T\n",
    "        N = length(t) - 1\n",
    "\n",
    "        LG = get_LG(n_elements)\n",
    "        m, EQ = get_EQ(n_elements)\n",
    "        EQoLG = EQ[LG]\n",
    "\n",
    "        M = get_K(0.0, 1.0, n_elements, m, EQoLG)\n",
    "        K = get_K(α, β, n_elements, m, EQoLG)\n",
    "\n",
    "        A = M + (τ/2)*K \n",
    "        B = M - (τ/2)*K \n",
    "        \n",
    "        C_n_ = zeros(m)\n",
    "        C_n = zeros(m)\n",
    "\n",
    "        LU_A = lu(A)\n",
    "        \n",
    "        errors = zeros(N+1)\n",
    "\n",
    "        get_C_0!(C_n_, u_0, n_elements, m, EQoLG, method)\n",
    "        errors[1] = error_L2_norm(u_0, [C_n_; 0], n_elements, EQoLG)\n",
    "\n",
    "        for n = 1:N  \n",
    "        # Calcula Cⁿ para n>0\n",
    "            get_C_n!(C_n, C_n_, LU_A, B, n_elements, m, EQoLG, τ, n, f)\n",
    "            C_n_ .= C_n\n",
    "            errors[n+1] = error_L2_norm(x -> u(x, t[n+1]), [C_n_; 0], n_elements, EQoLG)\n",
    "        end\n",
    "\n",
    "        vec_errors[i] = maximum(errors)\n",
    "    end\n",
    "\n",
    "    return vec_h, vec_errors\n",
    "end\n",
    "\n",
    "\n",
    "function display_errors(vec_h, vec_errors)\n",
    "    plt = plot(\n",
    "        vec_h, vec_errors, lw=3, linestyle=:solid, markershape=:circle,\n",
    "        label=\"Erro\", title=\"Estudo do erro\",\n",
    "        xscale=:log10, yscale=:log10, legend=:topleft\n",
    "    )\n",
    "\n",
    "    plot!(plt, vec_h, vec_h .^ 2, lw=3, linestyle=:solid, label=\"h²\")\n",
    "\n",
    "    xlabel!(\"h\")\n",
    "    ylabel!(\"Erro\")\n",
    "\n",
    "    display(plt)\n",
    "\n",
    "    # Exibe a tabela com os valores de h e erro\n",
    "    display(\"Tabela com os valores de h e erro\")\n",
    "    display(DataFrame(h=vec_h, erro=vec_errors))\n",
    "end"
   ]
  },
  {
   "cell_type": "code",
   "execution_count": 515,
   "metadata": {},
   "outputs": [],
   "source": [
    "# vec_h, vec_errors = error_convergence(1)\n",
    "# display_errors(vec_h, vec_errors)"
   ]
  },
  {
   "cell_type": "code",
   "execution_count": 516,
   "metadata": {},
   "outputs": [],
   "source": [
    "# vec_h, vec_errors = error_convergence(2)\n",
    "# display_errors(vec_h, vec_errors)"
   ]
  },
  {
   "cell_type": "markdown",
   "metadata": {},
   "source": [
    "## Trabalho 2 - Equação não linear "
   ]
  },
  {
   "cell_type": "markdown",
   "metadata": {},
   "source": [
    "#### Construção do vetor $G^e$ local e G global"
   ]
  },
  {
   "cell_type": "code",
   "execution_count": 517,
   "metadata": {},
   "outputs": [
    {
     "data": {
      "text/plain": [
       "get_G (generic function with 1 method)"
      ]
     },
     "metadata": {},
     "output_type": "display_data"
    }
   ],
   "source": [
    "function get_G_e(g, h, x1e, P, W, c1, c2)\n",
    "    G_e = zeros(2)\n",
    "\n",
    "    for a = 1:2\n",
    "        for j in 1:length(P)\n",
    "            x = x_from_ξ(P[j], h, x1e)\n",
    "            #G_e[a] += W[j] * g(c1*φ(x, 1) + c2*φ(x, 2)) * φ(P[j], a) * h/2\n",
    "            G_e[a] += W[j] * g(c1*φ(P[j], 1) + c2*φ(P[j], 2)) * φ(P[j], a) * h/2\n",
    "        end\n",
    "    end\n",
    "\n",
    "    return G_e\n",
    "end\n",
    "\n",
    "\n",
    "function get_G(g, ne, m, EQoLG)\n",
    "    h = 1/ne \n",
    "    G = zeros(m+1)\n",
    "    P, W = legendre(5)\n",
    "\n",
    "    for e = 1:ne \n",
    "        c1 = EQoLG[1, e]\n",
    "        c2 = EQoLG[2, e]\n",
    "        G_e = get_G_e(g, h, (e-1)*h, P, W, c1, c2)\n",
    "        for a = 1:2\n",
    "            i = EQoLG[a, e]\n",
    "            G[i] += G_e[a]\n",
    "        end \n",
    "    end\n",
    "\n",
    "    return G[1:m]\n",
    "end "
   ]
  },
  {
   "cell_type": "markdown",
   "metadata": {},
   "source": [
    "#### Definições das funções necessárias"
   ]
  },
  {
   "cell_type": "code",
   "execution_count": 518,
   "metadata": {},
   "outputs": [
    {
     "data": {
      "text/plain": [
       "get_C_1! (generic function with 1 method)"
      ]
     },
     "metadata": {},
     "output_type": "display_data"
    }
   ],
   "source": [
    "function get_C_1!(C_0, C_1, A, B, n_elements, m, EQoLG, τ, n, f, g)\n",
    "    t_medio = n*τ - τ/2\n",
    "    F = get_F(x -> f(x, t_medio), n_elements, m, EQoLG)\n",
    "    G = get_G(g, n_elements, m, EQoLG)\n",
    "    \n",
    "    # calculando o C_1 provisório\n",
    "    C_1 .= A \\ (B*C_0 - τ*G + τ*F)\n",
    "\n",
    "    # calculando o C_1\n",
    "    G = get_G(g, n_elements, m, EQoLG)\n",
    "    C_1 .= A \\ (B*C_0 - τ*G + τ*F)\n",
    "end"
   ]
  },
  {
   "cell_type": "code",
   "execution_count": 519,
   "metadata": {},
   "outputs": [
    {
     "data": {
      "text/plain": [
       "get_C_n! (generic function with 2 methods)"
      ]
     },
     "metadata": {},
     "output_type": "display_data"
    }
   ],
   "source": [
    "function get_C_n!(C_n_two, C_n_one, C_n, A, B, n_elements, m, EQoLG, τ, n, f, g)\n",
    "    t_medio = n*τ - τ/2\n",
    "    F = get_F(x -> f(x, t_medio), n_elements, m, EQoLG)\n",
    "    G = get_G(g, n_elements, m, EQoLG)\n",
    "\n",
    "    C_n .= A \\ (B*C_n_one - τ*G - τ*F)\n",
    "end"
   ]
  },
  {
   "cell_type": "markdown",
   "metadata": {},
   "source": [
    "#### Exemplo 1"
   ]
  },
  {
   "cell_type": "code",
   "execution_count": 520,
   "metadata": {},
   "outputs": [
    {
     "data": {
      "text/plain": [
       "u (generic function with 2 methods)"
      ]
     },
     "metadata": {},
     "output_type": "display_data"
    }
   ],
   "source": [
    "α = 1\n",
    "β = 1\n",
    "T = 1 \n",
    "\n",
    "x_min = 0\n",
    "x_max = 1\n",
    "\n",
    "function g(s)\n",
    "    return s^3 - 2*s\n",
    "end \n",
    "\n",
    "function u_0(x)\n",
    "    return sin(π*x)/π^2\n",
    "end \n",
    "\n",
    "\n",
    "function f(x, t)\n",
    "    return (-1+α*π^2+β)*sin(π*x)*exp(-t) / π^2 + g(sin(π*x)*exp(-t)/π^2)\n",
    "end\n",
    "    \n",
    "\n",
    "function u(x, t)\n",
    "    return (sin(π*x)*exp(-t)) / π^2\n",
    "end"
   ]
  },
  {
   "cell_type": "code",
   "execution_count": 521,
   "metadata": {},
   "outputs": [
    {
     "data": {
      "text/plain": [
       "1"
      ]
     },
     "metadata": {},
     "output_type": "display_data"
    }
   ],
   "source": [
    "n_elements = 4\n",
    "h = 1/n_elements\n",
    "\n",
    "τ = h\n",
    "t = 0:τ:T\n",
    "N = length(t) - 1\n",
    "\n",
    "LG = get_LG(n_elements)\n",
    "m, EQ = get_EQ(n_elements)\n",
    "EQoLG = EQ[LG]\n",
    "\n",
    "M = get_K(0.0, 1.0, n_elements, m, EQoLG)\n",
    "K = get_K(α, β, n_elements, m, EQoLG)\n",
    "\n",
    "A = M + (τ/2)*K \n",
    "B = M - (τ/2)*K \n",
    "\n",
    "C_n_two = zeros(m)\n",
    "C_n_one = zeros(m)\n",
    "C_n = zeros(m)\n",
    "method = 1"
   ]
  },
  {
   "cell_type": "code",
   "execution_count": 522,
   "metadata": {},
   "outputs": [
    {
     "data": {
      "text/plain": [
       "\"C_0\""
      ]
     },
     "metadata": {},
     "output_type": "display_data"
    },
    {
     "data": {
      "text/plain": [
       "3-element Vector{Float64}:\n",
       " 0.07164489603134454\n",
       " 0.10132118364233778\n",
       " 0.07164489603134454"
      ]
     },
     "metadata": {},
     "output_type": "display_data"
    },
    {
     "data": {
      "text/plain": [
       "\"C_1\""
      ]
     },
     "metadata": {},
     "output_type": "display_data"
    },
    {
     "data": {
      "text/plain": [
       "3-element Vector{Float64}:\n",
       " -0.11236085779563826\n",
       " -0.20528188715469584\n",
       " -1.377987377433037"
      ]
     },
     "metadata": {},
     "output_type": "display_data"
    },
    {
     "data": {
      "text/plain": [
       "\"C_2\""
      ]
     },
     "metadata": {},
     "output_type": "display_data"
    },
    {
     "data": {
      "text/plain": [
       "3-element Vector{Float64}:\n",
       " -0.11236085779563826\n",
       " -0.20528188715469584\n",
       " -1.377987377433037"
      ]
     },
     "metadata": {},
     "output_type": "display_data"
    },
    {
     "data": {
      "text/plain": [
       "\"C_3\""
      ]
     },
     "metadata": {},
     "output_type": "display_data"
    },
    {
     "data": {
      "text/plain": [
       "3-element Vector{Float64}:\n",
       " -0.17422705921891227\n",
       " -1.3073455147343072\n",
       " -1.3476328702719296"
      ]
     },
     "metadata": {},
     "output_type": "display_data"
    },
    {
     "data": {
      "text/plain": [
       "\"C_4\""
      ]
     },
     "metadata": {},
     "output_type": "display_data"
    },
    {
     "data": {
      "text/plain": [
       "3-element Vector{Float64}:\n",
       " -1.0370634667088994\n",
       " -1.2233218967848951\n",
       " -1.3851552659083683"
      ]
     },
     "metadata": {},
     "output_type": "display_data"
    },
    {
     "data": {
      "text/plain": [
       "\"Erros na norma L²:\""
      ]
     },
     "metadata": {},
     "output_type": "display_data"
    },
    {
     "data": {
      "text/plain": [
       "5-element Vector{Float64}:\n",
       " 0.003980336614548407\n",
       " 0.012354738208216465\n",
       " 0.6242809694187968\n",
       " 0.9020606968801593\n",
       " 1.0237351787428353"
      ]
     },
     "metadata": {},
     "output_type": "display_data"
    },
    {
     "data": {
      "text/plain": [
       "\"Erro máximo na norma L²:\""
      ]
     },
     "metadata": {},
     "output_type": "display_data"
    },
    {
     "data": {
      "text/plain": [
       "1.0237351787428353"
      ]
     },
     "metadata": {},
     "output_type": "display_data"
    },
    {
     "name": "stderr",
     "output_type": "stream",
     "text": [
      "┌ Info: Saved animation to /home/pedro/Desktop/Elementos-Finitos/solucao_exata_vs_aproximada.gif\n",
      "└ @ Plots /home/pedro/.julia/packages/Plots/kLeqV/src/animation.jl:156\n"
     ]
    },
    {
     "data": {
      "text/html": [
       "<img src=\"data:image/gif;base64,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\" />"
      ],
      "text/plain": [
       "Plots.AnimatedGif(\"/home/pedro/Desktop/Elementos-Finitos/solucao_exata_vs_aproximada.gif\")"
      ]
     },
     "metadata": {},
     "output_type": "display_data"
    }
   ],
   "source": [
    "x = x_min:0.01:x_max\n",
    "malha = x_min:h:x_max\n",
    "\n",
    "y_list = [u(x, t) for x in x, t in t]\n",
    "errors = zeros(N+1)\n",
    "\n",
    "anim = @animate for n = 0:N\n",
    "    # Calcula C⁰\n",
    "    if n == 0\n",
    "        get_C_0!(C_n_two, u_0, n_elements, m, EQoLG, method)\n",
    "        C = C_n_two\n",
    "    elseif n == 1 \n",
    "        get_C_1!(C_n_two, C_n_one, A, B, n_elements, m, EQoLG, τ, n, f, g)\n",
    "        C = C_n_one\n",
    "    else\n",
    "        # Calcula Cⁿ para n>=2\n",
    "        get_C_n!(C_n_two, C_n_one, C_n, A, B, n_elements, m, EQoLG, τ, n, f, g)\n",
    "\n",
    "        C_n_two .= C_n_one \n",
    "        C_n_one .= C_n\n",
    "\n",
    "        C = C_n_two\n",
    "    end\n",
    "\n",
    "    # Calcula o erro na norma L²\n",
    "    errors[n+1] = error_L2_norm(x -> u(x, t[n+1]), [C_n_two; 0], n_elements, EQoLG)\n",
    "\n",
    "    # Cria a figura com layout único\n",
    "    plt = plot(size=(800, 400),\n",
    "        title=\"Soluções Exata e Aproximada em t_$(n)=$(t[n+1])\",\n",
    "        xlabel=\"x\",\n",
    "        legend=:topright,\n",
    "        ylim=(minimum(y_list), maximum(y_list)))\n",
    "\n",
    "    # Gráfico da solução exata u(x, t[n+1])\n",
    "    plot!(plt, x, u.(x, t[n+1]),\n",
    "        lw=3, color=:blue, label=\"u(x,t_$(n))\")\n",
    "\n",
    "    # Gráfico da solução aproximada Uⁿ(x)\n",
    "    plot!(plt, malha, [0; C; 0],\n",
    "        lw=3, color=:red, linestyle=:dash, markershape=:circle, label=\"U^$(n)(x)\")\n",
    "\n",
    "    display(\"C_$(n)\")\n",
    "    display(C)\n",
    "end\n",
    "\n",
    "# Exibe o erro na norma L²\n",
    "display(\"Erros na norma L²:\")\n",
    "display(errors)\n",
    "\n",
    "# Exibe o erro máximo na norma L²\n",
    "display(\"Erro máximo na norma L²:\")\n",
    "display(maximum(errors))\n",
    "\n",
    "gif(anim, \"solucao_exata_vs_aproximada.gif\", fps=1)"
   ]
  },
  {
   "cell_type": "code",
   "execution_count": 523,
   "metadata": {},
   "outputs": [
    {
     "data": {
      "text/plain": [
       "display_errors (generic function with 1 method)"
      ]
     },
     "metadata": {},
     "output_type": "display_data"
    }
   ],
   "source": [
    "function error_convergence(method)\n",
    "    # lista com 2^2, 2^3, ..., 2^17\n",
    "    vec_n_elements = [2^i for i = 2:11]\n",
    "    # lista para guardar os erros de cada número de elementos de 2^2, 2^3, ..., 2^17\n",
    "    vec_errors = zeros(length(vec_n_elements))\n",
    "\n",
    "    vec_h = 1 ./ vec_n_elements \n",
    "    vec_τ = vec_h\n",
    "\n",
    "    # executa o método e guarda o erro associado para cada número de elementos\n",
    "    for i = 1:length(vec_n_elements)\n",
    "        n_elements = vec_n_elements[i]\n",
    "        h = vec_h[i] \n",
    "        τ = vec_τ[i]\n",
    "        t = 0:τ:T\n",
    "        N = length(t) - 1\n",
    "\n",
    "        LG = get_LG(n_elements)\n",
    "        m, EQ = get_EQ(n_elements)\n",
    "        EQoLG = EQ[LG]\n",
    "\n",
    "        M = get_K(0.0, 1.0, n_elements, m, EQoLG)\n",
    "        K = get_K(α, β, n_elements, m, EQoLG)\n",
    "\n",
    "        A = M + (τ/2)*K \n",
    "        B = M - (τ/2)*K \n",
    "        \n",
    "        C_n_two = zeros(m)\n",
    "        C_n_one = zeros(m)\n",
    "        C_n = zeros(m)\n",
    "\n",
    "        LU_A = lu(A)\n",
    "        \n",
    "        errors = zeros(N+1)\n",
    "\n",
    "        get_C_0!(C_n_two, u_0, n_elements, m, EQoLG, method)\n",
    "        get_C_1!(C_n_two, C_n_one, A, B, n_elements, m, EQoLG, τ, 1, f, g)\n",
    "        errors[1] = error_L2_norm(u_0, [C_n_two; 0], n_elements, EQoLG)\n",
    "        errors[2] = error_L2_norm(u_0, [C_n_one; 0], n_elements, EQoLG)\n",
    "\n",
    "        for n = 2:N  \n",
    "        # Calcula Cⁿ para n>0\n",
    "        get_C_n!(C_n_two, C_n_one, C_n, A, B, n_elements, m, EQoLG, τ, n, f, g)\n",
    "            C_n_two .= C_n_one\n",
    "            C_n_one .= C_n\n",
    "            errors[n+1] = error_L2_norm(x -> u(x, t[n+1]), [C_n_one; 0], n_elements, EQoLG)\n",
    "        end\n",
    "\n",
    "        vec_errors[i] = maximum(errors)\n",
    "    end\n",
    "\n",
    "    return vec_h, vec_errors\n",
    "end\n",
    "\n",
    "\n",
    "function display_errors(vec_h, vec_errors)\n",
    "    plt = plot(\n",
    "        vec_h, vec_errors, lw=3, linestyle=:solid, markershape=:circle,\n",
    "        label=\"Erro\", title=\"Estudo do erro\",\n",
    "        xscale=:log10, yscale=:log10, legend=:topleft\n",
    "    )\n",
    "\n",
    "    plot!(plt, vec_h, vec_h .^ 2, lw=3, linestyle=:solid, label=\"h²\")\n",
    "\n",
    "    xlabel!(\"h\")\n",
    "    ylabel!(\"Erro\")\n",
    "\n",
    "    display(plt)\n",
    "\n",
    "    # Exibe a tabela com os valores de h e erro\n",
    "    display(\"Tabela com os valores de h e erro\")\n",
    "    display(DataFrame(h=vec_h, erro=vec_errors))\n",
    "end"
   ]
  },
  {
   "cell_type": "code",
   "execution_count": 524,
   "metadata": {},
   "outputs": [],
   "source": [
    "# vec_h, vec_errors = error_convergence(1)\n",
    "# display_errors(vec_h, vec_errors)"
   ]
  },
  {
   "cell_type": "markdown",
   "metadata": {},
   "source": [
    "#### Exemplo 2"
   ]
  },
  {
   "cell_type": "code",
   "execution_count": 525,
   "metadata": {},
   "outputs": [
    {
     "data": {
      "text/plain": [
       "f (generic function with 2 methods)"
      ]
     },
     "metadata": {},
     "output_type": "display_data"
    }
   ],
   "source": [
    "α = 1\n",
    "β = 1\n",
    "T = 1 \n",
    "\n",
    "x_min = 0\n",
    "x_max = 1\n",
    "\n",
    "function g(s)\n",
    "    return s^3 - 2*s\n",
    "end \n",
    "\n",
    "function u_0(x)\n",
    "    return sin(π*x)/π^2\n",
    "end \n",
    "\n",
    "\n",
    "function f(x, t)\n",
    "    return 0\n",
    "end"
   ]
  },
  {
   "cell_type": "code",
   "execution_count": 526,
   "metadata": {},
   "outputs": [
    {
     "data": {
      "text/plain": [
       "1"
      ]
     },
     "metadata": {},
     "output_type": "display_data"
    }
   ],
   "source": [
    "n_elements = 4\n",
    "h = 1/n_elements\n",
    "\n",
    "τ = h\n",
    "t = 0:τ:T\n",
    "N = length(t) - 1\n",
    "\n",
    "LG = get_LG(n_elements)\n",
    "m, EQ = get_EQ(n_elements)\n",
    "EQoLG = EQ[LG]\n",
    "\n",
    "M = get_K(0.0, 1.0, n_elements, m, EQoLG)\n",
    "K = get_K(α, β, n_elements, m, EQoLG)\n",
    "\n",
    "A = M + (τ/2)*K \n",
    "B = M - (τ/2)*K \n",
    "\n",
    "C_n_two = zeros(m)\n",
    "C_n_one = zeros(m)\n",
    "C_n = zeros(m)\n",
    "method = 1"
   ]
  },
  {
   "cell_type": "code",
   "execution_count": 527,
   "metadata": {},
   "outputs": [
    {
     "data": {
      "text/plain": [
       "\"C_0\""
      ]
     },
     "metadata": {},
     "output_type": "display_data"
    },
    {
     "data": {
      "text/plain": [
       "3-element Vector{Float64}:\n",
       " 0.07164489603134454\n",
       " 0.10132118364233778\n",
       " 0.07164489603134454"
      ]
     },
     "metadata": {},
     "output_type": "display_data"
    },
    {
     "data": {
      "text/plain": [
       "\"C_1\""
      ]
     },
     "metadata": {},
     "output_type": "display_data"
    },
    {
     "data": {
      "text/plain": [
       "3-element Vector{Float64}:\n",
       " -0.13293257375818723\n",
       " -0.25209879957888787\n",
       " -1.4429119577974523"
      ]
     },
     "metadata": {},
     "output_type": "display_data"
    },
    {
     "data": {
      "text/plain": [
       "\"C_2\""
      ]
     },
     "metadata": {},
     "output_type": "display_data"
    },
    {
     "data": {
      "text/plain": [
       "3-element Vector{Float64}:\n",
       " -0.13293257375818723\n",
       " -0.25209879957888787\n",
       " -1.4429119577974523"
      ]
     },
     "metadata": {},
     "output_type": "display_data"
    },
    {
     "data": {
      "text/plain": [
       "\"C_3\""
      ]
     },
     "metadata": {},
     "output_type": "display_data"
    },
    {
     "data": {
      "text/plain": [
       "3-element Vector{Float64}:\n",
       " -0.1781964793288587\n",
       " -1.3101302922823583\n",
       " -1.2878408908257737"
      ]
     },
     "metadata": {},
     "output_type": "display_data"
    },
    {
     "data": {
      "text/plain": [
       "\"C_4\""
      ]
     },
     "metadata": {},
     "output_type": "display_data"
    },
    {
     "data": {
      "text/plain": [
       "3-element Vector{Float64}:\n",
       " -1.0284101576104026\n",
       " -1.1472679100807814\n",
       " -1.3482623329986414"
      ]
     },
     "metadata": {},
     "output_type": "display_data"
    },
    {
     "name": "stderr",
     "output_type": "stream",
     "text": [
      "┌ Info: Saved animation to /home/pedro/Desktop/Elementos-Finitos/solucao_exata_vs_aproximada.gif\n",
      "└ @ Plots /home/pedro/.julia/packages/Plots/kLeqV/src/animation.jl:156\n"
     ]
    },
    {
     "data": {
      "text/html": [
       "<img src=\"data:image/gif;base64,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\" />"
      ],
      "text/plain": [
       "Plots.AnimatedGif(\"/home/pedro/Desktop/Elementos-Finitos/solucao_exata_vs_aproximada.gif\")"
      ]
     },
     "metadata": {},
     "output_type": "display_data"
    }
   ],
   "source": [
    "anim = @animate for n = 0:N\n",
    "    # Calcula C⁰\n",
    "    if n == 0\n",
    "        get_C_0!(C_n_two, u_0, n_elements, m, EQoLG, method)\n",
    "        C = C_n_two\n",
    "    elseif n == 1 \n",
    "        get_C_1!(C_n_two, C_n_one, A, B, n_elements, m, EQoLG, τ, n, f, g)\n",
    "        C = C_n_one\n",
    "    else\n",
    "        # Calcula Cⁿ para n>=2\n",
    "        get_C_n!(C_n_two, C_n_one, C_n, A, B, n_elements, m, EQoLG, τ, n, f, g)\n",
    "\n",
    "        C_n_two .= C_n_one \n",
    "        C_n_one .= C_n\n",
    "\n",
    "        C = C_n_two\n",
    "    end\n",
    "\n",
    "    # Cria a figura com layout único\n",
    "    plt = plot(size=(800, 400),\n",
    "        title=\"Soluções Aproximada em t_$(n)=$(t[n+1])\",\n",
    "        xlabel=\"x\",\n",
    "        legend=:topright,\n",
    "        ylim=(minimum(y_list), maximum(y_list)))\n",
    "\n",
    "    # Gráfico da solução aproximada Uⁿ(x)\n",
    "    plot!(plt, malha, [0; C; 0],\n",
    "        lw=3, color=:red, linestyle=:dash, markershape=:circle, label=\"U^$(n)(x)\")\n",
    "\n",
    "    display(\"C_$(n)\")\n",
    "    display(C)\n",
    "end\n",
    "\n",
    "gif(anim, \"solucao_exata_vs_aproximada.gif\", fps=1)"
   ]
  },
  {
   "cell_type": "markdown",
   "metadata": {},
   "source": [
    "# Estacionário 2D"
   ]
  },
  {
   "cell_type": "code",
   "execution_count": 528,
   "metadata": {},
   "outputs": [
    {
     "data": {
      "text/plain": [
       "φ (generic function with 2 methods)"
      ]
     },
     "metadata": {},
     "output_type": "display_data"
    }
   ],
   "source": [
    "function x1_from_ξ(ξ_1, h_1, p_1)\n",
    "    return (ξ_1 + 1)*(h_1/2) + p_1\n",
    "end\n",
    "\n",
    "\n",
    "function x2_from_ξ(ξ_2, h_2, p_2)\n",
    "    return (ξ_2 + 1)*(h_2/2) + p_2\n",
    "end\n",
    "\n",
    "\n",
    "function φ(ξ, ƞ, a)\n",
    "    if a == 1\n",
    "        return (1/4)*(1-ξ)*(1-ƞ)\n",
    "\n",
    "    elseif a == 2\n",
    "        return (1/4)*(1+ξ)*(1-ƞ)\n",
    "\n",
    "    elseif a == 3\n",
    "        return (1/4)*(1+ξ)*(1+ƞ)\n",
    "\n",
    "    elseif a == 4\n",
    "        return (1/4)*(1-ξ)*(1+ƞ)\n",
    "\n",
    "    end\n",
    "end"
   ]
  },
  {
   "cell_type": "code",
   "execution_count": 529,
   "metadata": {},
   "outputs": [
    {
     "data": {
      "text/plain": [
       "get_F_e (generic function with 2 methods)"
      ]
     },
     "metadata": {},
     "output_type": "display_data"
    }
   ],
   "source": [
    "function get_F_e(f, h1, h2, p1, p2, P, W)\n",
    "    F_e = zeros(4)\n",
    "\n",
    "    for a = 1:4\n",
    "        for j = 1:length(P)\n",
    "            for i = 1:length(P)\n",
    "                x1 = x1_from_ξ(P[j], h1, p1)\n",
    "                x2 = x2_from_ξ(P[i], h2, p2)\n",
    "\n",
    "                F_e[a] += W[j] * W[i] * f(x1, x2) * φ(P[j], P[i], a)\n",
    "            end\n",
    "        end\n",
    "    end\n",
    "\n",
    "    F_e = F_e * (h1*h2)/4\n",
    "    return F_e\n",
    "end"
   ]
  },
  {
   "cell_type": "code",
   "execution_count": 530,
   "metadata": {},
   "outputs": [
    {
     "data": {
      "text/plain": [
       "4-element Vector{Float64}:\n",
       " 0.9999999999999993\n",
       " 0.9999999999999998\n",
       " 1.0000000000000002\n",
       " 0.9999999999999998"
      ]
     },
     "metadata": {},
     "output_type": "display_data"
    }
   ],
   "source": [
    "h1 = 1/4\n",
    "h2 = 1/4\n",
    "p1 = 0.0\n",
    "p2 = 0.0\n",
    "\n",
    "P, W = legendre(5)\n",
    "\n",
    "function f(x1, x2)\n",
    "    return 4/(h1*h2)\n",
    "end\n",
    "\n",
    "get_F_e(f, h1, h2, p1, p2, P, W)"
   ]
  },
  {
   "cell_type": "code",
   "execution_count": 531,
   "metadata": {},
   "outputs": [
    {
     "data": {
      "text/plain": [
       "4-element Vector{Float64}:\n",
       "  3.9999999999999973\n",
       "  7.999999999999998\n",
       " 16.000000000000007\n",
       "  7.999999999999999"
      ]
     },
     "metadata": {},
     "output_type": "display_data"
    }
   ],
   "source": [
    "F_e = zeros(4)\n",
    "\n",
    "function f(x1, x2)\n",
    "    return 9*x1*x2 * 16/(h1*h2)^2\n",
    "end\n",
    "\n",
    "get_F_e(f, h1, h2, p1, p2, P, W)"
   ]
  },
  {
   "cell_type": "code",
   "execution_count": 532,
   "metadata": {},
   "outputs": [
    {
     "data": {
      "text/plain": [
       "dφ_dƞ (generic function with 2 methods)"
      ]
     },
     "metadata": {},
     "output_type": "display_data"
    }
   ],
   "source": [
    "function dφ_dξ(ξ, ƞ, a)\n",
    "    if a == 1\n",
    "        return (-1/4)*(1-ƞ)\n",
    "    elseif a == 2\n",
    "        return (1/4)*(1-ƞ)\n",
    "    elseif a == 3\n",
    "        return (1/4)*(1+ƞ)\n",
    "    elseif a == 4\n",
    "        return (-1/4)*(1+ƞ)\n",
    "    end\n",
    "end\n",
    "\n",
    "\n",
    "function dφ_dƞ(ξ, ƞ, a)\n",
    "    if a == 1\n",
    "        return (-1/4)*(1-ξ)\n",
    "    elseif a == 2\n",
    "        return (-1/4)*(1+ξ)\n",
    "    elseif a == 3\n",
    "        return (1/4)*(1+ξ)\n",
    "    elseif a == 4\n",
    "        return (1/4)*(1-ξ)\n",
    "    end\n",
    "end"
   ]
  },
  {
   "cell_type": "code",
   "execution_count": 533,
   "metadata": {},
   "outputs": [
    {
     "data": {
      "text/plain": [
       "get_K_e_ (generic function with 1 method)"
      ]
     },
     "metadata": {},
     "output_type": "display_data"
    }
   ],
   "source": [
    "function get_K_e_(α, β, h1, h2, P, W)\n",
    "    K_e = zeros(4, 4)\n",
    "\n",
    "    for a = 1:4\n",
    "        for b = 1:4\n",
    "            for j = 1:length(P)\n",
    "                for i = 1:length(P)\n",
    "                # operação diretamente da equação da K local\n",
    "                K_e[a, b] += (h2/h1)*α * W[j] * W[i] * dφ_dξ(P[j], P[i], b) * dφ_dξ(P[j],P[i], a)\n",
    "                K_e[a, b] += (h2/h1)*α * W[j] * W[i] * dφ_dƞ(P[j], P[i], b) * dφ_dƞ(P[j], P[i], a)\n",
    "                K_e[a, b] += (h1*h2/4)*β * W[j] * W[i] * φ(P[j], P[i], b) * φ(P[j], P[i], a)\n",
    "                end\n",
    "            end\n",
    "        end\n",
    "    end\n",
    "\n",
    "    return K_e\n",
    "end"
   ]
  },
  {
   "cell_type": "code",
   "execution_count": 534,
   "metadata": {},
   "outputs": [
    {
     "data": {
      "text/plain": [
       "4×4 Matrix{Float64}:\n",
       "  4.0  -1.0  -2.0  -1.0\n",
       " -1.0   4.0  -1.0  -2.0\n",
       " -2.0  -1.0   4.0  -1.0\n",
       " -1.0  -2.0  -1.0   4.0"
      ]
     },
     "metadata": {},
     "output_type": "display_data"
    }
   ],
   "source": [
    "h1 = 1/4\n",
    "h2 = 1/4\n",
    "α = 6.0\n",
    "β = 0.0\n",
    "\n",
    "P, W = legendre(2)\n",
    "\n",
    "get_K_e_(α, β, h1, h2, P, W)"
   ]
  },
  {
   "cell_type": "code",
   "execution_count": 535,
   "metadata": {},
   "outputs": [
    {
     "data": {
      "text/plain": [
       "4×4 Matrix{Float64}:\n",
       " 4.0  2.0  1.0  2.0\n",
       " 2.0  4.0  2.0  1.0\n",
       " 1.0  2.0  4.0  2.0\n",
       " 2.0  1.0  2.0  4.0"
      ]
     },
     "metadata": {},
     "output_type": "display_data"
    }
   ],
   "source": [
    "α = 0.0\n",
    "β = 9*4/(h1*h2)\n",
    "\n",
    "get_K_e_(α, β, h1, h2, P, W)"
   ]
  },
  {
   "cell_type": "code",
   "execution_count": 536,
   "metadata": {},
   "outputs": [
    {
     "data": {
      "text/plain": [
       "get_LG (generic function with 2 methods)"
      ]
     },
     "metadata": {},
     "output_type": "display_data"
    }
   ],
   "source": [
    "function get_LG(Nx1, Nx2)\n",
    "    nx1 = Nx1 + 1\n",
    "    nx2 = Nx2 + 1\n",
    "\n",
    "    M = (1:nx1-1) .+ (0:nx1:(nx2-2)*nx1)'\n",
    "\n",
    "    l = reshape(M, 1, :)\n",
    "\n",
    "    LG = vcat(l, l .+ 1, l .+ (nx1+1), l.+ nx1)\n",
    "\n",
    "    return LG\n",
    "end"
   ]
  },
  {
   "cell_type": "code",
   "execution_count": 537,
   "metadata": {},
   "outputs": [
    {
     "data": {
      "text/plain": [
       "4×12 Matrix{Int64}:\n",
       " 1  2  3   4   6   7   8   9  11  12  13  14\n",
       " 2  3  4   5   7   8   9  10  12  13  14  15\n",
       " 7  8  9  10  12  13  14  15  17  18  19  20\n",
       " 6  7  8   9  11  12  13  14  16  17  18  19"
      ]
     },
     "metadata": {},
     "output_type": "display_data"
    }
   ],
   "source": [
    "get_LG(4,3)"
   ]
  },
  {
   "cell_type": "code",
   "execution_count": 538,
   "metadata": {},
   "outputs": [
    {
     "data": {
      "text/plain": [
       "4×16 Matrix{Int64}:\n",
       " 1  2  3   4   6   7   8   9  11  12  13  14  16  17  18  19\n",
       " 2  3  4   5   7   8   9  10  12  13  14  15  17  18  19  20\n",
       " 7  8  9  10  12  13  14  15  17  18  19  20  22  23  24  25\n",
       " 6  7  8   9  11  12  13  14  16  17  18  19  21  22  23  24"
      ]
     },
     "metadata": {},
     "output_type": "display_data"
    }
   ],
   "source": [
    "get_LG(4,4)"
   ]
  },
  {
   "cell_type": "code",
   "execution_count": 539,
   "metadata": {},
   "outputs": [
    {
     "data": {
      "text/plain": [
       "get_EQ (generic function with 2 methods)"
      ]
     },
     "metadata": {},
     "output_type": "display_data"
    }
   ],
   "source": [
    "function get_EQ(Nx1, Nx2)\n",
    "    nx1 = Nx1 + 1\n",
    "    nx2 = Nx2 + 1\n",
    "    m = (nx1-2) * (nx2-2)\n",
    "\n",
    "    EQ = fill(m+1, nx1 * nx2)\n",
    "\n",
    "    L = reshape( (0:nx1-3) .+ (nx1+2:nx1:(nx2-2)*nx1+2)' , :,1)\n",
    "\n",
    "    EQ[L] = 1:m\n",
    "\n",
    "    return m, EQ\n",
    "end"
   ]
  },
  {
   "cell_type": "code",
   "execution_count": 540,
   "metadata": {},
   "outputs": [
    {
     "data": {
      "text/plain": [
       "(6, [7, 7, 7, 7, 7, 7, 1, 2, 3, 7, 7, 4, 5, 6, 7, 7, 7, 7, 7, 7])"
      ]
     },
     "metadata": {},
     "output_type": "display_data"
    }
   ],
   "source": [
    "get_EQ(4,3)"
   ]
  },
  {
   "cell_type": "code",
   "execution_count": 541,
   "metadata": {},
   "outputs": [
    {
     "data": {
      "text/plain": [
       "(9, [10, 10, 10, 10, 10, 10, 1, 2, 3, 10  …  10, 7, 8, 9, 10, 10, 10, 10, 10, 10])"
      ]
     },
     "metadata": {},
     "output_type": "display_data"
    }
   ],
   "source": [
    "get_EQ(4,4)"
   ]
  },
  {
   "cell_type": "code",
   "execution_count": 542,
   "metadata": {},
   "outputs": [
    {
     "data": {
      "text/plain": [
       "get_F (generic function with 2 methods)"
      ]
     },
     "metadata": {},
     "output_type": "display_data"
    }
   ],
   "source": [
    "function get_F(f, Nx1, Nx2, m, EQoLG)\n",
    "    h1 = 1/Nx1\n",
    "    h2 = 1/Nx2 \n",
    "    ne = Nx1 * Nx2 \n",
    "\n",
    "    P, W = legendre(5)\n",
    "\n",
    "    F_e = zeros(4)\n",
    "    F = zeros(m+1)\n",
    "    \n",
    "    for j = 1:Nx2\n",
    "        p2 = (j-1)*h2\n",
    "        for i = 1:Nx1\n",
    "            p1 = (i-1)*h1 \n",
    "            e = (j-1)*Nx1 + i \n",
    "            F_e = get_F_e(f, h1, h2, p1, p2, P, W)\n",
    "\n",
    "            for a = 1:4\n",
    "                F[EQoLG[a,e]] += F_e[a]\n",
    "            end \n",
    "        end \n",
    "    end \n",
    "\n",
    "    return F[1:m]\n",
    "end"
   ]
  },
  {
   "cell_type": "code",
   "execution_count": 543,
   "metadata": {},
   "outputs": [
    {
     "data": {
      "text/plain": [
       "6-element Vector{Float64}:\n",
       " 3.9999999999999982\n",
       " 3.9999999999999982\n",
       " 3.9999999999999982\n",
       " 3.9999999999999982\n",
       " 3.9999999999999982\n",
       " 3.9999999999999982"
      ]
     },
     "metadata": {},
     "output_type": "display_data"
    }
   ],
   "source": [
    "Nx1 = 4 \n",
    "Nx2 = 3 \n",
    "h1 = 1/Nx1 \n",
    "h2 = 1/Nx2 \n",
    "\n",
    "function f(x1, x2)\n",
    "    return 4/(h1*h2)\n",
    "end \n",
    "\n",
    "m, EQ = get_EQ(Nx1, Nx2)\n",
    "LG = get_LG(Nx1, Nx2)\n",
    "EQoLG = EQ[LG]\n",
    "\n",
    "get_F(f, Nx1, Nx2, m, EQoLG)"
   ]
  },
  {
   "cell_type": "code",
   "execution_count": 544,
   "metadata": {},
   "outputs": [
    {
     "data": {
      "text/plain": [
       "9-element Vector{Float64}:\n",
       "  143.99999999999994\n",
       "  287.9999999999999\n",
       "  431.9999999999998\n",
       "  287.9999999999999\n",
       "  575.9999999999999\n",
       "  863.9999999999995\n",
       "  431.9999999999998\n",
       "  863.9999999999997\n",
       " 1295.9999999999998"
      ]
     },
     "metadata": {},
     "output_type": "display_data"
    }
   ],
   "source": [
    "Nx1 = 4 \n",
    "Nx2 = 4\n",
    "h1 = 1/Nx1 \n",
    "h2 = 1/Nx2 \n",
    "\n",
    "function f(x1, x2)\n",
    "    return (16*9*x1*x2)/((h1*h2)^2)\n",
    "end \n",
    "\n",
    "m, EQ = get_EQ(Nx1, Nx2)\n",
    "LG = get_LG(Nx1, Nx2)\n",
    "EQoLG = EQ[LG]\n",
    "\n",
    "get_F(f, Nx1, Nx2, m, EQoLG)"
   ]
  },
  {
   "cell_type": "code",
   "execution_count": 545,
   "metadata": {},
   "outputs": [
    {
     "data": {
      "text/plain": [
       "get_K_ (generic function with 1 method)"
      ]
     },
     "metadata": {},
     "output_type": "display_data"
    }
   ],
   "source": [
    "function get_K_(α, β, Nx1, Nx2, m, EQoLG)\n",
    "    h1 = 1/Nx1 \n",
    "    h2 = 1/Nx2 \n",
    "    ne = Nx1 * Nx2 \n",
    "\n",
    "    P, W = legendre(2) \n",
    "\n",
    "    K_e = get_K_e_(α, β, h1, h2, P, W)\n",
    "    K = spzeros(m+1, m+1)\n",
    "\n",
    "    for e = 1:ne \n",
    "        for b = 1:4\n",
    "            j = EQoLG[b, e]\n",
    "            for a = 1:4\n",
    "                i = EQoLG[a, e]\n",
    "                K[i, j] += K_e[a, b]\n",
    "            end\n",
    "        end\n",
    "    end\n",
    "\n",
    "    return K[1:m, 1:m]\n",
    "end"
   ]
  },
  {
   "cell_type": "code",
   "execution_count": 546,
   "metadata": {},
   "outputs": [
    {
     "data": {
      "text/plain": [
       "6×6 SparseMatrixCSC{Float64, Int64} with 28 stored entries:\n",
       "  3.59259   -0.435185    ⋅        -0.435185  -0.44213     ⋅ \n",
       " -0.435185   3.59259   -0.435185  -0.44213   -0.435185  -0.44213\n",
       "   ⋅        -0.435185   3.59259     ⋅        -0.44213   -0.435185\n",
       " -0.435185  -0.44213     ⋅         3.59259   -0.435185    ⋅ \n",
       " -0.44213   -0.435185  -0.44213   -0.435185   3.59259   -0.435185\n",
       "   ⋅        -0.44213   -0.435185    ⋅        -0.435185   3.59259"
      ]
     },
     "metadata": {},
     "output_type": "display_data"
    }
   ],
   "source": [
    "α = 1.0\n",
    "β = 1.0\n",
    "Nx1 = 4 \n",
    "Nx2 = 3 \n",
    "\n",
    "m, EQ = get_EQ(Nx1, Nx2)\n",
    "LG = get_LG(Nx1, Nx2)\n",
    "EQoLG = EQ[LG]\n",
    "\n",
    "display(get_K_(α, β, Nx1, Nx2, m, EQoLG))"
   ]
  },
  {
   "cell_type": "code",
   "execution_count": 547,
   "metadata": {},
   "outputs": [
    {
     "data": {
      "text/plain": [
       "error_L2_norm (generic function with 2 methods)"
      ]
     },
     "metadata": {},
     "output_type": "display_data"
    }
   ],
   "source": [
    "function error_L2_norm(u, c, Nx1, Nx2, EQoLG)\n",
    "    h1 = 1/Nx1 \n",
    "    h2 = 1/Nx2 \n",
    "\n",
    "    error = 0 \n",
    "\n",
    "    P, W = legendre(5)\n",
    "\n",
    "    for j = 1:Nx2 \n",
    "        p2 = (j-1) * h2 \n",
    "        for i = 1:Nx1 \n",
    "            p1 = (i-1) * h1 \n",
    "            e = (j-1)*Nx1 + i \n",
    "\n",
    "            c1e = c[EQoLG[1,e]]\n",
    "            c2e = c[EQoLG[2,e]]\n",
    "            c3e = c[EQoLG[3,e]]\n",
    "            c4e = c[EQoLG[4,e]]\n",
    "\n",
    "            for b = 1:5 \n",
    "                ξ2 = P[b]\n",
    "                x2 = x2_from_ξ(ξ2, h2, p2)\n",
    "                for a = 1:5\n",
    "                    ξ1 = P[a]\n",
    "                    x1 = x1_from_ξ(ξ1, h1, p1)\n",
    "\n",
    "                    error += W[a] * W[b] * (u(x1,x2) - \n",
    "                    c1e*ϕ(ξ1, ξ2, 1) - \n",
    "                    c2e*ϕ(ξ1, ξ2, 2) -\n",
    "                    c3e*ϕ(ξ1, ξ2, 3) -\n",
    "                    c4e*ϕ(ξ1, ξ2, 4))^2\n",
    "                end\n",
    "            end\n",
    "        end\n",
    "    end\n",
    "\n",
    "    return sqrt(error * h1 * h2 / 4)\n",
    "end"
   ]
  },
  {
   "cell_type": "markdown",
   "metadata": {},
   "source": [
    "# Estacionário 2D Quadrilátero"
   ]
  },
  {
   "cell_type": "code",
   "execution_count": 548,
   "metadata": {},
   "outputs": [
    {
     "data": {
      "text/plain": [
       "dφ_dƞ (generic function with 2 methods)"
      ]
     },
     "metadata": {},
     "output_type": "display_data"
    }
   ],
   "source": [
    "function φ(ξ, ƞ)\n",
    "    return [(1/4)*(1-ξ)*(1-ƞ), (1/4)*(1+ξ)*(1-ƞ), (1/4)*(1+ξ)*(1+ƞ), (1/4)*(1-ξ)*(1+ƞ)]\n",
    "end\n",
    "\n",
    "\n",
    "function dφ_dξ(ξ, ƞ)\n",
    "    return [(-1/4)*(1-ƞ), (1/4)*(1-ƞ), (1/4)*(1+ƞ), (-1/4)*(1+ƞ)]\n",
    "end\n",
    "\n",
    "\n",
    "function dφ_dƞ(ξ, ƞ)\n",
    "    return [(-1/4)*(1-ξ), (-1/4)*(1+ξ), (1/4)*(1+ξ), (1/4)*(1-ξ)]\n",
    "end"
   ]
  },
  {
   "cell_type": "code",
   "execution_count": 549,
   "metadata": {},
   "outputs": [
    {
     "data": {
      "text/plain": [
       "get_F_e_quadrilatero (generic function with 1 method)"
      ]
     },
     "metadata": {},
     "output_type": "display_data"
    }
   ],
   "source": [
    "function get_F_e_quadrilatero(f, X1e, X2e, P, W)\n",
    "    F_e = zeros(4)\n",
    "\n",
    "    for i in 1:length(P)\n",
    "        ξ1 = P[i]\n",
    "\n",
    "        dφ_dƞ_vector = dφ_dƞ(ξ1, 1)\n",
    "\n",
    "        for j in 1:length(P)\n",
    "            ƞ = P[j]\n",
    "\n",
    "            φ_vector = φ(ξ1, ƞ)\n",
    "            dφ_dξ_vector = dφ_dξ(1, ƞ)\n",
    "\n",
    "            x1 = dot(X1e, φ_vector)\n",
    "            x2 = dot(X2e, φ_vector)\n",
    "\n",
    "            det_J = dot(X1e, dφ_dξ_vector) * dot(X2e, dφ_dƞ_vector) - dot(X1e, dφ_dƞ_vector) * dot(X2e, dφ_dξ_vector)\n",
    "            \n",
    "            for a in 1:4\n",
    "                F_e[a] += W[j] * W[i] * f(x1, x2) * φ_vector[a] * det_J\n",
    "            end\n",
    "        end\n",
    "    end\n",
    "\n",
    "    return F_e\n",
    "end"
   ]
  },
  {
   "cell_type": "code",
   "execution_count": 550,
   "metadata": {},
   "outputs": [
    {
     "data": {
      "text/plain": [
       "4-element Vector{Float64}:\n",
       " 0.9999999999999993\n",
       " 0.9999999999999998\n",
       " 1.0000000000000002\n",
       " 0.9999999999999998"
      ]
     },
     "metadata": {},
     "output_type": "display_data"
    }
   ],
   "source": [
    "X1e = [0, 0.25, 0.25, 0]\n",
    "X2e = [0, 0, 0.25, 0.25]\n",
    "\n",
    "P, W = legendre(5)\n",
    "\n",
    "function f(x1, x2)\n",
    "    return 4/(0.25 * 0.25)\n",
    "end\n",
    "\n",
    "get_F_e_quadrilatero(f, X1e, X2e, P, W)"
   ]
  },
  {
   "cell_type": "code",
   "execution_count": 551,
   "metadata": {},
   "outputs": [
    {
     "data": {
      "text/plain": [
       "4-element Vector{Float64}:\n",
       "  3.9999999999999973\n",
       "  7.999999999999998\n",
       " 16.000000000000007\n",
       "  7.999999999999999"
      ]
     },
     "metadata": {},
     "output_type": "display_data"
    }
   ],
   "source": [
    "X1e = [0, 0.25, 0.25, 0]\n",
    "X2e = [0, 0, 0.25, 0.25]\n",
    "\n",
    "P, W = legendre(5)\n",
    "\n",
    "function f(x1, x2)\n",
    "    return (16*9*x1*x2)/((0.25*0.25)^2)\n",
    "end\n",
    "\n",
    "get_F_e_quadrilatero(f, X1e, X2e, P, W)"
   ]
  },
  {
   "cell_type": "code",
   "execution_count": 552,
   "metadata": {},
   "outputs": [
    {
     "data": {
      "text/plain": [
       "4-element Vector{Float64}:\n",
       " 0.6666666666666662\n",
       " 0.9999999999999998\n",
       " 1.3333333333333337\n",
       " 0.9999999999999998"
      ]
     },
     "metadata": {},
     "output_type": "display_data"
    }
   ],
   "source": [
    "X1e = [0, 2, 3, 1]\n",
    "X2e = [0, 0, 1, 1]\n",
    "\n",
    "P, W = legendre(5)\n",
    "\n",
    "function f(x1, x2)\n",
    "    return x1+x2\n",
    "end\n",
    "\n",
    "get_F_e_quadrilatero(f, X1e, X2e, P, W)"
   ]
  },
  {
   "cell_type": "code",
   "execution_count": 553,
   "metadata": {},
   "outputs": [
    {
     "data": {
      "text/plain": [
       "get_K_e_quadrilatero (generic function with 1 method)"
      ]
     },
     "metadata": {},
     "output_type": "display_data"
    }
   ],
   "source": [
    "function get_K_e_quadrilatero(α, β, X1e, X2e, P, W)\n",
    "    K_e = zeros(4, 4)\n",
    "\n",
    "    for i in 1:length(P)\n",
    "        ξ = P[i]\n",
    "        dφ_dƞ_vector = dφ_dƞ(ξ, 1)\n",
    "\n",
    "        for j in 1:length(P)\n",
    "            ƞ = P[j]\n",
    "\n",
    "            φ_vector = φ(ξ, ƞ)\n",
    "            dφ_dξ_vector = dφ_dξ(1, ƞ)\n",
    "\n",
    "            dx1_dξ = dot(X1e, dφ_dξ_vector)\n",
    "            dx2_dξ = dot(X2e, dφ_dξ_vector)\n",
    "\n",
    "            dx1_dƞ = dot(X1e, dφ_dƞ_vector)\n",
    "            dx2_dƞ = dot(X2e, dφ_dƞ_vector)\n",
    "\n",
    "            det_J = dx1_dξ * dx2_dƞ - dx1_dƞ * dx2_dξ\n",
    "\n",
    "            HᵀH₁₁ = dx2_dƞ^2 + dx1_dƞ^2\n",
    "            HᵀH₁₂ = -dx1_dξ * dx1_dƞ - dx2_dξ * dx2_dƞ\n",
    "            HᵀH₂₂ = dx2_dξ^2 + dx1_dξ^2\n",
    "\n",
    "            for b in 1:4\n",
    "                for a in 1:4\n",
    "                    K_e[a, b] += W[j] * W[i] * (α/det_J) *\n",
    "                    (dφ_dξ_vector[b] * (HᵀH₁₁ * dφ_dξ_vector[a] + HᵀH₁₂ * dφ_dƞ_vector[a]) +\n",
    "                     dφ_dƞ_vector[b] * (HᵀH₁₂ * dφ_dξ_vector[a] + HᵀH₂₂ * dφ_dƞ_vector[a])) +\n",
    "                     β * φ_vector[b] * φ_vector[a] * det_J\n",
    "                end\n",
    "            end\n",
    "        end\n",
    "    end\n",
    "\n",
    "    return K_e\n",
    "end"
   ]
  },
  {
   "cell_type": "code",
   "execution_count": 554,
   "metadata": {},
   "outputs": [
    {
     "data": {
      "text/plain": [
       "4×4 Matrix{Float64}:\n",
       "  4.0  -1.0  -2.0  -1.0\n",
       " -1.0   4.0  -1.0  -2.0\n",
       " -2.0  -1.0   4.0  -1.0\n",
       " -1.0  -2.0  -1.0   4.0"
      ]
     },
     "metadata": {},
     "output_type": "display_data"
    }
   ],
   "source": [
    "α = 6\n",
    "β = 0\n",
    "X1e = [0, 0.25, 0.25, 0]\n",
    "X2e = [0, 0, 0.25, 0.25]\n",
    "\n",
    "P, W = legendre(2)\n",
    "\n",
    "get_K_e_quadrilatero(α, β, X1e, X2e, P, W)"
   ]
  },
  {
   "cell_type": "code",
   "execution_count": 555,
   "metadata": {},
   "outputs": [
    {
     "data": {
      "text/plain": [
       "4×4 Matrix{Float64}:\n",
       " 4.0  2.0  1.0  2.0\n",
       " 2.0  4.0  2.0  1.0\n",
       " 1.0  2.0  4.0  2.0\n",
       " 2.0  1.0  2.0  4.0"
      ]
     },
     "metadata": {},
     "output_type": "display_data"
    }
   ],
   "source": [
    "α = 0.0\n",
    "β = 576.0\n",
    "X1e = [0, 0.25, 0.25, 0]\n",
    "X2e = [0, 0, 0.25, 0.25]\n",
    "\n",
    "P, W = legendre(2)\n",
    "\n",
    "get_K_e_quadrilatero(α, β, X1e, X2e, P, W)"
   ]
  },
  {
   "cell_type": "code",
   "execution_count": 556,
   "metadata": {},
   "outputs": [
    {
     "data": {
      "text/plain": [
       "4×4 Matrix{Float64}:\n",
       "  0.722222    0.111111   0.0555556  -0.388889\n",
       "  0.111111    1.72222   -0.388889   -0.944444\n",
       "  0.0555556  -0.388889   0.722222    0.111111\n",
       " -0.388889   -0.944444   0.111111    1.72222"
      ]
     },
     "metadata": {},
     "output_type": "display_data"
    }
   ],
   "source": [
    "α = 1.0\n",
    "β = 1.0\n",
    "X1e = [0, 2, 3, 1]\n",
    "X2e = [0, 0, 1, 1]\n",
    "\n",
    "P, W = legendre(2)\n",
    "\n",
    "get_K_e_quadrilatero(α, β, X1e, X2e, P, W)"
   ]
  },
  {
   "cell_type": "code",
   "execution_count": 557,
   "metadata": {},
   "outputs": [
    {
     "data": {
      "text/plain": [
       "get_F_quadrilatero (generic function with 1 method)"
      ]
     },
     "metadata": {},
     "output_type": "display_data"
    }
   ],
   "source": [
    "function get_F_quadrilatero(f, X1, X2, m, EQ, LG)\n",
    "    ne = size(LG, 2)\n",
    "\n",
    "    P, W = legendre(5)\n",
    "\n",
    "    F = zeros(m+1)\n",
    "    for e in 1:ne \n",
    "        idx = LG[:, e]\n",
    "\n",
    "        X1e = X1[idx]\n",
    "        X2e = X2[idx]\n",
    "        idx = EQ[idx]\n",
    "\n",
    "        F_e = get_F_e_quadrilatero(f, X1e, X2e, P, W)\n",
    "\n",
    "        for a in 1:4\n",
    "            F[idx[a]] += F_e[a]\n",
    "        end\n",
    "    end\n",
    "    \n",
    "    return F[1:m]\n",
    "end"
   ]
  },
  {
   "cell_type": "code",
   "execution_count": 558,
   "metadata": {},
   "outputs": [
    {
     "data": {
      "text/plain": [
       "6-element Vector{Float64}:\n",
       " 0.04760330619591377\n",
       " 0.06858487178206851\n",
       " 0.09299903599320515\n",
       " 0.07729378097792772\n",
       " 0.08630562901042328\n",
       " 0.1151421594858171"
      ]
     },
     "metadata": {},
     "output_type": "display_data"
    }
   ],
   "source": [
    "Nx1 = 4 \n",
    "Nx2 = 3\n",
    "\n",
    "m, EQ = get_EQ(Nx1, Nx2)\n",
    "LG = get_LG(Nx1, Nx2)\n",
    "\n",
    "h1 = 0.25 \n",
    "h2 = 0.3333333333333333\n",
    "\n",
    "X1 = [0.0   0.0       0.0       0.0\n",
    "0.25  0.266168  0.275391  0.25\n",
    "0.5   0.493792  0.521668  0.5\n",
    "0.75  0.747176  0.708237  0.75\n",
    "1.0   1.0       1.0       1.0]\n",
    "X2 = [0.0   0.333333  0.666667  1.0\n",
    "0.0   0.352246  0.633228  1.0\n",
    "0.0   0.36139   0.693524  1.0\n",
    "0.0   0.326172  0.689905  1.0\n",
    "0.0   0.333333  0.666667  1.0]\n",
    "\n",
    "function f(x1, x2)\n",
    "    return x1+x2\n",
    "end\n",
    "\n",
    "get_F_quadrilatero(f, X1, X2, m, EQ, LG)"
   ]
  },
  {
   "cell_type": "code",
   "execution_count": 562,
   "metadata": {},
   "outputs": [
    {
     "data": {
      "text/plain": [
       "get_K_quadrilatero (generic function with 1 method)"
      ]
     },
     "metadata": {},
     "output_type": "display_data"
    }
   ],
   "source": [
    "function get_K_quadrilatero(α, β, X1, X2, m, EQ, LG)\n",
    "    ne = size(LG, 2)\n",
    "    P, W = legendre(2)\n",
    "\n",
    "    K = spzeros(m+1, m+1)\n",
    "\n",
    "    for e = 1:ne \n",
    "        idx = LG[:, e]\n",
    "\n",
    "        X1e = X1[idx]\n",
    "        X2e = X2[idx]\n",
    "\n",
    "        idx = EQ[idx]\n",
    "        K_e = get_K_e_quadrilatero(α, β, X1e, X2e, P, W)\n",
    "\n",
    "        for b in 1:4\n",
    "            j = idx[b]\n",
    "            for a in 1:4 \n",
    "                i = idx[a]\n",
    "                K[i, j] += K_e[a, b]\n",
    "            end\n",
    "        end\n",
    "    end\n",
    "    return K[1:m, 1:m]\n",
    "end"
   ]
  },
  {
   "cell_type": "code",
   "execution_count": 564,
   "metadata": {},
   "outputs": [
    {
     "data": {
      "text/plain": [
       "6×6 SparseMatrixCSC{Float64, Int64} with 28 stored entries:\n",
       "  2.78503   -0.710681     ⋅         -0.203304  -0.246537     ⋅ \n",
       " -0.710681   2.93963    -0.692194   -0.453569   0.0279999  -0.421415\n",
       "   ⋅        -0.692194    2.86423      ⋅        -0.321263    0.0453869\n",
       " -0.203304  -0.453569     ⋅          2.82204   -0.608672     ⋅ \n",
       " -0.246537   0.0279999  -0.321263   -0.608672   2.87005    -0.885904\n",
       "   ⋅        -0.421415    0.0453869    ⋅        -0.885904    2.9107"
      ]
     },
     "metadata": {},
     "output_type": "display_data"
    }
   ],
   "source": [
    "Nx1 = 4 \n",
    "Nx2 = 3\n",
    "\n",
    "α = 1\n",
    "β = 1\n",
    "\n",
    "m, EQ = get_EQ(Nx1, Nx2)\n",
    "LG = get_LG(Nx1, Nx2)\n",
    "\n",
    "h1 = 0.25 \n",
    "h2 = 0.3333333333333333\n",
    "\n",
    "X1 = [0.0   0.0       0.0       0.0\n",
    "0.25  0.266168  0.275391  0.25\n",
    "0.5   0.493792  0.521668  0.5\n",
    "0.75  0.747176  0.708237  0.75\n",
    "1.0   1.0       1.0       1.0]\n",
    "X2 = [0.0   0.333333  0.666667  1.0\n",
    "0.0   0.352246  0.633228  1.0\n",
    "0.0   0.36139   0.693524  1.0\n",
    "0.0   0.326172  0.689905  1.0\n",
    "0.0   0.333333  0.666667  1.0]\n",
    "\n",
    "\n",
    "get_K_quadrilatero(α, β, X1, X2, m, EQ, LG)"
   ]
  },
  {
   "cell_type": "code",
   "execution_count": null,
   "metadata": {},
   "outputs": [],
   "source": []
  }
 ],
 "metadata": {
  "colab": {
   "provenance": []
  },
  "kernelspec": {
   "display_name": "Julia 1.11.0",
   "language": "julia",
   "name": "julia-1.11"
  },
  "language_info": {
   "file_extension": ".jl",
   "mimetype": "application/julia",
   "name": "julia",
   "version": "1.11.0"
  }
 },
 "nbformat": 4,
 "nbformat_minor": 0
}
