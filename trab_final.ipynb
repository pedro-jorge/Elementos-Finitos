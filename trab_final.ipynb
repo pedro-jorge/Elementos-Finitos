{
 "cells": [
  {
   "cell_type": "code",
   "execution_count": 1,
   "metadata": {},
   "outputs": [
    {
     "name": "stderr",
     "output_type": "stream",
     "text": [
      "\u001b[33m\u001b[1m┌ \u001b[22m\u001b[39m\u001b[33m\u001b[1mWarning: \u001b[22m\u001b[39mIt's not recommended to use allowscalar([true]) to allow scalar indexing.\n",
      "\u001b[33m\u001b[1m│ \u001b[22m\u001b[39mInstead, use `allowscalar() do end` or `@allowscalar` to denote exactly which operations can use scalar operations.\n",
      "\u001b[33m\u001b[1m└ \u001b[22m\u001b[39m\u001b[90m@ GPUArraysCore ~/.julia/packages/GPUArraysCore/GMsgk/src/GPUArraysCore.jl:188\u001b[39m\n"
     ]
    }
   ],
   "source": [
    "using Distributed, Plots, GaussQuadrature, SparseArrays, DataFrames, LinearAlgebra, Random, BenchmarkTools, CUDA, StatsBase, DelimitedFiles\n",
    "\n",
    "#CUDA.allowscalar()\n",
    "CUDA.allowscalar(true)\n",
    "\n",
    "@everywhere using CUDA"
   ]
  },
  {
   "cell_type": "code",
   "execution_count": 2,
   "metadata": {},
   "outputs": [],
   "source": [
    "using Revise"
   ]
  },
  {
   "cell_type": "code",
   "execution_count": 3,
   "metadata": {},
   "outputs": [
    {
     "data": {
      "text/plain": [
       "exemplo1 (generic function with 1 method)"
      ]
     },
     "execution_count": 3,
     "metadata": {},
     "output_type": "execute_result"
    }
   ],
   "source": [
    "function exemplo1()\n",
    "\tα = 1.0\n",
    "\tβ = 1.0\n",
    "\tf(x₁,x₂) = (2*α*π^2+β) * sin(π*x₁) * sin(π*x₂)\n",
    "\tu(x₁,x₂) = sin(π*x₁) * sin(π*x₂)\n",
    "\n",
    "\treturn α, β, f, u\n",
    "end"
   ]
  },
  {
   "cell_type": "markdown",
   "metadata": {},
   "source": [
    "# Função $\\varphi$"
   ]
  },
  {
   "cell_type": "code",
   "execution_count": 4,
   "metadata": {},
   "outputs": [
    {
     "data": {
      "text/plain": [
       "ϕ (generic function with 2 methods)"
      ]
     },
     "execution_count": 4,
     "metadata": {},
     "output_type": "execute_result"
    }
   ],
   "source": [
    "function ϕ(ξ₁,ξ₂,a)\n",
    "\tif a == 1\n",
    "\t\treturn (1-ξ₁)*(1-ξ₂)/4\n",
    "\telseif a == 2\n",
    "\t\treturn (1+ξ₁)*(1-ξ₂)/4\n",
    "\telseif a == 3\n",
    "\t\treturn (1+ξ₁)*(1+ξ₂)/4\n",
    "\telseif a == 4\n",
    "\t\treturn (1-ξ₁)*(1+ξ₂)/4\n",
    "\telse\n",
    "\t\terror(\"a deve ser 1, 2, 3 ou 4.\")\n",
    "\tend\n",
    "end\n",
    "\n",
    "\n",
    "function ϕ(ξ₁::Float64, ξ₂::Float64) :: Vector{Float64}\n",
    "\t[(1-ξ₁)*(1-ξ₂)/4, (1+ξ₁)*(1-ξ₂)/4, (1+ξ₁)*(1+ξ₂)/4, (1-ξ₁)*(1+ξ₂)/4]\n",
    "end"
   ]
  },
  {
   "cell_type": "markdown",
   "metadata": {},
   "source": [
    "# Derivadas de $\\varphi$"
   ]
  },
  {
   "cell_type": "code",
   "execution_count": 5,
   "metadata": {},
   "outputs": [
    {
     "data": {
      "text/plain": [
       "∂ϕ_∂ξ₁ (generic function with 2 methods)"
      ]
     },
     "execution_count": 5,
     "metadata": {},
     "output_type": "execute_result"
    }
   ],
   "source": [
    "@inline function ∂ϕ_∂ξ₁(ξ₁::Float64,ξ₂::Float64,a::Int)\n",
    "\tval = ifelse(a == 1, -(1-ξ₂)/4,\n",
    "           ifelse(a == 2, (1-ξ₂)/4,\n",
    "           ifelse(a == 3, (1+ξ₂)/4,\n",
    "           ifelse(a == 4, -(1+ξ₂)/4, NaN))))\n",
    "    return val\n",
    "end\n",
    "\n",
    "@inline function ∂ϕ_∂ξ₁(ξ₂::Float64) :: Vector{Float64}\n",
    "\t[-(1-ξ₂)/4, (1-ξ₂)/4, (1+ξ₂)/4, -(1+ξ₂)/4]\n",
    "end"
   ]
  },
  {
   "cell_type": "code",
   "execution_count": 6,
   "metadata": {},
   "outputs": [
    {
     "data": {
      "text/plain": [
       "∂ϕ_∂ξ₂ (generic function with 2 methods)"
      ]
     },
     "execution_count": 6,
     "metadata": {},
     "output_type": "execute_result"
    }
   ],
   "source": [
    "@inline function ∂ϕ_∂ξ₂(ξ₁::Float64, ξ₂::Float64, a::Int)\n",
    "    # Replace `if-elseif` with a `switch`-like computation for CUDA\n",
    "    val = ifelse(a == 1, -(1-ξ₁)/4,\n",
    "           ifelse(a == 2, -(1+ξ₁)/4,\n",
    "           ifelse(a == 3, (1+ξ₁)/4,\n",
    "           ifelse(a == 4, (1-ξ₁)/4, NaN))))\n",
    "    return val\n",
    "end\n",
    "\n",
    "@inline function ∂ϕ_∂ξ₂(ξ₁::Float64) :: Vector{Float64}\n",
    "\t[-(1-ξ₁)/4, -(1+ξ₁)/4, (1+ξ₁)/4, (1-ξ₁)/4]\n",
    "end"
   ]
  },
  {
   "cell_type": "code",
   "execution_count": 7,
   "metadata": {},
   "outputs": [
    {
     "data": {
      "text/plain": [
       "precompute_∂ϕ_∂ξ₂ (generic function with 1 method)"
      ]
     },
     "execution_count": 7,
     "metadata": {},
     "output_type": "execute_result"
    }
   ],
   "source": [
    "function precompute_∂ϕ_∂ξ₁(P::Vector{Float64})::Vector{Float64}\n",
    "    n = length(P)\n",
    "    phi_flat = Vector{Float64}(undef, 4 * n^2)\n",
    "    for a in 1:4\n",
    "        for i in 1:n\n",
    "            ξ₁ = P[i]\n",
    "            for j in 1:n\n",
    "                ξ₂ = P[j]\n",
    "                index = (a - 1) * n^2 + (i - 1) * n + (j - 1) + 1\n",
    "                if a == 1\n",
    "                    phi_flat[index] = -(1-ξ₂)/4\n",
    "                elseif a == 2\n",
    "                    phi_flat[index] = (1-ξ₂)/4\n",
    "                elseif a == 3\n",
    "                    phi_flat[index] = (1+ξ₂)/4\n",
    "                elseif a == 4\n",
    "                    phi_flat[index] = -(1+ξ₂)/4\n",
    "                end\n",
    "            end\n",
    "        end\n",
    "    end\n",
    "    return phi_flat\n",
    "end\n",
    "\n",
    "function precompute_∂ϕ_∂ξ₂(P::Vector{Float64})::Vector{Float64}\n",
    "    n = length(P)\n",
    "    phi_flat = Vector{Float64}(undef, 4 * n^2)\n",
    "    for a in 1:4\n",
    "        for i in 1:n\n",
    "            ξ₁ = P[i]\n",
    "            for j in 1:n\n",
    "                ξ₂ = P[j]\n",
    "                index = (a - 1) * n^2 + (i - 1) * n + (j - 1) + 1\n",
    "                if a == 1\n",
    "                    phi_flat[index] = -(1-ξ₁)/4\n",
    "                elseif a == 2\n",
    "                    phi_flat[index] = -(1+ξ₁)/4\n",
    "                elseif a == 3\n",
    "                    phi_flat[index] = (1+ξ₁)/4\n",
    "                elseif a == 4\n",
    "                    phi_flat[index] = (1-ξ₁)/4\n",
    "                end\n",
    "            end\n",
    "        end\n",
    "    end\n",
    "    return phi_flat\n",
    "end"
   ]
  },
  {
   "cell_type": "markdown",
   "metadata": {},
   "source": [
    "# Mudança de variável"
   ]
  },
  {
   "cell_type": "code",
   "execution_count": 8,
   "metadata": {},
   "outputs": [
    {
     "data": {
      "text/plain": [
       "x₂_de_ξ (generic function with 1 method)"
      ]
     },
     "execution_count": 8,
     "metadata": {},
     "output_type": "execute_result"
    }
   ],
   "source": [
    "@inline function x₁_de_ξ(ξ₁::Float64, h₁::Float64, p₁::Float64)::Float64\n",
    "    return p₁ + (h₁ / 2) * (ξ₁ + 1)\n",
    "end\n",
    "\n",
    "@inline function x₂_de_ξ(ξ₂::Float64, h₂::Float64, p₂::Float64)::Float64\n",
    "    return p₂ + (h₂ / 2) * (ξ₂ + 1)\n",
    "end"
   ]
  },
  {
   "cell_type": "markdown",
   "metadata": {},
   "source": [
    "# Montagem da F local"
   ]
  },
  {
   "cell_type": "code",
   "execution_count": 9,
   "metadata": {},
   "outputs": [
    {
     "data": {
      "text/plain": [
       "monta_Fᵉ_cuda_correct! (generic function with 1 method)"
      ]
     },
     "execution_count": 9,
     "metadata": {},
     "output_type": "execute_result"
    }
   ],
   "source": [
    "function monta_Fᵉ!(Fᵉ::Vector{Float64}, f::Function, h₁::Float64, h₂::Float64, p₁::Float64, p₂::Float64, P::Vector{Float64}, W::Vector{Float64})\n",
    "    # Zera as entradas do vetor local Fᵉ\n",
    "    fill!(Fᵉ, 0.0)\n",
    "\n",
    "    # Pré-calcula o fator constante da integral\n",
    "    cst = h₁ * h₂ / 4\n",
    "\n",
    "    phi_values = precompute_ϕ_flat(P)\n",
    "\n",
    "    # Loop sobre as entradas do vetor local Fᵉ\n",
    "    for a in 1:4\n",
    "        # Inicializa a contribuição da quadratura para a entrada a\n",
    "        soma = 0.0\n",
    "    \n",
    "        # Integração via quadratura gaussiana dupla\n",
    "        length_P = length(P)\n",
    "        for i in 1:length_P          # Loop sobre os pontos de quadratura no eixo ξ₁\n",
    "            ξ₁ = P[i]\n",
    "            x₁ = x₁_de_ξ(ξ₁, h₁, p₁)\n",
    "            for j in 1:length_P      # Loop sobre os pontos de quadratura no eixo ξ₂\n",
    "                ξ₂ = P[j]\n",
    "                x₂ = x₂_de_ξ(ξ₂, h₂, p₂)\n",
    "\n",
    "                # Acumula a contribuição da quadratura\n",
    "                #soma += W[i] * W[j] * f(x₁, x₂) * ϕ(ξ₁, ξ₂, a) * cst\n",
    "                index = (a - 1) * length_P^2 + (i - 1) * length_P + (j - 1) + 1\n",
    "                soma += W[i] * W[j] * f(x₁, x₂) * phi_values[index] * cst\n",
    "            end\n",
    "        end\n",
    "    \n",
    "        # Armazena a contribuição no vetor Fᵉ\n",
    "        Fᵉ[a] = soma\n",
    "    end\n",
    "end\n",
    "\n",
    "function precompute_ϕ_flat(P::Vector{Float64})::Vector{Float64}\n",
    "    n = length(P)\n",
    "    phi_flat = Vector{Float64}(undef, 4 * n^2)\n",
    "\n",
    "    for a in 1:4\n",
    "        for i in 1:n\n",
    "            ξ₁ = P[i]\n",
    "            for j in 1:n\n",
    "                ξ₂ = P[j]\n",
    "                index = (a - 1) * n^2 + (i - 1) * n + (j - 1) + 1\n",
    "                if a == 1\n",
    "                    phi_flat[index] = (1 - ξ₁) * (1 - ξ₂) / 4\n",
    "                elseif a == 2\n",
    "                    phi_flat[index] = (1 + ξ₁) * (1 - ξ₂) / 4\n",
    "                elseif a == 3\n",
    "                    phi_flat[index] = (1 + ξ₁) * (1 + ξ₂) / 4\n",
    "                elseif a == 4\n",
    "                    phi_flat[index] = (1 - ξ₁) * (1 + ξ₂) / 4\n",
    "                end\n",
    "            end\n",
    "        end\n",
    "    end\n",
    "    return phi_flat\n",
    "end\n",
    "\n",
    "function monta_Fᵉ_cuda_correct!(Fᵉ, f::Function, h₁::Float64, h₂::Float64, p₁::Float64, p₂::Float64, P, W, phi_values)\n",
    "    # Zera as entradas do vetor local Fᵉ\n",
    "    CUDA.fill!(Fᵉ, 0.0)\n",
    "\n",
    "\tcst = h₁ * h₂ / 4\n",
    "\n",
    "    # GPU kernel definition\n",
    "    kernel_monta_Fᵉ = nothing\n",
    "    function kernel_monta_Fᵉ!(\n",
    "        Fᵉ, f::Function, h₁::Float64, h₂::Float64, p₁::Float64, p₂::Float64, P::CuDeviceVector{Float64, 1}, W::CuDeviceVector{Float64, 1}, cst::Float64\n",
    "    )\n",
    "        a = threadIdx().x\n",
    "        soma = 0.0\n",
    "        length_P = length(P)\n",
    "        for i in 1:length_P     # Loop over quadrature points in ξ₁\n",
    "            ξ₁ = P[i]\n",
    "            x₁ = x₁_de_ξ(ξ₁, h₁, p₁)\n",
    "            for j in 1:length_P # Loop over quadrature points in ξ₂\n",
    "                ξ₂ = P[j]\n",
    "                x₂ = x₂_de_ξ(ξ₂, h₂, p₂)\n",
    "                # Accumulate the quadrature contribution\n",
    "                index = (a - 1) * length_P^2 + (i - 1) * length_P + (j - 1) + 1\n",
    "                soma += W[i] * W[j] * f(x₁, x₂) * phi_values[index] * cst\n",
    "            end\n",
    "        end\n",
    "        # Store the result in Fᵉ\n",
    "        Fᵉ[a] = soma\n",
    "        return nothing\n",
    "    end\n",
    "\n",
    "    # Launch the kernel with 4 threads (one for each `a`)\n",
    "    @cuda threads=4 kernel_monta_Fᵉ!(Fᵉ, f, h₁, h₂, p₁, p₂, P, W, cst)\n",
    "end"
   ]
  },
  {
   "cell_type": "code",
   "execution_count": 10,
   "metadata": {},
   "outputs": [
    {
     "data": {
      "text/plain": [
       "teste_monta_Fᵉ_cuda_correct (generic function with 1 method)"
      ]
     },
     "execution_count": 10,
     "metadata": {},
     "output_type": "execute_result"
    }
   ],
   "source": [
    "function teste_monta_Fᵉ_cuda_correct()\n",
    "\tFᵉ = CUDA.zeros(4)\n",
    "\t\n",
    "\tP1, W1 = legendre(5)\n",
    "\tphi_values = CuArray(precompute_ϕ_flat(P1))\n",
    "    P, W = CuArray(P1), CuArray(W1)\n",
    "\t\n",
    "\th₁ = 1/4\n",
    "\th₂ = 1/4\n",
    "\t\n",
    "\tp₁ = 0.0\n",
    "\tp₂ = 0.0\n",
    "\t\n",
    "\t@inline function f(x₁,x₂) \n",
    "\t\treturn 4/(h₁*h₂)\n",
    "\tend\n",
    "\n",
    "\tmonta_Fᵉ_cuda_correct!(Fᵉ, f, h₁, h₂, p₁, p₂, P, W, phi_values)\n",
    "    display(\"Fᵉ - Teste 1\")\n",
    "\tdisplay(Fᵉ)\n",
    "\t\n",
    "\tmonta_Fᵉ_cuda_correct!(Fᵉ, (x₁,x₂) -> (16*9*x₁*x₂)/((h₁*h₂)^2), h₁, h₂, p₁, p₂, P, W, phi_values)\n",
    "    display(\"Fᵉ - Teste 2\")\n",
    "\tdisplay(Fᵉ)\n",
    "end"
   ]
  },
  {
   "cell_type": "code",
   "execution_count": null,
   "metadata": {},
   "outputs": [],
   "source": [
    "teste_monta_Fᵉ_cuda_correct()"
   ]
  },
  {
   "cell_type": "markdown",
   "metadata": {},
   "source": [
    "# Montagem da K local"
   ]
  },
  {
   "cell_type": "code",
   "execution_count": null,
   "metadata": {},
   "outputs": [],
   "source": [
    "function monta_Kᵉ(α::Float64, β::Float64, h₁::Float64, h₂::Float64, P::Vector{Float64}, W::Vector{Float64}) ::Matrix{Float64}\n",
    "    # Inicializa a matriz local Kᵉ\n",
    "    Kᵉ = zeros(4, 4)\n",
    "\n",
    "    # Pré-calcula os fatores constantes das integrais\n",
    "    cst1 = α * (h₂ / h₁)\n",
    "    cst2 = α * (h₁ / h₂)\n",
    "    cst3 = β * (h₁ * h₂ / 4)\n",
    "\n",
    "    # Loop sobre as colunas (b) e linhas (a) da matriz local Kᵉ\n",
    "    for b in 1:4\n",
    "        for a in 1:4\n",
    "            # Inicializa a contribuição da quadratura para a entrada (a, b)\n",
    "            soma = 0.0\n",
    "\n",
    "            # Integração via quadratura gaussiana dupla\n",
    "            for i in 1:length(P)     # Loop sobre os pontos de quadratura no eixo ξ₁\n",
    "\t\t\t\tξ₁ = P[i]\n",
    "                for j in 1:length(P) # Loop sobre os pontos de quadratura no eixo ξ₂\n",
    "                    ξ₂ = P[j]\n",
    "\n",
    "                    # Acumula a contribuição da quadratura\n",
    "                    soma += W[i] * W[j] * (\n",
    "                        cst1 * ∂ϕ_∂ξ₁(ξ₁, ξ₂, b) * ∂ϕ_∂ξ₁(ξ₁, ξ₂, a) + \n",
    "                        cst2 * ∂ϕ_∂ξ₂(ξ₁, ξ₂, b) * ∂ϕ_∂ξ₂(ξ₁, ξ₂, a) + \n",
    "                        cst3 *      ϕ(ξ₁, ξ₂, b) *      ϕ(ξ₁, ξ₂, a)    \n",
    "                    )\n",
    "                end\n",
    "            end\n",
    "\n",
    "            # Armazena a contribuição acumulada na entrada [a, b] da matriz Kᵉ\n",
    "            Kᵉ[a, b] = soma\n",
    "        end\n",
    "    end\n",
    "\n",
    "    return Kᵉ\n",
    "end"
   ]
  },
  {
   "cell_type": "code",
   "execution_count": null,
   "metadata": {},
   "outputs": [],
   "source": [
    "function teste_monta_Kᵉ()\n",
    "\th₁ = 1/4\n",
    "\th₂ = 1/4\n",
    "\n",
    "\tP, W = legendre(2)\n",
    "\n",
    "\t# Teste 1\n",
    "\tα = 6.0\n",
    "\tβ = 0.0\n",
    "\tKᵉ = monta_Kᵉ(α, β, h₁, h₂, P, W)\n",
    "\tdisplay(\"Kᵉ - Teste 1\")\n",
    "\tdisplay(Kᵉ)\n",
    "\n",
    "\t# Teste 2\n",
    "\tα = 0.0\n",
    "\tβ = (9*4)/(h₁*h₂)\n",
    "\tKᵉ = monta_Kᵉ(α, β, h₁, h₂, P, W)\n",
    "\tdisplay(\"Kᵉ - Teste 2\")\n",
    "\tdisplay(Kᵉ)\t\n",
    "end"
   ]
  },
  {
   "cell_type": "markdown",
   "metadata": {},
   "source": [
    "# Montagem de LG e EQ"
   ]
  },
  {
   "cell_type": "code",
   "execution_count": null,
   "metadata": {},
   "outputs": [],
   "source": [
    "function monta_LG(Nx1::Int64, Nx2::Int64)::Matrix{Int64}\n",
    "    # Define o número de funções φ no eixo x₁ e x₂\n",
    "    nx1 = Nx1 + 1\n",
    "    nx2 = Nx2 + 1\n",
    "\n",
    "    # M[:,j] contém a numeração da primeira linha do \"Bloco j\"\n",
    "    M = (1:nx1-1) .+ (0:nx1:(nx2-2)*nx1)'\n",
    "\n",
    "    # LG[1,:] contém a numeração global da primeira função local de cada elemento \n",
    "    linha1 = reshape(M, 1, :)\n",
    "\n",
    "    # Constrói a matriz LG\n",
    "    LG = vcat(linha1, linha1 .+ 1, linha1 .+ (nx1+1), linha1 .+ nx1)\n",
    "\n",
    "    return LG\n",
    "end"
   ]
  },
  {
   "cell_type": "code",
   "execution_count": null,
   "metadata": {},
   "outputs": [],
   "source": [
    "function monta_EQ(Nx1::Int64, Nx2::Int64) :: Tuple{Int64,Vector{Int64}}\n",
    "    # Define o número de funções φ no eixo x₁ e x₂\n",
    "    nx1 = Nx1 + 1\n",
    "    nx2 = Nx2 + 1\n",
    "    \n",
    "    # Calcula o número de funções globais φ que compõem a base do espaço Vₘ\n",
    "    m = (nx1-2) * (nx2-2)\n",
    "\n",
    "    # Inicializa o vetor EQ preenchido com m+1\n",
    "    EQ = fill(m+1, nx1 * nx2)\n",
    "\n",
    "    # Vetor contendo os índices das funções globais φ que compõem a base do espaço Vₘ\n",
    "    L = reshape( (0:nx1-3) .+ (nx1+2:nx1:(nx2-2)*nx1+2)' , :,1)\n",
    "\n",
    "    # Atribui os valores de 1 até m as funções globais φ que compõem a base do espaço Vₘ\n",
    "    EQ[L] = 1:m\n",
    "\n",
    "    return m, EQ\n",
    "end"
   ]
  },
  {
   "cell_type": "markdown",
   "metadata": {},
   "source": [
    "# Montagem da F global"
   ]
  },
  {
   "cell_type": "code",
   "execution_count": null,
   "metadata": {},
   "outputs": [],
   "source": [
    "function monta_F(f::Function, Nx1::Int64, Nx2::Int64, m::Int64, EQoLG::Matrix{Int64})\n",
    "    # Comprimento da base (h₁) e altura (h₂) de cada elemento retangular Ωᵉ\n",
    "    h₁ = 1 / Nx1\n",
    "    h₂ = 1 / Nx2\n",
    "\n",
    "    # Número total de elementos finitos na malha\n",
    "    ne = Nx1 * Nx2\n",
    "\n",
    "    # P: Pontos de quadratura de Gauss-Legendre (ordem 5)\n",
    "    # W: Pesos de quadratura de Gauss-Legendre\n",
    "    P, W = legendre(5)\n",
    "\n",
    "    # Inicializa o vetor local Fᵉ\n",
    "    Fᵉ = zeros(4)\n",
    "\n",
    "    # Inicializa o vetor global F com tamanho (m+1)\n",
    "    F = zeros(m+1)\n",
    "    \n",
    "    # Loop sobre os elementos Ωᵉ (percorrendo cada subdivisão ao longo de x₂ e x₁)\n",
    "    for j = 1:Nx2\n",
    "        # Segunda componente do ponto inferior esquerdo do retângulo `Ωᵉ`.\n",
    "        p₂ = (j-1)*h₂ \n",
    "        for i = 1:Nx1\n",
    "            # Primeira componente do ponto inferior esquerdo do retângulo `Ωᵉ`.\n",
    "            p₁ = (i-1)*h₁\n",
    "            # Numeração do elemento finito atual (e) na malha\n",
    "            e = (j-1)*Nx1 + i \n",
    "\n",
    "            # Calcula o vetor local Fᵉ para o elemento e\n",
    "            monta_Fᵉ!(Fᵉ, f, h₁, h₂, p₁, p₂, P, W) \n",
    "\n",
    "            # Acumula Fᵉ em F usando a matriz de conectividade EQoLG\n",
    "            for a = 1:4\n",
    "                F[EQoLG[a,e]] += Fᵉ[a]\n",
    "            end\n",
    "        end\n",
    "    end\n",
    "\n",
    "    # Retorna o vetor global F com tamanho `m`, excluindo a última entrada adicional\n",
    "    return F[1:m]\n",
    "end\n",
    "\n",
    "function monta_F_cuda(f::Function, Nx1::Int64, Nx2::Int64, m::Int64, EQoLG)\n",
    "    # Comprimento da base (h₁) e altura (h₂) de cada elemento retangular Ωᵉ\n",
    "    h₁ = 1 / Nx1\n",
    "    h₂ = 1 / Nx2\n",
    "\n",
    "    # Número total de elementos finitos na malha\n",
    "    ne = Nx1 * Nx2\n",
    "\n",
    "    # P: Pontos de quadratura de Gauss-Legendre (ordem 5)\n",
    "    # W: Pesos de quadratura de Gauss-Legendre\n",
    "    P, W = legendre(5)\n",
    "    #P, W = CuArray(P), CuArray(W)\n",
    "\n",
    "    # Inicializa o vetor local Fᵉ\n",
    "    Fᵉ = CUDA.zeros(4)\n",
    "\n",
    "    # Inicializa o vetor global F com tamanho (m+1)\n",
    "    F = CUDA.zeros(m+1)\n",
    "    \n",
    "    # Loop sobre os elementos Ωᵉ (percorrendo cada subdivisão ao longo de x₂ e x₁)\n",
    "    for j = 1:Nx2\n",
    "        # Segunda componente do ponto inferior esquerdo do retângulo `Ωᵉ`.\n",
    "        p₂ = (j-1)*h₂ \n",
    "        for i = 1:Nx1\n",
    "            # Primeira componente do ponto inferior esquerdo do retângulo `Ωᵉ`.\n",
    "            p₁ = (i-1)*h₁\n",
    "            # Numeração do elemento finito atual (e) na malha\n",
    "            e = (j-1)*Nx1 + i \n",
    "\n",
    "            # Calcula o vetor local Fᵉ para o elemento e\n",
    "            monta_Fᵉ_cuda!(Fᵉ, f, h₁, h₂, p₁, p₂, P, W)\n",
    "\n",
    "            # Acumula Fᵉ em F usando a matriz de conectividade EQoLG\n",
    "            for a = 1:4\n",
    "                F[EQoLG[a,e]] += Fᵉ[a]\n",
    "            end\n",
    "        end\n",
    "    end\n",
    "\n",
    "    # Retorna o vetor global F com tamanho `m`, excluindo a última entrada adicional\n",
    "    return F[1:m]\n",
    "end"
   ]
  },
  {
   "cell_type": "code",
   "execution_count": null,
   "metadata": {},
   "outputs": [],
   "source": [
    "function teste_monta_F()\n",
    "\t# Teste 1\n",
    "\t#Nx1 = 4; Nx2 = 3; h₁ = 1/Nx1; h₂ = 1/Nx2;\n",
    "\t\n",
    "\t#m, EQ = monta_EQ(Nx1,Nx2)\n",
    "\t#LG = monta_LG(Nx1,Nx2)\n",
    "\t#EQoLG = EQ[LG]\n",
    "\t\n",
    "\t#F = monta_F((x₁,x₂) -> 4.0/(h₁*h₂), Nx1, Nx2, m, EQoLG)\n",
    "    #display(\"F - Teste 1\")\n",
    "\t#display(\"Nx1 = 4; Nx2 = 3; h₁ = 1/Nx1; h₂ = 1/Nx2; f(x₁,x₂) = 4/(h₁*h₂);\")\n",
    "\t#display(F)\n",
    "\t\n",
    "\t# Teste 2\n",
    "\tNx1 = 4; Nx2 = 4; h₁ = 1/Nx1; h₂ = 1/Nx2;\n",
    "\t\n",
    "\tm, EQ = monta_EQ(Nx1,Nx2)\n",
    "\tLG = monta_LG(Nx1,Nx2)\n",
    "\tEQoLG = EQ[LG]\n",
    "\t\n",
    "\tF = monta_F((x₁,x₂) -> (16*9*x₁*x₂)/((h₁*h₂)^2), Nx1, Nx2, m, EQoLG)\n",
    "    display(\"F - Teste 2\")\n",
    "\tdisplay(\"Nx1 = Nx2 = 4; h₁ = 1/Nx1; h₂ = 1/Nx2; f(x₁,x₂) = (16*9*x₁*x₂)/((h₁*h₂)^2);\")\n",
    "\tdisplay(F)\n",
    "end"
   ]
  },
  {
   "cell_type": "code",
   "execution_count": null,
   "metadata": {},
   "outputs": [],
   "source": [
    "teste_monta_F()"
   ]
  },
  {
   "cell_type": "code",
   "execution_count": null,
   "metadata": {},
   "outputs": [],
   "source": [
    "function teste_monta_F_cuda()\n",
    "\t# #Teste 1\n",
    "\t# Nx1 = 4; Nx2 = 3; h₁ = 1/Nx1; h₂ = 1/Nx2;\n",
    "\t\n",
    "\t# m, EQ = monta_EQ(Nx1,Nx2)\n",
    "\t# LG = monta_LG(Nx1,Nx2)\n",
    "\t# EQoLG = EQ[LG]\n",
    "\t\n",
    "\t# F = monta_F_cuda((x₁,x₂) -> 4.0/(h₁*h₂), Nx1, Nx2, m, EQoLG)\n",
    "    # display(\"F - Teste 1\")\n",
    "\t# display(\"Nx1 = 4; Nx2 = 3; h₁ = 1/Nx1; h₂ = 1/Nx2; f(x₁,x₂) = 4/(h₁*h₂);\")\n",
    "\t# display(F)\n",
    "\t\n",
    "\t# Teste 2\n",
    "\tNx1 = 4; Nx2 = 4; h₁ = 1/Nx1; h₂ = 1/Nx2;\n",
    "\t\n",
    "\tm, EQ = monta_EQ(Nx1,Nx2)\n",
    "\tLG = monta_LG(Nx1,Nx2)\n",
    "\tEQoLG = EQ[LG]\n",
    "\t\n",
    "\tF = monta_F_cuda((x₁,x₂) -> (16*9*x₁*x₂)/((h₁*h₂)^2), Nx1, Nx2, m, EQoLG)\n",
    "    display(\"F - Teste 2\")\n",
    "\tdisplay(\"Nx1 = Nx2 = 4; h₁ = 1/Nx1; h₂ = 1/Nx2; f(x₁,x₂) = (16*9*x₁*x₂)/((h₁*h₂)^2);\")\n",
    "\tdisplay(F)\n",
    "end"
   ]
  },
  {
   "cell_type": "code",
   "execution_count": null,
   "metadata": {},
   "outputs": [],
   "source": [
    "teste_monta_F_cuda()"
   ]
  },
  {
   "cell_type": "markdown",
   "metadata": {},
   "source": [
    "# Montagem da K global"
   ]
  },
  {
   "cell_type": "code",
   "execution_count": null,
   "metadata": {},
   "outputs": [],
   "source": [
    "function monta_K(α::Float64, β::Float64, Nx1::Int64, Nx2::Int64, m::Int64, EQoLG::Matrix{Int64}) :: SparseMatrixCSC{Float64, Int64}\n",
    "    h₁ = 1 / Nx1 # Comprimento da base do elemento finito retangular Ωᵉ\n",
    "    h₂ = 1 / Nx2 # Comprimento da altura do elemento finito retangular Ωᵉ\n",
    "\n",
    "    # Número de elementos na malha\n",
    "    ne = Nx1 * Nx2\n",
    "\n",
    "    # Pontos e pesos de quadratura de Gauss-Legendre\n",
    "    P, W = legendre(2)\n",
    "\n",
    "    # Calcula a matriz local Kᵉ\n",
    "    Kᵉ = monta_Kᵉ(α, β, h₁, h₂, P, W)\n",
    "\n",
    "    # Inicializa a matriz esparsa K com tamanho (m+1) x (m+1)\n",
    "    K = spzeros(m+1, m+1)\n",
    "\n",
    "    # Loop sobre os elementos\n",
    "    for e = 1:ne\n",
    "        # Loop sobre as colunas (b) e linhas (a) da matriz local Kᵉ\n",
    "        for b = 1:4\n",
    "            j = EQoLG[b,e]\n",
    "            for a = 1:4\n",
    "                i = EQoLG[a,e]\n",
    "                K[i,j] += Kᵉ[a,b]\n",
    "            end\n",
    "        end\n",
    "    end\n",
    "   \n",
    "    # Remove a última linha e coluna da matriz K\n",
    "    return K[1:m, 1:m]\n",
    "end\n",
    "\n",
    "function kernel_assemble_K!(\n",
    "        K_vals::CuDeviceVector{Float64, 1},\n",
    "        K_rows::CuDeviceVector{Int64, 1}, \n",
    "        K_cols::CuDeviceVector{Int64, 1},\n",
    "        EQoLG::CuDeviceMatrix{Int64,1},\n",
    "        K_e::CuDeviceMatrix{Float64,1},\n",
    "        ne::Int64)\n",
    "    idx = threadIdx().x + (blockIdx().x - 1) * blockDim().x\n",
    "    total_entries = ne * 16  # 4x4 contributions per element\n",
    "\n",
    "    if idx <= total_entries\n",
    "        # element index\n",
    "        e = div(idx-1, 16) + 1\n",
    "        ab = rem(idx-1, 16)\n",
    "        a = div(ab, 4) + 1\n",
    "        b = rem(ab, 4) + 1\n",
    "\n",
    "        i = EQoLG[a, e]\n",
    "        j = EQoLG[b, e]\n",
    "        val = K_e[a, b]\n",
    "\n",
    "        # you only need to store the global values togheter with its indices, doesn't matter the order\n",
    "        K_rows[idx] = i\n",
    "        K_cols[idx] = j\n",
    "        K_vals[idx] = val\n",
    "    end\n",
    "    return nothing\n",
    "end"
   ]
  },
  {
   "cell_type": "markdown",
   "metadata": {
    "jp-MarkdownHeadingCollapsed": true
   },
   "source": [
    "### coo2csc"
   ]
  },
  {
   "cell_type": "code",
   "execution_count": null,
   "metadata": {},
   "outputs": [],
   "source": [
    "function coo2csc(K_rows, K_cols, K_vals, m)\n",
    "    # Step 0: Sum repeated indices\n",
    "    combined_dict = Dict{Tuple{Int, Int}, Float64}()\n",
    "    for i in 1:length(K_rows)\n",
    "        key = (K_rows[i], K_cols[i])\n",
    "        if haskey(combined_dict, key)\n",
    "            combined_dict[key] += K_vals[i]  # Sum the values\n",
    "        else\n",
    "            combined_dict[key] = K_vals[i]\n",
    "        end\n",
    "    end\n",
    "\n",
    "    unique_rows = Int[]\n",
    "    unique_cols = Int[]\n",
    "    unique_vals = Float64[]\n",
    "    \n",
    "    for ((r, c), v) in combined_dict\n",
    "        push!(unique_rows, r)\n",
    "        push!(unique_cols, c)\n",
    "        push!(unique_vals, v)\n",
    "    end\n",
    "\n",
    "    # Step 1: Sort everything\n",
    "    sorted_indices = sortperm(unique_rows, by = identity)\n",
    "    K_rows = unique_rows[sorted_indices]\n",
    "    K_cols = unique_cols[sorted_indices]\n",
    "    K_vals = unique_vals[sorted_indices]\n",
    "    sorted_indices = sortperm(K_cols, by = identity)\n",
    "    K_rows = K_rows[sorted_indices]\n",
    "    K_cols = K_cols[sorted_indices]\n",
    "    K_vals = K_vals[sorted_indices]\n",
    "\n",
    "    # Step 2: Initialize col_pointers\n",
    "    col_pointers = zeros(Int, m + 2)\n",
    "\n",
    "    # Step 3: Count occurrences of each column index\n",
    "    for col in K_cols\n",
    "        col_pointers[col + 1] += 1\n",
    "    end\n",
    "\n",
    "    # Step 4: Perform cumulative sum\n",
    "    for i in 2:length(col_pointers)\n",
    "        col_pointers[i] += col_pointers[i - 1]\n",
    "    end\n",
    "\n",
    "    # Step 5: Change from zero-based to one-based\n",
    "    col_pointers .+= 1\n",
    "    return col_pointers, K_rows, K_vals\n",
    "end"
   ]
  },
  {
   "cell_type": "markdown",
   "metadata": {},
   "source": [
    "### monta_k_cuda"
   ]
  },
  {
   "cell_type": "code",
   "execution_count": null,
   "metadata": {},
   "outputs": [],
   "source": [
    "function monta_K_cuda(α::Float64, β::Float64, Nx1::Int64, Nx2::Int64, m::Int64, EQoLG0::Matrix{Int64})::CUDA.CUSPARSE.CuSparseMatrixCOO\n",
    "    h₁ = 1 / Nx1  # Width of the finite element base\n",
    "    h₂ = 1 / Nx2  # Height of the finite element\n",
    "\n",
    "    # Number of elements in the mesh\n",
    "    ne = Nx1 * Nx2\n",
    "\n",
    "    EQoLG = CuMatrix(EQoLG0)\n",
    "   \n",
    "    # Gauss-Legendre quadrature points and weights\n",
    "    P0, W0 = legendre(2)\n",
    "    P = CuArray(P0)\n",
    "    W = CuArray(W0)\n",
    "\n",
    "    # Compute the local matrix Kᵉ\n",
    "    K_e = monta_Kᵉ(α, β, h₁, h₂, P0, W0)\n",
    "    K_e = CuArray(K_e)\n",
    "\n",
    "    total_entries = ne * 16  # 4x4 contributions per element\n",
    "    K_vals = CUDA.fill(0.0, total_entries)\n",
    "    K_rows = CUDA.fill(0, total_entries)\n",
    "    K_cols = CUDA.fill(0, total_entries)\n",
    "\n",
    "    threads_per_block = 256\n",
    "    blocks = ceil(Int, total_entries / threads_per_block)\n",
    "\n",
    "    # Initialize the sparse matrix K as (m+1) x (m+1)\n",
    "    #K = CUDA.CUSPARSE.CuSparseMatrixCSC(Float64, m + 1, m + 1)\n",
    "\n",
    "    \n",
    "    \n",
    "    @cuda threads=256 kernel_assemble_K!(K_vals, K_rows, K_cols, EQoLG, K_e, ne)\n",
    "\n",
    "    # Construct the sparse matrix from the arrays\n",
    "    #display(length(EQoLG))\n",
    "    #display(transpose(K_rows))\n",
    "    #display(transpose(K_cols))\n",
    "    #display(transpose(K_vals))\n",
    "    \n",
    "    # Perform conversion\n",
    "\n",
    "    function sort_by_rows(K_rows, K_cols, K_vals)\n",
    "        # Generate sorting order based on K_rows\n",
    "        sorted_indices = sortperm(K_rows, by = identity)\n",
    "        \n",
    "        # Sort K_rows, K_cols, and K_vals based on the sorting order\n",
    "        K_rows_sorted = K_rows[sorted_indices]\n",
    "        K_cols_sorted = K_cols[sorted_indices]\n",
    "        K_vals_sorted = K_vals[sorted_indices]\n",
    "        \n",
    "        return K_rows_sorted, K_cols_sorted, K_vals_sorted\n",
    "    end\n",
    "    #K_rows_sorted, K_cols_sorted, K_vals_sorted = sort_by_rows(K_rows, K_cols, K_vals)\n",
    "    #display(transpose(K_rows_sorted))\n",
    "    #display(transpose(K_cols_sorted))\n",
    "    #display(transpose(K_vals_sorted))\n",
    "    #K_full = CUDA.CUSPARSE.CuSparseMatrixCOO{Float64,Int64}(\n",
    "    #    K_rows_sorted, K_cols_sorted, K_vals_sorted,\n",
    "    #     (m+1,m+1)\n",
    "    #)\n",
    "\n",
    "\n",
    "    # tentativa 3\n",
    "    #col_pointers = zeros(Int, length(K_cols) + 1)\n",
    "    \n",
    "    # Step 2: Count occurrences of each column index\n",
    "    #for col in K_cols\n",
    "    #    col_pointers[col + 1] += 1\n",
    "    #end\n",
    "    \n",
    "    #for i in 2:length(col_pointers) # \n",
    "    #    col_pointers[i] += col_pointers[i - 1]\n",
    "    #end\n",
    "    \n",
    "    #for i in 1:length(col_pointers)\n",
    "    #    col_pointers[i] += 1\n",
    "    #end\n",
    "    #display(transpose(col_pointers))\n",
    "    #display(transpose(K_rows))\n",
    "    #display(transpose(K_vals))\n",
    "    col_pointers, K_rows, K_vals = coo2csc(K_rows,K_cols,K_vals,m)\n",
    "    typeof(col_pointers)\n",
    "    #writedlm(\"outputK_rows.txt\", transpose(K_rows), ',')\n",
    "    #writedlm(\"outputK_vals.txt\", transpose(K_vals), ',')\n",
    "    \n",
    "    k_row = [1,2,4,5,7,1,2,3,4,5,6,7,2,3,5,6,7,1,2,4,5,7,1,2,3,4,5,6,7,2,3,5,6,7,1,2,3,4,5,6,7]\n",
    "    k_colptr = [1,  6,  13,  18,  23,  30,  35,  42]\n",
    "    k_val = [2.814814814814815,-0.6296296296296295,-0.04629629629629622,-0.3449074074074074,-1.710648148148148,-0.6296296296296295,2.814814814814815,-0.6296296296296295,-0.3449074074074074,-0.04629629629629622,-0.3449074074074074,-0.7361111111111109,-0.6296296296296295,2.814814814814815,-0.3449074074074074,-0.04629629629629622,-1.710648148148148,-0.046296296296296224,-0.3449074074074074,2.814814814814815,-0.6296296296296295,-1.710648148148148,-0.3449074074074074,-0.046296296296296224,-0.3449074074074074,-0.6296296296296295,2.814814814814815,-0.6296296296296295,-0.736111111111111,-0.3449074074074074,-0.046296296296296224,-0.6296296296296295,2.814814814814815,-1.7106481481481481,-1.710648148148148,-0.7361111111111109,-1.710648148148148,-1.710648148148148,-0.736111111111111,-1.7106481481481481,8.814814814814818]\n",
    "\n",
    "    display(transpose(K_vals))\n",
    "    display(transpose(k_val))\n",
    "    display(k_val==K_vals)\n",
    "    #display(K_rows==k_row)\n",
    "    #display(col_pointers)\n",
    "    #display(k_colptr)\n",
    "    #display(k_colptr==col_pointers)\n",
    "    \n",
    "    col_pointers = CuArray(col_pointers)\n",
    "    K_rows = CuArray(K_rows)\n",
    "    K_vals = CuArray(K_vals)\n",
    "\n",
    "    #display(transpose(col_pointers))\n",
    "    #display(transpose(K_rows))\n",
    "    \n",
    "    \n",
    "    K_full = CUDA.CUSPARSE.CuSparseMatrixCSC{Float64,Int64}(\n",
    "        col_pointers, K_rows, K_vals,\n",
    "         (m+1,m+1)\n",
    "    )\n",
    "    \n",
    "    #K_Full = CUDA.CUSPARSE.CuSparseMatrixCSC(K_full)\n",
    "    #K_vals_cpu = Array(K_vals)\n",
    "    #K_rows_cpu = Array(K_rows)\n",
    "    #K_cols_cpu = Array(K_cols)\n",
    "    \n",
    "    #K_full = sparse(K_rows_cpu, K_cols_cpu, K_vals_cpu, m + 1, m + 1)\n",
    "\n",
    "    # Remove the last row and column to get size (m, m)\n",
    "    #K_reduced = K_full[1:m, 1:m]\n",
    "    # Remove the last row and column of K\n",
    "    return K_full\n",
    "end"
   ]
  },
  {
   "cell_type": "code",
   "execution_count": null,
   "metadata": {},
   "outputs": [],
   "source": [
    "CUDA.pool_status()"
   ]
  },
  {
   "cell_type": "markdown",
   "metadata": {},
   "source": [
    "### testes"
   ]
  },
  {
   "cell_type": "code",
   "execution_count": null,
   "metadata": {},
   "outputs": [],
   "source": [
    "function teste_monta_K_cuda()\n",
    "\tα = 1.0; β = 1.0; Nx1 = 4; Nx2 = 3\n",
    "\tm, EQ = monta_EQ(Nx1,Nx2)\n",
    "\tLG = monta_LG(Nx1,Nx2)\n",
    "\tEQoLG = EQ[LG]\n",
    "\t\n",
    "\tK = monta_K_cuda(α, β, Nx1, Nx2, m, EQoLG)\n",
    "\n",
    "\tdisplay(\"Parâmetros de entrada: α = 1.0; β = 1.0; Nx1 = 4; Nx2 = 3\")\n",
    "\tdisplay(K)\n",
    "end\n",
    "teste_monta_K_cuda()"
   ]
  },
  {
   "cell_type": "code",
   "execution_count": 58,
   "metadata": {},
   "outputs": [
    {
     "ename": "LoadError",
     "evalue": "CUDA error: an illegal memory access was encountered (code 700, ERROR_ILLEGAL_ADDRESS)",
     "output_type": "error",
     "traceback": [
      "CUDA error: an illegal memory access was encountered (code 700, ERROR_ILLEGAL_ADDRESS)",
      "",
      "Stacktrace:",
      "  [1] throw_api_error(res::CUDA.cudaError_enum)",
      "    @ CUDA ~/.julia/packages/CUDA/2kjXI/lib/cudadrv/libcuda.jl:30",
      "  [2] check(f::CUDA.var\"#7#8\"{Base.RefValue{UInt64}, Base.RefValue{UInt64}})",
      "    @ CUDA ~/.julia/packages/CUDA/2kjXI/lib/cudadrv/libcuda.jl:37",
      "  [3] cuMemGetInfo_v2(free::Base.RefValue{UInt64}, total::Base.RefValue{UInt64})",
      "    @ CUDA ~/.julia/packages/CUDA/2kjXI/lib/utils/call.jl:34",
      "  [4] memory_info",
      "    @ ~/.julia/packages/CUDA/2kjXI/lib/cudadrv/memory.jl:859 [inlined]",
      "  [5] free_memory",
      "    @ ~/.julia/packages/CUDA/2kjXI/lib/cudadrv/memory.jl:868 [inlined]",
      "  [6] maybe_collect(will_block::Bool)",
      "    @ CUDA ~/.julia/packages/CUDA/2kjXI/src/memory.jl:80",
      "  [7] maybe_collect",
      "    @ ~/.julia/packages/CUDA/2kjXI/src/memory.jl:65 [inlined]",
      "  [8] pool_alloc",
      "    @ ~/.julia/packages/CUDA/2kjXI/src/memory.jl:615 [inlined]",
      "  [9] CuArray{Int64, 1, CUDA.DeviceMemory}(::UndefInitializer, dims::Tuple{Int64})",
      "    @ CUDA ~/.julia/packages/CUDA/2kjXI/src/array.jl:74",
      " [10] CuArray",
      "    @ ~/.julia/packages/CUDA/2kjXI/src/array.jl:405 [inlined]",
      " [11] CuArray",
      "    @ ~/.julia/packages/CUDA/2kjXI/src/array.jl:410 [inlined]",
      " [12] CuArray(A::Vector{Int64})",
      "    @ CUDA ~/.julia/packages/CUDA/2kjXI/src/array.jl:419",
      " [13] top-level scope",
      "    @ In[58]:5"
     ]
    }
   ],
   "source": [
    "k_row = [1,2,4,5,7,1,2,3,4,5,6,7,2,3,5,6,7,1,2,4,5,7,1,2,3,4,5,6,7,2,3,5,6,7,1,2,3,4,5,6,7]\n",
    "k_colptr = [1,  6,  13,  18,  23,  30,  35,  42]\n",
    "k_val = [2.814814814814815,-0.6296296296296295,-0.04629629629629622,-0.3449074074074074,-1.710648148148148,-0.6296296296296295,2.814814814814815,-0.6296296296296295,-0.3449074074074074,-0.04629629629629622,-0.3449074074074074,-0.7361111111111109,-0.6296296296296295,2.814814814814815,-0.3449074074074074,-0.04629629629629622,-1.710648148148148,-0.046296296296296224,-0.3449074074074074,2.814814814814815,-0.6296296296296295,-1.710648148148148,-0.3449074074074074,-0.046296296296296224,-0.3449074074074074,-0.6296296296296295,2.814814814814815,-0.6296296296296295,-0.736111111111111,-0.3449074074074074,-0.046296296296296224,-0.6296296296296295,2.814814814814815,-1.7106481481481481,-1.710648148148148,-0.7361111111111109,-1.710648148148148,-1.710648148148148,-0.736111111111111,-1.7106481481481481,8.814814814814818]\n",
    "\n",
    "K_full = CUDA.CUSPARSE.CuSparseMatrixCSC{Float64,Int64}(\n",
    "        CuArray(k_colptr), CuArray(k_row), CuArray(k_val),\n",
    "         (7,7)\n",
    "    )\n",
    "K_full"
   ]
  },
  {
   "cell_type": "code",
   "execution_count": 116,
   "metadata": {},
   "outputs": [
    {
     "data": {
      "text/plain": [
       "1×4 transpose(::Vector{Int64}) with eltype Int64:\n",
       " 1  1  3  2"
      ]
     },
     "metadata": {},
     "output_type": "display_data"
    },
    {
     "data": {
      "text/plain": [
       "1×4 transpose(::Vector{Int64}) with eltype Int64:\n",
       " 2  1  3  1"
      ]
     },
     "metadata": {},
     "output_type": "display_data"
    },
    {
     "data": {
      "text/plain": [
       "1×4 transpose(::Vector{Float64}) with eltype Float64:\n",
       " 30.0  10.0  90.0  20.0"
      ]
     },
     "metadata": {},
     "output_type": "display_data"
    },
    {
     "data": {
      "text/plain": [
       "1×5 transpose(::Vector{Int64}) with eltype Int64:\n",
       " 2  1  3  3  1"
      ]
     },
     "metadata": {},
     "output_type": "display_data"
    },
    {
     "data": {
      "text/plain": [
       "1×5 transpose(::Vector{Int64}) with eltype Int64:\n",
       " 1  1  3  3  2"
      ]
     },
     "metadata": {},
     "output_type": "display_data"
    },
    {
     "data": {
      "text/plain": [
       "1×5 transpose(::Vector{Float64}) with eltype Float64:\n",
       " 20.0  10.0  50.0  40.0  30.0"
      ]
     },
     "metadata": {},
     "output_type": "display_data"
    },
    {
     "data": {
      "text/plain": [
       "1×4 transpose(::Vector{Int64}) with eltype Int64:\n",
       " 1  2  1  3"
      ]
     },
     "metadata": {},
     "output_type": "display_data"
    },
    {
     "data": {
      "text/plain": [
       "1×4 transpose(::Vector{Int64}) with eltype Int64:\n",
       " 1  1  2  3"
      ]
     },
     "metadata": {},
     "output_type": "display_data"
    },
    {
     "data": {
      "text/plain": [
       "1×4 transpose(::Vector{Float64}) with eltype Float64:\n",
       " 10.0  20.0  30.0  90.0"
      ]
     },
     "metadata": {},
     "output_type": "display_data"
    },
    {
     "data": {
      "text/plain": [
       "\"after counting occurrences\""
      ]
     },
     "metadata": {},
     "output_type": "display_data"
    },
    {
     "data": {
      "text/plain": [
       "4-element Vector{Int64}:\n",
       " 0\n",
       " 2\n",
       " 1\n",
       " 1"
      ]
     },
     "metadata": {},
     "output_type": "display_data"
    },
    {
     "data": {
      "text/plain": [
       "\"after cumulative sum\""
      ]
     },
     "metadata": {},
     "output_type": "display_data"
    },
    {
     "data": {
      "text/plain": [
       "4-element Vector{Int64}:\n",
       " 0\n",
       " 2\n",
       " 3\n",
       " 4"
      ]
     },
     "metadata": {},
     "output_type": "display_data"
    },
    {
     "data": {
      "text/plain": [
       "\"after element increase\""
      ]
     },
     "metadata": {},
     "output_type": "display_data"
    },
    {
     "data": {
      "text/plain": [
       "4-element Vector{Int64}:\n",
       " 1\n",
       " 3\n",
       " 4\n",
       " 5"
      ]
     },
     "metadata": {},
     "output_type": "display_data"
    },
    {
     "data": {
      "text/plain": [
       "1×4 transpose(::Vector{Int64}) with eltype Int64:\n",
       " 1  3  4  5"
      ]
     },
     "metadata": {},
     "output_type": "display_data"
    },
    {
     "data": {
      "text/plain": [
       "1×4 transpose(::Vector{Int64}) with eltype Int64:\n",
       " 1  2  1  3"
      ]
     },
     "metadata": {},
     "output_type": "display_data"
    },
    {
     "data": {
      "text/plain": [
       "1×4 transpose(::Vector{Float64}) with eltype Float64:\n",
       " 10.0  20.0  30.0  90.0"
      ]
     },
     "metadata": {},
     "output_type": "display_data"
    },
    {
     "data": {
      "text/plain": [
       "3×3 CUDA.CUSPARSE.CuSparseMatrixCSC{Float64, Int32} with 4 stored entries:\n",
       " 10.0  30.0    ⋅ \n",
       " 20.0    ⋅     ⋅ \n",
       "   ⋅     ⋅   90.0"
      ]
     },
     "execution_count": 116,
     "metadata": {},
     "output_type": "execute_result"
    }
   ],
   "source": [
    "#K_rows = [1, 2, 1, 3, 3]  # Julia uses 1-based indexing\n",
    "#K_cols = [1, 1, 2, 3, 3]\n",
    "K_rows = [2, 1, 3, 3, 1]\n",
    "K_cols = [1, 1, 3, 3, 2]\n",
    "K_vals = [20.0, 10.0, 50.0, 40.0, 30.0]\n",
    "num_cols = 3\n",
    "num_rows = 3\n",
    "\n",
    "# Step 0: Sum repeated indices\n",
    "combined_dict = Dict{Tuple{Int, Int}, Float64}()\n",
    "for i in 1:length(K_rows)\n",
    "    key = (K_rows[i], K_cols[i])\n",
    "    if haskey(combined_dict, key)\n",
    "        combined_dict[key] += K_vals[i]  # Sum the values\n",
    "    else\n",
    "        combined_dict[key] = K_vals[i]\n",
    "    end\n",
    "end\n",
    "\n",
    "unique_rows = Int[]\n",
    "unique_cols = Int[]\n",
    "unique_vals = Float64[]\n",
    "\n",
    "for ((r, c), v) in combined_dict\n",
    "    push!(unique_rows, r)\n",
    "    push!(unique_cols, c)\n",
    "    push!(unique_vals, v)\n",
    "end\n",
    "\n",
    "display(transpose(unique_rows))\n",
    "display(transpose(unique_cols))\n",
    "display(transpose(unique_vals))\n",
    "\n",
    "# Step -1: Sort everything\n",
    "display(transpose(K_rows))\n",
    "display(transpose(K_cols))\n",
    "display(transpose(K_vals))\n",
    "\n",
    "sorted_indices = sortperm(unique_rows, by = identity)\n",
    "K_rows = unique_rows[sorted_indices]\n",
    "K_cols = unique_cols[sorted_indices]\n",
    "K_vals = unique_vals[sorted_indices]\n",
    "sorted_indices = sortperm(K_cols, by = identity)\n",
    "K_rows = K_rows[sorted_indices]\n",
    "K_cols = K_cols[sorted_indices]\n",
    "K_vals = K_vals[sorted_indices]\n",
    "\n",
    "display(transpose(K_rows))\n",
    "display(transpose(K_cols))\n",
    "display(transpose(K_vals))\n",
    "\n",
    "# Step 1: Initialize col_pointers\n",
    "col_pointers = zeros(Int, num_cols + 1)\n",
    "\n",
    "# Step 2: Count occurrences of each column index\n",
    "for col in K_cols\n",
    "    col_pointers[col + 1] += 1\n",
    "end\n",
    "\n",
    "display(\"after counting occurrences\")\n",
    "display(col_pointers)\n",
    "\n",
    "# Step 3: Perform cumulative sum\n",
    "for i in 2:length(col_pointers)\n",
    "    col_pointers[i] += col_pointers[i - 1]\n",
    "end\n",
    "\n",
    "display(\"after cumulative sum\")\n",
    "display(col_pointers)\n",
    "\n",
    "col_pointers .+= 1\n",
    "\n",
    "display(\"after element increase\")\n",
    "display(col_pointers)\n",
    "\n",
    "display(transpose(col_pointers))\n",
    "display(transpose(K_rows))\n",
    "display(transpose(K_vals))\n",
    "CUDA.CUSPARSE.CuSparseMatrixCSC(\n",
    "        CuArray(col_pointers), CuArray(K_rows), CuArray(K_vals),\n",
    "         (3,3)\n",
    ")"
   ]
  },
  {
   "cell_type": "code",
   "execution_count": 12,
   "metadata": {},
   "outputs": [
    {
     "data": {
      "text/plain": [
       "4-element Vector{Int64}:\n",
       " 0\n",
       " 0\n",
       " 0\n",
       " 0"
      ]
     },
     "metadata": {},
     "output_type": "display_data"
    }
   ],
   "source": [
    "# Original data\n",
    "K_rows .=  CuArray([0, 1, 1, 2])\n",
    "K_cols = CuArray([0, 0, 2, 1])\n",
    "K_vals =  CuArray([10.0, 20.0, 30.0, 40.0])\n",
    "\n",
    "# Initialize col_pointers on the GPU\n",
    "col_pointers = CUDA.zeros(Int, length(K_cols))\n",
    "\n",
    "# Using countmap (currently operates on CPU)\n",
    "counts = countmap(Array(K_cols))  # Note: countmap does not support GPU arrays yet\n",
    "col_pointers[2:end] .= get(counts, 1:2, 0)\n",
    "\n",
    "# Compute cumulative sum\n",
    "col_pointers .= cumsum(col_pointers)\n",
    "\n",
    "# Transfer col_pointers back to CPU for display\n",
    "display(Array(col_pointers))"
   ]
  },
  {
   "cell_type": "code",
   "execution_count": 140,
   "metadata": {},
   "outputs": [
    {
     "data": {
      "text/plain": [
       "\"Parâmetros de entrada: α = 1.0; β = 1.0; Nx1 = 4; Nx2 = 3\""
      ]
     },
     "metadata": {},
     "output_type": "display_data"
    },
    {
     "data": {
      "text/plain": [
       "6×6 SparseMatrixCSC{Float64, Int64} with 28 stored entries:\n",
       "  2.81481    -0.62963      ⋅         -0.0462963  -0.344907     ⋅ \n",
       " -0.62963     2.81481    -0.62963    -0.344907   -0.0462963  -0.344907\n",
       "   ⋅         -0.62963     2.81481      ⋅         -0.344907   -0.0462963\n",
       " -0.0462963  -0.344907     ⋅          2.81481    -0.62963      ⋅ \n",
       " -0.344907   -0.0462963  -0.344907   -0.62963     2.81481    -0.62963\n",
       "   ⋅         -0.344907   -0.0462963    ⋅         -0.62963     2.81481"
      ]
     },
     "metadata": {},
     "output_type": "display_data"
    }
   ],
   "source": [
    "function teste_monta_K()\n",
    "\tα = 1.0; β = 1.0; Nx1 = 4; Nx2 = 3\n",
    "\t\n",
    "\tm, EQ = monta_EQ(Nx1,Nx2)\n",
    "\tLG = monta_LG(Nx1,Nx2)\n",
    "\tEQoLG = EQ[LG]\n",
    "\t\n",
    "\tK = monta_K(α, β, Nx1, Nx2, m, EQoLG)\n",
    "\n",
    "\tdisplay(\"Parâmetros de entrada: α = 1.0; β = 1.0; Nx1 = 4; Nx2 = 3\")\n",
    "\tdisplay(K)\n",
    "end\n",
    "teste_monta_K()"
   ]
  },
  {
   "cell_type": "code",
   "execution_count": 144,
   "metadata": {},
   "outputs": [
    {
     "data": {
      "text/plain": [
       "erro_norma_L2 (generic function with 1 method)"
      ]
     },
     "execution_count": 144,
     "metadata": {},
     "output_type": "execute_result"
    }
   ],
   "source": [
    "function erro_norma_L2(u::Function, c̄::Vector{Float64}, Nx1::Int64, Nx2::Int64, EQoLG::Matrix{Int64}) :: Float64\n",
    "    # Comprimentos da base (h₁) e altura (h₂) de cada elemento retangular Ωᵉ\n",
    "    h₁ = 1 / Nx1\n",
    "    h₂ = 1 / Nx2\n",
    "\n",
    "    # Inicializa o erro\n",
    "    erro = 0.0\n",
    "\n",
    "    # Define o número de pontos de quadratura (Npg) e os pontos (P) e pesos (W)\n",
    "    Npg = 5\n",
    "    P, W = legendre(Npg)\n",
    "\n",
    "    # Loop sobre os elementos Ωᵉ (percorrendo cada subdivisão ao longo de x₂ e x₁)\n",
    "    for j = 1:Nx2\n",
    "        # Calcula a segunda componente do ponto inferior esquerdo do retângulo `Ωᵉ`.\n",
    "        p₂ = (j - 1) * h₂ \n",
    "        for i = 1:Nx1\n",
    "            # Calcula a primeira componente do ponto inferior esquerdo de `Ωᵉ`.\n",
    "            p₁ = (i - 1) * h₁\n",
    "            # Identifica o número do elemento finito atual (e) na malha\n",
    "            e = (j - 1) * Nx1 + i\n",
    "\n",
    "            # Obtém os coeficientes `c` da solução aproximada no elemento `e` \n",
    "            c1e = c̄[EQoLG[1, e]]\n",
    "            c2e = c̄[EQoLG[2, e]]\n",
    "            c3e = c̄[EQoLG[3, e]]\n",
    "            c4e = c̄[EQoLG[4, e]]\n",
    "\n",
    "            # Realiza a integração dupla usando quadratura de Gauss-Legendre\n",
    "            for b = 1:Npg\n",
    "                # Coordenada ξ₂ no espaço de referência e x₂ no espaço físico\n",
    "                ξ₂ = P[b]\n",
    "                x₂ = x₂_de_ξ(ξ₂, h₂, p₂)\n",
    "                for a = 1:Npg\n",
    "                    # Coordenada ξ₁ no espaço de referência e x₁ no espaço físico\n",
    "                    ξ₁ = P[a]\n",
    "                    x₁ = x₁_de_ξ(ξ₁, h₁, p₁)\n",
    "\n",
    "                    # Acumula a contribuição da quadratura\n",
    "                    erro += W[a] * W[b] * (u(x₁, x₂) - \n",
    "                        c1e * ϕ(ξ₁, ξ₂, 1) -\n",
    "                        c2e * ϕ(ξ₁, ξ₂, 2) -\n",
    "                        c3e * ϕ(ξ₁, ξ₂, 3) -\n",
    "                        c4e * ϕ(ξ₁, ξ₂, 4))^2\n",
    "                end\n",
    "            end\n",
    "        end\n",
    "    end\n",
    "\n",
    "    return sqrt(erro * h₁ * h₂ / 4)\n",
    "end"
   ]
  },
  {
   "cell_type": "code",
   "execution_count": 145,
   "metadata": {},
   "outputs": [
    {
     "data": {
      "text/plain": [
       "plot_solução_aproximada (generic function with 1 method)"
      ]
     },
     "execution_count": 145,
     "metadata": {},
     "output_type": "execute_result"
    }
   ],
   "source": [
    "function plot_solução_aproximada(c̄::Vector{Float64}, \n",
    "    Nx1::Int64, Nx2::Int64, EQoLG::Matrix{Int64})\n",
    "# Comprimentos da base (h₁) e altura (h₂) de cada elemento retangular Ωᵉ\n",
    "h₁, h₂ = 1 / Nx1, 1 / Nx2\n",
    "\n",
    "# Define uma discretização do intervalo de referência [-1, 1] nos eixos ξ₁ e ξ₂\n",
    "ξ₁ = collect(-1:0.1:1) \n",
    "ξ₂ = collect(-1:0.1:1) \n",
    "\n",
    "# Inicializa um objeto de gráfico que acumulará as superfícies\n",
    "plt = Plots.plot(seriestype = :surface, title=\"Solução Aproximada\",\n",
    "color=:viridis,\n",
    "xlabel=\"x₁\", ylabel=\"x₂\", colorbar=false, zlims=(0,1),\n",
    "xticks=[0, 0.5, 1], yticks=[0, 0.5, 1], zticks=[0, 1])\n",
    "\n",
    "# Loop nos elementos da malha (percorrendo cada subdivisão ao longo de x₂ e x₁)\n",
    "for j = 1:Nx2\n",
    "# Define a segunda coordenada do ponto inferior esquerdo do retângulo `Ωᵉ`.\n",
    "p₂ = (j - 1) * h₂\n",
    "# Calcula os valores correspondentes no eixo x₂ para os pontos ξ₂ em [-1,1]\n",
    "x₂ = x₂_de_ξ.(ξ₂, h₂, p₂)\n",
    "\n",
    "for i = 1:Nx1\n",
    "# Primeira coordenada do ponto inferior esquerdo do retângulo `Ωᵉ`.\n",
    "p₁ = (i - 1) * h₁\n",
    "# Valores correspondentes no eixo x₁ para os pontos ξ₁ em [-1,1]\n",
    "x₁ = x₁_de_ξ.(ξ₁, h₁, p₁)\n",
    "\n",
    "# Determina a numeração do elemento finito atual (`e`) na malha\n",
    "e = (j - 1) * Nx1 + i\n",
    "\n",
    "# Obtém os coeficientes `c` da solução aproximada no elemento `e`\n",
    "ce = c̄[EQoLG[:, e]]\n",
    "\n",
    "# Solução aproximada na malha x₁ × x₂. Tamanho length(x₂) x length(x₁)\n",
    "mat = [dot(ce,ϕ(ξ₁[a],ξ₂[b])) for b in 1:length(x₂), a in 1:length(x₁)]\n",
    "\n",
    "# Exibindo os resultados\n",
    "# display(\"------------------------------\")\n",
    "# display(\"e = $e\")\n",
    "# display(\"p1, p2 = $p₁, $p₂\")\n",
    "# display(\"ce = $ce\")\n",
    "# display(\"x₁ = $x₁\")\n",
    "# display(\"x₂ = $x₂\")\n",
    "# display(\"uₕ(x₁[a],x₂[b]) for b in 1:length(x₂), a in 1:length(x₁)\")\n",
    "# display(mat)\n",
    "\n",
    "# Gera o gráfico da solução aproximada sobre o elemento `e`\n",
    "Plots.plot!(plt, x₁, x₂, mat, seriestype = :surface, alpha=0.5)\n",
    "end\n",
    "end\n",
    "\n",
    "return plt\n",
    "end"
   ]
  },
  {
   "cell_type": "code",
   "execution_count": 155,
   "metadata": {},
   "outputs": [
    {
     "data": {
      "text/plain": [
       "estudo_do_erro (generic function with 1 method)"
      ]
     },
     "execution_count": 155,
     "metadata": {},
     "output_type": "execute_result"
    }
   ],
   "source": [
    "function estudo_do_erro()\n",
    "\t# Carrega os dados de entrada da EDP\n",
    "    α, β, f, u = exemplo1()\n",
    "\n",
    "    # Define os valores para Nx1 (subdivisões em x₁) e Nx2 (subdivisões em x₂)\n",
    "    vec_Nx1 = [2^i for i in 2:7]\n",
    "    vec_Nx2 = vec_Nx1\n",
    "\n",
    "    # Calcula os valores de `h` para cada combinação de vec_Nx1[i] e vec_Nx2[i]\n",
    "    vec_h = sqrt.( (1 ./ vec_Nx1).^2 + (1 ./ vec_Nx2).^2 )\n",
    "\n",
    "    # Inicializa o vetor para armazenar os erros da norma L2\n",
    "    vec_erro = zeros(length(vec_Nx1))\n",
    "\n",
    "    # Loop sobre os valores de Nx1 e Nx2\n",
    "    for i = 1:length(vec_Nx1)\n",
    "        Nx1 = vec_Nx1[i]\n",
    "        Nx2 = vec_Nx2[i]\n",
    "\n",
    "        # Gera a matriz de conectividade local/global (LG)\n",
    "        LG = monta_LG(Nx1, Nx2)\n",
    "\n",
    "        # Gera o valor de `m` e o vetor `EQ`\n",
    "        m, EQ = monta_EQ(Nx1, Nx2)\n",
    "\n",
    "        # Define a matriz de conectividade EQoLG\n",
    "        EQoLG = EQ[LG]\n",
    "\n",
    "        # Monta a matriz esparsa `K`\n",
    "        @time begin\n",
    "        K = monta_K(α, β, Nx1, Nx2, m, EQoLG)\n",
    "        # Monta o vetor global `F`\n",
    "        F = monta_F(f, Nx1, Nx2, m, EQoLG)\n",
    "\n",
    "        # Resolve o sistema linear Kc = F\n",
    "        c = K \\ F\n",
    "        end\n",
    "\n",
    "        # Calcula o erro na norma L2 entre a solução exata `u` e a solução aproximada\n",
    "        vec_erro[i] = erro_norma_L2(u, [c;0], Nx1, Nx2, EQoLG)\n",
    "    end\n",
    "\n",
    "    return vec_h, vec_erro\n",
    "end"
   ]
  },
  {
   "cell_type": "code",
   "execution_count": 147,
   "metadata": {},
   "outputs": [
    {
     "data": {
      "text/plain": [
       "plot_estudo_do_erro (generic function with 1 method)"
      ]
     },
     "execution_count": 147,
     "metadata": {},
     "output_type": "execute_result"
    }
   ],
   "source": [
    "function plot_estudo_do_erro()\n",
    "\t# Realiza o estudo do erro e mede o tempo de execução\n",
    "\t@time begin\n",
    "\t\tvec_h, vec_erro = estudo_do_erro()\n",
    "\tend\n",
    "\n",
    "    # Cria o gráfico do erro na norma L2 em função de h, diâmetro de cada Ωᵉ\n",
    "    plt = Plots.plot(\n",
    "        vec_h, vec_erro, lw=3, linestyle=:solid, markershape=:circle,\n",
    "        label=\"Erro\", title=\"Estudo do erro\",\n",
    "        xscale=:log10, yscale=:log10, legend=:topleft\n",
    "    )\n",
    "\n",
    "    # Adiciona a curva teórica de h² ao gráfico\n",
    "    Plots.plot!(plt, vec_h, vec_h.^2, lw=3, linestyle=:solid, label=\"h²\")\n",
    "\n",
    "    # Adiciona rótulos aos eixos\n",
    "    Plots.xlabel!(\"h\")\n",
    "    Plots.ylabel!(\"Erro\")\n",
    "\n",
    "    # Exibe uma tabela com os valores de h e erro\n",
    "    display(\"Tabela com os valores de h e erro:\")\n",
    "    display(DataFrame(h=vec_h, erro=vec_erro))\n",
    "\n",
    "\t# Retorna o gráfico \n",
    "\treturn plt\n",
    "end\n"
   ]
  },
  {
   "cell_type": "code",
   "execution_count": 154,
   "metadata": {},
   "outputs": [
    {
     "data": {
      "text/plain": [
       "estudo_do_erro_cuda (generic function with 1 method)"
      ]
     },
     "execution_count": 154,
     "metadata": {},
     "output_type": "execute_result"
    }
   ],
   "source": [
    "function estudo_do_erro_cuda()\n",
    "\t# Carrega os dados de entrada da EDP\n",
    "    α, β, f, u = exemplo1()\n",
    "\n",
    "    # Define os valores para Nx1 (subdivisões em x₁) e Nx2 (subdivisões em x₂)\n",
    "    vec_Nx1 = [2^i for i in 2:7]\n",
    "    vec_Nx2 = vec_Nx1\n",
    "\n",
    "    # Calcula os valores de `h` para cada combinação de vec_Nx1[i] e vec_Nx2[i]\n",
    "    vec_h = sqrt.( (1 ./ vec_Nx1).^2 + (1 ./ vec_Nx2).^2 )\n",
    "\n",
    "    # Inicializa o vetor para armazenar os erros da norma L2\n",
    "    vec_erro = zeros(length(vec_Nx1))\n",
    "\n",
    "    # Loop sobre os valores de Nx1 e Nx2\n",
    "    for i = 1:length(vec_Nx1)\n",
    "        Nx1 = vec_Nx1[i]\n",
    "        Nx2 = vec_Nx2[i]\n",
    "\n",
    "        # Gera a matriz de conectividade local/global (LG)\n",
    "        LG = monta_LG(Nx1, Nx2)\n",
    "\n",
    "        # Gera o valor de `m` e o vetor `EQ`\n",
    "        m, EQ = monta_EQ(Nx1, Nx2)\n",
    "\n",
    "        # Define a matriz de conectividade EQoLG\n",
    "        EQoLG = EQ[LG]\n",
    "\n",
    "        # Monta a matriz esparsa `K`\n",
    "        @time begin\n",
    "        K = monta_K_cuda(α, β, Nx1, Nx2, m, EQoLG)\n",
    "        # Monta o vetor global `F`\n",
    "        F = monta_F(f, Nx1, Nx2, m, EQoLG)\n",
    "\n",
    "        # Resolve o sistema linear Kc = F\n",
    "        c = cu(K) \\ cu(F)\n",
    "        end\n",
    "\n",
    "        # Calcula o erro na norma L2 entre a solução exata `u` e a solução aproximada\n",
    "        vec_erro[i] = erro_norma_L2(u, [c;0], Nx1, Nx2, EQoLG)\n",
    "    end\n",
    "\n",
    "    return vec_h, vec_erro\n",
    "end"
   ]
  },
  {
   "cell_type": "code",
   "execution_count": 149,
   "metadata": {},
   "outputs": [
    {
     "data": {
      "text/plain": [
       "plot_estudo_do_erro_cuda (generic function with 1 method)"
      ]
     },
     "execution_count": 149,
     "metadata": {},
     "output_type": "execute_result"
    }
   ],
   "source": [
    "function plot_estudo_do_erro_cuda()\n",
    "\t# Realiza o estudo do erro e mede o tempo de execução\n",
    "\t@time begin\n",
    "\t\tvec_h, vec_erro = estudo_do_erro()\n",
    "\tend\n",
    "\n",
    "    # Cria o gráfico do erro na norma L2 em função de h, diâmetro de cada Ωᵉ\n",
    "    plt = Plots.plot(\n",
    "        vec_h, vec_erro, lw=3, linestyle=:solid, markershape=:circle,\n",
    "        label=\"Erro\", title=\"Estudo do erro\",\n",
    "        xscale=:log10, yscale=:log10, legend=:topleft\n",
    "    )\n",
    "\n",
    "    # Adiciona a curva teórica de h² ao gráfico\n",
    "    Plots.plot!(plt, vec_h, vec_h.^2, lw=3, linestyle=:solid, label=\"h²\")\n",
    "\n",
    "    # Adiciona rótulos aos eixos\n",
    "    Plots.xlabel!(\"h\")\n",
    "    Plots.ylabel!(\"Erro\")\n",
    "\n",
    "    # Exibe uma tabela com os valores de h e erro\n",
    "    display(\"Tabela com os valores de h e erro:\")\n",
    "    display(DataFrame(h=vec_h, erro=vec_erro))\n",
    "\n",
    "\t# Retorna o gráfico \n",
    "\treturn plt\n",
    "end"
   ]
  },
  {
   "cell_type": "code",
   "execution_count": 152,
   "metadata": {},
   "outputs": [
    {
     "name": "stdout",
     "output_type": "stream",
     "text": [
      "  0.000272 seconds (217 allocations: 30.156 KiB)\n",
      "  0.000537 seconds (513 allocations: 125.891 KiB)\n",
      "  0.002151 seconds (1.68 k allocations: 596.766 KiB)\n",
      "  0.007659 seconds (6.31 k allocations: 2.716 MiB)\n",
      "  0.040656 seconds (24.77 k allocations: 10.355 MiB, 5.31% gc time)\n",
      "  0.365070 seconds (98.50 k allocations: 45.037 MiB, 0.34% gc time)\n",
      "  3.586306 seconds (393.42 k allocations: 193.068 MiB, 0.17% gc time)\n",
      " 66.864528 seconds (1.57 M allocations: 811.513 MiB, 0.52% gc time)\n",
      " 71.114238 seconds (2.10 M allocations: 1.078 GiB, 0.51% gc time)\n"
     ]
    },
    {
     "data": {
      "text/plain": [
       "\"Tabela com os valores de h e erro:\""
      ]
     },
     "metadata": {},
     "output_type": "display_data"
    },
    {
     "data": {
      "text/html": [
       "<div><div style = \"float: left;\"><span>8×2 DataFrame</span></div><div style = \"clear: both;\"></div></div><div class = \"data-frame\" style = \"overflow-x: scroll;\"><table class = \"data-frame\" style = \"margin-bottom: 6px;\"><thead><tr class = \"header\"><th class = \"rowNumber\" style = \"font-weight: bold; text-align: right;\">Row</th><th style = \"text-align: left;\">h</th><th style = \"text-align: left;\">erro</th></tr><tr class = \"subheader headerLastRow\"><th class = \"rowNumber\" style = \"font-weight: bold; text-align: right;\"></th><th title = \"Float64\" style = \"text-align: left;\">Float64</th><th title = \"Float64\" style = \"text-align: left;\">Float64</th></tr></thead><tbody><tr><td class = \"rowNumber\" style = \"font-weight: bold; text-align: right;\">1</td><td style = \"text-align: right;\">0.353553</td><td style = \"text-align: right;\">0.0294644</td></tr><tr><td class = \"rowNumber\" style = \"font-weight: bold; text-align: right;\">2</td><td style = \"text-align: right;\">0.176777</td><td style = \"text-align: right;\">0.00734814</td></tr><tr><td class = \"rowNumber\" style = \"font-weight: bold; text-align: right;\">3</td><td style = \"text-align: right;\">0.0883883</td><td style = \"text-align: right;\">0.00183603</td></tr><tr><td class = \"rowNumber\" style = \"font-weight: bold; text-align: right;\">4</td><td style = \"text-align: right;\">0.0441942</td><td style = \"text-align: right;\">0.000458945</td></tr><tr><td class = \"rowNumber\" style = \"font-weight: bold; text-align: right;\">5</td><td style = \"text-align: right;\">0.0220971</td><td style = \"text-align: right;\">0.000114733</td></tr><tr><td class = \"rowNumber\" style = \"font-weight: bold; text-align: right;\">6</td><td style = \"text-align: right;\">0.0110485</td><td style = \"text-align: right;\">2.86829e-5</td></tr><tr><td class = \"rowNumber\" style = \"font-weight: bold; text-align: right;\">7</td><td style = \"text-align: right;\">0.00552427</td><td style = \"text-align: right;\">7.17071e-6</td></tr><tr><td class = \"rowNumber\" style = \"font-weight: bold; text-align: right;\">8</td><td style = \"text-align: right;\">0.00276214</td><td style = \"text-align: right;\">1.79268e-6</td></tr></tbody></table></div>"
      ],
      "text/latex": [
       "\\begin{tabular}{r|cc}\n",
       "\t& h & erro\\\\\n",
       "\t\\hline\n",
       "\t& Float64 & Float64\\\\\n",
       "\t\\hline\n",
       "\t1 & 0.353553 & 0.0294644 \\\\\n",
       "\t2 & 0.176777 & 0.00734814 \\\\\n",
       "\t3 & 0.0883883 & 0.00183603 \\\\\n",
       "\t4 & 0.0441942 & 0.000458945 \\\\\n",
       "\t5 & 0.0220971 & 0.000114733 \\\\\n",
       "\t6 & 0.0110485 & 2.86829e-5 \\\\\n",
       "\t7 & 0.00552427 & 7.17071e-6 \\\\\n",
       "\t8 & 0.00276214 & 1.79268e-6 \\\\\n",
       "\\end{tabular}\n"
      ],
      "text/plain": [
       "\u001b[1m8×2 DataFrame\u001b[0m\n",
       "\u001b[1m Row \u001b[0m│\u001b[1m h          \u001b[0m\u001b[1m erro        \u001b[0m\n",
       "     │\u001b[90m Float64    \u001b[0m\u001b[90m Float64     \u001b[0m\n",
       "─────┼─────────────────────────\n",
       "   1 │ 0.353553    0.0294644\n",
       "   2 │ 0.176777    0.00734814\n",
       "   3 │ 0.0883883   0.00183603\n",
       "   4 │ 0.0441942   0.000458945\n",
       "   5 │ 0.0220971   0.000114733\n",
       "   6 │ 0.0110485   2.86829e-5\n",
       "   7 │ 0.00552427  7.17071e-6\n",
       "   8 │ 0.00276214  1.79268e-6"
      ]
     },
     "metadata": {},
     "output_type": "display_data"
    },
    {
     "data": {
      "image/png": "[encoded data removed]",
      "image/svg+xml": [
       "<?xml version=\"1.0\" encoding=\"utf-8\"?>\n",
       "<svg xmlns=\"http://www.w3.org/2000/svg\" xmlns:xlink=\"http://www.w3.org/1999/xlink\" width=\"600\" height=\"400\" viewBox=\"0 0 2400 1600\">\n",
       "<defs>\n",
       "  <clipPath id=\"clip100\">\n",
       "    <rect x=\"0\" y=\"0\" width=\"2400\" height=\"1600\"/>\n",
       "  </clipPath>\n",
       "</defs>\n",
       "<path clip-path=\"url(#clip100)\" d=\"M0 1600 L2400 1600 L2400 0 L0 0  Z\" fill=\"#ffffff\" fill-rule=\"evenodd\" fill-opacity=\"1\"/>\n",
       "<defs>\n",
       "  <clipPath id=\"clip101\">\n",
       "    <rect x=\"480\" y=\"0\" width=\"1681\" height=\"1600\"/>\n",
       "  </clipPath>\n",
       "</defs>\n",
       "<path clip-path=\"url(#clip100)\" d=\"M252.764 1410.9 L2352.76 1410.9 L2352.76 123.472 L252.764 123.472  Z\" fill=\"#ffffff\" fill-rule=\"evenodd\" fill-opacity=\"1\"/>\n",
       "<defs>\n",
       "  <clipPath id=\"clip102\">\n",
       "    <rect x=\"252\" y=\"123\" width=\"2101\" height=\"1288\"/>\n",
       "  </clipPath>\n",
       "</defs>\n",
       "<polyline clip-path=\"url(#clip102)\" style=\"stroke:#000000; stroke-linecap:round; stroke-linejoin:round; stroke-width:2; stroke-opacity:0.1; fill:none\" points=\"837.519,1410.9 837.519,123.472 \"/>\n",
       "<polyline clip-path=\"url(#clip102)\" style=\"stroke:#000000; stroke-linecap:round; stroke-linejoin:round; stroke-width:2; stroke-opacity:0.1; fill:none\" points=\"1777.68,1410.9 1777.68,123.472 \"/>\n",
       "<polyline clip-path=\"url(#clip102)\" style=\"stroke:#000000; stroke-linecap:round; stroke-linejoin:round; stroke-width:2; stroke-opacity:0.1; fill:none\" points=\"252.764,936.502 2352.76,936.502 \"/>\n",
       "<polyline clip-path=\"url(#clip102)\" style=\"stroke:#000000; stroke-linecap:round; stroke-linejoin:round; stroke-width:2; stroke-opacity:0.1; fill:none\" points=\"252.764,434.974 2352.76,434.974 \"/>\n",
       "<polyline clip-path=\"url(#clip100)\" style=\"stroke:#000000; stroke-linecap:round; stroke-linejoin:round; stroke-width:4; stroke-opacity:1; fill:none\" points=\"252.764,1410.9 2352.76,1410.9 \"/>\n",
       "<polyline clip-path=\"url(#clip100)\" style=\"stroke:#000000; stroke-linecap:round; stroke-linejoin:round; stroke-width:4; stroke-opacity:1; fill:none\" points=\"837.519,1410.9 837.519,1392 \"/>\n",
       "<polyline clip-path=\"url(#clip100)\" style=\"stroke:#000000; stroke-linecap:round; stroke-linejoin:round; stroke-width:4; stroke-opacity:1; fill:none\" points=\"1777.68,1410.9 1777.68,1392 \"/>\n",
       "<path clip-path=\"url(#clip100)\" d=\"M787.785 1485.02 L795.424 1485.02 L795.424 1458.66 L787.114 1460.32 L787.114 1456.06 L795.378 1454.4 L800.054 1454.4 L800.054 1485.02 L807.692 1485.02 L807.692 1488.96 L787.785 1488.96 L787.785 1485.02 Z\" fill=\"#000000\" fill-rule=\"nonzero\" fill-opacity=\"1\" /><path clip-path=\"url(#clip100)\" d=\"M827.137 1457.48 Q823.526 1457.48 821.697 1461.04 Q819.891 1464.58 819.891 1471.71 Q819.891 1478.82 821.697 1482.38 Q823.526 1485.92 827.137 1485.92 Q830.771 1485.92 832.577 1482.38 Q834.405 1478.82 834.405 1471.71 Q834.405 1464.58 832.577 1461.04 Q830.771 1457.48 827.137 1457.48 M827.137 1453.77 Q832.947 1453.77 836.002 1458.38 Q839.081 1462.96 839.081 1471.71 Q839.081 1480.44 836.002 1485.04 Q832.947 1489.63 827.137 1489.63 Q821.327 1489.63 818.248 1485.04 Q815.192 1480.44 815.192 1471.71 Q815.192 1462.96 818.248 1458.38 Q821.327 1453.77 827.137 1453.77 Z\" fill=\"#000000\" fill-rule=\"nonzero\" fill-opacity=\"1\" /><path clip-path=\"url(#clip100)\" d=\"M839.081 1447.87 L863.193 1447.87 L863.193 1451.07 L839.081 1451.07 L839.081 1447.87 Z\" fill=\"#000000\" fill-rule=\"nonzero\" fill-opacity=\"1\" /><path clip-path=\"url(#clip100)\" d=\"M874.665 1458.35 L887.925 1458.35 L887.925 1461.55 L870.095 1461.55 L870.095 1458.35 Q872.258 1456.11 875.982 1452.35 Q879.725 1448.57 880.684 1447.48 Q882.508 1445.43 883.223 1444.02 Q883.956 1442.59 883.956 1441.22 Q883.956 1438.98 882.377 1437.57 Q880.816 1436.16 878.295 1436.16 Q876.509 1436.16 874.515 1436.78 Q872.54 1437.4 870.283 1438.66 L870.283 1434.82 Q872.578 1433.9 874.571 1433.43 Q876.565 1432.96 878.22 1432.96 Q882.584 1432.96 885.179 1435.14 Q887.774 1437.32 887.774 1440.97 Q887.774 1442.7 887.116 1444.26 Q886.477 1445.8 884.765 1447.91 Q884.295 1448.46 881.775 1451.07 Q879.255 1453.67 874.665 1458.35 Z\" fill=\"#000000\" fill-rule=\"nonzero\" fill-opacity=\"1\" /><path clip-path=\"url(#clip100)\" d=\"M1727.8 1485.02 L1735.44 1485.02 L1735.44 1458.66 L1727.13 1460.32 L1727.13 1456.06 L1735.39 1454.4 L1740.07 1454.4 L1740.07 1485.02 L1747.71 1485.02 L1747.71 1488.96 L1727.8 1488.96 L1727.8 1485.02 Z\" fill=\"#000000\" fill-rule=\"nonzero\" fill-opacity=\"1\" /><path clip-path=\"url(#clip100)\" d=\"M1767.15 1457.48 Q1763.54 1457.48 1761.71 1461.04 Q1759.91 1464.58 1759.91 1471.71 Q1759.91 1478.82 1761.71 1482.38 Q1763.54 1485.92 1767.15 1485.92 Q1770.79 1485.92 1772.59 1482.38 Q1774.42 1478.82 1774.42 1471.71 Q1774.42 1464.58 1772.59 1461.04 Q1770.79 1457.48 1767.15 1457.48 M1767.15 1453.77 Q1772.96 1453.77 1776.02 1458.38 Q1779.1 1462.96 1779.1 1471.71 Q1779.1 1480.44 1776.02 1485.04 Q1772.96 1489.63 1767.15 1489.63 Q1761.34 1489.63 1758.26 1485.04 Q1755.21 1480.44 1755.21 1471.71 Q1755.21 1462.96 1758.26 1458.38 Q1761.34 1453.77 1767.15 1453.77 Z\" fill=\"#000000\" fill-rule=\"nonzero\" fill-opacity=\"1\" /><path clip-path=\"url(#clip100)\" d=\"M1779.1 1447.87 L1803.21 1447.87 L1803.21 1451.07 L1779.1 1451.07 L1779.1 1447.87 Z\" fill=\"#000000\" fill-rule=\"nonzero\" fill-opacity=\"1\" /><path clip-path=\"url(#clip100)\" d=\"M1812.07 1458.35 L1818.27 1458.35 L1818.27 1436.93 L1811.52 1438.28 L1811.52 1434.82 L1818.23 1433.47 L1822.03 1433.47 L1822.03 1458.35 L1828.24 1458.35 L1828.24 1461.55 L1812.07 1461.55 L1812.07 1458.35 Z\" fill=\"#000000\" fill-rule=\"nonzero\" fill-opacity=\"1\" /><path clip-path=\"url(#clip100)\" d=\"M1317.69 1552.67 L1317.69 1574.19 L1311.83 1574.19 L1311.83 1552.86 Q1311.83 1547.8 1309.86 1545.29 Q1307.88 1542.77 1303.94 1542.77 Q1299.2 1542.77 1296.46 1545.79 Q1293.72 1548.82 1293.72 1554.04 L1293.72 1574.19 L1287.83 1574.19 L1287.83 1524.66 L1293.72 1524.66 L1293.72 1544.08 Q1295.82 1540.86 1298.65 1539.27 Q1301.52 1537.68 1305.24 1537.68 Q1311.39 1537.68 1314.54 1541.5 Q1317.69 1545.29 1317.69 1552.67 Z\" fill=\"#000000\" fill-rule=\"nonzero\" fill-opacity=\"1\" /><polyline clip-path=\"url(#clip100)\" style=\"stroke:#000000; stroke-linecap:round; stroke-linejoin:round; stroke-width:4; stroke-opacity:1; fill:none\" points=\"252.764,1410.9 252.764,123.472 \"/>\n",
       "<polyline clip-path=\"url(#clip100)\" style=\"stroke:#000000; stroke-linecap:round; stroke-linejoin:round; stroke-width:4; stroke-opacity:1; fill:none\" points=\"252.764,936.502 271.662,936.502 \"/>\n",
       "<polyline clip-path=\"url(#clip100)\" style=\"stroke:#000000; stroke-linecap:round; stroke-linejoin:round; stroke-width:4; stroke-opacity:1; fill:none\" points=\"252.764,434.974 271.662,434.974 \"/>\n",
       "<path clip-path=\"url(#clip100)\" d=\"M114.931 956.294 L122.57 956.294 L122.57 929.928 L114.26 931.595 L114.26 927.336 L122.524 925.669 L127.2 925.669 L127.2 956.294 L134.839 956.294 L134.839 960.229 L114.931 960.229 L114.931 956.294 Z\" fill=\"#000000\" fill-rule=\"nonzero\" fill-opacity=\"1\" /><path clip-path=\"url(#clip100)\" d=\"M154.283 928.748 Q150.672 928.748 148.843 932.313 Q147.038 935.854 147.038 942.984 Q147.038 950.09 148.843 953.655 Q150.672 957.197 154.283 957.197 Q157.917 957.197 159.723 953.655 Q161.552 950.09 161.552 942.984 Q161.552 935.854 159.723 932.313 Q157.917 928.748 154.283 928.748 M154.283 925.044 Q160.093 925.044 163.149 929.651 Q166.227 934.234 166.227 942.984 Q166.227 951.711 163.149 956.317 Q160.093 960.901 154.283 960.901 Q148.473 960.901 145.394 956.317 Q142.339 951.711 142.339 942.984 Q142.339 934.234 145.394 929.651 Q148.473 925.044 154.283 925.044 Z\" fill=\"#000000\" fill-rule=\"nonzero\" fill-opacity=\"1\" /><path clip-path=\"url(#clip100)\" d=\"M166.227 919.146 L190.339 919.146 L190.339 922.343 L166.227 922.343 L166.227 919.146 Z\" fill=\"#000000\" fill-rule=\"nonzero\" fill-opacity=\"1\" /><path clip-path=\"url(#clip100)\" d=\"M208.978 908.049 L199.386 923.039 L208.978 923.039 L208.978 908.049 M207.981 904.739 L212.758 904.739 L212.758 923.039 L216.764 923.039 L216.764 926.199 L212.758 926.199 L212.758 932.819 L208.978 932.819 L208.978 926.199 L196.301 926.199 L196.301 922.531 L207.981 904.739 Z\" fill=\"#000000\" fill-rule=\"nonzero\" fill-opacity=\"1\" /><path clip-path=\"url(#clip100)\" d=\"M116.624 454.766 L124.263 454.766 L124.263 428.401 L115.953 430.068 L115.953 425.808 L124.217 424.142 L128.893 424.142 L128.893 454.766 L136.531 454.766 L136.531 458.702 L116.624 458.702 L116.624 454.766 Z\" fill=\"#000000\" fill-rule=\"nonzero\" fill-opacity=\"1\" /><path clip-path=\"url(#clip100)\" d=\"M155.976 427.22 Q152.365 427.22 150.536 430.785 Q148.73 434.327 148.73 441.456 Q148.73 448.563 150.536 452.128 Q152.365 455.669 155.976 455.669 Q159.61 455.669 161.416 452.128 Q163.244 448.563 163.244 441.456 Q163.244 434.327 161.416 430.785 Q159.61 427.22 155.976 427.22 M155.976 423.517 Q161.786 423.517 164.841 428.123 Q167.92 432.706 167.92 441.456 Q167.92 450.183 164.841 454.79 Q161.786 459.373 155.976 459.373 Q150.166 459.373 147.087 454.79 Q144.031 450.183 144.031 441.456 Q144.031 432.706 147.087 428.123 Q150.166 423.517 155.976 423.517 Z\" fill=\"#000000\" fill-rule=\"nonzero\" fill-opacity=\"1\" /><path clip-path=\"url(#clip100)\" d=\"M167.92 417.618 L192.032 417.618 L192.032 420.815 L167.92 420.815 L167.92 417.618 Z\" fill=\"#000000\" fill-rule=\"nonzero\" fill-opacity=\"1\" /><path clip-path=\"url(#clip100)\" d=\"M203.504 428.094 L216.764 428.094 L216.764 431.291 L198.934 431.291 L198.934 428.094 Q201.097 425.856 204.821 422.094 Q208.564 418.314 209.523 417.223 Q211.347 415.173 212.062 413.762 Q212.796 412.333 212.796 410.96 Q212.796 408.722 211.216 407.311 Q209.655 405.901 207.134 405.901 Q205.348 405.901 203.354 406.521 Q201.379 407.142 199.122 408.402 L199.122 404.565 Q201.417 403.644 203.41 403.174 Q205.404 402.703 207.059 402.703 Q211.423 402.703 214.018 404.885 Q216.613 407.067 216.613 410.716 Q216.613 412.446 215.955 414.007 Q215.316 415.549 213.604 417.656 Q213.134 418.201 210.614 420.815 Q208.094 423.411 203.504 428.094 Z\" fill=\"#000000\" fill-rule=\"nonzero\" fill-opacity=\"1\" /><path clip-path=\"url(#clip100)\" d=\"M16.4842 828.247 L16.4842 798.201 L21.895 798.201 L21.895 821.818 L35.9632 821.818 L35.9632 799.188 L41.3741 799.188 L41.3741 821.818 L58.5933 821.818 L58.5933 797.628 L64.0042 797.628 L64.0042 828.247 L16.4842 828.247 Z\" fill=\"#000000\" fill-rule=\"nonzero\" fill-opacity=\"1\" /><path clip-path=\"url(#clip100)\" d=\"M33.8307 766.659 Q33.2578 767.646 33.0032 768.824 Q32.7167 769.969 32.7167 771.37 Q32.7167 776.335 35.9632 779.009 Q39.1779 781.65 45.2253 781.65 L64.0042 781.65 L64.0042 787.539 L28.3562 787.539 L28.3562 781.65 L33.8944 781.65 Q30.6479 779.804 29.0883 776.844 Q27.4968 773.884 27.4968 769.651 Q27.4968 769.046 27.5923 768.314 Q27.656 767.582 27.8151 766.691 L33.8307 766.659 Z\" fill=\"#000000\" fill-rule=\"nonzero\" fill-opacity=\"1\" /><path clip-path=\"url(#clip100)\" d=\"M33.8307 741.005 Q33.2578 741.992 33.0032 743.17 Q32.7167 744.316 32.7167 745.716 Q32.7167 750.681 35.9632 753.355 Q39.1779 755.997 45.2253 755.997 L64.0042 755.997 L64.0042 761.885 L28.3562 761.885 L28.3562 755.997 L33.8944 755.997 Q30.6479 754.151 29.0883 751.191 Q27.4968 748.23 27.4968 743.997 Q27.4968 743.393 27.5923 742.66 Q27.656 741.928 27.8151 741.037 L33.8307 741.005 Z\" fill=\"#000000\" fill-rule=\"nonzero\" fill-opacity=\"1\" /><path clip-path=\"url(#clip100)\" d=\"M32.4621 722.481 Q32.4621 727.192 36.1542 729.929 Q39.8145 732.666 46.212 732.666 Q52.6095 732.666 56.3017 729.961 Q59.9619 727.224 59.9619 722.481 Q59.9619 717.802 56.2698 715.065 Q52.5777 712.328 46.212 712.328 Q39.8781 712.328 36.186 715.065 Q32.4621 717.802 32.4621 722.481 M27.4968 722.481 Q27.4968 714.842 32.4621 710.482 Q37.4273 706.121 46.212 706.121 Q54.9649 706.121 59.9619 710.482 Q64.9272 714.842 64.9272 722.481 Q64.9272 730.152 59.9619 734.512 Q54.9649 738.841 46.212 738.841 Q37.4273 738.841 32.4621 734.512 Q27.4968 730.152 27.4968 722.481 Z\" fill=\"#000000\" fill-rule=\"nonzero\" fill-opacity=\"1\" /><path clip-path=\"url(#clip100)\" d=\"M1005.57 12.096 L1043.81 12.096 L1043.81 18.9825 L1013.75 18.9825 L1013.75 36.8875 L1042.55 36.8875 L1042.55 43.7741 L1013.75 43.7741 L1013.75 65.6895 L1044.54 65.6895 L1044.54 72.576 L1005.57 72.576 L1005.57 12.096 Z\" fill=\"#000000\" fill-rule=\"nonzero\" fill-opacity=\"1\" /><path clip-path=\"url(#clip100)\" d=\"M1086.58 28.5427 L1086.58 35.5912 Q1083.42 33.9709 1080.02 33.1607 Q1076.62 32.3505 1072.97 32.3505 Q1067.42 32.3505 1064.63 34.0519 Q1061.87 35.7533 1061.87 39.156 Q1061.87 41.7486 1063.86 43.2475 Q1065.84 44.7058 1071.84 46.0426 L1074.39 46.6097 Q1082.33 48.3111 1085.65 51.4303 Q1089.01 54.509 1089.01 60.0587 Q1089.01 66.3781 1083.99 70.0644 Q1079.01 73.7508 1070.26 73.7508 Q1066.61 73.7508 1062.64 73.0216 Q1058.71 72.3329 1054.34 70.9151 L1054.34 63.2184 Q1058.47 65.3654 1062.48 66.4591 Q1066.49 67.5124 1070.42 67.5124 Q1075.69 67.5124 1078.52 65.73 Q1081.36 63.9071 1081.36 60.6258 Q1081.36 57.5877 1079.29 55.9673 Q1077.27 54.3469 1070.34 52.8481 L1067.75 52.2405 Q1060.82 50.7821 1057.74 47.7845 Q1054.66 44.7463 1054.66 39.4801 Q1054.66 33.0797 1059.2 29.5959 Q1063.74 26.1121 1072.08 26.1121 Q1076.21 26.1121 1079.86 26.7198 Q1083.5 27.3274 1086.58 28.5427 Z\" fill=\"#000000\" fill-rule=\"nonzero\" fill-opacity=\"1\" /><path clip-path=\"url(#clip100)\" d=\"M1108.26 14.324 L1108.26 27.2059 L1123.61 27.2059 L1123.61 32.9987 L1108.26 32.9987 L1108.26 57.6282 Q1108.26 63.1779 1109.75 64.7578 Q1111.29 66.3376 1115.95 66.3376 L1123.61 66.3376 L1123.61 72.576 L1115.95 72.576 Q1107.32 72.576 1104.04 69.3758 Q1100.76 66.1351 1100.76 57.6282 L1100.76 32.9987 L1095.29 32.9987 L1095.29 27.2059 L1100.76 27.2059 L1100.76 14.324 L1108.26 14.324 Z\" fill=\"#000000\" fill-rule=\"nonzero\" fill-opacity=\"1\" /><path clip-path=\"url(#clip100)\" d=\"M1132.64 54.671 L1132.64 27.2059 L1140.1 27.2059 L1140.1 54.3874 Q1140.1 60.8284 1142.61 64.0691 Q1145.12 67.2693 1150.14 67.2693 Q1156.18 67.2693 1159.66 63.421 Q1163.19 59.5726 1163.19 52.9291 L1163.19 27.2059 L1170.64 27.2059 L1170.64 72.576 L1163.19 72.576 L1163.19 65.6084 Q1160.47 69.7404 1156.87 71.7658 Q1153.3 73.7508 1148.56 73.7508 Q1140.74 73.7508 1136.69 68.8897 Q1132.64 64.0286 1132.64 54.671 M1151.4 26.1121 L1151.4 26.1121 Z\" fill=\"#000000\" fill-rule=\"nonzero\" fill-opacity=\"1\" /><path clip-path=\"url(#clip100)\" d=\"M1215.85 34.0924 L1215.85 9.54393 L1223.3 9.54393 L1223.3 72.576 L1215.85 72.576 L1215.85 65.7705 Q1213.5 69.8214 1209.89 71.8063 Q1206.33 73.7508 1201.31 73.7508 Q1193.08 73.7508 1187.9 67.1883 Q1182.75 60.6258 1182.75 49.9314 Q1182.75 39.2371 1187.9 32.6746 Q1193.08 26.1121 1201.31 26.1121 Q1206.33 26.1121 1209.89 28.0971 Q1213.5 30.0415 1215.85 34.0924 M1190.45 49.9314 Q1190.45 58.1548 1193.81 62.8538 Q1197.21 67.5124 1203.13 67.5124 Q1209.04 67.5124 1212.45 62.8538 Q1215.85 58.1548 1215.85 49.9314 Q1215.85 41.7081 1212.45 37.0496 Q1209.04 32.3505 1203.13 32.3505 Q1197.21 32.3505 1193.81 37.0496 Q1190.45 41.7081 1190.45 49.9314 Z\" fill=\"#000000\" fill-rule=\"nonzero\" fill-opacity=\"1\" /><path clip-path=\"url(#clip100)\" d=\"M1256.24 32.4315 Q1250.24 32.4315 1246.76 37.1306 Q1243.27 41.7891 1243.27 49.9314 Q1243.27 58.0738 1246.72 62.7728 Q1250.2 67.4314 1256.24 67.4314 Q1262.19 67.4314 1265.67 62.7323 Q1269.16 58.0333 1269.16 49.9314 Q1269.16 41.8701 1265.67 37.1711 Q1262.19 32.4315 1256.24 32.4315 M1256.24 26.1121 Q1265.96 26.1121 1271.51 32.4315 Q1277.06 38.7509 1277.06 49.9314 Q1277.06 61.0714 1271.51 67.4314 Q1265.96 73.7508 1256.24 73.7508 Q1246.47 73.7508 1240.92 67.4314 Q1235.41 61.0714 1235.41 49.9314 Q1235.41 38.7509 1240.92 32.4315 Q1246.47 26.1121 1256.24 26.1121 Z\" fill=\"#000000\" fill-rule=\"nonzero\" fill-opacity=\"1\" /><path clip-path=\"url(#clip100)\" d=\"M1345.64 34.0924 L1345.64 9.54393 L1353.09 9.54393 L1353.09 72.576 L1345.64 72.576 L1345.64 65.7705 Q1343.29 69.8214 1339.68 71.8063 Q1336.12 73.7508 1331.1 73.7508 Q1322.87 73.7508 1317.69 67.1883 Q1312.54 60.6258 1312.54 49.9314 Q1312.54 39.2371 1317.69 32.6746 Q1322.87 26.1121 1331.1 26.1121 Q1336.12 26.1121 1339.68 28.0971 Q1343.29 30.0415 1345.64 34.0924 M1320.24 49.9314 Q1320.24 58.1548 1323.6 62.8538 Q1327 67.5124 1332.92 67.5124 Q1338.83 67.5124 1342.24 62.8538 Q1345.64 58.1548 1345.64 49.9314 Q1345.64 41.7081 1342.24 37.0496 Q1338.83 32.3505 1332.92 32.3505 Q1327 32.3505 1323.6 37.0496 Q1320.24 41.7081 1320.24 49.9314 Z\" fill=\"#000000\" fill-rule=\"nonzero\" fill-opacity=\"1\" /><path clip-path=\"url(#clip100)\" d=\"M1386.03 32.4315 Q1380.03 32.4315 1376.55 37.1306 Q1373.06 41.7891 1373.06 49.9314 Q1373.06 58.0738 1376.51 62.7728 Q1379.99 67.4314 1386.03 67.4314 Q1391.98 67.4314 1395.46 62.7323 Q1398.95 58.0333 1398.95 49.9314 Q1398.95 41.8701 1395.46 37.1711 Q1391.98 32.4315 1386.03 32.4315 M1386.03 26.1121 Q1395.75 26.1121 1401.3 32.4315 Q1406.85 38.7509 1406.85 49.9314 Q1406.85 61.0714 1401.3 67.4314 Q1395.75 73.7508 1386.03 73.7508 Q1376.26 73.7508 1370.71 67.4314 Q1365.2 61.0714 1365.2 49.9314 Q1365.2 38.7509 1370.71 32.4315 Q1376.26 26.1121 1386.03 26.1121 Z\" fill=\"#000000\" fill-rule=\"nonzero\" fill-opacity=\"1\" /><path clip-path=\"url(#clip100)\" d=\"M1484.38 48.0275 L1484.38 51.6733 L1450.11 51.6733 Q1450.6 59.3701 1454.73 63.421 Q1458.9 67.4314 1466.32 67.4314 Q1470.61 67.4314 1474.62 66.3781 Q1478.67 65.3249 1482.64 63.2184 L1482.64 70.267 Q1478.63 71.9684 1474.42 72.8596 Q1470.2 73.7508 1465.87 73.7508 Q1455.01 73.7508 1448.65 67.4314 Q1442.33 61.1119 1442.33 50.3365 Q1442.33 39.1965 1448.33 32.6746 Q1454.37 26.1121 1464.57 26.1121 Q1473.73 26.1121 1479.04 32.0264 Q1484.38 37.9003 1484.38 48.0275 M1476.93 45.84 Q1476.85 39.7232 1473.49 36.0774 Q1470.16 32.4315 1464.65 32.4315 Q1458.42 32.4315 1454.65 35.9558 Q1450.92 39.4801 1450.35 45.8805 L1476.93 45.84 Z\" fill=\"#000000\" fill-rule=\"nonzero\" fill-opacity=\"1\" /><path clip-path=\"url(#clip100)\" d=\"M1522.91 34.1734 Q1521.65 33.4443 1520.15 33.1202 Q1518.69 32.7556 1516.91 32.7556 Q1510.59 32.7556 1507.19 36.8875 Q1503.83 40.9789 1503.83 48.6757 L1503.83 72.576 L1496.33 72.576 L1496.33 27.2059 L1503.83 27.2059 L1503.83 34.2544 Q1506.18 30.1225 1509.94 28.1376 Q1513.71 26.1121 1519.1 26.1121 Q1519.87 26.1121 1520.8 26.2337 Q1521.73 26.3147 1522.87 26.5172 L1522.91 34.1734 Z\" fill=\"#000000\" fill-rule=\"nonzero\" fill-opacity=\"1\" /><path clip-path=\"url(#clip100)\" d=\"M1555.56 34.1734 Q1554.3 33.4443 1552.8 33.1202 Q1551.34 32.7556 1549.56 32.7556 Q1543.24 32.7556 1539.84 36.8875 Q1536.48 40.9789 1536.48 48.6757 L1536.48 72.576 L1528.98 72.576 L1528.98 27.2059 L1536.48 27.2059 L1536.48 34.2544 Q1538.83 30.1225 1542.59 28.1376 Q1546.36 26.1121 1551.75 26.1121 Q1552.52 26.1121 1553.45 26.2337 Q1554.38 26.3147 1555.52 26.5172 L1555.56 34.1734 Z\" fill=\"#000000\" fill-rule=\"nonzero\" fill-opacity=\"1\" /><path clip-path=\"url(#clip100)\" d=\"M1579.13 32.4315 Q1573.14 32.4315 1569.65 37.1306 Q1566.17 41.7891 1566.17 49.9314 Q1566.17 58.0738 1569.61 62.7728 Q1573.1 67.4314 1579.13 67.4314 Q1585.09 67.4314 1588.57 62.7323 Q1592.06 58.0333 1592.06 49.9314 Q1592.06 41.8701 1588.57 37.1711 Q1585.09 32.4315 1579.13 32.4315 M1579.13 26.1121 Q1588.86 26.1121 1594.4 32.4315 Q1599.95 38.7509 1599.95 49.9314 Q1599.95 61.0714 1594.4 67.4314 Q1588.86 73.7508 1579.13 73.7508 Q1569.37 73.7508 1563.82 67.4314 Q1558.31 61.0714 1558.31 49.9314 Q1558.31 38.7509 1563.82 32.4315 Q1569.37 26.1121 1579.13 26.1121 Z\" fill=\"#000000\" fill-rule=\"nonzero\" fill-opacity=\"1\" /><polyline clip-path=\"url(#clip102)\" style=\"stroke:#009af9; stroke-linecap:round; stroke-linejoin:round; stroke-width:12; stroke-opacity:1; fill:none\" points=\"2293.32,317.291 2010.3,468.532 1727.29,619.567 1444.27,770.556 1161.25,921.534 878.233,1072.51 595.215,1223.49 312.198,1374.46 \"/>\n",
       "<circle clip-path=\"url(#clip102)\" cx=\"2293.32\" cy=\"317.291\" r=\"14.4\" fill=\"#009af9\" fill-rule=\"evenodd\" fill-opacity=\"1\" stroke=\"#000000\" stroke-opacity=\"1\" stroke-width=\"3.2\"/>\n",
       "<circle clip-path=\"url(#clip102)\" cx=\"2010.3\" cy=\"468.532\" r=\"14.4\" fill=\"#009af9\" fill-rule=\"evenodd\" fill-opacity=\"1\" stroke=\"#000000\" stroke-opacity=\"1\" stroke-width=\"3.2\"/>\n",
       "<circle clip-path=\"url(#clip102)\" cx=\"1727.29\" cy=\"619.567\" r=\"14.4\" fill=\"#009af9\" fill-rule=\"evenodd\" fill-opacity=\"1\" stroke=\"#000000\" stroke-opacity=\"1\" stroke-width=\"3.2\"/>\n",
       "<circle clip-path=\"url(#clip102)\" cx=\"1444.27\" cy=\"770.556\" r=\"14.4\" fill=\"#009af9\" fill-rule=\"evenodd\" fill-opacity=\"1\" stroke=\"#000000\" stroke-opacity=\"1\" stroke-width=\"3.2\"/>\n",
       "<circle clip-path=\"url(#clip102)\" cx=\"1161.25\" cy=\"921.534\" r=\"14.4\" fill=\"#009af9\" fill-rule=\"evenodd\" fill-opacity=\"1\" stroke=\"#000000\" stroke-opacity=\"1\" stroke-width=\"3.2\"/>\n",
       "<circle clip-path=\"url(#clip102)\" cx=\"878.233\" cy=\"1072.51\" r=\"14.4\" fill=\"#009af9\" fill-rule=\"evenodd\" fill-opacity=\"1\" stroke=\"#000000\" stroke-opacity=\"1\" stroke-width=\"3.2\"/>\n",
       "<circle clip-path=\"url(#clip102)\" cx=\"595.215\" cy=\"1223.49\" r=\"14.4\" fill=\"#009af9\" fill-rule=\"evenodd\" fill-opacity=\"1\" stroke=\"#000000\" stroke-opacity=\"1\" stroke-width=\"3.2\"/>\n",
       "<circle clip-path=\"url(#clip102)\" cx=\"312.198\" cy=\"1374.46\" r=\"14.4\" fill=\"#009af9\" fill-rule=\"evenodd\" fill-opacity=\"1\" stroke=\"#000000\" stroke-opacity=\"1\" stroke-width=\"3.2\"/>\n",
       "<polyline clip-path=\"url(#clip102)\" style=\"stroke:#e26f46; stroke-linecap:round; stroke-linejoin:round; stroke-width:12; stroke-opacity:1; fill:none\" points=\"2293.32,159.909 2010.3,310.884 1727.29,461.858 1444.27,612.833 1161.25,763.808 878.233,914.783 595.215,1065.76 312.198,1216.73 \"/>\n",
       "<path clip-path=\"url(#clip100)\" d=\"M322.764 321.906 L621.582 321.906 L621.582 166.386 L322.764 166.386  Z\" fill=\"#ffffff\" fill-rule=\"evenodd\" fill-opacity=\"1\"/>\n",
       "<polyline clip-path=\"url(#clip100)\" style=\"stroke:#000000; stroke-linecap:round; stroke-linejoin:round; stroke-width:4; stroke-opacity:1; fill:none\" points=\"322.764,321.906 621.582,321.906 621.582,166.386 322.764,166.386 322.764,321.906 \"/>\n",
       "<polyline clip-path=\"url(#clip100)\" style=\"stroke:#009af9; stroke-linecap:round; stroke-linejoin:round; stroke-width:12; stroke-opacity:1; fill:none\" points=\"346.097,218.226 486.096,218.226 \"/>\n",
       "<circle clip-path=\"url(#clip100)\" cx=\"416.097\" cy=\"218.226\" r=\"19.4444\" fill=\"#009af9\" fill-rule=\"evenodd\" fill-opacity=\"1\" stroke=\"#000000\" stroke-opacity=\"1\" stroke-width=\"4.55111\"/>\n",
       "<path clip-path=\"url(#clip100)\" d=\"M509.43 200.946 L531.281 200.946 L531.281 204.881 L514.106 204.881 L514.106 215.113 L530.564 215.113 L530.564 219.048 L514.106 219.048 L514.106 231.571 L531.698 231.571 L531.698 235.506 L509.43 235.506 L509.43 200.946 Z\" fill=\"#000000\" fill-rule=\"nonzero\" fill-opacity=\"1\" /><path clip-path=\"url(#clip100)\" d=\"M554.221 213.562 Q553.503 213.145 552.647 212.96 Q551.814 212.752 550.795 212.752 Q547.184 212.752 545.24 215.113 Q543.318 217.451 543.318 221.849 L543.318 235.506 L539.036 235.506 L539.036 209.58 L543.318 209.58 L543.318 213.608 Q544.661 211.247 546.814 210.113 Q548.966 208.955 552.045 208.955 Q552.485 208.955 553.017 209.025 Q553.55 209.071 554.198 209.187 L554.221 213.562 Z\" fill=\"#000000\" fill-rule=\"nonzero\" fill-opacity=\"1\" /><path clip-path=\"url(#clip100)\" d=\"M572.878 213.562 Q572.161 213.145 571.304 212.96 Q570.471 212.752 569.452 212.752 Q565.841 212.752 563.897 215.113 Q561.976 217.451 561.976 221.849 L561.976 235.506 L557.693 235.506 L557.693 209.58 L561.976 209.58 L561.976 213.608 Q563.318 211.247 565.471 210.113 Q567.624 208.955 570.702 208.955 Q571.142 208.955 571.675 209.025 Q572.207 209.071 572.855 209.187 L572.878 213.562 Z\" fill=\"#000000\" fill-rule=\"nonzero\" fill-opacity=\"1\" /><path clip-path=\"url(#clip100)\" d=\"M586.351 212.567 Q582.925 212.567 580.934 215.252 Q578.943 217.914 578.943 222.567 Q578.943 227.219 580.911 229.904 Q582.901 232.566 586.351 232.566 Q589.753 232.566 591.744 229.881 Q593.735 227.196 593.735 222.567 Q593.735 217.96 591.744 215.275 Q589.753 212.567 586.351 212.567 M586.351 208.955 Q591.906 208.955 595.077 212.567 Q598.249 216.178 598.249 222.567 Q598.249 228.932 595.077 232.566 Q591.906 236.178 586.351 236.178 Q580.772 236.178 577.601 232.566 Q574.452 228.932 574.452 222.567 Q574.452 216.178 577.601 212.567 Q580.772 208.955 586.351 208.955 Z\" fill=\"#000000\" fill-rule=\"nonzero\" fill-opacity=\"1\" /><polyline clip-path=\"url(#clip100)\" style=\"stroke:#e26f46; stroke-linecap:round; stroke-linejoin:round; stroke-width:12; stroke-opacity:1; fill:none\" points=\"346.097,270.066 486.096,270.066 \"/>\n",
       "<path clip-path=\"url(#clip100)\" d=\"M531.142 271.698 L531.142 287.346 L526.883 287.346 L526.883 271.837 Q526.883 268.157 525.448 266.328 Q524.013 264.499 521.143 264.499 Q517.693 264.499 515.703 266.698 Q513.712 268.897 513.712 272.694 L513.712 287.346 L509.43 287.346 L509.43 251.328 L513.712 251.328 L513.712 265.448 Q515.24 263.11 517.3 261.953 Q519.383 260.795 522.092 260.795 Q526.559 260.795 528.851 263.573 Q531.142 266.328 531.142 271.698 Z\" fill=\"#000000\" fill-rule=\"nonzero\" fill-opacity=\"1\" /><path clip-path=\"url(#clip100)\" d=\"M541.374 269.245 L551.189 269.245 L551.189 271.883 L537.346 271.883 L537.346 269.337 Q538.133 268.62 539.592 267.323 Q547.554 260.263 547.554 258.087 Q547.554 256.559 546.351 255.633 Q545.147 254.684 543.179 254.684 Q541.976 254.684 540.564 255.101 Q539.152 255.495 537.485 256.305 L537.485 253.458 Q539.267 252.809 540.795 252.485 Q542.346 252.161 543.666 252.161 Q547.022 252.161 549.036 253.689 Q551.05 255.217 551.05 257.717 Q551.05 260.934 543.388 267.508 Q542.091 268.62 541.374 269.245 Z\" fill=\"#000000\" fill-rule=\"nonzero\" fill-opacity=\"1\" /></svg>\n"
      ],
      "text/html": [
       "<?xml version=\"1.0\" encoding=\"utf-8\"?>\n",
       "<svg xmlns=\"http://www.w3.org/2000/svg\" xmlns:xlink=\"http://www.w3.org/1999/xlink\" width=\"600\" height=\"400\" viewBox=\"0 0 2400 1600\">\n",
       "<defs>\n",
       "  <clipPath id=\"clip150\">\n",
       "    <rect x=\"0\" y=\"0\" width=\"2400\" height=\"1600\"/>\n",
       "  </clipPath>\n",
       "</defs>\n",
       "<path clip-path=\"url(#clip150)\" d=\"M0 1600 L2400 1600 L2400 0 L0 0  Z\" fill=\"#ffffff\" fill-rule=\"evenodd\" fill-opacity=\"1\"/>\n",
       "<defs>\n",
       "  <clipPath id=\"clip151\">\n",
       "    <rect x=\"480\" y=\"0\" width=\"1681\" height=\"1600\"/>\n",
       "  </clipPath>\n",
       "</defs>\n",
       "<path clip-path=\"url(#clip150)\" d=\"M252.764 1410.9 L2352.76 1410.9 L2352.76 123.472 L252.764 123.472  Z\" fill=\"#ffffff\" fill-rule=\"evenodd\" fill-opacity=\"1\"/>\n",
       "<defs>\n",
       "  <clipPath id=\"clip152\">\n",
       "    <rect x=\"252\" y=\"123\" width=\"2101\" height=\"1288\"/>\n",
       "  </clipPath>\n",
       "</defs>\n",
       "<polyline clip-path=\"url(#clip152)\" style=\"stroke:#000000; stroke-linecap:round; stroke-linejoin:round; stroke-width:2; stroke-opacity:0.1; fill:none\" points=\"837.519,1410.9 837.519,123.472 \"/>\n",
       "<polyline clip-path=\"url(#clip152)\" style=\"stroke:#000000; stroke-linecap:round; stroke-linejoin:round; stroke-width:2; stroke-opacity:0.1; fill:none\" points=\"1777.68,1410.9 1777.68,123.472 \"/>\n",
       "<polyline clip-path=\"url(#clip152)\" style=\"stroke:#000000; stroke-linecap:round; stroke-linejoin:round; stroke-width:2; stroke-opacity:0.1; fill:none\" points=\"252.764,936.502 2352.76,936.502 \"/>\n",
       "<polyline clip-path=\"url(#clip152)\" style=\"stroke:#000000; stroke-linecap:round; stroke-linejoin:round; stroke-width:2; stroke-opacity:0.1; fill:none\" points=\"252.764,434.974 2352.76,434.974 \"/>\n",
       "<polyline clip-path=\"url(#clip150)\" style=\"stroke:#000000; stroke-linecap:round; stroke-linejoin:round; stroke-width:4; stroke-opacity:1; fill:none\" points=\"252.764,1410.9 2352.76,1410.9 \"/>\n",
       "<polyline clip-path=\"url(#clip150)\" style=\"stroke:#000000; stroke-linecap:round; stroke-linejoin:round; stroke-width:4; stroke-opacity:1; fill:none\" points=\"837.519,1410.9 837.519,1392 \"/>\n",
       "<polyline clip-path=\"url(#clip150)\" style=\"stroke:#000000; stroke-linecap:round; stroke-linejoin:round; stroke-width:4; stroke-opacity:1; fill:none\" points=\"1777.68,1410.9 1777.68,1392 \"/>\n",
       "<path clip-path=\"url(#clip150)\" d=\"M787.785 1485.02 L795.424 1485.02 L795.424 1458.66 L787.114 1460.32 L787.114 1456.06 L795.378 1454.4 L800.054 1454.4 L800.054 1485.02 L807.692 1485.02 L807.692 1488.96 L787.785 1488.96 L787.785 1485.02 Z\" fill=\"#000000\" fill-rule=\"nonzero\" fill-opacity=\"1\" /><path clip-path=\"url(#clip150)\" d=\"M827.137 1457.48 Q823.526 1457.48 821.697 1461.04 Q819.891 1464.58 819.891 1471.71 Q819.891 1478.82 821.697 1482.38 Q823.526 1485.92 827.137 1485.92 Q830.771 1485.92 832.577 1482.38 Q834.405 1478.82 834.405 1471.71 Q834.405 1464.58 832.577 1461.04 Q830.771 1457.48 827.137 1457.48 M827.137 1453.77 Q832.947 1453.77 836.002 1458.38 Q839.081 1462.96 839.081 1471.71 Q839.081 1480.44 836.002 1485.04 Q832.947 1489.63 827.137 1489.63 Q821.327 1489.63 818.248 1485.04 Q815.192 1480.44 815.192 1471.71 Q815.192 1462.96 818.248 1458.38 Q821.327 1453.77 827.137 1453.77 Z\" fill=\"#000000\" fill-rule=\"nonzero\" fill-opacity=\"1\" /><path clip-path=\"url(#clip150)\" d=\"M839.081 1447.87 L863.193 1447.87 L863.193 1451.07 L839.081 1451.07 L839.081 1447.87 Z\" fill=\"#000000\" fill-rule=\"nonzero\" fill-opacity=\"1\" /><path clip-path=\"url(#clip150)\" d=\"M874.665 1458.35 L887.925 1458.35 L887.925 1461.55 L870.095 1461.55 L870.095 1458.35 Q872.258 1456.11 875.982 1452.35 Q879.725 1448.57 880.684 1447.48 Q882.508 1445.43 883.223 1444.02 Q883.956 1442.59 883.956 1441.22 Q883.956 1438.98 882.377 1437.57 Q880.816 1436.16 878.295 1436.16 Q876.509 1436.16 874.515 1436.78 Q872.54 1437.4 870.283 1438.66 L870.283 1434.82 Q872.578 1433.9 874.571 1433.43 Q876.565 1432.96 878.22 1432.96 Q882.584 1432.96 885.179 1435.14 Q887.774 1437.32 887.774 1440.97 Q887.774 1442.7 887.116 1444.26 Q886.477 1445.8 884.765 1447.91 Q884.295 1448.46 881.775 1451.07 Q879.255 1453.67 874.665 1458.35 Z\" fill=\"#000000\" fill-rule=\"nonzero\" fill-opacity=\"1\" /><path clip-path=\"url(#clip150)\" d=\"M1727.8 1485.02 L1735.44 1485.02 L1735.44 1458.66 L1727.13 1460.32 L1727.13 1456.06 L1735.39 1454.4 L1740.07 1454.4 L1740.07 1485.02 L1747.71 1485.02 L1747.71 1488.96 L1727.8 1488.96 L1727.8 1485.02 Z\" fill=\"#000000\" fill-rule=\"nonzero\" fill-opacity=\"1\" /><path clip-path=\"url(#clip150)\" d=\"M1767.15 1457.48 Q1763.54 1457.48 1761.71 1461.04 Q1759.91 1464.58 1759.91 1471.71 Q1759.91 1478.82 1761.71 1482.38 Q1763.54 1485.92 1767.15 1485.92 Q1770.79 1485.92 1772.59 1482.38 Q1774.42 1478.82 1774.42 1471.71 Q1774.42 1464.58 1772.59 1461.04 Q1770.79 1457.48 1767.15 1457.48 M1767.15 1453.77 Q1772.96 1453.77 1776.02 1458.38 Q1779.1 1462.96 1779.1 1471.71 Q1779.1 1480.44 1776.02 1485.04 Q1772.96 1489.63 1767.15 1489.63 Q1761.34 1489.63 1758.26 1485.04 Q1755.21 1480.44 1755.21 1471.71 Q1755.21 1462.96 1758.26 1458.38 Q1761.34 1453.77 1767.15 1453.77 Z\" fill=\"#000000\" fill-rule=\"nonzero\" fill-opacity=\"1\" /><path clip-path=\"url(#clip150)\" d=\"M1779.1 1447.87 L1803.21 1447.87 L1803.21 1451.07 L1779.1 1451.07 L1779.1 1447.87 Z\" fill=\"#000000\" fill-rule=\"nonzero\" fill-opacity=\"1\" /><path clip-path=\"url(#clip150)\" d=\"M1812.07 1458.35 L1818.27 1458.35 L1818.27 1436.93 L1811.52 1438.28 L1811.52 1434.82 L1818.23 1433.47 L1822.03 1433.47 L1822.03 1458.35 L1828.24 1458.35 L1828.24 1461.55 L1812.07 1461.55 L1812.07 1458.35 Z\" fill=\"#000000\" fill-rule=\"nonzero\" fill-opacity=\"1\" /><path clip-path=\"url(#clip150)\" d=\"M1317.69 1552.67 L1317.69 1574.19 L1311.83 1574.19 L1311.83 1552.86 Q1311.83 1547.8 1309.86 1545.29 Q1307.88 1542.77 1303.94 1542.77 Q1299.2 1542.77 1296.46 1545.79 Q1293.72 1548.82 1293.72 1554.04 L1293.72 1574.19 L1287.83 1574.19 L1287.83 1524.66 L1293.72 1524.66 L1293.72 1544.08 Q1295.82 1540.86 1298.65 1539.27 Q1301.52 1537.68 1305.24 1537.68 Q1311.39 1537.68 1314.54 1541.5 Q1317.69 1545.29 1317.69 1552.67 Z\" fill=\"#000000\" fill-rule=\"nonzero\" fill-opacity=\"1\" /><polyline clip-path=\"url(#clip150)\" style=\"stroke:#000000; stroke-linecap:round; stroke-linejoin:round; stroke-width:4; stroke-opacity:1; fill:none\" points=\"252.764,1410.9 252.764,123.472 \"/>\n",
       "<polyline clip-path=\"url(#clip150)\" style=\"stroke:#000000; stroke-linecap:round; stroke-linejoin:round; stroke-width:4; stroke-opacity:1; fill:none\" points=\"252.764,936.502 271.662,936.502 \"/>\n",
       "<polyline clip-path=\"url(#clip150)\" style=\"stroke:#000000; stroke-linecap:round; stroke-linejoin:round; stroke-width:4; stroke-opacity:1; fill:none\" points=\"252.764,434.974 271.662,434.974 \"/>\n",
       "<path clip-path=\"url(#clip150)\" d=\"M114.931 956.294 L122.57 956.294 L122.57 929.928 L114.26 931.595 L114.26 927.336 L122.524 925.669 L127.2 925.669 L127.2 956.294 L134.839 956.294 L134.839 960.229 L114.931 960.229 L114.931 956.294 Z\" fill=\"#000000\" fill-rule=\"nonzero\" fill-opacity=\"1\" /><path clip-path=\"url(#clip150)\" d=\"M154.283 928.748 Q150.672 928.748 148.843 932.313 Q147.038 935.854 147.038 942.984 Q147.038 950.09 148.843 953.655 Q150.672 957.197 154.283 957.197 Q157.917 957.197 159.723 953.655 Q161.552 950.09 161.552 942.984 Q161.552 935.854 159.723 932.313 Q157.917 928.748 154.283 928.748 M154.283 925.044 Q160.093 925.044 163.149 929.651 Q166.227 934.234 166.227 942.984 Q166.227 951.711 163.149 956.317 Q160.093 960.901 154.283 960.901 Q148.473 960.901 145.394 956.317 Q142.339 951.711 142.339 942.984 Q142.339 934.234 145.394 929.651 Q148.473 925.044 154.283 925.044 Z\" fill=\"#000000\" fill-rule=\"nonzero\" fill-opacity=\"1\" /><path clip-path=\"url(#clip150)\" d=\"M166.227 919.146 L190.339 919.146 L190.339 922.343 L166.227 922.343 L166.227 919.146 Z\" fill=\"#000000\" fill-rule=\"nonzero\" fill-opacity=\"1\" /><path clip-path=\"url(#clip150)\" d=\"M208.978 908.049 L199.386 923.039 L208.978 923.039 L208.978 908.049 M207.981 904.739 L212.758 904.739 L212.758 923.039 L216.764 923.039 L216.764 926.199 L212.758 926.199 L212.758 932.819 L208.978 932.819 L208.978 926.199 L196.301 926.199 L196.301 922.531 L207.981 904.739 Z\" fill=\"#000000\" fill-rule=\"nonzero\" fill-opacity=\"1\" /><path clip-path=\"url(#clip150)\" d=\"M116.624 454.766 L124.263 454.766 L124.263 428.401 L115.953 430.068 L115.953 425.808 L124.217 424.142 L128.893 424.142 L128.893 454.766 L136.531 454.766 L136.531 458.702 L116.624 458.702 L116.624 454.766 Z\" fill=\"#000000\" fill-rule=\"nonzero\" fill-opacity=\"1\" /><path clip-path=\"url(#clip150)\" d=\"M155.976 427.22 Q152.365 427.22 150.536 430.785 Q148.73 434.327 148.73 441.456 Q148.73 448.563 150.536 452.128 Q152.365 455.669 155.976 455.669 Q159.61 455.669 161.416 452.128 Q163.244 448.563 163.244 441.456 Q163.244 434.327 161.416 430.785 Q159.61 427.22 155.976 427.22 M155.976 423.517 Q161.786 423.517 164.841 428.123 Q167.92 432.706 167.92 441.456 Q167.92 450.183 164.841 454.79 Q161.786 459.373 155.976 459.373 Q150.166 459.373 147.087 454.79 Q144.031 450.183 144.031 441.456 Q144.031 432.706 147.087 428.123 Q150.166 423.517 155.976 423.517 Z\" fill=\"#000000\" fill-rule=\"nonzero\" fill-opacity=\"1\" /><path clip-path=\"url(#clip150)\" d=\"M167.92 417.618 L192.032 417.618 L192.032 420.815 L167.92 420.815 L167.92 417.618 Z\" fill=\"#000000\" fill-rule=\"nonzero\" fill-opacity=\"1\" /><path clip-path=\"url(#clip150)\" d=\"M203.504 428.094 L216.764 428.094 L216.764 431.291 L198.934 431.291 L198.934 428.094 Q201.097 425.856 204.821 422.094 Q208.564 418.314 209.523 417.223 Q211.347 415.173 212.062 413.762 Q212.796 412.333 212.796 410.96 Q212.796 408.722 211.216 407.311 Q209.655 405.901 207.134 405.901 Q205.348 405.901 203.354 406.521 Q201.379 407.142 199.122 408.402 L199.122 404.565 Q201.417 403.644 203.41 403.174 Q205.404 402.703 207.059 402.703 Q211.423 402.703 214.018 404.885 Q216.613 407.067 216.613 410.716 Q216.613 412.446 215.955 414.007 Q215.316 415.549 213.604 417.656 Q213.134 418.201 210.614 420.815 Q208.094 423.411 203.504 428.094 Z\" fill=\"#000000\" fill-rule=\"nonzero\" fill-opacity=\"1\" /><path clip-path=\"url(#clip150)\" d=\"M16.4842 828.247 L16.4842 798.201 L21.895 798.201 L21.895 821.818 L35.9632 821.818 L35.9632 799.188 L41.3741 799.188 L41.3741 821.818 L58.5933 821.818 L58.5933 797.628 L64.0042 797.628 L64.0042 828.247 L16.4842 828.247 Z\" fill=\"#000000\" fill-rule=\"nonzero\" fill-opacity=\"1\" /><path clip-path=\"url(#clip150)\" d=\"M33.8307 766.659 Q33.2578 767.646 33.0032 768.824 Q32.7167 769.969 32.7167 771.37 Q32.7167 776.335 35.9632 779.009 Q39.1779 781.65 45.2253 781.65 L64.0042 781.65 L64.0042 787.539 L28.3562 787.539 L28.3562 781.65 L33.8944 781.65 Q30.6479 779.804 29.0883 776.844 Q27.4968 773.884 27.4968 769.651 Q27.4968 769.046 27.5923 768.314 Q27.656 767.582 27.8151 766.691 L33.8307 766.659 Z\" fill=\"#000000\" fill-rule=\"nonzero\" fill-opacity=\"1\" /><path clip-path=\"url(#clip150)\" d=\"M33.8307 741.005 Q33.2578 741.992 33.0032 743.17 Q32.7167 744.316 32.7167 745.716 Q32.7167 750.681 35.9632 753.355 Q39.1779 755.997 45.2253 755.997 L64.0042 755.997 L64.0042 761.885 L28.3562 761.885 L28.3562 755.997 L33.8944 755.997 Q30.6479 754.151 29.0883 751.191 Q27.4968 748.23 27.4968 743.997 Q27.4968 743.393 27.5923 742.66 Q27.656 741.928 27.8151 741.037 L33.8307 741.005 Z\" fill=\"#000000\" fill-rule=\"nonzero\" fill-opacity=\"1\" /><path clip-path=\"url(#clip150)\" d=\"M32.4621 722.481 Q32.4621 727.192 36.1542 729.929 Q39.8145 732.666 46.212 732.666 Q52.6095 732.666 56.3017 729.961 Q59.9619 727.224 59.9619 722.481 Q59.9619 717.802 56.2698 715.065 Q52.5777 712.328 46.212 712.328 Q39.8781 712.328 36.186 715.065 Q32.4621 717.802 32.4621 722.481 M27.4968 722.481 Q27.4968 714.842 32.4621 710.482 Q37.4273 706.121 46.212 706.121 Q54.9649 706.121 59.9619 710.482 Q64.9272 714.842 64.9272 722.481 Q64.9272 730.152 59.9619 734.512 Q54.9649 738.841 46.212 738.841 Q37.4273 738.841 32.4621 734.512 Q27.4968 730.152 27.4968 722.481 Z\" fill=\"#000000\" fill-rule=\"nonzero\" fill-opacity=\"1\" /><path clip-path=\"url(#clip150)\" d=\"M1005.57 12.096 L1043.81 12.096 L1043.81 18.9825 L1013.75 18.9825 L1013.75 36.8875 L1042.55 36.8875 L1042.55 43.7741 L1013.75 43.7741 L1013.75 65.6895 L1044.54 65.6895 L1044.54 72.576 L1005.57 72.576 L1005.57 12.096 Z\" fill=\"#000000\" fill-rule=\"nonzero\" fill-opacity=\"1\" /><path clip-path=\"url(#clip150)\" d=\"M1086.58 28.5427 L1086.58 35.5912 Q1083.42 33.9709 1080.02 33.1607 Q1076.62 32.3505 1072.97 32.3505 Q1067.42 32.3505 1064.63 34.0519 Q1061.87 35.7533 1061.87 39.156 Q1061.87 41.7486 1063.86 43.2475 Q1065.84 44.7058 1071.84 46.0426 L1074.39 46.6097 Q1082.33 48.3111 1085.65 51.4303 Q1089.01 54.509 1089.01 60.0587 Q1089.01 66.3781 1083.99 70.0644 Q1079.01 73.7508 1070.26 73.7508 Q1066.61 73.7508 1062.64 73.0216 Q1058.71 72.3329 1054.34 70.9151 L1054.34 63.2184 Q1058.47 65.3654 1062.48 66.4591 Q1066.49 67.5124 1070.42 67.5124 Q1075.69 67.5124 1078.52 65.73 Q1081.36 63.9071 1081.36 60.6258 Q1081.36 57.5877 1079.29 55.9673 Q1077.27 54.3469 1070.34 52.8481 L1067.75 52.2405 Q1060.82 50.7821 1057.74 47.7845 Q1054.66 44.7463 1054.66 39.4801 Q1054.66 33.0797 1059.2 29.5959 Q1063.74 26.1121 1072.08 26.1121 Q1076.21 26.1121 1079.86 26.7198 Q1083.5 27.3274 1086.58 28.5427 Z\" fill=\"#000000\" fill-rule=\"nonzero\" fill-opacity=\"1\" /><path clip-path=\"url(#clip150)\" d=\"M1108.26 14.324 L1108.26 27.2059 L1123.61 27.2059 L1123.61 32.9987 L1108.26 32.9987 L1108.26 57.6282 Q1108.26 63.1779 1109.75 64.7578 Q1111.29 66.3376 1115.95 66.3376 L1123.61 66.3376 L1123.61 72.576 L1115.95 72.576 Q1107.32 72.576 1104.04 69.3758 Q1100.76 66.1351 1100.76 57.6282 L1100.76 32.9987 L1095.29 32.9987 L1095.29 27.2059 L1100.76 27.2059 L1100.76 14.324 L1108.26 14.324 Z\" fill=\"#000000\" fill-rule=\"nonzero\" fill-opacity=\"1\" /><path clip-path=\"url(#clip150)\" d=\"M1132.64 54.671 L1132.64 27.2059 L1140.1 27.2059 L1140.1 54.3874 Q1140.1 60.8284 1142.61 64.0691 Q1145.12 67.2693 1150.14 67.2693 Q1156.18 67.2693 1159.66 63.421 Q1163.19 59.5726 1163.19 52.9291 L1163.19 27.2059 L1170.64 27.2059 L1170.64 72.576 L1163.19 72.576 L1163.19 65.6084 Q1160.47 69.7404 1156.87 71.7658 Q1153.3 73.7508 1148.56 73.7508 Q1140.74 73.7508 1136.69 68.8897 Q1132.64 64.0286 1132.64 54.671 M1151.4 26.1121 L1151.4 26.1121 Z\" fill=\"#000000\" fill-rule=\"nonzero\" fill-opacity=\"1\" /><path clip-path=\"url(#clip150)\" d=\"M1215.85 34.0924 L1215.85 9.54393 L1223.3 9.54393 L1223.3 72.576 L1215.85 72.576 L1215.85 65.7705 Q1213.5 69.8214 1209.89 71.8063 Q1206.33 73.7508 1201.31 73.7508 Q1193.08 73.7508 1187.9 67.1883 Q1182.75 60.6258 1182.75 49.9314 Q1182.75 39.2371 1187.9 32.6746 Q1193.08 26.1121 1201.31 26.1121 Q1206.33 26.1121 1209.89 28.0971 Q1213.5 30.0415 1215.85 34.0924 M1190.45 49.9314 Q1190.45 58.1548 1193.81 62.8538 Q1197.21 67.5124 1203.13 67.5124 Q1209.04 67.5124 1212.45 62.8538 Q1215.85 58.1548 1215.85 49.9314 Q1215.85 41.7081 1212.45 37.0496 Q1209.04 32.3505 1203.13 32.3505 Q1197.21 32.3505 1193.81 37.0496 Q1190.45 41.7081 1190.45 49.9314 Z\" fill=\"#000000\" fill-rule=\"nonzero\" fill-opacity=\"1\" /><path clip-path=\"url(#clip150)\" d=\"M1256.24 32.4315 Q1250.24 32.4315 1246.76 37.1306 Q1243.27 41.7891 1243.27 49.9314 Q1243.27 58.0738 1246.72 62.7728 Q1250.2 67.4314 1256.24 67.4314 Q1262.19 67.4314 1265.67 62.7323 Q1269.16 58.0333 1269.16 49.9314 Q1269.16 41.8701 1265.67 37.1711 Q1262.19 32.4315 1256.24 32.4315 M1256.24 26.1121 Q1265.96 26.1121 1271.51 32.4315 Q1277.06 38.7509 1277.06 49.9314 Q1277.06 61.0714 1271.51 67.4314 Q1265.96 73.7508 1256.24 73.7508 Q1246.47 73.7508 1240.92 67.4314 Q1235.41 61.0714 1235.41 49.9314 Q1235.41 38.7509 1240.92 32.4315 Q1246.47 26.1121 1256.24 26.1121 Z\" fill=\"#000000\" fill-rule=\"nonzero\" fill-opacity=\"1\" /><path clip-path=\"url(#clip150)\" d=\"M1345.64 34.0924 L1345.64 9.54393 L1353.09 9.54393 L1353.09 72.576 L1345.64 72.576 L1345.64 65.7705 Q1343.29 69.8214 1339.68 71.8063 Q1336.12 73.7508 1331.1 73.7508 Q1322.87 73.7508 1317.69 67.1883 Q1312.54 60.6258 1312.54 49.9314 Q1312.54 39.2371 1317.69 32.6746 Q1322.87 26.1121 1331.1 26.1121 Q1336.12 26.1121 1339.68 28.0971 Q1343.29 30.0415 1345.64 34.0924 M1320.24 49.9314 Q1320.24 58.1548 1323.6 62.8538 Q1327 67.5124 1332.92 67.5124 Q1338.83 67.5124 1342.24 62.8538 Q1345.64 58.1548 1345.64 49.9314 Q1345.64 41.7081 1342.24 37.0496 Q1338.83 32.3505 1332.92 32.3505 Q1327 32.3505 1323.6 37.0496 Q1320.24 41.7081 1320.24 49.9314 Z\" fill=\"#000000\" fill-rule=\"nonzero\" fill-opacity=\"1\" /><path clip-path=\"url(#clip150)\" d=\"M1386.03 32.4315 Q1380.03 32.4315 1376.55 37.1306 Q1373.06 41.7891 1373.06 49.9314 Q1373.06 58.0738 1376.51 62.7728 Q1379.99 67.4314 1386.03 67.4314 Q1391.98 67.4314 1395.46 62.7323 Q1398.95 58.0333 1398.95 49.9314 Q1398.95 41.8701 1395.46 37.1711 Q1391.98 32.4315 1386.03 32.4315 M1386.03 26.1121 Q1395.75 26.1121 1401.3 32.4315 Q1406.85 38.7509 1406.85 49.9314 Q1406.85 61.0714 1401.3 67.4314 Q1395.75 73.7508 1386.03 73.7508 Q1376.26 73.7508 1370.71 67.4314 Q1365.2 61.0714 1365.2 49.9314 Q1365.2 38.7509 1370.71 32.4315 Q1376.26 26.1121 1386.03 26.1121 Z\" fill=\"#000000\" fill-rule=\"nonzero\" fill-opacity=\"1\" /><path clip-path=\"url(#clip150)\" d=\"M1484.38 48.0275 L1484.38 51.6733 L1450.11 51.6733 Q1450.6 59.3701 1454.73 63.421 Q1458.9 67.4314 1466.32 67.4314 Q1470.61 67.4314 1474.62 66.3781 Q1478.67 65.3249 1482.64 63.2184 L1482.64 70.267 Q1478.63 71.9684 1474.42 72.8596 Q1470.2 73.7508 1465.87 73.7508 Q1455.01 73.7508 1448.65 67.4314 Q1442.33 61.1119 1442.33 50.3365 Q1442.33 39.1965 1448.33 32.6746 Q1454.37 26.1121 1464.57 26.1121 Q1473.73 26.1121 1479.04 32.0264 Q1484.38 37.9003 1484.38 48.0275 M1476.93 45.84 Q1476.85 39.7232 1473.49 36.0774 Q1470.16 32.4315 1464.65 32.4315 Q1458.42 32.4315 1454.65 35.9558 Q1450.92 39.4801 1450.35 45.8805 L1476.93 45.84 Z\" fill=\"#000000\" fill-rule=\"nonzero\" fill-opacity=\"1\" /><path clip-path=\"url(#clip150)\" d=\"M1522.91 34.1734 Q1521.65 33.4443 1520.15 33.1202 Q1518.69 32.7556 1516.91 32.7556 Q1510.59 32.7556 1507.19 36.8875 Q1503.83 40.9789 1503.83 48.6757 L1503.83 72.576 L1496.33 72.576 L1496.33 27.2059 L1503.83 27.2059 L1503.83 34.2544 Q1506.18 30.1225 1509.94 28.1376 Q1513.71 26.1121 1519.1 26.1121 Q1519.87 26.1121 1520.8 26.2337 Q1521.73 26.3147 1522.87 26.5172 L1522.91 34.1734 Z\" fill=\"#000000\" fill-rule=\"nonzero\" fill-opacity=\"1\" /><path clip-path=\"url(#clip150)\" d=\"M1555.56 34.1734 Q1554.3 33.4443 1552.8 33.1202 Q1551.34 32.7556 1549.56 32.7556 Q1543.24 32.7556 1539.84 36.8875 Q1536.48 40.9789 1536.48 48.6757 L1536.48 72.576 L1528.98 72.576 L1528.98 27.2059 L1536.48 27.2059 L1536.48 34.2544 Q1538.83 30.1225 1542.59 28.1376 Q1546.36 26.1121 1551.75 26.1121 Q1552.52 26.1121 1553.45 26.2337 Q1554.38 26.3147 1555.52 26.5172 L1555.56 34.1734 Z\" fill=\"#000000\" fill-rule=\"nonzero\" fill-opacity=\"1\" /><path clip-path=\"url(#clip150)\" d=\"M1579.13 32.4315 Q1573.14 32.4315 1569.65 37.1306 Q1566.17 41.7891 1566.17 49.9314 Q1566.17 58.0738 1569.61 62.7728 Q1573.1 67.4314 1579.13 67.4314 Q1585.09 67.4314 1588.57 62.7323 Q1592.06 58.0333 1592.06 49.9314 Q1592.06 41.8701 1588.57 37.1711 Q1585.09 32.4315 1579.13 32.4315 M1579.13 26.1121 Q1588.86 26.1121 1594.4 32.4315 Q1599.95 38.7509 1599.95 49.9314 Q1599.95 61.0714 1594.4 67.4314 Q1588.86 73.7508 1579.13 73.7508 Q1569.37 73.7508 1563.82 67.4314 Q1558.31 61.0714 1558.31 49.9314 Q1558.31 38.7509 1563.82 32.4315 Q1569.37 26.1121 1579.13 26.1121 Z\" fill=\"#000000\" fill-rule=\"nonzero\" fill-opacity=\"1\" /><polyline clip-path=\"url(#clip152)\" style=\"stroke:#009af9; stroke-linecap:round; stroke-linejoin:round; stroke-width:12; stroke-opacity:1; fill:none\" points=\"2293.32,317.291 2010.3,468.532 1727.29,619.567 1444.27,770.556 1161.25,921.534 878.233,1072.51 595.215,1223.49 312.198,1374.46 \"/>\n",
       "<circle clip-path=\"url(#clip152)\" cx=\"2293.32\" cy=\"317.291\" r=\"14.4\" fill=\"#009af9\" fill-rule=\"evenodd\" fill-opacity=\"1\" stroke=\"#000000\" stroke-opacity=\"1\" stroke-width=\"3.2\"/>\n",
       "<circle clip-path=\"url(#clip152)\" cx=\"2010.3\" cy=\"468.532\" r=\"14.4\" fill=\"#009af9\" fill-rule=\"evenodd\" fill-opacity=\"1\" stroke=\"#000000\" stroke-opacity=\"1\" stroke-width=\"3.2\"/>\n",
       "<circle clip-path=\"url(#clip152)\" cx=\"1727.29\" cy=\"619.567\" r=\"14.4\" fill=\"#009af9\" fill-rule=\"evenodd\" fill-opacity=\"1\" stroke=\"#000000\" stroke-opacity=\"1\" stroke-width=\"3.2\"/>\n",
       "<circle clip-path=\"url(#clip152)\" cx=\"1444.27\" cy=\"770.556\" r=\"14.4\" fill=\"#009af9\" fill-rule=\"evenodd\" fill-opacity=\"1\" stroke=\"#000000\" stroke-opacity=\"1\" stroke-width=\"3.2\"/>\n",
       "<circle clip-path=\"url(#clip152)\" cx=\"1161.25\" cy=\"921.534\" r=\"14.4\" fill=\"#009af9\" fill-rule=\"evenodd\" fill-opacity=\"1\" stroke=\"#000000\" stroke-opacity=\"1\" stroke-width=\"3.2\"/>\n",
       "<circle clip-path=\"url(#clip152)\" cx=\"878.233\" cy=\"1072.51\" r=\"14.4\" fill=\"#009af9\" fill-rule=\"evenodd\" fill-opacity=\"1\" stroke=\"#000000\" stroke-opacity=\"1\" stroke-width=\"3.2\"/>\n",
       "<circle clip-path=\"url(#clip152)\" cx=\"595.215\" cy=\"1223.49\" r=\"14.4\" fill=\"#009af9\" fill-rule=\"evenodd\" fill-opacity=\"1\" stroke=\"#000000\" stroke-opacity=\"1\" stroke-width=\"3.2\"/>\n",
       "<circle clip-path=\"url(#clip152)\" cx=\"312.198\" cy=\"1374.46\" r=\"14.4\" fill=\"#009af9\" fill-rule=\"evenodd\" fill-opacity=\"1\" stroke=\"#000000\" stroke-opacity=\"1\" stroke-width=\"3.2\"/>\n",
       "<polyline clip-path=\"url(#clip152)\" style=\"stroke:#e26f46; stroke-linecap:round; stroke-linejoin:round; stroke-width:12; stroke-opacity:1; fill:none\" points=\"2293.32,159.909 2010.3,310.884 1727.29,461.858 1444.27,612.833 1161.25,763.808 878.233,914.783 595.215,1065.76 312.198,1216.73 \"/>\n",
       "<path clip-path=\"url(#clip150)\" d=\"M322.764 321.906 L621.582 321.906 L621.582 166.386 L322.764 166.386  Z\" fill=\"#ffffff\" fill-rule=\"evenodd\" fill-opacity=\"1\"/>\n",
       "<polyline clip-path=\"url(#clip150)\" style=\"stroke:#000000; stroke-linecap:round; stroke-linejoin:round; stroke-width:4; stroke-opacity:1; fill:none\" points=\"322.764,321.906 621.582,321.906 621.582,166.386 322.764,166.386 322.764,321.906 \"/>\n",
       "<polyline clip-path=\"url(#clip150)\" style=\"stroke:#009af9; stroke-linecap:round; stroke-linejoin:round; stroke-width:12; stroke-opacity:1; fill:none\" points=\"346.097,218.226 486.096,218.226 \"/>\n",
       "<circle clip-path=\"url(#clip150)\" cx=\"416.097\" cy=\"218.226\" r=\"19.4444\" fill=\"#009af9\" fill-rule=\"evenodd\" fill-opacity=\"1\" stroke=\"#000000\" stroke-opacity=\"1\" stroke-width=\"4.55111\"/>\n",
       "<path clip-path=\"url(#clip150)\" d=\"M509.43 200.946 L531.281 200.946 L531.281 204.881 L514.106 204.881 L514.106 215.113 L530.564 215.113 L530.564 219.048 L514.106 219.048 L514.106 231.571 L531.698 231.571 L531.698 235.506 L509.43 235.506 L509.43 200.946 Z\" fill=\"#000000\" fill-rule=\"nonzero\" fill-opacity=\"1\" /><path clip-path=\"url(#clip150)\" d=\"M554.221 213.562 Q553.503 213.145 552.647 212.96 Q551.814 212.752 550.795 212.752 Q547.184 212.752 545.24 215.113 Q543.318 217.451 543.318 221.849 L543.318 235.506 L539.036 235.506 L539.036 209.58 L543.318 209.58 L543.318 213.608 Q544.661 211.247 546.814 210.113 Q548.966 208.955 552.045 208.955 Q552.485 208.955 553.017 209.025 Q553.55 209.071 554.198 209.187 L554.221 213.562 Z\" fill=\"#000000\" fill-rule=\"nonzero\" fill-opacity=\"1\" /><path clip-path=\"url(#clip150)\" d=\"M572.878 213.562 Q572.161 213.145 571.304 212.96 Q570.471 212.752 569.452 212.752 Q565.841 212.752 563.897 215.113 Q561.976 217.451 561.976 221.849 L561.976 235.506 L557.693 235.506 L557.693 209.58 L561.976 209.58 L561.976 213.608 Q563.318 211.247 565.471 210.113 Q567.624 208.955 570.702 208.955 Q571.142 208.955 571.675 209.025 Q572.207 209.071 572.855 209.187 L572.878 213.562 Z\" fill=\"#000000\" fill-rule=\"nonzero\" fill-opacity=\"1\" /><path clip-path=\"url(#clip150)\" d=\"M586.351 212.567 Q582.925 212.567 580.934 215.252 Q578.943 217.914 578.943 222.567 Q578.943 227.219 580.911 229.904 Q582.901 232.566 586.351 232.566 Q589.753 232.566 591.744 229.881 Q593.735 227.196 593.735 222.567 Q593.735 217.96 591.744 215.275 Q589.753 212.567 586.351 212.567 M586.351 208.955 Q591.906 208.955 595.077 212.567 Q598.249 216.178 598.249 222.567 Q598.249 228.932 595.077 232.566 Q591.906 236.178 586.351 236.178 Q580.772 236.178 577.601 232.566 Q574.452 228.932 574.452 222.567 Q574.452 216.178 577.601 212.567 Q580.772 208.955 586.351 208.955 Z\" fill=\"#000000\" fill-rule=\"nonzero\" fill-opacity=\"1\" /><polyline clip-path=\"url(#clip150)\" style=\"stroke:#e26f46; stroke-linecap:round; stroke-linejoin:round; stroke-width:12; stroke-opacity:1; fill:none\" points=\"346.097,270.066 486.096,270.066 \"/>\n",
       "<path clip-path=\"url(#clip150)\" d=\"M531.142 271.698 L531.142 287.346 L526.883 287.346 L526.883 271.837 Q526.883 268.157 525.448 266.328 Q524.013 264.499 521.143 264.499 Q517.693 264.499 515.703 266.698 Q513.712 268.897 513.712 272.694 L513.712 287.346 L509.43 287.346 L509.43 251.328 L513.712 251.328 L513.712 265.448 Q515.24 263.11 517.3 261.953 Q519.383 260.795 522.092 260.795 Q526.559 260.795 528.851 263.573 Q531.142 266.328 531.142 271.698 Z\" fill=\"#000000\" fill-rule=\"nonzero\" fill-opacity=\"1\" /><path clip-path=\"url(#clip150)\" d=\"M541.374 269.245 L551.189 269.245 L551.189 271.883 L537.346 271.883 L537.346 269.337 Q538.133 268.62 539.592 267.323 Q547.554 260.263 547.554 258.087 Q547.554 256.559 546.351 255.633 Q545.147 254.684 543.179 254.684 Q541.976 254.684 540.564 255.101 Q539.152 255.495 537.485 256.305 L537.485 253.458 Q539.267 252.809 540.795 252.485 Q542.346 252.161 543.666 252.161 Q547.022 252.161 549.036 253.689 Q551.05 255.217 551.05 257.717 Q551.05 260.934 543.388 267.508 Q542.091 268.62 541.374 269.245 Z\" fill=\"#000000\" fill-rule=\"nonzero\" fill-opacity=\"1\" /></svg>\n"
      ]
     },
     "execution_count": 152,
     "metadata": {},
     "output_type": "execute_result"
    }
   ],
   "source": [
    "plot_estudo_do_erro()"
   ]
  },
  {
   "cell_type": "code",
   "execution_count": 153,
   "metadata": {},
   "outputs": [
    {
     "name": "stdout",
     "output_type": "stream",
     "text": [
      "  0.000208 seconds (217 allocations: 30.156 KiB)\n",
      "  0.000320 seconds (513 allocations: 125.891 KiB)\n",
      "  0.001026 seconds (1.68 k allocations: 596.766 KiB)\n",
      "  0.005549 seconds (6.31 k allocations: 2.716 MiB)\n",
      "  0.026014 seconds (24.77 k allocations: 10.355 MiB, 5.89% gc time)\n",
      "  0.236400 seconds (98.50 k allocations: 45.037 MiB, 0.83% gc time)\n",
      "  2.828292 seconds (393.42 k allocations: 193.068 MiB, 0.21% gc time)\n",
      " 64.593813 seconds (1.57 M allocations: 811.513 MiB, 0.50% gc time)\n",
      " 67.966800 seconds (2.10 M allocations: 1.078 GiB, 0.50% gc time)\n"
     ]
    },
    {
     "data": {
      "text/plain": [
       "\"Tabela com os valores de h e erro:\""
      ]
     },
     "metadata": {},
     "output_type": "display_data"
    },
    {
     "data": {
      "text/html": [
       "<div><div style = \"float: left;\"><span>8×2 DataFrame</span></div><div style = \"clear: both;\"></div></div><div class = \"data-frame\" style = \"overflow-x: scroll;\"><table class = \"data-frame\" style = \"margin-bottom: 6px;\"><thead><tr class = \"header\"><th class = \"rowNumber\" style = \"font-weight: bold; text-align: right;\">Row</th><th style = \"text-align: left;\">h</th><th style = \"text-align: left;\">erro</th></tr><tr class = \"subheader headerLastRow\"><th class = \"rowNumber\" style = \"font-weight: bold; text-align: right;\"></th><th title = \"Float64\" style = \"text-align: left;\">Float64</th><th title = \"Float64\" style = \"text-align: left;\">Float64</th></tr></thead><tbody><tr><td class = \"rowNumber\" style = \"font-weight: bold; text-align: right;\">1</td><td style = \"text-align: right;\">0.353553</td><td style = \"text-align: right;\">0.0294644</td></tr><tr><td class = \"rowNumber\" style = \"font-weight: bold; text-align: right;\">2</td><td style = \"text-align: right;\">0.176777</td><td style = \"text-align: right;\">0.00734814</td></tr><tr><td class = \"rowNumber\" style = \"font-weight: bold; text-align: right;\">3</td><td style = \"text-align: right;\">0.0883883</td><td style = \"text-align: right;\">0.00183603</td></tr><tr><td class = \"rowNumber\" style = \"font-weight: bold; text-align: right;\">4</td><td style = \"text-align: right;\">0.0441942</td><td style = \"text-align: right;\">0.000458945</td></tr><tr><td class = \"rowNumber\" style = \"font-weight: bold; text-align: right;\">5</td><td style = \"text-align: right;\">0.0220971</td><td style = \"text-align: right;\">0.000114733</td></tr><tr><td class = \"rowNumber\" style = \"font-weight: bold; text-align: right;\">6</td><td style = \"text-align: right;\">0.0110485</td><td style = \"text-align: right;\">2.86829e-5</td></tr><tr><td class = \"rowNumber\" style = \"font-weight: bold; text-align: right;\">7</td><td style = \"text-align: right;\">0.00552427</td><td style = \"text-align: right;\">7.17071e-6</td></tr><tr><td class = \"rowNumber\" style = \"font-weight: bold; text-align: right;\">8</td><td style = \"text-align: right;\">0.00276214</td><td style = \"text-align: right;\">1.79268e-6</td></tr></tbody></table></div>"
      ],
      "text/latex": [
       "\\begin{tabular}{r|cc}\n",
       "\t& h & erro\\\\\n",
       "\t\\hline\n",
       "\t& Float64 & Float64\\\\\n",
       "\t\\hline\n",
       "\t1 & 0.353553 & 0.0294644 \\\\\n",
       "\t2 & 0.176777 & 0.00734814 \\\\\n",
       "\t3 & 0.0883883 & 0.00183603 \\\\\n",
       "\t4 & 0.0441942 & 0.000458945 \\\\\n",
       "\t5 & 0.0220971 & 0.000114733 \\\\\n",
       "\t6 & 0.0110485 & 2.86829e-5 \\\\\n",
       "\t7 & 0.00552427 & 7.17071e-6 \\\\\n",
       "\t8 & 0.00276214 & 1.79268e-6 \\\\\n",
       "\\end{tabular}\n"
      ],
      "text/plain": [
       "\u001b[1m8×2 DataFrame\u001b[0m\n",
       "\u001b[1m Row \u001b[0m│\u001b[1m h          \u001b[0m\u001b[1m erro        \u001b[0m\n",
       "     │\u001b[90m Float64    \u001b[0m\u001b[90m Float64     \u001b[0m\n",
       "─────┼─────────────────────────\n",
       "   1 │ 0.353553    0.0294644\n",
       "   2 │ 0.176777    0.00734814\n",
       "   3 │ 0.0883883   0.00183603\n",
       "   4 │ 0.0441942   0.000458945\n",
       "   5 │ 0.0220971   0.000114733\n",
       "   6 │ 0.0110485   2.86829e-5\n",
       "   7 │ 0.00552427  7.17071e-6\n",
       "   8 │ 0.00276214  1.79268e-6"
      ]
     },
     "metadata": {},
     "output_type": "display_data"
    },
    {
     "data": {
      "image/png": "[encoded data removed]",
      "image/svg+xml": [
       "<?xml version=\"1.0\" encoding=\"utf-8\"?>\n",
       "<svg xmlns=\"http://www.w3.org/2000/svg\" xmlns:xlink=\"http://www.w3.org/1999/xlink\" width=\"600\" height=\"400\" viewBox=\"0 0 2400 1600\">\n",
       "<defs>\n",
       "  <clipPath id=\"clip190\">\n",
       "    <rect x=\"0\" y=\"0\" width=\"2400\" height=\"1600\"/>\n",
       "  </clipPath>\n",
       "</defs>\n",
       "<path clip-path=\"url(#clip190)\" d=\"M0 1600 L2400 1600 L2400 0 L0 0  Z\" fill=\"#ffffff\" fill-rule=\"evenodd\" fill-opacity=\"1\"/>\n",
       "<defs>\n",
       "  <clipPath id=\"clip191\">\n",
       "    <rect x=\"480\" y=\"0\" width=\"1681\" height=\"1600\"/>\n",
       "  </clipPath>\n",
       "</defs>\n",
       "<path clip-path=\"url(#clip190)\" d=\"M252.764 1410.9 L2352.76 1410.9 L2352.76 123.472 L252.764 123.472  Z\" fill=\"#ffffff\" fill-rule=\"evenodd\" fill-opacity=\"1\"/>\n",
       "<defs>\n",
       "  <clipPath id=\"clip192\">\n",
       "    <rect x=\"252\" y=\"123\" width=\"2101\" height=\"1288\"/>\n",
       "  </clipPath>\n",
       "</defs>\n",
       "<polyline clip-path=\"url(#clip192)\" style=\"stroke:#000000; stroke-linecap:round; stroke-linejoin:round; stroke-width:2; stroke-opacity:0.1; fill:none\" points=\"837.519,1410.9 837.519,123.472 \"/>\n",
       "<polyline clip-path=\"url(#clip192)\" style=\"stroke:#000000; stroke-linecap:round; stroke-linejoin:round; stroke-width:2; stroke-opacity:0.1; fill:none\" points=\"1777.68,1410.9 1777.68,123.472 \"/>\n",
       "<polyline clip-path=\"url(#clip192)\" style=\"stroke:#000000; stroke-linecap:round; stroke-linejoin:round; stroke-width:2; stroke-opacity:0.1; fill:none\" points=\"252.764,936.502 2352.76,936.502 \"/>\n",
       "<polyline clip-path=\"url(#clip192)\" style=\"stroke:#000000; stroke-linecap:round; stroke-linejoin:round; stroke-width:2; stroke-opacity:0.1; fill:none\" points=\"252.764,434.974 2352.76,434.974 \"/>\n",
       "<polyline clip-path=\"url(#clip190)\" style=\"stroke:#000000; stroke-linecap:round; stroke-linejoin:round; stroke-width:4; stroke-opacity:1; fill:none\" points=\"252.764,1410.9 2352.76,1410.9 \"/>\n",
       "<polyline clip-path=\"url(#clip190)\" style=\"stroke:#000000; stroke-linecap:round; stroke-linejoin:round; stroke-width:4; stroke-opacity:1; fill:none\" points=\"837.519,1410.9 837.519,1392 \"/>\n",
       "<polyline clip-path=\"url(#clip190)\" style=\"stroke:#000000; stroke-linecap:round; stroke-linejoin:round; stroke-width:4; stroke-opacity:1; fill:none\" points=\"1777.68,1410.9 1777.68,1392 \"/>\n",
       "<path clip-path=\"url(#clip190)\" d=\"M787.785 1485.02 L795.424 1485.02 L795.424 1458.66 L787.114 1460.32 L787.114 1456.06 L795.378 1454.4 L800.054 1454.4 L800.054 1485.02 L807.692 1485.02 L807.692 1488.96 L787.785 1488.96 L787.785 1485.02 Z\" fill=\"#000000\" fill-rule=\"nonzero\" fill-opacity=\"1\" /><path clip-path=\"url(#clip190)\" d=\"M827.137 1457.48 Q823.526 1457.48 821.697 1461.04 Q819.891 1464.58 819.891 1471.71 Q819.891 1478.82 821.697 1482.38 Q823.526 1485.92 827.137 1485.92 Q830.771 1485.92 832.577 1482.38 Q834.405 1478.82 834.405 1471.71 Q834.405 1464.58 832.577 1461.04 Q830.771 1457.48 827.137 1457.48 M827.137 1453.77 Q832.947 1453.77 836.002 1458.38 Q839.081 1462.96 839.081 1471.71 Q839.081 1480.44 836.002 1485.04 Q832.947 1489.63 827.137 1489.63 Q821.327 1489.63 818.248 1485.04 Q815.192 1480.44 815.192 1471.71 Q815.192 1462.96 818.248 1458.38 Q821.327 1453.77 827.137 1453.77 Z\" fill=\"#000000\" fill-rule=\"nonzero\" fill-opacity=\"1\" /><path clip-path=\"url(#clip190)\" d=\"M839.081 1447.87 L863.193 1447.87 L863.193 1451.07 L839.081 1451.07 L839.081 1447.87 Z\" fill=\"#000000\" fill-rule=\"nonzero\" fill-opacity=\"1\" /><path clip-path=\"url(#clip190)\" d=\"M874.665 1458.35 L887.925 1458.35 L887.925 1461.55 L870.095 1461.55 L870.095 1458.35 Q872.258 1456.11 875.982 1452.35 Q879.725 1448.57 880.684 1447.48 Q882.508 1445.43 883.223 1444.02 Q883.956 1442.59 883.956 1441.22 Q883.956 1438.98 882.377 1437.57 Q880.816 1436.16 878.295 1436.16 Q876.509 1436.16 874.515 1436.78 Q872.54 1437.4 870.283 1438.66 L870.283 1434.82 Q872.578 1433.9 874.571 1433.43 Q876.565 1432.96 878.22 1432.96 Q882.584 1432.96 885.179 1435.14 Q887.774 1437.32 887.774 1440.97 Q887.774 1442.7 887.116 1444.26 Q886.477 1445.8 884.765 1447.91 Q884.295 1448.46 881.775 1451.07 Q879.255 1453.67 874.665 1458.35 Z\" fill=\"#000000\" fill-rule=\"nonzero\" fill-opacity=\"1\" /><path clip-path=\"url(#clip190)\" d=\"M1727.8 1485.02 L1735.44 1485.02 L1735.44 1458.66 L1727.13 1460.32 L1727.13 1456.06 L1735.39 1454.4 L1740.07 1454.4 L1740.07 1485.02 L1747.71 1485.02 L1747.71 1488.96 L1727.8 1488.96 L1727.8 1485.02 Z\" fill=\"#000000\" fill-rule=\"nonzero\" fill-opacity=\"1\" /><path clip-path=\"url(#clip190)\" d=\"M1767.15 1457.48 Q1763.54 1457.48 1761.71 1461.04 Q1759.91 1464.58 1759.91 1471.71 Q1759.91 1478.82 1761.71 1482.38 Q1763.54 1485.92 1767.15 1485.92 Q1770.79 1485.92 1772.59 1482.38 Q1774.42 1478.82 1774.42 1471.71 Q1774.42 1464.58 1772.59 1461.04 Q1770.79 1457.48 1767.15 1457.48 M1767.15 1453.77 Q1772.96 1453.77 1776.02 1458.38 Q1779.1 1462.96 1779.1 1471.71 Q1779.1 1480.44 1776.02 1485.04 Q1772.96 1489.63 1767.15 1489.63 Q1761.34 1489.63 1758.26 1485.04 Q1755.21 1480.44 1755.21 1471.71 Q1755.21 1462.96 1758.26 1458.38 Q1761.34 1453.77 1767.15 1453.77 Z\" fill=\"#000000\" fill-rule=\"nonzero\" fill-opacity=\"1\" /><path clip-path=\"url(#clip190)\" d=\"M1779.1 1447.87 L1803.21 1447.87 L1803.21 1451.07 L1779.1 1451.07 L1779.1 1447.87 Z\" fill=\"#000000\" fill-rule=\"nonzero\" fill-opacity=\"1\" /><path clip-path=\"url(#clip190)\" d=\"M1812.07 1458.35 L1818.27 1458.35 L1818.27 1436.93 L1811.52 1438.28 L1811.52 1434.82 L1818.23 1433.47 L1822.03 1433.47 L1822.03 1458.35 L1828.24 1458.35 L1828.24 1461.55 L1812.07 1461.55 L1812.07 1458.35 Z\" fill=\"#000000\" fill-rule=\"nonzero\" fill-opacity=\"1\" /><path clip-path=\"url(#clip190)\" d=\"M1317.69 1552.67 L1317.69 1574.19 L1311.83 1574.19 L1311.83 1552.86 Q1311.83 1547.8 1309.86 1545.29 Q1307.88 1542.77 1303.94 1542.77 Q1299.2 1542.77 1296.46 1545.79 Q1293.72 1548.82 1293.72 1554.04 L1293.72 1574.19 L1287.83 1574.19 L1287.83 1524.66 L1293.72 1524.66 L1293.72 1544.08 Q1295.82 1540.86 1298.65 1539.27 Q1301.52 1537.68 1305.24 1537.68 Q1311.39 1537.68 1314.54 1541.5 Q1317.69 1545.29 1317.69 1552.67 Z\" fill=\"#000000\" fill-rule=\"nonzero\" fill-opacity=\"1\" /><polyline clip-path=\"url(#clip190)\" style=\"stroke:#000000; stroke-linecap:round; stroke-linejoin:round; stroke-width:4; stroke-opacity:1; fill:none\" points=\"252.764,1410.9 252.764,123.472 \"/>\n",
       "<polyline clip-path=\"url(#clip190)\" style=\"stroke:#000000; stroke-linecap:round; stroke-linejoin:round; stroke-width:4; stroke-opacity:1; fill:none\" points=\"252.764,936.502 271.662,936.502 \"/>\n",
       "<polyline clip-path=\"url(#clip190)\" style=\"stroke:#000000; stroke-linecap:round; stroke-linejoin:round; stroke-width:4; stroke-opacity:1; fill:none\" points=\"252.764,434.974 271.662,434.974 \"/>\n",
       "<path clip-path=\"url(#clip190)\" d=\"M114.931 956.294 L122.57 956.294 L122.57 929.928 L114.26 931.595 L114.26 927.336 L122.524 925.669 L127.2 925.669 L127.2 956.294 L134.839 956.294 L134.839 960.229 L114.931 960.229 L114.931 956.294 Z\" fill=\"#000000\" fill-rule=\"nonzero\" fill-opacity=\"1\" /><path clip-path=\"url(#clip190)\" d=\"M154.283 928.748 Q150.672 928.748 148.843 932.313 Q147.038 935.854 147.038 942.984 Q147.038 950.09 148.843 953.655 Q150.672 957.197 154.283 957.197 Q157.917 957.197 159.723 953.655 Q161.552 950.09 161.552 942.984 Q161.552 935.854 159.723 932.313 Q157.917 928.748 154.283 928.748 M154.283 925.044 Q160.093 925.044 163.149 929.651 Q166.227 934.234 166.227 942.984 Q166.227 951.711 163.149 956.317 Q160.093 960.901 154.283 960.901 Q148.473 960.901 145.394 956.317 Q142.339 951.711 142.339 942.984 Q142.339 934.234 145.394 929.651 Q148.473 925.044 154.283 925.044 Z\" fill=\"#000000\" fill-rule=\"nonzero\" fill-opacity=\"1\" /><path clip-path=\"url(#clip190)\" d=\"M166.227 919.146 L190.339 919.146 L190.339 922.343 L166.227 922.343 L166.227 919.146 Z\" fill=\"#000000\" fill-rule=\"nonzero\" fill-opacity=\"1\" /><path clip-path=\"url(#clip190)\" d=\"M208.978 908.049 L199.386 923.039 L208.978 923.039 L208.978 908.049 M207.981 904.739 L212.758 904.739 L212.758 923.039 L216.764 923.039 L216.764 926.199 L212.758 926.199 L212.758 932.819 L208.978 932.819 L208.978 926.199 L196.301 926.199 L196.301 922.531 L207.981 904.739 Z\" fill=\"#000000\" fill-rule=\"nonzero\" fill-opacity=\"1\" /><path clip-path=\"url(#clip190)\" d=\"M116.624 454.766 L124.263 454.766 L124.263 428.401 L115.953 430.068 L115.953 425.808 L124.217 424.142 L128.893 424.142 L128.893 454.766 L136.531 454.766 L136.531 458.702 L116.624 458.702 L116.624 454.766 Z\" fill=\"#000000\" fill-rule=\"nonzero\" fill-opacity=\"1\" /><path clip-path=\"url(#clip190)\" d=\"M155.976 427.22 Q152.365 427.22 150.536 430.785 Q148.73 434.327 148.73 441.456 Q148.73 448.563 150.536 452.128 Q152.365 455.669 155.976 455.669 Q159.61 455.669 161.416 452.128 Q163.244 448.563 163.244 441.456 Q163.244 434.327 161.416 430.785 Q159.61 427.22 155.976 427.22 M155.976 423.517 Q161.786 423.517 164.841 428.123 Q167.92 432.706 167.92 441.456 Q167.92 450.183 164.841 454.79 Q161.786 459.373 155.976 459.373 Q150.166 459.373 147.087 454.79 Q144.031 450.183 144.031 441.456 Q144.031 432.706 147.087 428.123 Q150.166 423.517 155.976 423.517 Z\" fill=\"#000000\" fill-rule=\"nonzero\" fill-opacity=\"1\" /><path clip-path=\"url(#clip190)\" d=\"M167.92 417.618 L192.032 417.618 L192.032 420.815 L167.92 420.815 L167.92 417.618 Z\" fill=\"#000000\" fill-rule=\"nonzero\" fill-opacity=\"1\" /><path clip-path=\"url(#clip190)\" d=\"M203.504 428.094 L216.764 428.094 L216.764 431.291 L198.934 431.291 L198.934 428.094 Q201.097 425.856 204.821 422.094 Q208.564 418.314 209.523 417.223 Q211.347 415.173 212.062 413.762 Q212.796 412.333 212.796 410.96 Q212.796 408.722 211.216 407.311 Q209.655 405.901 207.134 405.901 Q205.348 405.901 203.354 406.521 Q201.379 407.142 199.122 408.402 L199.122 404.565 Q201.417 403.644 203.41 403.174 Q205.404 402.703 207.059 402.703 Q211.423 402.703 214.018 404.885 Q216.613 407.067 216.613 410.716 Q216.613 412.446 215.955 414.007 Q215.316 415.549 213.604 417.656 Q213.134 418.201 210.614 420.815 Q208.094 423.411 203.504 428.094 Z\" fill=\"#000000\" fill-rule=\"nonzero\" fill-opacity=\"1\" /><path clip-path=\"url(#clip190)\" d=\"M16.4842 828.247 L16.4842 798.201 L21.895 798.201 L21.895 821.818 L35.9632 821.818 L35.9632 799.188 L41.3741 799.188 L41.3741 821.818 L58.5933 821.818 L58.5933 797.628 L64.0042 797.628 L64.0042 828.247 L16.4842 828.247 Z\" fill=\"#000000\" fill-rule=\"nonzero\" fill-opacity=\"1\" /><path clip-path=\"url(#clip190)\" d=\"M33.8307 766.659 Q33.2578 767.646 33.0032 768.824 Q32.7167 769.969 32.7167 771.37 Q32.7167 776.335 35.9632 779.009 Q39.1779 781.65 45.2253 781.65 L64.0042 781.65 L64.0042 787.539 L28.3562 787.539 L28.3562 781.65 L33.8944 781.65 Q30.6479 779.804 29.0883 776.844 Q27.4968 773.884 27.4968 769.651 Q27.4968 769.046 27.5923 768.314 Q27.656 767.582 27.8151 766.691 L33.8307 766.659 Z\" fill=\"#000000\" fill-rule=\"nonzero\" fill-opacity=\"1\" /><path clip-path=\"url(#clip190)\" d=\"M33.8307 741.005 Q33.2578 741.992 33.0032 743.17 Q32.7167 744.316 32.7167 745.716 Q32.7167 750.681 35.9632 753.355 Q39.1779 755.997 45.2253 755.997 L64.0042 755.997 L64.0042 761.885 L28.3562 761.885 L28.3562 755.997 L33.8944 755.997 Q30.6479 754.151 29.0883 751.191 Q27.4968 748.23 27.4968 743.997 Q27.4968 743.393 27.5923 742.66 Q27.656 741.928 27.8151 741.037 L33.8307 741.005 Z\" fill=\"#000000\" fill-rule=\"nonzero\" fill-opacity=\"1\" /><path clip-path=\"url(#clip190)\" d=\"M32.4621 722.481 Q32.4621 727.192 36.1542 729.929 Q39.8145 732.666 46.212 732.666 Q52.6095 732.666 56.3017 729.961 Q59.9619 727.224 59.9619 722.481 Q59.9619 717.802 56.2698 715.065 Q52.5777 712.328 46.212 712.328 Q39.8781 712.328 36.186 715.065 Q32.4621 717.802 32.4621 722.481 M27.4968 722.481 Q27.4968 714.842 32.4621 710.482 Q37.4273 706.121 46.212 706.121 Q54.9649 706.121 59.9619 710.482 Q64.9272 714.842 64.9272 722.481 Q64.9272 730.152 59.9619 734.512 Q54.9649 738.841 46.212 738.841 Q37.4273 738.841 32.4621 734.512 Q27.4968 730.152 27.4968 722.481 Z\" fill=\"#000000\" fill-rule=\"nonzero\" fill-opacity=\"1\" /><path clip-path=\"url(#clip190)\" d=\"M1005.57 12.096 L1043.81 12.096 L1043.81 18.9825 L1013.75 18.9825 L1013.75 36.8875 L1042.55 36.8875 L1042.55 43.7741 L1013.75 43.7741 L1013.75 65.6895 L1044.54 65.6895 L1044.54 72.576 L1005.57 72.576 L1005.57 12.096 Z\" fill=\"#000000\" fill-rule=\"nonzero\" fill-opacity=\"1\" /><path clip-path=\"url(#clip190)\" d=\"M1086.58 28.5427 L1086.58 35.5912 Q1083.42 33.9709 1080.02 33.1607 Q1076.62 32.3505 1072.97 32.3505 Q1067.42 32.3505 1064.63 34.0519 Q1061.87 35.7533 1061.87 39.156 Q1061.87 41.7486 1063.86 43.2475 Q1065.84 44.7058 1071.84 46.0426 L1074.39 46.6097 Q1082.33 48.3111 1085.65 51.4303 Q1089.01 54.509 1089.01 60.0587 Q1089.01 66.3781 1083.99 70.0644 Q1079.01 73.7508 1070.26 73.7508 Q1066.61 73.7508 1062.64 73.0216 Q1058.71 72.3329 1054.34 70.9151 L1054.34 63.2184 Q1058.47 65.3654 1062.48 66.4591 Q1066.49 67.5124 1070.42 67.5124 Q1075.69 67.5124 1078.52 65.73 Q1081.36 63.9071 1081.36 60.6258 Q1081.36 57.5877 1079.29 55.9673 Q1077.27 54.3469 1070.34 52.8481 L1067.75 52.2405 Q1060.82 50.7821 1057.74 47.7845 Q1054.66 44.7463 1054.66 39.4801 Q1054.66 33.0797 1059.2 29.5959 Q1063.74 26.1121 1072.08 26.1121 Q1076.21 26.1121 1079.86 26.7198 Q1083.5 27.3274 1086.58 28.5427 Z\" fill=\"#000000\" fill-rule=\"nonzero\" fill-opacity=\"1\" /><path clip-path=\"url(#clip190)\" d=\"M1108.26 14.324 L1108.26 27.2059 L1123.61 27.2059 L1123.61 32.9987 L1108.26 32.9987 L1108.26 57.6282 Q1108.26 63.1779 1109.75 64.7578 Q1111.29 66.3376 1115.95 66.3376 L1123.61 66.3376 L1123.61 72.576 L1115.95 72.576 Q1107.32 72.576 1104.04 69.3758 Q1100.76 66.1351 1100.76 57.6282 L1100.76 32.9987 L1095.29 32.9987 L1095.29 27.2059 L1100.76 27.2059 L1100.76 14.324 L1108.26 14.324 Z\" fill=\"#000000\" fill-rule=\"nonzero\" fill-opacity=\"1\" /><path clip-path=\"url(#clip190)\" d=\"M1132.64 54.671 L1132.64 27.2059 L1140.1 27.2059 L1140.1 54.3874 Q1140.1 60.8284 1142.61 64.0691 Q1145.12 67.2693 1150.14 67.2693 Q1156.18 67.2693 1159.66 63.421 Q1163.19 59.5726 1163.19 52.9291 L1163.19 27.2059 L1170.64 27.2059 L1170.64 72.576 L1163.19 72.576 L1163.19 65.6084 Q1160.47 69.7404 1156.87 71.7658 Q1153.3 73.7508 1148.56 73.7508 Q1140.74 73.7508 1136.69 68.8897 Q1132.64 64.0286 1132.64 54.671 M1151.4 26.1121 L1151.4 26.1121 Z\" fill=\"#000000\" fill-rule=\"nonzero\" fill-opacity=\"1\" /><path clip-path=\"url(#clip190)\" d=\"M1215.85 34.0924 L1215.85 9.54393 L1223.3 9.54393 L1223.3 72.576 L1215.85 72.576 L1215.85 65.7705 Q1213.5 69.8214 1209.89 71.8063 Q1206.33 73.7508 1201.31 73.7508 Q1193.08 73.7508 1187.9 67.1883 Q1182.75 60.6258 1182.75 49.9314 Q1182.75 39.2371 1187.9 32.6746 Q1193.08 26.1121 1201.31 26.1121 Q1206.33 26.1121 1209.89 28.0971 Q1213.5 30.0415 1215.85 34.0924 M1190.45 49.9314 Q1190.45 58.1548 1193.81 62.8538 Q1197.21 67.5124 1203.13 67.5124 Q1209.04 67.5124 1212.45 62.8538 Q1215.85 58.1548 1215.85 49.9314 Q1215.85 41.7081 1212.45 37.0496 Q1209.04 32.3505 1203.13 32.3505 Q1197.21 32.3505 1193.81 37.0496 Q1190.45 41.7081 1190.45 49.9314 Z\" fill=\"#000000\" fill-rule=\"nonzero\" fill-opacity=\"1\" /><path clip-path=\"url(#clip190)\" d=\"M1256.24 32.4315 Q1250.24 32.4315 1246.76 37.1306 Q1243.27 41.7891 1243.27 49.9314 Q1243.27 58.0738 1246.72 62.7728 Q1250.2 67.4314 1256.24 67.4314 Q1262.19 67.4314 1265.67 62.7323 Q1269.16 58.0333 1269.16 49.9314 Q1269.16 41.8701 1265.67 37.1711 Q1262.19 32.4315 1256.24 32.4315 M1256.24 26.1121 Q1265.96 26.1121 1271.51 32.4315 Q1277.06 38.7509 1277.06 49.9314 Q1277.06 61.0714 1271.51 67.4314 Q1265.96 73.7508 1256.24 73.7508 Q1246.47 73.7508 1240.92 67.4314 Q1235.41 61.0714 1235.41 49.9314 Q1235.41 38.7509 1240.92 32.4315 Q1246.47 26.1121 1256.24 26.1121 Z\" fill=\"#000000\" fill-rule=\"nonzero\" fill-opacity=\"1\" /><path clip-path=\"url(#clip190)\" d=\"M1345.64 34.0924 L1345.64 9.54393 L1353.09 9.54393 L1353.09 72.576 L1345.64 72.576 L1345.64 65.7705 Q1343.29 69.8214 1339.68 71.8063 Q1336.12 73.7508 1331.1 73.7508 Q1322.87 73.7508 1317.69 67.1883 Q1312.54 60.6258 1312.54 49.9314 Q1312.54 39.2371 1317.69 32.6746 Q1322.87 26.1121 1331.1 26.1121 Q1336.12 26.1121 1339.68 28.0971 Q1343.29 30.0415 1345.64 34.0924 M1320.24 49.9314 Q1320.24 58.1548 1323.6 62.8538 Q1327 67.5124 1332.92 67.5124 Q1338.83 67.5124 1342.24 62.8538 Q1345.64 58.1548 1345.64 49.9314 Q1345.64 41.7081 1342.24 37.0496 Q1338.83 32.3505 1332.92 32.3505 Q1327 32.3505 1323.6 37.0496 Q1320.24 41.7081 1320.24 49.9314 Z\" fill=\"#000000\" fill-rule=\"nonzero\" fill-opacity=\"1\" /><path clip-path=\"url(#clip190)\" d=\"M1386.03 32.4315 Q1380.03 32.4315 1376.55 37.1306 Q1373.06 41.7891 1373.06 49.9314 Q1373.06 58.0738 1376.51 62.7728 Q1379.99 67.4314 1386.03 67.4314 Q1391.98 67.4314 1395.46 62.7323 Q1398.95 58.0333 1398.95 49.9314 Q1398.95 41.8701 1395.46 37.1711 Q1391.98 32.4315 1386.03 32.4315 M1386.03 26.1121 Q1395.75 26.1121 1401.3 32.4315 Q1406.85 38.7509 1406.85 49.9314 Q1406.85 61.0714 1401.3 67.4314 Q1395.75 73.7508 1386.03 73.7508 Q1376.26 73.7508 1370.71 67.4314 Q1365.2 61.0714 1365.2 49.9314 Q1365.2 38.7509 1370.71 32.4315 Q1376.26 26.1121 1386.03 26.1121 Z\" fill=\"#000000\" fill-rule=\"nonzero\" fill-opacity=\"1\" /><path clip-path=\"url(#clip190)\" d=\"M1484.38 48.0275 L1484.38 51.6733 L1450.11 51.6733 Q1450.6 59.3701 1454.73 63.421 Q1458.9 67.4314 1466.32 67.4314 Q1470.61 67.4314 1474.62 66.3781 Q1478.67 65.3249 1482.64 63.2184 L1482.64 70.267 Q1478.63 71.9684 1474.42 72.8596 Q1470.2 73.7508 1465.87 73.7508 Q1455.01 73.7508 1448.65 67.4314 Q1442.33 61.1119 1442.33 50.3365 Q1442.33 39.1965 1448.33 32.6746 Q1454.37 26.1121 1464.57 26.1121 Q1473.73 26.1121 1479.04 32.0264 Q1484.38 37.9003 1484.38 48.0275 M1476.93 45.84 Q1476.85 39.7232 1473.49 36.0774 Q1470.16 32.4315 1464.65 32.4315 Q1458.42 32.4315 1454.65 35.9558 Q1450.92 39.4801 1450.35 45.8805 L1476.93 45.84 Z\" fill=\"#000000\" fill-rule=\"nonzero\" fill-opacity=\"1\" /><path clip-path=\"url(#clip190)\" d=\"M1522.91 34.1734 Q1521.65 33.4443 1520.15 33.1202 Q1518.69 32.7556 1516.91 32.7556 Q1510.59 32.7556 1507.19 36.8875 Q1503.83 40.9789 1503.83 48.6757 L1503.83 72.576 L1496.33 72.576 L1496.33 27.2059 L1503.83 27.2059 L1503.83 34.2544 Q1506.18 30.1225 1509.94 28.1376 Q1513.71 26.1121 1519.1 26.1121 Q1519.87 26.1121 1520.8 26.2337 Q1521.73 26.3147 1522.87 26.5172 L1522.91 34.1734 Z\" fill=\"#000000\" fill-rule=\"nonzero\" fill-opacity=\"1\" /><path clip-path=\"url(#clip190)\" d=\"M1555.56 34.1734 Q1554.3 33.4443 1552.8 33.1202 Q1551.34 32.7556 1549.56 32.7556 Q1543.24 32.7556 1539.84 36.8875 Q1536.48 40.9789 1536.48 48.6757 L1536.48 72.576 L1528.98 72.576 L1528.98 27.2059 L1536.48 27.2059 L1536.48 34.2544 Q1538.83 30.1225 1542.59 28.1376 Q1546.36 26.1121 1551.75 26.1121 Q1552.52 26.1121 1553.45 26.2337 Q1554.38 26.3147 1555.52 26.5172 L1555.56 34.1734 Z\" fill=\"#000000\" fill-rule=\"nonzero\" fill-opacity=\"1\" /><path clip-path=\"url(#clip190)\" d=\"M1579.13 32.4315 Q1573.14 32.4315 1569.65 37.1306 Q1566.17 41.7891 1566.17 49.9314 Q1566.17 58.0738 1569.61 62.7728 Q1573.1 67.4314 1579.13 67.4314 Q1585.09 67.4314 1588.57 62.7323 Q1592.06 58.0333 1592.06 49.9314 Q1592.06 41.8701 1588.57 37.1711 Q1585.09 32.4315 1579.13 32.4315 M1579.13 26.1121 Q1588.86 26.1121 1594.4 32.4315 Q1599.95 38.7509 1599.95 49.9314 Q1599.95 61.0714 1594.4 67.4314 Q1588.86 73.7508 1579.13 73.7508 Q1569.37 73.7508 1563.82 67.4314 Q1558.31 61.0714 1558.31 49.9314 Q1558.31 38.7509 1563.82 32.4315 Q1569.37 26.1121 1579.13 26.1121 Z\" fill=\"#000000\" fill-rule=\"nonzero\" fill-opacity=\"1\" /><polyline clip-path=\"url(#clip192)\" style=\"stroke:#009af9; stroke-linecap:round; stroke-linejoin:round; stroke-width:12; stroke-opacity:1; fill:none\" points=\"2293.32,317.291 2010.3,468.532 1727.29,619.567 1444.27,770.556 1161.25,921.534 878.233,1072.51 595.215,1223.49 312.198,1374.46 \"/>\n",
       "<circle clip-path=\"url(#clip192)\" cx=\"2293.32\" cy=\"317.291\" r=\"14.4\" fill=\"#009af9\" fill-rule=\"evenodd\" fill-opacity=\"1\" stroke=\"#000000\" stroke-opacity=\"1\" stroke-width=\"3.2\"/>\n",
       "<circle clip-path=\"url(#clip192)\" cx=\"2010.3\" cy=\"468.532\" r=\"14.4\" fill=\"#009af9\" fill-rule=\"evenodd\" fill-opacity=\"1\" stroke=\"#000000\" stroke-opacity=\"1\" stroke-width=\"3.2\"/>\n",
       "<circle clip-path=\"url(#clip192)\" cx=\"1727.29\" cy=\"619.567\" r=\"14.4\" fill=\"#009af9\" fill-rule=\"evenodd\" fill-opacity=\"1\" stroke=\"#000000\" stroke-opacity=\"1\" stroke-width=\"3.2\"/>\n",
       "<circle clip-path=\"url(#clip192)\" cx=\"1444.27\" cy=\"770.556\" r=\"14.4\" fill=\"#009af9\" fill-rule=\"evenodd\" fill-opacity=\"1\" stroke=\"#000000\" stroke-opacity=\"1\" stroke-width=\"3.2\"/>\n",
       "<circle clip-path=\"url(#clip192)\" cx=\"1161.25\" cy=\"921.534\" r=\"14.4\" fill=\"#009af9\" fill-rule=\"evenodd\" fill-opacity=\"1\" stroke=\"#000000\" stroke-opacity=\"1\" stroke-width=\"3.2\"/>\n",
       "<circle clip-path=\"url(#clip192)\" cx=\"878.233\" cy=\"1072.51\" r=\"14.4\" fill=\"#009af9\" fill-rule=\"evenodd\" fill-opacity=\"1\" stroke=\"#000000\" stroke-opacity=\"1\" stroke-width=\"3.2\"/>\n",
       "<circle clip-path=\"url(#clip192)\" cx=\"595.215\" cy=\"1223.49\" r=\"14.4\" fill=\"#009af9\" fill-rule=\"evenodd\" fill-opacity=\"1\" stroke=\"#000000\" stroke-opacity=\"1\" stroke-width=\"3.2\"/>\n",
       "<circle clip-path=\"url(#clip192)\" cx=\"312.198\" cy=\"1374.46\" r=\"14.4\" fill=\"#009af9\" fill-rule=\"evenodd\" fill-opacity=\"1\" stroke=\"#000000\" stroke-opacity=\"1\" stroke-width=\"3.2\"/>\n",
       "<polyline clip-path=\"url(#clip192)\" style=\"stroke:#e26f46; stroke-linecap:round; stroke-linejoin:round; stroke-width:12; stroke-opacity:1; fill:none\" points=\"2293.32,159.909 2010.3,310.884 1727.29,461.858 1444.27,612.833 1161.25,763.808 878.233,914.783 595.215,1065.76 312.198,1216.73 \"/>\n",
       "<path clip-path=\"url(#clip190)\" d=\"M322.764 321.906 L621.582 321.906 L621.582 166.386 L322.764 166.386  Z\" fill=\"#ffffff\" fill-rule=\"evenodd\" fill-opacity=\"1\"/>\n",
       "<polyline clip-path=\"url(#clip190)\" style=\"stroke:#000000; stroke-linecap:round; stroke-linejoin:round; stroke-width:4; stroke-opacity:1; fill:none\" points=\"322.764,321.906 621.582,321.906 621.582,166.386 322.764,166.386 322.764,321.906 \"/>\n",
       "<polyline clip-path=\"url(#clip190)\" style=\"stroke:#009af9; stroke-linecap:round; stroke-linejoin:round; stroke-width:12; stroke-opacity:1; fill:none\" points=\"346.097,218.226 486.096,218.226 \"/>\n",
       "<circle clip-path=\"url(#clip190)\" cx=\"416.097\" cy=\"218.226\" r=\"19.4444\" fill=\"#009af9\" fill-rule=\"evenodd\" fill-opacity=\"1\" stroke=\"#000000\" stroke-opacity=\"1\" stroke-width=\"4.55111\"/>\n",
       "<path clip-path=\"url(#clip190)\" d=\"M509.43 200.946 L531.281 200.946 L531.281 204.881 L514.106 204.881 L514.106 215.113 L530.564 215.113 L530.564 219.048 L514.106 219.048 L514.106 231.571 L531.698 231.571 L531.698 235.506 L509.43 235.506 L509.43 200.946 Z\" fill=\"#000000\" fill-rule=\"nonzero\" fill-opacity=\"1\" /><path clip-path=\"url(#clip190)\" d=\"M554.221 213.562 Q553.503 213.145 552.647 212.96 Q551.814 212.752 550.795 212.752 Q547.184 212.752 545.24 215.113 Q543.318 217.451 543.318 221.849 L543.318 235.506 L539.036 235.506 L539.036 209.58 L543.318 209.58 L543.318 213.608 Q544.661 211.247 546.814 210.113 Q548.966 208.955 552.045 208.955 Q552.485 208.955 553.017 209.025 Q553.55 209.071 554.198 209.187 L554.221 213.562 Z\" fill=\"#000000\" fill-rule=\"nonzero\" fill-opacity=\"1\" /><path clip-path=\"url(#clip190)\" d=\"M572.878 213.562 Q572.161 213.145 571.304 212.96 Q570.471 212.752 569.452 212.752 Q565.841 212.752 563.897 215.113 Q561.976 217.451 561.976 221.849 L561.976 235.506 L557.693 235.506 L557.693 209.58 L561.976 209.58 L561.976 213.608 Q563.318 211.247 565.471 210.113 Q567.624 208.955 570.702 208.955 Q571.142 208.955 571.675 209.025 Q572.207 209.071 572.855 209.187 L572.878 213.562 Z\" fill=\"#000000\" fill-rule=\"nonzero\" fill-opacity=\"1\" /><path clip-path=\"url(#clip190)\" d=\"M586.351 212.567 Q582.925 212.567 580.934 215.252 Q578.943 217.914 578.943 222.567 Q578.943 227.219 580.911 229.904 Q582.901 232.566 586.351 232.566 Q589.753 232.566 591.744 229.881 Q593.735 227.196 593.735 222.567 Q593.735 217.96 591.744 215.275 Q589.753 212.567 586.351 212.567 M586.351 208.955 Q591.906 208.955 595.077 212.567 Q598.249 216.178 598.249 222.567 Q598.249 228.932 595.077 232.566 Q591.906 236.178 586.351 236.178 Q580.772 236.178 577.601 232.566 Q574.452 228.932 574.452 222.567 Q574.452 216.178 577.601 212.567 Q580.772 208.955 586.351 208.955 Z\" fill=\"#000000\" fill-rule=\"nonzero\" fill-opacity=\"1\" /><polyline clip-path=\"url(#clip190)\" style=\"stroke:#e26f46; stroke-linecap:round; stroke-linejoin:round; stroke-width:12; stroke-opacity:1; fill:none\" points=\"346.097,270.066 486.096,270.066 \"/>\n",
       "<path clip-path=\"url(#clip190)\" d=\"M531.142 271.698 L531.142 287.346 L526.883 287.346 L526.883 271.837 Q526.883 268.157 525.448 266.328 Q524.013 264.499 521.143 264.499 Q517.693 264.499 515.703 266.698 Q513.712 268.897 513.712 272.694 L513.712 287.346 L509.43 287.346 L509.43 251.328 L513.712 251.328 L513.712 265.448 Q515.24 263.11 517.3 261.953 Q519.383 260.795 522.092 260.795 Q526.559 260.795 528.851 263.573 Q531.142 266.328 531.142 271.698 Z\" fill=\"#000000\" fill-rule=\"nonzero\" fill-opacity=\"1\" /><path clip-path=\"url(#clip190)\" d=\"M541.374 269.245 L551.189 269.245 L551.189 271.883 L537.346 271.883 L537.346 269.337 Q538.133 268.62 539.592 267.323 Q547.554 260.263 547.554 258.087 Q547.554 256.559 546.351 255.633 Q545.147 254.684 543.179 254.684 Q541.976 254.684 540.564 255.101 Q539.152 255.495 537.485 256.305 L537.485 253.458 Q539.267 252.809 540.795 252.485 Q542.346 252.161 543.666 252.161 Q547.022 252.161 549.036 253.689 Q551.05 255.217 551.05 257.717 Q551.05 260.934 543.388 267.508 Q542.091 268.62 541.374 269.245 Z\" fill=\"#000000\" fill-rule=\"nonzero\" fill-opacity=\"1\" /></svg>\n"
      ],
      "text/html": [
       "<?xml version=\"1.0\" encoding=\"utf-8\"?>\n",
       "<svg xmlns=\"http://www.w3.org/2000/svg\" xmlns:xlink=\"http://www.w3.org/1999/xlink\" width=\"600\" height=\"400\" viewBox=\"0 0 2400 1600\">\n",
       "<defs>\n",
       "  <clipPath id=\"clip240\">\n",
       "    <rect x=\"0\" y=\"0\" width=\"2400\" height=\"1600\"/>\n",
       "  </clipPath>\n",
       "</defs>\n",
       "<path clip-path=\"url(#clip240)\" d=\"M0 1600 L2400 1600 L2400 0 L0 0  Z\" fill=\"#ffffff\" fill-rule=\"evenodd\" fill-opacity=\"1\"/>\n",
       "<defs>\n",
       "  <clipPath id=\"clip241\">\n",
       "    <rect x=\"480\" y=\"0\" width=\"1681\" height=\"1600\"/>\n",
       "  </clipPath>\n",
       "</defs>\n",
       "<path clip-path=\"url(#clip240)\" d=\"M252.764 1410.9 L2352.76 1410.9 L2352.76 123.472 L252.764 123.472  Z\" fill=\"#ffffff\" fill-rule=\"evenodd\" fill-opacity=\"1\"/>\n",
       "<defs>\n",
       "  <clipPath id=\"clip242\">\n",
       "    <rect x=\"252\" y=\"123\" width=\"2101\" height=\"1288\"/>\n",
       "  </clipPath>\n",
       "</defs>\n",
       "<polyline clip-path=\"url(#clip242)\" style=\"stroke:#000000; stroke-linecap:round; stroke-linejoin:round; stroke-width:2; stroke-opacity:0.1; fill:none\" points=\"837.519,1410.9 837.519,123.472 \"/>\n",
       "<polyline clip-path=\"url(#clip242)\" style=\"stroke:#000000; stroke-linecap:round; stroke-linejoin:round; stroke-width:2; stroke-opacity:0.1; fill:none\" points=\"1777.68,1410.9 1777.68,123.472 \"/>\n",
       "<polyline clip-path=\"url(#clip242)\" style=\"stroke:#000000; stroke-linecap:round; stroke-linejoin:round; stroke-width:2; stroke-opacity:0.1; fill:none\" points=\"252.764,936.502 2352.76,936.502 \"/>\n",
       "<polyline clip-path=\"url(#clip242)\" style=\"stroke:#000000; stroke-linecap:round; stroke-linejoin:round; stroke-width:2; stroke-opacity:0.1; fill:none\" points=\"252.764,434.974 2352.76,434.974 \"/>\n",
       "<polyline clip-path=\"url(#clip240)\" style=\"stroke:#000000; stroke-linecap:round; stroke-linejoin:round; stroke-width:4; stroke-opacity:1; fill:none\" points=\"252.764,1410.9 2352.76,1410.9 \"/>\n",
       "<polyline clip-path=\"url(#clip240)\" style=\"stroke:#000000; stroke-linecap:round; stroke-linejoin:round; stroke-width:4; stroke-opacity:1; fill:none\" points=\"837.519,1410.9 837.519,1392 \"/>\n",
       "<polyline clip-path=\"url(#clip240)\" style=\"stroke:#000000; stroke-linecap:round; stroke-linejoin:round; stroke-width:4; stroke-opacity:1; fill:none\" points=\"1777.68,1410.9 1777.68,1392 \"/>\n",
       "<path clip-path=\"url(#clip240)\" d=\"M787.785 1485.02 L795.424 1485.02 L795.424 1458.66 L787.114 1460.32 L787.114 1456.06 L795.378 1454.4 L800.054 1454.4 L800.054 1485.02 L807.692 1485.02 L807.692 1488.96 L787.785 1488.96 L787.785 1485.02 Z\" fill=\"#000000\" fill-rule=\"nonzero\" fill-opacity=\"1\" /><path clip-path=\"url(#clip240)\" d=\"M827.137 1457.48 Q823.526 1457.48 821.697 1461.04 Q819.891 1464.58 819.891 1471.71 Q819.891 1478.82 821.697 1482.38 Q823.526 1485.92 827.137 1485.92 Q830.771 1485.92 832.577 1482.38 Q834.405 1478.82 834.405 1471.71 Q834.405 1464.58 832.577 1461.04 Q830.771 1457.48 827.137 1457.48 M827.137 1453.77 Q832.947 1453.77 836.002 1458.38 Q839.081 1462.96 839.081 1471.71 Q839.081 1480.44 836.002 1485.04 Q832.947 1489.63 827.137 1489.63 Q821.327 1489.63 818.248 1485.04 Q815.192 1480.44 815.192 1471.71 Q815.192 1462.96 818.248 1458.38 Q821.327 1453.77 827.137 1453.77 Z\" fill=\"#000000\" fill-rule=\"nonzero\" fill-opacity=\"1\" /><path clip-path=\"url(#clip240)\" d=\"M839.081 1447.87 L863.193 1447.87 L863.193 1451.07 L839.081 1451.07 L839.081 1447.87 Z\" fill=\"#000000\" fill-rule=\"nonzero\" fill-opacity=\"1\" /><path clip-path=\"url(#clip240)\" d=\"M874.665 1458.35 L887.925 1458.35 L887.925 1461.55 L870.095 1461.55 L870.095 1458.35 Q872.258 1456.11 875.982 1452.35 Q879.725 1448.57 880.684 1447.48 Q882.508 1445.43 883.223 1444.02 Q883.956 1442.59 883.956 1441.22 Q883.956 1438.98 882.377 1437.57 Q880.816 1436.16 878.295 1436.16 Q876.509 1436.16 874.515 1436.78 Q872.54 1437.4 870.283 1438.66 L870.283 1434.82 Q872.578 1433.9 874.571 1433.43 Q876.565 1432.96 878.22 1432.96 Q882.584 1432.96 885.179 1435.14 Q887.774 1437.32 887.774 1440.97 Q887.774 1442.7 887.116 1444.26 Q886.477 1445.8 884.765 1447.91 Q884.295 1448.46 881.775 1451.07 Q879.255 1453.67 874.665 1458.35 Z\" fill=\"#000000\" fill-rule=\"nonzero\" fill-opacity=\"1\" /><path clip-path=\"url(#clip240)\" d=\"M1727.8 1485.02 L1735.44 1485.02 L1735.44 1458.66 L1727.13 1460.32 L1727.13 1456.06 L1735.39 1454.4 L1740.07 1454.4 L1740.07 1485.02 L1747.71 1485.02 L1747.71 1488.96 L1727.8 1488.96 L1727.8 1485.02 Z\" fill=\"#000000\" fill-rule=\"nonzero\" fill-opacity=\"1\" /><path clip-path=\"url(#clip240)\" d=\"M1767.15 1457.48 Q1763.54 1457.48 1761.71 1461.04 Q1759.91 1464.58 1759.91 1471.71 Q1759.91 1478.82 1761.71 1482.38 Q1763.54 1485.92 1767.15 1485.92 Q1770.79 1485.92 1772.59 1482.38 Q1774.42 1478.82 1774.42 1471.71 Q1774.42 1464.58 1772.59 1461.04 Q1770.79 1457.48 1767.15 1457.48 M1767.15 1453.77 Q1772.96 1453.77 1776.02 1458.38 Q1779.1 1462.96 1779.1 1471.71 Q1779.1 1480.44 1776.02 1485.04 Q1772.96 1489.63 1767.15 1489.63 Q1761.34 1489.63 1758.26 1485.04 Q1755.21 1480.44 1755.21 1471.71 Q1755.21 1462.96 1758.26 1458.38 Q1761.34 1453.77 1767.15 1453.77 Z\" fill=\"#000000\" fill-rule=\"nonzero\" fill-opacity=\"1\" /><path clip-path=\"url(#clip240)\" d=\"M1779.1 1447.87 L1803.21 1447.87 L1803.21 1451.07 L1779.1 1451.07 L1779.1 1447.87 Z\" fill=\"#000000\" fill-rule=\"nonzero\" fill-opacity=\"1\" /><path clip-path=\"url(#clip240)\" d=\"M1812.07 1458.35 L1818.27 1458.35 L1818.27 1436.93 L1811.52 1438.28 L1811.52 1434.82 L1818.23 1433.47 L1822.03 1433.47 L1822.03 1458.35 L1828.24 1458.35 L1828.24 1461.55 L1812.07 1461.55 L1812.07 1458.35 Z\" fill=\"#000000\" fill-rule=\"nonzero\" fill-opacity=\"1\" /><path clip-path=\"url(#clip240)\" d=\"M1317.69 1552.67 L1317.69 1574.19 L1311.83 1574.19 L1311.83 1552.86 Q1311.83 1547.8 1309.86 1545.29 Q1307.88 1542.77 1303.94 1542.77 Q1299.2 1542.77 1296.46 1545.79 Q1293.72 1548.82 1293.72 1554.04 L1293.72 1574.19 L1287.83 1574.19 L1287.83 1524.66 L1293.72 1524.66 L1293.72 1544.08 Q1295.82 1540.86 1298.65 1539.27 Q1301.52 1537.68 1305.24 1537.68 Q1311.39 1537.68 1314.54 1541.5 Q1317.69 1545.29 1317.69 1552.67 Z\" fill=\"#000000\" fill-rule=\"nonzero\" fill-opacity=\"1\" /><polyline clip-path=\"url(#clip240)\" style=\"stroke:#000000; stroke-linecap:round; stroke-linejoin:round; stroke-width:4; stroke-opacity:1; fill:none\" points=\"252.764,1410.9 252.764,123.472 \"/>\n",
       "<polyline clip-path=\"url(#clip240)\" style=\"stroke:#000000; stroke-linecap:round; stroke-linejoin:round; stroke-width:4; stroke-opacity:1; fill:none\" points=\"252.764,936.502 271.662,936.502 \"/>\n",
       "<polyline clip-path=\"url(#clip240)\" style=\"stroke:#000000; stroke-linecap:round; stroke-linejoin:round; stroke-width:4; stroke-opacity:1; fill:none\" points=\"252.764,434.974 271.662,434.974 \"/>\n",
       "<path clip-path=\"url(#clip240)\" d=\"M114.931 956.294 L122.57 956.294 L122.57 929.928 L114.26 931.595 L114.26 927.336 L122.524 925.669 L127.2 925.669 L127.2 956.294 L134.839 956.294 L134.839 960.229 L114.931 960.229 L114.931 956.294 Z\" fill=\"#000000\" fill-rule=\"nonzero\" fill-opacity=\"1\" /><path clip-path=\"url(#clip240)\" d=\"M154.283 928.748 Q150.672 928.748 148.843 932.313 Q147.038 935.854 147.038 942.984 Q147.038 950.09 148.843 953.655 Q150.672 957.197 154.283 957.197 Q157.917 957.197 159.723 953.655 Q161.552 950.09 161.552 942.984 Q161.552 935.854 159.723 932.313 Q157.917 928.748 154.283 928.748 M154.283 925.044 Q160.093 925.044 163.149 929.651 Q166.227 934.234 166.227 942.984 Q166.227 951.711 163.149 956.317 Q160.093 960.901 154.283 960.901 Q148.473 960.901 145.394 956.317 Q142.339 951.711 142.339 942.984 Q142.339 934.234 145.394 929.651 Q148.473 925.044 154.283 925.044 Z\" fill=\"#000000\" fill-rule=\"nonzero\" fill-opacity=\"1\" /><path clip-path=\"url(#clip240)\" d=\"M166.227 919.146 L190.339 919.146 L190.339 922.343 L166.227 922.343 L166.227 919.146 Z\" fill=\"#000000\" fill-rule=\"nonzero\" fill-opacity=\"1\" /><path clip-path=\"url(#clip240)\" d=\"M208.978 908.049 L199.386 923.039 L208.978 923.039 L208.978 908.049 M207.981 904.739 L212.758 904.739 L212.758 923.039 L216.764 923.039 L216.764 926.199 L212.758 926.199 L212.758 932.819 L208.978 932.819 L208.978 926.199 L196.301 926.199 L196.301 922.531 L207.981 904.739 Z\" fill=\"#000000\" fill-rule=\"nonzero\" fill-opacity=\"1\" /><path clip-path=\"url(#clip240)\" d=\"M116.624 454.766 L124.263 454.766 L124.263 428.401 L115.953 430.068 L115.953 425.808 L124.217 424.142 L128.893 424.142 L128.893 454.766 L136.531 454.766 L136.531 458.702 L116.624 458.702 L116.624 454.766 Z\" fill=\"#000000\" fill-rule=\"nonzero\" fill-opacity=\"1\" /><path clip-path=\"url(#clip240)\" d=\"M155.976 427.22 Q152.365 427.22 150.536 430.785 Q148.73 434.327 148.73 441.456 Q148.73 448.563 150.536 452.128 Q152.365 455.669 155.976 455.669 Q159.61 455.669 161.416 452.128 Q163.244 448.563 163.244 441.456 Q163.244 434.327 161.416 430.785 Q159.61 427.22 155.976 427.22 M155.976 423.517 Q161.786 423.517 164.841 428.123 Q167.92 432.706 167.92 441.456 Q167.92 450.183 164.841 454.79 Q161.786 459.373 155.976 459.373 Q150.166 459.373 147.087 454.79 Q144.031 450.183 144.031 441.456 Q144.031 432.706 147.087 428.123 Q150.166 423.517 155.976 423.517 Z\" fill=\"#000000\" fill-rule=\"nonzero\" fill-opacity=\"1\" /><path clip-path=\"url(#clip240)\" d=\"M167.92 417.618 L192.032 417.618 L192.032 420.815 L167.92 420.815 L167.92 417.618 Z\" fill=\"#000000\" fill-rule=\"nonzero\" fill-opacity=\"1\" /><path clip-path=\"url(#clip240)\" d=\"M203.504 428.094 L216.764 428.094 L216.764 431.291 L198.934 431.291 L198.934 428.094 Q201.097 425.856 204.821 422.094 Q208.564 418.314 209.523 417.223 Q211.347 415.173 212.062 413.762 Q212.796 412.333 212.796 410.96 Q212.796 408.722 211.216 407.311 Q209.655 405.901 207.134 405.901 Q205.348 405.901 203.354 406.521 Q201.379 407.142 199.122 408.402 L199.122 404.565 Q201.417 403.644 203.41 403.174 Q205.404 402.703 207.059 402.703 Q211.423 402.703 214.018 404.885 Q216.613 407.067 216.613 410.716 Q216.613 412.446 215.955 414.007 Q215.316 415.549 213.604 417.656 Q213.134 418.201 210.614 420.815 Q208.094 423.411 203.504 428.094 Z\" fill=\"#000000\" fill-rule=\"nonzero\" fill-opacity=\"1\" /><path clip-path=\"url(#clip240)\" d=\"M16.4842 828.247 L16.4842 798.201 L21.895 798.201 L21.895 821.818 L35.9632 821.818 L35.9632 799.188 L41.3741 799.188 L41.3741 821.818 L58.5933 821.818 L58.5933 797.628 L64.0042 797.628 L64.0042 828.247 L16.4842 828.247 Z\" fill=\"#000000\" fill-rule=\"nonzero\" fill-opacity=\"1\" /><path clip-path=\"url(#clip240)\" d=\"M33.8307 766.659 Q33.2578 767.646 33.0032 768.824 Q32.7167 769.969 32.7167 771.37 Q32.7167 776.335 35.9632 779.009 Q39.1779 781.65 45.2253 781.65 L64.0042 781.65 L64.0042 787.539 L28.3562 787.539 L28.3562 781.65 L33.8944 781.65 Q30.6479 779.804 29.0883 776.844 Q27.4968 773.884 27.4968 769.651 Q27.4968 769.046 27.5923 768.314 Q27.656 767.582 27.8151 766.691 L33.8307 766.659 Z\" fill=\"#000000\" fill-rule=\"nonzero\" fill-opacity=\"1\" /><path clip-path=\"url(#clip240)\" d=\"M33.8307 741.005 Q33.2578 741.992 33.0032 743.17 Q32.7167 744.316 32.7167 745.716 Q32.7167 750.681 35.9632 753.355 Q39.1779 755.997 45.2253 755.997 L64.0042 755.997 L64.0042 761.885 L28.3562 761.885 L28.3562 755.997 L33.8944 755.997 Q30.6479 754.151 29.0883 751.191 Q27.4968 748.23 27.4968 743.997 Q27.4968 743.393 27.5923 742.66 Q27.656 741.928 27.8151 741.037 L33.8307 741.005 Z\" fill=\"#000000\" fill-rule=\"nonzero\" fill-opacity=\"1\" /><path clip-path=\"url(#clip240)\" d=\"M32.4621 722.481 Q32.4621 727.192 36.1542 729.929 Q39.8145 732.666 46.212 732.666 Q52.6095 732.666 56.3017 729.961 Q59.9619 727.224 59.9619 722.481 Q59.9619 717.802 56.2698 715.065 Q52.5777 712.328 46.212 712.328 Q39.8781 712.328 36.186 715.065 Q32.4621 717.802 32.4621 722.481 M27.4968 722.481 Q27.4968 714.842 32.4621 710.482 Q37.4273 706.121 46.212 706.121 Q54.9649 706.121 59.9619 710.482 Q64.9272 714.842 64.9272 722.481 Q64.9272 730.152 59.9619 734.512 Q54.9649 738.841 46.212 738.841 Q37.4273 738.841 32.4621 734.512 Q27.4968 730.152 27.4968 722.481 Z\" fill=\"#000000\" fill-rule=\"nonzero\" fill-opacity=\"1\" /><path clip-path=\"url(#clip240)\" d=\"M1005.57 12.096 L1043.81 12.096 L1043.81 18.9825 L1013.75 18.9825 L1013.75 36.8875 L1042.55 36.8875 L1042.55 43.7741 L1013.75 43.7741 L1013.75 65.6895 L1044.54 65.6895 L1044.54 72.576 L1005.57 72.576 L1005.57 12.096 Z\" fill=\"#000000\" fill-rule=\"nonzero\" fill-opacity=\"1\" /><path clip-path=\"url(#clip240)\" d=\"M1086.58 28.5427 L1086.58 35.5912 Q1083.42 33.9709 1080.02 33.1607 Q1076.62 32.3505 1072.97 32.3505 Q1067.42 32.3505 1064.63 34.0519 Q1061.87 35.7533 1061.87 39.156 Q1061.87 41.7486 1063.86 43.2475 Q1065.84 44.7058 1071.84 46.0426 L1074.39 46.6097 Q1082.33 48.3111 1085.65 51.4303 Q1089.01 54.509 1089.01 60.0587 Q1089.01 66.3781 1083.99 70.0644 Q1079.01 73.7508 1070.26 73.7508 Q1066.61 73.7508 1062.64 73.0216 Q1058.71 72.3329 1054.34 70.9151 L1054.34 63.2184 Q1058.47 65.3654 1062.48 66.4591 Q1066.49 67.5124 1070.42 67.5124 Q1075.69 67.5124 1078.52 65.73 Q1081.36 63.9071 1081.36 60.6258 Q1081.36 57.5877 1079.29 55.9673 Q1077.27 54.3469 1070.34 52.8481 L1067.75 52.2405 Q1060.82 50.7821 1057.74 47.7845 Q1054.66 44.7463 1054.66 39.4801 Q1054.66 33.0797 1059.2 29.5959 Q1063.74 26.1121 1072.08 26.1121 Q1076.21 26.1121 1079.86 26.7198 Q1083.5 27.3274 1086.58 28.5427 Z\" fill=\"#000000\" fill-rule=\"nonzero\" fill-opacity=\"1\" /><path clip-path=\"url(#clip240)\" d=\"M1108.26 14.324 L1108.26 27.2059 L1123.61 27.2059 L1123.61 32.9987 L1108.26 32.9987 L1108.26 57.6282 Q1108.26 63.1779 1109.75 64.7578 Q1111.29 66.3376 1115.95 66.3376 L1123.61 66.3376 L1123.61 72.576 L1115.95 72.576 Q1107.32 72.576 1104.04 69.3758 Q1100.76 66.1351 1100.76 57.6282 L1100.76 32.9987 L1095.29 32.9987 L1095.29 27.2059 L1100.76 27.2059 L1100.76 14.324 L1108.26 14.324 Z\" fill=\"#000000\" fill-rule=\"nonzero\" fill-opacity=\"1\" /><path clip-path=\"url(#clip240)\" d=\"M1132.64 54.671 L1132.64 27.2059 L1140.1 27.2059 L1140.1 54.3874 Q1140.1 60.8284 1142.61 64.0691 Q1145.12 67.2693 1150.14 67.2693 Q1156.18 67.2693 1159.66 63.421 Q1163.19 59.5726 1163.19 52.9291 L1163.19 27.2059 L1170.64 27.2059 L1170.64 72.576 L1163.19 72.576 L1163.19 65.6084 Q1160.47 69.7404 1156.87 71.7658 Q1153.3 73.7508 1148.56 73.7508 Q1140.74 73.7508 1136.69 68.8897 Q1132.64 64.0286 1132.64 54.671 M1151.4 26.1121 L1151.4 26.1121 Z\" fill=\"#000000\" fill-rule=\"nonzero\" fill-opacity=\"1\" /><path clip-path=\"url(#clip240)\" d=\"M1215.85 34.0924 L1215.85 9.54393 L1223.3 9.54393 L1223.3 72.576 L1215.85 72.576 L1215.85 65.7705 Q1213.5 69.8214 1209.89 71.8063 Q1206.33 73.7508 1201.31 73.7508 Q1193.08 73.7508 1187.9 67.1883 Q1182.75 60.6258 1182.75 49.9314 Q1182.75 39.2371 1187.9 32.6746 Q1193.08 26.1121 1201.31 26.1121 Q1206.33 26.1121 1209.89 28.0971 Q1213.5 30.0415 1215.85 34.0924 M1190.45 49.9314 Q1190.45 58.1548 1193.81 62.8538 Q1197.21 67.5124 1203.13 67.5124 Q1209.04 67.5124 1212.45 62.8538 Q1215.85 58.1548 1215.85 49.9314 Q1215.85 41.7081 1212.45 37.0496 Q1209.04 32.3505 1203.13 32.3505 Q1197.21 32.3505 1193.81 37.0496 Q1190.45 41.7081 1190.45 49.9314 Z\" fill=\"#000000\" fill-rule=\"nonzero\" fill-opacity=\"1\" /><path clip-path=\"url(#clip240)\" d=\"M1256.24 32.4315 Q1250.24 32.4315 1246.76 37.1306 Q1243.27 41.7891 1243.27 49.9314 Q1243.27 58.0738 1246.72 62.7728 Q1250.2 67.4314 1256.24 67.4314 Q1262.19 67.4314 1265.67 62.7323 Q1269.16 58.0333 1269.16 49.9314 Q1269.16 41.8701 1265.67 37.1711 Q1262.19 32.4315 1256.24 32.4315 M1256.24 26.1121 Q1265.96 26.1121 1271.51 32.4315 Q1277.06 38.7509 1277.06 49.9314 Q1277.06 61.0714 1271.51 67.4314 Q1265.96 73.7508 1256.24 73.7508 Q1246.47 73.7508 1240.92 67.4314 Q1235.41 61.0714 1235.41 49.9314 Q1235.41 38.7509 1240.92 32.4315 Q1246.47 26.1121 1256.24 26.1121 Z\" fill=\"#000000\" fill-rule=\"nonzero\" fill-opacity=\"1\" /><path clip-path=\"url(#clip240)\" d=\"M1345.64 34.0924 L1345.64 9.54393 L1353.09 9.54393 L1353.09 72.576 L1345.64 72.576 L1345.64 65.7705 Q1343.29 69.8214 1339.68 71.8063 Q1336.12 73.7508 1331.1 73.7508 Q1322.87 73.7508 1317.69 67.1883 Q1312.54 60.6258 1312.54 49.9314 Q1312.54 39.2371 1317.69 32.6746 Q1322.87 26.1121 1331.1 26.1121 Q1336.12 26.1121 1339.68 28.0971 Q1343.29 30.0415 1345.64 34.0924 M1320.24 49.9314 Q1320.24 58.1548 1323.6 62.8538 Q1327 67.5124 1332.92 67.5124 Q1338.83 67.5124 1342.24 62.8538 Q1345.64 58.1548 1345.64 49.9314 Q1345.64 41.7081 1342.24 37.0496 Q1338.83 32.3505 1332.92 32.3505 Q1327 32.3505 1323.6 37.0496 Q1320.24 41.7081 1320.24 49.9314 Z\" fill=\"#000000\" fill-rule=\"nonzero\" fill-opacity=\"1\" /><path clip-path=\"url(#clip240)\" d=\"M1386.03 32.4315 Q1380.03 32.4315 1376.55 37.1306 Q1373.06 41.7891 1373.06 49.9314 Q1373.06 58.0738 1376.51 62.7728 Q1379.99 67.4314 1386.03 67.4314 Q1391.98 67.4314 1395.46 62.7323 Q1398.95 58.0333 1398.95 49.9314 Q1398.95 41.8701 1395.46 37.1711 Q1391.98 32.4315 1386.03 32.4315 M1386.03 26.1121 Q1395.75 26.1121 1401.3 32.4315 Q1406.85 38.7509 1406.85 49.9314 Q1406.85 61.0714 1401.3 67.4314 Q1395.75 73.7508 1386.03 73.7508 Q1376.26 73.7508 1370.71 67.4314 Q1365.2 61.0714 1365.2 49.9314 Q1365.2 38.7509 1370.71 32.4315 Q1376.26 26.1121 1386.03 26.1121 Z\" fill=\"#000000\" fill-rule=\"nonzero\" fill-opacity=\"1\" /><path clip-path=\"url(#clip240)\" d=\"M1484.38 48.0275 L1484.38 51.6733 L1450.11 51.6733 Q1450.6 59.3701 1454.73 63.421 Q1458.9 67.4314 1466.32 67.4314 Q1470.61 67.4314 1474.62 66.3781 Q1478.67 65.3249 1482.64 63.2184 L1482.64 70.267 Q1478.63 71.9684 1474.42 72.8596 Q1470.2 73.7508 1465.87 73.7508 Q1455.01 73.7508 1448.65 67.4314 Q1442.33 61.1119 1442.33 50.3365 Q1442.33 39.1965 1448.33 32.6746 Q1454.37 26.1121 1464.57 26.1121 Q1473.73 26.1121 1479.04 32.0264 Q1484.38 37.9003 1484.38 48.0275 M1476.93 45.84 Q1476.85 39.7232 1473.49 36.0774 Q1470.16 32.4315 1464.65 32.4315 Q1458.42 32.4315 1454.65 35.9558 Q1450.92 39.4801 1450.35 45.8805 L1476.93 45.84 Z\" fill=\"#000000\" fill-rule=\"nonzero\" fill-opacity=\"1\" /><path clip-path=\"url(#clip240)\" d=\"M1522.91 34.1734 Q1521.65 33.4443 1520.15 33.1202 Q1518.69 32.7556 1516.91 32.7556 Q1510.59 32.7556 1507.19 36.8875 Q1503.83 40.9789 1503.83 48.6757 L1503.83 72.576 L1496.33 72.576 L1496.33 27.2059 L1503.83 27.2059 L1503.83 34.2544 Q1506.18 30.1225 1509.94 28.1376 Q1513.71 26.1121 1519.1 26.1121 Q1519.87 26.1121 1520.8 26.2337 Q1521.73 26.3147 1522.87 26.5172 L1522.91 34.1734 Z\" fill=\"#000000\" fill-rule=\"nonzero\" fill-opacity=\"1\" /><path clip-path=\"url(#clip240)\" d=\"M1555.56 34.1734 Q1554.3 33.4443 1552.8 33.1202 Q1551.34 32.7556 1549.56 32.7556 Q1543.24 32.7556 1539.84 36.8875 Q1536.48 40.9789 1536.48 48.6757 L1536.48 72.576 L1528.98 72.576 L1528.98 27.2059 L1536.48 27.2059 L1536.48 34.2544 Q1538.83 30.1225 1542.59 28.1376 Q1546.36 26.1121 1551.75 26.1121 Q1552.52 26.1121 1553.45 26.2337 Q1554.38 26.3147 1555.52 26.5172 L1555.56 34.1734 Z\" fill=\"#000000\" fill-rule=\"nonzero\" fill-opacity=\"1\" /><path clip-path=\"url(#clip240)\" d=\"M1579.13 32.4315 Q1573.14 32.4315 1569.65 37.1306 Q1566.17 41.7891 1566.17 49.9314 Q1566.17 58.0738 1569.61 62.7728 Q1573.1 67.4314 1579.13 67.4314 Q1585.09 67.4314 1588.57 62.7323 Q1592.06 58.0333 1592.06 49.9314 Q1592.06 41.8701 1588.57 37.1711 Q1585.09 32.4315 1579.13 32.4315 M1579.13 26.1121 Q1588.86 26.1121 1594.4 32.4315 Q1599.95 38.7509 1599.95 49.9314 Q1599.95 61.0714 1594.4 67.4314 Q1588.86 73.7508 1579.13 73.7508 Q1569.37 73.7508 1563.82 67.4314 Q1558.31 61.0714 1558.31 49.9314 Q1558.31 38.7509 1563.82 32.4315 Q1569.37 26.1121 1579.13 26.1121 Z\" fill=\"#000000\" fill-rule=\"nonzero\" fill-opacity=\"1\" /><polyline clip-path=\"url(#clip242)\" style=\"stroke:#009af9; stroke-linecap:round; stroke-linejoin:round; stroke-width:12; stroke-opacity:1; fill:none\" points=\"2293.32,317.291 2010.3,468.532 1727.29,619.567 1444.27,770.556 1161.25,921.534 878.233,1072.51 595.215,1223.49 312.198,1374.46 \"/>\n",
       "<circle clip-path=\"url(#clip242)\" cx=\"2293.32\" cy=\"317.291\" r=\"14.4\" fill=\"#009af9\" fill-rule=\"evenodd\" fill-opacity=\"1\" stroke=\"#000000\" stroke-opacity=\"1\" stroke-width=\"3.2\"/>\n",
       "<circle clip-path=\"url(#clip242)\" cx=\"2010.3\" cy=\"468.532\" r=\"14.4\" fill=\"#009af9\" fill-rule=\"evenodd\" fill-opacity=\"1\" stroke=\"#000000\" stroke-opacity=\"1\" stroke-width=\"3.2\"/>\n",
       "<circle clip-path=\"url(#clip242)\" cx=\"1727.29\" cy=\"619.567\" r=\"14.4\" fill=\"#009af9\" fill-rule=\"evenodd\" fill-opacity=\"1\" stroke=\"#000000\" stroke-opacity=\"1\" stroke-width=\"3.2\"/>\n",
       "<circle clip-path=\"url(#clip242)\" cx=\"1444.27\" cy=\"770.556\" r=\"14.4\" fill=\"#009af9\" fill-rule=\"evenodd\" fill-opacity=\"1\" stroke=\"#000000\" stroke-opacity=\"1\" stroke-width=\"3.2\"/>\n",
       "<circle clip-path=\"url(#clip242)\" cx=\"1161.25\" cy=\"921.534\" r=\"14.4\" fill=\"#009af9\" fill-rule=\"evenodd\" fill-opacity=\"1\" stroke=\"#000000\" stroke-opacity=\"1\" stroke-width=\"3.2\"/>\n",
       "<circle clip-path=\"url(#clip242)\" cx=\"878.233\" cy=\"1072.51\" r=\"14.4\" fill=\"#009af9\" fill-rule=\"evenodd\" fill-opacity=\"1\" stroke=\"#000000\" stroke-opacity=\"1\" stroke-width=\"3.2\"/>\n",
       "<circle clip-path=\"url(#clip242)\" cx=\"595.215\" cy=\"1223.49\" r=\"14.4\" fill=\"#009af9\" fill-rule=\"evenodd\" fill-opacity=\"1\" stroke=\"#000000\" stroke-opacity=\"1\" stroke-width=\"3.2\"/>\n",
       "<circle clip-path=\"url(#clip242)\" cx=\"312.198\" cy=\"1374.46\" r=\"14.4\" fill=\"#009af9\" fill-rule=\"evenodd\" fill-opacity=\"1\" stroke=\"#000000\" stroke-opacity=\"1\" stroke-width=\"3.2\"/>\n",
       "<polyline clip-path=\"url(#clip242)\" style=\"stroke:#e26f46; stroke-linecap:round; stroke-linejoin:round; stroke-width:12; stroke-opacity:1; fill:none\" points=\"2293.32,159.909 2010.3,310.884 1727.29,461.858 1444.27,612.833 1161.25,763.808 878.233,914.783 595.215,1065.76 312.198,1216.73 \"/>\n",
       "<path clip-path=\"url(#clip240)\" d=\"M322.764 321.906 L621.582 321.906 L621.582 166.386 L322.764 166.386  Z\" fill=\"#ffffff\" fill-rule=\"evenodd\" fill-opacity=\"1\"/>\n",
       "<polyline clip-path=\"url(#clip240)\" style=\"stroke:#000000; stroke-linecap:round; stroke-linejoin:round; stroke-width:4; stroke-opacity:1; fill:none\" points=\"322.764,321.906 621.582,321.906 621.582,166.386 322.764,166.386 322.764,321.906 \"/>\n",
       "<polyline clip-path=\"url(#clip240)\" style=\"stroke:#009af9; stroke-linecap:round; stroke-linejoin:round; stroke-width:12; stroke-opacity:1; fill:none\" points=\"346.097,218.226 486.096,218.226 \"/>\n",
       "<circle clip-path=\"url(#clip240)\" cx=\"416.097\" cy=\"218.226\" r=\"19.4444\" fill=\"#009af9\" fill-rule=\"evenodd\" fill-opacity=\"1\" stroke=\"#000000\" stroke-opacity=\"1\" stroke-width=\"4.55111\"/>\n",
       "<path clip-path=\"url(#clip240)\" d=\"M509.43 200.946 L531.281 200.946 L531.281 204.881 L514.106 204.881 L514.106 215.113 L530.564 215.113 L530.564 219.048 L514.106 219.048 L514.106 231.571 L531.698 231.571 L531.698 235.506 L509.43 235.506 L509.43 200.946 Z\" fill=\"#000000\" fill-rule=\"nonzero\" fill-opacity=\"1\" /><path clip-path=\"url(#clip240)\" d=\"M554.221 213.562 Q553.503 213.145 552.647 212.96 Q551.814 212.752 550.795 212.752 Q547.184 212.752 545.24 215.113 Q543.318 217.451 543.318 221.849 L543.318 235.506 L539.036 235.506 L539.036 209.58 L543.318 209.58 L543.318 213.608 Q544.661 211.247 546.814 210.113 Q548.966 208.955 552.045 208.955 Q552.485 208.955 553.017 209.025 Q553.55 209.071 554.198 209.187 L554.221 213.562 Z\" fill=\"#000000\" fill-rule=\"nonzero\" fill-opacity=\"1\" /><path clip-path=\"url(#clip240)\" d=\"M572.878 213.562 Q572.161 213.145 571.304 212.96 Q570.471 212.752 569.452 212.752 Q565.841 212.752 563.897 215.113 Q561.976 217.451 561.976 221.849 L561.976 235.506 L557.693 235.506 L557.693 209.58 L561.976 209.58 L561.976 213.608 Q563.318 211.247 565.471 210.113 Q567.624 208.955 570.702 208.955 Q571.142 208.955 571.675 209.025 Q572.207 209.071 572.855 209.187 L572.878 213.562 Z\" fill=\"#000000\" fill-rule=\"nonzero\" fill-opacity=\"1\" /><path clip-path=\"url(#clip240)\" d=\"M586.351 212.567 Q582.925 212.567 580.934 215.252 Q578.943 217.914 578.943 222.567 Q578.943 227.219 580.911 229.904 Q582.901 232.566 586.351 232.566 Q589.753 232.566 591.744 229.881 Q593.735 227.196 593.735 222.567 Q593.735 217.96 591.744 215.275 Q589.753 212.567 586.351 212.567 M586.351 208.955 Q591.906 208.955 595.077 212.567 Q598.249 216.178 598.249 222.567 Q598.249 228.932 595.077 232.566 Q591.906 236.178 586.351 236.178 Q580.772 236.178 577.601 232.566 Q574.452 228.932 574.452 222.567 Q574.452 216.178 577.601 212.567 Q580.772 208.955 586.351 208.955 Z\" fill=\"#000000\" fill-rule=\"nonzero\" fill-opacity=\"1\" /><polyline clip-path=\"url(#clip240)\" style=\"stroke:#e26f46; stroke-linecap:round; stroke-linejoin:round; stroke-width:12; stroke-opacity:1; fill:none\" points=\"346.097,270.066 486.096,270.066 \"/>\n",
       "<path clip-path=\"url(#clip240)\" d=\"M531.142 271.698 L531.142 287.346 L526.883 287.346 L526.883 271.837 Q526.883 268.157 525.448 266.328 Q524.013 264.499 521.143 264.499 Q517.693 264.499 515.703 266.698 Q513.712 268.897 513.712 272.694 L513.712 287.346 L509.43 287.346 L509.43 251.328 L513.712 251.328 L513.712 265.448 Q515.24 263.11 517.3 261.953 Q519.383 260.795 522.092 260.795 Q526.559 260.795 528.851 263.573 Q531.142 266.328 531.142 271.698 Z\" fill=\"#000000\" fill-rule=\"nonzero\" fill-opacity=\"1\" /><path clip-path=\"url(#clip240)\" d=\"M541.374 269.245 L551.189 269.245 L551.189 271.883 L537.346 271.883 L537.346 269.337 Q538.133 268.62 539.592 267.323 Q547.554 260.263 547.554 258.087 Q547.554 256.559 546.351 255.633 Q545.147 254.684 543.179 254.684 Q541.976 254.684 540.564 255.101 Q539.152 255.495 537.485 256.305 L537.485 253.458 Q539.267 252.809 540.795 252.485 Q542.346 252.161 543.666 252.161 Q547.022 252.161 549.036 253.689 Q551.05 255.217 551.05 257.717 Q551.05 260.934 543.388 267.508 Q542.091 268.62 541.374 269.245 Z\" fill=\"#000000\" fill-rule=\"nonzero\" fill-opacity=\"1\" /></svg>\n"
      ]
     },
     "execution_count": 153,
     "metadata": {},
     "output_type": "execute_result"
    }
   ],
   "source": [
    "plot_estudo_do_erro_cuda()"
   ]
  },
  {
   "cell_type": "code",
   "execution_count": 173,
   "metadata": {},
   "outputs": [
    {
     "data": {
      "text/plain": [
       "2×3 CuArray{Float32, 2, CUDA.DeviceMemory}:\n",
       " 0.0  0.0  0.0\n",
       " 0.0  0.0  0.0"
      ]
     },
     "metadata": {},
     "output_type": "display_data"
    }
   ],
   "source": [
    "a = CUDA.zeros(2, 3)"
   ]
  },
  {
   "cell_type": "code",
   "execution_count": 174,
   "metadata": {},
   "outputs": [
    {
     "data": {
      "text/plain": [
       "CUDA.HostKernel for add!(CuDeviceVector{Float32, 1}, CuDeviceVector{Float32, 1}, CuDeviceVector{Float32, 1})"
      ]
     },
     "metadata": {},
     "output_type": "display_data"
    }
   ],
   "source": [
    "using CUDA \n",
    "\n",
    "const n = 10 # 1048576, number of elements in 1D arrays\n",
    "const THREADS_PER_BLOCK = 5\n",
    "\n",
    "# create a vector [0.0, 0.0, 0.0...], and send to GPU\n",
    "C = zeros(Float32, n) |> cu \n",
    "\n",
    "# create two vectors, fill them with 1s and 2s, and send to GPU\n",
    "A = fill(1.0f0, n) |> cu \n",
    "B = fill(2.0f0, n) |> cu\n",
    "\n",
    "function add!(c, a, b)\n",
    "    # compute the thread_id\n",
    "    if threadIdx().x == 1\n",
    "        for i = 1:5\n",
    "            @inbounds c[i] = 100\n",
    "        end\n",
    "    end\n",
    "    \n",
    "    x = (blockIdx().x - 1) * blockDim().x + threadIdx().x \n",
    "\n",
    "    # i'th thread should get the i'th elements of a and b \n",
    "    # sum them, and then store them in i'th element of c\n",
    "    @inbounds c[x] = a[x] + b[x]\n",
    "    return\n",
    "end\n",
    "\n",
    "threads = THREADS_PER_BLOCK # 256\n",
    "blocks = n ÷ threads # 4096\n",
    "\n",
    "# launch the kernel with 4096 blocks, of 256 threads each\n",
    "@cuda threads=threads blocks=blocks add!(C, A, B)"
   ]
  },
  {
   "cell_type": "code",
   "execution_count": 175,
   "metadata": {},
   "outputs": [
    {
     "data": {
      "text/plain": [
       "10-element CuArray{Float32, 1, CUDA.DeviceMemory}:\n",
       " 3.0\n",
       " 3.0\n",
       " 3.0\n",
       " 3.0\n",
       " 3.0\n",
       " 3.0\n",
       " 3.0\n",
       " 3.0\n",
       " 3.0\n",
       " 3.0"
      ]
     },
     "metadata": {},
     "output_type": "display_data"
    }
   ],
   "source": [
    "C"
   ]
  },
  {
   "cell_type": "code",
   "execution_count": 176,
   "metadata": {},
   "outputs": [],
   "source": []
  }
 ],
 "metadata": {
  "kernelspec": {
   "display_name": "Julia 1.10.4",
   "language": "julia",
   "name": "julia-1.10"
  },
  "language_info": {
   "file_extension": ".jl",
   "mimetype": "application/julia",
   "name": "julia",
   "version": "1.11.1"
  }
 },
 "nbformat": 4,
 "nbformat_minor": 4
}
