{
 "cells": [
  {
   "cell_type": "code",
   "execution_count": 1,
   "metadata": {},
   "outputs": [
    {
     "name": "stderr",
     "output_type": "stream",
     "text": [
      "┌ Warning: It's not recommended to use allowscalar([true]) to allow scalar indexing.\n",
      "│ Instead, use `allowscalar() do end` or `@allowscalar` to denote exactly which operations can use scalar operations.\n",
      "└ @ GPUArraysCore /home/pedro/.julia/packages/GPUArraysCore/GMsgk/src/GPUArraysCore.jl:188\n"
     ]
    }
   ],
   "source": [
    "using Distributed, Plots, GaussQuadrature, SparseArrays, DataFrames, LinearAlgebra, Random, BenchmarkTools, CUDA, StaticArrays\n",
    "\n",
    "CUDA.allowscalar()\n",
    "# CUDA.allowscalar(false)\n",
    "\n",
    "@everywhere using CUDA"
   ]
  },
  {
   "cell_type": "code",
   "execution_count": 2,
   "metadata": {},
   "outputs": [
    {
     "data": {
      "text/plain": [
       "exemplo1 (generic function with 1 method)"
      ]
     },
     "metadata": {},
     "output_type": "display_data"
    }
   ],
   "source": [
    "function exemplo1()\n",
    "\tα = 1.0\n",
    "\tβ = 1.0\n",
    "\tf(x₁,x₂) = (2*α*π^2+β) * sin(π*x₁) * sin(π*x₂)\n",
    "\tu(x₁,x₂) = sin(π*x₁) * sin(π*x₂)\n",
    "\n",
    "\treturn α, β, f, u\n",
    "end"
   ]
  },
  {
   "cell_type": "markdown",
   "metadata": {},
   "source": [
    "# Função $\\varphi$"
   ]
  },
  {
   "cell_type": "code",
   "execution_count": 3,
   "metadata": {},
   "outputs": [
    {
     "data": {
      "text/plain": [
       "ϕ (generic function with 2 methods)"
      ]
     },
     "metadata": {},
     "output_type": "display_data"
    }
   ],
   "source": [
    "function ϕ(ξ₁,ξ₂,a)\n",
    "\tif a == 1\n",
    "\t\treturn (1-ξ₁)*(1-ξ₂)/4\n",
    "\telseif a == 2\n",
    "\t\treturn (1+ξ₁)*(1-ξ₂)/4\n",
    "\telseif a == 3\n",
    "\t\treturn (1+ξ₁)*(1+ξ₂)/4\n",
    "\telseif a == 4\n",
    "\t\treturn (1-ξ₁)*(1+ξ₂)/4\n",
    "\telse\n",
    "\t\terror(\"a deve ser 1, 2, 3 ou 4.\")\n",
    "\tend\n",
    "end\n",
    "\n",
    "\n",
    "function ϕ(ξ₁::Float64, ξ₂::Float64) :: Vector{Float64}\n",
    "\t[(1-ξ₁)*(1-ξ₂)/4, (1+ξ₁)*(1-ξ₂)/4, (1+ξ₁)*(1+ξ₂)/4, (1-ξ₁)*(1+ξ₂)/4]\n",
    "end"
   ]
  },
  {
   "cell_type": "markdown",
   "metadata": {},
   "source": [
    "# Derivadas de $\\varphi$"
   ]
  },
  {
   "cell_type": "code",
   "execution_count": 4,
   "metadata": {},
   "outputs": [
    {
     "data": {
      "text/plain": [
       "∂ϕ_∂ξ₁ (generic function with 2 methods)"
      ]
     },
     "metadata": {},
     "output_type": "display_data"
    }
   ],
   "source": [
    "@inline function ∂ϕ_∂ξ₁(ξ₁::Float64,ξ₂::Float64,a::Int)\n",
    "\tval = ifelse(a == 1, -(1-ξ₂)/4,\n",
    "           ifelse(a == 2, (1-ξ₂)/4,\n",
    "           ifelse(a == 3, (1+ξ₂)/4,\n",
    "           ifelse(a == 4, -(1+ξ₂)/4, NaN))))\n",
    "    return val\n",
    "end\n",
    "\n",
    "@inline function ∂ϕ_∂ξ₁(ξ₂::Float64) :: Vector{Float64}\n",
    "\t[-(1-ξ₂)/4, (1-ξ₂)/4, (1+ξ₂)/4, -(1+ξ₂)/4]\n",
    "end"
   ]
  },
  {
   "cell_type": "code",
   "execution_count": 5,
   "metadata": {},
   "outputs": [
    {
     "data": {
      "text/plain": [
       "∂ϕ_∂ξ₂ (generic function with 2 methods)"
      ]
     },
     "metadata": {},
     "output_type": "display_data"
    }
   ],
   "source": [
    "@inline function ∂ϕ_∂ξ₂(ξ₁::Float64, ξ₂::Float64, a::Int)\n",
    "    # Replace `if-elseif` with a `switch`-like computation for CUDA\n",
    "    val = ifelse(a == 1, -(1-ξ₁)/4,\n",
    "           ifelse(a == 2, -(1+ξ₁)/4,\n",
    "           ifelse(a == 3, (1+ξ₁)/4,\n",
    "           ifelse(a == 4, (1-ξ₁)/4, NaN))))\n",
    "    return val\n",
    "end\n",
    "\n",
    "@inline function ∂ϕ_∂ξ₂(ξ₁::Float64) :: Vector{Float64}\n",
    "\t[-(1-ξ₁)/4, -(1+ξ₁)/4, (1+ξ₁)/4, (1-ξ₁)/4]\n",
    "end"
   ]
  },
  {
   "cell_type": "markdown",
   "metadata": {},
   "source": [
    "# Mudança de variável"
   ]
  },
  {
   "cell_type": "code",
   "execution_count": 6,
   "metadata": {},
   "outputs": [
    {
     "data": {
      "text/plain": [
       "x₂_de_ξ (generic function with 1 method)"
      ]
     },
     "metadata": {},
     "output_type": "display_data"
    }
   ],
   "source": [
    "@inline function x₁_de_ξ(ξ₁::Float64, h₁::Float64, p₁::Float64)::Float64\n",
    "    return p₁ + (h₁ / 2) * (ξ₁ + 1)\n",
    "end\n",
    "\n",
    "@inline function x₂_de_ξ(ξ₂::Float64, h₂::Float64, p₂::Float64)::Float64\n",
    "    return p₂ + (h₂ / 2) * (ξ₂ + 1)\n",
    "end"
   ]
  },
  {
   "cell_type": "markdown",
   "metadata": {},
   "source": [
    "# Montagem da F local"
   ]
  },
  {
   "cell_type": "code",
   "execution_count": 12,
   "metadata": {},
   "outputs": [
    {
     "data": {
      "text/plain": [
       "monta_Fᵉ_cuda_correct! (generic function with 1 method)"
      ]
     },
     "metadata": {},
     "output_type": "display_data"
    }
   ],
   "source": [
    "\n",
    "function monta_Fᵉ!(Fᵉ::Vector{Float64}, f::Function, h₁::Float64, h₂::Float64, p₁::Float64, p₂::Float64, P::Vector{Float64}, W::Vector{Float64})\n",
    "    # Zera as entradas do vetor local Fᵉ\n",
    "    fill!(Fᵉ, 0.0)\n",
    "\n",
    "\t# Pré-calcula o fator constante da integral\n",
    "\tcst = h₁ * h₂ / 4\n",
    "\n",
    "    phi_values = precompute_ϕ(P)\n",
    "\n",
    "    # Loop sobre as entradas do vetor local Fᵉ\n",
    "    for a in 1:4\n",
    "        # Inicializa a contribuição da quadratura para a entrada a\n",
    "        soma = 0.0\n",
    "        \n",
    "        # Integração via quadratura gaussiana dupla\n",
    "        for i in 1:length(P)          # Loop sobre os pontos de quadratura no eixo ξ₁\n",
    "\t\t\tξ₁ = P[i]\n",
    "            x₁ = x₁_de_ξ(ξ₁, h₁, p₁)\n",
    "            for j in 1:length(P)      # Loop sobre os pontos de quadratura no eixo ξ₂\n",
    "\t\t\t\tξ₂ = P[j]\n",
    "                x₂ = x₂_de_ξ(ξ₂, h₂, p₂)\n",
    "\n",
    "                # Acumula a contribuição da quadratura\n",
    "                #soma += W[i] * W[j] * f(x₁, x₂) * ϕ(ξ₁, ξ₂, a) * cst\n",
    "                soma += W[i] * W[j] * f(x₁, x₂) * phi_values[i,j,a] * cst\n",
    "            end\n",
    "        end\n",
    "        \n",
    "        # Armazena a contribuição no vetor Fᵉ\n",
    "        Fᵉ[a] = soma\n",
    "    end\n",
    "end\n",
    "\n",
    "function precompute_ϕ_flat(P::Vector{Float64})::Vector{Float64}\n",
    "    n = length(P)\n",
    "    phi_flat = Vector{Float64}(undef, 4 * n^2)\n",
    "\n",
    "    for a in 1:4\n",
    "        for i in 1:n\n",
    "            ξ₁ = P[i]\n",
    "            for j in 1:n\n",
    "                ξ₂ = P[j]\n",
    "                index = (a - 1) * n^2 + (i - 1) * n + (j - 1) + 1\n",
    "                if a == 1\n",
    "                    phi_flat[index] = (1 - ξ₁) * (1 - ξ₂) / 4\n",
    "                elseif a == 2\n",
    "                    phi_flat[index] = (1 + ξ₁) * (1 - ξ₂) / 4\n",
    "                elseif a == 3\n",
    "                    phi_flat[index] = (1 + ξ₁) * (1 + ξ₂) / 4\n",
    "                elseif a == 4\n",
    "                    phi_flat[index] = (1 - ξ₁) * (1 + ξ₂) / 4\n",
    "                end\n",
    "            end\n",
    "        end\n",
    "    end\n",
    "\n",
    "    return phi_flat\n",
    "end\n",
    "\n",
    "function monta_Fᵉ_cuda_correct!(Fᵉ, f::Function, h₁::Float64, h₂::Float64, p₁::Float64, p₂::Float64, P, W, phi_values)\n",
    "    # Zera as entradas do vetor local Fᵉ\n",
    "    CUDA.fill!(Fᵉ, 0.0)\n",
    "\n",
    "\tcst = h₁ * h₂ / 4\n",
    "\n",
    "    # GPU kernel definition\n",
    "    kernel_monta_Fᵉ = nothing\n",
    "    function kernel_monta_Fᵉ!(\n",
    "        Fᵉ, f::Function, h₁::Float64, h₂::Float64, p₁::Float64, p₂::Float64, P::CuDeviceVector{Float64, 1}, W::CuDeviceVector{Float64, 1}, cst::Float64\n",
    "    )\n",
    "        a = threadIdx().x\n",
    "        soma = 0.0\n",
    "        length_P = length(P)\n",
    "        for i in 1:length_P     # Loop over quadrature points in ξ₁\n",
    "            ξ₁ = P[i]\n",
    "            x₁ = x₁_de_ξ(ξ₁, h₁, p₁)\n",
    "            for j in 1:length_P # Loop over quadrature points in ξ₂\n",
    "                ξ₂ = P[j]\n",
    "                x₂ = x₂_de_ξ(ξ₂, h₂, p₂)\n",
    "                # Accumulate the quadrature contribution\n",
    "                index = (a - 1) * length_P^2 + (i - 1) * length_P + (j - 1) + 1\n",
    "                soma += W[i] * W[j] * f(x₁, x₂) * phi_values[index] * cst\n",
    "            end\n",
    "        end\n",
    "        # Store the result in Fᵉ\n",
    "        Fᵉ[a] = soma\n",
    "        return nothing\n",
    "    end\n",
    "\n",
    "    # Launch the kernel with 4 threads (one for each `a`)\n",
    "    @cuda threads=4 kernel_monta_Fᵉ!(Fᵉ, f, h₁, h₂, p₁, p₂, P, W, cst)\n",
    "end"
   ]
  },
  {
   "cell_type": "code",
   "execution_count": 13,
   "metadata": {},
   "outputs": [
    {
     "data": {
      "text/plain": [
       "teste_monta_Fᵉ_cuda_correct (generic function with 1 method)"
      ]
     },
     "metadata": {},
     "output_type": "display_data"
    }
   ],
   "source": [
    "function teste_monta_Fᵉ_cuda_correct()\n",
    "\tFᵉ = CUDA.zeros(4)\n",
    "\t\n",
    "\tP1, W1 = legendre(5)\n",
    "\tphi_values = CuArray(precompute_ϕ_flat(P1))\n",
    "    P, W = CuArray(P1), CuArray(W1)\n",
    "\t\n",
    "\th₁ = 1/4\n",
    "\th₂ = 1/4\n",
    "\t\n",
    "\tp₁ = 0.0\n",
    "\tp₂ = 0.0\n",
    "\t\n",
    "\t@inline function f(x₁,x₂) \n",
    "\t\treturn 4/(h₁*h₂)\n",
    "\tend\n",
    "\n",
    "\t#monta_Fᵉ_cuda_correct!(Fᵉ, f, h₁, h₂, p₁, p₂, P, W, phi_values)\n",
    "    #display(\"Fᵉ - Teste 1\")\n",
    "\t#display(Fᵉ)\n",
    "\t\n",
    "\tmonta_Fᵉ_cuda_correct!(Fᵉ, (x₁,x₂) -> (16*9*x₁*x₂)/((h₁*h₂)^2), h₁, h₂, p₁, p₂, P, W, phi_values)\n",
    "    display(\"Fᵉ - Teste 2\")\n",
    "\tdisplay(Fᵉ)\n",
    "end"
   ]
  },
  {
   "cell_type": "code",
   "execution_count": 14,
   "metadata": {},
   "outputs": [
    {
     "data": {
      "text/plain": [
       "\"Fᵉ - Teste 2\""
      ]
     },
     "metadata": {},
     "output_type": "display_data"
    },
    {
     "data": {
      "text/plain": [
       "4-element CuArray{Float32, 1, CUDA.DeviceMemory}:\n",
       "  4.0\n",
       "  8.0\n",
       " 16.0\n",
       "  8.0"
      ]
     },
     "metadata": {},
     "output_type": "display_data"
    }
   ],
   "source": [
    "teste_monta_Fᵉ_cuda_correct()"
   ]
  },
  {
   "cell_type": "markdown",
   "metadata": {},
   "source": [
    "# Montagem da K local"
   ]
  },
  {
   "cell_type": "code",
   "execution_count": 260,
   "metadata": {},
   "outputs": [
    {
     "data": {
      "text/plain": [
       "monta_Kᵉ_cuda_correct (generic function with 1 method)"
      ]
     },
     "metadata": {},
     "output_type": "display_data"
    }
   ],
   "source": [
    "function monta_Kᵉ(α::Float64, β::Float64, h₁::Float64, h₂::Float64, P::Vector{Float64}, W::Vector{Float64}) ::Matrix{Float64}\n",
    "    # Inicializa a matriz local Kᵉ\n",
    "    Kᵉ = zeros(4, 4)\n",
    "\n",
    "    # Pré-calcula os fatores constantes das integrais\n",
    "    cst1 = α * (h₂ / h₁)\n",
    "    cst2 = α * (h₁ / h₂)\n",
    "    cst3 = β * (h₁ * h₂ / 4)\n",
    "\n",
    "    # Loop sobre as colunas (b) e linhas (a) da matriz local Kᵉ\n",
    "    for b in 1:4\n",
    "        for a in 1:4\n",
    "            # Inicializa a contribuição da quadratura para a entrada (a, b)\n",
    "            soma = 0.0\n",
    "\n",
    "            # Integração via quadratura gaussiana dupla\n",
    "            for i in 1:length(P)     # Loop sobre os pontos de quadratura no eixo ξ₁\n",
    "\t\t\t\tξ₁ = P[i]\n",
    "                for j in 1:length(P) # Loop sobre os pontos de quadratura no eixo ξ₂\n",
    "                    ξ₂ = P[j]\n",
    "\n",
    "                    # Acumula a contribuição da quadratura\n",
    "                    soma += W[i] * W[j] * (\n",
    "                        cst1 * ∂ϕ_∂ξ₁(ξ₁, ξ₂, b) * ∂ϕ_∂ξ₁(ξ₁, ξ₂, a) + \n",
    "                        cst2 * ∂ϕ_∂ξ₂(ξ₁, ξ₂, b) * ∂ϕ_∂ξ₂(ξ₁, ξ₂, a) + \n",
    "                        cst3 *      ϕ(ξ₁, ξ₂, b) *      ϕ(ξ₁, ξ₂, a)    \n",
    "                    )\n",
    "                end\n",
    "            end\n",
    "\n",
    "            # Armazena a contribuição acumulada na entrada [a, b] da matriz Kᵉ\n",
    "            Kᵉ[a, b] = soma\n",
    "        end\n",
    "    end\n",
    "\n",
    "    return Kᵉ\n",
    "end\n",
    "\n",
    "function kernel_monta_Kᵉ!(\n",
    "    Kᵉ_flat::CuArray{Float64}, cst1::Float64, cst2::Float64, cst3::Float64,\n",
    "    P, W, n_points::Int64\n",
    ")\n",
    "    idx = threadIdx().x + (blockIdx().x - 1) * blockDim().x\n",
    "\n",
    "    # Each thread computes one (a, b) entry of Kᵉ\n",
    "    if idx <= 16  # 4x4 elements\n",
    "        a = div(idx - 1, 4) + 1\n",
    "        b = rem(idx - 1, 4) + 1\n",
    "\n",
    "        # Accumulate the quadrature contributions for Kᵉ[a, b]\n",
    "        soma = 0.0\n",
    "        for i in 1:n_points\n",
    "            ξ₁ = P[i]\n",
    "            w₁ = W[i]\n",
    "            for j in 1:n_points\n",
    "                ξ₂ = P[j]\n",
    "                w₂ = W[j]\n",
    "\n",
    "                # Compute the integrand contributions\n",
    "                soma += w₁ * w₂ * (\n",
    "                    cst1 * ∂ϕ_∂ξ₁(ξ₁, ξ₂, b) * ∂ϕ_∂ξ₁(ξ₁, ξ₂, a) + \n",
    "                    cst2 * ∂ϕ_∂ξ₂(ξ₁, ξ₂, b) * ∂ϕ_∂ξ₂(ξ₁, ξ₂, a) + \n",
    "                    cst3 *      ϕ(ξ₁, ξ₂, b) *      ϕ(ξ₁, ξ₂, a)\n",
    "                )\n",
    "            end\n",
    "        end\n",
    "\n",
    "        # Store the accumulated value in the flattened result\n",
    "        Kᵉ_flat[idx] = soma\n",
    "    end\n",
    "end\n",
    "\n",
    "function monta_Kᵉ_cuda_correct(α::Float64, β::Float64, h₁::Float64, h₂::Float64, P::CuVector{Float64,2}, W::CuVector{Float64,2}) :: CuArray{Float64, 2}\n",
    "    # Precompute constants\n",
    "    cst1 = α * (h₂ / h₁)\n",
    "    cst2 = α * (h₁ / h₂)\n",
    "    cst3 = β * (h₁ * h₂ / 4)\n",
    "\n",
    "    # Number of quadrature points\n",
    "    n_points = length(P)\n",
    "\n",
    "    # Initialize the result matrix Kᵉ on the GPU\n",
    "    Kᵉ = CUDA.zeros(Float64, 4, 4)\n",
    "\n",
    "    # Flatten Kᵉ for efficient indexing in kernel\n",
    "    Kᵉ_flat = CuArray(vec(Kᵉ))\n",
    "\n",
    "    # Launch GPU kernel to compute Kᵉ\n",
    "    @cuda threads=256 kernel_monta_Kᵉ!(\n",
    "        Kᵉ_flat, cst1, cst2, cst3, \n",
    "        P, W, n_points\n",
    "    )\n",
    "\n",
    "    # Reshape the flattened result back to a 4x4 matrix\n",
    "    return reshape(Kᵉ_flat, 4, 4)\n",
    "    \n",
    "end"
   ]
  },
  {
   "cell_type": "code",
   "execution_count": 261,
   "metadata": {},
   "outputs": [
    {
     "data": {
      "text/plain": [
       "\"Kᵉ - Teste 1\""
      ]
     },
     "metadata": {},
     "output_type": "display_data"
    },
    {
     "data": {
      "text/plain": [
       "4×4 CuArray{Float32, 2, CUDA.DeviceMemory}:\n",
       "  4.0  -1.0  -2.0  -1.0\n",
       " -1.0   4.0  -1.0  -2.0\n",
       " -2.0  -1.0   4.0  -1.0\n",
       " -1.0  -2.0  -1.0   4.0"
      ]
     },
     "metadata": {},
     "output_type": "display_data"
    }
   ],
   "source": [
    "using Adapt \n",
    "\n",
    "function monta_Kᵉ_cuda(α::Float64, β::Float64, h₁::Float64, h₂::Float64, P, W)\n",
    "    # Inicializa a matriz local Kᵉ\n",
    "    Kᵉ = zeros(4, 4)\n",
    "\n",
    "    # Pré-calcula os fatores constantes das integrais\n",
    "    cst1 = α * (h₂ / h₁)\n",
    "    cst2 = α * (h₁ / h₂)\n",
    "    cst3 = β * (h₁ * h₂ / 4)\n",
    "\n",
    "    # Loop sobre as colunas (b) e linhas (a) da matriz local Kᵉ\n",
    "    for b in 1:4\n",
    "        for a in 1:4\n",
    "            # Inicializa a contribuição da quadratura para a entrada (a, b)\n",
    "            soma = 0.0\n",
    "\n",
    "            # Integração via quadratura gaussiana dupla\n",
    "            for i in 1:length(P)     # Loop sobre os pontos de quadratura no eixo ξ₁\n",
    "\t\t\t\tξ₁ = P[i]\n",
    "                for j in 1:length(P) # Loop sobre os pontos de quadratura no eixo ξ₂\n",
    "                    ξ₂ = P[j]\n",
    "\n",
    "                    # Acumula a contribuição da quadratura\n",
    "                    soma += W[i] * W[j] * (\n",
    "                        cst1 * ∂ϕ_∂ξ₁(ξ₁, ξ₂, b) * ∂ϕ_∂ξ₁(ξ₁, ξ₂, a) + \n",
    "                        cst2 * ∂ϕ_∂ξ₂(ξ₁, ξ₂, b) * ∂ϕ_∂ξ₂(ξ₁, ξ₂, a) + \n",
    "                        cst3 *      ϕ(ξ₁, ξ₂, b) *      ϕ(ξ₁, ξ₂, a)    \n",
    "                    )\n",
    "                end\n",
    "            end\n",
    "\n",
    "            # Armazena a contribuição acumulada na entrada [a, b] da matriz Kᵉ\n",
    "            Kᵉ[a, b] = soma\n",
    "        end\n",
    "    end\n",
    "\n",
    "    Kᵉ_gpu = cu(Kᵉ)\n",
    "    \n",
    "    return Kᵉ_gpu\n",
    "end\n",
    "\n",
    "function teste_monta_Kᵉ_cuda()\n",
    "\th₁ = 1/4\n",
    "\th₂ = 1/4\n",
    "\n",
    "\tP, W = legendre(2)\n",
    "    #P, W = CuArray(P), CuArray(W)\n",
    "\n",
    "\t# Teste 1\n",
    "\tα = 6.0\n",
    "\tβ = 0.0\n",
    "\tKᵉ = monta_Kᵉ_cuda(α, β, h₁, h₂, P, W)\n",
    "\tdisplay(\"Kᵉ - Teste 1\")\n",
    "\tdisplay(Kᵉ)\n",
    "\n",
    "\t# Teste 2\n",
    "\t#α = 0.0\n",
    "\t#β = (9*4)/(h₁*h₂)\n",
    "\t#Kᵉ = monta_Kᵉ_cuda_correct(α, β, h₁, h₂, P, W)\n",
    "\t#display(\"Kᵉ - Teste 2\")\n",
    "\t#display(Kᵉ)\t\n",
    "end\n",
    "teste_monta_Kᵉ_cuda()"
   ]
  },
  {
   "cell_type": "code",
   "execution_count": 262,
   "metadata": {},
   "outputs": [
    {
     "data": {
      "text/plain": [
       "teste_monta_Kᵉ (generic function with 1 method)"
      ]
     },
     "metadata": {},
     "output_type": "display_data"
    }
   ],
   "source": [
    "function teste_monta_Kᵉ()\n",
    "\th₁ = 1/4\n",
    "\th₂ = 1/4\n",
    "\n",
    "\tP, W = legendre(2)\n",
    "\n",
    "\t# Teste 1\n",
    "\tα = 6.0\n",
    "\tβ = 0.0\n",
    "\tKᵉ = monta_Kᵉ(α, β, h₁, h₂, P, W)\n",
    "\tdisplay(\"Kᵉ - Teste 1\")\n",
    "\tdisplay(Kᵉ)\n",
    "\n",
    "\t# Teste 2\n",
    "\tα = 0.0\n",
    "\tβ = (9*4)/(h₁*h₂)\n",
    "\tKᵉ = monta_Kᵉ(α, β, h₁, h₂, P, W)\n",
    "\tdisplay(\"Kᵉ - Teste 2\")\n",
    "\tdisplay(Kᵉ)\t\n",
    "end"
   ]
  },
  {
   "cell_type": "code",
   "execution_count": 263,
   "metadata": {},
   "outputs": [
    {
     "data": {
      "text/plain": [
       "\"Kᵉ - Teste 1\""
      ]
     },
     "metadata": {},
     "output_type": "display_data"
    },
    {
     "data": {
      "text/plain": [
       "4×4 CuArray{Float32, 2, CUDA.DeviceMemory}:\n",
       "  4.0  -1.0  -2.0  -1.0\n",
       " -1.0   4.0  -1.0  -2.0\n",
       " -2.0  -1.0   4.0  -1.0\n",
       " -1.0  -2.0  -1.0   4.0"
      ]
     },
     "metadata": {},
     "output_type": "display_data"
    }
   ],
   "source": [
    "function teste_monta_Kᵉ_cuda()\n",
    "\th₁ = 1/4\n",
    "\th₂ = 1/4\n",
    "\n",
    "\tP, W = legendre(2)\n",
    "    P, W = CuArray(P), CuArray(W)\n",
    "\n",
    "\t# Teste 1\n",
    "\tα = 6.0\n",
    "\tβ = 0.0\n",
    "\tKᵉ = monta_Kᵉ_cuda(α, β, h₁, h₂, P, W)\n",
    "\tdisplay(\"Kᵉ - Teste 1\")\n",
    "\tdisplay(Kᵉ)\n",
    "\n",
    "\t# Teste 2\n",
    "\t#α = 0.0\n",
    "\t#β = (9*4)/(h₁*h₂)\n",
    "\t#Kᵉ = monta_Kᵉ_cuda_correct(α, β, h₁, h₂, P, W)\n",
    "\t#display(\"Kᵉ - Teste 2\")\n",
    "\t#display(Kᵉ)\t\n",
    "end\n",
    "teste_monta_Kᵉ_cuda()"
   ]
  },
  {
   "cell_type": "markdown",
   "metadata": {},
   "source": [
    "# Montagem de LG e EQ"
   ]
  },
  {
   "cell_type": "code",
   "execution_count": 264,
   "metadata": {},
   "outputs": [
    {
     "data": {
      "text/plain": [
       "monta_LG (generic function with 1 method)"
      ]
     },
     "metadata": {},
     "output_type": "display_data"
    }
   ],
   "source": [
    "function monta_LG(Nx1::Int64, Nx2::Int64)::Matrix{Int64}\n",
    "    # Define o número de funções φ no eixo x₁ e x₂\n",
    "    nx1 = Nx1 + 1\n",
    "    nx2 = Nx2 + 1\n",
    "\n",
    "    # M[:,j] contém a numeração da primeira linha do \"Bloco j\"\n",
    "    M = (1:nx1-1) .+ (0:nx1:(nx2-2)*nx1)'\n",
    "\n",
    "    # LG[1,:] contém a numeração global da primeira função local de cada elemento \n",
    "    linha1 = reshape(M, 1, :)\n",
    "\n",
    "    # Constrói a matriz LG\n",
    "    LG = vcat(linha1, linha1 .+ 1, linha1 .+ (nx1+1), linha1 .+ nx1)\n",
    "\n",
    "    return LG\n",
    "end"
   ]
  },
  {
   "cell_type": "code",
   "execution_count": 265,
   "metadata": {},
   "outputs": [
    {
     "data": {
      "text/plain": [
       "monta_EQ (generic function with 1 method)"
      ]
     },
     "metadata": {},
     "output_type": "display_data"
    }
   ],
   "source": [
    "function monta_EQ(Nx1::Int64, Nx2::Int64) :: Tuple{Int64,Vector{Int64}}\n",
    "    # Define o número de funções φ no eixo x₁ e x₂\n",
    "    nx1 = Nx1 + 1\n",
    "    nx2 = Nx2 + 1\n",
    "    \n",
    "    # Calcula o número de funções globais φ que compõem a base do espaço Vₘ\n",
    "    m = (nx1-2) * (nx2-2)\n",
    "\n",
    "    # Inicializa o vetor EQ preenchido com m+1\n",
    "    EQ = fill(m+1, nx1 * nx2)\n",
    "\n",
    "    # Vetor contendo os índices das funções globais φ que compõem a base do espaço Vₘ\n",
    "    L = reshape( (0:nx1-3) .+ (nx1+2:nx1:(nx2-2)*nx1+2)' , :,1)\n",
    "\n",
    "    # Atribui os valores de 1 até m as funções globais φ que compõem a base do espaço Vₘ\n",
    "    EQ[L] = 1:m\n",
    "\n",
    "    return m, EQ\n",
    "end"
   ]
  },
  {
   "cell_type": "markdown",
   "metadata": {},
   "source": [
    "# Montagem da F global"
   ]
  },
  {
   "cell_type": "code",
   "execution_count": 266,
   "metadata": {},
   "outputs": [
    {
     "data": {
      "text/plain": [
       "monta_F_cuda (generic function with 1 method)"
      ]
     },
     "metadata": {},
     "output_type": "display_data"
    }
   ],
   "source": [
    "function monta_F(f::Function, Nx1::Int64, Nx2::Int64, m::Int64, EQoLG::Matrix{Int64})\n",
    "    # Comprimento da base (h₁) e altura (h₂) de cada elemento retangular Ωᵉ\n",
    "    h₁ = 1 / Nx1\n",
    "    h₂ = 1 / Nx2\n",
    "\n",
    "    # Número total de elementos finitos na malha\n",
    "    ne = Nx1 * Nx2\n",
    "\n",
    "    # P: Pontos de quadratura de Gauss-Legendre (ordem 5)\n",
    "    # W: Pesos de quadratura de Gauss-Legendre\n",
    "    P, W = legendre(5)\n",
    "\n",
    "    # Inicializa o vetor local Fᵉ\n",
    "    Fᵉ = zeros(4)\n",
    "\n",
    "    # Inicializa o vetor global F com tamanho (m+1)\n",
    "    F = zeros(m+1)\n",
    "    \n",
    "    # Loop sobre os elementos Ωᵉ (percorrendo cada subdivisão ao longo de x₂ e x₁)\n",
    "    for j = 1:Nx2\n",
    "        # Segunda componente do ponto inferior esquerdo do retângulo `Ωᵉ`.\n",
    "        p₂ = (j-1)*h₂ \n",
    "        for i = 1:Nx1\n",
    "            # Primeira componente do ponto inferior esquerdo do retângulo `Ωᵉ`.\n",
    "            p₁ = (i-1)*h₁\n",
    "            # Numeração do elemento finito atual (e) na malha\n",
    "            e = (j-1)*Nx1 + i \n",
    "\n",
    "            # Calcula o vetor local Fᵉ para o elemento e\n",
    "            monta_Fᵉ!(Fᵉ, f, h₁, h₂, p₁, p₂, P, W) \n",
    "\n",
    "            # Acumula Fᵉ em F usando a matriz de conectividade EQoLG\n",
    "            for a = 1:4\n",
    "                F[EQoLG[a,e]] += Fᵉ[a]\n",
    "            end\n",
    "        end\n",
    "    end\n",
    "\n",
    "    # Retorna o vetor global F com tamanho `m`, excluindo a última entrada adicional\n",
    "    return F[1:m]\n",
    "end\n",
    "\n",
    "\n",
    "function monta_F_cuda(f::Function, Nx1::Int64, Nx2::Int64, m::Int64, EQoLG)\n",
    "    # Comprimento da base (h₁) e altura (h₂) de cada elemento retangular Ωᵉ\n",
    "    h₁ = 1 / Nx1\n",
    "    h₂ = 1 / Nx2\n",
    "\n",
    "    # Número total de elementos finitos na malha\n",
    "    ne = Nx1 * Nx2\n",
    "\n",
    "    # P: Pontos de quadratura de Gauss-Legendre (ordem 5)\n",
    "    # W: Pesos de quadratura de Gauss-Legendre\n",
    "    P, W = legendre(5)\n",
    "    #P, W = CuArray(P), CuArray(W)\n",
    "\n",
    "    # Inicializa o vetor local Fᵉ\n",
    "    Fᵉ = CUDA.zeros(4)\n",
    "\n",
    "    # Inicializa o vetor global F com tamanho (m+1)\n",
    "    F = CUDA.zeros(m+1)\n",
    "    \n",
    "    # Loop sobre os elementos Ωᵉ (percorrendo cada subdivisão ao longo de x₂ e x₁)\n",
    "    for j = 1:Nx2\n",
    "        # Segunda componente do ponto inferior esquerdo do retângulo `Ωᵉ`.\n",
    "        p₂ = (j-1)*h₂ \n",
    "        for i = 1:Nx1\n",
    "            # Primeira componente do ponto inferior esquerdo do retângulo `Ωᵉ`.\n",
    "            p₁ = (i-1)*h₁\n",
    "            # Numeração do elemento finito atual (e) na malha\n",
    "            e = (j-1)*Nx1 + i \n",
    "\n",
    "            # Calcula o vetor local Fᵉ para o elemento e\n",
    "            monta_Fᵉ_cuda!(Fᵉ, f, h₁, h₂, p₁, p₂, P, W)\n",
    "\n",
    "            # Acumula Fᵉ em F usando a matriz de conectividade EQoLG\n",
    "            for a = 1:4\n",
    "                F[EQoLG[a,e]] += Fᵉ[a]\n",
    "            end\n",
    "        end\n",
    "    end\n",
    "\n",
    "    # Retorna o vetor global F com tamanho `m`, excluindo a última entrada adicional\n",
    "    return F[1:m]\n",
    "end"
   ]
  },
  {
   "cell_type": "code",
   "execution_count": 267,
   "metadata": {},
   "outputs": [
    {
     "data": {
      "text/plain": [
       "teste_monta_F (generic function with 1 method)"
      ]
     },
     "metadata": {},
     "output_type": "display_data"
    }
   ],
   "source": [
    "function teste_monta_F()\n",
    "\t# Teste 1\n",
    "\t#Nx1 = 4; Nx2 = 3; h₁ = 1/Nx1; h₂ = 1/Nx2;\n",
    "\t\n",
    "\t#m, EQ = monta_EQ(Nx1,Nx2)\n",
    "\t#LG = monta_LG(Nx1,Nx2)\n",
    "\t#EQoLG = EQ[LG]\n",
    "\t\n",
    "\t#F = monta_F((x₁,x₂) -> 4.0/(h₁*h₂), Nx1, Nx2, m, EQoLG)\n",
    "    #display(\"F - Teste 1\")\n",
    "\t#display(\"Nx1 = 4; Nx2 = 3; h₁ = 1/Nx1; h₂ = 1/Nx2; f(x₁,x₂) = 4/(h₁*h₂);\")\n",
    "\t#display(F)\n",
    "\t\n",
    "\t# Teste 2\n",
    "\tNx1 = 4; Nx2 = 4; h₁ = 1/Nx1; h₂ = 1/Nx2;\n",
    "\t\n",
    "\tm, EQ = monta_EQ(Nx1,Nx2)\n",
    "\tLG = monta_LG(Nx1,Nx2)\n",
    "\tEQoLG = EQ[LG]\n",
    "\t\n",
    "\tF = monta_F((x₁,x₂) -> (16*9*x₁*x₂)/((h₁*h₂)^2), Nx1, Nx2, m, EQoLG)\n",
    "    display(\"F - Teste 2\")\n",
    "\tdisplay(\"Nx1 = Nx2 = 4; h₁ = 1/Nx1; h₂ = 1/Nx2; f(x₁,x₂) = (16*9*x₁*x₂)/((h₁*h₂)^2);\")\n",
    "\tdisplay(F)\n",
    "end"
   ]
  },
  {
   "cell_type": "code",
   "execution_count": 268,
   "metadata": {},
   "outputs": [
    {
     "data": {
      "text/plain": [
       "\"F - Teste 2\""
      ]
     },
     "metadata": {},
     "output_type": "display_data"
    },
    {
     "data": {
      "text/plain": [
       "\"Nx1 = Nx2 = 4; h₁ = 1/Nx1; h₂ = 1/Nx2; f(x₁,x₂) = (16*9*x₁*x₂)/((h₁*h₂)^2);\""
      ]
     },
     "metadata": {},
     "output_type": "display_data"
    },
    {
     "data": {
      "text/plain": [
       "9-element Vector{Float64}:\n",
       "  143.99999999999994\n",
       "  287.9999999999999\n",
       "  431.9999999999998\n",
       "  287.9999999999999\n",
       "  575.9999999999999\n",
       "  863.9999999999995\n",
       "  431.9999999999998\n",
       "  863.9999999999997\n",
       " 1295.9999999999998"
      ]
     },
     "metadata": {},
     "output_type": "display_data"
    }
   ],
   "source": [
    "teste_monta_F()"
   ]
  },
  {
   "cell_type": "code",
   "execution_count": 269,
   "metadata": {},
   "outputs": [
    {
     "data": {
      "text/plain": [
       "teste_monta_F_cuda (generic function with 1 method)"
      ]
     },
     "metadata": {},
     "output_type": "display_data"
    }
   ],
   "source": [
    "function teste_monta_F_cuda()\n",
    "\t# #Teste 1\n",
    "\t# Nx1 = 4; Nx2 = 3; h₁ = 1/Nx1; h₂ = 1/Nx2;\n",
    "\t\n",
    "\t# m, EQ = monta_EQ(Nx1,Nx2)\n",
    "\t# LG = monta_LG(Nx1,Nx2)\n",
    "\t# EQoLG = EQ[LG]\n",
    "\t\n",
    "\t# F = monta_F_cuda((x₁,x₂) -> 4.0/(h₁*h₂), Nx1, Nx2, m, EQoLG)\n",
    "    # display(\"F - Teste 1\")\n",
    "\t# display(\"Nx1 = 4; Nx2 = 3; h₁ = 1/Nx1; h₂ = 1/Nx2; f(x₁,x₂) = 4/(h₁*h₂);\")\n",
    "\t# display(F)\n",
    "\t\n",
    "\t# Teste 2\n",
    "\tNx1 = 4; Nx2 = 4; h₁ = 1/Nx1; h₂ = 1/Nx2;\n",
    "\t\n",
    "\tm, EQ = monta_EQ(Nx1,Nx2)\n",
    "\tLG = monta_LG(Nx1,Nx2)\n",
    "\tEQoLG = EQ[LG]\n",
    "\t\n",
    "\tF = monta_F_cuda((x₁,x₂) -> (16*9*x₁*x₂)/((h₁*h₂)^2), Nx1, Nx2, m, EQoLG)\n",
    "    display(\"F - Teste 2\")\n",
    "\tdisplay(\"Nx1 = Nx2 = 4; h₁ = 1/Nx1; h₂ = 1/Nx2; f(x₁,x₂) = (16*9*x₁*x₂)/((h₁*h₂)^2);\")\n",
    "\tdisplay(F)\n",
    "end"
   ]
  },
  {
   "cell_type": "code",
   "execution_count": 270,
   "metadata": {},
   "outputs": [
    {
     "data": {
      "text/plain": [
       "\"F - Teste 2\""
      ]
     },
     "metadata": {},
     "output_type": "display_data"
    },
    {
     "data": {
      "text/plain": [
       "\"Nx1 = Nx2 = 4; h₁ = 1/Nx1; h₂ = 1/Nx2; f(x₁,x₂) = (16*9*x₁*x₂)/((h₁*h₂)^2);\""
      ]
     },
     "metadata": {},
     "output_type": "display_data"
    },
    {
     "data": {
      "text/plain": [
       "9-element CuArray{Float32, 1, CUDA.DeviceMemory}:\n",
       "  144.0\n",
       "  288.0\n",
       "  432.0\n",
       "  288.0\n",
       "  576.0\n",
       "  864.0\n",
       "  432.0\n",
       "  864.0\n",
       " 1296.0"
      ]
     },
     "metadata": {},
     "output_type": "display_data"
    }
   ],
   "source": [
    "teste_monta_F_cuda()"
   ]
  },
  {
   "cell_type": "markdown",
   "metadata": {},
   "source": [
    "# Montagem da K global"
   ]
  },
  {
   "cell_type": "code",
   "execution_count": 271,
   "metadata": {},
   "outputs": [
    {
     "data": {
      "text/plain": [
       "monta_K (generic function with 1 method)"
      ]
     },
     "metadata": {},
     "output_type": "display_data"
    }
   ],
   "source": [
    "function monta_K(α::Float64, β::Float64, Nx1::Int64, Nx2::Int64, m::Int64, EQoLG::Matrix{Int64}) :: SparseMatrixCSC{Float64, Int64}\n",
    "    h₁ = 1 / Nx1 # Comprimento da base do elemento finito retangular Ωᵉ\n",
    "    h₂ = 1 / Nx2 # Comprimento da altura do elemento finito retangular Ωᵉ\n",
    "\n",
    "    # Número de elementos na malha\n",
    "    ne = Nx1 * Nx2\n",
    "\n",
    "    # Pontos e pesos de quadratura de Gauss-Legendre\n",
    "    P, W = legendre(2)\n",
    "\n",
    "    # Calcula a matriz local Kᵉ\n",
    "    Kᵉ = monta_Kᵉ(α, β, h₁, h₂, P, W)\n",
    "\n",
    "    # Inicializa a matriz esparsa K com tamanho (m+1) x (m+1)\n",
    "    K = spzeros(m+1, m+1)\n",
    "\n",
    "    # Loop sobre os elementos\n",
    "    for e = 1:ne\n",
    "        # Loop sobre as colunas (b) e linhas (a) da matriz local Kᵉ\n",
    "        for b = 1:4\n",
    "            j = EQoLG[b,e]\n",
    "            for a = 1:4\n",
    "                i = EQoLG[a,e]\n",
    "                K[i,j] += Kᵉ[a,b]\n",
    "            end\n",
    "        end\n",
    "    end\n",
    "   \n",
    "    # Remove a última linha e coluna da matriz K\n",
    "    return K[1:m, 1:m]\n",
    "end"
   ]
  },
  {
   "cell_type": "code",
   "execution_count": 272,
   "metadata": {},
   "outputs": [
    {
     "data": {
      "text/plain": [
       "teste_monta_K (generic function with 1 method)"
      ]
     },
     "metadata": {},
     "output_type": "display_data"
    }
   ],
   "source": [
    "function teste_monta_K()\n",
    "\tα = 1.0; β = 1.0; Nx1 = 4; Nx2 = 3\n",
    "\t\n",
    "\tm, EQ = monta_EQ(Nx1,Nx2)\n",
    "\tLG = monta_LG(Nx1,Nx2)\n",
    "\tEQoLG = EQ[LG]\n",
    "\t\n",
    "\tK = monta_K(α, β, Nx1, Nx2, m, EQoLG)\n",
    "\n",
    "\tdisplay(\"Parâmetros de entrada: α = 1.0; β = 1.0; Nx1 = 4; Nx2 = 3\")\n",
    "\tdisplay(K)\n",
    "end"
   ]
  },
  {
   "cell_type": "code",
   "execution_count": 273,
   "metadata": {},
   "outputs": [
    {
     "data": {
      "text/plain": [
       "\"Parâmetros de entrada: α = 1.0; β = 1.0; Nx1 = 4; Nx2 = 3\""
      ]
     },
     "metadata": {},
     "output_type": "display_data"
    },
    {
     "data": {
      "text/plain": [
       "6×6 SparseMatrixCSC{Float64, Int64} with 28 stored entries:\n",
       "  2.81481    -0.62963      ⋅         -0.0462963  -0.344907     ⋅ \n",
       " -0.62963     2.81481    -0.62963    -0.344907   -0.0462963  -0.344907\n",
       "   ⋅         -0.62963     2.81481      ⋅         -0.344907   -0.0462963\n",
       " -0.0462963  -0.344907     ⋅          2.81481    -0.62963      ⋅ \n",
       " -0.344907   -0.0462963  -0.344907   -0.62963     2.81481    -0.62963\n",
       "   ⋅         -0.344907   -0.0462963    ⋅         -0.62963     2.81481"
      ]
     },
     "metadata": {},
     "output_type": "display_data"
    }
   ],
   "source": [
    "teste_monta_K()"
   ]
  },
  {
   "cell_type": "code",
   "execution_count": 274,
   "metadata": {},
   "outputs": [
    {
     "data": {
      "text/plain": [
       "CUDA.HostKernel for kernel(CuDeviceMatrix{Int64, 1}, CUDA.CUSPARSE.CuSparseDeviceMatrixCSC{Float32, Int32, 1}, CuDeviceMatrix{Float32, 1}, Int64)"
      ]
     },
     "metadata": {},
     "output_type": "display_data"
    }
   ],
   "source": [
    "function monta_K_cuda(α::Float64, β::Float64, Nx1::Int64, Nx2::Int64, m::Int64, EQoLG) :: SparseMatrixCSC{Float64, Int64}\n",
    "    h₁ = 1 / Nx1 # Comprimento da base do elemento finito retangular Ωᵉ\n",
    "    h₂ = 1 / Nx2 # Comprimento da altura do elemento finito retangular Ωᵉ\n",
    "\n",
    "    # Número de elementos na malha\n",
    "    ne = Nx1 * Nx2\n",
    "\n",
    "    # Pontos e pesos de quadratura de Gauss-Legendre\n",
    "    P, W = legendre(2)\n",
    "    #P, W = CuArray(P), CuArray(W)\n",
    "\n",
    "    # Calcula a matriz local Kᵉ\n",
    "    Kᵉ = monta_Kᵉ_cuda(α, β, h₁, h₂, P, W)\n",
    "\n",
    "    # Inicializa a matriz esparsa K com tamanho (m+1) x (m+1)\n",
    "    K = spzeros(m+1, m+1)\n",
    "    #K = CUDA.CUSPARSE.CuSparseMatrixCSC(K)\n",
    "\n",
    "    # Loop sobre os elementos\n",
    "    for e = 1:ne\n",
    "        # Loop sobre as colunas (b) e linhas (a) da matriz local Kᵉ\n",
    "        for b = 1:4\n",
    "            j = EQoLG[b,e]\n",
    "            for a = 1:4\n",
    "                i = EQoLG[a,e]\n",
    "                K[i,j] += Kᵉ[a,b]\n",
    "            end\n",
    "        end\n",
    "    end\n",
    "   \n",
    "    # Remove a última linha e coluna da matriz K\n",
    "    K = K[1:m, 1:m]\n",
    "    K = cu(K) #CUDA.CUSPARSE.CuSparseMatrixCSC(K)\n",
    "    return K# [1:m, 1:m]\n",
    "end\n",
    "\n",
    "function kernel(EQoLG, K, K_e, ne)\n",
    "    # Each thread handles one element in the outer loop (over e)\n",
    "    i = threadIdx().x + (blockIdx().x - 1) * blockDim().x\n",
    "    if i <= ne\n",
    "        for b = 1:4\n",
    "            j = EQoLG[b, i]\n",
    "            for a = 1:4\n",
    "                k = EQoLG[a, i]\n",
    "                K[k, j] += K_e[a, b]\n",
    "            end\n",
    "        end\n",
    "    end\n",
    "    return\n",
    "end\n",
    "\n",
    "# Launch the kernel\n",
    "function parallelize_on_gpu(EQoLG_gpu, K_gpu, K_e_gpu, ne)\n",
    "    # Define the number of threads per block and number of blocks\n",
    "    threads_per_block = 8\n",
    "    blocks = div(ne + threads_per_block - 1, threads_per_block)\n",
    "    \n",
    "    # Call the kernel\n",
    "    @cuda threads=threads_per_block blocks=blocks kernel(EQoLG_gpu, K_gpu, K_e_gpu, ne)\n",
    "end\n",
    "\n",
    "# function teste_monta_K_cuda()\n",
    "# \tα = 1.0; β = 1.0; Nx1 = 4; Nx2 = 3\n",
    "\t\n",
    "# \tm, EQ = monta_EQ(Nx1,Nx2)\n",
    "# \tLG = monta_LG(Nx1,Nx2)\n",
    "# \tEQoLG = EQ[LG]\n",
    "\t\n",
    "# \tK = monta_K_cuda(α, β, Nx1, Nx2, m, EQoLG)\n",
    "\n",
    "# \tdisplay(\"Parâmetros de entrada: α = 1.0; β = 1.0; Nx1 = 4; Nx2 = 3\")\n",
    "# \tdisplay(K)\n",
    "# end\n",
    "\n",
    "function teste_monta_K_cuda()\n",
    "\tα = 1.0; β = 1.0; Nx1 = 4; Nx2 = 3\n",
    "\t\n",
    "\tm, EQ = monta_EQ(Nx1,Nx2)\n",
    "\tLG = monta_LG(Nx1,Nx2)\n",
    "\tEQoLG = EQ[LG]\n",
    "\n",
    "\th₁ = 1 / Nx1 # Comprimento da base do elemento finito retangular Ωᵉ\n",
    "    h₂ = 1 / Nx2 # Comprimento da altura do elemento finito retangular Ωᵉ\n",
    "\n",
    "    # Número de elementos na malha\n",
    "    ne = Nx1 * Nx2\n",
    "\n",
    "    # Pontos e pesos de quadratura de Gauss-Legendre\n",
    "    P, W = legendre(2)\n",
    "    #P, W = CuArray(P), CuArray(W)\n",
    "\n",
    "    # Calcula a matriz local Kᵉ\n",
    "    Kᵉ = monta_Kᵉ_cuda(α, β, h₁, h₂, P, W)\n",
    "\n",
    "    # Inicializa a matriz esparsa K com tamanho (m+1) x (m+1)\n",
    "    K = spzeros(m+1, m+1)\n",
    "    #K = CUDA.CUSPARSE.CuSparseMatrixCSC(K)\n",
    "\n",
    "\tparallelize_on_gpu(cu(EQoLG), cu(K), cu(Kᵉ), ne)\n",
    "end\n",
    "\n",
    "teste_monta_K_cuda()\n"
   ]
  },
  {
   "cell_type": "code",
   "execution_count": 275,
   "metadata": {},
   "outputs": [
    {
     "name": "stdout",
     "output_type": "stream",
     "text": [
      "ERROR: a exception was thrown during kernel execution on thread (1, 1, 1) in block (1, 1, 1).\n",
      "Stacktrace not available, run Julia on debug level 2 for more details (by passing -g2 to the executable).\n",
      "\n"
     ]
    },
    {
     "ename": "CUDA.KernelException",
     "evalue": "KernelException: exception thrown during kernel execution on device NVIDIA GeForce RTX 3060 Ti",
     "output_type": "error",
     "traceback": [
      "KernelException: exception thrown during kernel execution on device NVIDIA GeForce RTX 3060 Ti\n",
      "\n",
      "Stacktrace:\n",
      "  [1] check_exceptions()\n",
      "    @ CUDA ~/.julia/packages/CUDA/2kjXI/src/compiler/exceptions.jl:39\n",
      "  [2] synchronize(stream::CuStream; blocking::Bool, spin::Bool)\n",
      "    @ CUDA ~/.julia/packages/CUDA/2kjXI/lib/cudadrv/synchronization.jl:207\n",
      "  [3] synchronize (repeats 2 times)\n",
      "    @ ~/.julia/packages/CUDA/2kjXI/lib/cudadrv/synchronization.jl:194 [inlined]\n",
      "  [4] (::CUDA.var\"#1125#1126\"{Float32, CuArray{Float32, 2, CUDA.DeviceMemory}, Int64, Matrix{Float32}, Int64, Int64})()\n",
      "    @ CUDA ~/.julia/packages/CUDA/2kjXI/src/array.jl:535\n",
      "  [5] #context!#990\n",
      "    @ ~/.julia/packages/CUDA/2kjXI/lib/cudadrv/state.jl:168 [inlined]\n",
      "  [6] context!\n",
      "    @ ~/.julia/packages/CUDA/2kjXI/lib/cudadrv/state.jl:163 [inlined]\n",
      "  [7] unsafe_copyto!(dest::CuArray{Float32, 2, CUDA.DeviceMemory}, doffs::Int64, src::Matrix{Float32}, soffs::Int64, n::Int64)\n",
      "    @ CUDA ~/.julia/packages/CUDA/2kjXI/src/array.jl:531\n",
      "  [8] copyto!\n",
      "    @ ~/.julia/packages/CUDA/2kjXI/src/array.jl:489 [inlined]\n",
      "  [9] copyto!\n",
      "    @ ~/.julia/packages/CUDA/2kjXI/src/array.jl:493 [inlined]\n",
      " [10] CuArray\n",
      "    @ ~/.julia/packages/CUDA/2kjXI/src/array.jl:406 [inlined]\n",
      " [11] adapt_storage\n",
      "    @ ~/.julia/packages/CUDA/2kjXI/src/array.jl:698 [inlined]\n",
      " [12] adapt_structure\n",
      "    @ ~/.julia/packages/Adapt/VO8tI/src/Adapt.jl:57 [inlined]\n",
      " [13] adapt\n",
      "    @ ~/.julia/packages/Adapt/VO8tI/src/Adapt.jl:40 [inlined]\n",
      " [14] #cu#1135\n",
      "    @ ~/.julia/packages/CUDA/2kjXI/src/array.jl:763 [inlined]\n",
      " [15] cu\n",
      "    @ ~/.julia/packages/CUDA/2kjXI/src/array.jl:750 [inlined]\n",
      " [16] monta_Kᵉ_cuda(α::Float64, β::Float64, h₁::Float64, h₂::Float64, P::Vector{Float64}, W::Vector{Float64})\n",
      "    @ Main ~/Desktop/Elementos-Finitos/jl_notebook_cell_df34fa98e69747e1a8f8a730347b8e2f_Y125sZmlsZQ==.jl:38\n",
      " [17] teste_monta_K_cuda()\n",
      "    @ Main ~/Desktop/Elementos-Finitos/jl_notebook_cell_df34fa98e69747e1a8f8a730347b8e2f_X55sZmlsZQ==.jl:93\n",
      " [18] top-level scope\n",
      "    @ ~/Desktop/Elementos-Finitos/jl_notebook_cell_df34fa98e69747e1a8f8a730347b8e2f_Y110sZmlsZQ==.jl:1"
     ]
    }
   ],
   "source": [
    "teste_monta_K_cuda()"
   ]
  },
  {
   "cell_type": "code",
   "execution_count": 276,
   "metadata": {},
   "outputs": [
    {
     "data": {
      "text/plain": [
       "erro_norma_L2 (generic function with 1 method)"
      ]
     },
     "metadata": {},
     "output_type": "display_data"
    }
   ],
   "source": [
    "function erro_norma_L2(u::Function, c̄::Vector{Float64}, Nx1::Int64, Nx2::Int64, EQoLG::Matrix{Int64}) :: Float64\n",
    "    # Comprimentos da base (h₁) e altura (h₂) de cada elemento retangular Ωᵉ\n",
    "    h₁ = 1 / Nx1\n",
    "    h₂ = 1 / Nx2\n",
    "\n",
    "    # Inicializa o erro\n",
    "    erro = 0.0\n",
    "\n",
    "    # Define o número de pontos de quadratura (Npg) e os pontos (P) e pesos (W)\n",
    "    Npg = 5\n",
    "    P, W = legendre(Npg)\n",
    "\n",
    "    # Loop sobre os elementos Ωᵉ (percorrendo cada subdivisão ao longo de x₂ e x₁)\n",
    "    for j = 1:Nx2\n",
    "        # Calcula a segunda componente do ponto inferior esquerdo do retângulo `Ωᵉ`.\n",
    "        p₂ = (j - 1) * h₂ \n",
    "        for i = 1:Nx1\n",
    "            # Calcula a primeira componente do ponto inferior esquerdo de `Ωᵉ`.\n",
    "            p₁ = (i - 1) * h₁\n",
    "            # Identifica o número do elemento finito atual (e) na malha\n",
    "            e = (j - 1) * Nx1 + i\n",
    "\n",
    "            # Obtém os coeficientes `c` da solução aproximada no elemento `e` \n",
    "            c1e = c̄[EQoLG[1, e]]\n",
    "            c2e = c̄[EQoLG[2, e]]\n",
    "            c3e = c̄[EQoLG[3, e]]\n",
    "            c4e = c̄[EQoLG[4, e]]\n",
    "\n",
    "            # Realiza a integração dupla usando quadratura de Gauss-Legendre\n",
    "            for b = 1:Npg\n",
    "                # Coordenada ξ₂ no espaço de referência e x₂ no espaço físico\n",
    "                ξ₂ = P[b]\n",
    "                x₂ = x₂_de_ξ(ξ₂, h₂, p₂)\n",
    "                for a = 1:Npg\n",
    "                    # Coordenada ξ₁ no espaço de referência e x₁ no espaço físico\n",
    "                    ξ₁ = P[a]\n",
    "                    x₁ = x₁_de_ξ(ξ₁, h₁, p₁)\n",
    "\n",
    "                    # Acumula a contribuição da quadratura\n",
    "                    erro += W[a] * W[b] * (u(x₁, x₂) - \n",
    "                        c1e * ϕ(ξ₁, ξ₂, 1) -\n",
    "                        c2e * ϕ(ξ₁, ξ₂, 2) -\n",
    "                        c3e * ϕ(ξ₁, ξ₂, 3) -\n",
    "                        c4e * ϕ(ξ₁, ξ₂, 4))^2\n",
    "                end\n",
    "            end\n",
    "        end\n",
    "    end\n",
    "\n",
    "    return sqrt(erro * h₁ * h₂ / 4)\n",
    "end"
   ]
  },
  {
   "cell_type": "code",
   "execution_count": 277,
   "metadata": {},
   "outputs": [
    {
     "data": {
      "text/plain": [
       "plot_solução_aproximada (generic function with 1 method)"
      ]
     },
     "metadata": {},
     "output_type": "display_data"
    }
   ],
   "source": [
    "function plot_solução_aproximada(c̄::Vector{Float64}, \n",
    "    Nx1::Int64, Nx2::Int64, EQoLG::Matrix{Int64})\n",
    "# Comprimentos da base (h₁) e altura (h₂) de cada elemento retangular Ωᵉ\n",
    "h₁, h₂ = 1 / Nx1, 1 / Nx2\n",
    "\n",
    "# Define uma discretização do intervalo de referência [-1, 1] nos eixos ξ₁ e ξ₂\n",
    "ξ₁ = collect(-1:0.1:1) \n",
    "ξ₂ = collect(-1:0.1:1) \n",
    "\n",
    "# Inicializa um objeto de gráfico que acumulará as superfícies\n",
    "plt = Plots.plot(seriestype = :surface, title=\"Solução Aproximada\",\n",
    "color=:viridis,\n",
    "xlabel=\"x₁\", ylabel=\"x₂\", colorbar=false, zlims=(0,1),\n",
    "xticks=[0, 0.5, 1], yticks=[0, 0.5, 1], zticks=[0, 1])\n",
    "\n",
    "# Loop nos elementos da malha (percorrendo cada subdivisão ao longo de x₂ e x₁)\n",
    "for j = 1:Nx2\n",
    "# Define a segunda coordenada do ponto inferior esquerdo do retângulo `Ωᵉ`.\n",
    "p₂ = (j - 1) * h₂\n",
    "# Calcula os valores correspondentes no eixo x₂ para os pontos ξ₂ em [-1,1]\n",
    "x₂ = x₂_de_ξ.(ξ₂, h₂, p₂)\n",
    "\n",
    "for i = 1:Nx1\n",
    "# Primeira coordenada do ponto inferior esquerdo do retângulo `Ωᵉ`.\n",
    "p₁ = (i - 1) * h₁\n",
    "# Valores correspondentes no eixo x₁ para os pontos ξ₁ em [-1,1]\n",
    "x₁ = x₁_de_ξ.(ξ₁, h₁, p₁)\n",
    "\n",
    "# Determina a numeração do elemento finito atual (`e`) na malha\n",
    "e = (j - 1) * Nx1 + i\n",
    "\n",
    "# Obtém os coeficientes `c` da solução aproximada no elemento `e`\n",
    "ce = c̄[EQoLG[:, e]]\n",
    "\n",
    "# Solução aproximada na malha x₁ × x₂. Tamanho length(x₂) x length(x₁)\n",
    "mat = [dot(ce,ϕ(ξ₁[a],ξ₂[b])) for b in 1:length(x₂), a in 1:length(x₁)]\n",
    "\n",
    "# Exibindo os resultados\n",
    "# display(\"------------------------------\")\n",
    "# display(\"e = $e\")\n",
    "# display(\"p1, p2 = $p₁, $p₂\")\n",
    "# display(\"ce = $ce\")\n",
    "# display(\"x₁ = $x₁\")\n",
    "# display(\"x₂ = $x₂\")\n",
    "# display(\"uₕ(x₁[a],x₂[b]) for b in 1:length(x₂), a in 1:length(x₁)\")\n",
    "# display(mat)\n",
    "\n",
    "# Gera o gráfico da solução aproximada sobre o elemento `e`\n",
    "Plots.plot!(plt, x₁, x₂, mat, seriestype = :surface, alpha=0.5)\n",
    "end\n",
    "end\n",
    "\n",
    "return plt\n",
    "end"
   ]
  },
  {
   "cell_type": "code",
   "execution_count": 278,
   "metadata": {},
   "outputs": [
    {
     "data": {
      "text/plain": [
       "estudo_do_erro (generic function with 1 method)"
      ]
     },
     "metadata": {},
     "output_type": "display_data"
    }
   ],
   "source": [
    "function estudo_do_erro()\n",
    "\t# Carrega os dados de entrada da EDP\n",
    "    α, β, f, u = exemplo1()\n",
    "\n",
    "    # Define os valores para Nx1 (subdivisões em x₁) e Nx2 (subdivisões em x₂)\n",
    "    vec_Nx1 = [2^i for i in 2:9]\n",
    "    vec_Nx2 = vec_Nx1\n",
    "\n",
    "    # Calcula os valores de `h` para cada combinação de vec_Nx1[i] e vec_Nx2[i]\n",
    "    vec_h = sqrt.( (1 ./ vec_Nx1).^2 + (1 ./ vec_Nx2).^2 )\n",
    "\n",
    "    # Inicializa o vetor para armazenar os erros da norma L2\n",
    "    vec_erro = zeros(length(vec_Nx1))\n",
    "\n",
    "    # Loop sobre os valores de Nx1 e Nx2\n",
    "    for i = 1:length(vec_Nx1)\n",
    "        Nx1 = vec_Nx1[i]\n",
    "        Nx2 = vec_Nx2[i]\n",
    "\n",
    "        # Gera a matriz de conectividade local/global (LG)\n",
    "        LG = monta_LG(Nx1, Nx2)\n",
    "\n",
    "        # Gera o valor de `m` e o vetor `EQ`\n",
    "        m, EQ = monta_EQ(Nx1, Nx2)\n",
    "\n",
    "        # Define a matriz de conectividade EQoLG\n",
    "        EQoLG = EQ[LG]\n",
    "\n",
    "        # Monta a matriz esparsa `K`\n",
    "        @time begin\n",
    "        K = monta_K(α, β, Nx1, Nx2, m, EQoLG)\n",
    "        # Monta o vetor global `F`\n",
    "        F = monta_F(f, Nx1, Nx2, m, EQoLG)\n",
    "\n",
    "        # Resolve o sistema linear Kc = F\n",
    "        c = K \\ F\n",
    "        end\n",
    "\n",
    "        # Calcula o erro na norma L2 entre a solução exata `u` e a solução aproximada\n",
    "        vec_erro[i] = erro_norma_L2(u, [c;0], Nx1, Nx2, EQoLG)\n",
    "    end\n",
    "\n",
    "    return vec_h, vec_erro\n",
    "end"
   ]
  },
  {
   "cell_type": "code",
   "execution_count": 279,
   "metadata": {},
   "outputs": [
    {
     "data": {
      "text/plain": [
       "plot_estudo_do_erro (generic function with 1 method)"
      ]
     },
     "metadata": {},
     "output_type": "display_data"
    }
   ],
   "source": [
    "function plot_estudo_do_erro()\n",
    "\t# Realiza o estudo do erro e mede o tempo de execução\n",
    "\t@time begin\n",
    "\t\tvec_h, vec_erro = estudo_do_erro()\n",
    "\tend\n",
    "\n",
    "    # Cria o gráfico do erro na norma L2 em função de h, diâmetro de cada Ωᵉ\n",
    "    plt = Plots.plot(\n",
    "        vec_h, vec_erro, lw=3, linestyle=:solid, markershape=:circle,\n",
    "        label=\"Erro\", title=\"Estudo do erro\",\n",
    "        xscale=:log10, yscale=:log10, legend=:topleft\n",
    "    )\n",
    "\n",
    "    # Adiciona a curva teórica de h² ao gráfico\n",
    "    Plots.plot!(plt, vec_h, vec_h.^2, lw=3, linestyle=:solid, label=\"h²\")\n",
    "\n",
    "    # Adiciona rótulos aos eixos\n",
    "    Plots.xlabel!(\"h\")\n",
    "    Plots.ylabel!(\"Erro\")\n",
    "\n",
    "    # Exibe uma tabela com os valores de h e erro\n",
    "    display(\"Tabela com os valores de h e erro:\")\n",
    "    display(DataFrame(h=vec_h, erro=vec_erro))\n",
    "\n",
    "\t# Retorna o gráfico \n",
    "\treturn plt\n",
    "end\n"
   ]
  },
  {
   "cell_type": "code",
   "execution_count": 280,
   "metadata": {},
   "outputs": [
    {
     "data": {
      "text/plain": [
       "estudo_do_erro_cuda (generic function with 1 method)"
      ]
     },
     "metadata": {},
     "output_type": "display_data"
    }
   ],
   "source": [
    "function estudo_do_erro_cuda()\n",
    "\t# Carrega os dados de entrada da EDP\n",
    "    α, β, f, u = exemplo1()\n",
    "\n",
    "    # Define os valores para Nx1 (subdivisões em x₁) e Nx2 (subdivisões em x₂)\n",
    "    vec_Nx1 = [2^i for i in 2:9]\n",
    "    vec_Nx2 = vec_Nx1\n",
    "\n",
    "    # Calcula os valores de `h` para cada combinação de vec_Nx1[i] e vec_Nx2[i]\n",
    "    vec_h = sqrt.( (1 ./ vec_Nx1).^2 + (1 ./ vec_Nx2).^2 )\n",
    "\n",
    "    # Inicializa o vetor para armazenar os erros da norma L2\n",
    "    vec_erro = zeros(length(vec_Nx1))\n",
    "\n",
    "    # Loop sobre os valores de Nx1 e Nx2\n",
    "    for i = 1:length(vec_Nx1)\n",
    "        Nx1 = vec_Nx1[i]\n",
    "        Nx2 = vec_Nx2[i]\n",
    "\n",
    "        # Gera a matriz de conectividade local/global (LG)\n",
    "        LG = monta_LG(Nx1, Nx2)\n",
    "\n",
    "        # Gera o valor de `m` e o vetor `EQ`\n",
    "        m, EQ = monta_EQ(Nx1, Nx2)\n",
    "\n",
    "        # Define a matriz de conectividade EQoLG\n",
    "        EQoLG = EQ[LG]\n",
    "\n",
    "        # Monta a matriz esparsa `K`\n",
    "        @time begin\n",
    "        K = monta_K(α, β, Nx1, Nx2, m, EQoLG)\n",
    "        # Monta o vetor global `F`\n",
    "        F = monta_F(f, Nx1, Nx2, m, EQoLG)\n",
    "\n",
    "        # Resolve o sistema linear Kc = F\n",
    "        c = cu(K) \\ cu(F)\n",
    "        end\n",
    "\n",
    "        # Calcula o erro na norma L2 entre a solução exata `u` e a solução aproximada\n",
    "        vec_erro[i] = erro_norma_L2(u, [c;0], Nx1, Nx2, EQoLG)\n",
    "    end\n",
    "\n",
    "    return vec_h, vec_erro\n",
    "end"
   ]
  },
  {
   "cell_type": "code",
   "execution_count": 281,
   "metadata": {},
   "outputs": [
    {
     "data": {
      "text/plain": [
       "plot_estudo_do_erro_cuda (generic function with 1 method)"
      ]
     },
     "metadata": {},
     "output_type": "display_data"
    }
   ],
   "source": [
    "function plot_estudo_do_erro_cuda()\n",
    "\t# Realiza o estudo do erro e mede o tempo de execução\n",
    "\t@time begin\n",
    "\t\tvec_h, vec_erro = estudo_do_erro()\n",
    "\tend\n",
    "\n",
    "    # Cria o gráfico do erro na norma L2 em função de h, diâmetro de cada Ωᵉ\n",
    "    plt = Plots.plot(\n",
    "        vec_h, vec_erro, lw=3, linestyle=:solid, markershape=:circle,\n",
    "        label=\"Erro\", title=\"Estudo do erro\",\n",
    "        xscale=:log10, yscale=:log10, legend=:topleft\n",
    "    )\n",
    "\n",
    "    # Adiciona a curva teórica de h² ao gráfico\n",
    "    Plots.plot!(plt, vec_h, vec_h.^2, lw=3, linestyle=:solid, label=\"h²\")\n",
    "\n",
    "    # Adiciona rótulos aos eixos\n",
    "    Plots.xlabel!(\"h\")\n",
    "    Plots.ylabel!(\"Erro\")\n",
    "\n",
    "    # Exibe uma tabela com os valores de h e erro\n",
    "    display(\"Tabela com os valores de h e erro:\")\n",
    "    display(DataFrame(h=vec_h, erro=vec_erro))\n",
    "\n",
    "\t# Retorna o gráfico \n",
    "\treturn plt\n",
    "end"
   ]
  },
  {
   "cell_type": "code",
   "execution_count": 282,
   "metadata": {},
   "outputs": [
    {
     "name": "stdout",
     "output_type": "stream",
     "text": [
      "  0.023309 seconds (2.40 k allocations: 124.016 KiB, 98.71% compilation time)\n",
      "  0.000412 seconds (513 allocations: 126.891 KiB)\n",
      "  0.000860 seconds (1.68 k allocations: 600.766 KiB)\n",
      "  0.003036 seconds (6.31 k allocations: 2.732 MiB)\n",
      "  0.024097 seconds (24.77 k allocations: 10.418 MiB, 35.58% gc time)\n",
      "  0.220467 seconds (98.50 k allocations: 45.287 MiB, 4.45% gc time)\n",
      "  2.555156 seconds (393.42 k allocations: 194.068 MiB, 0.71% gc time)\n"
     ]
    },
    {
     "ename": "InterruptException",
     "evalue": "InterruptException:",
     "output_type": "error",
     "traceback": [
      "InterruptException:\n",
      "\n",
      "Stacktrace:\n",
      "  [1] _setindex_scalar!(A::SparseMatrixCSC{Float64, Int64}, _v::Float64, _i::Int64, _j::Int64)\n",
      "    @ SparseArrays ~/.julia/juliaup/julia-1.11.0+0.x64.linux.gnu/share/julia/stdlib/v1.11/SparseArrays/src/sparsematrix.jl:3180\n",
      "  [2] setindex!\n",
      "    @ ~/.julia/juliaup/julia-1.11.0+0.x64.linux.gnu/share/julia/stdlib/v1.11/SparseArrays/src/sparsematrix.jl:3178 [inlined]\n",
      "  [3] monta_K(α::Float64, β::Float64, Nx1::Int64, Nx2::Int64, m::Int64, EQoLG::Matrix{Int64})\n",
      "    @ Main ~/Desktop/Elementos-Finitos/jl_notebook_cell_df34fa98e69747e1a8f8a730347b8e2f_X42sZmlsZQ==.jl:24\n",
      "  [4] macro expansion\n",
      "    @ ~/Desktop/Elementos-Finitos/jl_notebook_cell_df34fa98e69747e1a8f8a730347b8e2f_X50sZmlsZQ==.jl:31 [inlined]\n",
      "  [5] macro expansion\n",
      "    @ ./timing.jl:578 [inlined]\n",
      "  [6] estudo_do_erro()\n",
      "    @ Main ~/Desktop/Elementos-Finitos/jl_notebook_cell_df34fa98e69747e1a8f8a730347b8e2f_X50sZmlsZQ==.jl:30\n",
      "  [7] macro expansion\n",
      "    @ ~/Desktop/Elementos-Finitos/jl_notebook_cell_df34fa98e69747e1a8f8a730347b8e2f_X51sZmlsZQ==.jl:4 [inlined]\n",
      "  [8] macro expansion\n",
      "    @ ./timing.jl:578 [inlined]\n",
      "  [9] plot_estudo_do_erro()\n",
      "    @ Main ~/Desktop/Elementos-Finitos/jl_notebook_cell_df34fa98e69747e1a8f8a730347b8e2f_X51sZmlsZQ==.jl:3\n",
      " [10] top-level scope\n",
      "    @ ~/Desktop/Elementos-Finitos/jl_notebook_cell_df34fa98e69747e1a8f8a730347b8e2f_Y114sZmlsZQ==.jl:1"
     ]
    }
   ],
   "source": [
    "plot_estudo_do_erro()"
   ]
  },
  {
   "cell_type": "code",
   "execution_count": 283,
   "metadata": {},
   "outputs": [
    {
     "name": "stdout",
     "output_type": "stream",
     "text": [
      "  0.000231 seconds (217 allocations: 30.406 KiB)\n",
      "  0.000251 seconds (513 allocations: 126.891 KiB)\n",
      "  0.000654 seconds (1.68 k allocations: 600.766 KiB)\n",
      "  0.002596 seconds (6.31 k allocations: 2.732 MiB)\n",
      "  0.017272 seconds (24.75 k allocations: 10.418 MiB)\n",
      "  0.255512 seconds (98.50 k allocations: 45.287 MiB, 18.94% gc time)\n",
      "  2.790905 seconds (393.42 k allocations: 194.068 MiB, 10.04% gc time)\n"
     ]
    },
    {
     "ename": "InterruptException",
     "evalue": "InterruptException:",
     "output_type": "error",
     "traceback": [
      "InterruptException:\n",
      "\n",
      "Stacktrace:\n",
      "  [1] _setindex_scalar!(A::SparseMatrixCSC{Float64, Int64}, _v::Float64, _i::Int64, _j::Int64)\n",
      "    @ SparseArrays ~/.julia/juliaup/julia-1.11.0+0.x64.linux.gnu/share/julia/stdlib/v1.11/SparseArrays/src/sparsematrix.jl:3180\n",
      "  [2] setindex!\n",
      "    @ ~/.julia/juliaup/julia-1.11.0+0.x64.linux.gnu/share/julia/stdlib/v1.11/SparseArrays/src/sparsematrix.jl:3178 [inlined]\n",
      "  [3] monta_K(α::Float64, β::Float64, Nx1::Int64, Nx2::Int64, m::Int64, EQoLG::Matrix{Int64})\n",
      "    @ Main ~/Desktop/Elementos-Finitos/jl_notebook_cell_df34fa98e69747e1a8f8a730347b8e2f_X42sZmlsZQ==.jl:24\n",
      "  [4] macro expansion\n",
      "    @ ~/Desktop/Elementos-Finitos/jl_notebook_cell_df34fa98e69747e1a8f8a730347b8e2f_X50sZmlsZQ==.jl:31 [inlined]\n",
      "  [5] macro expansion\n",
      "    @ ./timing.jl:578 [inlined]\n",
      "  [6] estudo_do_erro()\n",
      "    @ Main ~/Desktop/Elementos-Finitos/jl_notebook_cell_df34fa98e69747e1a8f8a730347b8e2f_X50sZmlsZQ==.jl:30\n",
      "  [7] macro expansion\n",
      "    @ ~/Desktop/Elementos-Finitos/jl_notebook_cell_df34fa98e69747e1a8f8a730347b8e2f_Y112sZmlsZQ==.jl:4 [inlined]\n",
      "  [8] macro expansion\n",
      "    @ ./timing.jl:578 [inlined]\n",
      "  [9] plot_estudo_do_erro_cuda()\n",
      "    @ Main ~/Desktop/Elementos-Finitos/jl_notebook_cell_df34fa98e69747e1a8f8a730347b8e2f_Y112sZmlsZQ==.jl:3\n",
      " [10] top-level scope\n",
      "    @ ~/Desktop/Elementos-Finitos/jl_notebook_cell_df34fa98e69747e1a8f8a730347b8e2f_Y113sZmlsZQ==.jl:1"
     ]
    }
   ],
   "source": [
    "plot_estudo_do_erro_cuda()"
   ]
  },
  {
   "cell_type": "code",
   "execution_count": 284,
   "metadata": {},
   "outputs": [
    {
     "data": {
      "text/plain": [
       "2×3 CuArray{Float32, 2, CUDA.DeviceMemory}:\n",
       " 0.0  0.0  0.0\n",
       " 0.0  0.0  0.0"
      ]
     },
     "metadata": {},
     "output_type": "display_data"
    }
   ],
   "source": [
    "a = CUDA.zeros(2, 3)"
   ]
  },
  {
   "cell_type": "code",
   "execution_count": 285,
   "metadata": {},
   "outputs": [
    {
     "data": {
      "text/plain": [
       "CUDA.HostKernel for add!(CuDeviceVector{Float32, 1}, CuDeviceVector{Float32, 1}, CuDeviceVector{Float32, 1})"
      ]
     },
     "metadata": {},
     "output_type": "display_data"
    }
   ],
   "source": [
    "using CUDA \n",
    "\n",
    "const n = 10 # 1048576, number of elements in 1D arrays\n",
    "const THREADS_PER_BLOCK = 5\n",
    "\n",
    "# create a vector [0.0, 0.0, 0.0...], and send to GPU\n",
    "C = zeros(Float32, n) |> cu \n",
    "\n",
    "# create two vectors, fill them with 1s and 2s, and send to GPU\n",
    "A = fill(1.0f0, n) |> cu \n",
    "B = fill(2.0f0, n) |> cu\n",
    "\n",
    "function add!(c, a, b)\n",
    "    # compute the thread_id\n",
    "    if threadIdx().x == 1\n",
    "        for i = 1:5\n",
    "            @inbounds c[i] = 100\n",
    "        end\n",
    "    end\n",
    "    \n",
    "    x = (blockIdx().x - 1) * blockDim().x + threadIdx().x \n",
    "\n",
    "    # i'th thread should get the i'th elements of a and b \n",
    "    # sum them, and then store them in i'th element of c\n",
    "    @inbounds c[x] = a[x] + b[x]\n",
    "    return\n",
    "end\n",
    "\n",
    "threads = THREADS_PER_BLOCK # 256\n",
    "blocks = n ÷ threads # 4096\n",
    "\n",
    "# launch the kernel with 4096 blocks, of 256 threads each\n",
    "@cuda threads=threads blocks=blocks add!(C, A, B)"
   ]
  },
  {
   "cell_type": "code",
   "execution_count": 286,
   "metadata": {},
   "outputs": [
    {
     "data": {
      "text/plain": [
       "10-element CuArray{Float32, 1, CUDA.DeviceMemory}:\n",
       " 3.0\n",
       " 3.0\n",
       " 3.0\n",
       " 3.0\n",
       " 3.0\n",
       " 3.0\n",
       " 3.0\n",
       " 3.0\n",
       " 3.0\n",
       " 3.0"
      ]
     },
     "metadata": {},
     "output_type": "display_data"
    }
   ],
   "source": [
    "C"
   ]
  },
  {
   "cell_type": "code",
   "execution_count": 287,
   "metadata": {},
   "outputs": [],
   "source": []
  }
 ],
 "metadata": {
  "kernelspec": {
   "display_name": "Julia 1.11.0",
   "language": "julia",
   "name": "julia-1.11"
  },
  "language_info": {
   "file_extension": ".jl",
   "mimetype": "application/julia",
   "name": "julia",
   "version": "1.11.0"
  }
 },
 "nbformat": 4,
 "nbformat_minor": 2
}
