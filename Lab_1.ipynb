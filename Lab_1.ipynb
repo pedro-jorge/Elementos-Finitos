{
 "cells": [
  {
   "cell_type": "code",
   "execution_count": 545,
   "metadata": {},
   "outputs": [],
   "source": [
    "import numpy as np\n",
    "from typing import * \n",
    "import matplotlib.pyplot as plt\n",
    "\n",
    "from numpy import pi, sin, e\n",
    "\n",
    "alpha = 1\n",
    "beta = 1\n",
    "\n",
    "u_0 = 0\n",
    "u_1 = 0\n",
    "\n",
    "n = 100\n",
    "\n",
    "example_1 = dict(\n",
    "    alpha = 1, \n",
    "    beta = 1, \n",
    "    f = lambda x: -2*alpha + beta*x*(x-1),\n",
    "    range = [0, 1],\n",
    "    u_0 = 0,\n",
    "    u_1 = 0,\n",
    "    n = n\n",
    ")\n",
    "\n",
    "example_2 = dict(\n",
    "    alpha = 1, \n",
    "    beta = 1, \n",
    "    f = lambda x: alpha*pi**2*sin(pi*x) + beta*sin(pi*x),\n",
    "    range = [0, 1],\n",
    "    u_0 = 0,\n",
    "    u_1 = 0,\n",
    "    n = n\n",
    ")\n",
    "\n",
    "example_3 = dict(\n",
    "        alpha = 1,\n",
    "        beta = 0, \n",
    "        range = [0, 1],\n",
    "        n = n,\n",
    "        f = lambda h, x: 8*h * np.ones(len(x))\n",
    ")\n",
    "\n",
    "example_4 = dict(\n",
    "    alpha = 1,\n",
    "    beta = 1,\n",
    "    range = [0, 1],\n",
    "    n = n,\n",
    "    f = lambda h, x: h*x\n",
    ")"
   ]
  },
  {
   "cell_type": "code",
   "execution_count": 546,
   "metadata": {},
   "outputs": [],
   "source": [
    "def plot(x: np.ndarray, u_k: np.ndarray, u_x: np.ndarray) -> None:\n",
    "    \"\"\"\n",
    "    Args:\n",
    "        x (np.ndarray): valores do domínio\n",
    "        u_k (np.ndarray): valores calculados pelo método das diferenças finitas\n",
    "        u_x (np.ndarray): valores reais da função nos pontos do domínio\n",
    "    \"\"\"\n",
    "    plt.scatter(x, u_x, label=\"u(x)\")\n",
    "    plt.scatter(x, u_k, label=\"u_k\")\n",
    "    plt.legend()\n",
    "\n",
    "    plt.show()"
   ]
  },
  {
   "cell_type": "markdown",
   "metadata": {},
   "source": [
    "### Diferenças Finitas"
   ]
  },
  {
   "cell_type": "code",
   "execution_count": 547,
   "metadata": {},
   "outputs": [],
   "source": [
    "def finite_difference(alpha: float, \n",
    "                      beta: float, \n",
    "                      f: Callable,\n",
    "                      range: List,\n",
    "                      u_0: float, \n",
    "                      u_1: float,\n",
    "                      n: float) -> np.ndarray:\n",
    "    \"\"\"\n",
    "    Args:\n",
    "        alpha (float): parâmetro alpha das equações\n",
    "        beta (float): parâmetro beta das equações\n",
    "        f (Callable): função f das equações\n",
    "        range (List): domínio do problema\n",
    "        u_0 (float): valor u_0 de contorno (no ponto 0)\n",
    "        u_1 (float): valor u_1 de contorno (no ponto 1)\n",
    "        h (float): tamanho do passo\n",
    "\n",
    "    Returns:\n",
    "        np.ndarray: _description_\n",
    "    \"\"\"\n",
    "    h = 1 / (n+1)\n",
    "    x = np.arange(range[0] + h, range[1], h)\n",
    "\n",
    "    diagonal = (2*alpha + beta*h**2) / h**2 * np.ones(n)\n",
    "    lower_diagonal = -alpha/h**2 * np.ones(n-1)\n",
    "    upper_diagonal = -alpha /h**2 * np.ones(n-1)\n",
    "    \n",
    "    A = np.diag(diagonal)\n",
    "    A += np.diag(upper_diagonal, k=1)\n",
    "    A += np.diag(lower_diagonal, k=-1)\n",
    "\n",
    "    b = f(x)\n",
    "    \n",
    "    return x, np.linalg.solve(A, b)\n",
    "\n",
    "\n",
    "def finite_difference_error(u: np.ndarray, u_k: np.ndarray):\n",
    "    return np.linalg.norm(u - u_k) / np.linalg.norm(u)"
   ]
  },
  {
   "cell_type": "markdown",
   "metadata": {},
   "source": [
    "### Exemplo 1"
   ]
  },
  {
   "cell_type": "code",
   "execution_count": 548,
   "metadata": {},
   "outputs": [
    {
     "data": {
      "image/png": "[encoded data removed]",
      "text/plain": [
       "<Figure size 640x480 with 1 Axes>"
      ]
     },
     "metadata": {},
     "output_type": "display_data"
    },
    {
     "name": "stdout",
     "output_type": "stream",
     "text": [
      "Erro: 3.3351656359529826e-13\n"
     ]
    }
   ],
   "source": [
    "def u(x):\n",
    "    return x*(x-1)\n",
    "\n",
    "x, u_k = finite_difference(**example_1)\n",
    "u_x = u(x)\n",
    "relative_error = finite_difference_error(u(x), u_k)\n",
    "\n",
    "\n",
    "plot(x, u_k, u_x)\n",
    "print(f\"Erro: {relative_error}\")"
   ]
  },
  {
   "cell_type": "markdown",
   "metadata": {},
   "source": [
    "### Exemplo 2"
   ]
  },
  {
   "cell_type": "code",
   "execution_count": 549,
   "metadata": {},
   "outputs": [
    {
     "data": {
      "image/png": "[encoded data removed]",
      "text/plain": [
       "<Figure size 640x480 with 1 Axes>"
      ]
     },
     "metadata": {},
     "output_type": "display_data"
    },
    {
     "name": "stdout",
     "output_type": "stream",
     "text": [
      "Erro: 7.321154111702462e-05\n"
     ]
    }
   ],
   "source": [
    "def u(x):\n",
    "    return sin(pi*x)\n",
    "\n",
    "x, u_k = finite_difference(**example_2)\n",
    "u_x = u(x)\n",
    "relative_error = finite_difference_error(u(x), u_k)\n",
    "\n",
    "\n",
    "plot(x, u_k, u_x)\n",
    "print(f\"Erro: {relative_error}\")"
   ]
  },
  {
   "cell_type": "markdown",
   "metadata": {},
   "source": [
    "### Método de Galerkin"
   ]
  },
  {
   "cell_type": "code",
   "execution_count": 550,
   "metadata": {},
   "outputs": [],
   "source": [
    "def galerkin(alpha: float,\n",
    "             beta: float, \n",
    "             range: List,\n",
    "             n: float,\n",
    "             f: Callable) -> np.ndarray:\n",
    "    h = 1 / (n+1)\n",
    "    x = np.arange(range[0] + h, range[1], h)\n",
    "    \n",
    "    diagonal = 2*alpha/h + 2*beta*h/3 * np.ones(n)\n",
    "    lower_diagonal = -alpha/h + beta*h/6 * np.ones(n-1)\n",
    "    upper_diagonal = -alpha/h + beta*h/6 * np.ones(n-1)\n",
    "    \n",
    "    K = np.diag(diagonal)\n",
    "    K += np.diag(upper_diagonal, k=1)\n",
    "    K += np.diag(lower_diagonal, k=-1)\n",
    "\n",
    "    return x, np.linalg.solve(K, f(h, x)), h\n",
    "\n",
    "def galerkin_error(u: Callable, c: np.ndarray, h: float):\n",
    "    return np.max(np.abs(u(np.arange(h, 1, h))) - c)"
   ]
  },
  {
   "cell_type": "markdown",
   "metadata": {},
   "source": [
    "### Exemplo 3"
   ]
  },
  {
   "cell_type": "code",
   "execution_count": 551,
   "metadata": {},
   "outputs": [
    {
     "name": "stdout",
     "output_type": "stream",
     "text": [
      "Erro: 9.992007221626409e-16\n"
     ]
    }
   ],
   "source": [
    "def u(x):\n",
    "    return 4*x*(x-1)\n",
    "\n",
    "x, c, h = galerkin(**example_3)\n",
    "\n",
    "relative_error = galerkin_error(u, c, h)\n",
    "\n",
    "print(f\"Erro: {relative_error}\")"
   ]
  },
  {
   "cell_type": "code",
   "execution_count": 552,
   "metadata": {},
   "outputs": [
    {
     "data": {
      "image/png": "[encoded data removed]",
      "text/plain": [
       "<Figure size 640x480 with 1 Axes>"
      ]
     },
     "metadata": {},
     "output_type": "display_data"
    }
   ],
   "source": [
    "n_list = []\n",
    "errors = []\n",
    "\n",
    "for n in range(2, 101):\n",
    "    example_3[\"n\"] = n \n",
    "    try:\n",
    "        x, c, h = galerkin(**example_3)\n",
    "        n_list.append(n)\n",
    "        errors.append(galerkin_error(u, c, h))\n",
    "    except:\n",
    "        continue\n",
    "\n",
    "plt.scatter(n_list, errors)\n",
    "plt.show()"
   ]
  },
  {
   "cell_type": "code",
   "execution_count": 553,
   "metadata": {},
   "outputs": [
    {
     "data": {
      "text/plain": [
       "[1.1102230246251565e-16,\n",
       " 1.1102230246251565e-16,\n",
       " 1.1102230246251565e-16,\n",
       " 3.3306690738754696e-16,\n",
       " 4.440892098500626e-16,\n",
       " -1.6653345369377348e-16,\n",
       " 4.440892098500626e-16,\n",
       " -1.6653345369377348e-16,\n",
       " -1.3877787807814457e-16,\n",
       " 1.1102230246251565e-16,\n",
       " 4.440892098500626e-16,\n",
       " 1.5543122344752192e-15,\n",
       " 2.220446049250313e-16,\n",
       " 1.6653345369377348e-16,\n",
       " 1.4432899320127035e-15,\n",
       " 1.942890293094024e-16,\n",
       " -1.1102230246251565e-16,\n",
       " 0.0,\n",
       " 4.440892098500626e-16,\n",
       " -5.551115123125783e-17,\n",
       " 1.2212453270876722e-15,\n",
       " 3.1086244689504383e-15,\n",
       " 1.2212453270876722e-15,\n",
       " 1.1102230246251565e-15,\n",
       " 4.107825191113079e-15,\n",
       " 6.661338147750939e-16,\n",
       " 2.220446049250313e-15,\n",
       " 3.774758283725532e-15,\n",
       " -1.3877787807814457e-16,\n",
       " -1.249000902703301e-16,\n",
       " -3.885780586188048e-16,\n",
       " -2.7755575615628914e-17,\n",
       " 2.55351295663786e-15,\n",
       " 9.992007221626409e-16,\n",
       " 8.881784197001252e-16,\n",
       " 5.551115123125783e-17,\n",
       " 6.661338147750939e-16,\n",
       " 5.329070518200751e-15,\n",
       " 3.3306690738754696e-15,\n",
       " -9.71445146547012e-17,\n",
       " 4.6629367034256575e-15,\n",
       " 1.887379141862766e-15,\n",
       " 0.0,\n",
       " 1.2212453270876722e-15,\n",
       " -1.3877787807814457e-16,\n",
       " 2.1094237467877974e-15,\n",
       " 4.163336342344337e-17,\n",
       " 3.3306690738754696e-16,\n",
       " -3.191891195797325e-16,\n",
       " 2.220446049250313e-16,\n",
       " 1.1879386363489175e-14,\n",
       " 9.547918011776346e-15,\n",
       " 5.329070518200751e-15,\n",
       " 4.6629367034256575e-15,\n",
       " 3.6637359812630166e-15,\n",
       " 3.774758283725532e-15,\n",
       " 5.551115123125783e-16,\n",
       " 1.1546319456101628e-14,\n",
       " 5.218048215738236e-15,\n",
       " -9.71445146547012e-17,\n",
       " 9.769962616701378e-15,\n",
       " -1.8735013540549517e-16,\n",
       " 8.770761894538737e-15,\n",
       " 3.6637359812630166e-15,\n",
       " -1.6653345369377348e-16,\n",
       " 1.249000902703301e-16,\n",
       " 3.4416913763379853e-15,\n",
       " 1.5543122344752192e-15,\n",
       " -1.457167719820518e-16,\n",
       " 2.1094237467877974e-15,\n",
       " 6.106226635438361e-16,\n",
       " 2.220446049250313e-16,\n",
       " 4.3298697960381105e-15,\n",
       " 4.218847493575595e-15,\n",
       " 3.9968028886505635e-15,\n",
       " 4.163336342344337e-17,\n",
       " 1.609823385706477e-14,\n",
       " -1.942890293094024e-16,\n",
       " 1.0658141036401503e-14,\n",
       " 8.881784197001252e-16,\n",
       " 1.2212453270876722e-15,\n",
       " 9.103828801926284e-15,\n",
       " -1.5265566588595902e-16,\n",
       " -1.249000902703301e-16,\n",
       " 1.887379141862766e-15,\n",
       " 9.992007221626409e-16]"
      ]
     },
     "execution_count": 553,
     "metadata": {},
     "output_type": "execute_result"
    }
   ],
   "source": [
    "errors"
   ]
  },
  {
   "cell_type": "markdown",
   "metadata": {},
   "source": [
    "### Exemplo 4"
   ]
  },
  {
   "cell_type": "code",
   "execution_count": 554,
   "metadata": {},
   "outputs": [
    {
     "name": "stdout",
     "output_type": "stream",
     "text": [
      "Erro: -1.0771415215717409e-08\n"
     ]
    }
   ],
   "source": [
    "def u(x):\n",
    "    return x + (e**-x - e**x) / (e - e**-1)\n",
    "\n",
    "x, c, h = galerkin(**example_4)\n",
    "\n",
    "relative_error = galerkin_error(u, c, h)\n",
    "\n",
    "print(f\"Erro: {relative_error}\")"
   ]
  },
  {
   "cell_type": "code",
   "execution_count": 555,
   "metadata": {},
   "outputs": [
    {
     "data": {
      "image/png": "[encoded data removed]",
      "text/plain": [
       "<Figure size 640x480 with 1 Axes>"
      ]
     },
     "metadata": {},
     "output_type": "display_data"
    }
   ],
   "source": [
    "n_list = []\n",
    "errors = []\n",
    "\n",
    "for n in range(2, 101):\n",
    "    example_4[\"n\"] = n \n",
    "    try:\n",
    "        x, c, h = galerkin(**example_4)\n",
    "        n_list.append(n)\n",
    "        errors.append(galerkin_error(u, c, h))\n",
    "    except:\n",
    "        continue\n",
    "\n",
    "plt.scatter(n_list, errors)\n",
    "plt.show()"
   ]
  },
  {
   "cell_type": "code",
   "execution_count": 556,
   "metadata": {},
   "outputs": [
    {
     "data": {
      "text/plain": [
       "[-0.00016489881158654462,\n",
       " -8.60135948627036e-05,\n",
       " -2.141392426038835e-05,\n",
       " -1.5078584531435374e-05,\n",
       " -1.1012545030709281e-05,\n",
       " -8.28513734906465e-06,\n",
       " -6.38825074229625e-06,\n",
       " -5.028560798692877e-06,\n",
       " -3.2771640797978063e-06,\n",
       " -2.701430799906951e-06,\n",
       " -2.2529815466229564e-06,\n",
       " -1.898510594853034e-06,\n",
       " -1.3846446476175125e-06,\n",
       " -1.1963239082745172e-06,\n",
       " -1.0406543747105632e-06,\n",
       " -9.108571330631102e-07,\n",
       " -7.094332562318853e-07,\n",
       " -6.307426110721895e-07,\n",
       " -4.546486695768126e-07,\n",
       " -4.10707268444499e-07,\n",
       " -3.72250085761347e-07,\n",
       " -3.384476446035775e-07,\n",
       " -3.0861655848663655e-07,\n",
       " -2.8219037651391887e-07,\n",
       " -2.5869689100187915e-07,\n",
       " -2.3774034324172688e-07,\n",
       " -2.1898736417020476e-07,\n",
       " -2.021557972339827e-07,\n",
       " -1.8700575024318059e-07,\n",
       " -1.7333239053438088e-07,\n",
       " -1.6096010967223823e-07,\n",
       " -1.4973777400905525e-07,\n",
       " -1.3953483440475728e-07,\n",
       " -1.3023813007304735e-07,\n",
       " -1.2174924424917036e-07,\n",
       " -1.139823120662603e-07,\n",
       " -1.0686219088741275e-07,\n",
       " -1.0032293112482299e-07,\n",
       " -9.430648984128098e-08,\n",
       " -8.876164724752611e-08,\n",
       " -8.364308825680594e-08,\n",
       " -7.891062465134949e-08,\n",
       " -7.452852929029294e-08,\n",
       " -6.669152359918898e-08,\n",
       " -6.318275524259606e-08,\n",
       " -5.991586077584363e-08,\n",
       " -5.687035329075482e-08,\n",
       " -5.4027793635648413e-08,\n",
       " -5.1371554515931145e-08,\n",
       " -4.8886617537088894e-08,\n",
       " -4.655939387374422e-08,\n",
       " -4.232995894906319e-08,\n",
       " -4.040640405687107e-08,\n",
       " -3.8597649805027084e-08,\n",
       " -3.689525730852378e-08,\n",
       " -3.529152324804191e-08,\n",
       " -3.377940215043562e-08,\n",
       " -3.2352445569761024e-08,\n",
       " -3.100474104626022e-08,\n",
       " -2.8525822507938225e-08,\n",
       " -2.7385034314427598e-08,\n",
       " -2.6304272116809552e-08,\n",
       " -2.5279638953771416e-08,\n",
       " -2.43075373015586e-08,\n",
       " -2.3384644954813072e-08,\n",
       " -2.2507885526082752e-08,\n",
       " -2.1674413506816634e-08,\n",
       " -2.0881588844341714e-08,\n",
       " -2.0126964928902924e-08,\n",
       " -1.9408267153565167e-08,\n",
       " -1.807034878025318e-08,\n",
       " -1.744733229116016e-08,\n",
       " -1.6852628991316856e-08,\n",
       " -1.6284649509944182e-08,\n",
       " -1.5741908270840155e-08,\n",
       " -1.522301945524468e-08,\n",
       " -1.472668720845817e-08,\n",
       " -1.4251698672541543e-08,\n",
       " -1.3796919457603751e-08,\n",
       " -1.336128472141998e-08,\n",
       " -1.2943799095272226e-08,\n",
       " -1.2159589234160897e-08,\n",
       " -1.1791162047181808e-08,\n",
       " -1.1437469569532122e-08,\n",
       " -1.1097782871057754e-08,\n",
       " -1.0771415215717409e-08]"
      ]
     },
     "execution_count": 556,
     "metadata": {},
     "output_type": "execute_result"
    }
   ],
   "source": [
    "errors"
   ]
  },
  {
   "cell_type": "code",
   "execution_count": null,
   "metadata": {},
   "outputs": [],
   "source": []
  }
 ],
 "metadata": {
  "kernelspec": {
   "display_name": "base",
   "language": "python",
   "name": "python3"
  },
  "language_info": {
   "codemirror_mode": {
    "name": "ipython",
    "version": 3
   },
   "file_extension": ".py",
   "mimetype": "text/x-python",
   "name": "python",
   "nbconvert_exporter": "python",
   "pygments_lexer": "ipython3",
   "version": "3.11.4"
  }
 },
 "nbformat": 4,
 "nbformat_minor": 2
}
